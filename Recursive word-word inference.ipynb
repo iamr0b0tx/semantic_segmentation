{
 "cells": [
  {
   "cell_type": "markdown",
   "metadata": {},
   "source": [
    "#### autoreload modules and utilities"
   ]
  },
  {
   "cell_type": "code",
   "execution_count": 1,
   "metadata": {},
   "outputs": [],
   "source": [
    "%load_ext autoreload\n",
    "%autoreload 2"
   ]
  },
  {
   "cell_type": "markdown",
   "metadata": {},
   "source": [
    "#### import all neceesary libraries/packages"
   ]
  },
  {
   "cell_type": "code",
   "execution_count": 126,
   "metadata": {},
   "outputs": [],
   "source": [
    "import joblib\n",
    "\n",
    "import numpy as np \n",
    "import pandas as pd\n",
    "\n",
    "import swifter\n",
    "from tqdm.notebook import tqdm\n",
    "import matplotlib.pyplot as plt \n",
    "\n",
    "from sklearn.datasets import fetch_20newsgroups\n",
    "from sklearn.model_selection import StratifiedShuffleSplit\n",
    "\n",
    "from sklearn.pipeline import Pipeline \n",
    "from sklearn.naive_bayes import MultinomialNB\n",
    "from sklearn.feature_extraction.text import CountVectorizer, TfidfTransformer\n",
    "\n",
    "from sklearn.metrics import classification_report, accuracy_score\n",
    "from sklearn.metrics import f1_score as calculate_f1_score\n",
    "from sklearn.model_selection import train_test_split, StratifiedKFold "
   ]
  },
  {
   "cell_type": "markdown",
   "metadata": {},
   "source": [
    "#### Utility functions"
   ]
  },
  {
   "cell_type": "code",
   "execution_count": 109,
   "metadata": {},
   "outputs": [],
   "source": [
    "## utilities\n",
    "# from utils import clean_text\n",
    "\n",
    "import string\n",
    "\n",
    "from sklearn.base import TransformerMixin\n",
    "\n",
    "import nltk\n",
    "from nltk import word_tokenize\n",
    "from nltk.stem import WordNetLemmatizer\n",
    "\n",
    "\n",
    "# nltk.download('stopwords')\n",
    "# nltk.download('wordnet')\n",
    "\n",
    "wordnet_lemmatizer = WordNetLemmatizer()\n",
    "# wordnet_lemmatizer.lemmatize\n",
    "\n",
    "def clean_text(text: str, lemmatize = None) -> str:\n",
    "    # removes upper cases\n",
    "    text = text.lower()\n",
    "    \n",
    "    # removes punctuation\n",
    "    for char in string.punctuation:\n",
    "        text = text.replace(char, \"\")\n",
    "    \n",
    "    #lematize the words and join back into string text\n",
    "    if lemmatize is not None:\n",
    "        text = \" \".join([lemmatize(word) for word in word_tokenize(text)])\n",
    "        \n",
    "    return text\n",
    "\n",
    "def calculate_sparsity(matrix):\n",
    "    non_zero = np.count_nonzero(matrix)\n",
    "    total_val = np.product(matrix.shape)\n",
    "    sparsity = (total_val - non_zero) / total_val\n",
    "    return sparsity\n",
    "\n",
    "def data_isvalid(text, min_character_size, max_character_size):\n",
    "    return min_character_size <= len(clean_text(text)) <= max_character_size \n",
    "\n",
    "def get_pipeline(count_vectorizer, classifier, rwi_transformer=None, tfidf_transformer=None):\n",
    "    models = [('vectorizer', count_vectorizer)]\n",
    "    \n",
    "    if tfidf_transformer is not None:\n",
    "        models.append(('tfidf_transformer', tfidf_transformer))\n",
    "        \n",
    "    models.append(\n",
    "        ('dense', DenseTransformer(count_vectorizer=count_vectorizer))\n",
    "    )\n",
    "    \n",
    "    if rwi_transformer is not None:\n",
    "        models.append(('rwi_transformer', rwi_transformer))\n",
    "    \n",
    "    models.append(('classifier', classifier))\n",
    "    return Pipeline(models)\n",
    "\n",
    "def get_model(tfidf=False, rwi=False, return_rwi_transformer=False):\n",
    "    count_vectorizer = CountVectorizer(stop_words=\"english\")\n",
    "    tfidf_transformer = TfidfTransformer() if tfidf else None\n",
    "    rwi_transformer = RWITransformer(depth=1) if rwi else None\n",
    "    classifier = MultinomialNB()\n",
    "    \n",
    "    if return_rwi_transformer:\n",
    "        return get_pipeline(count_vectorizer, classifier, rwi_transformer, tfidf_transformer), rwi_transformer\n",
    "    \n",
    "    # normal model\n",
    "    return get_pipeline(count_vectorizer, classifier, rwi_transformer, tfidf_transformer)\n",
    "\n",
    "class DenseTransformer(TransformerMixin):\n",
    "    def __init__(self, count_vectorizer):\n",
    "        self.count_vectorizer = count_vectorizer\n",
    "        \n",
    "    def fit(self, X, y=None, **fit_params):\n",
    "        return self\n",
    "\n",
    "    def transform(self, X, y=None, **fit_params):\n",
    "        return pd.DataFrame(data=X.todense(), columns=self.count_vectorizer.get_feature_names())\n",
    "    \n",
    "    def __str__(self):\n",
    "        return \"DenseTransformer()\"\n",
    "    \n",
    "    def __repr__(self):\n",
    "        return self.__str__()\n",
    "    \n",
    "class RWITransformer(TransformerMixin):\n",
    "    def __init__(self, depth=1):\n",
    "        self.depth = depth\n",
    "    \n",
    "    @staticmethod\n",
    "    def _max_weight(x, pbar, word_word_pr_distr_prime):\n",
    "        pbar.update(1)\n",
    "        return word_word_pr_distr_prime.apply(lambda y: x*y, axis=0).max(0)\n",
    "    \n",
    "    @staticmethod\n",
    "    def _sum_weight(x, pbar, word_word_pr_distr_prime):\n",
    "        pbar.update(1)\n",
    "        return word_word_pr_distr_prime.apply(lambda y: x*y, axis=0).sum(0)\n",
    "\n",
    "    def fit(self, X, y=None, **fit_params):\n",
    "        word_doc_count = X.sum(0)\n",
    "        word_word_pr_distr = pd.DataFrame(data=0.0, columns=X.columns, index=X.columns)\n",
    "        \n",
    "        print(\"creating term-term co-occurence matrix\")\n",
    "        for column in tqdm(X.columns):\n",
    "            pxy = X[X[column] > 0].sum(0) / word_doc_count[column]\n",
    "            word_word_pr_distr[column] = pxy * (word_doc_count[column] / word_doc_count)\n",
    "        \n",
    "        print(f\"creating a richer term-term co-occurence matrix using recursive term-term pr, depth = {self.depth}\")\n",
    "        word_word_pr_distr_prime = word_word_pr_distr.copy()\n",
    "        with tqdm(total=len(X.columns)*self.depth) as pbar:\n",
    "            for _ in range(self.depth):\n",
    "                word_word_pr_distr_prime = word_word_pr_distr_prime.swifter.apply(\n",
    "                    self._max_weight, axis=1, args=(pbar, word_word_pr_distr_prime)\n",
    "                )\n",
    "                \n",
    "        \n",
    "        # scale to integers\n",
    "        min_value = word_word_pr_distr_prime[word_word_pr_distr_prime > 0].min().min()\n",
    "        word_word_pr_distr_prime_scale = word_word_pr_distr_prime / min_value\n",
    "\n",
    "        # to int and aproximated to nearest integer\n",
    "        word_word_pr_distr_prime_scale = np.rint(word_word_pr_distr_prime_scale).astype(int)\n",
    "        \n",
    "        self.word_word_pr_distr = word_word_pr_distr\n",
    "        self.word_word_pr_distr_prime = word_word_pr_distr_prime\n",
    "        self.word_word_pr_distr_prime_scale = word_word_pr_distr_prime_scale\n",
    "        return self\n",
    "\n",
    "    def transform(self, X, y=None, **fit_params):\n",
    "        with tqdm(total=X.shape[0]) as pbar:\n",
    "            X = X.apply(self._sum_weight, axis=1, args=(pbar, self.word_word_pr_distr_prime_scale))\n",
    "        return X\n",
    "    \n",
    "    def __str__(self):\n",
    "        return \"DenseTransformer()\"\n",
    "    \n",
    "    def __repr__(self):\n",
    "        return self.__str__()"
   ]
  },
  {
   "cell_type": "markdown",
   "metadata": {},
   "source": [
    "# Load Data"
   ]
  },
  {
   "cell_type": "code",
   "execution_count": 4,
   "metadata": {},
   "outputs": [],
   "source": [
    "# total number of samples needed\n",
    "randomize = False\n",
    "\n",
    "# retrieve dataset\n",
    "categories = ['rec.autos', 'talk.politics.mideast', 'alt.atheism', 'sci.space']\n",
    "\n",
    "all_docs = fetch_20newsgroups(subset='train', shuffle=randomize, remove=('headers', 'footers', 'quotes'), categories=categories)\n",
    "categories = all_docs.target_names"
   ]
  },
  {
   "cell_type": "code",
   "execution_count": 5,
   "metadata": {},
   "outputs": [
    {
     "name": "stdout",
     "output_type": "stream",
     "text": [
      "\n",
      "\n",
      "I think that domestication will change behavior to a large degree.\n",
      "Domesticated animals exhibit behaviors not found in the wild.  I\n",
      "don't think that they can be viewed as good representatives of the\n",
      "wild animal kingdom, since they have been bred for thousands of years\n",
      "to produce certain behaviors, etc.\n"
     ]
    }
   ],
   "source": [
    "print(all_docs.data[0])"
   ]
  },
  {
   "cell_type": "markdown",
   "metadata": {},
   "source": [
    "### Create Dataframe"
   ]
  },
  {
   "cell_type": "code",
   "execution_count": 6,
   "metadata": {},
   "outputs": [
    {
     "data": {
      "text/html": [
       "<div>\n",
       "<style scoped>\n",
       "    .dataframe tbody tr th:only-of-type {\n",
       "        vertical-align: middle;\n",
       "    }\n",
       "\n",
       "    .dataframe tbody tr th {\n",
       "        vertical-align: top;\n",
       "    }\n",
       "\n",
       "    .dataframe thead th {\n",
       "        text-align: right;\n",
       "    }\n",
       "</style>\n",
       "<table border=\"1\" class=\"dataframe\">\n",
       "  <thead>\n",
       "    <tr style=\"text-align: right;\">\n",
       "      <th></th>\n",
       "      <th>text</th>\n",
       "      <th>label</th>\n",
       "    </tr>\n",
       "  </thead>\n",
       "  <tbody>\n",
       "    <tr>\n",
       "      <th>0</th>\n",
       "      <td>\\n\\nI think that domestication will change beh...</td>\n",
       "      <td>0</td>\n",
       "    </tr>\n",
       "    <tr>\n",
       "      <th>1</th>\n",
       "      <td>\\nI don't like this comment about \"Typical\" th...</td>\n",
       "      <td>3</td>\n",
       "    </tr>\n",
       "    <tr>\n",
       "      <th>2</th>\n",
       "      <td>\\n&lt;apparently you're not a woman - my husband ...</td>\n",
       "      <td>1</td>\n",
       "    </tr>\n",
       "    <tr>\n",
       "      <th>3</th>\n",
       "      <td>While not exactly a service incident, I had a ...</td>\n",
       "      <td>1</td>\n",
       "    </tr>\n",
       "    <tr>\n",
       "      <th>4</th>\n",
       "      <td>\\n\\nI think I can. Largely as a result of effo...</td>\n",
       "      <td>2</td>\n",
       "    </tr>\n",
       "  </tbody>\n",
       "</table>\n",
       "</div>"
      ],
      "text/plain": [
       "                                                text  label\n",
       "0  \\n\\nI think that domestication will change beh...      0\n",
       "1  \\nI don't like this comment about \"Typical\" th...      3\n",
       "2  \\n<apparently you're not a woman - my husband ...      1\n",
       "3  While not exactly a service incident, I had a ...      1\n",
       "4  \\n\\nI think I can. Largely as a result of effo...      2"
      ]
     },
     "execution_count": 6,
     "metadata": {},
     "output_type": "execute_result"
    }
   ],
   "source": [
    "data = pd.DataFrame(\n",
    "    data={\n",
    "        \"text\":all_docs.data, \n",
    "        \"label\":all_docs.target\n",
    "    }\n",
    ")\n",
    "\n",
    "data.head()"
   ]
  },
  {
   "cell_type": "markdown",
   "metadata": {},
   "source": [
    "### Label Frequency"
   ]
  },
  {
   "cell_type": "code",
   "execution_count": 7,
   "metadata": {},
   "outputs": [
    {
     "name": "stdout",
     "output_type": "stream",
     "text": [
      "1    594\n",
      "2    593\n",
      "3    564\n",
      "0    480\n",
      "Name: label, dtype: int64\n",
      "\n"
     ]
    },
    {
     "data": {
      "image/png": "[encoded data removed]",
      "text/plain": [
       "<Figure size 432x288 with 1 Axes>"
      ]
     },
     "metadata": {
      "needs_background": "light"
     },
     "output_type": "display_data"
    }
   ],
   "source": [
    "print(data[\"label\"].value_counts())\n",
    "print()\n",
    "\n",
    "barlist = plt.bar(categories, data[\"label\"].value_counts())\n",
    "\n",
    "plt.title(\"Frequency of documents\")\n",
    "plt.xticks(categories, list(map(lambda x: x.split(\".\")[1], categories)))\n",
    "plt.ylabel('Number of documents')\n",
    "plt.xlabel('Sentiment expressed in Reviews')\n",
    "\n",
    "barlist[0].set_color('red')\n",
    "barlist[1].set_color('green')\n",
    "barlist[2].set_color('blue')\n",
    "barlist[3].set_color('grey')\n",
    "plt.show()"
   ]
  },
  {
   "cell_type": "markdown",
   "metadata": {},
   "source": [
    "The Dataset labels needs to be balanced"
   ]
  },
  {
   "cell_type": "markdown",
   "metadata": {},
   "source": [
    "# Select Valid Data"
   ]
  },
  {
   "cell_type": "code",
   "execution_count": 17,
   "metadata": {
    "scrolled": false
   },
   "outputs": [
    {
     "data": {
      "text/html": [
       "<div>\n",
       "<style scoped>\n",
       "    .dataframe tbody tr th:only-of-type {\n",
       "        vertical-align: middle;\n",
       "    }\n",
       "\n",
       "    .dataframe tbody tr th {\n",
       "        vertical-align: top;\n",
       "    }\n",
       "\n",
       "    .dataframe thead th {\n",
       "        text-align: right;\n",
       "    }\n",
       "</style>\n",
       "<table border=\"1\" class=\"dataframe\">\n",
       "  <thead>\n",
       "    <tr style=\"text-align: right;\">\n",
       "      <th></th>\n",
       "      <th>text</th>\n",
       "      <th>label</th>\n",
       "    </tr>\n",
       "  </thead>\n",
       "  <tbody>\n",
       "    <tr>\n",
       "      <th>19</th>\n",
       "      <td>\\n\\n\\tI agree, we spend too much energy on the...</td>\n",
       "      <td>0</td>\n",
       "    </tr>\n",
       "    <tr>\n",
       "      <th>50</th>\n",
       "      <td>\\n\\n Could you explain what any of the above p...</td>\n",
       "      <td>0</td>\n",
       "    </tr>\n",
       "    <tr>\n",
       "      <th>164</th>\n",
       "      <td>\\nUh oh.  This looks a bit too much like Bobby...</td>\n",
       "      <td>0</td>\n",
       "    </tr>\n",
       "    <tr>\n",
       "      <th>204</th>\n",
       "      <td>Could you explain what any of this pertains to...</td>\n",
       "      <td>0</td>\n",
       "    </tr>\n",
       "    <tr>\n",
       "      <th>215</th>\n",
       "      <td>\\n\\nGood question.  I'm sure some biologist co...</td>\n",
       "      <td>0</td>\n",
       "    </tr>\n",
       "  </tbody>\n",
       "</table>\n",
       "</div>"
      ],
      "text/plain": [
       "                                                  text  label\n",
       "19   \\n\\n\\tI agree, we spend too much energy on the...      0\n",
       "50   \\n\\n Could you explain what any of the above p...      0\n",
       "164  \\nUh oh.  This looks a bit too much like Bobby...      0\n",
       "204  Could you explain what any of this pertains to...      0\n",
       "215  \\n\\nGood question.  I'm sure some biologist co...      0"
      ]
     },
     "execution_count": 17,
     "metadata": {},
     "output_type": "execute_result"
    }
   ],
   "source": [
    "max_size_per_class = 10\n",
    "\n",
    "# remove long text\n",
    "indices = data[\"text\"].apply(data_isvalid, args=(160, 256))\n",
    "data = data[indices]\n",
    "\n",
    "# make classes balanced\n",
    "class_indices = []\n",
    "\n",
    "for index in range(4):\n",
    "    class_indices.append(np.where((data[\"label\"] == index))[0])\n",
    "    \n",
    "size_per_class = min(max_size_per_class, min(map(len, class_indices)))\n",
    "indices = np.concatenate([class_ids[:size_per_class] for class_ids in class_indices])\n",
    "\n",
    "data = data.iloc[indices]\n",
    "\n",
    "data.head()"
   ]
  },
  {
   "cell_type": "code",
   "execution_count": 18,
   "metadata": {},
   "outputs": [
    {
     "name": "stdout",
     "output_type": "stream",
     "text": [
      "\n",
      "\n",
      "\tI agree, we spend too much energy on the nonexistance of God.\n",
      "\n",
      "--\n",
      "\n",
      "\n",
      "       \"Satan and the Angels do not have freewill.  \n",
      "        They do what god tells them to do. \"\n"
     ]
    }
   ],
   "source": [
    "print(data.iloc[0][\"text\"])"
   ]
  },
  {
   "cell_type": "code",
   "execution_count": 19,
   "metadata": {},
   "outputs": [
    {
     "name": "stdout",
     "output_type": "stream",
     "text": [
      "3    10\n",
      "2    10\n",
      "1    10\n",
      "0    10\n",
      "Name: label, dtype: int64\n",
      "\n"
     ]
    },
    {
     "data": {
      "image/png": "[encoded data removed]",
      "text/plain": [
       "<Figure size 432x288 with 1 Axes>"
      ]
     },
     "metadata": {
      "needs_background": "light"
     },
     "output_type": "display_data"
    }
   ],
   "source": [
    "print(data[\"label\"].value_counts())\n",
    "print()\n",
    "\n",
    "barlist = plt.bar(categories, data[\"label\"].value_counts())\n",
    "\n",
    "plt.title(\"Frequency of documents\")\n",
    "plt.xticks(categories, list(map(lambda x: x.split(\".\")[1], categories)))\n",
    "plt.ylabel('Number of documents')\n",
    "plt.xlabel('Sentiment expressed in Reviews')\n",
    "\n",
    "barlist[0].set_color('red')\n",
    "barlist[1].set_color('green')\n",
    "barlist[2].set_color('blue')\n",
    "barlist[3].set_color('grey')\n",
    "plt.show()"
   ]
  },
  {
   "cell_type": "markdown",
   "metadata": {},
   "source": [
    "### initialize input and output"
   ]
  },
  {
   "cell_type": "code",
   "execution_count": 20,
   "metadata": {},
   "outputs": [],
   "source": [
    "X = data[\"text\"]\n",
    "y = data['label']"
   ]
  },
  {
   "cell_type": "markdown",
   "metadata": {},
   "source": [
    "### initialize recursive word infer model"
   ]
  },
  {
   "cell_type": "code",
   "execution_count": 110,
   "metadata": {},
   "outputs": [],
   "source": [
    "rwi_count_model, rwi_transformer = get_model(rwi=True, return_rwi_transformer=True)"
   ]
  },
  {
   "cell_type": "code",
   "execution_count": 111,
   "metadata": {},
   "outputs": [
    {
     "name": "stdout",
     "output_type": "stream",
     "text": [
      "creating term-term co-occurence matrix\n"
     ]
    },
    {
     "data": {
      "application/vnd.jupyter.widget-view+json": {
       "model_id": "3522ac6095d44859899b2319fb0fd3c0",
       "version_major": 2,
       "version_minor": 0
      },
      "text/plain": [
       "HBox(children=(HTML(value=''), FloatProgress(value=0.0, max=528.0), HTML(value='')))"
      ]
     },
     "metadata": {},
     "output_type": "display_data"
    },
    {
     "name": "stdout",
     "output_type": "stream",
     "text": [
      "\n",
      "creating a richer term-term co-occurence matrix using recursive term-term pr, depth = 1\n"
     ]
    },
    {
     "data": {
      "application/vnd.jupyter.widget-view+json": {
       "model_id": "be08912de17a4b6db94af88126f65c71",
       "version_major": 2,
       "version_minor": 0
      },
      "text/plain": [
       "HBox(children=(HTML(value=''), FloatProgress(value=0.0, max=528.0), HTML(value='')))"
      ]
     },
     "metadata": {},
     "output_type": "display_data"
    },
    {
     "data": {
      "application/vnd.jupyter.widget-view+json": {
       "model_id": "0121040864cf492a8bf1bfca1b43dbf2",
       "version_major": 2,
       "version_minor": 0
      },
      "text/plain": [
       "HBox(children=(HTML(value='Pandas Apply'), FloatProgress(value=0.0, max=528.0), HTML(value='')))"
      ]
     },
     "metadata": {},
     "output_type": "display_data"
    },
    {
     "name": "stdout",
     "output_type": "stream",
     "text": [
      "\n",
      "\n"
     ]
    },
    {
     "data": {
      "application/vnd.jupyter.widget-view+json": {
       "model_id": "13aa42dbd28042a795644733c23684d1",
       "version_major": 2,
       "version_minor": 0
      },
      "text/plain": [
       "HBox(children=(HTML(value=''), FloatProgress(value=0.0, max=40.0), HTML(value='')))"
      ]
     },
     "metadata": {},
     "output_type": "display_data"
    },
    {
     "name": "stdout",
     "output_type": "stream",
     "text": [
      "\n"
     ]
    },
    {
     "data": {
      "text/plain": [
       "Pipeline(steps=[('vectorizer', CountVectorizer(stop_words='english')),\n",
       "                ('dense', DenseTransformer()),\n",
       "                ('rwi_transformer', DenseTransformer()),\n",
       "                ('classifier', MultinomialNB())])"
      ]
     },
     "execution_count": 111,
     "metadata": {},
     "output_type": "execute_result"
    }
   ],
   "source": [
    "rwi_count_model.fit(X, y)"
   ]
  },
  {
   "cell_type": "code",
   "execution_count": 112,
   "metadata": {},
   "outputs": [
    {
     "name": "stdout",
     "output_type": "stream",
     "text": [
      "                                           | sparsity | mean   | std\n",
      "-----------------------------------------------------------------------\n",
      "word_word_pr_distr matrix sparsity         | 0.9617   | 0.0325 | 0.0325\n",
      "word_word_pr_distr_prime matrix sparsity   | 0.7085   | 0.0935 | 0.0480\n"
     ]
    }
   ],
   "source": [
    "wwds = calculate_sparsity(rwi_transformer.word_word_pr_distr)\n",
    "wwdm = rwi_transformer.word_word_pr_distr.mean().mean()\n",
    "wwdstd = rwi_transformer.word_word_pr_distr.mean().mean()\n",
    "\n",
    "wwdps = calculate_sparsity(rwi_transformer.word_word_pr_distr_prime)\n",
    "wwdpm = rwi_transformer.word_word_pr_distr_prime.mean().mean()\n",
    "wwdpstd = rwi_transformer.word_word_pr_distr_prime.mean().std()\n",
    "\n",
    "print(\"                                           | sparsity | mean   | std\")\n",
    "print(\"-----------------------------------------------------------------------\")\n",
    "print(f\"word_word_pr_distr matrix sparsity         | {wwds:.4f}   | {wwdm:.4f} | {wwdstd:.4f}\")\n",
    "print(f\"word_word_pr_distr_prime matrix sparsity   | {wwdps:.4f}   | {wwdpm:.4f} | {wwdpstd:.4f}\")"
   ]
  },
  {
   "cell_type": "code",
   "execution_count": 113,
   "metadata": {},
   "outputs": [
    {
     "name": "stdout",
     "output_type": "stream",
     "text": [
      "           space | science          0.0000 0.0000\n",
      "           space | god              0.0000 0.0000\n"
     ]
    }
   ],
   "source": [
    "word = \"space\"\n",
    "given_word1 = \"science\"\n",
    "given_word2 = \"god\"\n",
    "print(\n",
    "    f\"{word:>16s} | {given_word1:16s}\", \n",
    "    f\"{rwi_transformer.word_word_pr_distr[word][given_word1]:.4f}\", \n",
    "    f\"{rwi_transformer.word_word_pr_distr_prime[word][given_word1]:.4f}\"\n",
    ")\n",
    "print(\n",
    "    f\"{word:>16s} | {given_word2:16s}\", \n",
    "    f\"{rwi_transformer.word_word_pr_distr[word][given_word2]:.4f}\", \n",
    "    f\"{rwi_transformer.word_word_pr_distr_prime[word][given_word2]:.4f}\"\n",
    ")"
   ]
  },
  {
   "cell_type": "code",
   "execution_count": 114,
   "metadata": {},
   "outputs": [],
   "source": [
    "# joblib.dump(cv_NB, \"models/multinomial_naive_bayes_with_count_vectorizer.joblib\")"
   ]
  },
  {
   "cell_type": "code",
   "execution_count": 116,
   "metadata": {
    "scrolled": true
   },
   "outputs": [
    {
     "data": {
      "application/vnd.jupyter.widget-view+json": {
       "model_id": "4be0ae6095594352970563f1fe9ffbc1",
       "version_major": 2,
       "version_minor": 0
      },
      "text/plain": [
       "HBox(children=(HTML(value=''), FloatProgress(value=0.0, max=40.0), HTML(value='')))"
      ]
     },
     "metadata": {},
     "output_type": "display_data"
    },
    {
     "name": "stdout",
     "output_type": "stream",
     "text": [
      "\n",
      "              precision    recall  f1-score   support\n",
      "\n",
      "           0       0.69      0.90      0.78        10\n",
      "           1       0.90      0.90      0.90        10\n",
      "           2       0.86      0.60      0.71        10\n",
      "           3       0.80      0.80      0.80        10\n",
      "\n",
      "    accuracy                           0.80        40\n",
      "   macro avg       0.81      0.80      0.80        40\n",
      "weighted avg       0.81      0.80      0.80        40\n",
      "\n"
     ]
    }
   ],
   "source": [
    "y_pred = rwi_count_model.predict(X) #predict testing data\n",
    "print(classification_report(y, y_pred))"
   ]
  },
  {
   "cell_type": "code",
   "execution_count": 118,
   "metadata": {},
   "outputs": [
    {
     "name": "stdout",
     "output_type": "stream",
     "text": [
      "              precision    recall  f1-score   support\n",
      "\n",
      "           0       1.00      1.00      1.00        10\n",
      "           1       1.00      1.00      1.00        10\n",
      "           2       1.00      1.00      1.00        10\n",
      "           3       1.00      1.00      1.00        10\n",
      "\n",
      "    accuracy                           1.00        40\n",
      "   macro avg       1.00      1.00      1.00        40\n",
      "weighted avg       1.00      1.00      1.00        40\n",
      "\n"
     ]
    }
   ],
   "source": [
    "count_model = get_model()\n",
    "count_model.fit(X, y)\n",
    "\n",
    "y_pred = count_model.predict(X) #predict testing data\n",
    "print(classification_report(y, y_pred))"
   ]
  },
  {
   "cell_type": "markdown",
   "metadata": {},
   "source": [
    "### Initialize models"
   ]
  },
  {
   "cell_type": "code",
   "execution_count": 119,
   "metadata": {},
   "outputs": [],
   "source": [
    "# normal model\n",
    "count_model = get_model()\n",
    "tfidf_model = get_model(tfidf=True)\n",
    "\n",
    "# model with inference\n",
    "rwi_tfidf_model = get_model(tfidf=True, rwi=True)\n",
    "rwi_count_model, rwi_transformer = get_model(rwi=True, return_rwi_transformer=True)\n",
    "\n",
    "models = [count_model, tfidf_model, rwi_count_model, rwi_tfidf_model]"
   ]
  },
  {
   "cell_type": "markdown",
   "metadata": {},
   "source": [
    "### Running Cross validation on all Models"
   ]
  },
  {
   "cell_type": "code",
   "execution_count": 127,
   "metadata": {},
   "outputs": [
    {
     "name": "stdout",
     "output_type": "stream",
     "text": [
      "(26,) (26,) (14,) (14,)\n",
      "creating term-term co-occurence matrix\n"
     ]
    },
    {
     "data": {
      "application/vnd.jupyter.widget-view+json": {
       "model_id": "98c7c0cf5a6542098ce4bf8e55bb57d0",
       "version_major": 2,
       "version_minor": 0
      },
      "text/plain": [
       "HBox(children=(HTML(value=''), FloatProgress(value=0.0, max=373.0), HTML(value='')))"
      ]
     },
     "metadata": {},
     "output_type": "display_data"
    },
    {
     "name": "stdout",
     "output_type": "stream",
     "text": [
      "\n",
      "creating a richer term-term co-occurence matrix using recursive term-term pr, depth = 1\n"
     ]
    },
    {
     "data": {
      "application/vnd.jupyter.widget-view+json": {
       "model_id": "38750388169f49e595dcc07544547e7a",
       "version_major": 2,
       "version_minor": 0
      },
      "text/plain": [
       "HBox(children=(HTML(value=''), FloatProgress(value=0.0, max=373.0), HTML(value='')))"
      ]
     },
     "metadata": {},
     "output_type": "display_data"
    },
    {
     "data": {
      "application/vnd.jupyter.widget-view+json": {
       "model_id": "bad7ef99c9864a5db00a1c7e8bc96d37",
       "version_major": 2,
       "version_minor": 0
      },
      "text/plain": [
       "HBox(children=(HTML(value='Pandas Apply'), FloatProgress(value=0.0, max=373.0), HTML(value='')))"
      ]
     },
     "metadata": {},
     "output_type": "display_data"
    },
    {
     "name": "stdout",
     "output_type": "stream",
     "text": [
      "\n",
      "\n"
     ]
    },
    {
     "data": {
      "application/vnd.jupyter.widget-view+json": {
       "model_id": "ceea62cfd5aa46ee8be4504816ccbf1e",
       "version_major": 2,
       "version_minor": 0
      },
      "text/plain": [
       "HBox(children=(HTML(value=''), FloatProgress(value=0.0, max=26.0), HTML(value='')))"
      ]
     },
     "metadata": {},
     "output_type": "display_data"
    },
    {
     "name": "stdout",
     "output_type": "stream",
     "text": [
      "\n"
     ]
    },
    {
     "data": {
      "application/vnd.jupyter.widget-view+json": {
       "model_id": "d028a40dc4c640e581dd69a0b68d5e97",
       "version_major": 2,
       "version_minor": 0
      },
      "text/plain": [
       "HBox(children=(HTML(value=''), FloatProgress(value=0.0, max=14.0), HTML(value='')))"
      ]
     },
     "metadata": {},
     "output_type": "display_data"
    },
    {
     "name": "stdout",
     "output_type": "stream",
     "text": [
      "\n",
      "creating term-term co-occurence matrix\n"
     ]
    },
    {
     "data": {
      "application/vnd.jupyter.widget-view+json": {
       "model_id": "4d000bdf194d40c19c5024021ebcd53d",
       "version_major": 2,
       "version_minor": 0
      },
      "text/plain": [
       "HBox(children=(HTML(value=''), FloatProgress(value=0.0, max=373.0), HTML(value='')))"
      ]
     },
     "metadata": {},
     "output_type": "display_data"
    },
    {
     "name": "stdout",
     "output_type": "stream",
     "text": [
      "\n",
      "creating a richer term-term co-occurence matrix using recursive term-term pr, depth = 1\n"
     ]
    },
    {
     "data": {
      "application/vnd.jupyter.widget-view+json": {
       "model_id": "237001bd8e3c45e5ab8720fc26dd8709",
       "version_major": 2,
       "version_minor": 0
      },
      "text/plain": [
       "HBox(children=(HTML(value=''), FloatProgress(value=0.0, max=373.0), HTML(value='')))"
      ]
     },
     "metadata": {},
     "output_type": "display_data"
    },
    {
     "data": {
      "application/vnd.jupyter.widget-view+json": {
       "model_id": "7348c01e3d934138ab3e63d2c587af7d",
       "version_major": 2,
       "version_minor": 0
      },
      "text/plain": [
       "HBox(children=(HTML(value='Pandas Apply'), FloatProgress(value=0.0, max=373.0), HTML(value='')))"
      ]
     },
     "metadata": {},
     "output_type": "display_data"
    },
    {
     "name": "stdout",
     "output_type": "stream",
     "text": [
      "\n",
      "\n"
     ]
    },
    {
     "data": {
      "application/vnd.jupyter.widget-view+json": {
       "model_id": "f640c2dc78ae439d8cd293e5d894a8e0",
       "version_major": 2,
       "version_minor": 0
      },
      "text/plain": [
       "HBox(children=(HTML(value=''), FloatProgress(value=0.0, max=26.0), HTML(value='')))"
      ]
     },
     "metadata": {},
     "output_type": "display_data"
    },
    {
     "name": "stdout",
     "output_type": "stream",
     "text": [
      "\n"
     ]
    },
    {
     "data": {
      "application/vnd.jupyter.widget-view+json": {
       "model_id": "d2bde901efa746a0ba381108ba8bcefb",
       "version_major": 2,
       "version_minor": 0
      },
      "text/plain": [
       "HBox(children=(HTML(value=''), FloatProgress(value=0.0, max=14.0), HTML(value='')))"
      ]
     },
     "metadata": {},
     "output_type": "display_data"
    },
    {
     "name": "stdout",
     "output_type": "stream",
     "text": [
      "\n",
      "(27,) (27,) (13,) (13,)\n",
      "creating term-term co-occurence matrix\n"
     ]
    },
    {
     "data": {
      "application/vnd.jupyter.widget-view+json": {
       "model_id": "e7a63b13aa764d208e56a8d93bc761d8",
       "version_major": 2,
       "version_minor": 0
      },
      "text/plain": [
       "HBox(children=(HTML(value=''), FloatProgress(value=0.0, max=351.0), HTML(value='')))"
      ]
     },
     "metadata": {},
     "output_type": "display_data"
    },
    {
     "name": "stdout",
     "output_type": "stream",
     "text": [
      "\n",
      "creating a richer term-term co-occurence matrix using recursive term-term pr, depth = 1\n"
     ]
    },
    {
     "data": {
      "application/vnd.jupyter.widget-view+json": {
       "model_id": "77b55c02e7f34724886c43ba05e0f94c",
       "version_major": 2,
       "version_minor": 0
      },
      "text/plain": [
       "HBox(children=(HTML(value=''), FloatProgress(value=0.0, max=351.0), HTML(value='')))"
      ]
     },
     "metadata": {},
     "output_type": "display_data"
    },
    {
     "data": {
      "application/vnd.jupyter.widget-view+json": {
       "model_id": "1aa098f9b939451e925114a505378805",
       "version_major": 2,
       "version_minor": 0
      },
      "text/plain": [
       "HBox(children=(HTML(value='Pandas Apply'), FloatProgress(value=0.0, max=351.0), HTML(value='')))"
      ]
     },
     "metadata": {},
     "output_type": "display_data"
    },
    {
     "name": "stdout",
     "output_type": "stream",
     "text": [
      "\n",
      "\n"
     ]
    },
    {
     "data": {
      "application/vnd.jupyter.widget-view+json": {
       "model_id": "d6eaa460eee949538701e8770f2de243",
       "version_major": 2,
       "version_minor": 0
      },
      "text/plain": [
       "HBox(children=(HTML(value=''), FloatProgress(value=0.0, max=27.0), HTML(value='')))"
      ]
     },
     "metadata": {},
     "output_type": "display_data"
    },
    {
     "name": "stdout",
     "output_type": "stream",
     "text": [
      "\n"
     ]
    },
    {
     "data": {
      "application/vnd.jupyter.widget-view+json": {
       "model_id": "e5449010d7b84dedbc9e98bbe0544823",
       "version_major": 2,
       "version_minor": 0
      },
      "text/plain": [
       "HBox(children=(HTML(value=''), FloatProgress(value=0.0, max=13.0), HTML(value='')))"
      ]
     },
     "metadata": {},
     "output_type": "display_data"
    },
    {
     "name": "stdout",
     "output_type": "stream",
     "text": [
      "\n",
      "creating term-term co-occurence matrix\n"
     ]
    },
    {
     "data": {
      "application/vnd.jupyter.widget-view+json": {
       "model_id": "f19772c41af1402c879f1d0ce85a6b93",
       "version_major": 2,
       "version_minor": 0
      },
      "text/plain": [
       "HBox(children=(HTML(value=''), FloatProgress(value=0.0, max=351.0), HTML(value='')))"
      ]
     },
     "metadata": {},
     "output_type": "display_data"
    },
    {
     "name": "stdout",
     "output_type": "stream",
     "text": [
      "\n",
      "creating a richer term-term co-occurence matrix using recursive term-term pr, depth = 1\n"
     ]
    },
    {
     "data": {
      "application/vnd.jupyter.widget-view+json": {
       "model_id": "79723404f6c64c14be922369c2c724af",
       "version_major": 2,
       "version_minor": 0
      },
      "text/plain": [
       "HBox(children=(HTML(value=''), FloatProgress(value=0.0, max=351.0), HTML(value='')))"
      ]
     },
     "metadata": {},
     "output_type": "display_data"
    },
    {
     "data": {
      "application/vnd.jupyter.widget-view+json": {
       "model_id": "0b4922bd94e2414cba407f17c36c7b1e",
       "version_major": 2,
       "version_minor": 0
      },
      "text/plain": [
       "HBox(children=(HTML(value='Pandas Apply'), FloatProgress(value=0.0, max=351.0), HTML(value='')))"
      ]
     },
     "metadata": {},
     "output_type": "display_data"
    },
    {
     "name": "stdout",
     "output_type": "stream",
     "text": [
      "\n",
      "\n"
     ]
    },
    {
     "data": {
      "application/vnd.jupyter.widget-view+json": {
       "model_id": "e0c6d33ad8be4c7586ecb631597d665a",
       "version_major": 2,
       "version_minor": 0
      },
      "text/plain": [
       "HBox(children=(HTML(value=''), FloatProgress(value=0.0, max=27.0), HTML(value='')))"
      ]
     },
     "metadata": {},
     "output_type": "display_data"
    },
    {
     "name": "stdout",
     "output_type": "stream",
     "text": [
      "\n"
     ]
    },
    {
     "data": {
      "application/vnd.jupyter.widget-view+json": {
       "model_id": "f5e990be9308443495d1af7cce0ce544",
       "version_major": 2,
       "version_minor": 0
      },
      "text/plain": [
       "HBox(children=(HTML(value=''), FloatProgress(value=0.0, max=13.0), HTML(value='')))"
      ]
     },
     "metadata": {},
     "output_type": "display_data"
    },
    {
     "name": "stdout",
     "output_type": "stream",
     "text": [
      "\n",
      "(27,) (27,) (13,) (13,)\n",
      "creating term-term co-occurence matrix\n"
     ]
    },
    {
     "data": {
      "application/vnd.jupyter.widget-view+json": {
       "model_id": "2b5f26dc948c49ab984f6a6b1c376da1",
       "version_major": 2,
       "version_minor": 0
      },
      "text/plain": [
       "HBox(children=(HTML(value=''), FloatProgress(value=0.0, max=386.0), HTML(value='')))"
      ]
     },
     "metadata": {},
     "output_type": "display_data"
    },
    {
     "name": "stdout",
     "output_type": "stream",
     "text": [
      "\n",
      "creating a richer term-term co-occurence matrix using recursive term-term pr, depth = 1\n"
     ]
    },
    {
     "data": {
      "application/vnd.jupyter.widget-view+json": {
       "model_id": "59a4162fbd7c4e0bb49266b396b88abc",
       "version_major": 2,
       "version_minor": 0
      },
      "text/plain": [
       "HBox(children=(HTML(value=''), FloatProgress(value=0.0, max=386.0), HTML(value='')))"
      ]
     },
     "metadata": {},
     "output_type": "display_data"
    },
    {
     "data": {
      "application/vnd.jupyter.widget-view+json": {
       "model_id": "8529f27c9d4c4f9cbbb1004c05205a73",
       "version_major": 2,
       "version_minor": 0
      },
      "text/plain": [
       "HBox(children=(HTML(value='Pandas Apply'), FloatProgress(value=0.0, max=386.0), HTML(value='')))"
      ]
     },
     "metadata": {},
     "output_type": "display_data"
    },
    {
     "name": "stdout",
     "output_type": "stream",
     "text": [
      "\n",
      "\n"
     ]
    },
    {
     "data": {
      "application/vnd.jupyter.widget-view+json": {
       "model_id": "dd26523758274336a6d3d4d1887353b2",
       "version_major": 2,
       "version_minor": 0
      },
      "text/plain": [
       "HBox(children=(HTML(value=''), FloatProgress(value=0.0, max=27.0), HTML(value='')))"
      ]
     },
     "metadata": {},
     "output_type": "display_data"
    },
    {
     "name": "stdout",
     "output_type": "stream",
     "text": [
      "\n"
     ]
    },
    {
     "data": {
      "application/vnd.jupyter.widget-view+json": {
       "model_id": "1a082a30725c4b95b6b96c9e896a6645",
       "version_major": 2,
       "version_minor": 0
      },
      "text/plain": [
       "HBox(children=(HTML(value=''), FloatProgress(value=0.0, max=13.0), HTML(value='')))"
      ]
     },
     "metadata": {},
     "output_type": "display_data"
    },
    {
     "name": "stdout",
     "output_type": "stream",
     "text": [
      "\n",
      "creating term-term co-occurence matrix\n"
     ]
    },
    {
     "data": {
      "application/vnd.jupyter.widget-view+json": {
       "model_id": "9dccb1c5bed2451896131dce55e1ea0f",
       "version_major": 2,
       "version_minor": 0
      },
      "text/plain": [
       "HBox(children=(HTML(value=''), FloatProgress(value=0.0, max=386.0), HTML(value='')))"
      ]
     },
     "metadata": {},
     "output_type": "display_data"
    },
    {
     "name": "stdout",
     "output_type": "stream",
     "text": [
      "\n",
      "creating a richer term-term co-occurence matrix using recursive term-term pr, depth = 1\n"
     ]
    },
    {
     "data": {
      "application/vnd.jupyter.widget-view+json": {
       "model_id": "dc16eb46e0b84e1db8585c71f27e1ad3",
       "version_major": 2,
       "version_minor": 0
      },
      "text/plain": [
       "HBox(children=(HTML(value=''), FloatProgress(value=0.0, max=386.0), HTML(value='')))"
      ]
     },
     "metadata": {},
     "output_type": "display_data"
    },
    {
     "data": {
      "application/vnd.jupyter.widget-view+json": {
       "model_id": "f4c230aabb4f47819ce5fa3042cfafee",
       "version_major": 2,
       "version_minor": 0
      },
      "text/plain": [
       "HBox(children=(HTML(value='Pandas Apply'), FloatProgress(value=0.0, max=386.0), HTML(value='')))"
      ]
     },
     "metadata": {},
     "output_type": "display_data"
    },
    {
     "name": "stdout",
     "output_type": "stream",
     "text": [
      "\n",
      "\n"
     ]
    },
    {
     "data": {
      "application/vnd.jupyter.widget-view+json": {
       "model_id": "e6b48f4fdef7431e848dd0b6e22d44c6",
       "version_major": 2,
       "version_minor": 0
      },
      "text/plain": [
       "HBox(children=(HTML(value=''), FloatProgress(value=0.0, max=27.0), HTML(value='')))"
      ]
     },
     "metadata": {},
     "output_type": "display_data"
    },
    {
     "name": "stdout",
     "output_type": "stream",
     "text": [
      "\n"
     ]
    },
    {
     "data": {
      "application/vnd.jupyter.widget-view+json": {
       "model_id": "968d94efc178467bac1775f5190510e6",
       "version_major": 2,
       "version_minor": 0
      },
      "text/plain": [
       "HBox(children=(HTML(value=''), FloatProgress(value=0.0, max=13.0), HTML(value='')))"
      ]
     },
     "metadata": {},
     "output_type": "display_data"
    },
    {
     "name": "stdout",
     "output_type": "stream",
     "text": [
      "\n"
     ]
    }
   ],
   "source": [
    "skf = StratifiedKFold(n_splits=3, shuffle=True, random_state=100) \n",
    "skf.get_n_splits(X, y)\n",
    "\n",
    "f1_scores, accuracies = [], []\n",
    "for train_index, test_index in skf.split(X, y):\n",
    "    x_train_fold, x_test_fold = X.iloc[train_index], X.iloc[test_index] \n",
    "    y_train_fold, y_test_fold = y.iloc[train_index], y.iloc[test_index]\n",
    "    \n",
    "    f1_scores.append([])\n",
    "    accuracies.append([])\n",
    "    \n",
    "    for model in models:\n",
    "        model.fit(x_train_fold, y_train_fold)\n",
    "        y_pred = model.predict(x_test_fold)\n",
    "\n",
    "        accuracy = accuracy_score(y_test_fold, y_pred)\n",
    "        f1_score = calculate_f1_score(y_test_fold, y_pred, average='weighted')\n",
    "        \n",
    "        f1_scores[-1].append(f1_score)\n",
    "        accuracies[-1].append(accuracy)"
   ]
  },
  {
   "cell_type": "code",
   "execution_count": 128,
   "metadata": {},
   "outputs": [],
   "source": [
    "accuracy = pd.DataFrame(\n",
    "    data=np.array(accuracies), \n",
    "    columns=[\"count_model\", \"tfidf_model\", \"rwi_count_model\", \"rwi_tfidf_model\"]\n",
    ")\n",
    "\n",
    "f1_score = pd.DataFrame(\n",
    "    data=np.array(f1_scores), \n",
    "    columns=[\"count_model\", \"tfidf_model\", \"rwi_count_model\", \"rwi_tfidf_model\"]\n",
    ")"
   ]
  },
  {
   "cell_type": "code",
   "execution_count": 134,
   "metadata": {},
   "outputs": [
    {
     "data": {
      "text/html": [
       "<div>\n",
       "<style scoped>\n",
       "    .dataframe tbody tr th:only-of-type {\n",
       "        vertical-align: middle;\n",
       "    }\n",
       "\n",
       "    .dataframe tbody tr th {\n",
       "        vertical-align: top;\n",
       "    }\n",
       "\n",
       "    .dataframe thead th {\n",
       "        text-align: right;\n",
       "    }\n",
       "</style>\n",
       "<table border=\"1\" class=\"dataframe\">\n",
       "  <thead>\n",
       "    <tr style=\"text-align: right;\">\n",
       "      <th></th>\n",
       "      <th>count_model</th>\n",
       "      <th>tfidf_model</th>\n",
       "      <th>rwi_count_model</th>\n",
       "      <th>rwi_tfidf_model</th>\n",
       "    </tr>\n",
       "  </thead>\n",
       "  <tbody>\n",
       "    <tr>\n",
       "      <th>0</th>\n",
       "      <td>0.214286</td>\n",
       "      <td>0.214286</td>\n",
       "      <td>0.357143</td>\n",
       "      <td>0.428571</td>\n",
       "    </tr>\n",
       "    <tr>\n",
       "      <th>1</th>\n",
       "      <td>0.384615</td>\n",
       "      <td>0.384615</td>\n",
       "      <td>0.384615</td>\n",
       "      <td>0.384615</td>\n",
       "    </tr>\n",
       "    <tr>\n",
       "      <th>2</th>\n",
       "      <td>0.384615</td>\n",
       "      <td>0.384615</td>\n",
       "      <td>0.307692</td>\n",
       "      <td>0.307692</td>\n",
       "    </tr>\n",
       "    <tr>\n",
       "      <th>mean</th>\n",
       "      <td>0.327839</td>\n",
       "      <td>0.327839</td>\n",
       "      <td>0.349817</td>\n",
       "      <td>0.373626</td>\n",
       "    </tr>\n",
       "  </tbody>\n",
       "</table>\n",
       "</div>"
      ],
      "text/plain": [
       "      count_model  tfidf_model  rwi_count_model  rwi_tfidf_model\n",
       "0        0.214286     0.214286         0.357143         0.428571\n",
       "1        0.384615     0.384615         0.384615         0.384615\n",
       "2        0.384615     0.384615         0.307692         0.307692\n",
       "mean     0.327839     0.327839         0.349817         0.373626"
      ]
     },
     "execution_count": 134,
     "metadata": {},
     "output_type": "execute_result"
    }
   ],
   "source": [
    "accuracy.loc[\"mean\"] = accuracy.mean(0)\n",
    "\n",
    "accuracy.head()"
   ]
  },
  {
   "cell_type": "code",
   "execution_count": 135,
   "metadata": {},
   "outputs": [
    {
     "data": {
      "text/html": [
       "<div>\n",
       "<style scoped>\n",
       "    .dataframe tbody tr th:only-of-type {\n",
       "        vertical-align: middle;\n",
       "    }\n",
       "\n",
       "    .dataframe tbody tr th {\n",
       "        vertical-align: top;\n",
       "    }\n",
       "\n",
       "    .dataframe thead th {\n",
       "        text-align: right;\n",
       "    }\n",
       "</style>\n",
       "<table border=\"1\" class=\"dataframe\">\n",
       "  <thead>\n",
       "    <tr style=\"text-align: right;\">\n",
       "      <th></th>\n",
       "      <th>count_model</th>\n",
       "      <th>tfidf_model</th>\n",
       "      <th>rwi_count_model</th>\n",
       "      <th>rwi_tfidf_model</th>\n",
       "    </tr>\n",
       "  </thead>\n",
       "  <tbody>\n",
       "    <tr>\n",
       "      <th>0</th>\n",
       "      <td>0.193878</td>\n",
       "      <td>0.142857</td>\n",
       "      <td>0.234694</td>\n",
       "      <td>0.330241</td>\n",
       "    </tr>\n",
       "    <tr>\n",
       "      <th>1</th>\n",
       "      <td>0.435897</td>\n",
       "      <td>0.435897</td>\n",
       "      <td>0.402198</td>\n",
       "      <td>0.402198</td>\n",
       "    </tr>\n",
       "    <tr>\n",
       "      <th>2</th>\n",
       "      <td>0.269231</td>\n",
       "      <td>0.269231</td>\n",
       "      <td>0.260806</td>\n",
       "      <td>0.260806</td>\n",
       "    </tr>\n",
       "    <tr>\n",
       "      <th>mean</th>\n",
       "      <td>0.299669</td>\n",
       "      <td>0.282662</td>\n",
       "      <td>0.299233</td>\n",
       "      <td>0.331082</td>\n",
       "    </tr>\n",
       "  </tbody>\n",
       "</table>\n",
       "</div>"
      ],
      "text/plain": [
       "      count_model  tfidf_model  rwi_count_model  rwi_tfidf_model\n",
       "0        0.193878     0.142857         0.234694         0.330241\n",
       "1        0.435897     0.435897         0.402198         0.402198\n",
       "2        0.269231     0.269231         0.260806         0.260806\n",
       "mean     0.299669     0.282662         0.299233         0.331082"
      ]
     },
     "execution_count": 135,
     "metadata": {},
     "output_type": "execute_result"
    }
   ],
   "source": [
    "f1_score.loc[\"mean\"] = f1_score.mean(0)\n",
    "\n",
    "f1_score.head()"
   ]
  },
  {
   "cell_type": "code",
   "execution_count": null,
   "metadata": {},
   "outputs": [],
   "source": []
  }
 ],
 "metadata": {
  "kernelspec": {
   "display_name": "Python 3",
   "language": "python",
   "name": "python3"
  },
  "language_info": {
   "codemirror_mode": {
    "name": "ipython",
    "version": 3
   },
   "file_extension": ".py",
   "mimetype": "text/x-python",
   "name": "python",
   "nbconvert_exporter": "python",
   "pygments_lexer": "ipython3",
   "version": "3.8.5"
  }
 },
 "nbformat": 4,
 "nbformat_minor": 4
}

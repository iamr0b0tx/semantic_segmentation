{
 "cells": [
  {
   "cell_type": "markdown",
   "metadata": {
    "_uuid": "678f6ee9c0cfa8df59697f7ec3801a3e5ca47ce8"
   },
   "source": [
    "## Ever read a bunch of sentences and wished to reduce it all as themes or categories so as to interpret it and document them easily? Yes, those wishes do have real-life answers to them and that is exactly the topic of this notebook"
   ]
  },
  {
   "cell_type": "markdown",
   "metadata": {
    "_uuid": "422da27345dd32740cd7d662f8d36fa7d1a304e9"
   },
   "source": [
    "![](https://github.com/rakash/Scripts/blob/master/bokeh_plot.png?raw=true)"
   ]
  },
  {
   "cell_type": "markdown",
   "metadata": {
    "_uuid": "d120f72b29fcfac372334f067b01f2e2689e3b72"
   },
   "source": [
    "## WHAT IS A TOPIC MODEL?"
   ]
  },
  {
   "cell_type": "markdown",
   "metadata": {
    "_uuid": "cd8f2531fd7ce9e30cdea1885b65c8e97682b756"
   },
   "source": [
    "*****\n",
    "A type of statistical model for discovering the abstract \"topics\" that occur in a collection of documents. A document typically concerns multiple topics in different proportions; thus, in a document that is 10% about cats and 90% about dogs, there would probably be about 9 times more dog words than cat words. The \"topics\" produced by topic modeling techniques are clusters of similar words. A topic model captures this intuition in a mathematical framework, which allows examining a set of documents and discovering, based on the statistics of the words in each, what the topics might be and what each document's balance of topics is.\n",
    "*****"
   ]
  },
  {
   "cell_type": "markdown",
   "metadata": {
    "_uuid": "b35d86d94b1e1cfb6f1c5e0075704495f8fa575c"
   },
   "source": [
    "![](https://theintelligenceofinformation.files.wordpress.com/2016/12/topic-modeling-for-learning-analytics-researchers-lak15-tutorial-15-638.jpg)"
   ]
  },
  {
   "cell_type": "markdown",
   "metadata": {
    "_uuid": "99187c83c79f93582e1e42995725dffa8172a266"
   },
   "source": [
    "### Popular topic modeling algorithms include Latent Semantic Analysis (LSA) a.k.a Latent Semantic Indexing , Hierarchical Dirichlet Process (HDP), Latent Dirichlet Allocation (LDA) and Non-negative Matrix factorization among which LDA has shown great results in practice and therefore widely adopted. We'll look at them all one by one. Lets get to it. "
   ]
  },
  {
   "cell_type": "markdown",
   "metadata": {
    "_uuid": "781cb72d2cef9b18b661cd36a0dfa70d844bc514"
   },
   "source": [
    "                                                                                                                                                                                                                                                                                                                                                                                                                                                                                                                                                                                                                                                                   "
   ]
  },
  {
   "cell_type": "markdown",
   "metadata": {
    "_uuid": "898ebf97b3efd5ce95a81bdd337d88c21cd08210"
   },
   "source": [
    "1. [Latent Semantic Analysis](#lsa)\n",
    "2. [Latent Dirichlet Allocation](#lda)\n",
    "3. [Hierarchical Dirichlet Process](#hdp)\n",
    "4. [Non-negative Matrix factorization](#nmf)"
   ]
  },
  {
   "cell_type": "markdown",
   "metadata": {
    "_uuid": "035cfc246297591467f539d16378e9807251e335"
   },
   "source": [
    "### Importing the important libraries and setting up the important libraries and cleaning datasets before we get into the methods"
   ]
  },
  {
   "cell_type": "code",
   "execution_count": 1,
   "metadata": {
    "_cell_guid": "b1076dfc-b9ad-4769-8c92-a6c4dae69d19",
    "_uuid": "8f2839f25d086af736a60e9eeb907d3b93b6e0e5"
   },
   "outputs": [
    {
     "name": "stdout",
     "output_type": "stream",
     "text": [
      "['uci-news-aggregator.csv']\n"
     ]
    }
   ],
   "source": [
    "import os\n",
    "print(os.listdir(\"../input\"))\n",
    "\n",
    "import re\n",
    "import numpy as np\n",
    "import pandas as pd\n",
    "from pprint import pprint\n",
    "\n",
    "# Gensim\n",
    "import gensim\n",
    "import gensim.corpora as corpora\n",
    "from gensim.utils import simple_preprocess\n",
    "from gensim.models import CoherenceModel, LdaModel, LsiModel, HdpModel\n",
    "\n",
    "# spacy for lemmatization\n",
    "import spacy\n",
    "\n",
    "# Plotting tools\n",
    "import pyLDAvis\n",
    "import pyLDAvis.gensim \n",
    "import matplotlib.pyplot as plt\n",
    "%matplotlib inline\n",
    "\n",
    "# Enable logging for gensim - optional\n",
    "import logging\n",
    "logging.basicConfig(format='%(asctime)s : %(levelname)s : %(message)s', level=logging.ERROR)\n",
    "\n",
    "import warnings\n",
    "warnings.filterwarnings(\"ignore\",category=DeprecationWarning)"
   ]
  },
  {
   "cell_type": "markdown",
   "metadata": {
    "_uuid": "8d41d3411ea54d7061ae5883a99c7eeb8a395930"
   },
   "source": [
    "### Stopwords are words that are commonly used. Using the popular NLTK package in python, lets import the stopwords in the english language\n",
    "### and save it. It'll be used later for modeling purposes"
   ]
  },
  {
   "cell_type": "code",
   "execution_count": 2,
   "metadata": {
    "_cell_guid": "79c7e3d0-c299-4dcb-8224-4455121ee9b0",
    "_uuid": "d629ff2d2480ee46fbb7e2d37f6b5fab8052498a"
   },
   "outputs": [],
   "source": [
    "# NLTK Stop words\n",
    "\n",
    "from nltk.corpus import stopwords\n",
    "stop_words = stopwords.words('english')\n",
    "stop_words.extend(['from', 'subject', 're', 'edu', 'use','a','about', 'above', 'across'])"
   ]
  },
  {
   "cell_type": "markdown",
   "metadata": {
    "_uuid": "b05e1c949cf52d5ea94e413374efbc652eda045d"
   },
   "source": [
    "### The extended stopwords list from the scikit learn library"
   ]
  },
  {
   "cell_type": "code",
   "execution_count": 3,
   "metadata": {
    "_uuid": "cde7ba30189b92d775e07a847a1425dc47093c56"
   },
   "outputs": [],
   "source": [
    "st1= ['after', 'afterwards','again','against', 'all', 'almost','alone','along',\n",
    "           'already',\n",
    "           'also',\n",
    "           'although',\n",
    "           'always',\n",
    "           'am',\n",
    "           'among',\n",
    "           'amongst',\n",
    "           'amoungst',\n",
    "           'amount',\n",
    "           'an',\n",
    "           'and',\n",
    "           'another',\n",
    "           'any',\n",
    "           'anyhow',\n",
    "           'anyone',\n",
    "           'anything',\n",
    "           'anyway',\n",
    "           'anywhere',\n",
    "           'are',\n",
    "           'around',\n",
    "           'as',\n",
    "           'at',\n",
    "           'back',\n",
    "           'be',\n",
    "           'became',\n",
    "           'because',\n",
    "           'become',\n",
    "           'becomes',\n",
    "           'becoming',\n",
    "           'been',\n",
    "           'before',\n",
    "           'beforehand',\n",
    "           'behind',\n",
    "           'being',\n",
    "           'below',\n",
    "           'beside',\n",
    "           'besides',\n",
    "           'between',\n",
    "           'beyond',\n",
    "           'bill',\n",
    "           'both',\n",
    "           'bottom',\n",
    "           'but',\n",
    "           'by',\n",
    "           'call',\n",
    "           'can',\n",
    "           'cannot',\n",
    "           'cant',\n",
    "           'co',\n",
    "           'con',\n",
    "           'could',\n",
    "           'couldnt',\n",
    "           'cry',\n",
    "           'de',\n",
    "           'describe',\n",
    "           'detail',\n",
    "           'do',\n",
    "           'done',\n",
    "           'down',\n",
    "           'due',\n",
    "           'during',\n",
    "           'each',\n",
    "           'eg',\n",
    "           'eight',\n",
    "           'either',\n",
    "           'eleven',\n",
    "           'else',\n",
    "           'elsewhere',\n",
    "           'empty',\n",
    "           'enough',\n",
    "           'etc',\n",
    "           'even',\n",
    "           'ever',\n",
    "           'every',\n",
    "           'everyone',\n",
    "           'everything',\n",
    "           'everywhere',\n",
    "           'except',\n",
    "           'few',\n",
    "           'fifteen',\n",
    "           'fifty',\n",
    "           'fill',\n",
    "           'find',\n",
    "           'fire',\n",
    "           'first',\n",
    "           'five',\n",
    "           'for',\n",
    "           'former',\n",
    "           'formerly',\n",
    "           'forty',\n",
    "           'found',\n",
    "           'four',\n",
    "           'from',\n",
    "           'front',\n",
    "           'full',\n",
    "           'further',\n",
    "           'get',\n",
    "           'give',\n",
    "           'go',\n",
    "           'had',\n",
    "           'has',\n",
    "           'hasnt',\n",
    "           'have',\n",
    "           'he',\n",
    "           'hence',\n",
    "           'her',\n",
    "           'here',\n",
    "           'hereafter',\n",
    "           'hereby',\n",
    "           'herein',\n",
    "           'hereupon',\n",
    "           'hers',\n",
    "           'herself',\n",
    "           'him',\n",
    "           'himself',\n",
    "           'his',\n",
    "           'how',\n",
    "           'however',\n",
    "           'hundred',\n",
    "           'i',\n",
    "           'ie',\n",
    "           'if',\n",
    "           'in',\n",
    "           'inc',\n",
    "           'indeed',\n",
    "           'interest',\n",
    "           'into',\n",
    "           'is',\n",
    "           'it',\n",
    "           'its',\n",
    "           'itself',\n",
    "           'keep',\n",
    "           'last',\n",
    "           'latter',\n",
    "           'latterly',\n",
    "           'least',\n",
    "           'less',\n",
    "           'ltd',\n",
    "           'made',\n",
    "           'many',\n",
    "           'may',\n",
    "           'me',\n",
    "           'meanwhile',\n",
    "           'might',\n",
    "           'mill',\n",
    "           'mine',\n",
    "           'more',\n",
    "           'moreover',\n",
    "           'most',\n",
    "           'mostly',\n",
    "           'move',\n",
    "           'much',\n",
    "           'must',\n",
    "           'my',\n",
    "           'myself',\n",
    "           'name',\n",
    "           'namely',\n",
    "           'neither',\n",
    "           'never',\n",
    "           'nevertheless',\n",
    "           'next',\n",
    "           'nine',\n",
    "           'no',\n",
    "           'nobody',\n",
    "           'none',\n",
    "           'noone',\n",
    "           'nor',\n",
    "           'not',\n",
    "           'nothing',\n",
    "           'now',\n",
    "           'nowhere',\n",
    "           'of',\n",
    "           'off',\n",
    "           'often',\n",
    "           'on',\n",
    "           'once',\n",
    "           'one',\n",
    "           'only',\n",
    "           'onto',\n",
    "           'or',\n",
    "           'other',\n",
    "           'others',\n",
    "           'otherwise',\n",
    "           'our',\n",
    "           'ours',\n",
    "           'ourselves',\n",
    "           'out',\n",
    "           'over',\n",
    "           'own',\n",
    "           'part',\n",
    "           'per',\n",
    "           'perhaps',\n",
    "           'please',\n",
    "           'put',\n",
    "           'rather',\n",
    "           're',\n",
    "           'same',\n",
    "           'see',\n",
    "           'seem',\n",
    "           'seemed',\n",
    "           'seeming',\n",
    "           'seems',\n",
    "           'serious',\n",
    "           'several',\n",
    "           'she',\n",
    "           'should',\n",
    "           'show',\n",
    "           'side',\n",
    "           'since',\n",
    "           'sincere',\n",
    "           'six',\n",
    "           'sixty',\n",
    "           'so',\n",
    "           'some',\n",
    "           'somehow',\n",
    "           'someone',\n",
    "           'something',\n",
    "           'sometime',\n",
    "           'sometimes',\n",
    "           'somewhere',\n",
    "           'still',\n",
    "           'such',\n",
    "           'system',\n",
    "           'take',\n",
    "           'ten',\n",
    "           'than',\n",
    "           'that',\n",
    "           'the',\n",
    "           'their',\n",
    "           'them',\n",
    "           'themselves',\n",
    "           'then',\n",
    "           'thence',\n",
    "           'there',\n",
    "           'thereafter',\n",
    "           'thereby',\n",
    "           'therefore',\n",
    "           'therein',\n",
    "           'thereupon',\n",
    "           'these',\n",
    "           'they',\n",
    "           'thick',\n",
    "           'thin',\n",
    "           'third',\n",
    "           'this',\n",
    "           'those',\n",
    "           'though',\n",
    "           'three',\n",
    "           'through',\n",
    "           'throughout',\n",
    "           'thru',\n",
    "           'thus',\n",
    "           'to',\n",
    "           'together',\n",
    "           'too',\n",
    "           'top',\n",
    "           'toward',\n",
    "           'towards',\n",
    "           'twelve',\n",
    "           'twenty',\n",
    "           'two',\n",
    "           'un',\n",
    "           'under',\n",
    "           'until',\n",
    "           'up',\n",
    "           'upon',\n",
    "           'us',\n",
    "           'very',\n",
    "           'via',\n",
    "           'was',\n",
    "           'we',\n",
    "           'well',\n",
    "           'were',\n",
    "           'what',\n",
    "           'whatever',\n",
    "           'when',\n",
    "           'whence',\n",
    "           'whenever',\n",
    "           'where',\n",
    "           'whereafter',\n",
    "           'whereas',\n",
    "           'whereby',\n",
    "           'wherein',\n",
    "           'whereupon',\n",
    "           'wherever',\n",
    "           'whether',\n",
    "           'which',\n",
    "           'while',\n",
    "           'whither',\n",
    "           'who',\n",
    "           'whoever',\n",
    "           'whole',\n",
    "           'whom',\n",
    "           'whose',\n",
    "           'why',\n",
    "           'will',\n",
    "           'with',\n",
    "           'within',\n",
    "           'without',\n",
    "           'would',\n",
    "           'yet',\n",
    "           'you',\n",
    "           'your',\n",
    "           'yours',\n",
    "           'yourself',\n",
    "           'yourselves']"
   ]
  },
  {
   "cell_type": "code",
   "execution_count": 4,
   "metadata": {
    "_uuid": "91be8de47f1c1a0c77933d88eeb0027797dd82b3"
   },
   "outputs": [],
   "source": [
    "stop_words.extend(st1)"
   ]
  },
  {
   "cell_type": "code",
   "execution_count": 5,
   "metadata": {
    "_uuid": "36887b8961bd42c8867c2b3e939f3d5bd25884b1"
   },
   "outputs": [],
   "source": [
    "data = pd.read_csv(\"../input/uci-news-aggregator.csv\")"
   ]
  },
  {
   "cell_type": "markdown",
   "metadata": {
    "_uuid": "b28ca0b9076329e7a3c8a3594cd7cd86bdc01cf8"
   },
   "source": [
    "### Selecting sample rows from all categories(in this case, topics) so computations are quicker. "
   ]
  },
  {
   "cell_type": "code",
   "execution_count": 6,
   "metadata": {
    "_uuid": "f6a59d7682cef374a895fa71b1d022de7fbd7388"
   },
   "outputs": [],
   "source": [
    "bg = data[data.CATEGORY == 'b']\n",
    "tg = data[data.CATEGORY == 't']\n",
    "eg = data[data.CATEGORY == 'e']\n",
    "mg = data[data.CATEGORY == 'm']"
   ]
  },
  {
   "cell_type": "code",
   "execution_count": 7,
   "metadata": {
    "_uuid": "eec3cd78c856201bacc51c9ea6ea3f0b205e17a9"
   },
   "outputs": [],
   "source": [
    "bg_rows = np.random.choice(bg.index.values, 750)\n",
    "bg_data = bg.ix[bg_rows]\n",
    "\n",
    "tg_rows = np.random.choice(tg.index.values, 750)\n",
    "tg_data = tg.ix[tg_rows]\n",
    "\n",
    "eg_rows = np.random.choice(eg.index.values, 750)\n",
    "eg_data = eg.ix[eg_rows]\n",
    "\n",
    "mg_rows = np.random.choice(mg.index.values, 750)\n",
    "mg_data = mg.ix[mg_rows]"
   ]
  },
  {
   "cell_type": "code",
   "execution_count": 8,
   "metadata": {
    "_uuid": "c7c088ddd75f069b497c56ef25a7bbdddf592792"
   },
   "outputs": [],
   "source": [
    "data = bg_data.append([tg_data, eg_data, mg_data])"
   ]
  },
  {
   "cell_type": "code",
   "execution_count": 9,
   "metadata": {
    "_uuid": "145cf4c39456fb69b226c04f7e843bf31419f03d"
   },
   "outputs": [],
   "source": [
    "title = data['TITLE']\n",
    "category = data['CATEGORY']"
   ]
  },
  {
   "cell_type": "markdown",
   "metadata": {
    "_uuid": "8489dad614210dfe86f9ef55879ecbd7e1dc02c3"
   },
   "source": [
    "### Now that we have cleaned and set the variables that will be needed for the algorithms, lets dive into the 1st type, "
   ]
  },
  {
   "cell_type": "markdown",
   "metadata": {
    "_uuid": "7fc23415b99a94b1a83b75909add8178048a0bf5"
   },
   "source": [
    "<a id='lsa'></a>\n",
    "\n",
    "# Latent Semantic Analysis"
   ]
  },
  {
   "cell_type": "markdown",
   "metadata": {
    "_uuid": "943067c0bd4a883b91a50d2f8523e4f1ae915233"
   },
   "source": [
    "![](https://nlp.stanford.edu/IR-book/html/htmledition/img1822.png)"
   ]
  },
  {
   "cell_type": "markdown",
   "metadata": {
    "_uuid": "887ae92f25651473031e28ab28f98c7707bf974d"
   },
   "source": [
    "**Latent Semantic Analysis (LSA) is a mathematical method that tries to bring out latent relationships within a collection of documents on to a lower dimensional space. LSA assumes that words that are close in meaning will occur in similar pieces of text (the distributional hypothesis). A matrix containing word counts per paragraph (rows represent unique words and columns represent each paragraph) is constructed from a large piece of text and a mathematical technique called singular value decomposition (SVD) is used to reduce the number of rows while preserving the similarity structure among columns.  Rather than looking at each document isolated from the others it looks at all the documents as a whole and the terms within them to identify relationships.**"
   ]
  },
  {
   "cell_type": "markdown",
   "metadata": {
    "_uuid": "61eef27222e56c4b505b5e0e6edc6d7d43b5df86"
   },
   "source": [
    "Singular value decomposition can be used to solve the low-rank matrix approximation problem. We then derive from it an application to approximating term-document matrices. We invoke the following three-step procedure to this end:\n",
    "***\n",
    " * Given $C$, construct its SVD in the form $C=U\\Sigma V^T$.\n",
    " * Derive from $\\Sigma$ the matrix $\\Sigma_k$ formed by replacing by zeros the $r-k$ smallest singular values on the diagonal of $\\Sigma$.\n",
    " * Compute and output $C_k$= $U\\Sigma_k V^T$ as the rank-$k$ approximation to $C$.;\n",
    "\n",
    "Where C is the term-document matrix and $U$, $\\Sigma$ and $V^T$ are SVD computed matrices.\n",
    "***"
   ]
  },
  {
   "cell_type": "markdown",
   "metadata": {
    "_uuid": "c1007878014bf052f27f31a79bf66731d7e24b26"
   },
   "source": [
    "**Done with theory, on to Python now!  For LSI,  i'll be using scikit learn module**\n",
    "\n",
    "**Importing modules from scikit learn and countvector-izing them first. ** \n",
    "\n",
    "**In Scikit learn, Dimensionality reduction for LSA is done using truncated SVD (aka LSA).**"
   ]
  },
  {
   "cell_type": "code",
   "execution_count": 10,
   "metadata": {
    "_uuid": "a587ff06982e5f228c1f21d02b5e1f20f6f784d9"
   },
   "outputs": [
    {
     "name": "stdout",
     "output_type": "stream",
     "text": [
      "(3000, 4)\n"
     ]
    }
   ],
   "source": [
    "from sklearn.decomposition import NMF, LatentDirichletAllocation, TruncatedSVD\n",
    "from sklearn.feature_extraction.text import CountVectorizer\n",
    " \n",
    "NUM_TOPICS = 4\n",
    "\n",
    "# Converting the document to a matrix of token counts\n",
    "\n",
    "vectorizer = CountVectorizer(min_df=5, max_df=0.9, \n",
    "                             stop_words='english', lowercase=True, \n",
    "                             token_pattern='[a-zA-Z\\-][a-zA-Z\\-]{2,}')\n",
    "data_vectorized = vectorizer.fit_transform(title)\n",
    " \n",
    "# Build a Latent Semantic Indexing Model using SVD\n",
    "\n",
    "lsi_model = TruncatedSVD(n_components=NUM_TOPICS)\n",
    "lsi_Z = lsi_model.fit_transform(data_vectorized)\n",
    "print(lsi_Z.shape)"
   ]
  },
  {
   "cell_type": "code",
   "execution_count": 11,
   "metadata": {
    "_uuid": "691c18ad6f8bdab70efb1c6870fa9519f083aa5b"
   },
   "outputs": [
    {
     "name": "stdout",
     "output_type": "stream",
     "text": [
      "LSI Model:\n",
      "Topic 0:\n",
      "[('new', 0.9173610008631821), ('samsung', 0.13392268914893665), ('google', 0.13181578815134812), ('apple', 0.12882664315513512), ('study', 0.10161607815446591), ('galaxy', 0.07992881880768013), ('video', 0.07714239765205783), ('says', 0.06300152829575048), ('report', 0.06217539110827279), ('york', 0.061695433176502223)]\n",
      "Topic 1:\n",
      "[('samsung', 0.5588628282333338), ('apple', 0.4285850378963545), ('google', 0.4187728017454322), ('galaxy', 0.3653047655346509), ('android', 0.11964624197685832), ('price', 0.10441085623807904), ('iphone', 0.09424117782946409), ('glass', 0.07907721987859506), ('gear', 0.06586869614988115), ('microsoft', 0.06286643196576489)]\n",
      "Topic 2:\n",
      "[('ebola', 0.7279194741040831), ('west', 0.33230385328450335), ('outbreak', 0.2534786134478599), ('says', 0.2108644504694435), ('guinea', 0.17438679812280816), ('africa', 0.16519569167667067), ('virus', 0.14644232046338396), ('kim', 0.14641587110883314), ('kardashian', 0.12884153998768186), ('kanye', 0.11730443648709683)]\n",
      "Topic 3:\n",
      "[('samsung', 0.47884647759229215), ('galaxy', 0.41126238344472016), ('gear', 0.07149699807555884), ('price', 0.056417808092801405), ('note', 0.05278443643928484), ('guardians', 0.044503910718216015), ('new', 0.03921035428185912), ('report', 0.03882351438711618), ('watch', 0.03693785847046625), ('review', 0.03629519858817278)]\n",
      "====================\n"
     ]
    }
   ],
   "source": [
    "def print_topics(model, vectorizer, top_n=10):\n",
    "    for idx, topic in enumerate(model.components_):\n",
    "        print(\"Topic %d:\" % (idx))\n",
    "        print([(vectorizer.get_feature_names()[i], topic[i])\n",
    "                        for i in topic.argsort()[:-top_n - 1:-1]])\n",
    " \n",
    "print(\"LSI Model:\")\n",
    "print_topics(lsi_model, vectorizer)\n",
    "print(\"=\" * 20)"
   ]
  },
  {
   "cell_type": "markdown",
   "metadata": {
    "_uuid": "1b2d26ad142fd8025bd31fa70976f23957ad8b98"
   },
   "source": [
    "### above are the topics by the LSI model. "
   ]
  },
  {
   "cell_type": "code",
   "execution_count": 12,
   "metadata": {
    "_uuid": "e05e420fca4e7602e2118be03f2412a8ea0a897d"
   },
   "outputs": [
    {
     "data": {
      "text/html": [
       "\n",
       "    <div class=\"bk-root\">\n",
       "        <a href=\"https://bokeh.pydata.org\" target=\"_blank\" class=\"bk-logo bk-logo-small bk-logo-notebook\"></a>\n",
       "        <span id=\"72ebb79f-6ae0-4293-b06b-b87fd77956c8\">Loading BokehJS ...</span>\n",
       "    </div>"
      ]
     },
     "metadata": {},
     "output_type": "display_data"
    },
    {
     "data": {
      "application/javascript": [
       "\n",
       "(function(root) {\n",
       "  function now() {\n",
       "    return new Date();\n",
       "  }\n",
       "\n",
       "  var force = true;\n",
       "\n",
       "  if (typeof (root._bokeh_onload_callbacks) === \"undefined\" || force === true) {\n",
       "    root._bokeh_onload_callbacks = [];\n",
       "    root._bokeh_is_loading = undefined;\n",
       "  }\n",
       "\n",
       "  var JS_MIME_TYPE = 'application/javascript';\n",
       "  var HTML_MIME_TYPE = 'text/html';\n",
       "  var EXEC_MIME_TYPE = 'application/vnd.bokehjs_exec.v0+json';\n",
       "  var CLASS_NAME = 'output_bokeh rendered_html';\n",
       "\n",
       "  /**\n",
       "   * Render data to the DOM node\n",
       "   */\n",
       "  function render(props, node) {\n",
       "    var script = document.createElement(\"script\");\n",
       "    node.appendChild(script);\n",
       "  }\n",
       "\n",
       "  /**\n",
       "   * Handle when an output is cleared or removed\n",
       "   */\n",
       "  function handleClearOutput(event, handle) {\n",
       "    var cell = handle.cell;\n",
       "\n",
       "    var id = cell.output_area._bokeh_element_id;\n",
       "    var server_id = cell.output_area._bokeh_server_id;\n",
       "    // Clean up Bokeh references\n",
       "    if (id != null && id in Bokeh.index) {\n",
       "      Bokeh.index[id].model.document.clear();\n",
       "      delete Bokeh.index[id];\n",
       "    }\n",
       "\n",
       "    if (server_id !== undefined) {\n",
       "      // Clean up Bokeh references\n",
       "      var cmd = \"from bokeh.io.state import curstate; print(curstate().uuid_to_server['\" + server_id + \"'].get_sessions()[0].document.roots[0]._id)\";\n",
       "      cell.notebook.kernel.execute(cmd, {\n",
       "        iopub: {\n",
       "          output: function(msg) {\n",
       "            var id = msg.content.text.trim();\n",
       "            if (id in Bokeh.index) {\n",
       "              Bokeh.index[id].model.document.clear();\n",
       "              delete Bokeh.index[id];\n",
       "            }\n",
       "          }\n",
       "        }\n",
       "      });\n",
       "      // Destroy server and session\n",
       "      var cmd = \"import bokeh.io.notebook as ion; ion.destroy_server('\" + server_id + \"')\";\n",
       "      cell.notebook.kernel.execute(cmd);\n",
       "    }\n",
       "  }\n",
       "\n",
       "  /**\n",
       "   * Handle when a new output is added\n",
       "   */\n",
       "  function handleAddOutput(event, handle) {\n",
       "    var output_area = handle.output_area;\n",
       "    var output = handle.output;\n",
       "\n",
       "    // limit handleAddOutput to display_data with EXEC_MIME_TYPE content only\n",
       "    if ((output.output_type != \"display_data\") || (!output.data.hasOwnProperty(EXEC_MIME_TYPE))) {\n",
       "      return\n",
       "    }\n",
       "\n",
       "    var toinsert = output_area.element.find(\".\" + CLASS_NAME.split(' ')[0]);\n",
       "\n",
       "    if (output.metadata[EXEC_MIME_TYPE][\"id\"] !== undefined) {\n",
       "      toinsert[toinsert.length - 1].firstChild.textContent = output.data[JS_MIME_TYPE];\n",
       "      // store reference to embed id on output_area\n",
       "      output_area._bokeh_element_id = output.metadata[EXEC_MIME_TYPE][\"id\"];\n",
       "    }\n",
       "    if (output.metadata[EXEC_MIME_TYPE][\"server_id\"] !== undefined) {\n",
       "      var bk_div = document.createElement(\"div\");\n",
       "      bk_div.innerHTML = output.data[HTML_MIME_TYPE];\n",
       "      var script_attrs = bk_div.children[0].attributes;\n",
       "      for (var i = 0; i < script_attrs.length; i++) {\n",
       "        toinsert[toinsert.length - 1].firstChild.setAttribute(script_attrs[i].name, script_attrs[i].value);\n",
       "      }\n",
       "      // store reference to server id on output_area\n",
       "      output_area._bokeh_server_id = output.metadata[EXEC_MIME_TYPE][\"server_id\"];\n",
       "    }\n",
       "  }\n",
       "\n",
       "  function register_renderer(events, OutputArea) {\n",
       "\n",
       "    function append_mime(data, metadata, element) {\n",
       "      // create a DOM node to render to\n",
       "      var toinsert = this.create_output_subarea(\n",
       "        metadata,\n",
       "        CLASS_NAME,\n",
       "        EXEC_MIME_TYPE\n",
       "      );\n",
       "      this.keyboard_manager.register_events(toinsert);\n",
       "      // Render to node\n",
       "      var props = {data: data, metadata: metadata[EXEC_MIME_TYPE]};\n",
       "      render(props, toinsert[toinsert.length - 1]);\n",
       "      element.append(toinsert);\n",
       "      return toinsert\n",
       "    }\n",
       "\n",
       "    /* Handle when an output is cleared or removed */\n",
       "    events.on('clear_output.CodeCell', handleClearOutput);\n",
       "    events.on('delete.Cell', handleClearOutput);\n",
       "\n",
       "    /* Handle when a new output is added */\n",
       "    events.on('output_added.OutputArea', handleAddOutput);\n",
       "\n",
       "    /**\n",
       "     * Register the mime type and append_mime function with output_area\n",
       "     */\n",
       "    OutputArea.prototype.register_mime_type(EXEC_MIME_TYPE, append_mime, {\n",
       "      /* Is output safe? */\n",
       "      safe: true,\n",
       "      /* Index of renderer in `output_area.display_order` */\n",
       "      index: 0\n",
       "    });\n",
       "  }\n",
       "\n",
       "  // register the mime type if in Jupyter Notebook environment and previously unregistered\n",
       "  if (root.Jupyter !== undefined) {\n",
       "    var events = require('base/js/events');\n",
       "    var OutputArea = require('notebook/js/outputarea').OutputArea;\n",
       "\n",
       "    if (OutputArea.prototype.mime_types().indexOf(EXEC_MIME_TYPE) == -1) {\n",
       "      register_renderer(events, OutputArea);\n",
       "    }\n",
       "  }\n",
       "\n",
       "  \n",
       "  if (typeof (root._bokeh_timeout) === \"undefined\" || force === true) {\n",
       "    root._bokeh_timeout = Date.now() + 5000;\n",
       "    root._bokeh_failed_load = false;\n",
       "  }\n",
       "\n",
       "  var NB_LOAD_WARNING = {'data': {'text/html':\n",
       "     \"<div style='background-color: #fdd'>\\n\"+\n",
       "     \"<p>\\n\"+\n",
       "     \"BokehJS does not appear to have successfully loaded. If loading BokehJS from CDN, this \\n\"+\n",
       "     \"may be due to a slow or bad network connection. Possible fixes:\\n\"+\n",
       "     \"</p>\\n\"+\n",
       "     \"<ul>\\n\"+\n",
       "     \"<li>re-rerun `output_notebook()` to attempt to load from CDN again, or</li>\\n\"+\n",
       "     \"<li>use INLINE resources instead, as so:</li>\\n\"+\n",
       "     \"</ul>\\n\"+\n",
       "     \"<code>\\n\"+\n",
       "     \"from bokeh.resources import INLINE\\n\"+\n",
       "     \"output_notebook(resources=INLINE)\\n\"+\n",
       "     \"</code>\\n\"+\n",
       "     \"</div>\"}};\n",
       "\n",
       "  function display_loaded() {\n",
       "    var el = document.getElementById(\"72ebb79f-6ae0-4293-b06b-b87fd77956c8\");\n",
       "    if (el != null) {\n",
       "      el.textContent = \"BokehJS is loading...\";\n",
       "    }\n",
       "    if (root.Bokeh !== undefined) {\n",
       "      if (el != null) {\n",
       "        el.textContent = \"BokehJS \" + root.Bokeh.version + \" successfully loaded.\";\n",
       "      }\n",
       "    } else if (Date.now() < root._bokeh_timeout) {\n",
       "      setTimeout(display_loaded, 100)\n",
       "    }\n",
       "  }\n",
       "\n",
       "\n",
       "  function run_callbacks() {\n",
       "    try {\n",
       "      root._bokeh_onload_callbacks.forEach(function(callback) { callback() });\n",
       "    }\n",
       "    finally {\n",
       "      delete root._bokeh_onload_callbacks\n",
       "    }\n",
       "    console.info(\"Bokeh: all callbacks have finished\");\n",
       "  }\n",
       "\n",
       "  function load_libs(js_urls, callback) {\n",
       "    root._bokeh_onload_callbacks.push(callback);\n",
       "    if (root._bokeh_is_loading > 0) {\n",
       "      console.log(\"Bokeh: BokehJS is being loaded, scheduling callback at\", now());\n",
       "      return null;\n",
       "    }\n",
       "    if (js_urls == null || js_urls.length === 0) {\n",
       "      run_callbacks();\n",
       "      return null;\n",
       "    }\n",
       "    console.log(\"Bokeh: BokehJS not loaded, scheduling load and callback at\", now());\n",
       "    root._bokeh_is_loading = js_urls.length;\n",
       "    for (var i = 0; i < js_urls.length; i++) {\n",
       "      var url = js_urls[i];\n",
       "      var s = document.createElement('script');\n",
       "      s.src = url;\n",
       "      s.async = false;\n",
       "      s.onreadystatechange = s.onload = function() {\n",
       "        root._bokeh_is_loading--;\n",
       "        if (root._bokeh_is_loading === 0) {\n",
       "          console.log(\"Bokeh: all BokehJS libraries loaded\");\n",
       "          run_callbacks()\n",
       "        }\n",
       "      };\n",
       "      s.onerror = function() {\n",
       "        console.warn(\"failed to load library \" + url);\n",
       "      };\n",
       "      console.log(\"Bokeh: injecting script tag for BokehJS library: \", url);\n",
       "      document.getElementsByTagName(\"head\")[0].appendChild(s);\n",
       "    }\n",
       "  };var element = document.getElementById(\"72ebb79f-6ae0-4293-b06b-b87fd77956c8\");\n",
       "  if (element == null) {\n",
       "    console.log(\"Bokeh: ERROR: autoload.js configured with elementid '72ebb79f-6ae0-4293-b06b-b87fd77956c8' but no matching script tag was found. \")\n",
       "    return false;\n",
       "  }\n",
       "\n",
       "  var js_urls = [\"https://cdn.pydata.org/bokeh/release/bokeh-0.13.0.min.js\", \"https://cdn.pydata.org/bokeh/release/bokeh-widgets-0.13.0.min.js\", \"https://cdn.pydata.org/bokeh/release/bokeh-tables-0.13.0.min.js\", \"https://cdn.pydata.org/bokeh/release/bokeh-gl-0.13.0.min.js\"];\n",
       "\n",
       "  var inline_js = [\n",
       "    function(Bokeh) {\n",
       "      Bokeh.set_log_level(\"info\");\n",
       "    },\n",
       "    \n",
       "    function(Bokeh) {\n",
       "      \n",
       "    },\n",
       "    function(Bokeh) {\n",
       "      console.log(\"Bokeh: injecting CSS: https://cdn.pydata.org/bokeh/release/bokeh-0.13.0.min.css\");\n",
       "      Bokeh.embed.inject_css(\"https://cdn.pydata.org/bokeh/release/bokeh-0.13.0.min.css\");\n",
       "      console.log(\"Bokeh: injecting CSS: https://cdn.pydata.org/bokeh/release/bokeh-widgets-0.13.0.min.css\");\n",
       "      Bokeh.embed.inject_css(\"https://cdn.pydata.org/bokeh/release/bokeh-widgets-0.13.0.min.css\");\n",
       "      console.log(\"Bokeh: injecting CSS: https://cdn.pydata.org/bokeh/release/bokeh-tables-0.13.0.min.css\");\n",
       "      Bokeh.embed.inject_css(\"https://cdn.pydata.org/bokeh/release/bokeh-tables-0.13.0.min.css\");\n",
       "    }\n",
       "  ];\n",
       "\n",
       "  function run_inline_js() {\n",
       "    \n",
       "    if ((root.Bokeh !== undefined) || (force === true)) {\n",
       "      for (var i = 0; i < inline_js.length; i++) {\n",
       "        inline_js[i].call(root, root.Bokeh);\n",
       "      }if (force === true) {\n",
       "        display_loaded();\n",
       "      }} else if (Date.now() < root._bokeh_timeout) {\n",
       "      setTimeout(run_inline_js, 100);\n",
       "    } else if (!root._bokeh_failed_load) {\n",
       "      console.log(\"Bokeh: BokehJS failed to load within specified timeout.\");\n",
       "      root._bokeh_failed_load = true;\n",
       "    } else if (force !== true) {\n",
       "      var cell = $(document.getElementById(\"72ebb79f-6ae0-4293-b06b-b87fd77956c8\")).parents('.cell').data().cell;\n",
       "      cell.output_area.append_execute_result(NB_LOAD_WARNING)\n",
       "    }\n",
       "\n",
       "  }\n",
       "\n",
       "  if (root._bokeh_is_loading === 0) {\n",
       "    console.log(\"Bokeh: BokehJS loaded, going straight to plotting\");\n",
       "    run_inline_js();\n",
       "  } else {\n",
       "    load_libs(js_urls, function() {\n",
       "      console.log(\"Bokeh: BokehJS plotting callback run at\", now());\n",
       "      run_inline_js();\n",
       "    });\n",
       "  }\n",
       "}(window));"
      ],
      "application/vnd.bokehjs_load.v0+json": "\n(function(root) {\n  function now() {\n    return new Date();\n  }\n\n  var force = true;\n\n  if (typeof (root._bokeh_onload_callbacks) === \"undefined\" || force === true) {\n    root._bokeh_onload_callbacks = [];\n    root._bokeh_is_loading = undefined;\n  }\n\n  \n\n  \n  if (typeof (root._bokeh_timeout) === \"undefined\" || force === true) {\n    root._bokeh_timeout = Date.now() + 5000;\n    root._bokeh_failed_load = false;\n  }\n\n  var NB_LOAD_WARNING = {'data': {'text/html':\n     \"<div style='background-color: #fdd'>\\n\"+\n     \"<p>\\n\"+\n     \"BokehJS does not appear to have successfully loaded. If loading BokehJS from CDN, this \\n\"+\n     \"may be due to a slow or bad network connection. Possible fixes:\\n\"+\n     \"</p>\\n\"+\n     \"<ul>\\n\"+\n     \"<li>re-rerun `output_notebook()` to attempt to load from CDN again, or</li>\\n\"+\n     \"<li>use INLINE resources instead, as so:</li>\\n\"+\n     \"</ul>\\n\"+\n     \"<code>\\n\"+\n     \"from bokeh.resources import INLINE\\n\"+\n     \"output_notebook(resources=INLINE)\\n\"+\n     \"</code>\\n\"+\n     \"</div>\"}};\n\n  function display_loaded() {\n    var el = document.getElementById(\"72ebb79f-6ae0-4293-b06b-b87fd77956c8\");\n    if (el != null) {\n      el.textContent = \"BokehJS is loading...\";\n    }\n    if (root.Bokeh !== undefined) {\n      if (el != null) {\n        el.textContent = \"BokehJS \" + root.Bokeh.version + \" successfully loaded.\";\n      }\n    } else if (Date.now() < root._bokeh_timeout) {\n      setTimeout(display_loaded, 100)\n    }\n  }\n\n\n  function run_callbacks() {\n    try {\n      root._bokeh_onload_callbacks.forEach(function(callback) { callback() });\n    }\n    finally {\n      delete root._bokeh_onload_callbacks\n    }\n    console.info(\"Bokeh: all callbacks have finished\");\n  }\n\n  function load_libs(js_urls, callback) {\n    root._bokeh_onload_callbacks.push(callback);\n    if (root._bokeh_is_loading > 0) {\n      console.log(\"Bokeh: BokehJS is being loaded, scheduling callback at\", now());\n      return null;\n    }\n    if (js_urls == null || js_urls.length === 0) {\n      run_callbacks();\n      return null;\n    }\n    console.log(\"Bokeh: BokehJS not loaded, scheduling load and callback at\", now());\n    root._bokeh_is_loading = js_urls.length;\n    for (var i = 0; i < js_urls.length; i++) {\n      var url = js_urls[i];\n      var s = document.createElement('script');\n      s.src = url;\n      s.async = false;\n      s.onreadystatechange = s.onload = function() {\n        root._bokeh_is_loading--;\n        if (root._bokeh_is_loading === 0) {\n          console.log(\"Bokeh: all BokehJS libraries loaded\");\n          run_callbacks()\n        }\n      };\n      s.onerror = function() {\n        console.warn(\"failed to load library \" + url);\n      };\n      console.log(\"Bokeh: injecting script tag for BokehJS library: \", url);\n      document.getElementsByTagName(\"head\")[0].appendChild(s);\n    }\n  };var element = document.getElementById(\"72ebb79f-6ae0-4293-b06b-b87fd77956c8\");\n  if (element == null) {\n    console.log(\"Bokeh: ERROR: autoload.js configured with elementid '72ebb79f-6ae0-4293-b06b-b87fd77956c8' but no matching script tag was found. \")\n    return false;\n  }\n\n  var js_urls = [\"https://cdn.pydata.org/bokeh/release/bokeh-0.13.0.min.js\", \"https://cdn.pydata.org/bokeh/release/bokeh-widgets-0.13.0.min.js\", \"https://cdn.pydata.org/bokeh/release/bokeh-tables-0.13.0.min.js\", \"https://cdn.pydata.org/bokeh/release/bokeh-gl-0.13.0.min.js\"];\n\n  var inline_js = [\n    function(Bokeh) {\n      Bokeh.set_log_level(\"info\");\n    },\n    \n    function(Bokeh) {\n      \n    },\n    function(Bokeh) {\n      console.log(\"Bokeh: injecting CSS: https://cdn.pydata.org/bokeh/release/bokeh-0.13.0.min.css\");\n      Bokeh.embed.inject_css(\"https://cdn.pydata.org/bokeh/release/bokeh-0.13.0.min.css\");\n      console.log(\"Bokeh: injecting CSS: https://cdn.pydata.org/bokeh/release/bokeh-widgets-0.13.0.min.css\");\n      Bokeh.embed.inject_css(\"https://cdn.pydata.org/bokeh/release/bokeh-widgets-0.13.0.min.css\");\n      console.log(\"Bokeh: injecting CSS: https://cdn.pydata.org/bokeh/release/bokeh-tables-0.13.0.min.css\");\n      Bokeh.embed.inject_css(\"https://cdn.pydata.org/bokeh/release/bokeh-tables-0.13.0.min.css\");\n    }\n  ];\n\n  function run_inline_js() {\n    \n    if ((root.Bokeh !== undefined) || (force === true)) {\n      for (var i = 0; i < inline_js.length; i++) {\n        inline_js[i].call(root, root.Bokeh);\n      }if (force === true) {\n        display_loaded();\n      }} else if (Date.now() < root._bokeh_timeout) {\n      setTimeout(run_inline_js, 100);\n    } else if (!root._bokeh_failed_load) {\n      console.log(\"Bokeh: BokehJS failed to load within specified timeout.\");\n      root._bokeh_failed_load = true;\n    } else if (force !== true) {\n      var cell = $(document.getElementById(\"72ebb79f-6ae0-4293-b06b-b87fd77956c8\")).parents('.cell').data().cell;\n      cell.output_area.append_execute_result(NB_LOAD_WARNING)\n    }\n\n  }\n\n  if (root._bokeh_is_loading === 0) {\n    console.log(\"Bokeh: BokehJS loaded, going straight to plotting\");\n    run_inline_js();\n  } else {\n    load_libs(js_urls, function() {\n      console.log(\"Bokeh: BokehJS plotting callback run at\", now());\n      run_inline_js();\n    });\n  }\n}(window));"
     },
     "metadata": {},
     "output_type": "display_data"
    }
   ],
   "source": [
    "from sklearn.manifold import TSNE\n",
    "# NLTK\n",
    "from nltk.tokenize import RegexpTokenizer\n",
    "from nltk.stem.snowball import SnowballStemmer\n",
    "from nltk.corpus import stopwords\n",
    "import re\n",
    "\n",
    "# Visualization\n",
    "import matplotlib.pyplot as plt\n",
    "import matplotlib.patches as mpatches\n",
    "import matplotlib\n",
    "%matplotlib inline\n",
    "import seaborn as sns\n",
    "\n",
    "# Bokeh\n",
    "from bokeh.io import output_notebook\n",
    "from bokeh.plotting import figure, show\n",
    "from bokeh.models import HoverTool, CustomJS, ColumnDataSource, Slider\n",
    "from bokeh.layouts import column\n",
    "from bokeh.palettes import all_palettes\n",
    "output_notebook()"
   ]
  },
  {
   "cell_type": "markdown",
   "metadata": {
    "_uuid": "aff159623d6df59ee2363bc4b6f548b40fcf7782"
   },
   "source": [
    "### Lets now visualise the LSI model and see the words and documents that are close to each other according to the model"
   ]
  },
  {
   "cell_type": "markdown",
   "metadata": {
    "_uuid": "31923dd5ef9b6f73ca74e3e455fe570e7b0ff696"
   },
   "source": [
    "### Documents"
   ]
  },
  {
   "cell_type": "code",
   "execution_count": 13,
   "metadata": {
    "_uuid": "03d04a8a51728b3dcda1d8bfb862f985fd9fc7d4"
   },
   "outputs": [
    {
     "data": {
      "text/html": [
       "\n",
       "    <div class=\"bk-root\">\n",
       "        <a href=\"https://bokeh.pydata.org\" target=\"_blank\" class=\"bk-logo bk-logo-small bk-logo-notebook\"></a>\n",
       "        <span id=\"a35fc498-eb8b-42f1-b777-d2b06ff47400\">Loading BokehJS ...</span>\n",
       "    </div>"
      ]
     },
     "metadata": {},
     "output_type": "display_data"
    },
    {
     "data": {
      "application/javascript": [
       "\n",
       "(function(root) {\n",
       "  function now() {\n",
       "    return new Date();\n",
       "  }\n",
       "\n",
       "  var force = true;\n",
       "\n",
       "  if (typeof (root._bokeh_onload_callbacks) === \"undefined\" || force === true) {\n",
       "    root._bokeh_onload_callbacks = [];\n",
       "    root._bokeh_is_loading = undefined;\n",
       "  }\n",
       "\n",
       "  var JS_MIME_TYPE = 'application/javascript';\n",
       "  var HTML_MIME_TYPE = 'text/html';\n",
       "  var EXEC_MIME_TYPE = 'application/vnd.bokehjs_exec.v0+json';\n",
       "  var CLASS_NAME = 'output_bokeh rendered_html';\n",
       "\n",
       "  /**\n",
       "   * Render data to the DOM node\n",
       "   */\n",
       "  function render(props, node) {\n",
       "    var script = document.createElement(\"script\");\n",
       "    node.appendChild(script);\n",
       "  }\n",
       "\n",
       "  /**\n",
       "   * Handle when an output is cleared or removed\n",
       "   */\n",
       "  function handleClearOutput(event, handle) {\n",
       "    var cell = handle.cell;\n",
       "\n",
       "    var id = cell.output_area._bokeh_element_id;\n",
       "    var server_id = cell.output_area._bokeh_server_id;\n",
       "    // Clean up Bokeh references\n",
       "    if (id != null && id in Bokeh.index) {\n",
       "      Bokeh.index[id].model.document.clear();\n",
       "      delete Bokeh.index[id];\n",
       "    }\n",
       "\n",
       "    if (server_id !== undefined) {\n",
       "      // Clean up Bokeh references\n",
       "      var cmd = \"from bokeh.io.state import curstate; print(curstate().uuid_to_server['\" + server_id + \"'].get_sessions()[0].document.roots[0]._id)\";\n",
       "      cell.notebook.kernel.execute(cmd, {\n",
       "        iopub: {\n",
       "          output: function(msg) {\n",
       "            var id = msg.content.text.trim();\n",
       "            if (id in Bokeh.index) {\n",
       "              Bokeh.index[id].model.document.clear();\n",
       "              delete Bokeh.index[id];\n",
       "            }\n",
       "          }\n",
       "        }\n",
       "      });\n",
       "      // Destroy server and session\n",
       "      var cmd = \"import bokeh.io.notebook as ion; ion.destroy_server('\" + server_id + \"')\";\n",
       "      cell.notebook.kernel.execute(cmd);\n",
       "    }\n",
       "  }\n",
       "\n",
       "  /**\n",
       "   * Handle when a new output is added\n",
       "   */\n",
       "  function handleAddOutput(event, handle) {\n",
       "    var output_area = handle.output_area;\n",
       "    var output = handle.output;\n",
       "\n",
       "    // limit handleAddOutput to display_data with EXEC_MIME_TYPE content only\n",
       "    if ((output.output_type != \"display_data\") || (!output.data.hasOwnProperty(EXEC_MIME_TYPE))) {\n",
       "      return\n",
       "    }\n",
       "\n",
       "    var toinsert = output_area.element.find(\".\" + CLASS_NAME.split(' ')[0]);\n",
       "\n",
       "    if (output.metadata[EXEC_MIME_TYPE][\"id\"] !== undefined) {\n",
       "      toinsert[toinsert.length - 1].firstChild.textContent = output.data[JS_MIME_TYPE];\n",
       "      // store reference to embed id on output_area\n",
       "      output_area._bokeh_element_id = output.metadata[EXEC_MIME_TYPE][\"id\"];\n",
       "    }\n",
       "    if (output.metadata[EXEC_MIME_TYPE][\"server_id\"] !== undefined) {\n",
       "      var bk_div = document.createElement(\"div\");\n",
       "      bk_div.innerHTML = output.data[HTML_MIME_TYPE];\n",
       "      var script_attrs = bk_div.children[0].attributes;\n",
       "      for (var i = 0; i < script_attrs.length; i++) {\n",
       "        toinsert[toinsert.length - 1].firstChild.setAttribute(script_attrs[i].name, script_attrs[i].value);\n",
       "      }\n",
       "      // store reference to server id on output_area\n",
       "      output_area._bokeh_server_id = output.metadata[EXEC_MIME_TYPE][\"server_id\"];\n",
       "    }\n",
       "  }\n",
       "\n",
       "  function register_renderer(events, OutputArea) {\n",
       "\n",
       "    function append_mime(data, metadata, element) {\n",
       "      // create a DOM node to render to\n",
       "      var toinsert = this.create_output_subarea(\n",
       "        metadata,\n",
       "        CLASS_NAME,\n",
       "        EXEC_MIME_TYPE\n",
       "      );\n",
       "      this.keyboard_manager.register_events(toinsert);\n",
       "      // Render to node\n",
       "      var props = {data: data, metadata: metadata[EXEC_MIME_TYPE]};\n",
       "      render(props, toinsert[toinsert.length - 1]);\n",
       "      element.append(toinsert);\n",
       "      return toinsert\n",
       "    }\n",
       "\n",
       "    /* Handle when an output is cleared or removed */\n",
       "    events.on('clear_output.CodeCell', handleClearOutput);\n",
       "    events.on('delete.Cell', handleClearOutput);\n",
       "\n",
       "    /* Handle when a new output is added */\n",
       "    events.on('output_added.OutputArea', handleAddOutput);\n",
       "\n",
       "    /**\n",
       "     * Register the mime type and append_mime function with output_area\n",
       "     */\n",
       "    OutputArea.prototype.register_mime_type(EXEC_MIME_TYPE, append_mime, {\n",
       "      /* Is output safe? */\n",
       "      safe: true,\n",
       "      /* Index of renderer in `output_area.display_order` */\n",
       "      index: 0\n",
       "    });\n",
       "  }\n",
       "\n",
       "  // register the mime type if in Jupyter Notebook environment and previously unregistered\n",
       "  if (root.Jupyter !== undefined) {\n",
       "    var events = require('base/js/events');\n",
       "    var OutputArea = require('notebook/js/outputarea').OutputArea;\n",
       "\n",
       "    if (OutputArea.prototype.mime_types().indexOf(EXEC_MIME_TYPE) == -1) {\n",
       "      register_renderer(events, OutputArea);\n",
       "    }\n",
       "  }\n",
       "\n",
       "  \n",
       "  if (typeof (root._bokeh_timeout) === \"undefined\" || force === true) {\n",
       "    root._bokeh_timeout = Date.now() + 5000;\n",
       "    root._bokeh_failed_load = false;\n",
       "  }\n",
       "\n",
       "  var NB_LOAD_WARNING = {'data': {'text/html':\n",
       "     \"<div style='background-color: #fdd'>\\n\"+\n",
       "     \"<p>\\n\"+\n",
       "     \"BokehJS does not appear to have successfully loaded. If loading BokehJS from CDN, this \\n\"+\n",
       "     \"may be due to a slow or bad network connection. Possible fixes:\\n\"+\n",
       "     \"</p>\\n\"+\n",
       "     \"<ul>\\n\"+\n",
       "     \"<li>re-rerun `output_notebook()` to attempt to load from CDN again, or</li>\\n\"+\n",
       "     \"<li>use INLINE resources instead, as so:</li>\\n\"+\n",
       "     \"</ul>\\n\"+\n",
       "     \"<code>\\n\"+\n",
       "     \"from bokeh.resources import INLINE\\n\"+\n",
       "     \"output_notebook(resources=INLINE)\\n\"+\n",
       "     \"</code>\\n\"+\n",
       "     \"</div>\"}};\n",
       "\n",
       "  function display_loaded() {\n",
       "    var el = document.getElementById(\"a35fc498-eb8b-42f1-b777-d2b06ff47400\");\n",
       "    if (el != null) {\n",
       "      el.textContent = \"BokehJS is loading...\";\n",
       "    }\n",
       "    if (root.Bokeh !== undefined) {\n",
       "      if (el != null) {\n",
       "        el.textContent = \"BokehJS \" + root.Bokeh.version + \" successfully loaded.\";\n",
       "      }\n",
       "    } else if (Date.now() < root._bokeh_timeout) {\n",
       "      setTimeout(display_loaded, 100)\n",
       "    }\n",
       "  }\n",
       "\n",
       "\n",
       "  function run_callbacks() {\n",
       "    try {\n",
       "      root._bokeh_onload_callbacks.forEach(function(callback) { callback() });\n",
       "    }\n",
       "    finally {\n",
       "      delete root._bokeh_onload_callbacks\n",
       "    }\n",
       "    console.info(\"Bokeh: all callbacks have finished\");\n",
       "  }\n",
       "\n",
       "  function load_libs(js_urls, callback) {\n",
       "    root._bokeh_onload_callbacks.push(callback);\n",
       "    if (root._bokeh_is_loading > 0) {\n",
       "      console.log(\"Bokeh: BokehJS is being loaded, scheduling callback at\", now());\n",
       "      return null;\n",
       "    }\n",
       "    if (js_urls == null || js_urls.length === 0) {\n",
       "      run_callbacks();\n",
       "      return null;\n",
       "    }\n",
       "    console.log(\"Bokeh: BokehJS not loaded, scheduling load and callback at\", now());\n",
       "    root._bokeh_is_loading = js_urls.length;\n",
       "    for (var i = 0; i < js_urls.length; i++) {\n",
       "      var url = js_urls[i];\n",
       "      var s = document.createElement('script');\n",
       "      s.src = url;\n",
       "      s.async = false;\n",
       "      s.onreadystatechange = s.onload = function() {\n",
       "        root._bokeh_is_loading--;\n",
       "        if (root._bokeh_is_loading === 0) {\n",
       "          console.log(\"Bokeh: all BokehJS libraries loaded\");\n",
       "          run_callbacks()\n",
       "        }\n",
       "      };\n",
       "      s.onerror = function() {\n",
       "        console.warn(\"failed to load library \" + url);\n",
       "      };\n",
       "      console.log(\"Bokeh: injecting script tag for BokehJS library: \", url);\n",
       "      document.getElementsByTagName(\"head\")[0].appendChild(s);\n",
       "    }\n",
       "  };var element = document.getElementById(\"a35fc498-eb8b-42f1-b777-d2b06ff47400\");\n",
       "  if (element == null) {\n",
       "    console.log(\"Bokeh: ERROR: autoload.js configured with elementid 'a35fc498-eb8b-42f1-b777-d2b06ff47400' but no matching script tag was found. \")\n",
       "    return false;\n",
       "  }\n",
       "\n",
       "  var js_urls = [\"https://cdn.pydata.org/bokeh/release/bokeh-0.13.0.min.js\", \"https://cdn.pydata.org/bokeh/release/bokeh-widgets-0.13.0.min.js\", \"https://cdn.pydata.org/bokeh/release/bokeh-tables-0.13.0.min.js\", \"https://cdn.pydata.org/bokeh/release/bokeh-gl-0.13.0.min.js\"];\n",
       "\n",
       "  var inline_js = [\n",
       "    function(Bokeh) {\n",
       "      Bokeh.set_log_level(\"info\");\n",
       "    },\n",
       "    \n",
       "    function(Bokeh) {\n",
       "      \n",
       "    },\n",
       "    function(Bokeh) {\n",
       "      console.log(\"Bokeh: injecting CSS: https://cdn.pydata.org/bokeh/release/bokeh-0.13.0.min.css\");\n",
       "      Bokeh.embed.inject_css(\"https://cdn.pydata.org/bokeh/release/bokeh-0.13.0.min.css\");\n",
       "      console.log(\"Bokeh: injecting CSS: https://cdn.pydata.org/bokeh/release/bokeh-widgets-0.13.0.min.css\");\n",
       "      Bokeh.embed.inject_css(\"https://cdn.pydata.org/bokeh/release/bokeh-widgets-0.13.0.min.css\");\n",
       "      console.log(\"Bokeh: injecting CSS: https://cdn.pydata.org/bokeh/release/bokeh-tables-0.13.0.min.css\");\n",
       "      Bokeh.embed.inject_css(\"https://cdn.pydata.org/bokeh/release/bokeh-tables-0.13.0.min.css\");\n",
       "    }\n",
       "  ];\n",
       "\n",
       "  function run_inline_js() {\n",
       "    \n",
       "    if ((root.Bokeh !== undefined) || (force === true)) {\n",
       "      for (var i = 0; i < inline_js.length; i++) {\n",
       "        inline_js[i].call(root, root.Bokeh);\n",
       "      }if (force === true) {\n",
       "        display_loaded();\n",
       "      }} else if (Date.now() < root._bokeh_timeout) {\n",
       "      setTimeout(run_inline_js, 100);\n",
       "    } else if (!root._bokeh_failed_load) {\n",
       "      console.log(\"Bokeh: BokehJS failed to load within specified timeout.\");\n",
       "      root._bokeh_failed_load = true;\n",
       "    } else if (force !== true) {\n",
       "      var cell = $(document.getElementById(\"a35fc498-eb8b-42f1-b777-d2b06ff47400\")).parents('.cell').data().cell;\n",
       "      cell.output_area.append_execute_result(NB_LOAD_WARNING)\n",
       "    }\n",
       "\n",
       "  }\n",
       "\n",
       "  if (root._bokeh_is_loading === 0) {\n",
       "    console.log(\"Bokeh: BokehJS loaded, going straight to plotting\");\n",
       "    run_inline_js();\n",
       "  } else {\n",
       "    load_libs(js_urls, function() {\n",
       "      console.log(\"Bokeh: BokehJS plotting callback run at\", now());\n",
       "      run_inline_js();\n",
       "    });\n",
       "  }\n",
       "}(window));"
      ],
      "application/vnd.bokehjs_load.v0+json": "\n(function(root) {\n  function now() {\n    return new Date();\n  }\n\n  var force = true;\n\n  if (typeof (root._bokeh_onload_callbacks) === \"undefined\" || force === true) {\n    root._bokeh_onload_callbacks = [];\n    root._bokeh_is_loading = undefined;\n  }\n\n  \n\n  \n  if (typeof (root._bokeh_timeout) === \"undefined\" || force === true) {\n    root._bokeh_timeout = Date.now() + 5000;\n    root._bokeh_failed_load = false;\n  }\n\n  var NB_LOAD_WARNING = {'data': {'text/html':\n     \"<div style='background-color: #fdd'>\\n\"+\n     \"<p>\\n\"+\n     \"BokehJS does not appear to have successfully loaded. If loading BokehJS from CDN, this \\n\"+\n     \"may be due to a slow or bad network connection. Possible fixes:\\n\"+\n     \"</p>\\n\"+\n     \"<ul>\\n\"+\n     \"<li>re-rerun `output_notebook()` to attempt to load from CDN again, or</li>\\n\"+\n     \"<li>use INLINE resources instead, as so:</li>\\n\"+\n     \"</ul>\\n\"+\n     \"<code>\\n\"+\n     \"from bokeh.resources import INLINE\\n\"+\n     \"output_notebook(resources=INLINE)\\n\"+\n     \"</code>\\n\"+\n     \"</div>\"}};\n\n  function display_loaded() {\n    var el = document.getElementById(\"a35fc498-eb8b-42f1-b777-d2b06ff47400\");\n    if (el != null) {\n      el.textContent = \"BokehJS is loading...\";\n    }\n    if (root.Bokeh !== undefined) {\n      if (el != null) {\n        el.textContent = \"BokehJS \" + root.Bokeh.version + \" successfully loaded.\";\n      }\n    } else if (Date.now() < root._bokeh_timeout) {\n      setTimeout(display_loaded, 100)\n    }\n  }\n\n\n  function run_callbacks() {\n    try {\n      root._bokeh_onload_callbacks.forEach(function(callback) { callback() });\n    }\n    finally {\n      delete root._bokeh_onload_callbacks\n    }\n    console.info(\"Bokeh: all callbacks have finished\");\n  }\n\n  function load_libs(js_urls, callback) {\n    root._bokeh_onload_callbacks.push(callback);\n    if (root._bokeh_is_loading > 0) {\n      console.log(\"Bokeh: BokehJS is being loaded, scheduling callback at\", now());\n      return null;\n    }\n    if (js_urls == null || js_urls.length === 0) {\n      run_callbacks();\n      return null;\n    }\n    console.log(\"Bokeh: BokehJS not loaded, scheduling load and callback at\", now());\n    root._bokeh_is_loading = js_urls.length;\n    for (var i = 0; i < js_urls.length; i++) {\n      var url = js_urls[i];\n      var s = document.createElement('script');\n      s.src = url;\n      s.async = false;\n      s.onreadystatechange = s.onload = function() {\n        root._bokeh_is_loading--;\n        if (root._bokeh_is_loading === 0) {\n          console.log(\"Bokeh: all BokehJS libraries loaded\");\n          run_callbacks()\n        }\n      };\n      s.onerror = function() {\n        console.warn(\"failed to load library \" + url);\n      };\n      console.log(\"Bokeh: injecting script tag for BokehJS library: \", url);\n      document.getElementsByTagName(\"head\")[0].appendChild(s);\n    }\n  };var element = document.getElementById(\"a35fc498-eb8b-42f1-b777-d2b06ff47400\");\n  if (element == null) {\n    console.log(\"Bokeh: ERROR: autoload.js configured with elementid 'a35fc498-eb8b-42f1-b777-d2b06ff47400' but no matching script tag was found. \")\n    return false;\n  }\n\n  var js_urls = [\"https://cdn.pydata.org/bokeh/release/bokeh-0.13.0.min.js\", \"https://cdn.pydata.org/bokeh/release/bokeh-widgets-0.13.0.min.js\", \"https://cdn.pydata.org/bokeh/release/bokeh-tables-0.13.0.min.js\", \"https://cdn.pydata.org/bokeh/release/bokeh-gl-0.13.0.min.js\"];\n\n  var inline_js = [\n    function(Bokeh) {\n      Bokeh.set_log_level(\"info\");\n    },\n    \n    function(Bokeh) {\n      \n    },\n    function(Bokeh) {\n      console.log(\"Bokeh: injecting CSS: https://cdn.pydata.org/bokeh/release/bokeh-0.13.0.min.css\");\n      Bokeh.embed.inject_css(\"https://cdn.pydata.org/bokeh/release/bokeh-0.13.0.min.css\");\n      console.log(\"Bokeh: injecting CSS: https://cdn.pydata.org/bokeh/release/bokeh-widgets-0.13.0.min.css\");\n      Bokeh.embed.inject_css(\"https://cdn.pydata.org/bokeh/release/bokeh-widgets-0.13.0.min.css\");\n      console.log(\"Bokeh: injecting CSS: https://cdn.pydata.org/bokeh/release/bokeh-tables-0.13.0.min.css\");\n      Bokeh.embed.inject_css(\"https://cdn.pydata.org/bokeh/release/bokeh-tables-0.13.0.min.css\");\n    }\n  ];\n\n  function run_inline_js() {\n    \n    if ((root.Bokeh !== undefined) || (force === true)) {\n      for (var i = 0; i < inline_js.length; i++) {\n        inline_js[i].call(root, root.Bokeh);\n      }if (force === true) {\n        display_loaded();\n      }} else if (Date.now() < root._bokeh_timeout) {\n      setTimeout(run_inline_js, 100);\n    } else if (!root._bokeh_failed_load) {\n      console.log(\"Bokeh: BokehJS failed to load within specified timeout.\");\n      root._bokeh_failed_load = true;\n    } else if (force !== true) {\n      var cell = $(document.getElementById(\"a35fc498-eb8b-42f1-b777-d2b06ff47400\")).parents('.cell').data().cell;\n      cell.output_area.append_execute_result(NB_LOAD_WARNING)\n    }\n\n  }\n\n  if (root._bokeh_is_loading === 0) {\n    console.log(\"Bokeh: BokehJS loaded, going straight to plotting\");\n    run_inline_js();\n  } else {\n    load_libs(js_urls, function() {\n      console.log(\"Bokeh: BokehJS plotting callback run at\", now());\n      run_inline_js();\n    });\n  }\n}(window));"
     },
     "metadata": {},
     "output_type": "display_data"
    },
    {
     "data": {
      "text/html": [
       "\n",
       "\n",
       "\n",
       "\n",
       "\n",
       "\n",
       "  <div class=\"bk-root\" id=\"93218545-c2fc-456d-b125-b94cab7fddf5\"></div>\n"
      ]
     },
     "metadata": {},
     "output_type": "display_data"
    },
    {
     "data": {
      "application/javascript": [
       "(function(root) {\n",
       "  function embed_document(root) {\n",
       "    \n",
       "  var docs_json = {\"c938ffb3-0f77-4b3f-a5d7-bd0188105d12\":{\"roots\":{\"references\":[{\"attributes\":{},\"id\":\"e538fdfa-c7a6-4c86-82c3-dd9ed8b21210\",\"type\":\"Selection\"},{\"attributes\":{},\"id\":\"7be38d4e-b1b1-419f-987f-571b4265b7a7\",\"type\":\"LinearScale\"},{\"attributes\":{\"callback\":null},\"id\":\"33a004b8-35e3-4237-b846-0278ab95269d\",\"type\":\"DataRange1d\"},{\"attributes\":{\"fill_alpha\":{\"value\":0.1},\"fill_color\":{\"value\":\"#1f77b4\"},\"line_alpha\":{\"value\":0.1},\"line_color\":{\"value\":\"#1f77b4\"},\"size\":{\"units\":\"screen\",\"value\":12},\"x\":{\"field\":\"x\"},\"y\":{\"field\":\"y\"}},\"id\":\"b1c0464b-1715-44b8-86c4-cbc1655339ab\",\"type\":\"Circle\"},{\"attributes\":{\"formatter\":{\"id\":\"cecbf9db-61d7-4f95-90bd-a8ec342908ea\",\"type\":\"BasicTickFormatter\"},\"plot\":{\"id\":\"e94d8673-3136-4d95-8f06-75b9193e564c\",\"subtype\":\"Figure\",\"type\":\"Plot\"},\"ticker\":{\"id\":\"3efc8667-2902-4b9f-80fd-8f0bdf9180bd\",\"type\":\"BasicTicker\"}},\"id\":\"5126b09a-5093-4ad8-8d39-37f1eb1f67fc\",\"type\":\"LinearAxis\"},{\"attributes\":{},\"id\":\"3efc8667-2902-4b9f-80fd-8f0bdf9180bd\",\"type\":\"BasicTicker\"},{\"attributes\":{\"active_drag\":\"auto\",\"active_inspect\":\"auto\",\"active_multi\":null,\"active_scroll\":\"auto\",\"active_tap\":\"auto\",\"tools\":[{\"id\":\"4790a9f9-2214-47ec-aef9-f8139c581752\",\"type\":\"PanTool\"},{\"id\":\"76f3b8b5-70e6-4d1b-ab19-7f900246fe63\",\"type\":\"WheelZoomTool\"},{\"id\":\"be5c7884-850c-4ee7-a022-c51fbae74d9b\",\"type\":\"BoxZoomTool\"},{\"id\":\"60b64e1f-e811-4f8b-a7d9-98374f0c4f50\",\"type\":\"SaveTool\"},{\"id\":\"69f2c303-5e53-4ad9-8e99-420cec30edea\",\"type\":\"ResetTool\"},{\"id\":\"c2f21691-228a-436d-880f-8f5835d6c132\",\"type\":\"HelpTool\"}]},\"id\":\"0d8a4022-3c4a-4dd5-a295-1cafa4dd9d93\",\"type\":\"Toolbar\"},{\"attributes\":{\"plot\":{\"id\":\"e94d8673-3136-4d95-8f06-75b9193e564c\",\"subtype\":\"Figure\",\"type\":\"Plot\"},\"ticker\":{\"id\":\"3efc8667-2902-4b9f-80fd-8f0bdf9180bd\",\"type\":\"BasicTicker\"}},\"id\":\"95502c4b-033a-43c2-86e9-260be451896a\",\"type\":\"Grid\"},{\"attributes\":{\"formatter\":{\"id\":\"01307ab5-1025-4a92-b19d-0d289b1b14ba\",\"type\":\"BasicTickFormatter\"},\"plot\":{\"id\":\"e94d8673-3136-4d95-8f06-75b9193e564c\",\"subtype\":\"Figure\",\"type\":\"Plot\"},\"ticker\":{\"id\":\"ed47afc3-e1fe-4a74-95cd-ad22b5f84b65\",\"type\":\"BasicTicker\"}},\"id\":\"c124a7c5-5e2e-4fe5-9997-ff6b16079ac6\",\"type\":\"LinearAxis\"},{\"attributes\":{},\"id\":\"ed47afc3-e1fe-4a74-95cd-ad22b5f84b65\",\"type\":\"BasicTicker\"},{\"attributes\":{\"callback\":null,\"data\":{\"document\":[0,1,2,3,4,5,6,7,8,9,10,11,12,13,14,15,16,17,18,19,20,21,22,23,24,25,26,27,28,29,30,31,32,33,34,35,36,37,38,39,40,41,42,43,44,45,46,47,48,49,50,51,52,53,54,55,56,57,58,59,60,61,62,63,64,65,66,67,68,69,70,71,72,73,74,75,76,77,78,79,80,81,82,83,84,85,86,87,88,89,90,91,92,93,94,95,96,97,98,99,100,101,102,103,104,105,106,107,108,109,110,111,112,113,114,115,116,117,118,119,120,121,122,123,124,125,126,127,128,129,130,131,132,133,134,135,136,137,138,139,140,141,142,143,144,145,146,147,148,149,150,151,152,153,154,155,156,157,158,159,160,161,162,163,164,165,166,167,168,169,170,171,172,173,174,175,176,177,178,179,180,181,182,183,184,185,186,187,188,189,190,191,192,193,194,195,196,197,198,199,200,201,202,203,204,205,206,207,208,209,210,211,212,213,214,215,216,217,218,219,220,221,222,223,224,225,226,227,228,229,230,231,232,233,234,235,236,237,238,239,240,241,242,243,244,245,246,247,248,249,250,251,252,253,254,255,256,257,258,259,260,261,262,263,264,265,266,267,268,269,270,271,272,273,274,275,276,277,278,279,280,281,282,283,284,285,286,287,288,289,290,291,292,293,294,295,296,297,298,299,300,301,302,303,304,305,306,307,308,309,310,311,312,313,314,315,316,317,318,319,320,321,322,323,324,325,326,327,328,329,330,331,332,333,334,335,336,337,338,339,340,341,342,343,344,345,346,347,348,349,350,351,352,353,354,355,356,357,358,359,360,361,362,363,364,365,366,367,368,369,370,371,372,373,374,375,376,377,378,379,380,381,382,383,384,385,386,387,388,389,390,391,392,393,394,395,396,397,398,399,400,401,402,403,404,405,406,407,408,409,410,411,412,413,414,415,416,417,418,419,420,421,422,423,424,425,426,427,428,429,430,431,432,433,434,435,436,437,438,439,440,441,442,443,444,445,446,447,448,449,450,451,452,453,454,455,456,457,458,459,460,461,462,463,464,465,466,467,468,469,470,471,472,473,474,475,476,477,478,479,480,481,482,483,484,485,486,487,488,489,490,491,492,493,494,495,496,497,498,499,500,501,502,503,504,505,506,507,508,509,510,511,512,513,514,515,516,517,518,519,520,521,522,523,524,525,526,527,528,529,530,531,532,533,534,535,536,537,538,539,540,541,542,543,544,545,546,547,548,549,550,551,552,553,554,555,556,557,558,559,560,561,562,563,564,565,566,567,568,569,570,571,572,573,574,575,576,577,578,579,580,581,582,583,584,585,586,587,588,589,590,591,592,593,594,595,596,597,598,599,600,601,602,603,604,605,606,607,608,609,610,611,612,613,614,615,616,617,618,619,620,621,622,623,624,625,626,627,628,629,630,631,632,633,634,635,636,637,638,639,640,641,642,643,644,645,646,647,648,649,650,651,652,653,654,655,656,657,658,659,660,661,662,663,664,665,666,667,668,669,670,671,672,673,674,675,676,677,678,679,680,681,682,683,684,685,686,687,688,689,690,691,692,693,694,695,696,697,698,699,700,701,702,703,704,705,706,707,708,709,710,711,712,713,714,715,716,717,718,719,720,721,722,723,724,725,726,727,728,729,730,731,732,733,734,735,736,737,738,739,740,741,742,743,744,745,746,747,748,749,750,751,752,753,754,755,756,757,758,759,760,761,762,763,764,765,766,767,768,769,770,771,772,773,774,775,776,777,778,779,780,781,782,783,784,785,786,787,788,789,790,791,792,793,794,795,796,797,798,799,800,801,802,803,804,805,806,807,808,809,810,811,812,813,814,815,816,817,818,819,820,821,822,823,824,825,826,827,828,829,830,831,832,833,834,835,836,837,838,839,840,841,842,843,844,845,846,847,848,849,850,851,852,853,854,855,856,857,858,859,860,861,862,863,864,865,866,867,868,869,870,871,872,873,874,875,876,877,878,879,880,881,882,883,884,885,886,887,888,889,890,891,892,893,894,895,896,897,898,899,900,901,902,903,904,905,906,907,908,909,910,911,912,913,914,915,916,917,918,919,920,921,922,923,924,925,926,927,928,929,930,931,932,933,934,935,936,937,938,939,940,941,942,943,944,945,946,947,948,949,950,951,952,953,954,955,956,957,958,959,960,961,962,963,964,965,966,967,968,969,970,971,972,973,974,975,976,977,978,979,980,981,982,983,984,985,986,987,988,989,990,991,992,993,994,995,996,997,998,999,1000,1001,1002,1003,1004,1005,1006,1007,1008,1009,1010,1011,1012,1013,1014,1015,1016,1017,1018,1019,1020,1021,1022,1023,1024,1025,1026,1027,1028,1029,1030,1031,1032,1033,1034,1035,1036,1037,1038,1039,1040,1041,1042,1043,1044,1045,1046,1047,1048,1049,1050,1051,1052,1053,1054,1055,1056,1057,1058,1059,1060,1061,1062,1063,1064,1065,1066,1067,1068,1069,1070,1071,1072,1073,1074,1075,1076,1077,1078,1079,1080,1081,1082,1083,1084,1085,1086,1087,1088,1089,1090,1091,1092,1093,1094,1095,1096,1097,1098,1099,1100,1101,1102,1103,1104,1105,1106,1107,1108,1109,1110,1111,1112,1113,1114,1115,1116,1117,1118,1119,1120,1121,1122,1123,1124,1125,1126,1127,1128,1129,1130,1131,1132,1133,1134,1135,1136,1137,1138,1139,1140,1141,1142,1143,1144,1145,1146,1147,1148,1149,1150,1151,1152,1153,1154,1155,1156,1157,1158,1159,1160,1161,1162,1163,1164,1165,1166,1167,1168,1169,1170,1171,1172,1173,1174,1175,1176,1177,1178,1179,1180,1181,1182,1183,1184,1185,1186,1187,1188,1189,1190,1191,1192,1193,1194,1195,1196,1197,1198,1199,1200,1201,1202,1203,1204,1205,1206,1207,1208,1209,1210,1211,1212,1213,1214,1215,1216,1217,1218,1219,1220,1221,1222,1223,1224,1225,1226,1227,1228,1229,1230,1231,1232,1233,1234,1235,1236,1237,1238,1239,1240,1241,1242,1243,1244,1245,1246,1247,1248,1249,1250,1251,1252,1253,1254,1255,1256,1257,1258,1259,1260,1261,1262,1263,1264,1265,1266,1267,1268,1269,1270,1271,1272,1273,1274,1275,1276,1277,1278,1279,1280,1281,1282,1283,1284,1285,1286,1287,1288,1289,1290,1291,1292,1293,1294,1295,1296,1297,1298,1299,1300,1301,1302,1303,1304,1305,1306,1307,1308,1309,1310,1311,1312,1313,1314,1315,1316,1317,1318,1319,1320,1321,1322,1323,1324,1325,1326,1327,1328,1329,1330,1331,1332,1333,1334,1335,1336,1337,1338,1339,1340,1341,1342,1343,1344,1345,1346,1347,1348,1349,1350,1351,1352,1353,1354,1355,1356,1357,1358,1359,1360,1361,1362,1363,1364,1365,1366,1367,1368,1369,1370,1371,1372,1373,1374,1375,1376,1377,1378,1379,1380,1381,1382,1383,1384,1385,1386,1387,1388,1389,1390,1391,1392,1393,1394,1395,1396,1397,1398,1399,1400,1401,1402,1403,1404,1405,1406,1407,1408,1409,1410,1411,1412,1413,1414,1415,1416,1417,1418,1419,1420,1421,1422,1423,1424,1425,1426,1427,1428,1429,1430,1431,1432,1433,1434,1435,1436,1437,1438,1439,1440,1441,1442,1443,1444,1445,1446,1447,1448,1449,1450,1451,1452,1453,1454,1455,1456,1457,1458,1459,1460,1461,1462,1463,1464,1465,1466,1467,1468,1469,1470,1471,1472,1473,1474,1475,1476,1477,1478,1479,1480,1481,1482,1483,1484,1485,1486,1487,1488,1489,1490,1491,1492,1493,1494,1495,1496,1497,1498,1499,1500,1501,1502,1503,1504,1505,1506,1507,1508,1509,1510,1511,1512,1513,1514,1515,1516,1517,1518,1519,1520,1521,1522,1523,1524,1525,1526,1527,1528,1529,1530,1531,1532,1533,1534,1535,1536,1537,1538,1539,1540,1541,1542,1543,1544,1545,1546,1547,1548,1549,1550,1551,1552,1553,1554,1555,1556,1557,1558,1559,1560,1561,1562,1563,1564,1565,1566,1567,1568,1569,1570,1571,1572,1573,1574,1575,1576,1577,1578,1579,1580,1581,1582,1583,1584,1585,1586,1587,1588,1589,1590,1591,1592,1593,1594,1595,1596,1597,1598,1599,1600,1601,1602,1603,1604,1605,1606,1607,1608,1609,1610,1611,1612,1613,1614,1615,1616,1617,1618,1619,1620,1621,1622,1623,1624,1625,1626,1627,1628,1629,1630,1631,1632,1633,1634,1635,1636,1637,1638,1639,1640,1641,1642,1643,1644,1645,1646,1647,1648,1649,1650,1651,1652,1653,1654,1655,1656,1657,1658,1659,1660,1661,1662,1663,1664,1665,1666,1667,1668,1669,1670,1671,1672,1673,1674,1675,1676,1677,1678,1679,1680,1681,1682,1683,1684,1685,1686,1687,1688,1689,1690,1691,1692,1693,1694,1695,1696,1697,1698,1699,1700,1701,1702,1703,1704,1705,1706,1707,1708,1709,1710,1711,1712,1713,1714,1715,1716,1717,1718,1719,1720,1721,1722,1723,1724,1725,1726,1727,1728,1729,1730,1731,1732,1733,1734,1735,1736,1737,1738,1739,1740,1741,1742,1743,1744,1745,1746,1747,1748,1749,1750,1751,1752,1753,1754,1755,1756,1757,1758,1759,1760,1761,1762,1763,1764,1765,1766,1767,1768,1769,1770,1771,1772,1773,1774,1775,1776,1777,1778,1779,1780,1781,1782,1783,1784,1785,1786,1787,1788,1789,1790,1791,1792,1793,1794,1795,1796,1797,1798,1799,1800,1801,1802,1803,1804,1805,1806,1807,1808,1809,1810,1811,1812,1813,1814,1815,1816,1817,1818,1819,1820,1821,1822,1823,1824,1825,1826,1827,1828,1829,1830,1831,1832,1833,1834,1835,1836,1837,1838,1839,1840,1841,1842,1843,1844,1845,1846,1847,1848,1849,1850,1851,1852,1853,1854,1855,1856,1857,1858,1859,1860,1861,1862,1863,1864,1865,1866,1867,1868,1869,1870,1871,1872,1873,1874,1875,1876,1877,1878,1879,1880,1881,1882,1883,1884,1885,1886,1887,1888,1889,1890,1891,1892,1893,1894,1895,1896,1897,1898,1899,1900,1901,1902,1903,1904,1905,1906,1907,1908,1909,1910,1911,1912,1913,1914,1915,1916,1917,1918,1919,1920,1921,1922,1923,1924,1925,1926,1927,1928,1929,1930,1931,1932,1933,1934,1935,1936,1937,1938,1939,1940,1941,1942,1943,1944,1945,1946,1947,1948,1949,1950,1951,1952,1953,1954,1955,1956,1957,1958,1959,1960,1961,1962,1963,1964,1965,1966,1967,1968,1969,1970,1971,1972,1973,1974,1975,1976,1977,1978,1979,1980,1981,1982,1983,1984,1985,1986,1987,1988,1989,1990,1991,1992,1993,1994,1995,1996,1997,1998,1999,2000,2001,2002,2003,2004,2005,2006,2007,2008,2009,2010,2011,2012,2013,2014,2015,2016,2017,2018,2019,2020,2021,2022,2023,2024,2025,2026,2027,2028,2029,2030,2031,2032,2033,2034,2035,2036,2037,2038,2039,2040,2041,2042,2043,2044,2045,2046,2047,2048,2049,2050,2051,2052,2053,2054,2055,2056,2057,2058,2059,2060,2061,2062,2063,2064,2065,2066,2067,2068,2069,2070,2071,2072,2073,2074,2075,2076,2077,2078,2079,2080,2081,2082,2083,2084,2085,2086,2087,2088,2089,2090,2091,2092,2093,2094,2095,2096,2097,2098,2099,2100,2101,2102,2103,2104,2105,2106,2107,2108,2109,2110,2111,2112,2113,2114,2115,2116,2117,2118,2119,2120,2121,2122,2123,2124,2125,2126,2127,2128,2129,2130,2131,2132,2133,2134,2135,2136,2137,2138,2139,2140,2141,2142,2143,2144,2145,2146,2147,2148,2149,2150,2151,2152,2153,2154,2155,2156,2157,2158,2159,2160,2161,2162,2163,2164,2165,2166,2167,2168,2169,2170,2171,2172,2173,2174,2175,2176,2177,2178,2179,2180,2181,2182,2183,2184,2185,2186,2187,2188,2189,2190,2191,2192,2193,2194,2195,2196,2197,2198,2199,2200,2201,2202,2203,2204,2205,2206,2207,2208,2209,2210,2211,2212,2213,2214,2215,2216,2217,2218,2219,2220,2221,2222,2223,2224,2225,2226,2227,2228,2229,2230,2231,2232,2233,2234,2235,2236,2237,2238,2239,2240,2241,2242,2243,2244,2245,2246,2247,2248,2249,2250,2251,2252,2253,2254,2255,2256,2257,2258,2259,2260,2261,2262,2263,2264,2265,2266,2267,2268,2269,2270,2271,2272,2273,2274,2275,2276,2277,2278,2279,2280,2281,2282,2283,2284,2285,2286,2287,2288,2289,2290,2291,2292,2293,2294,2295,2296,2297,2298,2299,2300,2301,2302,2303,2304,2305,2306,2307,2308,2309,2310,2311,2312,2313,2314,2315,2316,2317,2318,2319,2320,2321,2322,2323,2324,2325,2326,2327,2328,2329,2330,2331,2332,2333,2334,2335,2336,2337,2338,2339,2340,2341,2342,2343,2344,2345,2346,2347,2348,2349,2350,2351,2352,2353,2354,2355,2356,2357,2358,2359,2360,2361,2362,2363,2364,2365,2366,2367,2368,2369,2370,2371,2372,2373,2374,2375,2376,2377,2378,2379,2380,2381,2382,2383,2384,2385,2386,2387,2388,2389,2390,2391,2392,2393,2394,2395,2396,2397,2398,2399,2400,2401,2402,2403,2404,2405,2406,2407,2408,2409,2410,2411,2412,2413,2414,2415,2416,2417,2418,2419,2420,2421,2422,2423,2424,2425,2426,2427,2428,2429,2430,2431,2432,2433,2434,2435,2436,2437,2438,2439,2440,2441,2442,2443,2444,2445,2446,2447,2448,2449,2450,2451,2452,2453,2454,2455,2456,2457,2458,2459,2460,2461,2462,2463,2464,2465,2466,2467,2468,2469,2470,2471,2472,2473,2474,2475,2476,2477,2478,2479,2480,2481,2482,2483,2484,2485,2486,2487,2488,2489,2490,2491,2492,2493,2494,2495,2496,2497,2498,2499,2500,2501,2502,2503,2504,2505,2506,2507,2508,2509,2510,2511,2512,2513,2514,2515,2516,2517,2518,2519,2520,2521,2522,2523,2524,2525,2526,2527,2528,2529,2530,2531,2532,2533,2534,2535,2536,2537,2538,2539,2540,2541,2542,2543,2544,2545,2546,2547,2548,2549,2550,2551,2552,2553,2554,2555,2556,2557,2558,2559,2560,2561,2562,2563,2564,2565,2566,2567,2568,2569,2570,2571,2572,2573,2574,2575,2576,2577,2578,2579,2580,2581,2582,2583,2584,2585,2586,2587,2588,2589,2590,2591,2592,2593,2594,2595,2596,2597,2598,2599,2600,2601,2602,2603,2604,2605,2606,2607,2608,2609,2610,2611,2612,2613,2614,2615,2616,2617,2618,2619,2620,2621,2622,2623,2624,2625,2626,2627,2628,2629,2630,2631,2632,2633,2634,2635,2636,2637,2638,2639,2640,2641,2642,2643,2644,2645,2646,2647,2648,2649,2650,2651,2652,2653,2654,2655,2656,2657,2658,2659,2660,2661,2662,2663,2664,2665,2666,2667,2668,2669,2670,2671,2672,2673,2674,2675,2676,2677,2678,2679,2680,2681,2682,2683,2684,2685,2686,2687,2688,2689,2690,2691,2692,2693,2694,2695,2696,2697,2698,2699,2700,2701,2702,2703,2704,2705,2706,2707,2708,2709,2710,2711,2712,2713,2714,2715,2716,2717,2718,2719,2720,2721,2722,2723,2724,2725,2726,2727,2728,2729,2730,2731,2732,2733,2734,2735,2736,2737,2738,2739,2740,2741,2742,2743,2744,2745,2746,2747,2748,2749,2750,2751,2752,2753,2754,2755,2756,2757,2758,2759,2760,2761,2762,2763,2764,2765,2766,2767,2768,2769,2770,2771,2772,2773,2774,2775,2776,2777,2778,2779,2780,2781,2782,2783,2784,2785,2786,2787,2788,2789,2790,2791,2792,2793,2794,2795,2796,2797,2798,2799,2800,2801,2802,2803,2804,2805,2806,2807,2808,2809,2810,2811,2812,2813,2814,2815,2816,2817,2818,2819,2820,2821,2822,2823,2824,2825,2826,2827,2828,2829,2830,2831,2832,2833,2834,2835,2836,2837,2838,2839,2840,2841,2842,2843,2844,2845,2846,2847,2848,2849,2850,2851,2852,2853,2854,2855,2856,2857,2858,2859,2860,2861,2862,2863,2864,2865,2866,2867,2868,2869,2870,2871,2872,2873,2874,2875,2876,2877,2878,2879,2880,2881,2882,2883,2884,2885,2886,2887,2888,2889,2890,2891,2892,2893,2894,2895,2896,2897,2898,2899,2900,2901,2902,2903,2904,2905,2906,2907,2908,2909,2910,2911,2912,2913,2914,2915,2916,2917,2918,2919,2920,2921,2922,2923,2924,2925,2926,2927,2928,2929,2930,2931,2932,2933,2934,2935,2936,2937,2938,2939,2940,2941,2942,2943,2944,2945,2946,2947,2948,2949,2950,2951,2952,2953,2954,2955,2956,2957,2958,2959,2960,2961,2962,2963,2964,2965,2966,2967,2968,2969,2970,2971,2972,2973,2974,2975,2976,2977,2978,2979,2980,2981,2982,2983,2984,2985,2986,2987,2988,2989,2990,2991,2992,2993,2994,2995,2996,2997,2998,2999],\"index\":[0,1,2,3,4,5,6,7,8,9,10,11,12,13,14,15,16,17,18,19,20,21,22,23,24,25,26,27,28,29,30,31,32,33,34,35,36,37,38,39,40,41,42,43,44,45,46,47,48,49,50,51,52,53,54,55,56,57,58,59,60,61,62,63,64,65,66,67,68,69,70,71,72,73,74,75,76,77,78,79,80,81,82,83,84,85,86,87,88,89,90,91,92,93,94,95,96,97,98,99,100,101,102,103,104,105,106,107,108,109,110,111,112,113,114,115,116,117,118,119,120,121,122,123,124,125,126,127,128,129,130,131,132,133,134,135,136,137,138,139,140,141,142,143,144,145,146,147,148,149,150,151,152,153,154,155,156,157,158,159,160,161,162,163,164,165,166,167,168,169,170,171,172,173,174,175,176,177,178,179,180,181,182,183,184,185,186,187,188,189,190,191,192,193,194,195,196,197,198,199,200,201,202,203,204,205,206,207,208,209,210,211,212,213,214,215,216,217,218,219,220,221,222,223,224,225,226,227,228,229,230,231,232,233,234,235,236,237,238,239,240,241,242,243,244,245,246,247,248,249,250,251,252,253,254,255,256,257,258,259,260,261,262,263,264,265,266,267,268,269,270,271,272,273,274,275,276,277,278,279,280,281,282,283,284,285,286,287,288,289,290,291,292,293,294,295,296,297,298,299,300,301,302,303,304,305,306,307,308,309,310,311,312,313,314,315,316,317,318,319,320,321,322,323,324,325,326,327,328,329,330,331,332,333,334,335,336,337,338,339,340,341,342,343,344,345,346,347,348,349,350,351,352,353,354,355,356,357,358,359,360,361,362,363,364,365,366,367,368,369,370,371,372,373,374,375,376,377,378,379,380,381,382,383,384,385,386,387,388,389,390,391,392,393,394,395,396,397,398,399,400,401,402,403,404,405,406,407,408,409,410,411,412,413,414,415,416,417,418,419,420,421,422,423,424,425,426,427,428,429,430,431,432,433,434,435,436,437,438,439,440,441,442,443,444,445,446,447,448,449,450,451,452,453,454,455,456,457,458,459,460,461,462,463,464,465,466,467,468,469,470,471,472,473,474,475,476,477,478,479,480,481,482,483,484,485,486,487,488,489,490,491,492,493,494,495,496,497,498,499,500,501,502,503,504,505,506,507,508,509,510,511,512,513,514,515,516,517,518,519,520,521,522,523,524,525,526,527,528,529,530,531,532,533,534,535,536,537,538,539,540,541,542,543,544,545,546,547,548,549,550,551,552,553,554,555,556,557,558,559,560,561,562,563,564,565,566,567,568,569,570,571,572,573,574,575,576,577,578,579,580,581,582,583,584,585,586,587,588,589,590,591,592,593,594,595,596,597,598,599,600,601,602,603,604,605,606,607,608,609,610,611,612,613,614,615,616,617,618,619,620,621,622,623,624,625,626,627,628,629,630,631,632,633,634,635,636,637,638,639,640,641,642,643,644,645,646,647,648,649,650,651,652,653,654,655,656,657,658,659,660,661,662,663,664,665,666,667,668,669,670,671,672,673,674,675,676,677,678,679,680,681,682,683,684,685,686,687,688,689,690,691,692,693,694,695,696,697,698,699,700,701,702,703,704,705,706,707,708,709,710,711,712,713,714,715,716,717,718,719,720,721,722,723,724,725,726,727,728,729,730,731,732,733,734,735,736,737,738,739,740,741,742,743,744,745,746,747,748,749,750,751,752,753,754,755,756,757,758,759,760,761,762,763,764,765,766,767,768,769,770,771,772,773,774,775,776,777,778,779,780,781,782,783,784,785,786,787,788,789,790,791,792,793,794,795,796,797,798,799,800,801,802,803,804,805,806,807,808,809,810,811,812,813,814,815,816,817,818,819,820,821,822,823,824,825,826,827,828,829,830,831,832,833,834,835,836,837,838,839,840,841,842,843,844,845,846,847,848,849,850,851,852,853,854,855,856,857,858,859,860,861,862,863,864,865,866,867,868,869,870,871,872,873,874,875,876,877,878,879,880,881,882,883,884,885,886,887,888,889,890,891,892,893,894,895,896,897,898,899,900,901,902,903,904,905,906,907,908,909,910,911,912,913,914,915,916,917,918,919,920,921,922,923,924,925,926,927,928,929,930,931,932,933,934,935,936,937,938,939,940,941,942,943,944,945,946,947,948,949,950,951,952,953,954,955,956,957,958,959,960,961,962,963,964,965,966,967,968,969,970,971,972,973,974,975,976,977,978,979,980,981,982,983,984,985,986,987,988,989,990,991,992,993,994,995,996,997,998,999,1000,1001,1002,1003,1004,1005,1006,1007,1008,1009,1010,1011,1012,1013,1014,1015,1016,1017,1018,1019,1020,1021,1022,1023,1024,1025,1026,1027,1028,1029,1030,1031,1032,1033,1034,1035,1036,1037,1038,1039,1040,1041,1042,1043,1044,1045,1046,1047,1048,1049,1050,1051,1052,1053,1054,1055,1056,1057,1058,1059,1060,1061,1062,1063,1064,1065,1066,1067,1068,1069,1070,1071,1072,1073,1074,1075,1076,1077,1078,1079,1080,1081,1082,1083,1084,1085,1086,1087,1088,1089,1090,1091,1092,1093,1094,1095,1096,1097,1098,1099,1100,1101,1102,1103,1104,1105,1106,1107,1108,1109,1110,1111,1112,1113,1114,1115,1116,1117,1118,1119,1120,1121,1122,1123,1124,1125,1126,1127,1128,1129,1130,1131,1132,1133,1134,1135,1136,1137,1138,1139,1140,1141,1142,1143,1144,1145,1146,1147,1148,1149,1150,1151,1152,1153,1154,1155,1156,1157,1158,1159,1160,1161,1162,1163,1164,1165,1166,1167,1168,1169,1170,1171,1172,1173,1174,1175,1176,1177,1178,1179,1180,1181,1182,1183,1184,1185,1186,1187,1188,1189,1190,1191,1192,1193,1194,1195,1196,1197,1198,1199,1200,1201,1202,1203,1204,1205,1206,1207,1208,1209,1210,1211,1212,1213,1214,1215,1216,1217,1218,1219,1220,1221,1222,1223,1224,1225,1226,1227,1228,1229,1230,1231,1232,1233,1234,1235,1236,1237,1238,1239,1240,1241,1242,1243,1244,1245,1246,1247,1248,1249,1250,1251,1252,1253,1254,1255,1256,1257,1258,1259,1260,1261,1262,1263,1264,1265,1266,1267,1268,1269,1270,1271,1272,1273,1274,1275,1276,1277,1278,1279,1280,1281,1282,1283,1284,1285,1286,1287,1288,1289,1290,1291,1292,1293,1294,1295,1296,1297,1298,1299,1300,1301,1302,1303,1304,1305,1306,1307,1308,1309,1310,1311,1312,1313,1314,1315,1316,1317,1318,1319,1320,1321,1322,1323,1324,1325,1326,1327,1328,1329,1330,1331,1332,1333,1334,1335,1336,1337,1338,1339,1340,1341,1342,1343,1344,1345,1346,1347,1348,1349,1350,1351,1352,1353,1354,1355,1356,1357,1358,1359,1360,1361,1362,1363,1364,1365,1366,1367,1368,1369,1370,1371,1372,1373,1374,1375,1376,1377,1378,1379,1380,1381,1382,1383,1384,1385,1386,1387,1388,1389,1390,1391,1392,1393,1394,1395,1396,1397,1398,1399,1400,1401,1402,1403,1404,1405,1406,1407,1408,1409,1410,1411,1412,1413,1414,1415,1416,1417,1418,1419,1420,1421,1422,1423,1424,1425,1426,1427,1428,1429,1430,1431,1432,1433,1434,1435,1436,1437,1438,1439,1440,1441,1442,1443,1444,1445,1446,1447,1448,1449,1450,1451,1452,1453,1454,1455,1456,1457,1458,1459,1460,1461,1462,1463,1464,1465,1466,1467,1468,1469,1470,1471,1472,1473,1474,1475,1476,1477,1478,1479,1480,1481,1482,1483,1484,1485,1486,1487,1488,1489,1490,1491,1492,1493,1494,1495,1496,1497,1498,1499,1500,1501,1502,1503,1504,1505,1506,1507,1508,1509,1510,1511,1512,1513,1514,1515,1516,1517,1518,1519,1520,1521,1522,1523,1524,1525,1526,1527,1528,1529,1530,1531,1532,1533,1534,1535,1536,1537,1538,1539,1540,1541,1542,1543,1544,1545,1546,1547,1548,1549,1550,1551,1552,1553,1554,1555,1556,1557,1558,1559,1560,1561,1562,1563,1564,1565,1566,1567,1568,1569,1570,1571,1572,1573,1574,1575,1576,1577,1578,1579,1580,1581,1582,1583,1584,1585,1586,1587,1588,1589,1590,1591,1592,1593,1594,1595,1596,1597,1598,1599,1600,1601,1602,1603,1604,1605,1606,1607,1608,1609,1610,1611,1612,1613,1614,1615,1616,1617,1618,1619,1620,1621,1622,1623,1624,1625,1626,1627,1628,1629,1630,1631,1632,1633,1634,1635,1636,1637,1638,1639,1640,1641,1642,1643,1644,1645,1646,1647,1648,1649,1650,1651,1652,1653,1654,1655,1656,1657,1658,1659,1660,1661,1662,1663,1664,1665,1666,1667,1668,1669,1670,1671,1672,1673,1674,1675,1676,1677,1678,1679,1680,1681,1682,1683,1684,1685,1686,1687,1688,1689,1690,1691,1692,1693,1694,1695,1696,1697,1698,1699,1700,1701,1702,1703,1704,1705,1706,1707,1708,1709,1710,1711,1712,1713,1714,1715,1716,1717,1718,1719,1720,1721,1722,1723,1724,1725,1726,1727,1728,1729,1730,1731,1732,1733,1734,1735,1736,1737,1738,1739,1740,1741,1742,1743,1744,1745,1746,1747,1748,1749,1750,1751,1752,1753,1754,1755,1756,1757,1758,1759,1760,1761,1762,1763,1764,1765,1766,1767,1768,1769,1770,1771,1772,1773,1774,1775,1776,1777,1778,1779,1780,1781,1782,1783,1784,1785,1786,1787,1788,1789,1790,1791,1792,1793,1794,1795,1796,1797,1798,1799,1800,1801,1802,1803,1804,1805,1806,1807,1808,1809,1810,1811,1812,1813,1814,1815,1816,1817,1818,1819,1820,1821,1822,1823,1824,1825,1826,1827,1828,1829,1830,1831,1832,1833,1834,1835,1836,1837,1838,1839,1840,1841,1842,1843,1844,1845,1846,1847,1848,1849,1850,1851,1852,1853,1854,1855,1856,1857,1858,1859,1860,1861,1862,1863,1864,1865,1866,1867,1868,1869,1870,1871,1872,1873,1874,1875,1876,1877,1878,1879,1880,1881,1882,1883,1884,1885,1886,1887,1888,1889,1890,1891,1892,1893,1894,1895,1896,1897,1898,1899,1900,1901,1902,1903,1904,1905,1906,1907,1908,1909,1910,1911,1912,1913,1914,1915,1916,1917,1918,1919,1920,1921,1922,1923,1924,1925,1926,1927,1928,1929,1930,1931,1932,1933,1934,1935,1936,1937,1938,1939,1940,1941,1942,1943,1944,1945,1946,1947,1948,1949,1950,1951,1952,1953,1954,1955,1956,1957,1958,1959,1960,1961,1962,1963,1964,1965,1966,1967,1968,1969,1970,1971,1972,1973,1974,1975,1976,1977,1978,1979,1980,1981,1982,1983,1984,1985,1986,1987,1988,1989,1990,1991,1992,1993,1994,1995,1996,1997,1998,1999,2000,2001,2002,2003,2004,2005,2006,2007,2008,2009,2010,2011,2012,2013,2014,2015,2016,2017,2018,2019,2020,2021,2022,2023,2024,2025,2026,2027,2028,2029,2030,2031,2032,2033,2034,2035,2036,2037,2038,2039,2040,2041,2042,2043,2044,2045,2046,2047,2048,2049,2050,2051,2052,2053,2054,2055,2056,2057,2058,2059,2060,2061,2062,2063,2064,2065,2066,2067,2068,2069,2070,2071,2072,2073,2074,2075,2076,2077,2078,2079,2080,2081,2082,2083,2084,2085,2086,2087,2088,2089,2090,2091,2092,2093,2094,2095,2096,2097,2098,2099,2100,2101,2102,2103,2104,2105,2106,2107,2108,2109,2110,2111,2112,2113,2114,2115,2116,2117,2118,2119,2120,2121,2122,2123,2124,2125,2126,2127,2128,2129,2130,2131,2132,2133,2134,2135,2136,2137,2138,2139,2140,2141,2142,2143,2144,2145,2146,2147,2148,2149,2150,2151,2152,2153,2154,2155,2156,2157,2158,2159,2160,2161,2162,2163,2164,2165,2166,2167,2168,2169,2170,2171,2172,2173,2174,2175,2176,2177,2178,2179,2180,2181,2182,2183,2184,2185,2186,2187,2188,2189,2190,2191,2192,2193,2194,2195,2196,2197,2198,2199,2200,2201,2202,2203,2204,2205,2206,2207,2208,2209,2210,2211,2212,2213,2214,2215,2216,2217,2218,2219,2220,2221,2222,2223,2224,2225,2226,2227,2228,2229,2230,2231,2232,2233,2234,2235,2236,2237,2238,2239,2240,2241,2242,2243,2244,2245,2246,2247,2248,2249,2250,2251,2252,2253,2254,2255,2256,2257,2258,2259,2260,2261,2262,2263,2264,2265,2266,2267,2268,2269,2270,2271,2272,2273,2274,2275,2276,2277,2278,2279,2280,2281,2282,2283,2284,2285,2286,2287,2288,2289,2290,2291,2292,2293,2294,2295,2296,2297,2298,2299,2300,2301,2302,2303,2304,2305,2306,2307,2308,2309,2310,2311,2312,2313,2314,2315,2316,2317,2318,2319,2320,2321,2322,2323,2324,2325,2326,2327,2328,2329,2330,2331,2332,2333,2334,2335,2336,2337,2338,2339,2340,2341,2342,2343,2344,2345,2346,2347,2348,2349,2350,2351,2352,2353,2354,2355,2356,2357,2358,2359,2360,2361,2362,2363,2364,2365,2366,2367,2368,2369,2370,2371,2372,2373,2374,2375,2376,2377,2378,2379,2380,2381,2382,2383,2384,2385,2386,2387,2388,2389,2390,2391,2392,2393,2394,2395,2396,2397,2398,2399,2400,2401,2402,2403,2404,2405,2406,2407,2408,2409,2410,2411,2412,2413,2414,2415,2416,2417,2418,2419,2420,2421,2422,2423,2424,2425,2426,2427,2428,2429,2430,2431,2432,2433,2434,2435,2436,2437,2438,2439,2440,2441,2442,2443,2444,2445,2446,2447,2448,2449,2450,2451,2452,2453,2454,2455,2456,2457,2458,2459,2460,2461,2462,2463,2464,2465,2466,2467,2468,2469,2470,2471,2472,2473,2474,2475,2476,2477,2478,2479,2480,2481,2482,2483,2484,2485,2486,2487,2488,2489,2490,2491,2492,2493,2494,2495,2496,2497,2498,2499,2500,2501,2502,2503,2504,2505,2506,2507,2508,2509,2510,2511,2512,2513,2514,2515,2516,2517,2518,2519,2520,2521,2522,2523,2524,2525,2526,2527,2528,2529,2530,2531,2532,2533,2534,2535,2536,2537,2538,2539,2540,2541,2542,2543,2544,2545,2546,2547,2548,2549,2550,2551,2552,2553,2554,2555,2556,2557,2558,2559,2560,2561,2562,2563,2564,2565,2566,2567,2568,2569,2570,2571,2572,2573,2574,2575,2576,2577,2578,2579,2580,2581,2582,2583,2584,2585,2586,2587,2588,2589,2590,2591,2592,2593,2594,2595,2596,2597,2598,2599,2600,2601,2602,2603,2604,2605,2606,2607,2608,2609,2610,2611,2612,2613,2614,2615,2616,2617,2618,2619,2620,2621,2622,2623,2624,2625,2626,2627,2628,2629,2630,2631,2632,2633,2634,2635,2636,2637,2638,2639,2640,2641,2642,2643,2644,2645,2646,2647,2648,2649,2650,2651,2652,2653,2654,2655,2656,2657,2658,2659,2660,2661,2662,2663,2664,2665,2666,2667,2668,2669,2670,2671,2672,2673,2674,2675,2676,2677,2678,2679,2680,2681,2682,2683,2684,2685,2686,2687,2688,2689,2690,2691,2692,2693,2694,2695,2696,2697,2698,2699,2700,2701,2702,2703,2704,2705,2706,2707,2708,2709,2710,2711,2712,2713,2714,2715,2716,2717,2718,2719,2720,2721,2722,2723,2724,2725,2726,2727,2728,2729,2730,2731,2732,2733,2734,2735,2736,2737,2738,2739,2740,2741,2742,2743,2744,2745,2746,2747,2748,2749,2750,2751,2752,2753,2754,2755,2756,2757,2758,2759,2760,2761,2762,2763,2764,2765,2766,2767,2768,2769,2770,2771,2772,2773,2774,2775,2776,2777,2778,2779,2780,2781,2782,2783,2784,2785,2786,2787,2788,2789,2790,2791,2792,2793,2794,2795,2796,2797,2798,2799,2800,2801,2802,2803,2804,2805,2806,2807,2808,2809,2810,2811,2812,2813,2814,2815,2816,2817,2818,2819,2820,2821,2822,2823,2824,2825,2826,2827,2828,2829,2830,2831,2832,2833,2834,2835,2836,2837,2838,2839,2840,2841,2842,2843,2844,2845,2846,2847,2848,2849,2850,2851,2852,2853,2854,2855,2856,2857,2858,2859,2860,2861,2862,2863,2864,2865,2866,2867,2868,2869,2870,2871,2872,2873,2874,2875,2876,2877,2878,2879,2880,2881,2882,2883,2884,2885,2886,2887,2888,2889,2890,2891,2892,2893,2894,2895,2896,2897,2898,2899,2900,2901,2902,2903,2904,2905,2906,2907,2908,2909,2910,2911,2912,2913,2914,2915,2916,2917,2918,2919,2920,2921,2922,2923,2924,2925,2926,2927,2928,2929,2930,2931,2932,2933,2934,2935,2936,2937,2938,2939,2940,2941,2942,2943,2944,2945,2946,2947,2948,2949,2950,2951,2952,2953,2954,2955,2956,2957,2958,2959,2960,2961,2962,2963,2964,2965,2966,2967,2968,2969,2970,2971,2972,2973,2974,2975,2976,2977,2978,2979,2980,2981,2982,2983,2984,2985,2986,2987,2988,2989,2990,2991,2992,2993,2994,2995,2996,2997,2998,2999],\"x\":{\"__ndarray__\":\"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\",\"dtype\":\"float64\",\"shape\":[3000]},\"y\":{\"__ndarray__\":\"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\",\"dtype\":\"float64\",\"shape\":[3000]}},\"selected\":{\"id\":\"e538fdfa-c7a6-4c86-82c3-dd9ed8b21210\",\"type\":\"Selection\"},\"selection_policy\":{\"id\":\"7c1d1461-7b3f-48f8-82d4-f1575ebbb8ec\",\"type\":\"UnionRenderers\"}},\"id\":\"d764d752-7801-465f-a3b5-5c98dede2e96\",\"type\":\"ColumnDataSource\"},{\"attributes\":{\"dimension\":1,\"plot\":{\"id\":\"e94d8673-3136-4d95-8f06-75b9193e564c\",\"subtype\":\"Figure\",\"type\":\"Plot\"},\"ticker\":{\"id\":\"ed47afc3-e1fe-4a74-95cd-ad22b5f84b65\",\"type\":\"BasicTicker\"}},\"id\":\"cf18a77d-2a6f-4281-8209-1452896f5cdd\",\"type\":\"Grid\"},{\"attributes\":{},\"id\":\"cecbf9db-61d7-4f95-90bd-a8ec342908ea\",\"type\":\"BasicTickFormatter\"},{\"attributes\":{\"data_source\":{\"id\":\"d764d752-7801-465f-a3b5-5c98dede2e96\",\"type\":\"ColumnDataSource\"},\"glyph\":{\"id\":\"697c5d1d-5a7a-4197-b4f8-b355b561cc46\",\"type\":\"Circle\"},\"hover_glyph\":null,\"muted_glyph\":null,\"nonselection_glyph\":{\"id\":\"b1c0464b-1715-44b8-86c4-cbc1655339ab\",\"type\":\"Circle\"},\"selection_glyph\":null,\"view\":{\"id\":\"ed3f58d7-daa7-4f4d-a850-85edda547261\",\"type\":\"CDSView\"}},\"id\":\"adf35967-a4c9-42fd-91d1-c129985f5b48\",\"type\":\"GlyphRenderer\"},{\"attributes\":{\"fill_alpha\":{\"value\":0.8},\"fill_color\":{\"value\":\"#1f77b4\"},\"size\":{\"units\":\"screen\",\"value\":12},\"x\":{\"field\":\"x\"},\"y\":{\"field\":\"y\"}},\"id\":\"697c5d1d-5a7a-4197-b4f8-b355b561cc46\",\"type\":\"Circle\"},{\"attributes\":{},\"id\":\"c2f21691-228a-436d-880f-8f5835d6c132\",\"type\":\"HelpTool\"},{\"attributes\":{\"bottom_units\":\"screen\",\"fill_alpha\":{\"value\":0.5},\"fill_color\":{\"value\":\"lightgrey\"},\"left_units\":\"screen\",\"level\":\"overlay\",\"line_alpha\":{\"value\":1.0},\"line_color\":{\"value\":\"black\"},\"line_dash\":[4,4],\"line_width\":{\"value\":2},\"plot\":null,\"render_mode\":\"css\",\"right_units\":\"screen\",\"top_units\":\"screen\"},\"id\":\"72c9e892-33b1-4fc9-a87a-1cb2ddc8409a\",\"type\":\"BoxAnnotation\"},{\"attributes\":{},\"id\":\"60b64e1f-e811-4f8b-a7d9-98374f0c4f50\",\"type\":\"SaveTool\"},{\"attributes\":{\"callback\":null},\"id\":\"b2067596-402e-422d-8500-fd5f56a07102\",\"type\":\"DataRange1d\"},{\"attributes\":{},\"id\":\"4790a9f9-2214-47ec-aef9-f8139c581752\",\"type\":\"PanTool\"},{\"attributes\":{},\"id\":\"69f2c303-5e53-4ad9-8e99-420cec30edea\",\"type\":\"ResetTool\"},{\"attributes\":{\"below\":[{\"id\":\"5126b09a-5093-4ad8-8d39-37f1eb1f67fc\",\"type\":\"LinearAxis\"}],\"left\":[{\"id\":\"c124a7c5-5e2e-4fe5-9997-ff6b16079ac6\",\"type\":\"LinearAxis\"}],\"renderers\":[{\"id\":\"5126b09a-5093-4ad8-8d39-37f1eb1f67fc\",\"type\":\"LinearAxis\"},{\"id\":\"95502c4b-033a-43c2-86e9-260be451896a\",\"type\":\"Grid\"},{\"id\":\"c124a7c5-5e2e-4fe5-9997-ff6b16079ac6\",\"type\":\"LinearAxis\"},{\"id\":\"cf18a77d-2a6f-4281-8209-1452896f5cdd\",\"type\":\"Grid\"},{\"id\":\"72c9e892-33b1-4fc9-a87a-1cb2ddc8409a\",\"type\":\"BoxAnnotation\"},{\"id\":\"adf35967-a4c9-42fd-91d1-c129985f5b48\",\"type\":\"GlyphRenderer\"},{\"id\":\"32f50ce5-549a-452c-9e35-88ff7303317f\",\"type\":\"LabelSet\"}],\"title\":{\"id\":\"cfd3fbbc-82cf-40e0-a4c4-a329a16f6bab\",\"type\":\"Title\"},\"toolbar\":{\"id\":\"0d8a4022-3c4a-4dd5-a295-1cafa4dd9d93\",\"type\":\"Toolbar\"},\"x_range\":{\"id\":\"33a004b8-35e3-4237-b846-0278ab95269d\",\"type\":\"DataRange1d\"},\"x_scale\":{\"id\":\"71f62210-f1c8-40ac-9554-2ab6a242b911\",\"type\":\"LinearScale\"},\"y_range\":{\"id\":\"b2067596-402e-422d-8500-fd5f56a07102\",\"type\":\"DataRange1d\"},\"y_scale\":{\"id\":\"7be38d4e-b1b1-419f-987f-571b4265b7a7\",\"type\":\"LinearScale\"}},\"id\":\"e94d8673-3136-4d95-8f06-75b9193e564c\",\"subtype\":\"Figure\",\"type\":\"Plot\"},{\"attributes\":{\"plot\":null,\"text\":\"\"},\"id\":\"cfd3fbbc-82cf-40e0-a4c4-a329a16f6bab\",\"type\":\"Title\"},{\"attributes\":{\"source\":{\"id\":\"d764d752-7801-465f-a3b5-5c98dede2e96\",\"type\":\"ColumnDataSource\"}},\"id\":\"ed3f58d7-daa7-4f4d-a850-85edda547261\",\"type\":\"CDSView\"},{\"attributes\":{},\"id\":\"76f3b8b5-70e6-4d1b-ab19-7f900246fe63\",\"type\":\"WheelZoomTool\"},{\"attributes\":{\"overlay\":{\"id\":\"72c9e892-33b1-4fc9-a87a-1cb2ddc8409a\",\"type\":\"BoxAnnotation\"}},\"id\":\"be5c7884-850c-4ee7-a022-c51fbae74d9b\",\"type\":\"BoxZoomTool\"},{\"attributes\":{\"plot\":{\"id\":\"e94d8673-3136-4d95-8f06-75b9193e564c\",\"subtype\":\"Figure\",\"type\":\"Plot\"},\"source\":{\"id\":\"d764d752-7801-465f-a3b5-5c98dede2e96\",\"type\":\"ColumnDataSource\"},\"text\":{\"field\":\"document\"},\"text_align\":\"center\",\"text_color\":{\"value\":\"#555555\"},\"text_font_size\":{\"value\":\"8pt\"},\"x\":{\"field\":\"x\"},\"y\":{\"field\":\"y\"},\"y_offset\":{\"value\":8}},\"id\":\"32f50ce5-549a-452c-9e35-88ff7303317f\",\"type\":\"LabelSet\"},{\"attributes\":{},\"id\":\"01307ab5-1025-4a92-b19d-0d289b1b14ba\",\"type\":\"BasicTickFormatter\"},{\"attributes\":{},\"id\":\"71f62210-f1c8-40ac-9554-2ab6a242b911\",\"type\":\"LinearScale\"},{\"attributes\":{},\"id\":\"7c1d1461-7b3f-48f8-82d4-f1575ebbb8ec\",\"type\":\"UnionRenderers\"}],\"root_ids\":[\"e94d8673-3136-4d95-8f06-75b9193e564c\"]},\"title\":\"Bokeh Application\",\"version\":\"0.13.0\"}};\n",
       "  var render_items = [{\"docid\":\"c938ffb3-0f77-4b3f-a5d7-bd0188105d12\",\"notebook_comms_target\":\"f8ffed98-df64-45cb-8617-e9042e4e4550\",\"roots\":{\"e94d8673-3136-4d95-8f06-75b9193e564c\":\"93218545-c2fc-456d-b125-b94cab7fddf5\"}}];\n",
       "  root.Bokeh.embed.embed_items_notebook(docs_json, render_items);\n",
       "\n",
       "  }\n",
       "  if (root.Bokeh !== undefined) {\n",
       "    embed_document(root);\n",
       "  } else {\n",
       "    var attempts = 0;\n",
       "    var timer = setInterval(function(root) {\n",
       "      if (root.Bokeh !== undefined) {\n",
       "        embed_document(root);\n",
       "        clearInterval(timer);\n",
       "      }\n",
       "      attempts++;\n",
       "      if (attempts > 100) {\n",
       "        console.log(\"Bokeh: ERROR: Unable to run BokehJS code because BokehJS library is missing\")\n",
       "        clearInterval(timer);\n",
       "      }\n",
       "    }, 10, root)\n",
       "  }\n",
       "})(window);"
      ],
      "application/vnd.bokehjs_exec.v0+json": ""
     },
     "metadata": {
      "application/vnd.bokehjs_exec.v0+json": {
       "id": "e94d8673-3136-4d95-8f06-75b9193e564c"
      }
     },
     "output_type": "display_data"
    },
    {
     "data": {
      "text/html": [
       "<p><code>&lt;Bokeh Notebook handle for <strong>In[13]</strong>&gt;</code></p>"
      ],
      "text/plain": [
       "<bokeh.io.notebook.CommsHandle at 0x7f1b3c325be0>"
      ]
     },
     "execution_count": 13,
     "metadata": {},
     "output_type": "execute_result"
    }
   ],
   "source": [
    "import pandas as pd\n",
    "from bokeh.io import push_notebook, show, output_notebook\n",
    "from bokeh.plotting import figure\n",
    "from bokeh.models import ColumnDataSource, LabelSet\n",
    "output_notebook()\n",
    "\n",
    "svd = TruncatedSVD(n_components=100)\n",
    "documents_2d = svd.fit_transform(data_vectorized)\n",
    " \n",
    "df = pd.DataFrame(columns=['x', 'y', 'document'])\n",
    "df['x'], df['y'], df['document'] = documents_2d[:,0], documents_2d[:,1], range(len(data))\n",
    " \n",
    "source = ColumnDataSource(ColumnDataSource.from_df(df))\n",
    "labels = LabelSet(x=\"x\", y=\"y\", text=\"document\", y_offset=8,\n",
    "                  text_font_size=\"8pt\", text_color=\"#555555\",\n",
    "                  source=source, text_align='center')\n",
    " \n",
    "plot = figure(plot_width=600, plot_height=600)\n",
    "plot.circle(\"x\", \"y\", size=12, source=source, line_color=\"black\", fill_alpha=0.8)\n",
    "plot.add_layout(labels)\n",
    "show(plot, notebook_handle=True)"
   ]
  },
  {
   "cell_type": "markdown",
   "metadata": {
    "_uuid": "9b26b839dd55adbbb9b100830db24c89bf352e00"
   },
   "source": [
    "### The Inference from the plot above is that similar documents are plotted close by in a low dimensional space. Same with words(although not the objective here) shown below, "
   ]
  },
  {
   "cell_type": "markdown",
   "metadata": {
    "_uuid": "73260fcc92e3c8d0e7d989258d70e2eb15a3c8d1"
   },
   "source": [
    "### Words"
   ]
  },
  {
   "cell_type": "code",
   "execution_count": 14,
   "metadata": {
    "_uuid": "cab030f9316b8ea0e4e5504407051ff9899f91e0"
   },
   "outputs": [
    {
     "data": {
      "text/html": [
       "\n",
       "\n",
       "\n",
       "\n",
       "\n",
       "\n",
       "  <div class=\"bk-root\" id=\"1c6abffb-b577-4f90-9905-fa32133990ec\"></div>\n"
      ]
     },
     "metadata": {},
     "output_type": "display_data"
    },
    {
     "data": {
      "application/javascript": [
       "(function(root) {\n",
       "  function embed_document(root) {\n",
       "    \n",
       "  var docs_json = {\"340acc60-87eb-4cad-91f4-480d361c0502\":{\"roots\":{\"references\":[{\"attributes\":{},\"id\":\"883c8289-effd-4f9f-bcca-9d6e967eed94\",\"type\":\"BasicTicker\"},{\"attributes\":{\"active_drag\":\"auto\",\"active_inspect\":\"auto\",\"active_multi\":null,\"active_scroll\":\"auto\",\"active_tap\":\"auto\",\"tools\":[{\"id\":\"c44f6636-9a69-4e27-89ca-e130f87c50b3\",\"type\":\"PanTool\"},{\"id\":\"0da3967d-c54a-4a5f-8726-3c27fb8fefa6\",\"type\":\"WheelZoomTool\"},{\"id\":\"ab63e5a2-5514-4af1-8c7a-df94fe66edab\",\"type\":\"BoxZoomTool\"},{\"id\":\"ebde661e-7887-4ebf-b3fe-f49304ba4892\",\"type\":\"SaveTool\"},{\"id\":\"683e49f0-007a-44e5-a2cd-bc68206ab0fb\",\"type\":\"ResetTool\"},{\"id\":\"dc93283c-956b-4582-8708-f06e13d81a50\",\"type\":\"HelpTool\"}]},\"id\":\"0e904003-d514-4008-bf53-86ecba49be24\",\"type\":\"Toolbar\"},{\"attributes\":{\"source\":{\"id\":\"d7311e78-a303-4807-ae4a-b524934af6cd\",\"type\":\"ColumnDataSource\"}},\"id\":\"61186830-9789-4564-978a-e620de30c8a9\",\"type\":\"CDSView\"},{\"attributes\":{},\"id\":\"dc93283c-956b-4582-8708-f06e13d81a50\",\"type\":\"HelpTool\"},{\"attributes\":{},\"id\":\"683e49f0-007a-44e5-a2cd-bc68206ab0fb\",\"type\":\"ResetTool\"},{\"attributes\":{},\"id\":\"2b7704d7-d469-4132-be43-36164ac2aa13\",\"type\":\"BasicTicker\"},{\"attributes\":{\"plot\":{\"id\":\"eaa84104-2c39-44e4-95f0-959e655c8186\",\"subtype\":\"Figure\",\"type\":\"Plot\"},\"ticker\":{\"id\":\"883c8289-effd-4f9f-bcca-9d6e967eed94\",\"type\":\"BasicTicker\"}},\"id\":\"986cab13-c8b6-4ca8-9111-5d40a88f49aa\",\"type\":\"Grid\"},{\"attributes\":{\"plot\":{\"id\":\"eaa84104-2c39-44e4-95f0-959e655c8186\",\"subtype\":\"Figure\",\"type\":\"Plot\"},\"source\":{\"id\":\"d7311e78-a303-4807-ae4a-b524934af6cd\",\"type\":\"ColumnDataSource\"},\"text\":{\"field\":\"word\"},\"text_align\":\"center\",\"text_color\":{\"value\":\"#555555\"},\"text_font_size\":{\"value\":\"8pt\"},\"x\":{\"field\":\"x\"},\"y\":{\"field\":\"y\"},\"y_offset\":{\"value\":8}},\"id\":\"91a89fd4-a357-4fd4-85ac-b97702935798\",\"type\":\"LabelSet\"},{\"attributes\":{},\"id\":\"6cd3eb4c-62a1-40cf-8408-f4221a0edf0a\",\"type\":\"Selection\"},{\"attributes\":{},\"id\":\"a526cf68-59d5-468f-96ec-20bf2ca2f985\",\"type\":\"LinearScale\"},{\"attributes\":{\"data_source\":{\"id\":\"d7311e78-a303-4807-ae4a-b524934af6cd\",\"type\":\"ColumnDataSource\"},\"glyph\":{\"id\":\"d4e2a814-fc95-4a09-b6ba-b1a4205c7708\",\"type\":\"Circle\"},\"hover_glyph\":null,\"muted_glyph\":null,\"nonselection_glyph\":{\"id\":\"ed79726c-6067-436d-81fc-b7fa0edbdb01\",\"type\":\"Circle\"},\"selection_glyph\":null,\"view\":{\"id\":\"61186830-9789-4564-978a-e620de30c8a9\",\"type\":\"CDSView\"}},\"id\":\"501ee5c2-0409-46bd-a738-6e86dc6fa0e8\",\"type\":\"GlyphRenderer\"},{\"attributes\":{},\"id\":\"d289d219-9149-496f-8b2d-025f9c0b0ee2\",\"type\":\"BasicTickFormatter\"},{\"attributes\":{\"fill_alpha\":{\"value\":0.8},\"fill_color\":{\"value\":\"#1f77b4\"},\"size\":{\"units\":\"screen\",\"value\":12},\"x\":{\"field\":\"x\"},\"y\":{\"field\":\"y\"}},\"id\":\"d4e2a814-fc95-4a09-b6ba-b1a4205c7708\",\"type\":\"Circle\"},{\"attributes\":{},\"id\":\"fa20ee54-8287-401f-bc76-35126e0b90b9\",\"type\":\"UnionRenderers\"},{\"attributes\":{},\"id\":\"9991185d-18a8-4931-ab40-b957daa45945\",\"type\":\"LinearScale\"},{\"attributes\":{\"callback\":null},\"id\":\"154cf5ad-5f86-4292-bd3e-4264ab129aaf\",\"type\":\"DataRange1d\"},{\"attributes\":{\"bottom_units\":\"screen\",\"fill_alpha\":{\"value\":0.5},\"fill_color\":{\"value\":\"lightgrey\"},\"left_units\":\"screen\",\"level\":\"overlay\",\"line_alpha\":{\"value\":1.0},\"line_color\":{\"value\":\"black\"},\"line_dash\":[4,4],\"line_width\":{\"value\":2},\"plot\":null,\"render_mode\":\"css\",\"right_units\":\"screen\",\"top_units\":\"screen\"},\"id\":\"9219eabe-a8fb-4f69-93a1-7c91dd41994c\",\"type\":\"BoxAnnotation\"},{\"attributes\":{\"plot\":null,\"text\":\"\"},\"id\":\"1b37ecc2-6877-47f5-b1a8-9b17e52c9c18\",\"type\":\"Title\"},{\"attributes\":{},\"id\":\"0da3967d-c54a-4a5f-8726-3c27fb8fefa6\",\"type\":\"WheelZoomTool\"},{\"attributes\":{},\"id\":\"967d77c4-2b73-4ddc-a074-093659f47d1f\",\"type\":\"BasicTickFormatter\"},{\"attributes\":{\"formatter\":{\"id\":\"967d77c4-2b73-4ddc-a074-093659f47d1f\",\"type\":\"BasicTickFormatter\"},\"plot\":{\"id\":\"eaa84104-2c39-44e4-95f0-959e655c8186\",\"subtype\":\"Figure\",\"type\":\"Plot\"},\"ticker\":{\"id\":\"2b7704d7-d469-4132-be43-36164ac2aa13\",\"type\":\"BasicTicker\"}},\"id\":\"d56ef8ab-ae57-4a1d-bd18-53bda7701f9d\",\"type\":\"LinearAxis\"},{\"attributes\":{\"callback\":null},\"id\":\"1f2a2352-8773-4852-b2f9-7f8d48c5fa9c\",\"type\":\"DataRange1d\"},{\"attributes\":{},\"id\":\"ebde661e-7887-4ebf-b3fe-f49304ba4892\",\"type\":\"SaveTool\"},{\"attributes\":{},\"id\":\"c44f6636-9a69-4e27-89ca-e130f87c50b3\",\"type\":\"PanTool\"},{\"attributes\":{\"formatter\":{\"id\":\"d289d219-9149-496f-8b2d-025f9c0b0ee2\",\"type\":\"BasicTickFormatter\"},\"plot\":{\"id\":\"eaa84104-2c39-44e4-95f0-959e655c8186\",\"subtype\":\"Figure\",\"type\":\"Plot\"},\"ticker\":{\"id\":\"883c8289-effd-4f9f-bcca-9d6e967eed94\",\"type\":\"BasicTicker\"}},\"id\":\"bd8bf1a3-16ed-40a8-ba4b-a051b3f509b8\",\"type\":\"LinearAxis\"},{\"attributes\":{\"overlay\":{\"id\":\"9219eabe-a8fb-4f69-93a1-7c91dd41994c\",\"type\":\"BoxAnnotation\"}},\"id\":\"ab63e5a2-5514-4af1-8c7a-df94fe66edab\",\"type\":\"BoxZoomTool\"},{\"attributes\":{\"dimension\":1,\"plot\":{\"id\":\"eaa84104-2c39-44e4-95f0-959e655c8186\",\"subtype\":\"Figure\",\"type\":\"Plot\"},\"ticker\":{\"id\":\"2b7704d7-d469-4132-be43-36164ac2aa13\",\"type\":\"BasicTicker\"}},\"id\":\"9178aa3e-97cd-4c4d-afe8-0cb0a82ae1d7\",\"type\":\"Grid\"},{\"attributes\":{\"callback\":null,\"data\":{\"index\":[0,1,2,3,4,5,6,7,8,9,10,11,12,13,14,15,16,17,18,19,20,21,22,23,24,25,26,27,28,29,30,31,32,33,34,35,36,37,38,39,40,41,42,43,44,45,46,47,48,49,50,51,52,53,54,55,56,57,58,59,60,61,62,63,64,65,66,67,68,69,70,71,72,73,74,75,76,77,78,79,80,81,82,83,84,85,86,87,88,89,90,91,92,93,94,95,96,97,98,99,100,101,102,103,104,105,106,107,108,109,110,111,112,113,114,115,116,117,118,119,120,121,122,123,124,125,126,127,128,129,130,131,132,133,134,135,136,137,138,139,140,141,142,143,144,145,146,147,148,149,150,151,152,153,154,155,156,157,158,159,160,161,162,163,164,165,166,167,168,169,170,171,172,173,174,175,176,177,178,179,180,181,182,183,184,185,186,187,188,189,190,191,192,193,194,195,196,197,198,199,200,201,202,203,204,205,206,207,208,209,210,211,212,213,214,215,216,217,218,219,220,221,222,223,224,225,226,227,228,229,230,231,232,233,234,235,236,237,238,239,240,241,242,243,244,245,246,247,248,249,250,251,252,253,254,255,256,257,258,259,260,261,262,263,264,265,266,267,268,269,270,271,272,273,274,275,276,277,278,279,280,281,282,283,284,285,286,287,288,289,290,291,292,293,294,295,296,297,298,299,300,301,302,303,304,305,306,307,308,309,310,311,312,313,314,315,316,317,318,319,320,321,322,323,324,325,326,327,328,329,330,331,332,333,334,335,336,337,338,339,340,341,342,343,344,345,346,347,348,349,350,351,352,353,354,355,356,357,358,359,360,361,362,363,364,365,366,367,368,369,370,371,372,373,374,375,376,377,378,379,380,381,382,383,384,385,386,387,388,389,390,391,392,393,394,395,396,397,398,399,400,401,402,403,404,405,406,407,408,409,410,411,412,413,414,415,416,417,418,419,420,421,422,423,424,425,426,427,428,429,430,431,432,433,434,435,436,437,438,439,440,441,442,443,444,445,446,447,448,449,450,451,452,453,454,455,456,457,458,459,460,461,462,463,464,465,466,467,468,469,470,471,472,473,474,475,476,477,478,479,480,481,482,483,484,485,486,487,488,489,490,491,492,493,494,495,496,497,498,499,500,501,502,503,504,505,506,507,508,509,510,511,512,513,514,515,516,517,518,519,520,521,522,523,524,525,526,527,528,529,530,531,532,533,534,535,536,537,538,539,540,541,542,543,544,545,546,547,548,549,550,551,552,553,554,555,556,557,558,559,560,561,562,563,564,565,566,567,568,569,570,571,572,573,574,575,576,577,578,579,580,581,582,583,584,585,586,587,588,589,590,591,592,593,594,595,596,597,598,599,600,601,602,603,604,605,606,607,608,609,610,611,612,613,614,615,616,617,618,619,620,621,622,623,624,625,626,627,628,629,630,631,632,633,634,635,636,637,638,639,640,641,642,643,644,645,646,647,648,649,650,651,652,653,654,655,656,657,658,659,660,661,662,663,664,665,666,667,668,669,670,671,672,673,674,675,676,677,678,679,680,681,682,683,684,685,686,687,688,689,690,691,692,693,694,695,696,697,698,699,700,701,702,703,704,705,706,707,708,709,710,711,712,713,714,715,716,717,718,719,720,721,722,723,724,725,726,727,728,729,730,731,732,733,734,735,736,737,738,739,740,741,742,743,744,745,746,747,748,749,750,751,752,753,754,755,756,757,758,759,760,761,762,763,764,765,766,767,768,769,770,771,772,773,774,775,776,777,778,779,780,781,782,783,784,785,786,787,788,789,790,791,792,793,794,795,796,797,798,799,800,801,802,803,804,805,806,807,808,809,810,811,812,813,814,815,816,817,818,819,820,821,822,823,824,825,826,827,828,829,830,831,832,833,834,835,836,837,838,839,840,841,842,843,844,845,846,847,848,849,850,851,852,853,854,855,856,857,858,859,860,861,862,863,864,865,866,867,868,869,870,871,872,873,874,875,876,877,878,879,880,881,882,883,884,885,886,887,888,889,890,891,892,893,894,895,896,897,898,899,900,901,902,903,904,905,906,907,908],\"word\":[\"-inch\",\"-year\",\"-year-old\",\"acquires\",\"act\",\"action\",\"actor\",\"adds\",\"africa\",\"african\",\"age\",\"ahead\",\"aids\",\"air\",\"airline\",\"airlines\",\"album\",\"alert\",\"alibaba\",\"alzheimer\",\"amazing\",\"amazon\",\"america\",\"american\",\"americans\",\"amid\",\"android\",\"anniversary\",\"announce\",\"announced\",\"announces\",\"annual\",\"app\",\"apple\",\"april\",\"arabia\",\"area\",\"argentina\",\"arrives\",\"asian\",\"astrazeneca\",\"attack\",\"attacks\",\"autism\",\"auto\",\"available\",\"avoid\",\"award\",\"awards\",\"awareness\",\"away\",\"baby\",\"bachelorette\",\"bad\",\"ban\",\"bank\",\"banks\",\"bans\",\"barclays\",\"battle\",\"beats\",\"beef\",\"begins\",\"bell\",\"benefits\",\"best\",\"better\",\"beyonce\",\"bid\",\"bieber\",\"big\",\"biggest\",\"billboard\",\"billion\",\"biopic\",\"bird\",\"bitcoin\",\"black\",\"blackberry\",\"bln\",\"blood\",\"body\",\"boj\",\"bond\",\"book\",\"boost\",\"boss\",\"box\",\"brain\",\"brand\",\"breaks\",\"breast\",\"brings\",\"brown\",\"bug\",\"business\",\"buy\",\"california\",\"called\",\"calls\",\"campaign\",\"canada\",\"cancer\",\"candy\",\"cannes\",\"capital\",\"captain\",\"car\",\"care\",\"cars\",\"case\",\"cases\",\"cash\",\"cast\",\"cause\",\"cdc\",\"cell\",\"cents\",\"ceo\",\"challenge\",\"challenges\",\"change\",\"changes\",\"charges\",\"chicago\",\"chicken\",\"chief\",\"chikungunya\",\"child\",\"children\",\"china\",\"chinese\",\"chris\",\"chrysler\",\"cities\",\"city\",\"claims\",\"climate\",\"close\",\"cloud\",\"coachella\",\"coal\",\"coffee\",\"colbert\",\"com\",\"comcast\",\"come\",\"coming\",\"companies\",\"company\",\"competition\",\"concern\",\"concerns\",\"conference\",\"confirmed\",\"consumer\",\"consumers\",\"control\",\"controversial\",\"costs\",\"court\",\"crash\",\"crisis\",\"cross\",\"customers\",\"cut\",\"cuts\",\"cyrus\",\"dangerous\",\"data\",\"date\",\"dating\",\"david\",\"davis\",\"day\",\"days\",\"dead\",\"deadline\",\"deadly\",\"deal\",\"death\",\"deaths\",\"debt\",\"debut\",\"defends\",\"delayed\",\"denies\",\"department\",\"despite\",\"destiny\",\"details\",\"device\",\"devices\",\"diabetes\",\"did\",\"died\",\"dies\",\"diet\",\"dip\",\"director\",\"discovered\",\"disease\",\"display\",\"doctor\",\"doctors\",\"does\",\"dog\",\"dogs\",\"dollar\",\"don\",\"double\",\"dow\",\"download\",\"draghi\",\"drink\",\"drinking\",\"drive\",\"driver\",\"drives\",\"driving\",\"drop\",\"dropped\",\"drug\",\"drugs\",\"e-cigarette\",\"e-cigarettes\",\"e-cigs\",\"early\",\"earnings\",\"earth\",\"easter\",\"ebay\",\"ebola\",\"ecb\",\"economic\",\"economy\",\"edge\",\"effects\",\"email\",\"emergency\",\"end\",\"ends\",\"energy\",\"epidemic\",\"episode\",\"estimates\",\"euro\",\"europe\",\"european\",\"evidence\",\"exchange\",\"exercise\",\"expands\",\"expectations\",\"expected\",\"experts\",\"exposure\",\"eye\",\"eyes\",\"face\",\"facebook\",\"fall\",\"falls\",\"family\",\"fans\",\"fast\",\"fcc\",\"fda\",\"fears\",\"feature\",\"features\",\"featuring\",\"february\",\"fed\",\"federal\",\"festival\",\"fever\",\"fight\",\"fighting\",\"files\",\"film\",\"final\",\"finale\",\"finally\",\"finds\",\"fine\",\"fireworks\",\"firm\",\"fix\",\"flight\",\"florida\",\"floyd\",\"flu\",\"fly\",\"following\",\"food\",\"foods\",\"ford\",\"forecast\",\"fox\",\"france\",\"free\",\"fresh\",\"friday\",\"frozen\",\"ftc\",\"future\",\"futures\",\"gaga\",\"gain\",\"gains\",\"galaxy\",\"game\",\"games\",\"gas\",\"gear\",\"general\",\"george\",\"german\",\"gets\",\"getting\",\"girl\",\"girlfriend\",\"girls\",\"gives\",\"glass\",\"global\",\"godzilla\",\"goes\",\"going\",\"gold\",\"gomez\",\"good\",\"google\",\"got\",\"gov\",\"government\",\"ground\",\"group\",\"groups\",\"growing\",\"grows\",\"growth\",\"guardians\",\"guinea\",\"guy\",\"hackers\",\"half\",\"hands\",\"harris\",\"harry\",\"hbo\",\"headed\",\"health\",\"healthcare\",\"healthier\",\"healthy\",\"heart\",\"heartbleed\",\"help\",\"helps\",\"hepatitis\",\"high\",\"higher\",\"highest\",\"hill\",\"history\",\"hit\",\"hits\",\"hiv\",\"hold\",\"holds\",\"home\",\"hospital\",\"hospitals\",\"host\",\"house\",\"housing\",\"htc\",\"huge\",\"human\",\"hurt\",\"husband\",\"ice\",\"idol\",\"ignition\",\"illness\",\"imf\",\"impact\",\"increase\",\"increases\",\"india\",\"industry\",\"infection\",\"inflation\",\"inside\",\"instagram\",\"intel\",\"international\",\"internet\",\"introduces\",\"investigation\",\"investors\",\"ios\",\"ipad\",\"iphone\",\"ipo\",\"iraq\",\"irs\",\"isn\",\"issue\",\"issues\",\"jackson\",\"jagger\",\"japan\",\"jay\",\"jenner\",\"jenny\",\"jessica\",\"jet\",\"job\",\"jobless\",\"jobs\",\"johnny\",\"johnson\",\"join\",\"josh\",\"judge\",\"july\",\"jump\",\"jumps\",\"june\",\"just\",\"justin\",\"kanye\",\"kardashian\",\"kate\",\"keeps\",\"kendall\",\"key\",\"kids\",\"kill\",\"killed\",\"kills\",\"kim\",\"king\",\"know\",\"kunis\",\"lady\",\"largest\",\"latest\",\"launch\",\"launches\",\"launching\",\"law\",\"lawsuit\",\"lead\",\"leads\",\"leaked\",\"leaves\",\"legal\",\"leone\",\"let\",\"lets\",\"levels\",\"liberia\",\"life\",\"light\",\"like\",\"likely\",\"lindsay\",\"link\",\"linked\",\"list\",\"little\",\"live\",\"local\",\"lohan\",\"london\",\"long\",\"longer\",\"look\",\"looks\",\"loss\",\"lost\",\"love\",\"low\",\"lower\",\"lte\",\"mac\",\"mad\",\"major\",\"make\",\"maker\",\"makes\",\"malaysia\",\"man\",\"manufacturing\",\"maps\",\"march\",\"marijuana\",\"mark\",\"market\",\"markets\",\"martin\",\"marvel\",\"massive\",\"match\",\"mccarthy\",\"mcdonald\",\"measles\",\"meat\",\"medical\",\"meet\",\"meeting\",\"members\",\"men\",\"mental\",\"mers\",\"met\",\"meteor\",\"michael\",\"michigan\",\"microsoft\",\"mila\",\"miley\",\"million\",\"millions\",\"mini\",\"missing\",\"mobile\",\"model\",\"monday\",\"montana\",\"month\",\"months\",\"moon\",\"mortgage\",\"mosquito-borne\",\"moto\",\"motorola\",\"motors\",\"movie\",\"mtv\",\"murder\",\"murdoch\",\"music\",\"named\",\"nasa\",\"nasdaq\",\"national\",\"near\",\"nearly\",\"need\",\"neil\",\"net\",\"netflix\",\"network\",\"neutrality\",\"new\",\"news\",\"night\",\"nile\",\"nintendo\",\"nokia\",\"north\",\"note\",\"nyc\",\"nyse\",\"obama\",\"obamacare\",\"obesity\",\"ocean\",\"oculus\",\"offer\",\"offers\",\"office\",\"official\",\"officials\",\"oil\",\"old\",\"online\",\"open\",\"organic\",\"oscar\",\"outbreak\",\"outlook\",\"pain\",\"paltrow\",\"panel\",\"paper\",\"parents\",\"paris\",\"past\",\"patent\",\"patient\",\"patients\",\"paul\",\"pay\",\"people\",\"percent\",\"pfizer\",\"phone\",\"photo\",\"photos\",\"pictures\",\"pink\",\"pistorius\",\"place\",\"plan\",\"plane\",\"planet\",\"plans\",\"plant\",\"play\",\"pmi\",\"police\",\"policy\",\"polio\",\"pollution\",\"possible\",\"post\",\"posts\",\"potential\",\"pound\",\"pounds\",\"power\",\"pregnancy\",\"pregnant\",\"premiere\",\"president\",\"press\",\"prevent\",\"preview\",\"price\",\"prices\",\"prime\",\"privacy\",\"pro\",\"probably\",\"probe\",\"problem\",\"problems\",\"production\",\"profit\",\"profits\",\"program\",\"promising\",\"protest\",\"public\",\"pulls\",\"putin\",\"quarter\",\"questions\",\"raise\",\"raises\",\"rally\",\"rate\",\"rates\",\"reach\",\"reaches\",\"read\",\"reality\",\"really\",\"recall\",\"recalled\",\"recalls\",\"recap\",\"record\",\"records\",\"red\",\"regulations\",\"relay\",\"release\",\"released\",\"releases\",\"remains\",\"report\",\"reported\",\"reportedly\",\"reports\",\"research\",\"researchers\",\"results\",\"retail\",\"return\",\"returns\",\"revealed\",\"reveals\",\"revenue\",\"review\",\"right\",\"rihanna\",\"rise\",\"rises\",\"rising\",\"risk\",\"river\",\"rock\",\"role\",\"rule\",\"rules\",\"run\",\"russia\",\"ryan\",\"safety\",\"said\",\"sale\",\"sales\",\"samsung\",\"saturday\",\"saudi\",\"save\",\"say\",\"says\",\"school\",\"scientists\",\"scott\",\"search\",\"season\",\"second\",\"sector\",\"security\",\"seeks\",\"seen\",\"sees\",\"selena\",\"sell\",\"sequel\",\"series\",\"service\",\"set\",\"settlement\",\"seven\",\"sex\",\"share\",\"shares\",\"shouldn\",\"shower\",\"shows\",\"sierra\",\"signs\",\"silence\",\"singer\",\"skin\",\"slips\",\"small\",\"smart\",\"smartphone\",\"smartphones\",\"smoking\",\"snapchat\",\"software\",\"son\",\"song\",\"sony\",\"soon\",\"source\",\"south\",\"space\",\"sparks\",\"specs\",\"speed\",\"spending\",\"spider-man\",\"spotted\",\"spread\",\"spreads\",\"spring\",\"stake\",\"star\",\"stars\",\"state\",\"states\",\"steady\",\"stem\",\"stephen\",\"stimulus\",\"stock\",\"stocks\",\"stolen\",\"stop\",\"store\",\"stories\",\"story\",\"streaming\",\"street\",\"stroke\",\"study\",\"stunning\",\"supply\",\"support\",\"surface\",\"surge\",\"surgery\",\"surprise\",\"suspected\",\"switch\",\"symptoms\",\"t-mobile\",\"tab\",\"takes\",\"talk\",\"talks\",\"target\",\"tax\",\"taxes\",\"teases\",\"tech\",\"technology\",\"teen\",\"teens\",\"tesla\",\"test\",\"tests\",\"texas\",\"texting\",\"things\",\"thought\",\"thousands\",\"threat\",\"thrones\",\"tim\",\"time\",\"times\",\"titanfall\",\"today\",\"toll\",\"tonight\",\"tops\",\"tour\",\"toyota\",\"track\",\"trade\",\"trailer\",\"transformers\",\"travel\",\"treatment\",\"trial\",\"tries\",\"trying\",\"tuesday\",\"turkey\",\"turn\",\"tweets\",\"twitter\",\"ukraine\",\"unemployment\",\"university\",\"unveils\",\"update\",\"urges\",\"usd\",\"usda\",\"use\",\"used\",\"users\",\"using\",\"vaccine\",\"vehicles\",\"victim\",\"video\",\"view\",\"viral\",\"virus\",\"voice\",\"walker\",\"walmart\",\"want\",\"wanted\",\"wants\",\"war\",\"warming\",\"warn\",\"warns\",\"wars\",\"washington\",\"watch\",\"water\",\"way\",\"web\",\"wedding\",\"week\",\"weekend\",\"weekly\",\"weight\",\"west\",\"white\",\"wife\",\"wild\",\"windows\",\"wins\",\"woman\",\"women\",\"won\",\"work\",\"workers\",\"working\",\"world\",\"worse\",\"worst\",\"worth\",\"xbox\",\"yahoo\",\"year\",\"years\",\"yellen\",\"york\",\"young\"],\"x\":{\"__ndarray__\":\"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\",\"dtype\":\"float64\",\"shape\":[909]},\"y\":{\"__ndarray__\":\"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\",\"dtype\":\"float64\",\"shape\":[909]}},\"selected\":{\"id\":\"6cd3eb4c-62a1-40cf-8408-f4221a0edf0a\",\"type\":\"Selection\"},\"selection_policy\":{\"id\":\"fa20ee54-8287-401f-bc76-35126e0b90b9\",\"type\":\"UnionRenderers\"}},\"id\":\"d7311e78-a303-4807-ae4a-b524934af6cd\",\"type\":\"ColumnDataSource\"},{\"attributes\":{\"fill_alpha\":{\"value\":0.1},\"fill_color\":{\"value\":\"#1f77b4\"},\"line_alpha\":{\"value\":0.1},\"line_color\":{\"value\":\"#1f77b4\"},\"size\":{\"units\":\"screen\",\"value\":12},\"x\":{\"field\":\"x\"},\"y\":{\"field\":\"y\"}},\"id\":\"ed79726c-6067-436d-81fc-b7fa0edbdb01\",\"type\":\"Circle\"},{\"attributes\":{\"below\":[{\"id\":\"bd8bf1a3-16ed-40a8-ba4b-a051b3f509b8\",\"type\":\"LinearAxis\"}],\"left\":[{\"id\":\"d56ef8ab-ae57-4a1d-bd18-53bda7701f9d\",\"type\":\"LinearAxis\"}],\"renderers\":[{\"id\":\"bd8bf1a3-16ed-40a8-ba4b-a051b3f509b8\",\"type\":\"LinearAxis\"},{\"id\":\"986cab13-c8b6-4ca8-9111-5d40a88f49aa\",\"type\":\"Grid\"},{\"id\":\"d56ef8ab-ae57-4a1d-bd18-53bda7701f9d\",\"type\":\"LinearAxis\"},{\"id\":\"9178aa3e-97cd-4c4d-afe8-0cb0a82ae1d7\",\"type\":\"Grid\"},{\"id\":\"9219eabe-a8fb-4f69-93a1-7c91dd41994c\",\"type\":\"BoxAnnotation\"},{\"id\":\"501ee5c2-0409-46bd-a738-6e86dc6fa0e8\",\"type\":\"GlyphRenderer\"},{\"id\":\"91a89fd4-a357-4fd4-85ac-b97702935798\",\"type\":\"LabelSet\"}],\"title\":{\"id\":\"1b37ecc2-6877-47f5-b1a8-9b17e52c9c18\",\"type\":\"Title\"},\"toolbar\":{\"id\":\"0e904003-d514-4008-bf53-86ecba49be24\",\"type\":\"Toolbar\"},\"x_range\":{\"id\":\"1f2a2352-8773-4852-b2f9-7f8d48c5fa9c\",\"type\":\"DataRange1d\"},\"x_scale\":{\"id\":\"a526cf68-59d5-468f-96ec-20bf2ca2f985\",\"type\":\"LinearScale\"},\"y_range\":{\"id\":\"154cf5ad-5f86-4292-bd3e-4264ab129aaf\",\"type\":\"DataRange1d\"},\"y_scale\":{\"id\":\"9991185d-18a8-4931-ab40-b957daa45945\",\"type\":\"LinearScale\"}},\"id\":\"eaa84104-2c39-44e4-95f0-959e655c8186\",\"subtype\":\"Figure\",\"type\":\"Plot\"}],\"root_ids\":[\"eaa84104-2c39-44e4-95f0-959e655c8186\"]},\"title\":\"Bokeh Application\",\"version\":\"0.13.0\"}};\n",
       "  var render_items = [{\"docid\":\"340acc60-87eb-4cad-91f4-480d361c0502\",\"notebook_comms_target\":\"0f597d1b-0a82-4d0e-a9f6-8dfc7a9a90c8\",\"roots\":{\"eaa84104-2c39-44e4-95f0-959e655c8186\":\"1c6abffb-b577-4f90-9905-fa32133990ec\"}}];\n",
       "  root.Bokeh.embed.embed_items_notebook(docs_json, render_items);\n",
       "\n",
       "  }\n",
       "  if (root.Bokeh !== undefined) {\n",
       "    embed_document(root);\n",
       "  } else {\n",
       "    var attempts = 0;\n",
       "    var timer = setInterval(function(root) {\n",
       "      if (root.Bokeh !== undefined) {\n",
       "        embed_document(root);\n",
       "        clearInterval(timer);\n",
       "      }\n",
       "      attempts++;\n",
       "      if (attempts > 100) {\n",
       "        console.log(\"Bokeh: ERROR: Unable to run BokehJS code because BokehJS library is missing\")\n",
       "        clearInterval(timer);\n",
       "      }\n",
       "    }, 10, root)\n",
       "  }\n",
       "})(window);"
      ],
      "application/vnd.bokehjs_exec.v0+json": ""
     },
     "metadata": {
      "application/vnd.bokehjs_exec.v0+json": {
       "id": "eaa84104-2c39-44e4-95f0-959e655c8186"
      }
     },
     "output_type": "display_data"
    },
    {
     "data": {
      "text/html": [
       "<p><code>&lt;Bokeh Notebook handle for <strong>In[14]</strong>&gt;</code></p>"
      ],
      "text/plain": [
       "<bokeh.io.notebook.CommsHandle at 0x7f1b3c2736d8>"
      ]
     },
     "execution_count": 14,
     "metadata": {},
     "output_type": "execute_result"
    }
   ],
   "source": [
    "svd = TruncatedSVD(n_components=100)\n",
    "words_2d = svd.fit_transform(data_vectorized.T)\n",
    " \n",
    "df = pd.DataFrame(columns=['x', 'y', 'word'])\n",
    "df['x'], df['y'], df['word'] = words_2d[:,0], words_2d[:,1], vectorizer.get_feature_names()\n",
    " \n",
    "source = ColumnDataSource(ColumnDataSource.from_df(df))\n",
    "labels = LabelSet(x=\"x\", y=\"y\", text=\"word\", y_offset=8,\n",
    "                  text_font_size=\"8pt\", text_color=\"#555555\",\n",
    "                  source=source, text_align='center')\n",
    " \n",
    "plot = figure(plot_width=600, plot_height=600)\n",
    "plot.circle(\"x\", \"y\", size=12, source=source, line_color=\"black\", fill_alpha=0.8)\n",
    "plot.add_layout(labels)\n",
    "show(plot, notebook_handle=True)"
   ]
  },
  {
   "cell_type": "markdown",
   "metadata": {
    "_uuid": "d3dc92fa60bb47220ce8e79e713afe0b4c76f37d"
   },
   "source": [
    "### Zoom in a bit to find some meaningful representations.\n",
    "\n",
    "### However, LSI has one major weakness – ambiguity.  For example, how could a system determine if you are talking about Microsoft office, or the office in which you work. This is where LDA comes in, lets look at that."
   ]
  },
  {
   "cell_type": "markdown",
   "metadata": {
    "_uuid": "1077e7e862895c6d75b074155a504d223dd52ce2"
   },
   "source": [
    "<a id='lda'></a>\n",
    "\n",
    "# Latent Dirichlet Allocation\n",
    "\n",
    "### Corpus - Document - Word : Topic Generation"
   ]
  },
  {
   "cell_type": "markdown",
   "metadata": {
    "_uuid": "4de99e1d7f91e734c3ace714964ca939e15c508f"
   },
   "source": [
    "***\n",
    "**Is a generative statistical model that allows sets of observations to be explained by unobserved groups that explain why some parts of the data are similar. For example, if observations are words collected into documents, it posits that each document is a mixture of a small number of topics and that each word's presence is attributable to one of the document's topics.**\n",
    "***"
   ]
  },
  {
   "cell_type": "markdown",
   "metadata": {
    "_uuid": "348bfebc823e5c18408921376ac342a43b8b70b9"
   },
   "source": [
    " <hr>\n",
    "           \n",
    "           LSI examines the words used in a document and looks for their relationships with other words. LSI allows a system to determine the kind of words that a document might be relevant for, even if they are not actually used on the document itself.  But having content that is full of words that have relationships with each other, you are strengthening the document for all of those words.\n",
    "        \n",
    "           LDA is a significant extension of LSI.  Words are grouped into topics.  They can exist in more than one topic, in fact most do.  LDA tackles ambiguity by comparing a document to two topics and determining which topic is closer to the document, across all combinations of topics which seem broadly relevant. In doing so, LDA helps to determine which documents are most relevant to which topics.\n",
    "<hr/>"
   ]
  },
  {
   "cell_type": "markdown",
   "metadata": {
    "_uuid": "251a7adda61b7a4d3cfb72d5010103728f626710"
   },
   "source": [
    "![](https://upload.wikimedia.org/wikipedia/commons/thumb/d/d3/Latent_Dirichlet_allocation.svg/593px-Latent_Dirichlet_allocation.svg.png)"
   ]
  },
  {
   "cell_type": "markdown",
   "metadata": {
    "_uuid": "c29cb29bcaf97f963f84dd28c52258a875692fe9"
   },
   "source": [
    "***\n",
    "α is the parameter of the Dirichlet prior on the per-document topic distributions,\n",
    "β is the parameter of the Dirichlet prior on the per-topic word distribution,\n",
    "$ \\theta _{m}$ is the topic distribution for document m,\n",
    "$\\varphi _{k}$ is the word distribution for topic k,\n",
    "$z_{mn}$ is the topic for the n-th word in document m, and\n",
    "$w_{mn}$ is the specific word.\n",
    "\n",
    "***\n",
    "The fact that W is grayed out means that words $\\displaystyle w_{ij}$ are the only observable variables, and the other variables are latent variables. A sparse Dirichlet prior can be used to model the topic-word distribution, following the intuition that the probability distribution over words in a topic is skewed, so that only a small set of words have high probability. The resulting model is the most widely applied variant of LDA today. The plate notation for this model is shown below, where $\\displaystyle K$  denotes the number of topics and $\\displaystyle \\varphi _{1},\\dots ,\\varphi _{K}$ are $\\displaystyle V$-dimensional vectors storing the parameters of the Dirichlet-distributed topic-word distributions ( $\\displaystyle V$ is the number of words in the vocabulary).\n",
    "\n",
    "It is helpful to think of the entities represented by $\\displaystyle \\theta$ and $\\displaystyle \\varphi$ as matrices created by decomposing the original document-word matrix that represents the corpus of documents being modeled. In this view, $\\displaystyle \\theta$  consists of rows defined by documents and columns defined by topics, while $\\displaystyle \\varphi$ consists of rows defined by topics and columns defined by words. Thus, $\\displaystyle \\varphi _{1},\\dots ,\\varphi _{K}$ refers to a set of rows, or vectors, each of which is a distribution over words, and $\\displaystyle \\theta _{1},\\dots ,\\theta _{M}$ refers to a set of rows, each of which is a distribution over topics.\n",
    "\n",
    "***"
   ]
  },
  {
   "cell_type": "markdown",
   "metadata": {
    "_uuid": "eee32a423ca6e2962944acdfd404c55663d6bf65"
   },
   "source": [
    "![](https://upload.wikimedia.org/wikipedia/commons/4/4d/Smoothed_LDA.png)"
   ]
  },
  {
   "cell_type": "markdown",
   "metadata": {
    "_uuid": "5cf17f9148ed172cfa16cfe01f4b73aa3ac3bf1a"
   },
   "source": [
    "**LDA assumes that each document in a corpus contains a mix of topics that are found throughout the entire corpus. The topic structure is hidden - we can only observe the documents and words, not the topics themselves. Because the structure is hidden (also known as latent), this method seeks to infer the topic structure given the known words and documents.**"
   ]
  },
  {
   "cell_type": "markdown",
   "metadata": {
    "_uuid": "37078761e76e0ba964087f7929905fc8e9dc9957"
   },
   "source": [
    "### LDA Document Structure\n",
    "\n",
    "### LDA represents documents as mixtures of topics that spit out words with certain probabilities. It assumes that documents are produced in the following fashion: when writing each document, you\n",
    "\n",
    "***\n",
    "* Decide on the number of words N the document will have.\n",
    "* Choose a topic mixture for the document (according to a Dirichlet probability distribution over a fixed set of K topics). \n",
    "* Generate each word in the document by:\n",
    "    *  First picking a topic.\n",
    "    * Then using the topic to generate the word itself (according to the topic’s multinomial distribution).\n",
    "    * Assuming this generative model for a collection of documents, LDA then tries to backtrack from the documents to find a set of topics that are likely to have generated the collection.\n",
    "***"
   ]
  },
  {
   "cell_type": "markdown",
   "metadata": {
    "_uuid": "5ef2d7abe6ce93cc1016e32585fea07369192c6c"
   },
   "source": [
    "### Now that we saw the theory aspects and the maths behind, lets see how to do it in python,"
   ]
  },
  {
   "cell_type": "markdown",
   "metadata": {
    "_uuid": "33720c8e402101402a6a99c3ced8c5b548325e84"
   },
   "source": [
    "### Convert to list so we can do some pre-processing"
   ]
  },
  {
   "cell_type": "code",
   "execution_count": 15,
   "metadata": {
    "_uuid": "2d1f52ae350d7a12c5fe3d7d77a6c95cab7cd2d2"
   },
   "outputs": [
    {
     "name": "stdout",
     "output_type": "stream",
     "text": [
      "['Burger King to buy Tim Hortons to move to Canada, avoid U.S. taxes']\n"
     ]
    }
   ],
   "source": [
    "# Convert to list\n",
    "df = data.TITLE.values.tolist()\n",
    "\n",
    "df = [re.sub('\\S*@\\S*\\s?', '', sent) for sent in df]\n",
    "\n",
    "# Remove new line characters\n",
    "df = [re.sub('\\s+', ' ', sent) for sent in df]\n",
    "\n",
    "# Remove distracting single quotes\n",
    "df = [re.sub(\"\\'\", \"\", sent) for sent in df]\n",
    "\n",
    "pprint(df[:1])"
   ]
  },
  {
   "cell_type": "code",
   "execution_count": 16,
   "metadata": {
    "_uuid": "b921d32aee7a155c3d548d3861c5ca1f328b9f59"
   },
   "outputs": [],
   "source": [
    "df = [re.sub(\"-\", \" \", sent) for sent in df]\n",
    "df = [re.sub(\":\", \"\", sent) for sent in df]"
   ]
  },
  {
   "cell_type": "markdown",
   "metadata": {
    "_uuid": "067945326877500288c9c1150fc0da4aa95ca034"
   },
   "source": [
    "### All punctuations need to be removed, so lets write a function for that and we'll use the gensim package for that. deacc=TRUE does that. "
   ]
  },
  {
   "cell_type": "code",
   "execution_count": 17,
   "metadata": {
    "_uuid": "cbc69f7c596cfeab659f3493f17978422cbab426"
   },
   "outputs": [],
   "source": [
    "def sent_to_words(sentences):\n",
    "    for sentence in sentences:\n",
    "        yield(gensim.utils.simple_preprocess(str(sentence), deacc=True))\n",
    "\n",
    "df_words = list(sent_to_words(df))"
   ]
  },
  {
   "cell_type": "markdown",
   "metadata": {
    "_uuid": "d1a30c55d32e8c94ba52daa1dd3714cc068289bb"
   },
   "source": [
    "### N-gram models"
   ]
  },
  {
   "cell_type": "markdown",
   "metadata": {
    "_uuid": "1e06ed63fe561fcd490ecc181fc151ed822c3faa"
   },
   "source": [
    "### Creating Bigram and Trigram Models\n",
    "\n",
    "### What are they? \n",
    "\n",
    "### Bigrams are two words frequently occurring together in the document. Trigrams are 3 words frequently occurring. Gensim's Phrases method helps us with that. "
   ]
  },
  {
   "cell_type": "code",
   "execution_count": 18,
   "metadata": {
    "_uuid": "ad8cfd4a81efb9904bc2d574afcaaef66a1d00de"
   },
   "outputs": [
    {
     "name": "stderr",
     "output_type": "stream",
     "text": [
      "/opt/conda/lib/python3.6/site-packages/gensim/models/phrases.py:598: UserWarning: For a faster implementation, use the gensim.models.phrases.Phraser class\n",
      "  warnings.warn(\"For a faster implementation, use the gensim.models.phrases.Phraser class\")\n"
     ]
    }
   ],
   "source": [
    "# Build the bigram and trigram models\n",
    "\n",
    "bigram = gensim.models.Phrases(df_words, min_count=5, threshold=100) # higher threshold fewer phrases.\n",
    "trigram = gensim.models.Phrases(bigram[df_words], threshold=100)  \n",
    "\n",
    "# Faster way to get a sentence clubbed as a trigram/bigram\n",
    "\n",
    "bigram_mod = gensim.models.phrases.Phraser(bigram)\n",
    "trigram_mod = gensim.models.phrases.Phraser(trigram)"
   ]
  },
  {
   "cell_type": "markdown",
   "metadata": {
    "_uuid": "5406ca53fc9a4ccc734b09e51b5761a42108863c"
   },
   "source": [
    "### We need to apply the bigrams, trigrams and lemmatize the set of documents we are working with.\n",
    "\n",
    "###  mm lemmatize ? ok  It is the process of grouping together the inflected forms of a word so they can be analysed as a single item, identified by the word's lemma, or dictionary form.\n",
    "\n",
    "### To do that, lets create few functions. "
   ]
  },
  {
   "cell_type": "code",
   "execution_count": 19,
   "metadata": {
    "_uuid": "a648a054921a9749e3a713b81608722f2be13e16"
   },
   "outputs": [],
   "source": [
    "def remove_stopwords(texts):\n",
    "    return [[word for word in simple_preprocess(str(doc)) if word not in stop_words] for doc in texts]\n",
    "\n",
    "def make_bigrams(texts):\n",
    "    return [bigram_mod[doc] for doc in texts]\n",
    "\n",
    "def make_trigrams(texts):\n",
    "    return [trigram_mod[bigram_mod[doc]] for doc in texts]\n",
    "\n",
    "def lemmatization(texts, allowed_postags=['NOUN', 'ADJ', 'VERB', 'ADV']):\n",
    "    texts_out = []\n",
    "    for sent in texts:\n",
    "        doc = nlp(\" \".join(sent)) \n",
    "        texts_out.append([token.lemma_ for token in doc if token.pos_ in allowed_postags])\n",
    "    return texts_out"
   ]
  },
  {
   "cell_type": "markdown",
   "metadata": {
    "_uuid": "bab0edd83cbbf920de2784171cff4b5094a85cc4"
   },
   "source": [
    "### Applying the custom functions to our dataset"
   ]
  },
  {
   "cell_type": "code",
   "execution_count": 20,
   "metadata": {
    "_uuid": "9b66d09cff951253420585fc381e1dd844122d67"
   },
   "outputs": [],
   "source": [
    "# Remove Stop Words\n",
    "\n",
    "data_words_nostops = remove_stopwords(df_words)\n",
    "\n",
    "# Form Bigrams\n",
    "\n",
    "data_words_bigrams = make_bigrams(data_words_nostops)\n",
    "\n",
    "nlp = spacy.load('en', disable=['parser', 'ner'])\n",
    "\n",
    "data_lemmatized = lemmatization(data_words_bigrams, allowed_postags=['NOUN', 'ADJ', 'VERB', 'ADV'])"
   ]
  },
  {
   "cell_type": "markdown",
   "metadata": {
    "_uuid": "67619094922c6a4f515490b19880fbaf3539853a"
   },
   "source": [
    "### As we saw in the definition above, converting our document set into a document-term matrix."
   ]
  },
  {
   "cell_type": "code",
   "execution_count": 21,
   "metadata": {
    "_uuid": "2761780c1fa12b72bdebe51190bd12d487da91b6"
   },
   "outputs": [],
   "source": [
    "# Create Dictionary\n",
    "id2word = corpora.Dictionary(data_lemmatized)\n",
    "\n",
    "# Create Corpus\n",
    "texts = data_lemmatized\n",
    "\n",
    "# Term Document Frequency\n",
    "corpus = [id2word.doc2bow(text) for text in texts]"
   ]
  },
  {
   "cell_type": "markdown",
   "metadata": {
    "_uuid": "c02f2bb2e04220e63a92cbc4021b10d7cf8d410f"
   },
   "source": [
    "### Readable format of corpus (term-frequency)"
   ]
  },
  {
   "cell_type": "code",
   "execution_count": 22,
   "metadata": {
    "_uuid": "a51bb44d6d9b90cfd199dbb578370bd0f72c9d39"
   },
   "outputs": [
    {
     "data": {
      "text/plain": [
       "[[('maker', 1), ('allergan', 1), ('bid', 1), ('botox', 1)]]"
      ]
     },
     "execution_count": 22,
     "metadata": {},
     "output_type": "execute_result"
    }
   ],
   "source": [
    "[[(id2word[id], freq) for id, freq in cp] for cp in corpus[11:12]]"
   ]
  },
  {
   "cell_type": "markdown",
   "metadata": {
    "_uuid": "ba07f02ffec1e820daee172a46c1e53eababf578"
   },
   "source": [
    "### Building the LDA model"
   ]
  },
  {
   "cell_type": "code",
   "execution_count": 23,
   "metadata": {
    "_uuid": "6a98ab98bd1225b67662fadd10257b831eafee31"
   },
   "outputs": [],
   "source": [
    "lda_model = gensim.models.ldamodel.LdaModel(corpus=corpus,\n",
    "                                           id2word=id2word,\n",
    "                                           num_topics=5, \n",
    "                                           random_state=100,\n",
    "                                           update_every=1,\n",
    "                                           chunksize=100,\n",
    "                                           passes=10,\n",
    "                                           alpha='auto',\n",
    "                                           per_word_topics=True)"
   ]
  },
  {
   "cell_type": "markdown",
   "metadata": {
    "_uuid": "07c2733fa6465e756353241846fc7c003099e405"
   },
   "source": [
    "### Now that the model is built, lets print the Keyword in the 10 topics"
   ]
  },
  {
   "cell_type": "code",
   "execution_count": 24,
   "metadata": {
    "_uuid": "7631adbfcd004151dd5dbd74137d171377c788fa"
   },
   "outputs": [
    {
     "name": "stdout",
     "output_type": "stream",
     "text": [
      "[(0,\n",
      "  '0.040*\"study\" + 0.022*\"virus\" + 0.015*\"new\" + 0.014*\"day\" + 0.014*\"link\" + '\n",
      "  '0.013*\"increase\" + 0.011*\"find\" + 0.010*\"deadly\" + 0.010*\"life\" + '\n",
      "  '0.010*\"tv\"'),\n",
      " (1,\n",
      "  '0.019*\"mer\" + 0.018*\"hospital\" + 0.016*\"test\" + 0.012*\"patient\" + '\n",
      "  '0.011*\"blood\" + 0.011*\"rise\" + 0.010*\"kill\" + 0.010*\"world\" + 0.009*\"watch\" '\n",
      "  '+ 0.007*\"review\"'),\n",
      " (2,\n",
      "  '0.018*\"death\" + 0.015*\"risk\" + 0.015*\"help\" + 0.013*\"spread\" + '\n",
      "  '0.013*\"woman\" + 0.012*\"ebola_outbreak\" + 0.012*\"man\" + 0.012*\"guinea\" + '\n",
      "  '0.011*\"fda\" + 0.011*\"cigarette\"'),\n",
      " (3,\n",
      "  '0.022*\"case\" + 0.022*\"new\" + 0.018*\"report\" + 0.014*\"drug\" + '\n",
      "  '0.013*\"disease\" + 0.013*\"year\" + 0.011*\"high\" + 0.008*\"obesity\" + '\n",
      "  '0.008*\"fight\" + 0.007*\"alzheimer\"'),\n",
      " (4,\n",
      "  '0.026*\"say\" + 0.024*\"health\" + 0.017*\"cancer\" + 0.014*\"heart\" + '\n",
      "  '0.012*\"recall\" + 0.010*\"people\" + 0.009*\"doctor\" + 0.008*\"scientist\" + '\n",
      "  '0.008*\"reveal\" + 0.007*\"good\"')]\n"
     ]
    }
   ],
   "source": [
    "pprint(lda_model.print_topics())\n",
    "doc_lda = lda_model[corpus]"
   ]
  },
  {
   "cell_type": "markdown",
   "metadata": {
    "_uuid": "5e1186f31269e61d0ae82f67d557481bb231fefe"
   },
   "source": [
    "### Right, now that the LDA model is built, there has to be a metric to evaluate how good the model is. Lets compute that to check how good it is. \n",
    "\n",
    "\n",
    "### There are 2 such metrics. \n",
    "\n",
    "### 1)   Perplexity -  Is a statistical measure of how well a probability model predicts a sample. As applied to LDA, for a given value of k, you estimate the LDA model. Then given the theoretical word distributions represented by the topics, compare that to the actual topic mixtures, or distribution of words in your documents. - Lower the better.\n",
    "### 2)  Coherence Score - Is defined as the average / median of the pairwise word-similarity scores of the words in the topic - Higher the better.\n",
    "                          \n",
    "                         "
   ]
  },
  {
   "cell_type": "code",
   "execution_count": 25,
   "metadata": {
    "_uuid": "12d16b5ba97abc479506201d8576e746c6bf89ac"
   },
   "outputs": [
    {
     "name": "stdout",
     "output_type": "stream",
     "text": [
      "\n",
      "Perplexity:  -9.269001054610737\n",
      "\n",
      "Coherence Score:  0.6864806552606242\n"
     ]
    }
   ],
   "source": [
    "# Compute Perplexity\n",
    "\n",
    "print('\\nPerplexity: ', lda_model.log_perplexity(corpus)) \n",
    "\n",
    "# Compute Coherence Score\n",
    "\n",
    "coherence_model_lda = CoherenceModel(model=lda_model, texts=data_lemmatized, dictionary=id2word, coherence='c_v')\n",
    "coherence_lda = coherence_model_lda.get_coherence()\n",
    "print('\\nCoherence Score: ', coherence_lda)"
   ]
  },
  {
   "cell_type": "markdown",
   "metadata": {
    "_uuid": "b474e2624e85ced497861f161270929639ad2d41"
   },
   "source": [
    "> ** From the model we created, lets look at the most salient terms under each topic that contributes to it the most** "
   ]
  },
  {
   "cell_type": "code",
   "execution_count": 26,
   "metadata": {
    "_uuid": "d87c9b1c0a47abdc403f99279e740c13a5a77f9e"
   },
   "outputs": [],
   "source": [
    "# Visualize the topics\n",
    "\n",
    "#pyLDAvis.enable_notebook()\n",
    "#vis = pyLDAvis.gensim.prepare(lda_model, corpus, id2word)\n",
    "#vis"
   ]
  },
  {
   "cell_type": "markdown",
   "metadata": {
    "_uuid": "4356268c2d17a14f9266cf0c11bfa4c74def6a0a"
   },
   "source": [
    "### Note: The graph below is not interactive as the interactive version is causing display issues after the notebook is committed. To play around, fork the notebook and check."
   ]
  },
  {
   "cell_type": "markdown",
   "metadata": {
    "_uuid": "41f8ba735f0f8bff7efb748eae9f7c4d08459ad3"
   },
   "source": [
    "![](https://github.com/rakash/Scripts/blob/master/pyldavis.png?raw=true)"
   ]
  },
  {
   "cell_type": "markdown",
   "metadata": {
    "_uuid": "a5b8a699015a47e21b7c38a708e00e31aece5ba7"
   },
   "source": [
    "**Let’s interpret the topic visualization. Notice how topics are shown on the left while words are on the right. Here are the main things you should consider:**\n",
    "\n",
    "**Larger topics are more frequent in the corpus**\n",
    "**Topics closer together are more similar, topics further apart are less similar.**\n",
    "**When you select a topic, you can see the most representative words for the selected topic. This measure can be a combination of how frequent or how discriminant the word is.**\n",
    "**You can adjust the weight of each property using the slider.**\n",
    "**Hovering over a word will adjust the topic sizes according to how representative the word is for the topic.**"
   ]
  },
  {
   "cell_type": "markdown",
   "metadata": {
    "_uuid": "0d3b795737e5476bcf9491872bd0c62375d8a374"
   },
   "source": [
    "### Now that we saw the coherence value for 5 topics, lets create a function to get the coherence values for the count of topics < 5"
   ]
  },
  {
   "cell_type": "code",
   "execution_count": 27,
   "metadata": {
    "_uuid": "dbcef8c63ebb5e6811687e72942fece03d8bf473"
   },
   "outputs": [],
   "source": [
    "def compute_coherence_values(dictionary, corpus, texts, limit, start=2, step=3):\n",
    "    coherence_values = []\n",
    "    model_list = []\n",
    "    for num_topics in range(start, limit, step):\n",
    "        model = LdaModel(corpus=corpus, num_topics=num_topics, id2word=id2word)\n",
    "        model_list.append(model)\n",
    "        coherencemodel = CoherenceModel(model=model, texts=texts, dictionary=dictionary, coherence='c_v')\n",
    "        coherence_values.append(coherencemodel.get_coherence())\n",
    "\n",
    "    return model_list, coherence_values"
   ]
  },
  {
   "cell_type": "code",
   "execution_count": 28,
   "metadata": {
    "_uuid": "a055ac0a399e09cbaa3a96e87970e615fc3c4f0b"
   },
   "outputs": [],
   "source": [
    "model_list, coherence_values = compute_coherence_values(dictionary=id2word, corpus=corpus, texts=data_lemmatized, start=1, limit=6, step=1)"
   ]
  },
  {
   "cell_type": "code",
   "execution_count": 29,
   "metadata": {
    "_uuid": "d1a9f229ba496db1866ac06f7f0e030aa3c104e4"
   },
   "outputs": [
    {
     "data": {
      "image/png": "[encoded data removed]",
      "text/plain": [
       "<Figure size 864x864 with 1 Axes>"
      ]
     },
     "metadata": {
      "needs_background": "light"
     },
     "output_type": "display_data"
    }
   ],
   "source": [
    "limit=6; start=1; step=1;\n",
    "x = range(start, limit, step)\n",
    "plt.figure(figsize=(12,12))\n",
    "plt.plot(x, coherence_values)\n",
    "plt.xlabel(\"Num Topics\")\n",
    "plt.ylabel(\"Coherence score\")\n",
    "plt.legend((\"coherence_values\"), loc='best')\n",
    "plt.show()"
   ]
  },
  {
   "cell_type": "code",
   "execution_count": 30,
   "metadata": {
    "_uuid": "384e9f3fa99a24263f76f5851bab58199ca414c5"
   },
   "outputs": [
    {
     "name": "stdout",
     "output_type": "stream",
     "text": [
      "Num Topics = 1  has Coherence Value of 0.5579\n",
      "Num Topics = 2  has Coherence Value of 0.5464\n",
      "Num Topics = 3  has Coherence Value of 0.6067\n",
      "Num Topics = 4  has Coherence Value of 0.6323\n",
      "Num Topics = 5  has Coherence Value of 0.6131\n"
     ]
    }
   ],
   "source": [
    "for m, cv in zip(x, coherence_values):\n",
    "    print(\"Num Topics =\", m, \" has Coherence Value of\", round(cv, 4))"
   ]
  },
  {
   "cell_type": "code",
   "execution_count": 31,
   "metadata": {
    "_uuid": "fc5e9cd5dd15232a6087eaf025a52b139191fb13"
   },
   "outputs": [
    {
     "name": "stdout",
     "output_type": "stream",
     "text": [
      "[(0,\n",
      "  '0.013*\"new\" + 0.009*\"drug\" + 0.009*\"hospital\" + 0.007*\"report\" + '\n",
      "  '0.007*\"patient\" + 0.006*\"say\" + 0.005*\"death\" + 0.005*\"health\" + '\n",
      "  '0.005*\"link\" + 0.004*\"healthy\"'),\n",
      " (1,\n",
      "  '0.007*\"help\" + 0.007*\"man\" + 0.006*\"study\" + 0.005*\"doctor\" + 0.005*\"death\" '\n",
      "  '+ 0.005*\"people\" + 0.004*\"deadly\" + 0.004*\"apple\" + 0.004*\"girl\" + '\n",
      "  '0.004*\"research\"'),\n",
      " (2,\n",
      "  '0.009*\"new\" + 0.007*\"cigarette\" + 0.007*\"risk\" + 0.007*\"say\" + 0.006*\"case\" '\n",
      "  '+ 0.006*\"increase\" + 0.005*\"health\" + 0.005*\"blood\" + 0.005*\"die\" + '\n",
      "  '0.004*\"fight\"'),\n",
      " (3,\n",
      "  '0.010*\"virus\" + 0.009*\"heart\" + 0.007*\"woman\" + 0.007*\"say\" + '\n",
      "  '0.006*\"recall\" + 0.006*\"study\" + 0.006*\"case\" + 0.005*\"cancer\" + '\n",
      "  '0.005*\"test\" + 0.004*\"rise\"')]\n"
     ]
    }
   ],
   "source": [
    "# Select the model and print the topics\n",
    "\n",
    "optimal_model = model_list[3]\n",
    "model_topics = optimal_model.show_topics(formatted=False)\n",
    "pprint(optimal_model.print_topics(num_words=10))"
   ]
  },
  {
   "cell_type": "markdown",
   "metadata": {
    "_uuid": "1d767072d2936cf0cf3329f35bdd606d578f97be"
   },
   "source": [
    "### Now which one do we go for? For this example, I am gonna go with 4 topics because the target lables in this dataset was classified into 4. Otherwise, its better to go with the one having the highest coherence score.\n",
    "\n",
    "### The purpose of LDA is also to compute how much of the document was generated by which topic. Lets look at that."
   ]
  },
  {
   "cell_type": "code",
   "execution_count": 32,
   "metadata": {
    "_uuid": "08eb946ab54ed81db6c1605d3900a68661338ad4",
    "scrolled": true
   },
   "outputs": [
    {
     "data": {
      "text/html": [
       "<div>\n",
       "<style scoped>\n",
       "    .dataframe tbody tr th:only-of-type {\n",
       "        vertical-align: middle;\n",
       "    }\n",
       "\n",
       "    .dataframe tbody tr th {\n",
       "        vertical-align: top;\n",
       "    }\n",
       "\n",
       "    .dataframe thead th {\n",
       "        text-align: right;\n",
       "    }\n",
       "</style>\n",
       "<table border=\"1\" class=\"dataframe\">\n",
       "  <thead>\n",
       "    <tr style=\"text-align: right;\">\n",
       "      <th></th>\n",
       "      <th>Document_No</th>\n",
       "      <th>Dominant_Topic</th>\n",
       "      <th>Topic_Perc_Contrib</th>\n",
       "      <th>Keywords</th>\n",
       "      <th>Text</th>\n",
       "    </tr>\n",
       "  </thead>\n",
       "  <tbody>\n",
       "    <tr>\n",
       "      <th>0</th>\n",
       "      <td>0</td>\n",
       "      <td>1.0</td>\n",
       "      <td>0.9155</td>\n",
       "      <td>help, man, study, doctor, death, people, deadl...</td>\n",
       "      <td>Burger King to buy Tim Hortons to move to Cana...</td>\n",
       "    </tr>\n",
       "    <tr>\n",
       "      <th>1</th>\n",
       "      <td>1</td>\n",
       "      <td>3.0</td>\n",
       "      <td>0.8427</td>\n",
       "      <td>virus, heart, woman, say, recall, study, case,...</td>\n",
       "      <td>UK house prices rise by 1.9% in February</td>\n",
       "    </tr>\n",
       "    <tr>\n",
       "      <th>2</th>\n",
       "      <td>2</td>\n",
       "      <td>0.0</td>\n",
       "      <td>0.6130</td>\n",
       "      <td>new, drug, hospital, report, patient, say, dea...</td>\n",
       "      <td>Market Close Report NASDAQ Composite index clo...</td>\n",
       "    </tr>\n",
       "    <tr>\n",
       "      <th>3</th>\n",
       "      <td>3</td>\n",
       "      <td>1.0</td>\n",
       "      <td>0.8682</td>\n",
       "      <td>help, man, study, doctor, death, people, deadl...</td>\n",
       "      <td>Candy Crush maker raises $500m in IPO</td>\n",
       "    </tr>\n",
       "    <tr>\n",
       "      <th>4</th>\n",
       "      <td>4</td>\n",
       "      <td>1.0</td>\n",
       "      <td>0.8741</td>\n",
       "      <td>help, man, study, doctor, death, people, deadl...</td>\n",
       "      <td>Amazon acquires digital comics hub ComiXology</td>\n",
       "    </tr>\n",
       "  </tbody>\n",
       "</table>\n",
       "</div>"
      ],
      "text/plain": [
       "   Document_No                        ...                                                                       Text\n",
       "0            0                        ...                          Burger King to buy Tim Hortons to move to Cana...\n",
       "1            1                        ...                                   UK house prices rise by 1.9% in February\n",
       "2            2                        ...                          Market Close Report NASDAQ Composite index clo...\n",
       "3            3                        ...                                      Candy Crush maker raises $500m in IPO\n",
       "4            4                        ...                              Amazon acquires digital comics hub ComiXology\n",
       "\n",
       "[5 rows x 5 columns]"
      ]
     },
     "execution_count": 32,
     "metadata": {},
     "output_type": "execute_result"
    }
   ],
   "source": [
    "def format_topics_sentences(ldamodel=lda_model, corpus=corpus, texts=data):\n",
    "   \n",
    "    sent_topics_df = pd.DataFrame()\n",
    "\n",
    "   \n",
    "    for i, row in enumerate(ldamodel[corpus]):\n",
    "        row = sorted(row, key=lambda x: (x[1]), reverse=True)\n",
    "        # Get the Dominant topic, Perc Contribution and Keywords for each document\n",
    "        for j, (topic_num, prop_topic) in enumerate(row):\n",
    "            if j == 0:  # -- dominant topic\n",
    "                wp = ldamodel.show_topic(topic_num)\n",
    "                topic_keywords = \", \".join([word for word, prop in wp])\n",
    "                sent_topics_df = sent_topics_df.append(pd.Series([int(topic_num), round(prop_topic,4), topic_keywords]), ignore_index=True)\n",
    "            else:\n",
    "                break\n",
    "    sent_topics_df.columns = ['Dominant_Topic', 'Perc_Contribution', 'Topic_Keywords']\n",
    "\n",
    "    # Add original text to the end of the output\n",
    "    \n",
    "    contents = pd.Series(texts)\n",
    "    sent_topics_df = pd.concat([sent_topics_df, contents], axis=1)\n",
    "    return(sent_topics_df)\n",
    "    \n",
    "\n",
    "df_topic_sents_keywords = format_topics_sentences(ldamodel=optimal_model, corpus=corpus, texts=df)\n",
    "\n",
    "\n",
    "df_dominant_topic = df_topic_sents_keywords.reset_index()\n",
    "df_dominant_topic.columns = ['Document_No', 'Dominant_Topic', 'Topic_Perc_Contrib', 'Keywords', 'Text']\n",
    "\n",
    "\n",
    "df_dominant_topic.head(5)"
   ]
  },
  {
   "cell_type": "markdown",
   "metadata": {
    "_uuid": "af7173a295ff9b8ef9718dfec42d79b8b0284173"
   },
   "source": [
    "### We see above, the dominant topic and percentage contribution for each document. "
   ]
  },
  {
   "cell_type": "markdown",
   "metadata": {
    "_uuid": "061946140df615f02c78c11e4852ddee64c2c811"
   },
   "source": [
    "<a id='hdp'></a>\n",
    "\n",
    "# Hierarchical Dirichlet Process"
   ]
  },
  {
   "cell_type": "markdown",
   "metadata": {
    "_uuid": "0740315fa83fe0b3d7973c75ab659ad91b4e2c25"
   },
   "source": [
    "***\n",
    "is a nonparametric Bayesian approach to clustering grouped data. It uses a Dirichlet process for each group of data, with the Dirichlet processes for all groups sharing a base distribution which is itself drawn from a Dirichlet process\n",
    "***"
   ]
  },
  {
   "cell_type": "markdown",
   "metadata": {
    "_uuid": "a140a5f00cf42057b07489fdf54bc2b412423d0f"
   },
   "source": [
    "###  This technique is not really suitable to a dataset or a problem where the number of topics is predetermined & thats where the difference lies between HDP and LDA"
   ]
  },
  {
   "cell_type": "markdown",
   "metadata": {
    "_uuid": "eb5d3da0cabba8f485386740ab53c0979b63012e"
   },
   "source": [
    "HDP is an extension of LDA, designed to address the case where the number of mixture components (the number of \"topics\" in document-modeling terms) is not known apriori. \n",
    "\n",
    "Using LDA for document modeling, one treats each \"topic\" as a distribution of words in some known vocabulary. For each document a mixture of topics is drawn from a Dirichlet distribution, and then each word in the document is an independent draw from that mixture (that is, selecting a topic and then using it to generate a word).\n",
    "\n",
    "For HDP (applied to document modeling), one also uses a Dirichlet process to capture the uncertainty in the number of topics. So a common base distribution is selected which represents the countably-infinite set of possible topics for the corpus, and then the finite distribution of topics for each document is sampled from this base distribution."
   ]
  },
  {
   "cell_type": "markdown",
   "metadata": {
    "_uuid": "3fe9c5523ee279026bf29ea0c594293a1d9f4552"
   },
   "source": [
    "### We will be using the hdpmodel module from gensim"
   ]
  },
  {
   "cell_type": "code",
   "execution_count": 33,
   "metadata": {
    "_uuid": "5224bedc3f9fce022f48ea939ac592b59ff603da"
   },
   "outputs": [],
   "source": [
    "from gensim.models import CoherenceModel, HdpModel"
   ]
  },
  {
   "cell_type": "code",
   "execution_count": 34,
   "metadata": {
    "_uuid": "6b756cfe90f5e3d77346855cd486a84bc41929bb"
   },
   "outputs": [],
   "source": [
    "hdpmodel = HdpModel(corpus=corpus, id2word=id2word)"
   ]
  },
  {
   "cell_type": "code",
   "execution_count": 35,
   "metadata": {
    "_uuid": "fbe0b7cea6f0cb850502541a9ef794e24d3269c3"
   },
   "outputs": [],
   "source": [
    "hdptopics = hdpmodel.show_topics(formatted=False)"
   ]
  },
  {
   "cell_type": "code",
   "execution_count": 36,
   "metadata": {
    "_uuid": "172e284890de13920d8dbb653025e4d3aff7218c"
   },
   "outputs": [
    {
     "data": {
      "text/plain": [
       "(0,\n",
       " [('announced', 0.0015505132578039682),\n",
       "  ('nutrient', 0.0015298477638611215),\n",
       "  ('celebs', 0.001200847903540831),\n",
       "  ('twtr', 0.0011975065275918605),\n",
       "  ('hepatitis', 0.0011939442064696777),\n",
       "  ('jimmy', 0.0011931181089835608),\n",
       "  ('michael', 0.0011333296787678234),\n",
       "  ('website', 0.0011260720065750472),\n",
       "  ('relationship', 0.0011171221540322643),\n",
       "  ('session', 0.0011102913517835062),\n",
       "  ('reputation', 0.0010976868824788073),\n",
       "  ('hall', 0.001094761104690699),\n",
       "  ('rd', 0.001087289110157766),\n",
       "  ('emerge', 0.0010849580101154914),\n",
       "  ('transfer', 0.0010720099343745862),\n",
       "  ('fail', 0.001071339876858204),\n",
       "  ('inappropriate', 0.0010647696925120142),\n",
       "  ('iwata', 0.0010553533828703853),\n",
       "  ('bipartisan', 0.0010343837834766625),\n",
       "  ('investigator', 0.0010269352887633924)])"
      ]
     },
     "execution_count": 36,
     "metadata": {},
     "output_type": "execute_result"
    }
   ],
   "source": [
    "hdptopics[0]"
   ]
  },
  {
   "cell_type": "code",
   "execution_count": 37,
   "metadata": {
    "_uuid": "e083c09d03511ed798afeea6ceb3b11b6bef3ed1"
   },
   "outputs": [
    {
     "data": {
      "text/plain": [
       "20"
      ]
     },
     "execution_count": 37,
     "metadata": {},
     "output_type": "execute_result"
    }
   ],
   "source": [
    "len(hdptopics)"
   ]
  },
  {
   "cell_type": "markdown",
   "metadata": {
    "_uuid": "406d4894763e0f33fb44e19d48bd342ea2ee9c29"
   },
   "source": [
    "### The topics generated by HDP are as above. Lets look at the terms of the 1st topic.  We also see that the model has generated 20 topics. We'll be comparing the coherence scores of the other models later, But before that, lets look at the next technique under topic modeling. "
   ]
  },
  {
   "cell_type": "markdown",
   "metadata": {
    "_uuid": "4b21e7b0f896e5ec788b2a570d30ba3a4e75920d"
   },
   "source": [
    "<a id='nmf'></a>\n",
    "\n",
    "# Non-Negative Matrix Factorization"
   ]
  },
  {
   "cell_type": "markdown",
   "metadata": {
    "_uuid": "b08c5131871154617d61a2dceb2554f212cf2b1f"
   },
   "source": [
    "![](https://upload.wikimedia.org/wikipedia/commons/f/f9/NMF.png)"
   ]
  },
  {
   "cell_type": "markdown",
   "metadata": {
    "_uuid": "e0983415da3ba29dc02083a671230fb542990c7b"
   },
   "source": [
    "Is a group of algorithms where a matrix V is factorized into (usually) two matrices W and H, with the property that all three matrices have no negative elements. This non-negativity makes the resulting matrices easier to inspect."
   ]
  },
  {
   "cell_type": "markdown",
   "metadata": {
    "_uuid": "2fdb8d9d99af55706f891f54d9048dfffad3f5db"
   },
   "source": [
    "$\\mathbf {V}$= $\\mathbf {W} \\mathbf {H}$\n",
    "Matrix multiplication can be implemented as computing the column vectors of V as linear combinations of the column vectors in W using coefficients supplied by columns of H. \n",
    "\n",
    "That is, each column of V can be computed as follows:\n",
    "\n",
    "$\\mathbf {v} _{i}$= $\\mathbf {W} \\mathbf {h} _{i}$\n",
    "where $\\mathbf {v} _{i}$ is the i-th column vector of the product matrix $\\mathbf {V}$ and $\\mathbf {h} _{i}$ is the i-th column vector of the matrix $\\mathbf {H}$."
   ]
  },
  {
   "cell_type": "markdown",
   "metadata": {
    "_uuid": "f0ce2f1fe9ce40b288176329144c7f3ffbb919fb"
   },
   "source": [
    "Again, difference between LDA and NMF? \n",
    "\n",
    "Latent Dirichlet Allocation (where documents are represented by latent topics, and topics are represented by a distribution over words) \n",
    "Non-negative Matrix Factorization (where a document-term matrix is approximately factorized into term-feature and feature-document matrices)."
   ]
  },
  {
   "cell_type": "markdown",
   "metadata": {
    "_uuid": "bda5c6b792a32ceb0cd595d8f7377b0ee6220ace"
   },
   "source": [
    "### NMF Structure"
   ]
  },
  {
   "cell_type": "markdown",
   "metadata": {
    "_uuid": "7b0fd3edfd58fa97e3af9dfd3d7797868c920655"
   },
   "source": [
    "***\n",
    "Thus, given a set of multivariate $\\displaystyle n$ -dimensional data vectors, they are put into an $\\displaystyle n*m$ matrix $\\displaystyle V$ as its columns, where $\\displaystyle m$ is the number of examples in the data set. This matrix $\\displaystyle V$ is approximately factorized into an $\\displaystyle n*t$ matrix $\\displaystyle W$ and an $\\displaystyle t*m$ matrix $\\displaystyle H$, where $\\displaystyle t$ is generally less than $\\displaystyle n$ or $\\displaystyle m$. Hence, this results in a compression of the original data matrix.\n",
    "\n",
    "In terms of topic modeling, the input document-term matrix $\\displaystyle V$ is factorized into a $\\displaystyle n*t$ document-topic matrix and a $\\displaystyle t*m$  topic-term matrix, where $\\displaystyle t$ is the number of topics produced.\n",
    "***"
   ]
  },
  {
   "cell_type": "markdown",
   "metadata": {
    "_uuid": "2f35456a4be8a482ba96dd6f5280fc2b7acebe4c"
   },
   "source": [
    "### On to python now,"
   ]
  },
  {
   "cell_type": "markdown",
   "metadata": {
    "_uuid": "56145f67177ab6e2cf30bbf5d3ce42e85e907d76"
   },
   "source": [
    "### Forming the matrix, getting the features and normalizing them"
   ]
  },
  {
   "cell_type": "code",
   "execution_count": 38,
   "metadata": {
    "_uuid": "42ae3505d7c9ac9578f22a3486b2c48ba0ab6a5b"
   },
   "outputs": [
    {
     "name": "stdout",
     "output_type": "stream",
     "text": [
      "Created 3000 X 5000 document-term matrix\n"
     ]
    }
   ],
   "source": [
    "from nltk.corpus import stopwords;\n",
    "import nltk;\n",
    "from sklearn.feature_extraction.text import CountVectorizer, TfidfTransformer;\n",
    "from sklearn.decomposition import NMF;\n",
    "from sklearn.preprocessing import normalize;\n",
    "\n",
    "vectorizer = CountVectorizer(analyzer='word', max_features=5000, stop_words='english', lowercase=True, \n",
    "                             token_pattern='[a-zA-Z\\-][a-zA-Z\\-]{2,}');\n",
    "x_counts = vectorizer.fit_transform(title);\n",
    "print( \"Created %d X %d document-term matrix\" % (x_counts.shape[0], x_counts.shape[1]) )\n",
    "transformer = TfidfTransformer(smooth_idf=False);\n",
    "x_tfidf = transformer.fit_transform(x_counts);"
   ]
  },
  {
   "cell_type": "code",
   "execution_count": 39,
   "metadata": {
    "_uuid": "8a11364f944fa61bffec0b506a66ae04ded19c00"
   },
   "outputs": [
    {
     "name": "stdout",
     "output_type": "stream",
     "text": [
      "Vocabulary has 5000 distinct terms\n"
     ]
    }
   ],
   "source": [
    "terms = vectorizer.get_feature_names()\n",
    "print(\"Vocabulary has %d distinct terms\" % len(terms))"
   ]
  },
  {
   "cell_type": "code",
   "execution_count": 40,
   "metadata": {
    "_uuid": "246bcb122c8a9e240eddb9a8eebdeaf7e9d895ce"
   },
   "outputs": [
    {
     "data": {
      "text/plain": [
       "NMF(alpha=0.0, beta_loss='frobenius', init='nndsvd', l1_ratio=0.0,\n",
       "  max_iter=200, n_components=5, random_state=None, shuffle=False,\n",
       "  solver='cd', tol=0.0001, verbose=0)"
      ]
     },
     "execution_count": 40,
     "metadata": {},
     "output_type": "execute_result"
    }
   ],
   "source": [
    "xtfidf_norm = normalize(x_tfidf, norm='l1', axis=1)\n",
    "model = NMF(n_components=5, init='nndsvd');\n",
    "model.fit(xtfidf_norm)"
   ]
  },
  {
   "cell_type": "markdown",
   "metadata": {
    "_uuid": "99657550b002e2945f47191fc1f239a47f02d511"
   },
   "source": [
    "### In order to get the topics, we'll again be creating a function. The NMF doesn't have the show topics method and hence we'll be taking the custom approach."
   ]
  },
  {
   "cell_type": "code",
   "execution_count": 41,
   "metadata": {
    "_uuid": "50cedc356c2755ad244ba9915b1368e498ea7746"
   },
   "outputs": [],
   "source": [
    "def get_nmf_topics(model, n_top_words):\n",
    "    \n",
    "    feat_names = vectorizer.get_feature_names()\n",
    "    \n",
    "    word_dict = {};\n",
    "    for i in range(num_topics):\n",
    "        \n",
    "        words_ids = model.components_[i].argsort()[:-20 - 1:-1]\n",
    "        words = [feat_names[key] for key in words_ids]\n",
    "        word_dict['Topic # ' + '{:02d}'.format(i+1)] = words;\n",
    "    \n",
    "    return pd.DataFrame(word_dict);"
   ]
  },
  {
   "cell_type": "code",
   "execution_count": 42,
   "metadata": {
    "_uuid": "7f6fbffeb6ce5de214983fee962a97e5e96bc86a"
   },
   "outputs": [
    {
     "data": {
      "text/html": [
       "<div>\n",
       "<style scoped>\n",
       "    .dataframe tbody tr th:only-of-type {\n",
       "        vertical-align: middle;\n",
       "    }\n",
       "\n",
       "    .dataframe tbody tr th {\n",
       "        vertical-align: top;\n",
       "    }\n",
       "\n",
       "    .dataframe thead th {\n",
       "        text-align: right;\n",
       "    }\n",
       "</style>\n",
       "<table border=\"1\" class=\"dataframe\">\n",
       "  <thead>\n",
       "    <tr style=\"text-align: right;\">\n",
       "      <th></th>\n",
       "      <th>Topic # 01</th>\n",
       "      <th>Topic # 02</th>\n",
       "      <th>Topic # 03</th>\n",
       "      <th>Topic # 04</th>\n",
       "      <th>Topic # 05</th>\n",
       "    </tr>\n",
       "  </thead>\n",
       "  <tbody>\n",
       "    <tr>\n",
       "      <th>0</th>\n",
       "      <td>ebola</td>\n",
       "      <td>samsung</td>\n",
       "      <td>facebook</td>\n",
       "      <td>new</td>\n",
       "      <td>google</td>\n",
       "    </tr>\n",
       "    <tr>\n",
       "      <th>1</th>\n",
       "      <td>outbreak</td>\n",
       "      <td>galaxy</td>\n",
       "      <td>twitter</td>\n",
       "      <td>study</td>\n",
       "      <td>android</td>\n",
       "    </tr>\n",
       "    <tr>\n",
       "      <th>2</th>\n",
       "      <td>guinea</td>\n",
       "      <td>review</td>\n",
       "      <td>buy</td>\n",
       "      <td>says</td>\n",
       "      <td>apple</td>\n",
       "    </tr>\n",
       "    <tr>\n",
       "      <th>3</th>\n",
       "      <td>west</td>\n",
       "      <td>guardians</td>\n",
       "      <td>button</td>\n",
       "      <td>phone</td>\n",
       "      <td>glass</td>\n",
       "    </tr>\n",
       "    <tr>\n",
       "      <th>4</th>\n",
       "      <td>africa</td>\n",
       "      <td>apple</td>\n",
       "      <td>users</td>\n",
       "      <td>amazon</td>\n",
       "      <td>need</td>\n",
       "    </tr>\n",
       "    <tr>\n",
       "      <th>5</th>\n",
       "      <td>control</td>\n",
       "      <td>price</td>\n",
       "      <td>news</td>\n",
       "      <td>report</td>\n",
       "      <td>know</td>\n",
       "    </tr>\n",
       "    <tr>\n",
       "      <th>6</th>\n",
       "      <td>cases</td>\n",
       "      <td>movie</td>\n",
       "      <td>experiment</td>\n",
       "      <td>microsoft</td>\n",
       "      <td>chrome</td>\n",
       "    </tr>\n",
       "    <tr>\n",
       "      <th>7</th>\n",
       "      <td>virus</td>\n",
       "      <td>proves</td>\n",
       "      <td>oculus</td>\n",
       "      <td>million</td>\n",
       "      <td>things</td>\n",
       "    </tr>\n",
       "    <tr>\n",
       "      <th>8</th>\n",
       "      <td>kills</td>\n",
       "      <td>gear</td>\n",
       "      <td>modi</td>\n",
       "      <td>recalls</td>\n",
       "      <td>app</td>\n",
       "    </tr>\n",
       "    <tr>\n",
       "      <th>9</th>\n",
       "      <td>toll</td>\n",
       "      <td>iphone</td>\n",
       "      <td>feeds</td>\n",
       "      <td>heart</td>\n",
       "      <td>development</td>\n",
       "    </tr>\n",
       "    <tr>\n",
       "      <th>10</th>\n",
       "      <td>alert</td>\n",
       "      <td>note</td>\n",
       "      <td>like</td>\n",
       "      <td>prices</td>\n",
       "      <td>sale</td>\n",
       "    </tr>\n",
       "    <tr>\n",
       "      <th>11</th>\n",
       "      <td>liberia</td>\n",
       "      <td>-inch</td>\n",
       "      <td>company</td>\n",
       "      <td>apple</td>\n",
       "      <td>maps</td>\n",
       "    </tr>\n",
       "    <tr>\n",
       "      <th>12</th>\n",
       "      <td>says</td>\n",
       "      <td>active</td>\n",
       "      <td>messenger</td>\n",
       "      <td>game</td>\n",
       "      <td>microsoft</td>\n",
       "    </tr>\n",
       "    <tr>\n",
       "      <th>13</th>\n",
       "      <td>contained</td>\n",
       "      <td>update</td>\n",
       "      <td>acquires</td>\n",
       "      <td>climate</td>\n",
       "      <td>public</td>\n",
       "    </tr>\n",
       "    <tr>\n",
       "      <th>14</th>\n",
       "      <td>drastic</td>\n",
       "      <td>prime</td>\n",
       "      <td>video</td>\n",
       "      <td>surface</td>\n",
       "      <td>auto</td>\n",
       "    </tr>\n",
       "    <tr>\n",
       "      <th>15</th>\n",
       "      <td>treatment</td>\n",
       "      <td>website</td>\n",
       "      <td>feature</td>\n",
       "      <td>week</td>\n",
       "      <td>car</td>\n",
       "    </tr>\n",
       "    <tr>\n",
       "      <th>16</th>\n",
       "      <td>action</td>\n",
       "      <td>battle</td>\n",
       "      <td>looked</td>\n",
       "      <td>watch</td>\n",
       "      <td>iphone</td>\n",
       "    </tr>\n",
       "    <tr>\n",
       "      <th>17</th>\n",
       "      <td>warns</td>\n",
       "      <td>display</td>\n",
       "      <td>newswire</td>\n",
       "      <td>home</td>\n",
       "      <td>companies</td>\n",
       "    </tr>\n",
       "    <tr>\n",
       "      <th>18</th>\n",
       "      <td>african</td>\n",
       "      <td>tab</td>\n",
       "      <td>effect</td>\n",
       "      <td>rise</td>\n",
       "      <td>launch</td>\n",
       "    </tr>\n",
       "    <tr>\n",
       "      <th>19</th>\n",
       "      <td>spread</td>\n",
       "      <td>lee</td>\n",
       "      <td>social</td>\n",
       "      <td>iphone</td>\n",
       "      <td>expect</td>\n",
       "    </tr>\n",
       "  </tbody>\n",
       "</table>\n",
       "</div>"
      ],
      "text/plain": [
       "   Topic # 01 Topic # 02  Topic # 03 Topic # 04   Topic # 05\n",
       "0       ebola    samsung    facebook        new       google\n",
       "1    outbreak     galaxy     twitter      study      android\n",
       "2      guinea     review         buy       says        apple\n",
       "3        west  guardians      button      phone        glass\n",
       "4      africa      apple       users     amazon         need\n",
       "5     control      price        news     report         know\n",
       "6       cases      movie  experiment  microsoft       chrome\n",
       "7       virus     proves      oculus    million       things\n",
       "8       kills       gear        modi    recalls          app\n",
       "9        toll     iphone       feeds      heart  development\n",
       "10      alert       note        like     prices         sale\n",
       "11    liberia      -inch     company      apple         maps\n",
       "12       says     active   messenger       game    microsoft\n",
       "13  contained     update    acquires    climate       public\n",
       "14    drastic      prime       video    surface         auto\n",
       "15  treatment    website     feature       week          car\n",
       "16     action     battle      looked      watch       iphone\n",
       "17      warns    display    newswire       home    companies\n",
       "18    african        tab      effect       rise       launch\n",
       "19     spread        lee      social     iphone       expect"
      ]
     },
     "execution_count": 42,
     "metadata": {},
     "output_type": "execute_result"
    }
   ],
   "source": [
    "num_topics = 5\n",
    "nmf_df = get_nmf_topics(model, 5)\n",
    "nmf_df"
   ]
  },
  {
   "cell_type": "markdown",
   "metadata": {
    "_uuid": "7a25589cda401db9257c242a025560e322303454"
   },
   "source": [
    "### The table above shows the terms under each topic, as per the NMF model"
   ]
  },
  {
   "cell_type": "code",
   "execution_count": 43,
   "metadata": {
    "_uuid": "971bd10f78270a1b37ce8ed5a73b32fa9071ef34"
   },
   "outputs": [],
   "source": [
    "raw_documents = title.str.strip()\n",
    "raw_documents= raw_documents.str.lower()\n",
    "raw_documents = raw_documents.tolist()\n",
    "raw_doc1 = [i.split() for i in raw_documents]"
   ]
  },
  {
   "cell_type": "code",
   "execution_count": 44,
   "metadata": {
    "_uuid": "b3d68623e61c1a91d7ce814f3b6bf6459fe46ff6"
   },
   "outputs": [
    {
     "name": "stdout",
     "output_type": "stream",
     "text": [
      "Created 3000 X 93 document-term matrix\n"
     ]
    }
   ],
   "source": [
    "from sklearn.feature_extraction.text import CountVectorizer\n",
    "# use a custom stopwords list, set the minimum term-document frequency to 20\n",
    "vectorizer = CountVectorizer(stop_words = stop_words, min_df = 20) #custom_stop_words\n",
    "A = vectorizer.fit_transform(raw_documents)\n",
    "print( \"Created %d X %d document-term matrix\" % (A.shape[0], A.shape[1]) )"
   ]
  },
  {
   "cell_type": "code",
   "execution_count": 45,
   "metadata": {
    "_uuid": "53b6216058bb62d0c24ff9c332629e5dca6b9012"
   },
   "outputs": [
    {
     "name": "stdout",
     "output_type": "stream",
     "text": [
      "Vocabulary has 93 distinct terms\n"
     ]
    }
   ],
   "source": [
    "terms = vectorizer.get_feature_names()\n",
    "print(\"Vocabulary has %d distinct terms\" % len(terms))"
   ]
  },
  {
   "cell_type": "code",
   "execution_count": 46,
   "metadata": {
    "_uuid": "0fb4717ec1fa8a6115537460ae2719186020d9b7"
   },
   "outputs": [
    {
     "name": "stdout",
     "output_type": "stream",
     "text": [
      "Created 3000 X 93 TF-IDF-normalized document-term matrix\n"
     ]
    }
   ],
   "source": [
    "from sklearn.feature_extraction.text import TfidfVectorizer\n",
    "# we can pass in the same preprocessing parameters\n",
    "vectorizer = TfidfVectorizer(stop_words= stop_words, min_df = 20) #custom_stop_words\n",
    "A = vectorizer.fit_transform(raw_documents)\n",
    "print( \"Created %d X %d TF-IDF-normalized document-term matrix\" % (A.shape[0], A.shape[1]) )"
   ]
  },
  {
   "cell_type": "markdown",
   "metadata": {
    "_uuid": "ca3fcf3ec4a2f5f06a58711a4631ed44d26284a9"
   },
   "source": [
    "### Until now, we created the term matrix. lets rank the terms and build the model."
   ]
  },
  {
   "cell_type": "code",
   "execution_count": 47,
   "metadata": {
    "_uuid": "dcafeeaf0e525165120c52fd903c795619e8459b"
   },
   "outputs": [],
   "source": [
    "import operator\n",
    "def rank_terms( A, terms ):\n",
    "    # get the sums over each column\n",
    "    sums = A.sum(axis=0)\n",
    "    # map weights to the terms\n",
    "    weights = {}\n",
    "    for col, term in enumerate(terms):\n",
    "        weights[term] = sums[0,col]\n",
    "    # rank the terms by their weight over all documents\n",
    "    return sorted(weights.items(), key=operator.itemgetter(1), reverse=True)"
   ]
  },
  {
   "cell_type": "code",
   "execution_count": 48,
   "metadata": {
    "_uuid": "77e01a363f215fd559b4f6060c61c0257be6bd92"
   },
   "outputs": [
    {
     "name": "stdout",
     "output_type": "stream",
     "text": [
      "01. new (111.37)\n",
      "02. google (59.06)\n",
      "03. says (57.18)\n",
      "04. apple (56.66)\n",
      "05. ebola (52.80)\n",
      "06. 2014 (45.91)\n",
      "07. study (43.82)\n",
      "08. microsoft (43.42)\n",
      "09. samsung (39.64)\n",
      "10. report (38.00)\n",
      "11. video (37.09)\n",
      "12. health (36.30)\n",
      "13. million (36.06)\n",
      "14. day (33.72)\n",
      "15. facebook (33.50)\n",
      "16. cancer (32.95)\n",
      "17. sales (30.94)\n",
      "18. china (30.28)\n",
      "19. watch (30.01)\n",
      "20. twitter (28.90)\n"
     ]
    }
   ],
   "source": [
    "ranking = rank_terms( A, terms )\n",
    "for i, pair in enumerate( ranking[0:20] ):\n",
    "    print( \"%02d. %s (%.2f)\" % ( i+1, pair[0], pair[1] ) )"
   ]
  },
  {
   "cell_type": "code",
   "execution_count": 49,
   "metadata": {
    "_uuid": "11fd687f57d8fca774e48a194d82a0ca30a97b12"
   },
   "outputs": [],
   "source": [
    "k = 10\n",
    "# create the model\n",
    "from sklearn import decomposition\n",
    "model = decomposition.NMF( init=\"nndsvd\", n_components=k ) \n",
    "# apply the model and extract the two factor matrices\n",
    "W = model.fit_transform( A )\n",
    "H = model.components_"
   ]
  },
  {
   "cell_type": "markdown",
   "metadata": {
    "_uuid": "6a008200005a1d5f506667ac341dc0243c97c834"
   },
   "source": [
    "### checking the index for a term"
   ]
  },
  {
   "cell_type": "code",
   "execution_count": 50,
   "metadata": {
    "_uuid": "1874daef5585719e877faa79c839e380ff6fe63b"
   },
   "outputs": [
    {
     "data": {
      "text/plain": [
       "array([0.  , 0.  , 0.  , 0.  , 0.09, 0.  , 0.  , 1.99, 0.  , 0.  ])"
      ]
     },
     "execution_count": 50,
     "metadata": {},
     "output_type": "execute_result"
    }
   ],
   "source": [
    "term_index = terms.index('samsung')\n",
    "# round to 2 decimal places for display purposes\n",
    "H[:,term_index].round(2)"
   ]
  },
  {
   "cell_type": "markdown",
   "metadata": {
    "_uuid": "e8bcb37850ffc750d4cd7c1b8ae6e8696fc9c3de"
   },
   "source": [
    "### Sorting the indexes we got using the model to plot and see the top terms."
   ]
  },
  {
   "cell_type": "code",
   "execution_count": 51,
   "metadata": {
    "_uuid": "db82312365e6b35a16107119e8c0a6bbe7d6cc91"
   },
   "outputs": [],
   "source": [
    "import numpy as np\n",
    "def get_descriptor( terms, H, topic_index, top ):\n",
    "    # reverse sort the values to sort the indices\n",
    "    top_indices = np.argsort( H[topic_index,:] )[::-1]\n",
    "    # now get the terms corresponding to the top-ranked indices\n",
    "    top_terms = []\n",
    "    for term_index in top_indices[0:top]:\n",
    "        top_terms.append( terms[term_index] )\n",
    "    return top_terms"
   ]
  },
  {
   "cell_type": "code",
   "execution_count": 52,
   "metadata": {
    "_uuid": "5d33c95607a86c45407165ce03da4fc6bb09bf99"
   },
   "outputs": [
    {
     "name": "stdout",
     "output_type": "stream",
     "text": [
      "Topic 01: new, report, tv, high, game, trailer, home, season, android, gm\n",
      "Topic 02: google, android, day, app, tv, facebook, time, deal, help, health\n",
      "Topic 03: says, report, million, climate, people, day, fda, update, mers, life\n",
      "Topic 04: ebola, outbreak, west, virus, health, cases, death, help, kim, kardashian\n",
      "Topic 05: apple, iphone, billion, update, samsung, data, sales, amazon, tv, world\n",
      "Topic 06: 2014, million, sales, gm, world, day, release, life, hospital, year\n",
      "Topic 07: microsoft, office, china, report, data, gm, death, week, tech, global\n",
      "Topic 08: samsung, galaxy, s5, price, android, report, review, day, watch, update\n",
      "Topic 09: study, finds, cancer, heart, health, risk, death, disease, shows, facebook\n",
      "Topic 10: video, watch, facebook, game, twitter, bieber, season, movie, review, year\n"
     ]
    }
   ],
   "source": [
    "descriptors = []\n",
    "for topic_index in range(k):\n",
    "    descriptors.append( get_descriptor( terms, H, topic_index, 10 ) )\n",
    "    str_descriptor = \", \".join( descriptors[topic_index] )\n",
    "    print(\"Topic %02d: %s\" % ( topic_index+1, str_descriptor ) )"
   ]
  },
  {
   "cell_type": "code",
   "execution_count": 53,
   "metadata": {
    "_uuid": "4a173e52d7e45c8e3ee3936dec53f8e8cb14cbbc"
   },
   "outputs": [],
   "source": [
    "%matplotlib inline\n",
    "import numpy as np\n",
    "import matplotlib\n",
    "import matplotlib.pyplot as plt\n",
    "plt.style.use(\"ggplot\")\n",
    "matplotlib.rcParams.update({\"font.size\": 14})"
   ]
  },
  {
   "cell_type": "code",
   "execution_count": 54,
   "metadata": {
    "_uuid": "234acc26e2092dfd344daa25a8089603caab5268"
   },
   "outputs": [],
   "source": [
    "def plot_top_term_weights( terms, H, topic_index, top ):\n",
    "    # get the top terms and their weights\n",
    "    top_indices = np.argsort( H[topic_index,:] )[::-1]\n",
    "    top_terms = []\n",
    "    top_weights = []\n",
    "    for term_index in top_indices[0:top]:\n",
    "        top_terms.append( terms[term_index] )\n",
    "        top_weights.append( H[topic_index,term_index] )\n",
    "    # note we reverse the ordering for the plot\n",
    "    top_terms.reverse()\n",
    "    top_weights.reverse()\n",
    "    # create the plot\n",
    "    fig = plt.figure(figsize=(13,8))\n",
    "    # add the horizontal bar chart\n",
    "    ypos = np.arange(top)\n",
    "    ax = plt.barh(ypos, top_weights, align=\"center\", color=\"green\",tick_label=top_terms)\n",
    "    plt.xlabel(\"Term Weight\",fontsize=14)\n",
    "    plt.tight_layout()\n",
    "    plt.show()"
   ]
  },
  {
   "cell_type": "markdown",
   "metadata": {
    "_uuid": "bfbf7523ab04734989017fb95afb22ccc3726b2d"
   },
   "source": [
    "### The top 15 terms in the 2nd topic"
   ]
  },
  {
   "cell_type": "code",
   "execution_count": 55,
   "metadata": {
    "_uuid": "a6627d611b6e9a380faa4bb5fb5a4b537d359c42"
   },
   "outputs": [
    {
     "data": {
      "image/png": "[encoded data removed]",
      "text/plain": [
       "<Figure size 936x576 with 1 Axes>"
      ]
     },
     "metadata": {},
     "output_type": "display_data"
    }
   ],
   "source": [
    "plot_top_term_weights( terms, H, 1, 15 )"
   ]
  },
  {
   "cell_type": "markdown",
   "metadata": {
    "_uuid": "7a499cd0d9a6171aa9669eeb04a094a372b5b58c"
   },
   "source": [
    "### Create the Topic Models\n",
    "### A common approach for parameter selection is to Measure and compare the topic coherence of models generated for different values of k.\n",
    "### We need to start by pre-specifying an initial range of \"sensible\" values"
   ]
  },
  {
   "cell_type": "code",
   "execution_count": 56,
   "metadata": {
    "_uuid": "84287360584ee073cd260a393dc807877c5de09f"
   },
   "outputs": [],
   "source": [
    "def get_top_snippets( all_snippets, W, topic_index, top ):\n",
    "    # reverse sort the values to sort the indices\n",
    "    top_indices = np.argsort( W[:,topic_index] )[::-1]\n",
    "    # now get the snippets corresponding to the top-ranked indices\n",
    "    top_snippets = []\n",
    "    for doc_index in top_indices[0:top]:\n",
    "        top_snippets.append( all_snippets[doc_index] )\n",
    "    return top_snippets"
   ]
  },
  {
   "cell_type": "code",
   "execution_count": 57,
   "metadata": {
    "_uuid": "896737d613b9aa96f91141ffe4bfaa90af0e4bac"
   },
   "outputs": [],
   "source": [
    "kmin, kmax = 2, 8"
   ]
  },
  {
   "cell_type": "markdown",
   "metadata": {
    "_uuid": "b837b6dfb7b0c9f43cbe84e5d479f82f8e62e6f5"
   },
   "source": [
    "### Apply NMF for each of these values:"
   ]
  },
  {
   "cell_type": "code",
   "execution_count": 58,
   "metadata": {
    "_uuid": "81d759ee7381f87dc2c069d717e79bae56b7be44"
   },
   "outputs": [
    {
     "name": "stdout",
     "output_type": "stream",
     "text": [
      "Applying NMF for k=2 ...\n",
      "Applying NMF for k=3 ...\n",
      "Applying NMF for k=4 ...\n",
      "Applying NMF for k=5 ...\n",
      "Applying NMF for k=6 ...\n",
      "Applying NMF for k=7 ...\n",
      "Applying NMF for k=8 ...\n"
     ]
    }
   ],
   "source": [
    "from sklearn import decomposition\n",
    "topic_models = []\n",
    "# try each value of k\n",
    "for k in range(kmin,kmax+1):\n",
    "    print(\"Applying NMF for k=%d ...\" % k )\n",
    "    # run NMF\n",
    "    model = decomposition.NMF( init=\"nndsvd\", n_components=k ) \n",
    "    W = model.fit_transform( A )\n",
    "    H = model.components_    \n",
    "    # store for later\n",
    "    topic_models.append( (k,W,H) )"
   ]
  },
  {
   "cell_type": "markdown",
   "metadata": {
    "_uuid": "6bc35009371e96edd5c911c91a4b22552dd08b2e"
   },
   "source": [
    "### we need to define a class that will generate documents in a form that can be consumed by Gensim's Word2Vec implementation"
   ]
  },
  {
   "cell_type": "code",
   "execution_count": 59,
   "metadata": {
    "_uuid": "bfcd678adf90df31915140441c9cd61d41a0fe66"
   },
   "outputs": [],
   "source": [
    "import re\n",
    "class TokenGenerator:\n",
    "    def __init__( self, documents, stopwords ):\n",
    "        self.documents = documents\n",
    "        self.stopwords = stopwords\n",
    "        self.tokenizer = re.compile( r\"(?u)\\b\\w\\w+\\b\" )\n",
    "\n",
    "    def __iter__( self ):\n",
    "        print(\"Building Word2Vec model ...\")\n",
    "        for doc in self.documents:\n",
    "            tokens = []\n",
    "            for tok in self.tokenizer.findall( doc ):\n",
    "                if tok in self.stopwords:\n",
    "                    tokens.append( \"<stopword>\" )\n",
    "                elif len(tok) >= 2:\n",
    "                    tokens.append( tok )\n",
    "            yield tokens"
   ]
  },
  {
   "cell_type": "markdown",
   "metadata": {
    "_uuid": "47431c4228b2d5c3cf23950db655de904fdfaa7f"
   },
   "source": [
    "### Now build a Skipgram Word2Vec model from all documents in the input file using Gensim"
   ]
  },
  {
   "cell_type": "code",
   "execution_count": 60,
   "metadata": {
    "_uuid": "44d31abf4d24938f940fbe4cf76051983c43b7ae"
   },
   "outputs": [
    {
     "name": "stdout",
     "output_type": "stream",
     "text": [
      "Building Word2Vec model ...\n",
      "Building Word2Vec model ...\n",
      "Building Word2Vec model ...\n",
      "Building Word2Vec model ...\n",
      "Building Word2Vec model ...\n",
      "Building Word2Vec model ...\n"
     ]
    }
   ],
   "source": [
    "import gensim\n",
    "docgen = TokenGenerator(raw_documents, stop_words )\n",
    "w2v_model = gensim.models.Word2Vec(docgen, size=500, min_count=20, sg=1)"
   ]
  },
  {
   "cell_type": "markdown",
   "metadata": {
    "_uuid": "c2db1778c597725eee4e0906b6071e35a04f11af"
   },
   "source": [
    "### Selecting the Number of Topics\n",
    "\n",
    "### Once we have our Word2vec model, we can use it as part of our topic coherence approach to evaluate the different NMF topic models that we created previously. To do this, we will implement a simple version of the TC-W2V coherence measure.\n",
    "\n",
    "### We use the Word2vec model to calculate coherence scores for each of these models. We will define this coherence score as follows, "
   ]
  },
  {
   "cell_type": "code",
   "execution_count": 61,
   "metadata": {
    "_uuid": "18a268e8c38b564b8954f4f6383db46939358151"
   },
   "outputs": [],
   "source": [
    "def calculate_coherence( w2v_model, term_rankings ):\n",
    "    overall_coherence = 0.0\n",
    "    for topic_index in range(len(term_rankings)):\n",
    "        # check each pair of terms\n",
    "        pair_scores = []\n",
    "        for pair in combinations( term_rankings[topic_index], 2 ):\n",
    "            pair_scores.append( w2v_model.similarity(pair[0], pair[1]))\n",
    "        # get the mean for all pairs in this topic\n",
    "        topic_score = sum(pair_scores) / len(pair_scores)\n",
    "        overall_coherence += topic_score\n",
    "    # get the mean score across all topics\n",
    "    return overall_coherence / len(term_rankings)"
   ]
  },
  {
   "cell_type": "markdown",
   "metadata": {
    "_uuid": "41fc0aefc69ddccf53df930c8d81d8612f5507e6"
   },
   "source": [
    "### We also define a function to get the topic descriptor (i.e. list of top terms) for each topic"
   ]
  },
  {
   "cell_type": "code",
   "execution_count": 62,
   "metadata": {
    "_uuid": "be51953c92c316a41329af785eebc23608975279"
   },
   "outputs": [],
   "source": [
    "import numpy as np\n",
    "def get_descriptor( all_terms, H, topic_index, top ):\n",
    "    # reverse sort the values to sort the indices\n",
    "    top_indices = np.argsort( H[topic_index,:] )[::-1]\n",
    "    # now get the terms corresponding to the top-ranked indices\n",
    "    top_terms = []\n",
    "    for term_index in top_indices[0:top]:\n",
    "        top_terms.append( all_terms[term_index] )\n",
    "    return top_terms"
   ]
  },
  {
   "cell_type": "markdown",
   "metadata": {
    "_uuid": "630841c0a0cbb18fe8437c971143c8453952a912"
   },
   "source": [
    "### process each of the models for different values of k"
   ]
  },
  {
   "cell_type": "code",
   "execution_count": 63,
   "metadata": {
    "_uuid": "628f201d3e616be5fd226c43e2b9a4be1010f60c"
   },
   "outputs": [
    {
     "name": "stdout",
     "output_type": "stream",
     "text": [
      "K=02: Coherence=0.9998\n",
      "K=03: Coherence=0.9997\n",
      "K=04: Coherence=0.9997\n",
      "K=05: Coherence=0.9997\n",
      "K=06: Coherence=0.9997\n",
      "K=07: Coherence=0.9997\n",
      "K=08: Coherence=0.9997\n"
     ]
    },
    {
     "name": "stderr",
     "output_type": "stream",
     "text": [
      "/opt/conda/lib/python3.6/site-packages/gensim/matutils.py:737: FutureWarning: Conversion of the second argument of issubdtype from `int` to `np.signedinteger` is deprecated. In future, it will be treated as `np.int64 == np.dtype(int).type`.\n",
      "  if np.issubdtype(vec.dtype, np.int):\n"
     ]
    }
   ],
   "source": [
    "from itertools import combinations\n",
    "k_values = []\n",
    "coherences = []\n",
    "for (k,W,H) in topic_models:\n",
    "    # Get all of the topic descriptors - the term_rankings, based on top 10 terms\n",
    "    term_rankings = []\n",
    "    for topic_index in range(k):\n",
    "        term_rankings.append( get_descriptor( terms, H, topic_index, 10 ) )\n",
    "    # Now calculate the coherence based on our Word2vec model\n",
    "    k_values.append( k )\n",
    "    coherences.append( calculate_coherence( w2v_model, term_rankings ) )\n",
    "    print(\"K=%02d: Coherence=%.4f\" % ( k, coherences[-1] ) )"
   ]
  },
  {
   "cell_type": "markdown",
   "metadata": {
    "_uuid": "3bea7422701397f13baa9c3c7814faa01f957fe7"
   },
   "source": [
    "### Surprisingly, for this text document, the coherence is all the same for k = 2 to k = 8. Lets plot that & see and note this value and we'll compare it with other techniques."
   ]
  },
  {
   "cell_type": "code",
   "execution_count": 64,
   "metadata": {
    "_uuid": "49f43d87c1dbe26920b242f9e27555247b9f37ac"
   },
   "outputs": [],
   "source": [
    "%matplotlib inline\n",
    "import matplotlib\n",
    "import matplotlib.pyplot as plt\n",
    "plt.style.use(\"ggplot\")\n",
    "matplotlib.rcParams.update({\"font.size\": 14})"
   ]
  },
  {
   "cell_type": "code",
   "execution_count": 65,
   "metadata": {
    "_uuid": "06d84c489ca7caa10f6620ece8327649e438053b"
   },
   "outputs": [
    {
     "data": {
      "image/png": "[encoded data removed]",
      "text/plain": [
       "<Figure size 936x504 with 1 Axes>"
      ]
     },
     "metadata": {},
     "output_type": "display_data"
    }
   ],
   "source": [
    "fig = plt.figure(figsize=(13,7))\n",
    "# create the line plot\n",
    "ax = plt.plot( k_values, coherences )\n",
    "plt.xticks(k_values)\n",
    "plt.xlabel(\"Number of Topics\")\n",
    "plt.ylabel(\"Mean Coherence\")\n",
    "# add the points\n",
    "plt.scatter( k_values, coherences, s=120)\n",
    "# find and annotate the maximum point on the plot\n",
    "ymax = max(coherences)\n",
    "xpos = coherences.index(ymax)\n",
    "best_k = k_values[xpos]\n",
    "plt.annotate( \"k=%d\" % best_k, xy=(best_k, ymax), xytext=(best_k, ymax), textcoords=\"offset points\", fontsize=16)\n",
    "# show the plot\n",
    "plt.show()"
   ]
  },
  {
   "cell_type": "code",
   "execution_count": 66,
   "metadata": {
    "_uuid": "95d8f353c6aa526a9c933b4764c5022a291d99e9"
   },
   "outputs": [],
   "source": [
    "k = best_k\n",
    "# get the model that we generated earlier.\n",
    "W = topic_models[k-kmin][1]\n",
    "H = topic_models[k-kmin][2]"
   ]
  },
  {
   "cell_type": "code",
   "execution_count": 67,
   "metadata": {
    "_uuid": "e03c693f47eb32518a53af7af39256dc8018549f"
   },
   "outputs": [
    {
     "name": "stdout",
     "output_type": "stream",
     "text": [
      "Topic 01: new, study, video, report, game, watch, tv, high, ebola, trailer\n",
      "Topic 02: google, apple, samsung, says, microsoft, 2014, android, iphone, galaxy, day\n"
     ]
    }
   ],
   "source": [
    "for topic_index in range(k):\n",
    "    descriptor = get_descriptor( terms, H, topic_index, 10 )\n",
    "    str_descriptor = \", \".join( descriptor )\n",
    "    print(\"Topic %02d: %s\" % ( topic_index+1, str_descriptor ) )"
   ]
  },
  {
   "cell_type": "markdown",
   "metadata": {
    "_uuid": "01f0baad35aa3fbf502cf50248678b13d45a3aa7"
   },
   "source": [
    "### The words under each topic can be seen above and as per the best K value chosen by NMF. We also saw the coherence value of the NMF model. We will compare those results with LDA, LSI and HDP."
   ]
  },
  {
   "cell_type": "markdown",
   "metadata": {
    "_uuid": "3d53f7db69e1f89717dfafb634588e7fcc8eda7d"
   },
   "source": [
    "# Comparing the techniques"
   ]
  },
  {
   "cell_type": "code",
   "execution_count": 68,
   "metadata": {
    "_uuid": "84d19f4b8cf144395527fbf74a711c7809f0e475"
   },
   "outputs": [],
   "source": [
    "lsimodel = LsiModel(corpus=corpus, num_topics=5, id2word=id2word)\n",
    "lsitopics = lsimodel.show_topics(formatted=False)"
   ]
  },
  {
   "cell_type": "code",
   "execution_count": 69,
   "metadata": {
    "_uuid": "6732df3b6ffb1f980761d2fbb00a4dc108f76812"
   },
   "outputs": [],
   "source": [
    "ldatopics = lda_model.show_topics(formatted=False)"
   ]
  },
  {
   "cell_type": "code",
   "execution_count": 70,
   "metadata": {
    "_uuid": "7ae8fdadfd68d558faee41d8046fe364ba7b76c2"
   },
   "outputs": [],
   "source": [
    "lsitopics = [[word for word, prob in topic] for topicid, topic in lsitopics]\n",
    "\n",
    "hdptopics = [[word for word, prob in topic] for topicid, topic in hdptopics]\n",
    "\n",
    "ldatopics = [[word for word, prob in topic] for topicid, topic in ldatopics]"
   ]
  },
  {
   "cell_type": "code",
   "execution_count": 71,
   "metadata": {
    "_uuid": "96e919b7d0d511583a8302640712bc6f6903166b"
   },
   "outputs": [],
   "source": [
    "lsi_coherence = CoherenceModel(topics=lsitopics[:10], texts=data_lemmatized, dictionary=id2word, window_size=10).get_coherence()\n",
    "\n",
    "hdp_coherence = CoherenceModel(topics=hdptopics[:10], texts=data_lemmatized, dictionary=id2word, window_size=10).get_coherence()\n",
    "\n",
    "lda_coherence = CoherenceModel(topics=ldatopics, texts=data_lemmatized, dictionary=id2word, window_size=10).get_coherence()"
   ]
  },
  {
   "cell_type": "code",
   "execution_count": 72,
   "metadata": {
    "_uuid": "7eb1caaecfdca890e3ff0d4ea14e062679aeaaf8"
   },
   "outputs": [],
   "source": [
    "def evaluate_bar_graph(coherences, indices):\n",
    "    assert len(coherences) == len(indices)\n",
    "    n = len(coherences)\n",
    "    x = np.arange(n)\n",
    "    plt.figure(figsize=(12,12))\n",
    "    plt.bar(x, coherences, width=0.2, tick_label=indices, align='center')\n",
    "    plt.xlabel('Models')\n",
    "    plt.ylabel('Coherence Value')"
   ]
  },
  {
   "cell_type": "code",
   "execution_count": 73,
   "metadata": {
    "_uuid": "dd2d1f9330edb5e121b5cfc9a0a853fde3e412b9"
   },
   "outputs": [
    {
     "data": {
      "image/png": "[encoded data removed]",
      "text/plain": [
       "<Figure size 864x864 with 1 Axes>"
      ]
     },
     "metadata": {},
     "output_type": "display_data"
    }
   ],
   "source": [
    "evaluate_bar_graph([lsi_coherence, hdp_coherence, lda_coherence],\n",
    "                   ['LSI', 'HDP', 'LDA'])"
   ]
  },
  {
   "cell_type": "markdown",
   "metadata": {
    "_uuid": "dbfbfb815ac6774f2ded8c2d5d226c071a5abd88"
   },
   "source": [
    "### The NMF model has the highest coherence score(not in the plot above -- NMF = .9)."
   ]
  },
  {
   "cell_type": "markdown",
   "metadata": {
    "_uuid": "0953d6a4f97f63401c144a741783bec1eecaf538"
   },
   "source": [
    "## Conclusion\n",
    "\n",
    "### The idea of this notebook was to implement the widely used topic modeling techniques and compare. Although NMF gave the highest coherence score, LDA is the most used technique and considered to be consistent as it is likely to provide more \"coherent\" topics. NMF performs better where the topic probabilities should remain fixed per document. HDP on the other hand is less preferred since the number of topics is not determined in prior and hence used rarely. \n",
    "\n",
    "### Of course, it depends on the dataset but to check for your own set of documents, fork the notebook and play around. Share your thoughts & upvote if you found the kernel useful."
   ]
  },
  {
   "cell_type": "markdown",
   "metadata": {
    "_uuid": "6eaefe3bfa0c29cbc04f416a972026ac590b85dc"
   },
   "source": []
  },
  {
   "cell_type": "markdown",
   "metadata": {
    "_uuid": "80e6d2bc09f9db5a0a39a795e37970147ebe10e9"
   },
   "source": []
  }
 ],
 "metadata": {
  "kernelspec": {
   "display_name": "Python 3",
   "language": "python",
   "name": "python3"
  },
  "language_info": {
   "codemirror_mode": {
    "name": "ipython",
    "version": 3
   },
   "file_extension": ".py",
   "mimetype": "text/x-python",
   "name": "python",
   "nbconvert_exporter": "python",
   "pygments_lexer": "ipython3",
   "version": "3.8.5"
  }
 },
 "nbformat": 4,
 "nbformat_minor": 1
}

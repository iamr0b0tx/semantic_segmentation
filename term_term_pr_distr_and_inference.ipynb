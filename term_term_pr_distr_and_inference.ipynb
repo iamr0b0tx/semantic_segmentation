{
 "cells": [
  {
   "cell_type": "markdown",
   "metadata": {
    "id": "1mW_XQex0lqn"
   },
   "source": [
    "#### autoreload modules and utilities"
   ]
  },
  {
   "cell_type": "code",
   "execution_count": 1,
   "metadata": {
    "id": "pvzSMjy60lqr"
   },
   "outputs": [],
   "source": [
    "%load_ext autoreload\n",
    "%autoreload 2"
   ]
  },
  {
   "cell_type": "markdown",
   "metadata": {
    "id": "57UHx9Rl0lq5"
   },
   "source": [
    "#### import all neceesary libraries/packages"
   ]
  },
  {
   "cell_type": "code",
   "execution_count": 32,
   "metadata": {
    "id": "vxe4EvZB0lq7"
   },
   "outputs": [],
   "source": [
    "import numpy as np \n",
    "import pandas as pd\n",
    "\n",
    "from tqdm.notebook import tqdm\n",
    "import matplotlib.pyplot as plt \n",
    "\n",
    "from sklearn.pipeline import Pipeline \n",
    "from sklearn.pipeline import FeatureUnion\n",
    "from sklearn.datasets import fetch_20newsgroups\n",
    "from sklearn.naive_bayes import MultinomialNB, GaussianNB\n",
    "from sklearn.feature_extraction.text import CountVectorizer, TfidfVectorizer\n",
    "\n",
    "from sklearn.metrics import f1_score as calculate_f1_score\n",
    "from sklearn.model_selection import train_test_split, StratifiedKFold \n",
    "from sklearn.metrics import classification_report, accuracy_score, confusion_matrix"
   ]
  },
  {
   "cell_type": "markdown",
   "metadata": {
    "id": "OFluJVQs0lrF"
   },
   "source": [
    "#### Utility functions"
   ]
  },
  {
   "cell_type": "code",
   "execution_count": 3,
   "metadata": {
    "colab": {
     "base_uri": "https://localhost:8080/"
    },
    "id": "dB1v8YR30lrH",
    "outputId": "a464c3d0-f916-4752-9179-1a2bac9e2c4b"
   },
   "outputs": [
    {
     "name": "stderr",
     "output_type": "stream",
     "text": [
      "[nltk_data] Downloading package stopwords to\n",
      "[nltk_data]     C:\\Users\\christian\\AppData\\Roaming\\nltk_data...\n",
      "[nltk_data]   Package stopwords is already up-to-date!\n",
      "[nltk_data] Downloading package wordnet to\n",
      "[nltk_data]     C:\\Users\\christian\\AppData\\Roaming\\nltk_data...\n",
      "[nltk_data]   Package wordnet is already up-to-date!\n"
     ]
    }
   ],
   "source": [
    "## utilities\n",
    "# from utils import clean_text\n",
    "\n",
    "import string\n",
    "from sklearn.base import TransformerMixin\n",
    "\n",
    "import nltk\n",
    "from nltk import word_tokenize\n",
    "from nltk.stem import WordNetLemmatizer\n",
    "\n",
    "\n",
    "nltk.download('stopwords')\n",
    "nltk.download('wordnet')\n",
    "\n",
    "\n",
    "def clean_text(text: str, lemmatizer = lambda x: x) -> str:\n",
    "    # removes upper cases\n",
    "    text = text.lower().strip()\n",
    "    \n",
    "    # removes punctuation\n",
    "    for char in string.punctuation:\n",
    "        text = text.replace(char, \" \")\n",
    "    \n",
    "    #lematize the words and join back into string text\n",
    "    text = \" \".join([lemmatizer(word) for word in word_tokenize(text)])\n",
    "    return text\n",
    "\n",
    "\n",
    "def data_isvalid(text, analyser, min_character_size, max_character_size):\n",
    "    return min_character_size <= len(analyser(text)) <= max_character_size \n",
    "\n",
    "\n",
    "def get_pipeline(vectorizer_type, classifier, use_t2pi, min_df=3, stop_words=None, lemmatizer = lambda x: x):\n",
    "    vectorizer = CountVectorizer if vectorizer_type == \"count\" else TfidfVectorizer\n",
    "    models = [\n",
    "        ('clean_text', CleanTextTransformer(lemmatizer)),\n",
    "        \n",
    "        (\"vectorizers\", FeatureUnion([\n",
    "            ('count_binary', CountVectorizer(stop_words=stop_words, binary=True, min_df=min_df)),\n",
    "            (\"count\", vectorizer(stop_words=stop_words, min_df=min_df))\n",
    "        ])),\n",
    "    ]\n",
    "    \n",
    "    if use_t2pi:\n",
    "        models.append(('t2pi_transformer', T2PITransformer()))\n",
    "    \n",
    "    models.append(('classifier', classifier))\n",
    "    return Pipeline(models)\n",
    "\n",
    "def plot_bars(df, ylabel, ymin=0.77):\n",
    "    xlabels = [\"count_model\", \"count_sw_model\", \"tfidf_model\", \"tfidf_sw_model\"]\n",
    "    accuracy_means = df[[\"count_model\", \"count_sw_model\", \"tfidf_model\", \"tfidf_sw_model\"]].loc[\"mean\"]\n",
    "    t2pi_accuracy_means = df[[\"t2pi_count_model\", \"t2pi_count_sw_model\", \"t2pi_tfidf_model\", \"t2pi_tfidf_sw_model\"]].loc[\"mean\"]\n",
    "\n",
    "    xvalues = np.arange(len(xlabels))  # the label locations\n",
    "    width = 0.35  # the width of the bars\n",
    "\n",
    "    fig, ax = plt.subplots()\n",
    "    rects1 = ax.bar(xvalues - width/2, accuracy_means, width, label='Baseline')\n",
    "    rects2 = ax.bar(xvalues + width/2, t2pi_accuracy_means, width, label='T2PI')\n",
    "\n",
    "    # Add some text for labels, title and custom x-axis tick labels, etc.\n",
    "    ax.set_ylabel(ylabel.capitalize())\n",
    "    ax.set_title(f'{ylabel.capitalize()} of Baseline and T2PI')\n",
    "    ax.set_ylim(ymin=ymin)\n",
    "    ax.set_xticks(xvalues)\n",
    "    ax.set_xticklabels(xlabels)\n",
    "    ax.legend()\n",
    "    plt.show()\n",
    "\n",
    "class CleanTextTransformer(TransformerMixin):\n",
    "    def __init__(self, lemmatizer):\n",
    "        self._lemmatizer = lemmatizer\n",
    "        \n",
    "    def fit(self, X, y=None, **fit_params):\n",
    "        return self\n",
    "\n",
    "    def transform(self, X, y=None, **fit_params):\n",
    "        return np.vectorize(lambda x: clean_text(x, self._lemmatizer))(X)\n",
    "    \n",
    "    def __str__(self):\n",
    "        return \"CleanTextTransformer()\"\n",
    "    \n",
    "    def __repr__(self):\n",
    "        return self.__str__()\n",
    "    \n",
    "    \n",
    "class T2PITransformer(TransformerMixin):\n",
    "    @staticmethod\n",
    "    def _max_weight(x, pbar, word_word_pr):\n",
    "        pbar.update(1)\n",
    "        return (word_word_pr.T * x).max(0)\n",
    "        \n",
    "    def fit(self, X, y=None, **fit_params):\n",
    "        X = X[:, :int(X.shape[1]/2)].toarray()\n",
    "        \n",
    "        print(\"creating term-term co-occurence pr matrix\")\n",
    "        terms = np.arange(X.shape[1])\n",
    "        \n",
    "        X = pd.DataFrame(X, columns=terms)\n",
    "        self.word_word_pr_distr = pd.DataFrame(data=0.0, columns=terms, index=terms)\n",
    "        \n",
    "        for term in tqdm(terms):\n",
    "            self.word_word_pr_distr[term] = X[X[term] > 0].sum(0) / X.sum(0)\n",
    "            \n",
    "        return self\n",
    "\n",
    "    def transform(self, X, y=None, **fit_params):\n",
    "        X = X[:, int(X.shape[1]/2):].toarray()\n",
    "        X = pd.DataFrame(X, columns=self.word_word_pr_distr.columns)\n",
    "        \n",
    "        print(\"transforming ...\")\n",
    "        with tqdm(total=X.shape[0]) as pbar:\n",
    "            X = X.apply(self._max_weight, axis=1, args=(pbar, self.word_word_pr_distr))\n",
    "            \n",
    "        return X\n",
    "    \n",
    "    def __str__(self):\n",
    "        return \"T2PITransformer()\"\n",
    "    \n",
    "    def __repr__(self):\n",
    "        return self.__str__()"
   ]
  },
  {
   "cell_type": "markdown",
   "metadata": {
    "id": "o7XG67xP0lrR"
   },
   "source": [
    "# Load Data"
   ]
  },
  {
   "cell_type": "code",
   "execution_count": 4,
   "metadata": {
    "colab": {
     "base_uri": "https://localhost:8080/"
    },
    "id": "QchLUSP50lrU",
    "outputId": "df541392-05bf-4e19-c453-ee8785b4ff07"
   },
   "outputs": [],
   "source": [
    "# total number of samples needed\n",
    "randomize = False\n",
    "\n",
    "# retrieve dataset\n",
    "categories = ['rec.autos', 'talk.politics.mideast', 'alt.atheism', 'sci.space']\n",
    "\n",
    "all_docs = fetch_20newsgroups(subset='train', shuffle=randomize, remove=('headers', 'footers', 'quotes'), categories=categories)\n",
    "categories = all_docs.target_names"
   ]
  },
  {
   "cell_type": "code",
   "execution_count": 5,
   "metadata": {
    "colab": {
     "base_uri": "https://localhost:8080/"
    },
    "id": "3zYt2cf_0lre",
    "outputId": "34b88acf-7882-45f0-edab-80dd9dfefe0e"
   },
   "outputs": [
    {
     "name": "stdout",
     "output_type": "stream",
     "text": [
      "\n",
      "\n",
      "I think that domestication will change behavior to a large degree.\n",
      "Domesticated animals exhibit behaviors not found in the wild.  I\n",
      "don't think that they can be viewed as good representatives of the\n",
      "wild animal kingdom, since they have been bred for thousands of years\n",
      "to produce certain behaviors, etc.\n"
     ]
    }
   ],
   "source": [
    "print(all_docs.data[0])"
   ]
  },
  {
   "cell_type": "markdown",
   "metadata": {
    "id": "j8mr5IG60lrq"
   },
   "source": [
    "### Create Dataframe"
   ]
  },
  {
   "cell_type": "code",
   "execution_count": 6,
   "metadata": {
    "colab": {
     "base_uri": "https://localhost:8080/"
    },
    "id": "hf7uQyxi0lrr",
    "outputId": "d02f03ea-6d94-4e92-feba-1795bb8073f9"
   },
   "outputs": [
    {
     "data": {
      "text/html": [
       "<div>\n",
       "<style scoped>\n",
       "    .dataframe tbody tr th:only-of-type {\n",
       "        vertical-align: middle;\n",
       "    }\n",
       "\n",
       "    .dataframe tbody tr th {\n",
       "        vertical-align: top;\n",
       "    }\n",
       "\n",
       "    .dataframe thead th {\n",
       "        text-align: right;\n",
       "    }\n",
       "</style>\n",
       "<table border=\"1\" class=\"dataframe\">\n",
       "  <thead>\n",
       "    <tr style=\"text-align: right;\">\n",
       "      <th></th>\n",
       "      <th>text</th>\n",
       "      <th>label</th>\n",
       "    </tr>\n",
       "  </thead>\n",
       "  <tbody>\n",
       "    <tr>\n",
       "      <th>0</th>\n",
       "      <td>\\n\\nI think that domestication will change beh...</td>\n",
       "      <td>0</td>\n",
       "    </tr>\n",
       "    <tr>\n",
       "      <th>1</th>\n",
       "      <td>\\nI don't like this comment about \"Typical\" th...</td>\n",
       "      <td>3</td>\n",
       "    </tr>\n",
       "    <tr>\n",
       "      <th>2</th>\n",
       "      <td>\\n&lt;apparently you're not a woman - my husband ...</td>\n",
       "      <td>1</td>\n",
       "    </tr>\n",
       "    <tr>\n",
       "      <th>3</th>\n",
       "      <td>While not exactly a service incident, I had a ...</td>\n",
       "      <td>1</td>\n",
       "    </tr>\n",
       "    <tr>\n",
       "      <th>4</th>\n",
       "      <td>\\n\\nI think I can. Largely as a result of effo...</td>\n",
       "      <td>2</td>\n",
       "    </tr>\n",
       "  </tbody>\n",
       "</table>\n",
       "</div>"
      ],
      "text/plain": [
       "                                                text  label\n",
       "0  \\n\\nI think that domestication will change beh...      0\n",
       "1  \\nI don't like this comment about \"Typical\" th...      3\n",
       "2  \\n<apparently you're not a woman - my husband ...      1\n",
       "3  While not exactly a service incident, I had a ...      1\n",
       "4  \\n\\nI think I can. Largely as a result of effo...      2"
      ]
     },
     "execution_count": 6,
     "metadata": {},
     "output_type": "execute_result"
    }
   ],
   "source": [
    "data = pd.DataFrame(\n",
    "    data={\n",
    "        \"text\":all_docs.data, \n",
    "        \"label\":all_docs.target\n",
    "    }\n",
    ")\n",
    "\n",
    "data.head()"
   ]
  },
  {
   "cell_type": "markdown",
   "metadata": {
    "id": "1y9aLPrC0lr4"
   },
   "source": [
    "### Label Frequency"
   ]
  },
  {
   "cell_type": "code",
   "execution_count": 7,
   "metadata": {
    "colab": {
     "base_uri": "https://localhost:8080/"
    },
    "id": "lsJjsIi20lr6",
    "outputId": "aa9e2961-78a4-4c23-b1af-6314bddbb1dc"
   },
   "outputs": [
    {
     "name": "stdout",
     "output_type": "stream",
     "text": [
      "1    594\n",
      "2    593\n",
      "3    564\n",
      "0    480\n",
      "Name: label, dtype: int64\n",
      "\n"
     ]
    },
    {
     "data": {
      "image/png": "[encoded data removed]",
      "text/plain": [
       "<Figure size 432x288 with 1 Axes>"
      ]
     },
     "metadata": {
      "needs_background": "light"
     },
     "output_type": "display_data"
    }
   ],
   "source": [
    "print(data[\"label\"].value_counts())\n",
    "print()\n",
    "\n",
    "barlist = plt.bar(categories, data[\"label\"].value_counts())\n",
    "\n",
    "plt.title(\"Frequency of documents\")\n",
    "plt.xticks(categories, list(map(lambda x: x.split(\".\")[1], categories)))\n",
    "plt.ylabel('Number of documents')\n",
    "plt.xlabel('Sentiment expressed in Reviews')\n",
    "\n",
    "barlist[0].set_color('red')\n",
    "barlist[1].set_color('green')\n",
    "barlist[2].set_color('blue')\n",
    "barlist[3].set_color('grey')\n",
    "plt.show()"
   ]
  },
  {
   "cell_type": "markdown",
   "metadata": {
    "id": "Z3rWhz2Q0lsD"
   },
   "source": [
    "The Dataset labels needs to be balanced"
   ]
  },
  {
   "cell_type": "markdown",
   "metadata": {},
   "source": [
    "### Parameters"
   ]
  },
  {
   "cell_type": "code",
   "execution_count": 15,
   "metadata": {},
   "outputs": [],
   "source": [
    "min_df = 3\n",
    "stop_words = \"english\"\n",
    "\n",
    "def get_classifier():\n",
    "#     return GaussianNB()\n",
    "    return MultinomialNB()\n",
    "\n",
    "def get_lemmatizer():\n",
    "#     return lambda x: x\n",
    "    return WordNetLemmatizer().lemmatize"
   ]
  },
  {
   "cell_type": "markdown",
   "metadata": {
    "id": "zgT_qPvT0lsF"
   },
   "source": [
    "# Select Valid Data"
   ]
  },
  {
   "cell_type": "code",
   "execution_count": 16,
   "metadata": {
    "colab": {
     "base_uri": "https://localhost:8080/"
    },
    "id": "GxoJgJTq0lsH",
    "outputId": "90b722d1-18e1-443a-dd02-ea8dde6f8743",
    "scrolled": false
   },
   "outputs": [
    {
     "data": {
      "text/html": [
       "<div>\n",
       "<style scoped>\n",
       "    .dataframe tbody tr th:only-of-type {\n",
       "        vertical-align: middle;\n",
       "    }\n",
       "\n",
       "    .dataframe tbody tr th {\n",
       "        vertical-align: top;\n",
       "    }\n",
       "\n",
       "    .dataframe thead th {\n",
       "        text-align: right;\n",
       "    }\n",
       "</style>\n",
       "<table border=\"1\" class=\"dataframe\">\n",
       "  <thead>\n",
       "    <tr style=\"text-align: right;\">\n",
       "      <th></th>\n",
       "      <th>text</th>\n",
       "      <th>label</th>\n",
       "    </tr>\n",
       "  </thead>\n",
       "  <tbody>\n",
       "    <tr>\n",
       "      <th>0</th>\n",
       "      <td>\\n\\nI think that domestication will change beh...</td>\n",
       "      <td>0</td>\n",
       "    </tr>\n",
       "    <tr>\n",
       "      <th>19</th>\n",
       "      <td>\\n\\n\\tI agree, we spend too much energy on the...</td>\n",
       "      <td>0</td>\n",
       "    </tr>\n",
       "    <tr>\n",
       "      <th>30</th>\n",
       "      <td>\\n[rest deleted...]\\n\\nYou were a liberal arts...</td>\n",
       "      <td>0</td>\n",
       "    </tr>\n",
       "    <tr>\n",
       "      <th>36</th>\n",
       "      <td>\\nWorse?  Maybe not, but it is definately a vi...</td>\n",
       "      <td>0</td>\n",
       "    </tr>\n",
       "    <tr>\n",
       "      <th>50</th>\n",
       "      <td>\\n\\n Could you explain what any of the above p...</td>\n",
       "      <td>0</td>\n",
       "    </tr>\n",
       "  </tbody>\n",
       "</table>\n",
       "</div>"
      ],
      "text/plain": [
       "                                                 text  label\n",
       "0   \\n\\nI think that domestication will change beh...      0\n",
       "19  \\n\\n\\tI agree, we spend too much energy on the...      0\n",
       "30  \\n[rest deleted...]\\n\\nYou were a liberal arts...      0\n",
       "36  \\nWorse?  Maybe not, but it is definately a vi...      0\n",
       "50  \\n\\n Could you explain what any of the above p...      0"
      ]
     },
     "execution_count": 16,
     "metadata": {},
     "output_type": "execute_result"
    }
   ],
   "source": [
    "max_size_per_class = 150\n",
    "\n",
    "# remove long text\n",
    "indices = data[\"text\"].apply(data_isvalid, args=(lambda x: clean_text(x, get_lemmatizer()), 128, 512))\n",
    "data = data[indices]\n",
    "\n",
    "# make classes balanced\n",
    "class_indices = []\n",
    "\n",
    "for index in range(4):\n",
    "    class_indices.append(np.where((data[\"label\"] == index))[0])\n",
    "    \n",
    "size_per_class = min(max_size_per_class, min(map(len, class_indices)))\n",
    "indices = np.concatenate([class_ids[:size_per_class] for class_ids in class_indices])\n",
    "\n",
    "data = data.iloc[indices]\n",
    "\n",
    "data.head()"
   ]
  },
  {
   "cell_type": "code",
   "execution_count": 17,
   "metadata": {
    "colab": {
     "base_uri": "https://localhost:8080/"
    },
    "id": "EmPNliV60lsQ",
    "outputId": "66df7f82-bc81-474a-ce90-14be5257dcfe"
   },
   "outputs": [
    {
     "name": "stdout",
     "output_type": "stream",
     "text": [
      "\n",
      "\n",
      "I think that domestication will change behavior to a large degree.\n",
      "Domesticated animals exhibit behaviors not found in the wild.  I\n",
      "don't think that they can be viewed as good representatives of the\n",
      "wild animal kingdom, since they have been bred for thousands of years\n",
      "to produce certain behaviors, etc.\n"
     ]
    }
   ],
   "source": [
    "print(data.iloc[0][\"text\"])"
   ]
  },
  {
   "cell_type": "code",
   "execution_count": 18,
   "metadata": {
    "colab": {
     "base_uri": "https://localhost:8080/"
    },
    "id": "a05palir0lsZ",
    "outputId": "ab28dce8-66ee-4307-fc1b-7032668016ca"
   },
   "outputs": [
    {
     "name": "stdout",
     "output_type": "stream",
     "text": [
      "3    150\n",
      "2    150\n",
      "1    150\n",
      "0    150\n",
      "Name: label, dtype: int64\n",
      "\n"
     ]
    },
    {
     "data": {
      "image/png": "[encoded data removed]",
      "text/plain": [
       "<Figure size 432x288 with 1 Axes>"
      ]
     },
     "metadata": {
      "needs_background": "light"
     },
     "output_type": "display_data"
    }
   ],
   "source": [
    "print(data[\"label\"].value_counts())\n",
    "print()\n",
    "\n",
    "barlist = plt.bar(categories, data[\"label\"].value_counts())\n",
    "\n",
    "plt.title(\"Frequency of documents\")\n",
    "plt.xticks(categories, list(map(lambda x: x.split(\".\")[1], categories)))\n",
    "plt.ylabel('Number of documents')\n",
    "plt.xlabel('Sentiment expressed in Reviews')\n",
    "\n",
    "barlist[0].set_color('red')\n",
    "barlist[1].set_color('green')\n",
    "barlist[2].set_color('blue')\n",
    "barlist[3].set_color('grey')\n",
    "plt.show()"
   ]
  },
  {
   "cell_type": "markdown",
   "metadata": {
    "id": "4XkH4IGt0lsk"
   },
   "source": [
    "### initialize input and output"
   ]
  },
  {
   "cell_type": "code",
   "execution_count": 39,
   "metadata": {
    "id": "dEMn9hD40lsl"
   },
   "outputs": [],
   "source": [
    "X = data[\"text\"]\n",
    "y = data['label']\n",
    "\n",
    "X_train, X_test, y_train, y_test = train_test_split(X, y, test_size=0.25, random_state=42)"
   ]
  },
  {
   "cell_type": "markdown",
   "metadata": {
    "id": "NM1HNxZN0lsu"
   },
   "source": [
    "### initialize recursive word infer model"
   ]
  },
  {
   "cell_type": "code",
   "execution_count": 40,
   "metadata": {
    "scrolled": false
   },
   "outputs": [
    {
     "data": {
      "text/plain": [
       "Pipeline(steps=[('clean_text', CleanTextTransformer()),\n",
       "                ('vectorizers',\n",
       "                 FeatureUnion(transformer_list=[('count_binary',\n",
       "                                                 CountVectorizer(binary=True,\n",
       "                                                                 min_df=3)),\n",
       "                                                ('count',\n",
       "                                                 CountVectorizer(min_df=3))])),\n",
       "                ('t2pi_transformer', T2PITransformer()),\n",
       "                ('classifier', MultinomialNB())])"
      ]
     },
     "execution_count": 40,
     "metadata": {},
     "output_type": "execute_result"
    }
   ],
   "source": [
    "# initialize model\n",
    "t2pi_model = get_pipeline(\"count\", get_classifier(), use_t2pi=True, min_df=min_df, stop_words=None, lemmatizer = get_lemmatizer())\n",
    "t2pi_model"
   ]
  },
  {
   "cell_type": "code",
   "execution_count": 41,
   "metadata": {},
   "outputs": [
    {
     "name": "stdout",
     "output_type": "stream",
     "text": [
      "creating term-term co-occurence pr matrix\n"
     ]
    },
    {
     "data": {
      "application/vnd.jupyter.widget-view+json": {
       "model_id": "1a729f3ab7044f15a1db4b56f2a44506",
       "version_major": 2,
       "version_minor": 0
      },
      "text/plain": [
       "HBox(children=(HTML(value=''), FloatProgress(value=0.0, max=1136.0), HTML(value='')))"
      ]
     },
     "metadata": {},
     "output_type": "display_data"
    },
    {
     "name": "stdout",
     "output_type": "stream",
     "text": [
      "\n",
      "transforming ...\n"
     ]
    },
    {
     "data": {
      "application/vnd.jupyter.widget-view+json": {
       "model_id": "fe316660f1d745f8a1c4bbab3165b2e4",
       "version_major": 2,
       "version_minor": 0
      },
      "text/plain": [
       "HBox(children=(HTML(value=''), FloatProgress(value=0.0, max=450.0), HTML(value='')))"
      ]
     },
     "metadata": {},
     "output_type": "display_data"
    },
    {
     "name": "stdout",
     "output_type": "stream",
     "text": [
      "\n"
     ]
    },
    {
     "data": {
      "text/plain": [
       "Pipeline(steps=[('clean_text', CleanTextTransformer()),\n",
       "                ('vectorizers',\n",
       "                 FeatureUnion(transformer_list=[('count_binary',\n",
       "                                                 CountVectorizer(binary=True,\n",
       "                                                                 min_df=3)),\n",
       "                                                ('count',\n",
       "                                                 CountVectorizer(min_df=3))])),\n",
       "                ('t2pi_transformer', T2PITransformer()),\n",
       "                ('classifier', MultinomialNB())])"
      ]
     },
     "execution_count": 41,
     "metadata": {},
     "output_type": "execute_result"
    }
   ],
   "source": [
    "# fit model\n",
    "t2pi_model.fit(X_train, y_train)"
   ]
  },
  {
   "cell_type": "code",
   "execution_count": 42,
   "metadata": {
    "id": "gRkaXwu10ltd",
    "scrolled": true
   },
   "outputs": [
    {
     "name": "stdout",
     "output_type": "stream",
     "text": [
      "transforming ...\n"
     ]
    },
    {
     "data": {
      "application/vnd.jupyter.widget-view+json": {
       "model_id": "e31c848ceb8144be9cab6cbe4e3ce9e8",
       "version_major": 2,
       "version_minor": 0
      },
      "text/plain": [
       "HBox(children=(HTML(value=''), FloatProgress(value=0.0, max=150.0), HTML(value='')))"
      ]
     },
     "metadata": {},
     "output_type": "display_data"
    },
    {
     "name": "stdout",
     "output_type": "stream",
     "text": [
      "\n",
      "              precision    recall  f1-score   support\n",
      "\n",
      "           0       0.71      0.67      0.69        45\n",
      "           1       0.76      0.78      0.77        37\n",
      "           2       0.75      0.56      0.64        32\n",
      "           3       0.63      0.81      0.71        36\n",
      "\n",
      "    accuracy                           0.71       150\n",
      "   macro avg       0.71      0.70      0.70       150\n",
      "weighted avg       0.71      0.71      0.70       150\n",
      "\n"
     ]
    }
   ],
   "source": [
    "y_pred = t2pi_model.predict(X_test) #predict testing data\n",
    "\n",
    "print(classification_report(y_test, y_pred))"
   ]
  },
  {
   "cell_type": "code",
   "execution_count": 43,
   "metadata": {},
   "outputs": [
    {
     "name": "stdout",
     "output_type": "stream",
     "text": [
      "[[30  2  2 11]\n",
      " [ 3 29  3  2]\n",
      " [ 3  7 18  4]\n",
      " [ 6  0  1 29]]\n"
     ]
    }
   ],
   "source": [
    "print(confusion_matrix(y_test, y_pred))"
   ]
  },
  {
   "cell_type": "markdown",
   "metadata": {
    "id": "9_7bBVlY0ltn"
   },
   "source": [
    "### Initialize models"
   ]
  },
  {
   "cell_type": "code",
   "execution_count": 23,
   "metadata": {
    "id": "2lYsESOf0lto"
   },
   "outputs": [],
   "source": [
    "# normal model\n",
    "count_model = get_pipeline(\"count\", get_classifier(), use_t2pi=False, min_df=min_df, stop_words=None, lemmatizer = get_lemmatizer())\n",
    "count_sw_model = get_pipeline(\"count\", get_classifier(), use_t2pi=False, min_df=min_df, stop_words=stop_words, lemmatizer = get_lemmatizer())\n",
    "\n",
    "tfidf_model = get_pipeline(\"tfidf\", get_classifier(), use_t2pi=False, min_df=min_df, stop_words=None, lemmatizer = get_lemmatizer())\n",
    "tfidf_sw_model = get_pipeline(\"tfidf\", get_classifier(), use_t2pi=False, min_df=min_df, stop_words=stop_words, lemmatizer = get_lemmatizer())\n",
    "\n",
    "# model\n",
    "t2pi_count_model = get_pipeline(\"count\", get_classifier(), use_t2pi=True, min_df=min_df, stop_words=None, lemmatizer = get_lemmatizer())\n",
    "t2pi_count_sw_model = get_pipeline(\"count\", get_classifier(), use_t2pi=True, min_df=min_df, stop_words=stop_words, lemmatizer = get_lemmatizer())\n",
    "\n",
    "t2pi_tfidf_model = get_pipeline(\"tfidf\", get_classifier(), use_t2pi=True, min_df=min_df, stop_words=None, lemmatizer = get_lemmatizer())\n",
    "t2pi_tfidf_sw_model = get_pipeline(\"tfidf\", get_classifier(), use_t2pi=True, min_df=min_df, stop_words=stop_words, lemmatizer = get_lemmatizer())\n",
    "\n",
    "models = {\n",
    "    \"count_model\": count_model, \n",
    "    \"count_sw_model\": count_model, \n",
    "    \"tfidf_model\": tfidf_model,\n",
    "    \"tfidf_sw_model\": tfidf_sw_model, \n",
    "    \"t2pi_count_model\": t2pi_count_model,\n",
    "    \"t2pi_count_sw_model\": t2pi_count_sw_model, \n",
    "    \"t2pi_tfidf_model\": t2pi_tfidf_model, \n",
    "    \"t2pi_tfidf_sw_model\": t2pi_tfidf_sw_model\n",
    "}"
   ]
  },
  {
   "cell_type": "markdown",
   "metadata": {
    "id": "Ky4t7czB0lts"
   },
   "source": [
    "### Running Cross validation on all Models"
   ]
  },
  {
   "cell_type": "code",
   "execution_count": 24,
   "metadata": {
    "colab": {
     "base_uri": "https://localhost:8080/"
    },
    "id": "MaHl8bxm0ltt",
    "outputId": "5873b870-0f7a-455a-a0b0-be95c7a45f52"
   },
   "outputs": [
    {
     "name": "stdout",
     "output_type": "stream",
     "text": [
      "-> 1. count_model \n",
      "====================================================================================================\n",
      "\n",
      "-> 1. count_sw_model \n",
      "====================================================================================================\n",
      "\n",
      "-> 1. tfidf_model \n",
      "====================================================================================================\n",
      "\n",
      "-> 1. tfidf_sw_model \n",
      "====================================================================================================\n",
      "\n",
      "-> 1. t2pi_count_model \n",
      "====================================================================================================\n",
      "\n",
      "creating term-term co-occurence pr matrix\n"
     ]
    },
    {
     "data": {
      "application/vnd.jupyter.widget-view+json": {
       "model_id": "e0fa981ec49f4831a52f09c3522edcf5",
       "version_major": 2,
       "version_minor": 0
      },
      "text/plain": [
       "HBox(children=(HTML(value=''), FloatProgress(value=0.0, max=1273.0), HTML(value='')))"
      ]
     },
     "metadata": {},
     "output_type": "display_data"
    },
    {
     "name": "stdout",
     "output_type": "stream",
     "text": [
      "\n",
      "transforming ...\n"
     ]
    },
    {
     "data": {
      "application/vnd.jupyter.widget-view+json": {
       "model_id": "b0cb734a5648462f944f25af55c544b4",
       "version_major": 2,
       "version_minor": 0
      },
      "text/plain": [
       "HBox(children=(HTML(value=''), FloatProgress(value=0.0, max=514.0), HTML(value='')))"
      ]
     },
     "metadata": {},
     "output_type": "display_data"
    },
    {
     "name": "stdout",
     "output_type": "stream",
     "text": [
      "\n",
      "transforming ...\n"
     ]
    },
    {
     "data": {
      "application/vnd.jupyter.widget-view+json": {
       "model_id": "9c18eb2cbaae453996c02ffdd9bd64e9",
       "version_major": 2,
       "version_minor": 0
      },
      "text/plain": [
       "HBox(children=(HTML(value=''), FloatProgress(value=0.0, max=86.0), HTML(value='')))"
      ]
     },
     "metadata": {},
     "output_type": "display_data"
    },
    {
     "name": "stdout",
     "output_type": "stream",
     "text": [
      "\n",
      "-> 1. t2pi_count_sw_model \n",
      "====================================================================================================\n",
      "\n",
      "creating term-term co-occurence pr matrix\n"
     ]
    },
    {
     "data": {
      "application/vnd.jupyter.widget-view+json": {
       "model_id": "f670729d9de2413995f442fc4ca01cfc",
       "version_major": 2,
       "version_minor": 0
      },
      "text/plain": [
       "HBox(children=(HTML(value=''), FloatProgress(value=0.0, max=1059.0), HTML(value='')))"
      ]
     },
     "metadata": {},
     "output_type": "display_data"
    },
    {
     "name": "stdout",
     "output_type": "stream",
     "text": [
      "\n",
      "transforming ...\n"
     ]
    },
    {
     "data": {
      "application/vnd.jupyter.widget-view+json": {
       "model_id": "a305f546d31e4b2c8c84bf6564c3f214",
       "version_major": 2,
       "version_minor": 0
      },
      "text/plain": [
       "HBox(children=(HTML(value=''), FloatProgress(value=0.0, max=514.0), HTML(value='')))"
      ]
     },
     "metadata": {},
     "output_type": "display_data"
    },
    {
     "name": "stdout",
     "output_type": "stream",
     "text": [
      "\n",
      "transforming ...\n"
     ]
    },
    {
     "data": {
      "application/vnd.jupyter.widget-view+json": {
       "model_id": "de48bcde10784650850a056564b74736",
       "version_major": 2,
       "version_minor": 0
      },
      "text/plain": [
       "HBox(children=(HTML(value=''), FloatProgress(value=0.0, max=86.0), HTML(value='')))"
      ]
     },
     "metadata": {},
     "output_type": "display_data"
    },
    {
     "name": "stdout",
     "output_type": "stream",
     "text": [
      "\n",
      "-> 1. t2pi_tfidf_model \n",
      "====================================================================================================\n",
      "\n",
      "creating term-term co-occurence pr matrix\n"
     ]
    },
    {
     "data": {
      "application/vnd.jupyter.widget-view+json": {
       "model_id": "37beb5fb68644fde8b4e1f591c30b6e9",
       "version_major": 2,
       "version_minor": 0
      },
      "text/plain": [
       "HBox(children=(HTML(value=''), FloatProgress(value=0.0, max=1273.0), HTML(value='')))"
      ]
     },
     "metadata": {},
     "output_type": "display_data"
    },
    {
     "name": "stdout",
     "output_type": "stream",
     "text": [
      "\n",
      "transforming ...\n"
     ]
    },
    {
     "data": {
      "application/vnd.jupyter.widget-view+json": {
       "model_id": "814ac15843e444e599487592e5376284",
       "version_major": 2,
       "version_minor": 0
      },
      "text/plain": [
       "HBox(children=(HTML(value=''), FloatProgress(value=0.0, max=514.0), HTML(value='')))"
      ]
     },
     "metadata": {},
     "output_type": "display_data"
    },
    {
     "name": "stdout",
     "output_type": "stream",
     "text": [
      "\n",
      "transforming ...\n"
     ]
    },
    {
     "data": {
      "application/vnd.jupyter.widget-view+json": {
       "model_id": "b4e38b4a8e904900a185007500103bab",
       "version_major": 2,
       "version_minor": 0
      },
      "text/plain": [
       "HBox(children=(HTML(value=''), FloatProgress(value=0.0, max=86.0), HTML(value='')))"
      ]
     },
     "metadata": {},
     "output_type": "display_data"
    },
    {
     "name": "stdout",
     "output_type": "stream",
     "text": [
      "\n",
      "-> 1. t2pi_tfidf_sw_model \n",
      "====================================================================================================\n",
      "\n",
      "creating term-term co-occurence pr matrix\n"
     ]
    },
    {
     "data": {
      "application/vnd.jupyter.widget-view+json": {
       "model_id": "17164be6f9c844f9aeca4f23deb78ee1",
       "version_major": 2,
       "version_minor": 0
      },
      "text/plain": [
       "HBox(children=(HTML(value=''), FloatProgress(value=0.0, max=1059.0), HTML(value='')))"
      ]
     },
     "metadata": {},
     "output_type": "display_data"
    },
    {
     "name": "stdout",
     "output_type": "stream",
     "text": [
      "\n",
      "transforming ...\n"
     ]
    },
    {
     "data": {
      "application/vnd.jupyter.widget-view+json": {
       "model_id": "64a8e2bfdd19490aa16d2e4e9091248f",
       "version_major": 2,
       "version_minor": 0
      },
      "text/plain": [
       "HBox(children=(HTML(value=''), FloatProgress(value=0.0, max=514.0), HTML(value='')))"
      ]
     },
     "metadata": {},
     "output_type": "display_data"
    },
    {
     "name": "stdout",
     "output_type": "stream",
     "text": [
      "\n",
      "transforming ...\n"
     ]
    },
    {
     "data": {
      "application/vnd.jupyter.widget-view+json": {
       "model_id": "617d2d46365d400aaa42cd8583565356",
       "version_major": 2,
       "version_minor": 0
      },
      "text/plain": [
       "HBox(children=(HTML(value=''), FloatProgress(value=0.0, max=86.0), HTML(value='')))"
      ]
     },
     "metadata": {},
     "output_type": "display_data"
    },
    {
     "name": "stdout",
     "output_type": "stream",
     "text": [
      "\n",
      "-> 2. count_model \n",
      "====================================================================================================\n",
      "\n",
      "-> 2. count_sw_model \n",
      "====================================================================================================\n",
      "\n",
      "-> 2. tfidf_model \n",
      "====================================================================================================\n",
      "\n",
      "-> 2. tfidf_sw_model \n",
      "====================================================================================================\n",
      "\n",
      "-> 2. t2pi_count_model \n",
      "====================================================================================================\n",
      "\n",
      "creating term-term co-occurence pr matrix\n"
     ]
    },
    {
     "data": {
      "application/vnd.jupyter.widget-view+json": {
       "model_id": "f3a459459023473e9d351475f69d3217",
       "version_major": 2,
       "version_minor": 0
      },
      "text/plain": [
       "HBox(children=(HTML(value=''), FloatProgress(value=0.0, max=1275.0), HTML(value='')))"
      ]
     },
     "metadata": {},
     "output_type": "display_data"
    },
    {
     "name": "stdout",
     "output_type": "stream",
     "text": [
      "\n",
      "transforming ...\n"
     ]
    },
    {
     "data": {
      "application/vnd.jupyter.widget-view+json": {
       "model_id": "9ca53b63a38346c6a4231a992f6cd2d2",
       "version_major": 2,
       "version_minor": 0
      },
      "text/plain": [
       "HBox(children=(HTML(value=''), FloatProgress(value=0.0, max=514.0), HTML(value='')))"
      ]
     },
     "metadata": {},
     "output_type": "display_data"
    },
    {
     "name": "stdout",
     "output_type": "stream",
     "text": [
      "\n",
      "transforming ...\n"
     ]
    },
    {
     "data": {
      "application/vnd.jupyter.widget-view+json": {
       "model_id": "8a7ad6bbff97481ab1da56cf678f8904",
       "version_major": 2,
       "version_minor": 0
      },
      "text/plain": [
       "HBox(children=(HTML(value=''), FloatProgress(value=0.0, max=86.0), HTML(value='')))"
      ]
     },
     "metadata": {},
     "output_type": "display_data"
    },
    {
     "name": "stdout",
     "output_type": "stream",
     "text": [
      "\n",
      "-> 2. t2pi_count_sw_model \n",
      "====================================================================================================\n",
      "\n",
      "creating term-term co-occurence pr matrix\n"
     ]
    },
    {
     "data": {
      "application/vnd.jupyter.widget-view+json": {
       "model_id": "f7f7b049fd134ec3a5b43039f333815b",
       "version_major": 2,
       "version_minor": 0
      },
      "text/plain": [
       "HBox(children=(HTML(value=''), FloatProgress(value=0.0, max=1056.0), HTML(value='')))"
      ]
     },
     "metadata": {},
     "output_type": "display_data"
    },
    {
     "name": "stdout",
     "output_type": "stream",
     "text": [
      "\n",
      "transforming ...\n"
     ]
    },
    {
     "data": {
      "application/vnd.jupyter.widget-view+json": {
       "model_id": "bb6de103c9d6472d8054df5dc7a34d67",
       "version_major": 2,
       "version_minor": 0
      },
      "text/plain": [
       "HBox(children=(HTML(value=''), FloatProgress(value=0.0, max=514.0), HTML(value='')))"
      ]
     },
     "metadata": {},
     "output_type": "display_data"
    },
    {
     "name": "stdout",
     "output_type": "stream",
     "text": [
      "\n",
      "transforming ...\n"
     ]
    },
    {
     "data": {
      "application/vnd.jupyter.widget-view+json": {
       "model_id": "06339c8870b841dab6c2f8f6afd7071f",
       "version_major": 2,
       "version_minor": 0
      },
      "text/plain": [
       "HBox(children=(HTML(value=''), FloatProgress(value=0.0, max=86.0), HTML(value='')))"
      ]
     },
     "metadata": {},
     "output_type": "display_data"
    },
    {
     "name": "stdout",
     "output_type": "stream",
     "text": [
      "\n",
      "-> 2. t2pi_tfidf_model \n",
      "====================================================================================================\n",
      "\n",
      "creating term-term co-occurence pr matrix\n"
     ]
    },
    {
     "data": {
      "application/vnd.jupyter.widget-view+json": {
       "model_id": "5929f5a5e56b445b988b06a439304685",
       "version_major": 2,
       "version_minor": 0
      },
      "text/plain": [
       "HBox(children=(HTML(value=''), FloatProgress(value=0.0, max=1275.0), HTML(value='')))"
      ]
     },
     "metadata": {},
     "output_type": "display_data"
    },
    {
     "name": "stdout",
     "output_type": "stream",
     "text": [
      "\n",
      "transforming ...\n"
     ]
    },
    {
     "data": {
      "application/vnd.jupyter.widget-view+json": {
       "model_id": "024482689a66403f99fdaa18685ca1d1",
       "version_major": 2,
       "version_minor": 0
      },
      "text/plain": [
       "HBox(children=(HTML(value=''), FloatProgress(value=0.0, max=514.0), HTML(value='')))"
      ]
     },
     "metadata": {},
     "output_type": "display_data"
    },
    {
     "name": "stdout",
     "output_type": "stream",
     "text": [
      "\n",
      "transforming ...\n"
     ]
    },
    {
     "data": {
      "application/vnd.jupyter.widget-view+json": {
       "model_id": "a24a1cf3f71e4dd28deee3aa8e924859",
       "version_major": 2,
       "version_minor": 0
      },
      "text/plain": [
       "HBox(children=(HTML(value=''), FloatProgress(value=0.0, max=86.0), HTML(value='')))"
      ]
     },
     "metadata": {},
     "output_type": "display_data"
    },
    {
     "name": "stdout",
     "output_type": "stream",
     "text": [
      "\n",
      "-> 2. t2pi_tfidf_sw_model \n",
      "====================================================================================================\n",
      "\n",
      "creating term-term co-occurence pr matrix\n"
     ]
    },
    {
     "data": {
      "application/vnd.jupyter.widget-view+json": {
       "model_id": "16264cda44c64ea7a102c0adb0e40a71",
       "version_major": 2,
       "version_minor": 0
      },
      "text/plain": [
       "HBox(children=(HTML(value=''), FloatProgress(value=0.0, max=1056.0), HTML(value='')))"
      ]
     },
     "metadata": {},
     "output_type": "display_data"
    },
    {
     "name": "stdout",
     "output_type": "stream",
     "text": [
      "\n",
      "transforming ...\n"
     ]
    },
    {
     "data": {
      "application/vnd.jupyter.widget-view+json": {
       "model_id": "d72f276dbf994a3995468a2e5bf0a471",
       "version_major": 2,
       "version_minor": 0
      },
      "text/plain": [
       "HBox(children=(HTML(value=''), FloatProgress(value=0.0, max=514.0), HTML(value='')))"
      ]
     },
     "metadata": {},
     "output_type": "display_data"
    },
    {
     "name": "stdout",
     "output_type": "stream",
     "text": [
      "\n",
      "transforming ...\n"
     ]
    },
    {
     "data": {
      "application/vnd.jupyter.widget-view+json": {
       "model_id": "f741606be4dc4f618c41391740cd2925",
       "version_major": 2,
       "version_minor": 0
      },
      "text/plain": [
       "HBox(children=(HTML(value=''), FloatProgress(value=0.0, max=86.0), HTML(value='')))"
      ]
     },
     "metadata": {},
     "output_type": "display_data"
    },
    {
     "name": "stdout",
     "output_type": "stream",
     "text": [
      "\n",
      "-> 3. count_model \n",
      "====================================================================================================\n",
      "\n",
      "-> 3. count_sw_model \n",
      "====================================================================================================\n",
      "\n",
      "-> 3. tfidf_model \n",
      "====================================================================================================\n",
      "\n",
      "-> 3. tfidf_sw_model \n",
      "====================================================================================================\n",
      "\n",
      "-> 3. t2pi_count_model \n",
      "====================================================================================================\n",
      "\n",
      "creating term-term co-occurence pr matrix\n"
     ]
    },
    {
     "data": {
      "application/vnd.jupyter.widget-view+json": {
       "model_id": "4e71e6403e3449bf882a9dd6f4e95d6c",
       "version_major": 2,
       "version_minor": 0
      },
      "text/plain": [
       "HBox(children=(HTML(value=''), FloatProgress(value=0.0, max=1274.0), HTML(value='')))"
      ]
     },
     "metadata": {},
     "output_type": "display_data"
    },
    {
     "name": "stdout",
     "output_type": "stream",
     "text": [
      "\n",
      "transforming ...\n"
     ]
    },
    {
     "data": {
      "application/vnd.jupyter.widget-view+json": {
       "model_id": "4d6e1ef3913c478494b60899d9f35341",
       "version_major": 2,
       "version_minor": 0
      },
      "text/plain": [
       "HBox(children=(HTML(value=''), FloatProgress(value=0.0, max=514.0), HTML(value='')))"
      ]
     },
     "metadata": {},
     "output_type": "display_data"
    },
    {
     "name": "stdout",
     "output_type": "stream",
     "text": [
      "\n",
      "transforming ...\n"
     ]
    },
    {
     "data": {
      "application/vnd.jupyter.widget-view+json": {
       "model_id": "ec02322d0ac74b02bc860a783c0ecffb",
       "version_major": 2,
       "version_minor": 0
      },
      "text/plain": [
       "HBox(children=(HTML(value=''), FloatProgress(value=0.0, max=86.0), HTML(value='')))"
      ]
     },
     "metadata": {},
     "output_type": "display_data"
    },
    {
     "name": "stdout",
     "output_type": "stream",
     "text": [
      "\n",
      "-> 3. t2pi_count_sw_model \n",
      "====================================================================================================\n",
      "\n",
      "creating term-term co-occurence pr matrix\n"
     ]
    },
    {
     "data": {
      "application/vnd.jupyter.widget-view+json": {
       "model_id": "d8976bad77d047518c2c24bd9d321516",
       "version_major": 2,
       "version_minor": 0
      },
      "text/plain": [
       "HBox(children=(HTML(value=''), FloatProgress(value=0.0, max=1057.0), HTML(value='')))"
      ]
     },
     "metadata": {},
     "output_type": "display_data"
    },
    {
     "name": "stdout",
     "output_type": "stream",
     "text": [
      "\n",
      "transforming ...\n"
     ]
    },
    {
     "data": {
      "application/vnd.jupyter.widget-view+json": {
       "model_id": "6faf6a1bec134965bcecb09380e1b5dc",
       "version_major": 2,
       "version_minor": 0
      },
      "text/plain": [
       "HBox(children=(HTML(value=''), FloatProgress(value=0.0, max=514.0), HTML(value='')))"
      ]
     },
     "metadata": {},
     "output_type": "display_data"
    },
    {
     "name": "stdout",
     "output_type": "stream",
     "text": [
      "\n",
      "transforming ...\n"
     ]
    },
    {
     "data": {
      "application/vnd.jupyter.widget-view+json": {
       "model_id": "4279c3541a4740d4aa9fc44689e6b5af",
       "version_major": 2,
       "version_minor": 0
      },
      "text/plain": [
       "HBox(children=(HTML(value=''), FloatProgress(value=0.0, max=86.0), HTML(value='')))"
      ]
     },
     "metadata": {},
     "output_type": "display_data"
    },
    {
     "name": "stdout",
     "output_type": "stream",
     "text": [
      "\n",
      "-> 3. t2pi_tfidf_model \n",
      "====================================================================================================\n",
      "\n",
      "creating term-term co-occurence pr matrix\n"
     ]
    },
    {
     "data": {
      "application/vnd.jupyter.widget-view+json": {
       "model_id": "f4960d190cb0481799a28500842e124e",
       "version_major": 2,
       "version_minor": 0
      },
      "text/plain": [
       "HBox(children=(HTML(value=''), FloatProgress(value=0.0, max=1274.0), HTML(value='')))"
      ]
     },
     "metadata": {},
     "output_type": "display_data"
    },
    {
     "name": "stdout",
     "output_type": "stream",
     "text": [
      "\n",
      "transforming ...\n"
     ]
    },
    {
     "data": {
      "application/vnd.jupyter.widget-view+json": {
       "model_id": "6e3d8a3f1fdb4e4791149b9fc01b2e46",
       "version_major": 2,
       "version_minor": 0
      },
      "text/plain": [
       "HBox(children=(HTML(value=''), FloatProgress(value=0.0, max=514.0), HTML(value='')))"
      ]
     },
     "metadata": {},
     "output_type": "display_data"
    },
    {
     "name": "stdout",
     "output_type": "stream",
     "text": [
      "\n",
      "transforming ...\n"
     ]
    },
    {
     "data": {
      "application/vnd.jupyter.widget-view+json": {
       "model_id": "363459bd101144e2859f4670387390c7",
       "version_major": 2,
       "version_minor": 0
      },
      "text/plain": [
       "HBox(children=(HTML(value=''), FloatProgress(value=0.0, max=86.0), HTML(value='')))"
      ]
     },
     "metadata": {},
     "output_type": "display_data"
    },
    {
     "name": "stdout",
     "output_type": "stream",
     "text": [
      "\n",
      "-> 3. t2pi_tfidf_sw_model \n",
      "====================================================================================================\n",
      "\n",
      "creating term-term co-occurence pr matrix\n"
     ]
    },
    {
     "data": {
      "application/vnd.jupyter.widget-view+json": {
       "model_id": "24bfa518f94543c5b4ba92e2c50167b9",
       "version_major": 2,
       "version_minor": 0
      },
      "text/plain": [
       "HBox(children=(HTML(value=''), FloatProgress(value=0.0, max=1057.0), HTML(value='')))"
      ]
     },
     "metadata": {},
     "output_type": "display_data"
    },
    {
     "name": "stdout",
     "output_type": "stream",
     "text": [
      "\n",
      "transforming ...\n"
     ]
    },
    {
     "data": {
      "application/vnd.jupyter.widget-view+json": {
       "model_id": "09c0fef2b0854e1f8c2741a6ec5313da",
       "version_major": 2,
       "version_minor": 0
      },
      "text/plain": [
       "HBox(children=(HTML(value=''), FloatProgress(value=0.0, max=514.0), HTML(value='')))"
      ]
     },
     "metadata": {},
     "output_type": "display_data"
    },
    {
     "name": "stdout",
     "output_type": "stream",
     "text": [
      "\n",
      "transforming ...\n"
     ]
    },
    {
     "data": {
      "application/vnd.jupyter.widget-view+json": {
       "model_id": "656863dffe454cf19b694557814d27af",
       "version_major": 2,
       "version_minor": 0
      },
      "text/plain": [
       "HBox(children=(HTML(value=''), FloatProgress(value=0.0, max=86.0), HTML(value='')))"
      ]
     },
     "metadata": {},
     "output_type": "display_data"
    },
    {
     "name": "stdout",
     "output_type": "stream",
     "text": [
      "\n",
      "-> 4. count_model \n",
      "====================================================================================================\n",
      "\n",
      "-> 4. count_sw_model \n",
      "====================================================================================================\n",
      "\n",
      "-> 4. tfidf_model \n",
      "====================================================================================================\n",
      "\n",
      "-> 4. tfidf_sw_model \n",
      "====================================================================================================\n",
      "\n",
      "-> 4. t2pi_count_model \n",
      "====================================================================================================\n",
      "\n",
      "creating term-term co-occurence pr matrix\n"
     ]
    },
    {
     "data": {
      "application/vnd.jupyter.widget-view+json": {
       "model_id": "95d3ddcadae847699839a9b5869b6a1d",
       "version_major": 2,
       "version_minor": 0
      },
      "text/plain": [
       "HBox(children=(HTML(value=''), FloatProgress(value=0.0, max=1274.0), HTML(value='')))"
      ]
     },
     "metadata": {},
     "output_type": "display_data"
    },
    {
     "name": "stdout",
     "output_type": "stream",
     "text": [
      "\n",
      "transforming ...\n"
     ]
    },
    {
     "data": {
      "application/vnd.jupyter.widget-view+json": {
       "model_id": "40c210a97a134d9b87603813ca18e4ef",
       "version_major": 2,
       "version_minor": 0
      },
      "text/plain": [
       "HBox(children=(HTML(value=''), FloatProgress(value=0.0, max=514.0), HTML(value='')))"
      ]
     },
     "metadata": {},
     "output_type": "display_data"
    },
    {
     "name": "stdout",
     "output_type": "stream",
     "text": [
      "\n",
      "transforming ...\n"
     ]
    },
    {
     "data": {
      "application/vnd.jupyter.widget-view+json": {
       "model_id": "a209591cfc4d48c29c945c88984acd8b",
       "version_major": 2,
       "version_minor": 0
      },
      "text/plain": [
       "HBox(children=(HTML(value=''), FloatProgress(value=0.0, max=86.0), HTML(value='')))"
      ]
     },
     "metadata": {},
     "output_type": "display_data"
    },
    {
     "name": "stdout",
     "output_type": "stream",
     "text": [
      "\n",
      "-> 4. t2pi_count_sw_model \n",
      "====================================================================================================\n",
      "\n",
      "creating term-term co-occurence pr matrix\n"
     ]
    },
    {
     "data": {
      "application/vnd.jupyter.widget-view+json": {
       "model_id": "6c33fb5430d346769a556a81a25fd909",
       "version_major": 2,
       "version_minor": 0
      },
      "text/plain": [
       "HBox(children=(HTML(value=''), FloatProgress(value=0.0, max=1057.0), HTML(value='')))"
      ]
     },
     "metadata": {},
     "output_type": "display_data"
    },
    {
     "name": "stdout",
     "output_type": "stream",
     "text": [
      "\n",
      "transforming ...\n"
     ]
    },
    {
     "data": {
      "application/vnd.jupyter.widget-view+json": {
       "model_id": "f2b1d933d684486c97216e74ab56505a",
       "version_major": 2,
       "version_minor": 0
      },
      "text/plain": [
       "HBox(children=(HTML(value=''), FloatProgress(value=0.0, max=514.0), HTML(value='')))"
      ]
     },
     "metadata": {},
     "output_type": "display_data"
    },
    {
     "name": "stdout",
     "output_type": "stream",
     "text": [
      "\n",
      "transforming ...\n"
     ]
    },
    {
     "data": {
      "application/vnd.jupyter.widget-view+json": {
       "model_id": "598cebb41fcd444295f84a18674f66d7",
       "version_major": 2,
       "version_minor": 0
      },
      "text/plain": [
       "HBox(children=(HTML(value=''), FloatProgress(value=0.0, max=86.0), HTML(value='')))"
      ]
     },
     "metadata": {},
     "output_type": "display_data"
    },
    {
     "name": "stdout",
     "output_type": "stream",
     "text": [
      "\n",
      "-> 4. t2pi_tfidf_model \n",
      "====================================================================================================\n",
      "\n",
      "creating term-term co-occurence pr matrix\n"
     ]
    },
    {
     "data": {
      "application/vnd.jupyter.widget-view+json": {
       "model_id": "7572238bd2004a8099901b8648c45144",
       "version_major": 2,
       "version_minor": 0
      },
      "text/plain": [
       "HBox(children=(HTML(value=''), FloatProgress(value=0.0, max=1274.0), HTML(value='')))"
      ]
     },
     "metadata": {},
     "output_type": "display_data"
    },
    {
     "name": "stdout",
     "output_type": "stream",
     "text": [
      "\n",
      "transforming ...\n"
     ]
    },
    {
     "data": {
      "application/vnd.jupyter.widget-view+json": {
       "model_id": "dda058261c68438b841d1958305756a8",
       "version_major": 2,
       "version_minor": 0
      },
      "text/plain": [
       "HBox(children=(HTML(value=''), FloatProgress(value=0.0, max=514.0), HTML(value='')))"
      ]
     },
     "metadata": {},
     "output_type": "display_data"
    },
    {
     "name": "stdout",
     "output_type": "stream",
     "text": [
      "\n",
      "transforming ...\n"
     ]
    },
    {
     "data": {
      "application/vnd.jupyter.widget-view+json": {
       "model_id": "159ab0c68cbd469980dd769fa3667dbe",
       "version_major": 2,
       "version_minor": 0
      },
      "text/plain": [
       "HBox(children=(HTML(value=''), FloatProgress(value=0.0, max=86.0), HTML(value='')))"
      ]
     },
     "metadata": {},
     "output_type": "display_data"
    },
    {
     "name": "stdout",
     "output_type": "stream",
     "text": [
      "\n",
      "-> 4. t2pi_tfidf_sw_model \n",
      "====================================================================================================\n",
      "\n",
      "creating term-term co-occurence pr matrix\n"
     ]
    },
    {
     "data": {
      "application/vnd.jupyter.widget-view+json": {
       "model_id": "66121624cd304db287add62c0ce4f03e",
       "version_major": 2,
       "version_minor": 0
      },
      "text/plain": [
       "HBox(children=(HTML(value=''), FloatProgress(value=0.0, max=1057.0), HTML(value='')))"
      ]
     },
     "metadata": {},
     "output_type": "display_data"
    },
    {
     "name": "stdout",
     "output_type": "stream",
     "text": [
      "\n",
      "transforming ...\n"
     ]
    },
    {
     "data": {
      "application/vnd.jupyter.widget-view+json": {
       "model_id": "15bd12fc4f6943e1825a064737c81367",
       "version_major": 2,
       "version_minor": 0
      },
      "text/plain": [
       "HBox(children=(HTML(value=''), FloatProgress(value=0.0, max=514.0), HTML(value='')))"
      ]
     },
     "metadata": {},
     "output_type": "display_data"
    },
    {
     "name": "stdout",
     "output_type": "stream",
     "text": [
      "\n",
      "transforming ...\n"
     ]
    },
    {
     "data": {
      "application/vnd.jupyter.widget-view+json": {
       "model_id": "185e97474a8b40aab1b63d49846580b8",
       "version_major": 2,
       "version_minor": 0
      },
      "text/plain": [
       "HBox(children=(HTML(value=''), FloatProgress(value=0.0, max=86.0), HTML(value='')))"
      ]
     },
     "metadata": {},
     "output_type": "display_data"
    },
    {
     "name": "stdout",
     "output_type": "stream",
     "text": [
      "\n",
      "-> 5. count_model \n",
      "====================================================================================================\n",
      "\n",
      "-> 5. count_sw_model \n",
      "====================================================================================================\n",
      "\n",
      "-> 5. tfidf_model \n",
      "====================================================================================================\n",
      "\n",
      "-> 5. tfidf_sw_model \n",
      "====================================================================================================\n",
      "\n",
      "-> 5. t2pi_count_model \n",
      "====================================================================================================\n",
      "\n",
      "creating term-term co-occurence pr matrix\n"
     ]
    },
    {
     "data": {
      "application/vnd.jupyter.widget-view+json": {
       "model_id": "69f09955afc04a23bfccdd831f3f8195",
       "version_major": 2,
       "version_minor": 0
      },
      "text/plain": [
       "HBox(children=(HTML(value=''), FloatProgress(value=0.0, max=1264.0), HTML(value='')))"
      ]
     },
     "metadata": {},
     "output_type": "display_data"
    },
    {
     "name": "stdout",
     "output_type": "stream",
     "text": [
      "\n",
      "transforming ...\n"
     ]
    },
    {
     "data": {
      "application/vnd.jupyter.widget-view+json": {
       "model_id": "9cce687dbde54ed3aca40f2b7b28494f",
       "version_major": 2,
       "version_minor": 0
      },
      "text/plain": [
       "HBox(children=(HTML(value=''), FloatProgress(value=0.0, max=514.0), HTML(value='')))"
      ]
     },
     "metadata": {},
     "output_type": "display_data"
    },
    {
     "name": "stdout",
     "output_type": "stream",
     "text": [
      "\n",
      "transforming ...\n"
     ]
    },
    {
     "data": {
      "application/vnd.jupyter.widget-view+json": {
       "model_id": "494fdaf306ac49f68e01bc71116b945f",
       "version_major": 2,
       "version_minor": 0
      },
      "text/plain": [
       "HBox(children=(HTML(value=''), FloatProgress(value=0.0, max=86.0), HTML(value='')))"
      ]
     },
     "metadata": {},
     "output_type": "display_data"
    },
    {
     "name": "stdout",
     "output_type": "stream",
     "text": [
      "\n",
      "-> 5. t2pi_count_sw_model \n",
      "====================================================================================================\n",
      "\n",
      "creating term-term co-occurence pr matrix\n"
     ]
    },
    {
     "data": {
      "application/vnd.jupyter.widget-view+json": {
       "model_id": "7a3c1034994f4f3cbce3358a3ff9db1f",
       "version_major": 2,
       "version_minor": 0
      },
      "text/plain": [
       "HBox(children=(HTML(value=''), FloatProgress(value=0.0, max=1044.0), HTML(value='')))"
      ]
     },
     "metadata": {},
     "output_type": "display_data"
    },
    {
     "name": "stdout",
     "output_type": "stream",
     "text": [
      "\n",
      "transforming ...\n"
     ]
    },
    {
     "data": {
      "application/vnd.jupyter.widget-view+json": {
       "model_id": "c199d752e60d48e19253e917dcfffe61",
       "version_major": 2,
       "version_minor": 0
      },
      "text/plain": [
       "HBox(children=(HTML(value=''), FloatProgress(value=0.0, max=514.0), HTML(value='')))"
      ]
     },
     "metadata": {},
     "output_type": "display_data"
    },
    {
     "name": "stdout",
     "output_type": "stream",
     "text": [
      "\n",
      "transforming ...\n"
     ]
    },
    {
     "data": {
      "application/vnd.jupyter.widget-view+json": {
       "model_id": "810d792fc1f4451ea1370a4e99406a66",
       "version_major": 2,
       "version_minor": 0
      },
      "text/plain": [
       "HBox(children=(HTML(value=''), FloatProgress(value=0.0, max=86.0), HTML(value='')))"
      ]
     },
     "metadata": {},
     "output_type": "display_data"
    },
    {
     "name": "stdout",
     "output_type": "stream",
     "text": [
      "\n",
      "-> 5. t2pi_tfidf_model \n",
      "====================================================================================================\n",
      "\n",
      "creating term-term co-occurence pr matrix\n"
     ]
    },
    {
     "data": {
      "application/vnd.jupyter.widget-view+json": {
       "model_id": "dee0b284eebc440da4cb6e9305850a69",
       "version_major": 2,
       "version_minor": 0
      },
      "text/plain": [
       "HBox(children=(HTML(value=''), FloatProgress(value=0.0, max=1264.0), HTML(value='')))"
      ]
     },
     "metadata": {},
     "output_type": "display_data"
    },
    {
     "name": "stdout",
     "output_type": "stream",
     "text": [
      "\n",
      "transforming ...\n"
     ]
    },
    {
     "data": {
      "application/vnd.jupyter.widget-view+json": {
       "model_id": "6bb3b76d9e6f4fa5bda2c1b866bde504",
       "version_major": 2,
       "version_minor": 0
      },
      "text/plain": [
       "HBox(children=(HTML(value=''), FloatProgress(value=0.0, max=514.0), HTML(value='')))"
      ]
     },
     "metadata": {},
     "output_type": "display_data"
    },
    {
     "name": "stdout",
     "output_type": "stream",
     "text": [
      "\n",
      "transforming ...\n"
     ]
    },
    {
     "data": {
      "application/vnd.jupyter.widget-view+json": {
       "model_id": "0f57e9ebc5cb47a19d2d1905ad078b79",
       "version_major": 2,
       "version_minor": 0
      },
      "text/plain": [
       "HBox(children=(HTML(value=''), FloatProgress(value=0.0, max=86.0), HTML(value='')))"
      ]
     },
     "metadata": {},
     "output_type": "display_data"
    },
    {
     "name": "stdout",
     "output_type": "stream",
     "text": [
      "\n",
      "-> 5. t2pi_tfidf_sw_model \n",
      "====================================================================================================\n",
      "\n",
      "creating term-term co-occurence pr matrix\n"
     ]
    },
    {
     "data": {
      "application/vnd.jupyter.widget-view+json": {
       "model_id": "d03907ca43c940f8b133db1ba184eb3e",
       "version_major": 2,
       "version_minor": 0
      },
      "text/plain": [
       "HBox(children=(HTML(value=''), FloatProgress(value=0.0, max=1044.0), HTML(value='')))"
      ]
     },
     "metadata": {},
     "output_type": "display_data"
    },
    {
     "name": "stdout",
     "output_type": "stream",
     "text": [
      "\n",
      "transforming ...\n"
     ]
    },
    {
     "data": {
      "application/vnd.jupyter.widget-view+json": {
       "model_id": "448d19e7e1f847248bc6765cf28cf444",
       "version_major": 2,
       "version_minor": 0
      },
      "text/plain": [
       "HBox(children=(HTML(value=''), FloatProgress(value=0.0, max=514.0), HTML(value='')))"
      ]
     },
     "metadata": {},
     "output_type": "display_data"
    },
    {
     "name": "stdout",
     "output_type": "stream",
     "text": [
      "\n",
      "transforming ...\n"
     ]
    },
    {
     "data": {
      "application/vnd.jupyter.widget-view+json": {
       "model_id": "82a1f7f7914d4ddba5f1a75b9cd46221",
       "version_major": 2,
       "version_minor": 0
      },
      "text/plain": [
       "HBox(children=(HTML(value=''), FloatProgress(value=0.0, max=86.0), HTML(value='')))"
      ]
     },
     "metadata": {},
     "output_type": "display_data"
    },
    {
     "name": "stdout",
     "output_type": "stream",
     "text": [
      "\n",
      "-> 6. count_model \n",
      "====================================================================================================\n",
      "\n",
      "-> 6. count_sw_model \n",
      "====================================================================================================\n",
      "\n",
      "-> 6. tfidf_model \n",
      "====================================================================================================\n",
      "\n",
      "-> 6. tfidf_sw_model \n",
      "====================================================================================================\n",
      "\n",
      "-> 6. t2pi_count_model \n",
      "====================================================================================================\n",
      "\n",
      "creating term-term co-occurence pr matrix\n"
     ]
    },
    {
     "data": {
      "application/vnd.jupyter.widget-view+json": {
       "model_id": "0f14667265a34767b7112c2197f75f91",
       "version_major": 2,
       "version_minor": 0
      },
      "text/plain": [
       "HBox(children=(HTML(value=''), FloatProgress(value=0.0, max=1292.0), HTML(value='')))"
      ]
     },
     "metadata": {},
     "output_type": "display_data"
    },
    {
     "name": "stdout",
     "output_type": "stream",
     "text": [
      "\n",
      "transforming ...\n"
     ]
    },
    {
     "data": {
      "application/vnd.jupyter.widget-view+json": {
       "model_id": "88a50d60890c43129b7908032378abfe",
       "version_major": 2,
       "version_minor": 0
      },
      "text/plain": [
       "HBox(children=(HTML(value=''), FloatProgress(value=0.0, max=515.0), HTML(value='')))"
      ]
     },
     "metadata": {},
     "output_type": "display_data"
    },
    {
     "name": "stdout",
     "output_type": "stream",
     "text": [
      "\n",
      "transforming ...\n"
     ]
    },
    {
     "data": {
      "application/vnd.jupyter.widget-view+json": {
       "model_id": "2a0f55bce69542efbde1b4edcc9e4231",
       "version_major": 2,
       "version_minor": 0
      },
      "text/plain": [
       "HBox(children=(HTML(value=''), FloatProgress(value=0.0, max=85.0), HTML(value='')))"
      ]
     },
     "metadata": {},
     "output_type": "display_data"
    },
    {
     "name": "stdout",
     "output_type": "stream",
     "text": [
      "\n",
      "-> 6. t2pi_count_sw_model \n",
      "====================================================================================================\n",
      "\n",
      "creating term-term co-occurence pr matrix\n"
     ]
    },
    {
     "data": {
      "application/vnd.jupyter.widget-view+json": {
       "model_id": "23772cf0a25143b18cb939870c9827e7",
       "version_major": 2,
       "version_minor": 0
      },
      "text/plain": [
       "HBox(children=(HTML(value=''), FloatProgress(value=0.0, max=1073.0), HTML(value='')))"
      ]
     },
     "metadata": {},
     "output_type": "display_data"
    },
    {
     "name": "stdout",
     "output_type": "stream",
     "text": [
      "\n",
      "transforming ...\n"
     ]
    },
    {
     "data": {
      "application/vnd.jupyter.widget-view+json": {
       "model_id": "3a19ff5fb5544c738574cf757c74fe6d",
       "version_major": 2,
       "version_minor": 0
      },
      "text/plain": [
       "HBox(children=(HTML(value=''), FloatProgress(value=0.0, max=515.0), HTML(value='')))"
      ]
     },
     "metadata": {},
     "output_type": "display_data"
    },
    {
     "name": "stdout",
     "output_type": "stream",
     "text": [
      "\n",
      "transforming ...\n"
     ]
    },
    {
     "data": {
      "application/vnd.jupyter.widget-view+json": {
       "model_id": "4ffc7c757240490e92a718657079a421",
       "version_major": 2,
       "version_minor": 0
      },
      "text/plain": [
       "HBox(children=(HTML(value=''), FloatProgress(value=0.0, max=85.0), HTML(value='')))"
      ]
     },
     "metadata": {},
     "output_type": "display_data"
    },
    {
     "name": "stdout",
     "output_type": "stream",
     "text": [
      "\n",
      "-> 6. t2pi_tfidf_model \n",
      "====================================================================================================\n",
      "\n",
      "creating term-term co-occurence pr matrix\n"
     ]
    },
    {
     "data": {
      "application/vnd.jupyter.widget-view+json": {
       "model_id": "794ced0c16cc484f9821987adaef0c37",
       "version_major": 2,
       "version_minor": 0
      },
      "text/plain": [
       "HBox(children=(HTML(value=''), FloatProgress(value=0.0, max=1292.0), HTML(value='')))"
      ]
     },
     "metadata": {},
     "output_type": "display_data"
    },
    {
     "name": "stdout",
     "output_type": "stream",
     "text": [
      "\n",
      "transforming ...\n"
     ]
    },
    {
     "data": {
      "application/vnd.jupyter.widget-view+json": {
       "model_id": "fc9d5d6de36e4c909d225e230c953406",
       "version_major": 2,
       "version_minor": 0
      },
      "text/plain": [
       "HBox(children=(HTML(value=''), FloatProgress(value=0.0, max=515.0), HTML(value='')))"
      ]
     },
     "metadata": {},
     "output_type": "display_data"
    },
    {
     "name": "stdout",
     "output_type": "stream",
     "text": [
      "\n",
      "transforming ...\n"
     ]
    },
    {
     "data": {
      "application/vnd.jupyter.widget-view+json": {
       "model_id": "3d293e21ccec486c8759143ab2f9eb5e",
       "version_major": 2,
       "version_minor": 0
      },
      "text/plain": [
       "HBox(children=(HTML(value=''), FloatProgress(value=0.0, max=85.0), HTML(value='')))"
      ]
     },
     "metadata": {},
     "output_type": "display_data"
    },
    {
     "name": "stdout",
     "output_type": "stream",
     "text": [
      "\n",
      "-> 6. t2pi_tfidf_sw_model \n",
      "====================================================================================================\n",
      "\n",
      "creating term-term co-occurence pr matrix\n"
     ]
    },
    {
     "data": {
      "application/vnd.jupyter.widget-view+json": {
       "model_id": "f4ce41ed33d746f18fd6bdb866cc2831",
       "version_major": 2,
       "version_minor": 0
      },
      "text/plain": [
       "HBox(children=(HTML(value=''), FloatProgress(value=0.0, max=1073.0), HTML(value='')))"
      ]
     },
     "metadata": {},
     "output_type": "display_data"
    },
    {
     "name": "stdout",
     "output_type": "stream",
     "text": [
      "\n",
      "transforming ...\n"
     ]
    },
    {
     "data": {
      "application/vnd.jupyter.widget-view+json": {
       "model_id": "f882785ae6c14d54a21f72b3cc47f0fc",
       "version_major": 2,
       "version_minor": 0
      },
      "text/plain": [
       "HBox(children=(HTML(value=''), FloatProgress(value=0.0, max=515.0), HTML(value='')))"
      ]
     },
     "metadata": {},
     "output_type": "display_data"
    },
    {
     "name": "stdout",
     "output_type": "stream",
     "text": [
      "\n",
      "transforming ...\n"
     ]
    },
    {
     "data": {
      "application/vnd.jupyter.widget-view+json": {
       "model_id": "556cd3039a8845a19b1cb4f06c7517bc",
       "version_major": 2,
       "version_minor": 0
      },
      "text/plain": [
       "HBox(children=(HTML(value=''), FloatProgress(value=0.0, max=85.0), HTML(value='')))"
      ]
     },
     "metadata": {},
     "output_type": "display_data"
    },
    {
     "name": "stdout",
     "output_type": "stream",
     "text": [
      "\n",
      "-> 7. count_model \n",
      "====================================================================================================\n",
      "\n",
      "-> 7. count_sw_model \n",
      "====================================================================================================\n",
      "\n",
      "-> 7. tfidf_model \n",
      "====================================================================================================\n",
      "\n",
      "-> 7. tfidf_sw_model \n",
      "====================================================================================================\n",
      "\n",
      "-> 7. t2pi_count_model \n",
      "====================================================================================================\n",
      "\n",
      "creating term-term co-occurence pr matrix\n"
     ]
    },
    {
     "data": {
      "application/vnd.jupyter.widget-view+json": {
       "model_id": "4ae8cff16cb743ce9acd9593211dafc2",
       "version_major": 2,
       "version_minor": 0
      },
      "text/plain": [
       "HBox(children=(HTML(value=''), FloatProgress(value=0.0, max=1287.0), HTML(value='')))"
      ]
     },
     "metadata": {},
     "output_type": "display_data"
    },
    {
     "name": "stdout",
     "output_type": "stream",
     "text": [
      "\n",
      "transforming ...\n"
     ]
    },
    {
     "data": {
      "application/vnd.jupyter.widget-view+json": {
       "model_id": "de1cc036d54848b6a9aaf3b24a46fe3f",
       "version_major": 2,
       "version_minor": 0
      },
      "text/plain": [
       "HBox(children=(HTML(value=''), FloatProgress(value=0.0, max=515.0), HTML(value='')))"
      ]
     },
     "metadata": {},
     "output_type": "display_data"
    },
    {
     "name": "stdout",
     "output_type": "stream",
     "text": [
      "\n",
      "transforming ...\n"
     ]
    },
    {
     "data": {
      "application/vnd.jupyter.widget-view+json": {
       "model_id": "16c97d6d30a947f89358bc5d88f4f988",
       "version_major": 2,
       "version_minor": 0
      },
      "text/plain": [
       "HBox(children=(HTML(value=''), FloatProgress(value=0.0, max=85.0), HTML(value='')))"
      ]
     },
     "metadata": {},
     "output_type": "display_data"
    },
    {
     "name": "stdout",
     "output_type": "stream",
     "text": [
      "\n",
      "-> 7. t2pi_count_sw_model \n",
      "====================================================================================================\n",
      "\n",
      "creating term-term co-occurence pr matrix\n"
     ]
    },
    {
     "data": {
      "application/vnd.jupyter.widget-view+json": {
       "model_id": "08cc42ff491c488d9cf25364c4ada525",
       "version_major": 2,
       "version_minor": 0
      },
      "text/plain": [
       "HBox(children=(HTML(value=''), FloatProgress(value=0.0, max=1069.0), HTML(value='')))"
      ]
     },
     "metadata": {},
     "output_type": "display_data"
    },
    {
     "name": "stdout",
     "output_type": "stream",
     "text": [
      "\n",
      "transforming ...\n"
     ]
    },
    {
     "data": {
      "application/vnd.jupyter.widget-view+json": {
       "model_id": "719568330d4b4681a295ae39090fb4a3",
       "version_major": 2,
       "version_minor": 0
      },
      "text/plain": [
       "HBox(children=(HTML(value=''), FloatProgress(value=0.0, max=515.0), HTML(value='')))"
      ]
     },
     "metadata": {},
     "output_type": "display_data"
    },
    {
     "name": "stdout",
     "output_type": "stream",
     "text": [
      "\n",
      "transforming ...\n"
     ]
    },
    {
     "data": {
      "application/vnd.jupyter.widget-view+json": {
       "model_id": "b9c50d2e9ed94e479b3c5ef861ba04b4",
       "version_major": 2,
       "version_minor": 0
      },
      "text/plain": [
       "HBox(children=(HTML(value=''), FloatProgress(value=0.0, max=85.0), HTML(value='')))"
      ]
     },
     "metadata": {},
     "output_type": "display_data"
    },
    {
     "name": "stdout",
     "output_type": "stream",
     "text": [
      "\n",
      "-> 7. t2pi_tfidf_model \n",
      "====================================================================================================\n",
      "\n",
      "creating term-term co-occurence pr matrix\n"
     ]
    },
    {
     "data": {
      "application/vnd.jupyter.widget-view+json": {
       "model_id": "dbba02ac5d8544c5817a74ff713aca88",
       "version_major": 2,
       "version_minor": 0
      },
      "text/plain": [
       "HBox(children=(HTML(value=''), FloatProgress(value=0.0, max=1287.0), HTML(value='')))"
      ]
     },
     "metadata": {},
     "output_type": "display_data"
    },
    {
     "name": "stdout",
     "output_type": "stream",
     "text": [
      "\n",
      "transforming ...\n"
     ]
    },
    {
     "data": {
      "application/vnd.jupyter.widget-view+json": {
       "model_id": "759f0a06834b441099769d9602a7f98e",
       "version_major": 2,
       "version_minor": 0
      },
      "text/plain": [
       "HBox(children=(HTML(value=''), FloatProgress(value=0.0, max=515.0), HTML(value='')))"
      ]
     },
     "metadata": {},
     "output_type": "display_data"
    },
    {
     "name": "stdout",
     "output_type": "stream",
     "text": [
      "\n",
      "transforming ...\n"
     ]
    },
    {
     "data": {
      "application/vnd.jupyter.widget-view+json": {
       "model_id": "46ec925bdce94dddbd5f020bbdb82b83",
       "version_major": 2,
       "version_minor": 0
      },
      "text/plain": [
       "HBox(children=(HTML(value=''), FloatProgress(value=0.0, max=85.0), HTML(value='')))"
      ]
     },
     "metadata": {},
     "output_type": "display_data"
    },
    {
     "name": "stdout",
     "output_type": "stream",
     "text": [
      "\n",
      "-> 7. t2pi_tfidf_sw_model \n",
      "====================================================================================================\n",
      "\n",
      "creating term-term co-occurence pr matrix\n"
     ]
    },
    {
     "data": {
      "application/vnd.jupyter.widget-view+json": {
       "model_id": "5c0c729f27854b15aeb7cb2d4d8adff1",
       "version_major": 2,
       "version_minor": 0
      },
      "text/plain": [
       "HBox(children=(HTML(value=''), FloatProgress(value=0.0, max=1069.0), HTML(value='')))"
      ]
     },
     "metadata": {},
     "output_type": "display_data"
    },
    {
     "name": "stdout",
     "output_type": "stream",
     "text": [
      "\n",
      "transforming ...\n"
     ]
    },
    {
     "data": {
      "application/vnd.jupyter.widget-view+json": {
       "model_id": "cf29fe08ebe94b968f543f7b16fb36ca",
       "version_major": 2,
       "version_minor": 0
      },
      "text/plain": [
       "HBox(children=(HTML(value=''), FloatProgress(value=0.0, max=515.0), HTML(value='')))"
      ]
     },
     "metadata": {},
     "output_type": "display_data"
    },
    {
     "name": "stdout",
     "output_type": "stream",
     "text": [
      "\n",
      "transforming ...\n"
     ]
    },
    {
     "data": {
      "application/vnd.jupyter.widget-view+json": {
       "model_id": "b2322a21772346a4b599d3febab96d52",
       "version_major": 2,
       "version_minor": 0
      },
      "text/plain": [
       "HBox(children=(HTML(value=''), FloatProgress(value=0.0, max=85.0), HTML(value='')))"
      ]
     },
     "metadata": {},
     "output_type": "display_data"
    },
    {
     "name": "stdout",
     "output_type": "stream",
     "text": [
      "\n"
     ]
    }
   ],
   "source": [
    "split_size = 7\n",
    "skf = StratifiedKFold(n_splits=split_size, shuffle=True, random_state=100) \n",
    "\n",
    "index = 0\n",
    "macro_f1_scores, weighted_f1_scores, accuracies = [], [], []\n",
    "\n",
    "for train_index, test_index in skf.split(X, y):\n",
    "    index += 1\n",
    "    \n",
    "    x_train_fold, x_test_fold = X.iloc[train_index], X.iloc[test_index] \n",
    "    y_train_fold, y_test_fold = y.iloc[train_index], y.iloc[test_index]\n",
    "    \n",
    "    accuracies.append([])\n",
    "    macro_f1_scores.append([])\n",
    "    weighted_f1_scores.append([])\n",
    "    \n",
    "    for model_name, model in models.items():\n",
    "        print(f'-> {index}. {model_name} \\n{\"=\"*100}\\n')\n",
    "        model.fit(x_train_fold, y_train_fold)\n",
    "        y_pred = model.predict(x_test_fold)\n",
    "\n",
    "        accuracy = accuracy_score(y_test_fold, y_pred)\n",
    "        weighted_f1_score = calculate_f1_score(y_test_fold, y_pred, average='weighted')\n",
    "        macro_f1_score = calculate_f1_score(y_test_fold, y_pred, average='macro')\n",
    "        \n",
    "        weighted_f1_scores[-1].append(weighted_f1_score)\n",
    "        macro_f1_scores[-1].append(macro_f1_score)\n",
    "        accuracies[-1].append(accuracy)"
   ]
  },
  {
   "cell_type": "code",
   "execution_count": 25,
   "metadata": {
    "id": "x1Jz_zRb0ltz"
   },
   "outputs": [],
   "source": [
    "model_names = list(models.keys())\n",
    "\n",
    "accuracy = pd.DataFrame(data=np.array(accuracies), columns=model_names)\n",
    "weighted_f1_score = pd.DataFrame(data=np.array(weighted_f1_scores), columns=model_names)\n",
    "macro_f1_score = pd.DataFrame(data=np.array(macro_f1_scores), columns=model_names)\n",
    "\n",
    "accuracy.loc[\"mean\"] = accuracy.mean(0)\n",
    "weighted_f1_score.loc[\"mean\"] = weighted_f1_score.mean(0)\n",
    "macro_f1_score.loc[\"mean\"] = macro_f1_score.mean(0)"
   ]
  },
  {
   "cell_type": "code",
   "execution_count": 26,
   "metadata": {
    "scrolled": true
   },
   "outputs": [
    {
     "data": {
      "text/html": [
       "<div>\n",
       "<style scoped>\n",
       "    .dataframe tbody tr th:only-of-type {\n",
       "        vertical-align: middle;\n",
       "    }\n",
       "\n",
       "    .dataframe tbody tr th {\n",
       "        vertical-align: top;\n",
       "    }\n",
       "\n",
       "    .dataframe thead th {\n",
       "        text-align: right;\n",
       "    }\n",
       "</style>\n",
       "<table border=\"1\" class=\"dataframe\">\n",
       "  <thead>\n",
       "    <tr style=\"text-align: right;\">\n",
       "      <th></th>\n",
       "      <th>count_model</th>\n",
       "      <th>count_sw_model</th>\n",
       "      <th>tfidf_model</th>\n",
       "      <th>tfidf_sw_model</th>\n",
       "      <th>t2pi_count_model</th>\n",
       "      <th>t2pi_count_sw_model</th>\n",
       "      <th>t2pi_tfidf_model</th>\n",
       "      <th>t2pi_tfidf_sw_model</th>\n",
       "    </tr>\n",
       "  </thead>\n",
       "  <tbody>\n",
       "    <tr>\n",
       "      <th>0</th>\n",
       "      <td>0.790698</td>\n",
       "      <td>0.790698</td>\n",
       "      <td>0.790698</td>\n",
       "      <td>0.813953</td>\n",
       "      <td>0.779070</td>\n",
       "      <td>0.837209</td>\n",
       "      <td>0.790698</td>\n",
       "      <td>0.825581</td>\n",
       "    </tr>\n",
       "    <tr>\n",
       "      <th>1</th>\n",
       "      <td>0.848837</td>\n",
       "      <td>0.848837</td>\n",
       "      <td>0.790698</td>\n",
       "      <td>0.813953</td>\n",
       "      <td>0.848837</td>\n",
       "      <td>0.860465</td>\n",
       "      <td>0.837209</td>\n",
       "      <td>0.848837</td>\n",
       "    </tr>\n",
       "    <tr>\n",
       "      <th>2</th>\n",
       "      <td>0.767442</td>\n",
       "      <td>0.767442</td>\n",
       "      <td>0.720930</td>\n",
       "      <td>0.779070</td>\n",
       "      <td>0.755814</td>\n",
       "      <td>0.767442</td>\n",
       "      <td>0.755814</td>\n",
       "      <td>0.790698</td>\n",
       "    </tr>\n",
       "    <tr>\n",
       "      <th>3</th>\n",
       "      <td>0.755814</td>\n",
       "      <td>0.755814</td>\n",
       "      <td>0.744186</td>\n",
       "      <td>0.744186</td>\n",
       "      <td>0.744186</td>\n",
       "      <td>0.732558</td>\n",
       "      <td>0.732558</td>\n",
       "      <td>0.720930</td>\n",
       "    </tr>\n",
       "    <tr>\n",
       "      <th>4</th>\n",
       "      <td>0.639535</td>\n",
       "      <td>0.639535</td>\n",
       "      <td>0.651163</td>\n",
       "      <td>0.755814</td>\n",
       "      <td>0.639535</td>\n",
       "      <td>0.732558</td>\n",
       "      <td>0.662791</td>\n",
       "      <td>0.744186</td>\n",
       "    </tr>\n",
       "    <tr>\n",
       "      <th>5</th>\n",
       "      <td>0.705882</td>\n",
       "      <td>0.705882</td>\n",
       "      <td>0.717647</td>\n",
       "      <td>0.729412</td>\n",
       "      <td>0.729412</td>\n",
       "      <td>0.729412</td>\n",
       "      <td>0.729412</td>\n",
       "      <td>0.764706</td>\n",
       "    </tr>\n",
       "    <tr>\n",
       "      <th>6</th>\n",
       "      <td>0.694118</td>\n",
       "      <td>0.694118</td>\n",
       "      <td>0.705882</td>\n",
       "      <td>0.694118</td>\n",
       "      <td>0.670588</td>\n",
       "      <td>0.694118</td>\n",
       "      <td>0.694118</td>\n",
       "      <td>0.705882</td>\n",
       "    </tr>\n",
       "    <tr>\n",
       "      <th>mean</th>\n",
       "      <td>0.743189</td>\n",
       "      <td>0.743189</td>\n",
       "      <td>0.731601</td>\n",
       "      <td>0.761501</td>\n",
       "      <td>0.738206</td>\n",
       "      <td>0.764823</td>\n",
       "      <td>0.743228</td>\n",
       "      <td>0.771546</td>\n",
       "    </tr>\n",
       "  </tbody>\n",
       "</table>\n",
       "</div>"
      ],
      "text/plain": [
       "      count_model  count_sw_model  tfidf_model  tfidf_sw_model  \\\n",
       "0        0.790698        0.790698     0.790698        0.813953   \n",
       "1        0.848837        0.848837     0.790698        0.813953   \n",
       "2        0.767442        0.767442     0.720930        0.779070   \n",
       "3        0.755814        0.755814     0.744186        0.744186   \n",
       "4        0.639535        0.639535     0.651163        0.755814   \n",
       "5        0.705882        0.705882     0.717647        0.729412   \n",
       "6        0.694118        0.694118     0.705882        0.694118   \n",
       "mean     0.743189        0.743189     0.731601        0.761501   \n",
       "\n",
       "      t2pi_count_model  t2pi_count_sw_model  t2pi_tfidf_model  \\\n",
       "0             0.779070             0.837209          0.790698   \n",
       "1             0.848837             0.860465          0.837209   \n",
       "2             0.755814             0.767442          0.755814   \n",
       "3             0.744186             0.732558          0.732558   \n",
       "4             0.639535             0.732558          0.662791   \n",
       "5             0.729412             0.729412          0.729412   \n",
       "6             0.670588             0.694118          0.694118   \n",
       "mean          0.738206             0.764823          0.743228   \n",
       "\n",
       "      t2pi_tfidf_sw_model  \n",
       "0                0.825581  \n",
       "1                0.848837  \n",
       "2                0.790698  \n",
       "3                0.720930  \n",
       "4                0.744186  \n",
       "5                0.764706  \n",
       "6                0.705882  \n",
       "mean             0.771546  "
      ]
     },
     "execution_count": 26,
     "metadata": {},
     "output_type": "execute_result"
    }
   ],
   "source": [
    "accuracy.head(split_size+1)"
   ]
  },
  {
   "cell_type": "code",
   "execution_count": 34,
   "metadata": {},
   "outputs": [
    {
     "data": {
      "image/png": "[encoded data removed]",
      "text/plain": [
       "<Figure size 432x288 with 1 Axes>"
      ]
     },
     "metadata": {
      "needs_background": "light"
     },
     "output_type": "display_data"
    }
   ],
   "source": [
    "plot_bars(accuracy, ylabel=\"accuracy\", ymin=0.72)"
   ]
  },
  {
   "cell_type": "code",
   "execution_count": 35,
   "metadata": {
    "scrolled": true
   },
   "outputs": [
    {
     "data": {
      "text/html": [
       "<div>\n",
       "<style scoped>\n",
       "    .dataframe tbody tr th:only-of-type {\n",
       "        vertical-align: middle;\n",
       "    }\n",
       "\n",
       "    .dataframe tbody tr th {\n",
       "        vertical-align: top;\n",
       "    }\n",
       "\n",
       "    .dataframe thead th {\n",
       "        text-align: right;\n",
       "    }\n",
       "</style>\n",
       "<table border=\"1\" class=\"dataframe\">\n",
       "  <thead>\n",
       "    <tr style=\"text-align: right;\">\n",
       "      <th></th>\n",
       "      <th>count_model</th>\n",
       "      <th>count_sw_model</th>\n",
       "      <th>tfidf_model</th>\n",
       "      <th>tfidf_sw_model</th>\n",
       "      <th>t2pi_count_model</th>\n",
       "      <th>t2pi_count_sw_model</th>\n",
       "      <th>t2pi_tfidf_model</th>\n",
       "      <th>t2pi_tfidf_sw_model</th>\n",
       "    </tr>\n",
       "  </thead>\n",
       "  <tbody>\n",
       "    <tr>\n",
       "      <th>0</th>\n",
       "      <td>0.793588</td>\n",
       "      <td>0.793588</td>\n",
       "      <td>0.792005</td>\n",
       "      <td>0.813405</td>\n",
       "      <td>0.780646</td>\n",
       "      <td>0.838026</td>\n",
       "      <td>0.790735</td>\n",
       "      <td>0.825307</td>\n",
       "    </tr>\n",
       "    <tr>\n",
       "      <th>1</th>\n",
       "      <td>0.848491</td>\n",
       "      <td>0.848491</td>\n",
       "      <td>0.791508</td>\n",
       "      <td>0.813069</td>\n",
       "      <td>0.848610</td>\n",
       "      <td>0.860938</td>\n",
       "      <td>0.837316</td>\n",
       "      <td>0.848837</td>\n",
       "    </tr>\n",
       "    <tr>\n",
       "      <th>2</th>\n",
       "      <td>0.765940</td>\n",
       "      <td>0.765940</td>\n",
       "      <td>0.717751</td>\n",
       "      <td>0.775940</td>\n",
       "      <td>0.752918</td>\n",
       "      <td>0.762584</td>\n",
       "      <td>0.752351</td>\n",
       "      <td>0.787803</td>\n",
       "    </tr>\n",
       "    <tr>\n",
       "      <th>3</th>\n",
       "      <td>0.755232</td>\n",
       "      <td>0.755232</td>\n",
       "      <td>0.742546</td>\n",
       "      <td>0.744384</td>\n",
       "      <td>0.744013</td>\n",
       "      <td>0.731442</td>\n",
       "      <td>0.733177</td>\n",
       "      <td>0.717978</td>\n",
       "    </tr>\n",
       "    <tr>\n",
       "      <th>4</th>\n",
       "      <td>0.633116</td>\n",
       "      <td>0.633116</td>\n",
       "      <td>0.644383</td>\n",
       "      <td>0.751040</td>\n",
       "      <td>0.633116</td>\n",
       "      <td>0.731213</td>\n",
       "      <td>0.660776</td>\n",
       "      <td>0.739650</td>\n",
       "    </tr>\n",
       "    <tr>\n",
       "      <th>5</th>\n",
       "      <td>0.703328</td>\n",
       "      <td>0.703328</td>\n",
       "      <td>0.715738</td>\n",
       "      <td>0.730247</td>\n",
       "      <td>0.727592</td>\n",
       "      <td>0.729392</td>\n",
       "      <td>0.727805</td>\n",
       "      <td>0.765708</td>\n",
       "    </tr>\n",
       "    <tr>\n",
       "      <th>6</th>\n",
       "      <td>0.693308</td>\n",
       "      <td>0.693308</td>\n",
       "      <td>0.704881</td>\n",
       "      <td>0.693997</td>\n",
       "      <td>0.669074</td>\n",
       "      <td>0.694041</td>\n",
       "      <td>0.694385</td>\n",
       "      <td>0.705617</td>\n",
       "    </tr>\n",
       "    <tr>\n",
       "      <th>mean</th>\n",
       "      <td>0.741857</td>\n",
       "      <td>0.741857</td>\n",
       "      <td>0.729830</td>\n",
       "      <td>0.760297</td>\n",
       "      <td>0.736567</td>\n",
       "      <td>0.763948</td>\n",
       "      <td>0.742363</td>\n",
       "      <td>0.770129</td>\n",
       "    </tr>\n",
       "  </tbody>\n",
       "</table>\n",
       "</div>"
      ],
      "text/plain": [
       "      count_model  count_sw_model  tfidf_model  tfidf_sw_model  \\\n",
       "0        0.793588        0.793588     0.792005        0.813405   \n",
       "1        0.848491        0.848491     0.791508        0.813069   \n",
       "2        0.765940        0.765940     0.717751        0.775940   \n",
       "3        0.755232        0.755232     0.742546        0.744384   \n",
       "4        0.633116        0.633116     0.644383        0.751040   \n",
       "5        0.703328        0.703328     0.715738        0.730247   \n",
       "6        0.693308        0.693308     0.704881        0.693997   \n",
       "mean     0.741857        0.741857     0.729830        0.760297   \n",
       "\n",
       "      t2pi_count_model  t2pi_count_sw_model  t2pi_tfidf_model  \\\n",
       "0             0.780646             0.838026          0.790735   \n",
       "1             0.848610             0.860938          0.837316   \n",
       "2             0.752918             0.762584          0.752351   \n",
       "3             0.744013             0.731442          0.733177   \n",
       "4             0.633116             0.731213          0.660776   \n",
       "5             0.727592             0.729392          0.727805   \n",
       "6             0.669074             0.694041          0.694385   \n",
       "mean          0.736567             0.763948          0.742363   \n",
       "\n",
       "      t2pi_tfidf_sw_model  \n",
       "0                0.825307  \n",
       "1                0.848837  \n",
       "2                0.787803  \n",
       "3                0.717978  \n",
       "4                0.739650  \n",
       "5                0.765708  \n",
       "6                0.705617  \n",
       "mean             0.770129  "
      ]
     },
     "execution_count": 35,
     "metadata": {},
     "output_type": "execute_result"
    }
   ],
   "source": [
    "weighted_f1_score.head(split_size+1)"
   ]
  },
  {
   "cell_type": "code",
   "execution_count": 36,
   "metadata": {},
   "outputs": [
    {
     "data": {
      "image/png": "[encoded data removed]",
      "text/plain": [
       "<Figure size 432x288 with 1 Axes>"
      ]
     },
     "metadata": {
      "needs_background": "light"
     },
     "output_type": "display_data"
    }
   ],
   "source": [
    "plot_bars(weighted_f1_score, ylabel=\"weighted_f1_score\", ymin=0.72)"
   ]
  },
  {
   "cell_type": "code",
   "execution_count": 37,
   "metadata": {
    "id": "OnrrVJHU0lt9",
    "scrolled": false
   },
   "outputs": [
    {
     "data": {
      "text/html": [
       "<div>\n",
       "<style scoped>\n",
       "    .dataframe tbody tr th:only-of-type {\n",
       "        vertical-align: middle;\n",
       "    }\n",
       "\n",
       "    .dataframe tbody tr th {\n",
       "        vertical-align: top;\n",
       "    }\n",
       "\n",
       "    .dataframe thead th {\n",
       "        text-align: right;\n",
       "    }\n",
       "</style>\n",
       "<table border=\"1\" class=\"dataframe\">\n",
       "  <thead>\n",
       "    <tr style=\"text-align: right;\">\n",
       "      <th></th>\n",
       "      <th>count_model</th>\n",
       "      <th>count_sw_model</th>\n",
       "      <th>tfidf_model</th>\n",
       "      <th>tfidf_sw_model</th>\n",
       "      <th>t2pi_count_model</th>\n",
       "      <th>t2pi_count_sw_model</th>\n",
       "      <th>t2pi_tfidf_model</th>\n",
       "      <th>t2pi_tfidf_sw_model</th>\n",
       "    </tr>\n",
       "  </thead>\n",
       "  <tbody>\n",
       "    <tr>\n",
       "      <th>0</th>\n",
       "      <td>0.793105</td>\n",
       "      <td>0.793105</td>\n",
       "      <td>0.791674</td>\n",
       "      <td>0.813710</td>\n",
       "      <td>0.780392</td>\n",
       "      <td>0.838588</td>\n",
       "      <td>0.791070</td>\n",
       "      <td>0.825896</td>\n",
       "    </tr>\n",
       "    <tr>\n",
       "      <th>1</th>\n",
       "      <td>0.848370</td>\n",
       "      <td>0.848370</td>\n",
       "      <td>0.791588</td>\n",
       "      <td>0.812626</td>\n",
       "      <td>0.848722</td>\n",
       "      <td>0.860613</td>\n",
       "      <td>0.837459</td>\n",
       "      <td>0.848787</td>\n",
       "    </tr>\n",
       "    <tr>\n",
       "      <th>2</th>\n",
       "      <td>0.766720</td>\n",
       "      <td>0.766720</td>\n",
       "      <td>0.718401</td>\n",
       "      <td>0.775478</td>\n",
       "      <td>0.753387</td>\n",
       "      <td>0.762010</td>\n",
       "      <td>0.752624</td>\n",
       "      <td>0.787701</td>\n",
       "    </tr>\n",
       "    <tr>\n",
       "      <th>3</th>\n",
       "      <td>0.754968</td>\n",
       "      <td>0.754968</td>\n",
       "      <td>0.742405</td>\n",
       "      <td>0.743709</td>\n",
       "      <td>0.743818</td>\n",
       "      <td>0.730341</td>\n",
       "      <td>0.733305</td>\n",
       "      <td>0.716959</td>\n",
       "    </tr>\n",
       "    <tr>\n",
       "      <th>4</th>\n",
       "      <td>0.632754</td>\n",
       "      <td>0.632754</td>\n",
       "      <td>0.643963</td>\n",
       "      <td>0.751143</td>\n",
       "      <td>0.632754</td>\n",
       "      <td>0.731071</td>\n",
       "      <td>0.660436</td>\n",
       "      <td>0.739606</td>\n",
       "    </tr>\n",
       "    <tr>\n",
       "      <th>5</th>\n",
       "      <td>0.702384</td>\n",
       "      <td>0.702384</td>\n",
       "      <td>0.714735</td>\n",
       "      <td>0.730082</td>\n",
       "      <td>0.726937</td>\n",
       "      <td>0.729081</td>\n",
       "      <td>0.726503</td>\n",
       "      <td>0.765829</td>\n",
       "    </tr>\n",
       "    <tr>\n",
       "      <th>6</th>\n",
       "      <td>0.693096</td>\n",
       "      <td>0.693096</td>\n",
       "      <td>0.704661</td>\n",
       "      <td>0.693601</td>\n",
       "      <td>0.669103</td>\n",
       "      <td>0.693838</td>\n",
       "      <td>0.694186</td>\n",
       "      <td>0.705514</td>\n",
       "    </tr>\n",
       "    <tr>\n",
       "      <th>mean</th>\n",
       "      <td>0.741628</td>\n",
       "      <td>0.741628</td>\n",
       "      <td>0.729632</td>\n",
       "      <td>0.760050</td>\n",
       "      <td>0.736445</td>\n",
       "      <td>0.763649</td>\n",
       "      <td>0.742226</td>\n",
       "      <td>0.770042</td>\n",
       "    </tr>\n",
       "  </tbody>\n",
       "</table>\n",
       "</div>"
      ],
      "text/plain": [
       "      count_model  count_sw_model  tfidf_model  tfidf_sw_model  \\\n",
       "0        0.793105        0.793105     0.791674        0.813710   \n",
       "1        0.848370        0.848370     0.791588        0.812626   \n",
       "2        0.766720        0.766720     0.718401        0.775478   \n",
       "3        0.754968        0.754968     0.742405        0.743709   \n",
       "4        0.632754        0.632754     0.643963        0.751143   \n",
       "5        0.702384        0.702384     0.714735        0.730082   \n",
       "6        0.693096        0.693096     0.704661        0.693601   \n",
       "mean     0.741628        0.741628     0.729632        0.760050   \n",
       "\n",
       "      t2pi_count_model  t2pi_count_sw_model  t2pi_tfidf_model  \\\n",
       "0             0.780392             0.838588          0.791070   \n",
       "1             0.848722             0.860613          0.837459   \n",
       "2             0.753387             0.762010          0.752624   \n",
       "3             0.743818             0.730341          0.733305   \n",
       "4             0.632754             0.731071          0.660436   \n",
       "5             0.726937             0.729081          0.726503   \n",
       "6             0.669103             0.693838          0.694186   \n",
       "mean          0.736445             0.763649          0.742226   \n",
       "\n",
       "      t2pi_tfidf_sw_model  \n",
       "0                0.825896  \n",
       "1                0.848787  \n",
       "2                0.787701  \n",
       "3                0.716959  \n",
       "4                0.739606  \n",
       "5                0.765829  \n",
       "6                0.705514  \n",
       "mean             0.770042  "
      ]
     },
     "execution_count": 37,
     "metadata": {},
     "output_type": "execute_result"
    }
   ],
   "source": [
    "macro_f1_score.head(split_size+1)"
   ]
  },
  {
   "cell_type": "code",
   "execution_count": 38,
   "metadata": {},
   "outputs": [
    {
     "data": {
      "image/png": "[encoded data removed]",
      "text/plain": [
       "<Figure size 432x288 with 1 Axes>"
      ]
     },
     "metadata": {
      "needs_background": "light"
     },
     "output_type": "display_data"
    }
   ],
   "source": [
    "plot_bars(macro_f1_score, ylabel=\"macro_f1_score\", ymin=0.72)"
   ]
  },
  {
   "cell_type": "code",
   "execution_count": null,
   "metadata": {},
   "outputs": [],
   "source": []
  }
 ],
 "metadata": {
  "colab": {
   "collapsed_sections": [],
   "name": "Recursive word-word inference-colab.ipynb",
   "provenance": []
  },
  "kernelspec": {
   "display_name": "Python 3",
   "language": "python",
   "name": "python3"
  },
  "language_info": {
   "codemirror_mode": {
    "name": "ipython",
    "version": 3
   },
   "file_extension": ".py",
   "mimetype": "text/x-python",
   "name": "python",
   "nbconvert_exporter": "python",
   "pygments_lexer": "ipython3",
   "version": "3.8.5"
  }
 },
 "nbformat": 4,
 "nbformat_minor": 1
}

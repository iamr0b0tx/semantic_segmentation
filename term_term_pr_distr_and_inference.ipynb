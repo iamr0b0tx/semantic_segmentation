{
 "cells": [
  {
   "cell_type": "markdown",
   "metadata": {
    "id": "1mW_XQex0lqn"
   },
   "source": [
    "#### autoreload modules and utilities"
   ]
  },
  {
   "cell_type": "code",
   "execution_count": 1,
   "metadata": {
    "id": "pvzSMjy60lqr"
   },
   "outputs": [],
   "source": [
    "%load_ext autoreload\n",
    "%autoreload 2"
   ]
  },
  {
   "cell_type": "markdown",
   "metadata": {
    "id": "57UHx9Rl0lq5"
   },
   "source": [
    "#### import all neceesary libraries/packages"
   ]
  },
  {
   "cell_type": "code",
   "execution_count": 2,
   "metadata": {
    "id": "vxe4EvZB0lq7"
   },
   "outputs": [],
   "source": [
    "import joblib\n",
    "\n",
    "import numpy as np \n",
    "import pandas as pd\n",
    "\n",
    "from tqdm.notebook import tqdm\n",
    "import matplotlib.pyplot as plt \n",
    "\n",
    "from scipy.stats import entropy as calculate_entropy\n",
    "\n",
    "from sklearn.datasets import fetch_20newsgroups\n",
    "from sklearn.model_selection import StratifiedShuffleSplit\n",
    "\n",
    "from sklearn.pipeline import Pipeline \n",
    "from sklearn.naive_bayes import MultinomialNB\n",
    "from sklearn.feature_extraction.text import CountVectorizer, TfidfTransformer\n",
    "\n",
    "from sklearn.metrics import classification_report, accuracy_score\n",
    "from sklearn.metrics import f1_score as calculate_f1_score\n",
    "from sklearn.model_selection import train_test_split, StratifiedKFold "
   ]
  },
  {
   "cell_type": "markdown",
   "metadata": {
    "id": "OFluJVQs0lrF"
   },
   "source": [
    "#### Utility functions"
   ]
  },
  {
   "cell_type": "code",
   "execution_count": 7,
   "metadata": {
    "colab": {
     "base_uri": "https://localhost:8080/"
    },
    "id": "dB1v8YR30lrH",
    "outputId": "a464c3d0-f916-4752-9179-1a2bac9e2c4b"
   },
   "outputs": [
    {
     "name": "stderr",
     "output_type": "stream",
     "text": [
      "[nltk_data] Downloading package stopwords to\n",
      "[nltk_data]     C:\\Users\\christian\\AppData\\Roaming\\nltk_data...\n",
      "[nltk_data]   Package stopwords is already up-to-date!\n",
      "[nltk_data] Downloading package wordnet to\n",
      "[nltk_data]     C:\\Users\\christian\\AppData\\Roaming\\nltk_data...\n",
      "[nltk_data]   Package wordnet is already up-to-date!\n"
     ]
    }
   ],
   "source": [
    "## utilities\n",
    "# from utils import clean_text\n",
    "\n",
    "import string\n",
    "\n",
    "from sklearn.base import TransformerMixin\n",
    "\n",
    "import nltk\n",
    "from nltk import word_tokenize\n",
    "from nltk.stem import WordNetLemmatizer\n",
    "\n",
    "\n",
    "nltk.download('stopwords')\n",
    "nltk.download('wordnet')\n",
    "\n",
    "wordnet_lemmatizer = WordNetLemmatizer()\n",
    "\n",
    "def clean_text(text: str, lemmatizer = None) -> str:\n",
    "    # removes upper cases\n",
    "    text = text.lower().strip()\n",
    "    \n",
    "    # removes punctuation\n",
    "    for char in string.punctuation:\n",
    "        text = text.replace(char, \"\")\n",
    "    \n",
    "    #lematize the words and join back into string text\n",
    "    if lemmatizer is not None:\n",
    "        text = \" \".join([lemmatizer(word) for word in word_tokenize(text)])\n",
    "        \n",
    "    return text\n",
    "\n",
    "def calculate_sparsity(matrix):\n",
    "    non_zero = np.count_nonzero(matrix)\n",
    "    total_val = np.product(matrix.shape)\n",
    "    sparsity = (total_val - non_zero) / total_val\n",
    "    return sparsity\n",
    "\n",
    "def data_isvalid(text, analyser, min_character_size, max_character_size):\n",
    "    return min_character_size <= len(analyser(text)) <= max_character_size \n",
    "\n",
    "def get_pipeline(count_vectorizer, classifier, lemmatizer, t2pi_transformer, tfidf_transformer):\n",
    "    models = [\n",
    "        ('clean_text', CleanTextTransformer(lemmatizer)),\n",
    "        ('vectorizer', count_vectorizer)\n",
    "    ]\n",
    "    \n",
    "    if tfidf_transformer is not None:\n",
    "        models.append(('tfidf_transformer', tfidf_transformer))\n",
    "        \n",
    "    models.append(\n",
    "        ('dense', DenseTransformer(count_vectorizer=count_vectorizer))\n",
    "    )\n",
    "    \n",
    "    if t2pi_transformer is not None:\n",
    "        models.append(('t2pi_transformer', t2pi_transformer))\n",
    "    \n",
    "    models.append(('classifier', classifier))\n",
    "    return Pipeline(models)\n",
    "\n",
    "def get_model(classifier, tfidf=False, use_t2pi=False, lemmatizer=None, return_t2pi=False, stop_words=\"english\"):\n",
    "    count_vectorizer = CountVectorizer(stop_words=stop_words)\n",
    "    tfidf_transformer = TfidfTransformer() if tfidf else None\n",
    "    t2pi_transformer = T2PITransformer() if use_t2pi else None\n",
    "    \n",
    "    if return_t2pi:\n",
    "        return get_pipeline(count_vectorizer, classifier, lemmatizer, t2pi_transformer, tfidf_transformer), t2pi_transformer\n",
    "    \n",
    "    # normal model\n",
    "    return get_pipeline(count_vectorizer, classifier, lemmatizer, t2pi_transformer, tfidf_transformer)\n",
    "\n",
    "class CleanTextTransformer(TransformerMixin):\n",
    "    def __init__(self, lemmatizer):\n",
    "        self._lemmatizer = lemmatizer\n",
    "        \n",
    "    def fit(self, X, y=None, **fit_params):\n",
    "        return self\n",
    "\n",
    "    def transform(self, X, y=None, **fit_params):\n",
    "        return np.vectorize(lambda x: clean_text(x, self._lemmatizer))(X)\n",
    "    \n",
    "    def __str__(self):\n",
    "        return \"CleanTextTransformer()\"\n",
    "    \n",
    "    def __repr__(self):\n",
    "        return self.__str__()\n",
    "    \n",
    "class DenseTransformer(TransformerMixin):\n",
    "    def __init__(self, count_vectorizer):\n",
    "        self.count_vectorizer = count_vectorizer\n",
    "        \n",
    "    def fit(self, X, y=None, **fit_params):\n",
    "        return self\n",
    "\n",
    "    def transform(self, X, y=None, **fit_params):\n",
    "        return pd.DataFrame(data=X.todense(), columns=self.count_vectorizer.get_feature_names())\n",
    "    \n",
    "    def __str__(self):\n",
    "        return \"DenseTransformer()\"\n",
    "    \n",
    "    def __repr__(self):\n",
    "        return self.__str__()\n",
    "    \n",
    "class T2PITransformer(TransformerMixin):\n",
    "    @staticmethod\n",
    "    def _max_weight(x, pbar, word_word_pr_distr_prime):\n",
    "        pbar.update(1)\n",
    "        return word_word_pr_distr_prime.apply(lambda y: x*y, axis=0).max(0)\n",
    "    \n",
    "    @staticmethod\n",
    "    def _sum_weight(x, pbar, word_word_pr_distr_prime):\n",
    "        pbar.update(1)\n",
    "        return word_word_pr_distr_prime.apply(lambda y: x*y, axis=0).sum(0)\n",
    "        \n",
    "    def fit(self, X, y=None, **fit_params):\n",
    "        print(\"creating term-term co-occurence pr matrix\")\n",
    "        word_word_pr_distr = pd.DataFrame(data=0.0, columns=X.columns, index=X.columns)\n",
    "        \n",
    "        n = word_word_pr_distr.shape[1]\n",
    "        for term in tqdm(X.columns):\n",
    "            word_word_pr_distr[term] = X[X[term] > 0].sum(0) / X.sum(0)\n",
    "#             word_word_pr_distr[term] *= np.log((1 + n) / (1 + (word_word_pr_distr[term] > 0).sum())) + 1\n",
    "#             f = (1+word_word_pr_distr[term])\n",
    "#             word_word_pr_distr[term] = calculate_entropy(f) / f\n",
    "        \n",
    "        self.word_word_pr_distr = word_word_pr_distr\n",
    "        return self\n",
    "\n",
    "    def transform(self, X, y=None, **fit_params):\n",
    "        print(\"transforming ...\")\n",
    "        \n",
    "        # new_sparsity after transform\n",
    "        sparsity_before = calculate_sparsity(X)\n",
    "        \n",
    "        with tqdm(total=X.shape[0]) as pbar:\n",
    "            X = X.apply(self._sum_weight, axis=1, args=(pbar, self.word_word_pr_distr))\n",
    "            \n",
    "        # new_sparsity after transform\n",
    "        sparsity_after = calculate_sparsity(X)\n",
    "        \n",
    "        print(\"sparsity(X):\")\n",
    "        print(f\"=> before {sparsity_before:.4f}\")\n",
    "        print(f\"=>  after {sparsity_after:.4f}\")\n",
    "        print()\n",
    "        \n",
    "        return X\n",
    "    \n",
    "    def __str__(self):\n",
    "        return \"T2PITransformer()\"\n",
    "    \n",
    "    def __repr__(self):\n",
    "        return self.__str__()"
   ]
  },
  {
   "cell_type": "markdown",
   "metadata": {
    "id": "o7XG67xP0lrR"
   },
   "source": [
    "# Load Data"
   ]
  },
  {
   "cell_type": "code",
   "execution_count": 8,
   "metadata": {
    "colab": {
     "base_uri": "https://localhost:8080/"
    },
    "id": "QchLUSP50lrU",
    "outputId": "df541392-05bf-4e19-c453-ee8785b4ff07"
   },
   "outputs": [],
   "source": [
    "# total number of samples needed\n",
    "randomize = False\n",
    "\n",
    "# retrieve dataset\n",
    "categories = ['rec.autos', 'talk.politics.mideast', 'alt.atheism', 'sci.space']\n",
    "\n",
    "all_docs = fetch_20newsgroups(subset='train', shuffle=randomize, remove=('headers', 'footers', 'quotes'), categories=categories)\n",
    "categories = all_docs.target_names"
   ]
  },
  {
   "cell_type": "code",
   "execution_count": 9,
   "metadata": {
    "colab": {
     "base_uri": "https://localhost:8080/"
    },
    "id": "3zYt2cf_0lre",
    "outputId": "34b88acf-7882-45f0-edab-80dd9dfefe0e"
   },
   "outputs": [
    {
     "name": "stdout",
     "output_type": "stream",
     "text": [
      "\n",
      "\n",
      "I think that domestication will change behavior to a large degree.\n",
      "Domesticated animals exhibit behaviors not found in the wild.  I\n",
      "don't think that they can be viewed as good representatives of the\n",
      "wild animal kingdom, since they have been bred for thousands of years\n",
      "to produce certain behaviors, etc.\n"
     ]
    }
   ],
   "source": [
    "print(all_docs.data[0])"
   ]
  },
  {
   "cell_type": "markdown",
   "metadata": {
    "id": "j8mr5IG60lrq"
   },
   "source": [
    "### Create Dataframe"
   ]
  },
  {
   "cell_type": "code",
   "execution_count": 10,
   "metadata": {
    "colab": {
     "base_uri": "https://localhost:8080/"
    },
    "id": "hf7uQyxi0lrr",
    "outputId": "d02f03ea-6d94-4e92-feba-1795bb8073f9"
   },
   "outputs": [
    {
     "data": {
      "text/html": [
       "<div>\n",
       "<style scoped>\n",
       "    .dataframe tbody tr th:only-of-type {\n",
       "        vertical-align: middle;\n",
       "    }\n",
       "\n",
       "    .dataframe tbody tr th {\n",
       "        vertical-align: top;\n",
       "    }\n",
       "\n",
       "    .dataframe thead th {\n",
       "        text-align: right;\n",
       "    }\n",
       "</style>\n",
       "<table border=\"1\" class=\"dataframe\">\n",
       "  <thead>\n",
       "    <tr style=\"text-align: right;\">\n",
       "      <th></th>\n",
       "      <th>text</th>\n",
       "      <th>label</th>\n",
       "    </tr>\n",
       "  </thead>\n",
       "  <tbody>\n",
       "    <tr>\n",
       "      <th>0</th>\n",
       "      <td>\\n\\nI think that domestication will change beh...</td>\n",
       "      <td>0</td>\n",
       "    </tr>\n",
       "    <tr>\n",
       "      <th>1</th>\n",
       "      <td>\\nI don't like this comment about \"Typical\" th...</td>\n",
       "      <td>3</td>\n",
       "    </tr>\n",
       "    <tr>\n",
       "      <th>2</th>\n",
       "      <td>\\n&lt;apparently you're not a woman - my husband ...</td>\n",
       "      <td>1</td>\n",
       "    </tr>\n",
       "    <tr>\n",
       "      <th>3</th>\n",
       "      <td>While not exactly a service incident, I had a ...</td>\n",
       "      <td>1</td>\n",
       "    </tr>\n",
       "    <tr>\n",
       "      <th>4</th>\n",
       "      <td>\\n\\nI think I can. Largely as a result of effo...</td>\n",
       "      <td>2</td>\n",
       "    </tr>\n",
       "  </tbody>\n",
       "</table>\n",
       "</div>"
      ],
      "text/plain": [
       "                                                text  label\n",
       "0  \\n\\nI think that domestication will change beh...      0\n",
       "1  \\nI don't like this comment about \"Typical\" th...      3\n",
       "2  \\n<apparently you're not a woman - my husband ...      1\n",
       "3  While not exactly a service incident, I had a ...      1\n",
       "4  \\n\\nI think I can. Largely as a result of effo...      2"
      ]
     },
     "execution_count": 10,
     "metadata": {},
     "output_type": "execute_result"
    }
   ],
   "source": [
    "data = pd.DataFrame(\n",
    "    data={\n",
    "        \"text\":all_docs.data, \n",
    "        \"label\":all_docs.target\n",
    "    }\n",
    ")\n",
    "\n",
    "data.head()"
   ]
  },
  {
   "cell_type": "markdown",
   "metadata": {
    "id": "1y9aLPrC0lr4"
   },
   "source": [
    "### Label Frequency"
   ]
  },
  {
   "cell_type": "code",
   "execution_count": 11,
   "metadata": {
    "colab": {
     "base_uri": "https://localhost:8080/"
    },
    "id": "lsJjsIi20lr6",
    "outputId": "aa9e2961-78a4-4c23-b1af-6314bddbb1dc"
   },
   "outputs": [
    {
     "name": "stdout",
     "output_type": "stream",
     "text": [
      "1    594\n",
      "2    593\n",
      "3    564\n",
      "0    480\n",
      "Name: label, dtype: int64\n",
      "\n"
     ]
    },
    {
     "data": {
      "image/png": "[encoded data removed]",
      "text/plain": [
       "<Figure size 432x288 with 1 Axes>"
      ]
     },
     "metadata": {
      "needs_background": "light"
     },
     "output_type": "display_data"
    }
   ],
   "source": [
    "print(data[\"label\"].value_counts())\n",
    "print()\n",
    "\n",
    "barlist = plt.bar(categories, data[\"label\"].value_counts())\n",
    "\n",
    "plt.title(\"Frequency of documents\")\n",
    "plt.xticks(categories, list(map(lambda x: x.split(\".\")[1], categories)))\n",
    "plt.ylabel('Number of documents')\n",
    "plt.xlabel('Sentiment expressed in Reviews')\n",
    "\n",
    "barlist[0].set_color('red')\n",
    "barlist[1].set_color('green')\n",
    "barlist[2].set_color('blue')\n",
    "barlist[3].set_color('grey')\n",
    "plt.show()"
   ]
  },
  {
   "cell_type": "markdown",
   "metadata": {
    "id": "Z3rWhz2Q0lsD"
   },
   "source": [
    "The Dataset labels needs to be balanced"
   ]
  },
  {
   "cell_type": "markdown",
   "metadata": {
    "id": "zgT_qPvT0lsF"
   },
   "source": [
    "# Select Valid Data"
   ]
  },
  {
   "cell_type": "code",
   "execution_count": 12,
   "metadata": {
    "colab": {
     "base_uri": "https://localhost:8080/"
    },
    "id": "GxoJgJTq0lsH",
    "outputId": "90b722d1-18e1-443a-dd02-ea8dde6f8743",
    "scrolled": false
   },
   "outputs": [
    {
     "data": {
      "text/html": [
       "<div>\n",
       "<style scoped>\n",
       "    .dataframe tbody tr th:only-of-type {\n",
       "        vertical-align: middle;\n",
       "    }\n",
       "\n",
       "    .dataframe tbody tr th {\n",
       "        vertical-align: top;\n",
       "    }\n",
       "\n",
       "    .dataframe thead th {\n",
       "        text-align: right;\n",
       "    }\n",
       "</style>\n",
       "<table border=\"1\" class=\"dataframe\">\n",
       "  <thead>\n",
       "    <tr style=\"text-align: right;\">\n",
       "      <th></th>\n",
       "      <th>text</th>\n",
       "      <th>label</th>\n",
       "    </tr>\n",
       "  </thead>\n",
       "  <tbody>\n",
       "    <tr>\n",
       "      <th>0</th>\n",
       "      <td>\\n\\nI think that domestication will change beh...</td>\n",
       "      <td>0</td>\n",
       "    </tr>\n",
       "    <tr>\n",
       "      <th>30</th>\n",
       "      <td>\\n[rest deleted...]\\n\\nYou were a liberal arts...</td>\n",
       "      <td>0</td>\n",
       "    </tr>\n",
       "    <tr>\n",
       "      <th>36</th>\n",
       "      <td>\\nWorse?  Maybe not, but it is definately a vi...</td>\n",
       "      <td>0</td>\n",
       "    </tr>\n",
       "    <tr>\n",
       "      <th>63</th>\n",
       "      <td>\\nCould you expand on your definition of knowi...</td>\n",
       "      <td>0</td>\n",
       "    </tr>\n",
       "    <tr>\n",
       "      <th>65</th>\n",
       "      <td>\\nLooking at historical evidence such 'perfect...</td>\n",
       "      <td>0</td>\n",
       "    </tr>\n",
       "  </tbody>\n",
       "</table>\n",
       "</div>"
      ],
      "text/plain": [
       "                                                 text  label\n",
       "0   \\n\\nI think that domestication will change beh...      0\n",
       "30  \\n[rest deleted...]\\n\\nYou were a liberal arts...      0\n",
       "36  \\nWorse?  Maybe not, but it is definately a vi...      0\n",
       "63  \\nCould you expand on your definition of knowi...      0\n",
       "65  \\nLooking at historical evidence such 'perfect...      0"
      ]
     },
     "execution_count": 12,
     "metadata": {},
     "output_type": "execute_result"
    }
   ],
   "source": [
    "max_size_per_class = 100\n",
    "\n",
    "# remove long text\n",
    "indices = data[\"text\"].apply(data_isvalid, args=(lambda x: clean_text(x, wordnet_lemmatizer.lemmatize), 256, 512))\n",
    "data = data[indices]\n",
    "\n",
    "# make classes balanced\n",
    "class_indices = []\n",
    "\n",
    "for index in range(4):\n",
    "    class_indices.append(np.where((data[\"label\"] == index))[0])\n",
    "    \n",
    "size_per_class = min(max_size_per_class, min(map(len, class_indices)))\n",
    "indices = np.concatenate([class_ids[:size_per_class] for class_ids in class_indices])\n",
    "\n",
    "data = data.iloc[indices]\n",
    "\n",
    "data.head()"
   ]
  },
  {
   "cell_type": "code",
   "execution_count": 13,
   "metadata": {
    "colab": {
     "base_uri": "https://localhost:8080/"
    },
    "id": "EmPNliV60lsQ",
    "outputId": "66df7f82-bc81-474a-ce90-14be5257dcfe"
   },
   "outputs": [
    {
     "name": "stdout",
     "output_type": "stream",
     "text": [
      "\n",
      "\n",
      "I think that domestication will change behavior to a large degree.\n",
      "Domesticated animals exhibit behaviors not found in the wild.  I\n",
      "don't think that they can be viewed as good representatives of the\n",
      "wild animal kingdom, since they have been bred for thousands of years\n",
      "to produce certain behaviors, etc.\n"
     ]
    }
   ],
   "source": [
    "print(data.iloc[0][\"text\"])"
   ]
  },
  {
   "cell_type": "code",
   "execution_count": 14,
   "metadata": {
    "colab": {
     "base_uri": "https://localhost:8080/"
    },
    "id": "a05palir0lsZ",
    "outputId": "ab28dce8-66ee-4307-fc1b-7032668016ca"
   },
   "outputs": [
    {
     "name": "stdout",
     "output_type": "stream",
     "text": [
      "3    93\n",
      "2    93\n",
      "1    93\n",
      "0    93\n",
      "Name: label, dtype: int64\n",
      "\n"
     ]
    },
    {
     "data": {
      "image/png": "[encoded data removed]",
      "text/plain": [
       "<Figure size 432x288 with 1 Axes>"
      ]
     },
     "metadata": {
      "needs_background": "light"
     },
     "output_type": "display_data"
    }
   ],
   "source": [
    "print(data[\"label\"].value_counts())\n",
    "print()\n",
    "\n",
    "barlist = plt.bar(categories, data[\"label\"].value_counts())\n",
    "\n",
    "plt.title(\"Frequency of documents\")\n",
    "plt.xticks(categories, list(map(lambda x: x.split(\".\")[1], categories)))\n",
    "plt.ylabel('Number of documents')\n",
    "plt.xlabel('Sentiment expressed in Reviews')\n",
    "\n",
    "barlist[0].set_color('red')\n",
    "barlist[1].set_color('green')\n",
    "barlist[2].set_color('blue')\n",
    "barlist[3].set_color('grey')\n",
    "plt.show()"
   ]
  },
  {
   "cell_type": "markdown",
   "metadata": {
    "id": "4XkH4IGt0lsk"
   },
   "source": [
    "### initialize input and output"
   ]
  },
  {
   "cell_type": "code",
   "execution_count": 15,
   "metadata": {
    "id": "dEMn9hD40lsl"
   },
   "outputs": [],
   "source": [
    "X = data[\"text\"]\n",
    "y = data['label']\n",
    "\n",
    "X_train, X_test, y_train, y_test = train_test_split(X, y, test_size=0.25, random_state=42)"
   ]
  },
  {
   "cell_type": "markdown",
   "metadata": {
    "id": "NM1HNxZN0lsu"
   },
   "source": [
    "### initialize recursive word infer model"
   ]
  },
  {
   "cell_type": "code",
   "execution_count": 16,
   "metadata": {},
   "outputs": [],
   "source": [
    "def get_classifier():\n",
    "    return MultinomialNB()"
   ]
  },
  {
   "cell_type": "code",
   "execution_count": 18,
   "metadata": {
    "id": "aahIO3Vu0lsv"
   },
   "outputs": [],
   "source": [
    "# initialize model\n",
    "t2pi_model, t2pi_transformer = get_model(use_t2pi=True, return_t2pi=True, classifier=get_classifier())\n",
    "\n",
    "# fit model\n",
    "# t2pi_model.fit(X_train, y_train)"
   ]
  },
  {
   "cell_type": "code",
   "execution_count": 19,
   "metadata": {
    "id": "gRkaXwu10ltd",
    "scrolled": true
   },
   "outputs": [],
   "source": [
    "# y_pred = t2pi_model.predict(X_test) #predict testing data\n",
    "\n",
    "# print(classification_report(y_test, y_pred))"
   ]
  },
  {
   "cell_type": "markdown",
   "metadata": {
    "id": "9_7bBVlY0ltn"
   },
   "source": [
    "### Initialize models"
   ]
  },
  {
   "cell_type": "code",
   "execution_count": 20,
   "metadata": {
    "id": "2lYsESOf0lto"
   },
   "outputs": [],
   "source": [
    "# normal model\n",
    "count_model = get_model(stop_words=None, classifier=get_classifier())\n",
    "count_sw_model = get_model(stop_words=\"english\", classifier=get_classifier())\n",
    "\n",
    "tfidf_model = get_model(tfidf=True, stop_words=None, classifier=get_classifier())\n",
    "tfidf_sw_model = get_model(tfidf=True, stop_words=\"english\", classifier=get_classifier())\n",
    "\n",
    "# model\n",
    "t2pi_count_model = get_model(use_t2pi=True, stop_words=None, classifier=get_classifier())\n",
    "t2pi_count_sw_model = get_model(use_t2pi=True, stop_words=\"english\", classifier=get_classifier())\n",
    "\n",
    "t2pi_tfidf_model = get_model(tfidf=True, use_t2pi=True, stop_words=None, classifier=get_classifier())\n",
    "t2pi_tfidf_sw_model = get_model(tfidf=True, use_t2pi=True, stop_words=\"english\", classifier=get_classifier())\n",
    "\n",
    "models = {\n",
    "#     \"count_model\": count_model, \n",
    "#     \"count_sw_model\": count_model, \n",
    "#     \"tfidf_model\": tfidf_model,\n",
    "    \"tfidf_sw_model\": tfidf_sw_model, \n",
    "#     \"t2pi_count_model\": t2pi_count_model,\n",
    "    \"t2pi_count_sw_model\": t2pi_count_sw_model, \n",
    "#     \"t2pi_tfidf_model\": t2pi_tfidf_model, \n",
    "    \"t2pi_tfidf_sw_model\": t2pi_tfidf_sw_model\n",
    "}"
   ]
  },
  {
   "cell_type": "markdown",
   "metadata": {
    "id": "Ky4t7czB0lts"
   },
   "source": [
    "### Running Cross validation on all Models"
   ]
  },
  {
   "cell_type": "code",
   "execution_count": 21,
   "metadata": {
    "colab": {
     "base_uri": "https://localhost:8080/"
    },
    "id": "MaHl8bxm0ltt",
    "outputId": "5873b870-0f7a-455a-a0b0-be95c7a45f52"
   },
   "outputs": [
    {
     "name": "stdout",
     "output_type": "stream",
     "text": [
      "-> 1. tfidf_sw_model \n",
      "====================================================================================================\n",
      "\n",
      "-> 1. t2pi_count_sw_model \n",
      "====================================================================================================\n",
      "\n",
      "creating term-term co-occurence pr matrix\n"
     ]
    },
    {
     "data": {
      "application/vnd.jupyter.widget-view+json": {
       "model_id": "2d1b026422b84bd6aeb88685496e024a",
       "version_major": 2,
       "version_minor": 0
      },
      "text/plain": [
       "HBox(children=(HTML(value=''), FloatProgress(value=0.0, max=3918.0), HTML(value='')))"
      ]
     },
     "metadata": {},
     "output_type": "display_data"
    },
    {
     "name": "stdout",
     "output_type": "stream",
     "text": [
      "\n",
      "transforming ...\n"
     ]
    },
    {
     "data": {
      "application/vnd.jupyter.widget-view+json": {
       "model_id": "feec4982d01841fdbb2ae4b9aa8bcd85",
       "version_major": 2,
       "version_minor": 0
      },
      "text/plain": [
       "HBox(children=(HTML(value=''), FloatProgress(value=0.0, max=248.0), HTML(value='')))"
      ]
     },
     "metadata": {},
     "output_type": "display_data"
    },
    {
     "name": "stdout",
     "output_type": "stream",
     "text": [
      "\n",
      "sparsity(X):\n",
      "=> before 0.9927\n",
      "=>  after 0.5529\n",
      "\n",
      "transforming ...\n"
     ]
    },
    {
     "data": {
      "application/vnd.jupyter.widget-view+json": {
       "model_id": "1bcdf6bff524428dab6e064b0202d588",
       "version_major": 2,
       "version_minor": 0
      },
      "text/plain": [
       "HBox(children=(HTML(value=''), FloatProgress(value=0.0, max=124.0), HTML(value='')))"
      ]
     },
     "metadata": {},
     "output_type": "display_data"
    },
    {
     "name": "stdout",
     "output_type": "stream",
     "text": [
      "\n",
      "sparsity(X):\n",
      "=> before 0.9952\n",
      "=>  after 0.5092\n",
      "\n",
      "-> 1. t2pi_tfidf_sw_model \n",
      "====================================================================================================\n",
      "\n",
      "creating term-term co-occurence pr matrix\n"
     ]
    },
    {
     "data": {
      "application/vnd.jupyter.widget-view+json": {
       "model_id": "3e5c7afed5484d6693fb32e8d3dfe7b0",
       "version_major": 2,
       "version_minor": 0
      },
      "text/plain": [
       "HBox(children=(HTML(value=''), FloatProgress(value=0.0, max=3918.0), HTML(value='')))"
      ]
     },
     "metadata": {},
     "output_type": "display_data"
    },
    {
     "name": "stdout",
     "output_type": "stream",
     "text": [
      "\n",
      "transforming ...\n"
     ]
    },
    {
     "data": {
      "application/vnd.jupyter.widget-view+json": {
       "model_id": "b786afce9313499281512c38b6bd19cc",
       "version_major": 2,
       "version_minor": 0
      },
      "text/plain": [
       "HBox(children=(HTML(value=''), FloatProgress(value=0.0, max=248.0), HTML(value='')))"
      ]
     },
     "metadata": {},
     "output_type": "display_data"
    },
    {
     "name": "stdout",
     "output_type": "stream",
     "text": [
      "\n",
      "sparsity(X):\n",
      "=> before 0.9927\n",
      "=>  after 0.5529\n",
      "\n",
      "transforming ...\n"
     ]
    },
    {
     "data": {
      "application/vnd.jupyter.widget-view+json": {
       "model_id": "d3ffa16ff663487e84363db6c61b59ba",
       "version_major": 2,
       "version_minor": 0
      },
      "text/plain": [
       "HBox(children=(HTML(value=''), FloatProgress(value=0.0, max=124.0), HTML(value='')))"
      ]
     },
     "metadata": {},
     "output_type": "display_data"
    },
    {
     "name": "stdout",
     "output_type": "stream",
     "text": [
      "\n",
      "sparsity(X):\n",
      "=> before 0.9952\n",
      "=>  after 0.5092\n",
      "\n",
      "-> 2. tfidf_sw_model \n",
      "====================================================================================================\n",
      "\n",
      "-> 2. t2pi_count_sw_model \n",
      "====================================================================================================\n",
      "\n",
      "creating term-term co-occurence pr matrix\n"
     ]
    },
    {
     "data": {
      "application/vnd.jupyter.widget-view+json": {
       "model_id": "dd8ffddc87a749d8a82656915eaf2d20",
       "version_major": 2,
       "version_minor": 0
      },
      "text/plain": [
       "HBox(children=(HTML(value=''), FloatProgress(value=0.0, max=3966.0), HTML(value='')))"
      ]
     },
     "metadata": {},
     "output_type": "display_data"
    },
    {
     "name": "stdout",
     "output_type": "stream",
     "text": [
      "\n",
      "transforming ...\n"
     ]
    },
    {
     "data": {
      "application/vnd.jupyter.widget-view+json": {
       "model_id": "c706bd8f0acb4417bb70a749abfd375e",
       "version_major": 2,
       "version_minor": 0
      },
      "text/plain": [
       "HBox(children=(HTML(value=''), FloatProgress(value=0.0, max=248.0), HTML(value='')))"
      ]
     },
     "metadata": {},
     "output_type": "display_data"
    },
    {
     "name": "stdout",
     "output_type": "stream",
     "text": [
      "\n",
      "sparsity(X):\n",
      "=> before 0.9925\n",
      "=>  after 0.5046\n",
      "\n",
      "transforming ...\n"
     ]
    },
    {
     "data": {
      "application/vnd.jupyter.widget-view+json": {
       "model_id": "3f4f3ae80ed54228b3381bd1ee5b64e5",
       "version_major": 2,
       "version_minor": 0
      },
      "text/plain": [
       "HBox(children=(HTML(value=''), FloatProgress(value=0.0, max=124.0), HTML(value='')))"
      ]
     },
     "metadata": {},
     "output_type": "display_data"
    },
    {
     "name": "stdout",
     "output_type": "stream",
     "text": [
      "\n",
      "sparsity(X):\n",
      "=> before 0.9957\n",
      "=>  after 0.5335\n",
      "\n",
      "-> 2. t2pi_tfidf_sw_model \n",
      "====================================================================================================\n",
      "\n",
      "creating term-term co-occurence pr matrix\n"
     ]
    },
    {
     "data": {
      "application/vnd.jupyter.widget-view+json": {
       "model_id": "00c257b9a7824866bc585f519ca5da48",
       "version_major": 2,
       "version_minor": 0
      },
      "text/plain": [
       "HBox(children=(HTML(value=''), FloatProgress(value=0.0, max=3966.0), HTML(value='')))"
      ]
     },
     "metadata": {},
     "output_type": "display_data"
    },
    {
     "name": "stdout",
     "output_type": "stream",
     "text": [
      "\n",
      "transforming ...\n"
     ]
    },
    {
     "data": {
      "application/vnd.jupyter.widget-view+json": {
       "model_id": "50a4be5ebd954725b0afa584bcfa7617",
       "version_major": 2,
       "version_minor": 0
      },
      "text/plain": [
       "HBox(children=(HTML(value=''), FloatProgress(value=0.0, max=248.0), HTML(value='')))"
      ]
     },
     "metadata": {},
     "output_type": "display_data"
    },
    {
     "name": "stdout",
     "output_type": "stream",
     "text": [
      "\n",
      "sparsity(X):\n",
      "=> before 0.9925\n",
      "=>  after 0.5046\n",
      "\n",
      "transforming ...\n"
     ]
    },
    {
     "data": {
      "application/vnd.jupyter.widget-view+json": {
       "model_id": "413552171e19445f9848325ffbe8d208",
       "version_major": 2,
       "version_minor": 0
      },
      "text/plain": [
       "HBox(children=(HTML(value=''), FloatProgress(value=0.0, max=124.0), HTML(value='')))"
      ]
     },
     "metadata": {},
     "output_type": "display_data"
    },
    {
     "name": "stdout",
     "output_type": "stream",
     "text": [
      "\n",
      "sparsity(X):\n",
      "=> before 0.9957\n",
      "=>  after 0.5335\n",
      "\n",
      "-> 3. tfidf_sw_model \n",
      "====================================================================================================\n",
      "\n",
      "-> 3. t2pi_count_sw_model \n",
      "====================================================================================================\n",
      "\n",
      "creating term-term co-occurence pr matrix\n"
     ]
    },
    {
     "data": {
      "application/vnd.jupyter.widget-view+json": {
       "model_id": "43390d871a1a44829ad9beca8942a2af",
       "version_major": 2,
       "version_minor": 0
      },
      "text/plain": [
       "HBox(children=(HTML(value=''), FloatProgress(value=0.0, max=3866.0), HTML(value='')))"
      ]
     },
     "metadata": {},
     "output_type": "display_data"
    },
    {
     "name": "stdout",
     "output_type": "stream",
     "text": [
      "\n",
      "transforming ...\n"
     ]
    },
    {
     "data": {
      "application/vnd.jupyter.widget-view+json": {
       "model_id": "be221b85aab54c8da8de906b53d8040e",
       "version_major": 2,
       "version_minor": 0
      },
      "text/plain": [
       "HBox(children=(HTML(value=''), FloatProgress(value=0.0, max=248.0), HTML(value='')))"
      ]
     },
     "metadata": {},
     "output_type": "display_data"
    },
    {
     "name": "stdout",
     "output_type": "stream",
     "text": [
      "\n",
      "sparsity(X):\n",
      "=> before 0.9925\n",
      "=>  after 0.5142\n",
      "\n",
      "transforming ...\n"
     ]
    },
    {
     "data": {
      "application/vnd.jupyter.widget-view+json": {
       "model_id": "0c176f5eda27447db0d4c753e5bdd9a8",
       "version_major": 2,
       "version_minor": 0
      },
      "text/plain": [
       "HBox(children=(HTML(value=''), FloatProgress(value=0.0, max=124.0), HTML(value='')))"
      ]
     },
     "metadata": {},
     "output_type": "display_data"
    },
    {
     "name": "stdout",
     "output_type": "stream",
     "text": [
      "\n",
      "sparsity(X):\n",
      "=> before 0.9955\n",
      "=>  after 0.5331\n",
      "\n",
      "-> 3. t2pi_tfidf_sw_model \n",
      "====================================================================================================\n",
      "\n",
      "creating term-term co-occurence pr matrix\n"
     ]
    },
    {
     "data": {
      "application/vnd.jupyter.widget-view+json": {
       "model_id": "1f8fb9651db342e2afcb09a16acb9180",
       "version_major": 2,
       "version_minor": 0
      },
      "text/plain": [
       "HBox(children=(HTML(value=''), FloatProgress(value=0.0, max=3866.0), HTML(value='')))"
      ]
     },
     "metadata": {},
     "output_type": "display_data"
    },
    {
     "name": "stdout",
     "output_type": "stream",
     "text": [
      "\n",
      "transforming ...\n"
     ]
    },
    {
     "data": {
      "application/vnd.jupyter.widget-view+json": {
       "model_id": "a49d10b417b9467db91cc2c27b5a57a1",
       "version_major": 2,
       "version_minor": 0
      },
      "text/plain": [
       "HBox(children=(HTML(value=''), FloatProgress(value=0.0, max=248.0), HTML(value='')))"
      ]
     },
     "metadata": {},
     "output_type": "display_data"
    },
    {
     "name": "stdout",
     "output_type": "stream",
     "text": [
      "\n",
      "sparsity(X):\n",
      "=> before 0.9925\n",
      "=>  after 0.5142\n",
      "\n",
      "transforming ...\n"
     ]
    },
    {
     "data": {
      "application/vnd.jupyter.widget-view+json": {
       "model_id": "a51a840056ef47b09a2dadaf641deb4d",
       "version_major": 2,
       "version_minor": 0
      },
      "text/plain": [
       "HBox(children=(HTML(value=''), FloatProgress(value=0.0, max=124.0), HTML(value='')))"
      ]
     },
     "metadata": {},
     "output_type": "display_data"
    },
    {
     "name": "stdout",
     "output_type": "stream",
     "text": [
      "\n",
      "sparsity(X):\n",
      "=> before 0.9955\n",
      "=>  after 0.5331\n",
      "\n"
     ]
    }
   ],
   "source": [
    "split_size = 3\n",
    "skf = StratifiedKFold(n_splits=split_size, shuffle=True, random_state=100) \n",
    "\n",
    "index = 0\n",
    "macro_f1_scores, weighted_f1_scores, accuracies = [], [], []\n",
    "\n",
    "for train_index, test_index in skf.split(X, y):\n",
    "    index += 1\n",
    "    \n",
    "    x_train_fold, x_test_fold = X.iloc[train_index], X.iloc[test_index] \n",
    "    y_train_fold, y_test_fold = y.iloc[train_index], y.iloc[test_index]\n",
    "    \n",
    "    accuracies.append([])\n",
    "    macro_f1_scores.append([])\n",
    "    weighted_f1_scores.append([])\n",
    "    \n",
    "    for model_name, model in models.items():\n",
    "        print(f'-> {index}. {model_name} \\n{\"=\"*100}\\n')\n",
    "        model.fit(x_train_fold, y_train_fold)\n",
    "        y_pred = model.predict(x_test_fold)\n",
    "\n",
    "        accuracy = accuracy_score(y_test_fold, y_pred)\n",
    "        weighted_f1_score = calculate_f1_score(y_test_fold, y_pred, average='weighted')\n",
    "        macro_f1_score = calculate_f1_score(y_test_fold, y_pred, average='macro')\n",
    "        \n",
    "        weighted_f1_scores[-1].append(weighted_f1_score)\n",
    "        macro_f1_scores[-1].append(macro_f1_score)\n",
    "        accuracies[-1].append(accuracy)"
   ]
  },
  {
   "cell_type": "code",
   "execution_count": 22,
   "metadata": {
    "id": "x1Jz_zRb0ltz"
   },
   "outputs": [],
   "source": [
    "model_names = list(models.keys())\n",
    "\n",
    "accuracy = pd.DataFrame(data=np.array(accuracies), columns=model_names)\n",
    "weighted_f1_score = pd.DataFrame(data=np.array(weighted_f1_scores), columns=model_names)\n",
    "macro_f1_score = pd.DataFrame(data=np.array(macro_f1_scores), columns=model_names)\n",
    "\n",
    "accuracy.loc[\"mean\"] = accuracy.mean(0)\n",
    "weighted_f1_score.loc[\"mean\"] = weighted_f1_score.mean(0)\n",
    "macro_f1_score.loc[\"mean\"] = macro_f1_score.mean(0)"
   ]
  },
  {
   "cell_type": "code",
   "execution_count": 23,
   "metadata": {},
   "outputs": [
    {
     "data": {
      "text/html": [
       "<div>\n",
       "<style scoped>\n",
       "    .dataframe tbody tr th:only-of-type {\n",
       "        vertical-align: middle;\n",
       "    }\n",
       "\n",
       "    .dataframe tbody tr th {\n",
       "        vertical-align: top;\n",
       "    }\n",
       "\n",
       "    .dataframe thead th {\n",
       "        text-align: right;\n",
       "    }\n",
       "</style>\n",
       "<table border=\"1\" class=\"dataframe\">\n",
       "  <thead>\n",
       "    <tr style=\"text-align: right;\">\n",
       "      <th></th>\n",
       "      <th>tfidf_sw_model</th>\n",
       "      <th>t2pi_count_sw_model</th>\n",
       "      <th>t2pi_tfidf_sw_model</th>\n",
       "    </tr>\n",
       "  </thead>\n",
       "  <tbody>\n",
       "    <tr>\n",
       "      <th>0</th>\n",
       "      <td>0.798387</td>\n",
       "      <td>0.741935</td>\n",
       "      <td>0.733871</td>\n",
       "    </tr>\n",
       "    <tr>\n",
       "      <th>1</th>\n",
       "      <td>0.782258</td>\n",
       "      <td>0.782258</td>\n",
       "      <td>0.798387</td>\n",
       "    </tr>\n",
       "    <tr>\n",
       "      <th>2</th>\n",
       "      <td>0.733871</td>\n",
       "      <td>0.685484</td>\n",
       "      <td>0.685484</td>\n",
       "    </tr>\n",
       "    <tr>\n",
       "      <th>mean</th>\n",
       "      <td>0.771505</td>\n",
       "      <td>0.736559</td>\n",
       "      <td>0.739247</td>\n",
       "    </tr>\n",
       "  </tbody>\n",
       "</table>\n",
       "</div>"
      ],
      "text/plain": [
       "      tfidf_sw_model  t2pi_count_sw_model  t2pi_tfidf_sw_model\n",
       "0           0.798387             0.741935             0.733871\n",
       "1           0.782258             0.782258             0.798387\n",
       "2           0.733871             0.685484             0.685484\n",
       "mean        0.771505             0.736559             0.739247"
      ]
     },
     "execution_count": 23,
     "metadata": {},
     "output_type": "execute_result"
    }
   ],
   "source": [
    "accuracy.head(split_size+1)"
   ]
  },
  {
   "cell_type": "code",
   "execution_count": 24,
   "metadata": {},
   "outputs": [
    {
     "data": {
      "text/html": [
       "<div>\n",
       "<style scoped>\n",
       "    .dataframe tbody tr th:only-of-type {\n",
       "        vertical-align: middle;\n",
       "    }\n",
       "\n",
       "    .dataframe tbody tr th {\n",
       "        vertical-align: top;\n",
       "    }\n",
       "\n",
       "    .dataframe thead th {\n",
       "        text-align: right;\n",
       "    }\n",
       "</style>\n",
       "<table border=\"1\" class=\"dataframe\">\n",
       "  <thead>\n",
       "    <tr style=\"text-align: right;\">\n",
       "      <th></th>\n",
       "      <th>tfidf_sw_model</th>\n",
       "      <th>t2pi_count_sw_model</th>\n",
       "      <th>t2pi_tfidf_sw_model</th>\n",
       "    </tr>\n",
       "  </thead>\n",
       "  <tbody>\n",
       "    <tr>\n",
       "      <th>0</th>\n",
       "      <td>0.796281</td>\n",
       "      <td>0.741571</td>\n",
       "      <td>0.732388</td>\n",
       "    </tr>\n",
       "    <tr>\n",
       "      <th>1</th>\n",
       "      <td>0.783323</td>\n",
       "      <td>0.783195</td>\n",
       "      <td>0.799102</td>\n",
       "    </tr>\n",
       "    <tr>\n",
       "      <th>2</th>\n",
       "      <td>0.733173</td>\n",
       "      <td>0.683580</td>\n",
       "      <td>0.682573</td>\n",
       "    </tr>\n",
       "    <tr>\n",
       "      <th>mean</th>\n",
       "      <td>0.770925</td>\n",
       "      <td>0.736116</td>\n",
       "      <td>0.738021</td>\n",
       "    </tr>\n",
       "  </tbody>\n",
       "</table>\n",
       "</div>"
      ],
      "text/plain": [
       "      tfidf_sw_model  t2pi_count_sw_model  t2pi_tfidf_sw_model\n",
       "0           0.796281             0.741571             0.732388\n",
       "1           0.783323             0.783195             0.799102\n",
       "2           0.733173             0.683580             0.682573\n",
       "mean        0.770925             0.736116             0.738021"
      ]
     },
     "execution_count": 24,
     "metadata": {},
     "output_type": "execute_result"
    }
   ],
   "source": [
    "weighted_f1_score.head(split_size+1)"
   ]
  },
  {
   "cell_type": "code",
   "execution_count": 25,
   "metadata": {
    "id": "OnrrVJHU0lt9"
   },
   "outputs": [
    {
     "data": {
      "text/html": [
       "<div>\n",
       "<style scoped>\n",
       "    .dataframe tbody tr th:only-of-type {\n",
       "        vertical-align: middle;\n",
       "    }\n",
       "\n",
       "    .dataframe tbody tr th {\n",
       "        vertical-align: top;\n",
       "    }\n",
       "\n",
       "    .dataframe thead th {\n",
       "        text-align: right;\n",
       "    }\n",
       "</style>\n",
       "<table border=\"1\" class=\"dataframe\">\n",
       "  <thead>\n",
       "    <tr style=\"text-align: right;\">\n",
       "      <th></th>\n",
       "      <th>tfidf_sw_model</th>\n",
       "      <th>t2pi_count_sw_model</th>\n",
       "      <th>t2pi_tfidf_sw_model</th>\n",
       "    </tr>\n",
       "  </thead>\n",
       "  <tbody>\n",
       "    <tr>\n",
       "      <th>0</th>\n",
       "      <td>0.796281</td>\n",
       "      <td>0.741571</td>\n",
       "      <td>0.732388</td>\n",
       "    </tr>\n",
       "    <tr>\n",
       "      <th>1</th>\n",
       "      <td>0.783323</td>\n",
       "      <td>0.783195</td>\n",
       "      <td>0.799102</td>\n",
       "    </tr>\n",
       "    <tr>\n",
       "      <th>2</th>\n",
       "      <td>0.733173</td>\n",
       "      <td>0.683580</td>\n",
       "      <td>0.682573</td>\n",
       "    </tr>\n",
       "    <tr>\n",
       "      <th>mean</th>\n",
       "      <td>0.770925</td>\n",
       "      <td>0.736116</td>\n",
       "      <td>0.738021</td>\n",
       "    </tr>\n",
       "  </tbody>\n",
       "</table>\n",
       "</div>"
      ],
      "text/plain": [
       "      tfidf_sw_model  t2pi_count_sw_model  t2pi_tfidf_sw_model\n",
       "0           0.796281             0.741571             0.732388\n",
       "1           0.783323             0.783195             0.799102\n",
       "2           0.733173             0.683580             0.682573\n",
       "mean        0.770925             0.736116             0.738021"
      ]
     },
     "execution_count": 25,
     "metadata": {},
     "output_type": "execute_result"
    }
   ],
   "source": [
    "macro_f1_score.head(split_size+1)"
   ]
  },
  {
   "cell_type": "code",
   "execution_count": null,
   "metadata": {},
   "outputs": [],
   "source": []
  },
  {
   "cell_type": "code",
   "execution_count": null,
   "metadata": {
    "id": "iKpy3vzR0luB"
   },
   "outputs": [],
   "source": []
  }
 ],
 "metadata": {
  "colab": {
   "collapsed_sections": [],
   "name": "Recursive word-word inference-colab.ipynb",
   "provenance": []
  },
  "kernelspec": {
   "display_name": "Python 3",
   "language": "python",
   "name": "python3"
  },
  "language_info": {
   "codemirror_mode": {
    "name": "ipython",
    "version": 3
   },
   "file_extension": ".py",
   "mimetype": "text/x-python",
   "name": "python",
   "nbconvert_exporter": "python",
   "pygments_lexer": "ipython3",
   "version": "3.8.5"
  }
 },
 "nbformat": 4,
 "nbformat_minor": 1
}

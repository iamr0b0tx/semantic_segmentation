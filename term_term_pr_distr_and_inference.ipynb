{
 "cells": [
  {
   "cell_type": "markdown",
   "metadata": {
    "id": "1mW_XQex0lqn"
   },
   "source": [
    "#### autoreload modules and utilities"
   ]
  },
  {
   "cell_type": "code",
   "execution_count": 1,
   "metadata": {
    "id": "pvzSMjy60lqr"
   },
   "outputs": [],
   "source": [
    "%load_ext autoreload\n",
    "%autoreload 2"
   ]
  },
  {
   "cell_type": "markdown",
   "metadata": {
    "id": "57UHx9Rl0lq5"
   },
   "source": [
    "#### import all neceesary libraries/packages"
   ]
  },
  {
   "cell_type": "code",
   "execution_count": 2,
   "metadata": {
    "id": "vxe4EvZB0lq7"
   },
   "outputs": [],
   "source": [
    "import joblib\n",
    "\n",
    "import numpy as np \n",
    "import pandas as pd\n",
    "\n",
    "from tqdm.notebook import tqdm\n",
    "import matplotlib.pyplot as plt \n",
    "\n",
    "from scipy.stats import entropy as calculate_entropy\n",
    "\n",
    "from sklearn.datasets import fetch_20newsgroups\n",
    "from sklearn.model_selection import StratifiedShuffleSplit\n",
    "\n",
    "from sklearn.pipeline import Pipeline \n",
    "from sklearn.naive_bayes import MultinomialNB, GaussianNB\n",
    "from sklearn.feature_extraction.text import CountVectorizer, TfidfTransformer\n",
    "\n",
    "from sklearn.metrics import classification_report, accuracy_score\n",
    "from sklearn.metrics import f1_score as calculate_f1_score\n",
    "from sklearn.model_selection import train_test_split, StratifiedKFold "
   ]
  },
  {
   "cell_type": "code",
   "execution_count": 3,
   "metadata": {},
   "outputs": [
    {
     "data": {
      "text/html": [
       "<div>\n",
       "<style scoped>\n",
       "    .dataframe tbody tr th:only-of-type {\n",
       "        vertical-align: middle;\n",
       "    }\n",
       "\n",
       "    .dataframe tbody tr th {\n",
       "        vertical-align: top;\n",
       "    }\n",
       "\n",
       "    .dataframe thead th {\n",
       "        text-align: right;\n",
       "    }\n",
       "</style>\n",
       "<table border=\"1\" class=\"dataframe\">\n",
       "  <thead>\n",
       "    <tr style=\"text-align: right;\">\n",
       "      <th></th>\n",
       "      <th>0</th>\n",
       "      <th>1</th>\n",
       "      <th>2</th>\n",
       "    </tr>\n",
       "  </thead>\n",
       "  <tbody>\n",
       "    <tr>\n",
       "      <th>0</th>\n",
       "      <td>1</td>\n",
       "      <td>2</td>\n",
       "      <td>6</td>\n",
       "    </tr>\n",
       "    <tr>\n",
       "      <th>1</th>\n",
       "      <td>3</td>\n",
       "      <td>4</td>\n",
       "      <td>7</td>\n",
       "    </tr>\n",
       "    <tr>\n",
       "      <th>2</th>\n",
       "      <td>9</td>\n",
       "      <td>3</td>\n",
       "      <td>2</td>\n",
       "    </tr>\n",
       "  </tbody>\n",
       "</table>\n",
       "</div>"
      ],
      "text/plain": [
       "   0  1  2\n",
       "0  1  2  6\n",
       "1  3  4  7\n",
       "2  9  3  2"
      ]
     },
     "execution_count": 3,
     "metadata": {},
     "output_type": "execute_result"
    }
   ],
   "source": [
    "df = pd.DataFrame([[1, 2, 6],[3, 4, 7], [9, 3, 2]])\n",
    "df"
   ]
  },
  {
   "cell_type": "code",
   "execution_count": 4,
   "metadata": {},
   "outputs": [],
   "source": [
    "def sum_weight(x, word_word_pr_distr_prime):\n",
    "    return word_word_pr_distr_prime.apply(lambda y: x*y, axis=0).sum(0)"
   ]
  },
  {
   "cell_type": "code",
   "execution_count": 5,
   "metadata": {},
   "outputs": [
    {
     "data": {
      "text/html": [
       "<div>\n",
       "<style scoped>\n",
       "    .dataframe tbody tr th:only-of-type {\n",
       "        vertical-align: middle;\n",
       "    }\n",
       "\n",
       "    .dataframe tbody tr th {\n",
       "        vertical-align: top;\n",
       "    }\n",
       "\n",
       "    .dataframe thead th {\n",
       "        text-align: right;\n",
       "    }\n",
       "</style>\n",
       "<table border=\"1\" class=\"dataframe\">\n",
       "  <thead>\n",
       "    <tr style=\"text-align: right;\">\n",
       "      <th></th>\n",
       "      <th>0</th>\n",
       "      <th>1</th>\n",
       "      <th>2</th>\n",
       "    </tr>\n",
       "  </thead>\n",
       "  <tbody>\n",
       "    <tr>\n",
       "      <th>0</th>\n",
       "      <td>61</td>\n",
       "      <td>28</td>\n",
       "      <td>32</td>\n",
       "    </tr>\n",
       "    <tr>\n",
       "      <th>1</th>\n",
       "      <td>78</td>\n",
       "      <td>43</td>\n",
       "      <td>60</td>\n",
       "    </tr>\n",
       "    <tr>\n",
       "      <th>2</th>\n",
       "      <td>36</td>\n",
       "      <td>36</td>\n",
       "      <td>79</td>\n",
       "    </tr>\n",
       "  </tbody>\n",
       "</table>\n",
       "</div>"
      ],
      "text/plain": [
       "    0   1   2\n",
       "0  61  28  32\n",
       "1  78  43  60\n",
       "2  36  36  79"
      ]
     },
     "execution_count": 5,
     "metadata": {},
     "output_type": "execute_result"
    }
   ],
   "source": [
    "df.apply(sum_weight, axis=1, args=(df,))"
   ]
  },
  {
   "cell_type": "markdown",
   "metadata": {
    "id": "OFluJVQs0lrF"
   },
   "source": [
    "#### Utility functions"
   ]
  },
  {
   "cell_type": "code",
   "execution_count": 6,
   "metadata": {
    "colab": {
     "base_uri": "https://localhost:8080/"
    },
    "id": "dB1v8YR30lrH",
    "outputId": "a464c3d0-f916-4752-9179-1a2bac9e2c4b"
   },
   "outputs": [
    {
     "name": "stderr",
     "output_type": "stream",
     "text": [
      "[nltk_data] Error loading stopwords: <urlopen error [Errno 11001]\n",
      "[nltk_data]     getaddrinfo failed>\n",
      "[nltk_data] Error loading wordnet: <urlopen error [Errno 11001]\n",
      "[nltk_data]     getaddrinfo failed>\n"
     ]
    }
   ],
   "source": [
    "## utilities\n",
    "# from utils import clean_text\n",
    "\n",
    "import string\n",
    "\n",
    "from sklearn.base import TransformerMixin\n",
    "\n",
    "import nltk\n",
    "from nltk import word_tokenize\n",
    "from nltk.stem import WordNetLemmatizer\n",
    "\n",
    "\n",
    "nltk.download('stopwords')\n",
    "nltk.download('wordnet')\n",
    "\n",
    "def get_lemmatizer():\n",
    "    return WordNetLemmatizer()\n",
    "\n",
    "def clean_text(text: str, lemmatizer = None) -> str:\n",
    "    # removes upper cases\n",
    "    text = text.lower().strip()\n",
    "    \n",
    "    # removes punctuation\n",
    "    for char in string.punctuation:\n",
    "        text = text.replace(char, \" \")\n",
    "    \n",
    "    #lematize the words and join back into string text\n",
    "    if lemmatizer is None:\n",
    "        lemmatizer = lambda x: x\n",
    "    text = \" \".join([lemmatizer(word) for word in word_tokenize(text)])\n",
    "        \n",
    "    return text\n",
    "\n",
    "def calculate_sparsity(matrix):\n",
    "    non_zero = np.count_nonzero(matrix)\n",
    "    total_val = np.product(matrix.shape)\n",
    "    sparsity = (total_val - non_zero) / total_val\n",
    "    return sparsity\n",
    "\n",
    "def data_isvalid(text, analyser, min_character_size, max_character_size):\n",
    "    return min_character_size <= len(analyser(text)) <= max_character_size \n",
    "\n",
    "def get_pipeline(count_vectorizer, classifier, lemmatizer, t2pi_transformer, tfidf_transformer):\n",
    "    models = [\n",
    "        ('clean_text', CleanTextTransformer(lemmatizer)),\n",
    "        ('vectorizer', count_vectorizer)\n",
    "    ]\n",
    "    \n",
    "    if tfidf_transformer is not None:\n",
    "        models.append(('tfidf_transformer', tfidf_transformer))\n",
    "        \n",
    "    models.append(\n",
    "        ('dense', DenseTransformer(count_vectorizer=count_vectorizer))\n",
    "    )\n",
    "    \n",
    "    if t2pi_transformer is not None:\n",
    "        models.append(('t2pi_transformer', t2pi_transformer))\n",
    "    \n",
    "    models.append(('classifier', classifier))\n",
    "    return Pipeline(models)\n",
    "\n",
    "def get_model(classifier, tfidf=False, use_t2pi=False, lemmatizer=None, stop_words=\"english\"):\n",
    "    count_vectorizer = CountVectorizer(stop_words=stop_words, binary=False, min_df=3)\n",
    "    tfidf_transformer = TfidfTransformer() if tfidf else None\n",
    "    t2pi_transformer = T2PITransformer() if use_t2pi else None\n",
    "\n",
    "    # normal model\n",
    "    return get_pipeline(count_vectorizer, classifier, lemmatizer, t2pi_transformer, tfidf_transformer)\n",
    "\n",
    "class CleanTextTransformer(TransformerMixin):\n",
    "    def __init__(self, lemmatizer):\n",
    "        self._lemmatizer = lemmatizer\n",
    "        \n",
    "    def fit(self, X, y=None, **fit_params):\n",
    "        return self\n",
    "\n",
    "    def transform(self, X, y=None, **fit_params):\n",
    "        return np.vectorize(lambda x: clean_text(x, self._lemmatizer))(X)\n",
    "    \n",
    "    def __str__(self):\n",
    "        return \"CleanTextTransformer()\"\n",
    "    \n",
    "    def __repr__(self):\n",
    "        return self.__str__()\n",
    "    \n",
    "class DenseTransformer(TransformerMixin):\n",
    "    def __init__(self, count_vectorizer):\n",
    "        self.count_vectorizer = count_vectorizer\n",
    "        \n",
    "    def fit(self, X, y=None, **fit_params):\n",
    "        return self\n",
    "\n",
    "    def transform(self, X, y=None, **fit_params):\n",
    "        return pd.DataFrame(data=X.todense(), columns=self.count_vectorizer.get_feature_names())\n",
    "    \n",
    "    def __str__(self):\n",
    "        return \"DenseTransformer()\"\n",
    "    \n",
    "    def __repr__(self):\n",
    "        return self.__str__()\n",
    "    \n",
    "class T2PITransformer(TransformerMixin):\n",
    "    @staticmethod\n",
    "    def _max_weight(x, pbar, word_word_pr_distr_prime):\n",
    "        pbar.update(1)\n",
    "        return word_word_pr_distr_prime.apply(lambda y: x*y, axis=0).max(0)\n",
    "    \n",
    "    @staticmethod\n",
    "    def _sum_weight(x, pbar, word_word_pr_distr_prime):\n",
    "        pbar.update(1)\n",
    "        return word_word_pr_distr_prime.apply(lambda y: x*y, axis=0).sum(0)\n",
    "    \n",
    "    @staticmethod\n",
    "    def _weighted_mean_weight(x, pbar, word_word_pr_distr_prime):\n",
    "        pbar.update(1)\n",
    "        xt = word_word_pr_distr_prime.apply(lambda y: x*y, axis=0)\n",
    "        return (xt * (xt / xt.sum(0))).sum(0)\n",
    "        \n",
    "    def fit(self, X, y=None, **fit_params):\n",
    "        print(\"creating term-term co-occurence pr matrix\")\n",
    "        self.word_word_pr_distr = pd.DataFrame(data=0.0, columns=X.columns, index=X.columns)\n",
    "        \n",
    "        for term in tqdm(X.columns):\n",
    "            self.word_word_pr_distr[term] = X[X[term] > 0].sum(0) / X.sum(0)\n",
    "#             self.word_word_pr_distr[term] = X[X[term] > 0].sum(0) / X[term].sum()\n",
    "            \n",
    "        return self\n",
    "\n",
    "    def transform(self, X, y=None, **fit_params):\n",
    "        print(\"transforming ...\")\n",
    "        \n",
    "        # new_sparsity after transform\n",
    "        sparsity_before = calculate_sparsity(X)\n",
    "        \n",
    "        with tqdm(total=X.shape[0]) as pbar:\n",
    "            X = X.apply(self._sum_weight, axis=1, args=(pbar, self.word_word_pr_distr))\n",
    "        \n",
    "        # new_sparsity after transform\n",
    "        sparsity_after = calculate_sparsity(X)\n",
    "        \n",
    "        print(\"sparsity(X):\")\n",
    "        print(f\"=> before {sparsity_before:.4f}\")\n",
    "        print(f\"=>  after {sparsity_after:.4f}\")\n",
    "        print()\n",
    "        \n",
    "        return X\n",
    "    \n",
    "    def __str__(self):\n",
    "        return \"T2PITransformer()\"\n",
    "    \n",
    "    def __repr__(self):\n",
    "        return self.__str__()"
   ]
  },
  {
   "cell_type": "markdown",
   "metadata": {
    "id": "o7XG67xP0lrR"
   },
   "source": [
    "# Load Data"
   ]
  },
  {
   "cell_type": "code",
   "execution_count": 7,
   "metadata": {
    "colab": {
     "base_uri": "https://localhost:8080/"
    },
    "id": "QchLUSP50lrU",
    "outputId": "df541392-05bf-4e19-c453-ee8785b4ff07"
   },
   "outputs": [],
   "source": [
    "# total number of samples needed\n",
    "randomize = False\n",
    "\n",
    "# retrieve dataset\n",
    "categories = ['rec.autos', 'talk.politics.mideast', 'alt.atheism', 'sci.space']\n",
    "\n",
    "all_docs = fetch_20newsgroups(subset='train', shuffle=randomize, remove=('headers', 'footers', 'quotes'), categories=categories)\n",
    "categories = all_docs.target_names"
   ]
  },
  {
   "cell_type": "code",
   "execution_count": 8,
   "metadata": {
    "colab": {
     "base_uri": "https://localhost:8080/"
    },
    "id": "3zYt2cf_0lre",
    "outputId": "34b88acf-7882-45f0-edab-80dd9dfefe0e"
   },
   "outputs": [
    {
     "name": "stdout",
     "output_type": "stream",
     "text": [
      "\n",
      "\n",
      "I think that domestication will change behavior to a large degree.\n",
      "Domesticated animals exhibit behaviors not found in the wild.  I\n",
      "don't think that they can be viewed as good representatives of the\n",
      "wild animal kingdom, since they have been bred for thousands of years\n",
      "to produce certain behaviors, etc.\n"
     ]
    }
   ],
   "source": [
    "print(all_docs.data[0])"
   ]
  },
  {
   "cell_type": "markdown",
   "metadata": {
    "id": "j8mr5IG60lrq"
   },
   "source": [
    "### Create Dataframe"
   ]
  },
  {
   "cell_type": "code",
   "execution_count": 9,
   "metadata": {
    "colab": {
     "base_uri": "https://localhost:8080/"
    },
    "id": "hf7uQyxi0lrr",
    "outputId": "d02f03ea-6d94-4e92-feba-1795bb8073f9"
   },
   "outputs": [
    {
     "data": {
      "text/html": [
       "<div>\n",
       "<style scoped>\n",
       "    .dataframe tbody tr th:only-of-type {\n",
       "        vertical-align: middle;\n",
       "    }\n",
       "\n",
       "    .dataframe tbody tr th {\n",
       "        vertical-align: top;\n",
       "    }\n",
       "\n",
       "    .dataframe thead th {\n",
       "        text-align: right;\n",
       "    }\n",
       "</style>\n",
       "<table border=\"1\" class=\"dataframe\">\n",
       "  <thead>\n",
       "    <tr style=\"text-align: right;\">\n",
       "      <th></th>\n",
       "      <th>text</th>\n",
       "      <th>label</th>\n",
       "    </tr>\n",
       "  </thead>\n",
       "  <tbody>\n",
       "    <tr>\n",
       "      <th>0</th>\n",
       "      <td>\\n\\nI think that domestication will change beh...</td>\n",
       "      <td>0</td>\n",
       "    </tr>\n",
       "    <tr>\n",
       "      <th>1</th>\n",
       "      <td>\\nI don't like this comment about \"Typical\" th...</td>\n",
       "      <td>3</td>\n",
       "    </tr>\n",
       "    <tr>\n",
       "      <th>2</th>\n",
       "      <td>\\n&lt;apparently you're not a woman - my husband ...</td>\n",
       "      <td>1</td>\n",
       "    </tr>\n",
       "    <tr>\n",
       "      <th>3</th>\n",
       "      <td>While not exactly a service incident, I had a ...</td>\n",
       "      <td>1</td>\n",
       "    </tr>\n",
       "    <tr>\n",
       "      <th>4</th>\n",
       "      <td>\\n\\nI think I can. Largely as a result of effo...</td>\n",
       "      <td>2</td>\n",
       "    </tr>\n",
       "  </tbody>\n",
       "</table>\n",
       "</div>"
      ],
      "text/plain": [
       "                                                text  label\n",
       "0  \\n\\nI think that domestication will change beh...      0\n",
       "1  \\nI don't like this comment about \"Typical\" th...      3\n",
       "2  \\n<apparently you're not a woman - my husband ...      1\n",
       "3  While not exactly a service incident, I had a ...      1\n",
       "4  \\n\\nI think I can. Largely as a result of effo...      2"
      ]
     },
     "execution_count": 9,
     "metadata": {},
     "output_type": "execute_result"
    }
   ],
   "source": [
    "data = pd.DataFrame(\n",
    "    data={\n",
    "        \"text\":all_docs.data, \n",
    "        \"label\":all_docs.target\n",
    "    }\n",
    ")\n",
    "\n",
    "data.head()"
   ]
  },
  {
   "cell_type": "markdown",
   "metadata": {
    "id": "1y9aLPrC0lr4"
   },
   "source": [
    "### Label Frequency"
   ]
  },
  {
   "cell_type": "code",
   "execution_count": 10,
   "metadata": {
    "colab": {
     "base_uri": "https://localhost:8080/"
    },
    "id": "lsJjsIi20lr6",
    "outputId": "aa9e2961-78a4-4c23-b1af-6314bddbb1dc"
   },
   "outputs": [
    {
     "name": "stdout",
     "output_type": "stream",
     "text": [
      "1    594\n",
      "2    593\n",
      "3    564\n",
      "0    480\n",
      "Name: label, dtype: int64\n",
      "\n"
     ]
    },
    {
     "data": {
      "image/png": "[encoded data removed]",
      "text/plain": [
       "<Figure size 432x288 with 1 Axes>"
      ]
     },
     "metadata": {
      "needs_background": "light"
     },
     "output_type": "display_data"
    }
   ],
   "source": [
    "print(data[\"label\"].value_counts())\n",
    "print()\n",
    "\n",
    "barlist = plt.bar(categories, data[\"label\"].value_counts())\n",
    "\n",
    "plt.title(\"Frequency of documents\")\n",
    "plt.xticks(categories, list(map(lambda x: x.split(\".\")[1], categories)))\n",
    "plt.ylabel('Number of documents')\n",
    "plt.xlabel('Sentiment expressed in Reviews')\n",
    "\n",
    "barlist[0].set_color('red')\n",
    "barlist[1].set_color('green')\n",
    "barlist[2].set_color('blue')\n",
    "barlist[3].set_color('grey')\n",
    "plt.show()"
   ]
  },
  {
   "cell_type": "markdown",
   "metadata": {
    "id": "Z3rWhz2Q0lsD"
   },
   "source": [
    "The Dataset labels needs to be balanced"
   ]
  },
  {
   "cell_type": "markdown",
   "metadata": {
    "id": "zgT_qPvT0lsF"
   },
   "source": [
    "# Select Valid Data"
   ]
  },
  {
   "cell_type": "code",
   "execution_count": 11,
   "metadata": {
    "colab": {
     "base_uri": "https://localhost:8080/"
    },
    "id": "GxoJgJTq0lsH",
    "outputId": "90b722d1-18e1-443a-dd02-ea8dde6f8743",
    "scrolled": false
   },
   "outputs": [
    {
     "data": {
      "text/html": [
       "<div>\n",
       "<style scoped>\n",
       "    .dataframe tbody tr th:only-of-type {\n",
       "        vertical-align: middle;\n",
       "    }\n",
       "\n",
       "    .dataframe tbody tr th {\n",
       "        vertical-align: top;\n",
       "    }\n",
       "\n",
       "    .dataframe thead th {\n",
       "        text-align: right;\n",
       "    }\n",
       "</style>\n",
       "<table border=\"1\" class=\"dataframe\">\n",
       "  <thead>\n",
       "    <tr style=\"text-align: right;\">\n",
       "      <th></th>\n",
       "      <th>text</th>\n",
       "      <th>label</th>\n",
       "    </tr>\n",
       "  </thead>\n",
       "  <tbody>\n",
       "    <tr>\n",
       "      <th>0</th>\n",
       "      <td>\\n\\nI think that domestication will change beh...</td>\n",
       "      <td>0</td>\n",
       "    </tr>\n",
       "    <tr>\n",
       "      <th>30</th>\n",
       "      <td>\\n[rest deleted...]\\n\\nYou were a liberal arts...</td>\n",
       "      <td>0</td>\n",
       "    </tr>\n",
       "    <tr>\n",
       "      <th>36</th>\n",
       "      <td>\\nWorse?  Maybe not, but it is definately a vi...</td>\n",
       "      <td>0</td>\n",
       "    </tr>\n",
       "    <tr>\n",
       "      <th>63</th>\n",
       "      <td>\\nCould you expand on your definition of knowi...</td>\n",
       "      <td>0</td>\n",
       "    </tr>\n",
       "    <tr>\n",
       "      <th>65</th>\n",
       "      <td>\\nLooking at historical evidence such 'perfect...</td>\n",
       "      <td>0</td>\n",
       "    </tr>\n",
       "  </tbody>\n",
       "</table>\n",
       "</div>"
      ],
      "text/plain": [
       "                                                 text  label\n",
       "0   \\n\\nI think that domestication will change beh...      0\n",
       "30  \\n[rest deleted...]\\n\\nYou were a liberal arts...      0\n",
       "36  \\nWorse?  Maybe not, but it is definately a vi...      0\n",
       "63  \\nCould you expand on your definition of knowi...      0\n",
       "65  \\nLooking at historical evidence such 'perfect...      0"
      ]
     },
     "execution_count": 11,
     "metadata": {},
     "output_type": "execute_result"
    }
   ],
   "source": [
    "max_size_per_class = 150\n",
    "\n",
    "# remove long text\n",
    "indices = data[\"text\"].apply(data_isvalid, args=(lambda x: clean_text(x, get_lemmatizer().lemmatize), 256, 512))\n",
    "data = data[indices]\n",
    "\n",
    "# make classes balanced\n",
    "class_indices = []\n",
    "\n",
    "for index in range(4):\n",
    "    class_indices.append(np.where((data[\"label\"] == index))[0])\n",
    "    \n",
    "size_per_class = min(max_size_per_class, min(map(len, class_indices)))\n",
    "indices = np.concatenate([class_ids[:size_per_class] for class_ids in class_indices])\n",
    "\n",
    "data = data.iloc[indices]\n",
    "\n",
    "data.head()"
   ]
  },
  {
   "cell_type": "code",
   "execution_count": 12,
   "metadata": {
    "colab": {
     "base_uri": "https://localhost:8080/"
    },
    "id": "EmPNliV60lsQ",
    "outputId": "66df7f82-bc81-474a-ce90-14be5257dcfe"
   },
   "outputs": [
    {
     "name": "stdout",
     "output_type": "stream",
     "text": [
      "\n",
      "\n",
      "I think that domestication will change behavior to a large degree.\n",
      "Domesticated animals exhibit behaviors not found in the wild.  I\n",
      "don't think that they can be viewed as good representatives of the\n",
      "wild animal kingdom, since they have been bred for thousands of years\n",
      "to produce certain behaviors, etc.\n"
     ]
    }
   ],
   "source": [
    "print(data.iloc[0][\"text\"])"
   ]
  },
  {
   "cell_type": "code",
   "execution_count": 13,
   "metadata": {
    "colab": {
     "base_uri": "https://localhost:8080/"
    },
    "id": "a05palir0lsZ",
    "outputId": "ab28dce8-66ee-4307-fc1b-7032668016ca"
   },
   "outputs": [
    {
     "name": "stdout",
     "output_type": "stream",
     "text": [
      "3    94\n",
      "2    94\n",
      "1    94\n",
      "0    94\n",
      "Name: label, dtype: int64\n",
      "\n"
     ]
    },
    {
     "data": {
      "image/png": "[encoded data removed]",
      "text/plain": [
       "<Figure size 432x288 with 1 Axes>"
      ]
     },
     "metadata": {
      "needs_background": "light"
     },
     "output_type": "display_data"
    }
   ],
   "source": [
    "print(data[\"label\"].value_counts())\n",
    "print()\n",
    "\n",
    "barlist = plt.bar(categories, data[\"label\"].value_counts())\n",
    "\n",
    "plt.title(\"Frequency of documents\")\n",
    "plt.xticks(categories, list(map(lambda x: x.split(\".\")[1], categories)))\n",
    "plt.ylabel('Number of documents')\n",
    "plt.xlabel('Sentiment expressed in Reviews')\n",
    "\n",
    "barlist[0].set_color('red')\n",
    "barlist[1].set_color('green')\n",
    "barlist[2].set_color('blue')\n",
    "barlist[3].set_color('grey')\n",
    "plt.show()"
   ]
  },
  {
   "cell_type": "markdown",
   "metadata": {
    "id": "4XkH4IGt0lsk"
   },
   "source": [
    "### initialize input and output"
   ]
  },
  {
   "cell_type": "code",
   "execution_count": 14,
   "metadata": {
    "id": "dEMn9hD40lsl"
   },
   "outputs": [],
   "source": [
    "X = data[\"text\"]\n",
    "y = data['label']\n",
    "\n",
    "X_train, X_test, y_train, y_test = train_test_split(X, y, test_size=0.25, random_state=42)"
   ]
  },
  {
   "cell_type": "markdown",
   "metadata": {
    "id": "NM1HNxZN0lsu"
   },
   "source": [
    "### initialize recursive word infer model"
   ]
  },
  {
   "cell_type": "code",
   "execution_count": 24,
   "metadata": {},
   "outputs": [],
   "source": [
    "def get_classifier():\n",
    "#     return GaussianNB()\n",
    "    return MultinomialNB()"
   ]
  },
  {
   "cell_type": "code",
   "execution_count": 25,
   "metadata": {
    "id": "aahIO3Vu0lsv"
   },
   "outputs": [
    {
     "name": "stdout",
     "output_type": "stream",
     "text": [
      "creating term-term co-occurence pr matrix\n"
     ]
    },
    {
     "data": {
      "application/vnd.jupyter.widget-view+json": {
       "model_id": "dac6a4c19a11406fb0a86cdf96727cbd",
       "version_major": 2,
       "version_minor": 0
      },
      "text/plain": [
       "HBox(children=(HTML(value=''), FloatProgress(value=0.0, max=671.0), HTML(value='')))"
      ]
     },
     "metadata": {},
     "output_type": "display_data"
    },
    {
     "name": "stdout",
     "output_type": "stream",
     "text": [
      "\n",
      "transforming ...\n"
     ]
    },
    {
     "data": {
      "application/vnd.jupyter.widget-view+json": {
       "model_id": "460aab9ab15f43e29c50646e242d88ff",
       "version_major": 2,
       "version_minor": 0
      },
      "text/plain": [
       "HBox(children=(HTML(value=''), FloatProgress(value=0.0, max=282.0), HTML(value='')))"
      ]
     },
     "metadata": {},
     "output_type": "display_data"
    },
    {
     "name": "stdout",
     "output_type": "stream",
     "text": [
      "\n",
      "sparsity(X):\n",
      "=> before 0.9791\n",
      "=>  after 0.1805\n",
      "\n"
     ]
    },
    {
     "data": {
      "text/plain": [
       "Pipeline(steps=[('clean_text', CleanTextTransformer()),\n",
       "                ('vectorizer', CountVectorizer(min_df=3, stop_words='english')),\n",
       "                ('dense', DenseTransformer()),\n",
       "                ('t2pi_transformer', T2PITransformer()),\n",
       "                ('classifier', MultinomialNB())])"
      ]
     },
     "execution_count": 25,
     "metadata": {},
     "output_type": "execute_result"
    }
   ],
   "source": [
    "# initialize model\n",
    "t2pi_model = get_model(use_t2pi=True, classifier=get_classifier())\n",
    "\n",
    "# fit model\n",
    "t2pi_model.fit(X_train, y_train)"
   ]
  },
  {
   "cell_type": "code",
   "execution_count": 26,
   "metadata": {
    "id": "gRkaXwu10ltd",
    "scrolled": true
   },
   "outputs": [
    {
     "name": "stdout",
     "output_type": "stream",
     "text": [
      "transforming ...\n"
     ]
    },
    {
     "data": {
      "application/vnd.jupyter.widget-view+json": {
       "model_id": "a0162b69cc954861bc8c99036cf33f7c",
       "version_major": 2,
       "version_minor": 0
      },
      "text/plain": [
       "HBox(children=(HTML(value=''), FloatProgress(value=0.0, max=94.0), HTML(value='')))"
      ]
     },
     "metadata": {},
     "output_type": "display_data"
    },
    {
     "name": "stdout",
     "output_type": "stream",
     "text": [
      "\n",
      "sparsity(X):\n",
      "=> before 0.9824\n",
      "=>  after 0.1838\n",
      "\n",
      "              precision    recall  f1-score   support\n",
      "\n",
      "           0       0.67      0.73      0.70        30\n",
      "           1       0.78      0.78      0.78        18\n",
      "           2       0.77      0.81      0.79        21\n",
      "           3       0.76      0.64      0.70        25\n",
      "\n",
      "    accuracy                           0.73        94\n",
      "   macro avg       0.74      0.74      0.74        94\n",
      "weighted avg       0.74      0.73      0.73        94\n",
      "\n"
     ]
    }
   ],
   "source": [
    "y_pred = t2pi_model.predict(X_test) #predict testing data\n",
    "\n",
    "print(classification_report(y_test, y_pred))"
   ]
  },
  {
   "cell_type": "markdown",
   "metadata": {
    "id": "9_7bBVlY0ltn"
   },
   "source": [
    "### Initialize models"
   ]
  },
  {
   "cell_type": "code",
   "execution_count": 27,
   "metadata": {
    "id": "2lYsESOf0lto"
   },
   "outputs": [],
   "source": [
    "# normal model\n",
    "count_model = get_model(stop_words=None, classifier=get_classifier())\n",
    "count_sw_model = get_model(stop_words=\"english\", classifier=get_classifier())\n",
    "\n",
    "tfidf_model = get_model(tfidf=True, stop_words=None, classifier=get_classifier())\n",
    "tfidf_sw_model = get_model(tfidf=True, stop_words=\"english\", classifier=get_classifier())\n",
    "\n",
    "# model\n",
    "t2pi_count_model = get_model(use_t2pi=True, stop_words=None, classifier=get_classifier())\n",
    "t2pi_count_sw_model = get_model(use_t2pi=True, stop_words=\"english\", classifier=get_classifier())\n",
    "\n",
    "t2pi_tfidf_model = get_model(tfidf=True, use_t2pi=True, stop_words=None, classifier=get_classifier())\n",
    "t2pi_tfidf_sw_model = get_model(tfidf=True, use_t2pi=True, stop_words=\"english\", classifier=get_classifier())\n",
    "\n",
    "models = {\n",
    "    \"count_model\": count_model, \n",
    "    \"count_sw_model\": count_model, \n",
    "    \"tfidf_model\": tfidf_model,\n",
    "    \"tfidf_sw_model\": tfidf_sw_model, \n",
    "    \"t2pi_count_model\": t2pi_count_model,\n",
    "    \"t2pi_count_sw_model\": t2pi_count_sw_model, \n",
    "    \"t2pi_tfidf_model\": t2pi_tfidf_model, \n",
    "    \"t2pi_tfidf_sw_model\": t2pi_tfidf_sw_model\n",
    "}"
   ]
  },
  {
   "cell_type": "markdown",
   "metadata": {
    "id": "Ky4t7czB0lts"
   },
   "source": [
    "### Running Cross validation on all Models"
   ]
  },
  {
   "cell_type": "code",
   "execution_count": 28,
   "metadata": {
    "colab": {
     "base_uri": "https://localhost:8080/"
    },
    "id": "MaHl8bxm0ltt",
    "outputId": "5873b870-0f7a-455a-a0b0-be95c7a45f52"
   },
   "outputs": [
    {
     "name": "stdout",
     "output_type": "stream",
     "text": [
      "-> 1. count_model \n",
      "====================================================================================================\n",
      "\n",
      "-> 1. count_sw_model \n",
      "====================================================================================================\n",
      "\n",
      "-> 1. tfidf_model \n",
      "====================================================================================================\n",
      "\n",
      "-> 1. tfidf_sw_model \n",
      "====================================================================================================\n",
      "\n",
      "-> 1. t2pi_count_model \n",
      "====================================================================================================\n",
      "\n",
      "creating term-term co-occurence pr matrix\n"
     ]
    },
    {
     "data": {
      "application/vnd.jupyter.widget-view+json": {
       "model_id": "4ca5810b72804702a18ee3296a5c319f",
       "version_major": 2,
       "version_minor": 0
      },
      "text/plain": [
       "HBox(children=(HTML(value=''), FloatProgress(value=0.0, max=803.0), HTML(value='')))"
      ]
     },
     "metadata": {},
     "output_type": "display_data"
    },
    {
     "name": "stdout",
     "output_type": "stream",
     "text": [
      "\n",
      "transforming ...\n"
     ]
    },
    {
     "data": {
      "application/vnd.jupyter.widget-view+json": {
       "model_id": "63478f75abad4353803756816dcf276a",
       "version_major": 2,
       "version_minor": 0
      },
      "text/plain": [
       "HBox(children=(HTML(value=''), FloatProgress(value=0.0, max=250.0), HTML(value='')))"
      ]
     },
     "metadata": {},
     "output_type": "display_data"
    },
    {
     "name": "stdout",
     "output_type": "stream",
     "text": [
      "\n",
      "sparsity(X):\n",
      "=> before 0.9546\n",
      "=>  after 0.0001\n",
      "\n",
      "transforming ...\n"
     ]
    },
    {
     "data": {
      "application/vnd.jupyter.widget-view+json": {
       "model_id": "b2c686105d2e47069d1e7356b77cbfb3",
       "version_major": 2,
       "version_minor": 0
      },
      "text/plain": [
       "HBox(children=(HTML(value=''), FloatProgress(value=0.0, max=126.0), HTML(value='')))"
      ]
     },
     "metadata": {},
     "output_type": "display_data"
    },
    {
     "name": "stdout",
     "output_type": "stream",
     "text": [
      "\n",
      "sparsity(X):\n",
      "=> before 0.9582\n",
      "=>  after 0.0000\n",
      "\n",
      "-> 1. t2pi_count_sw_model \n",
      "====================================================================================================\n",
      "\n",
      "creating term-term co-occurence pr matrix\n"
     ]
    },
    {
     "data": {
      "application/vnd.jupyter.widget-view+json": {
       "model_id": "ec70c1fbb29946c795887234a150d491",
       "version_major": 2,
       "version_minor": 0
      },
      "text/plain": [
       "HBox(children=(HTML(value=''), FloatProgress(value=0.0, max=601.0), HTML(value='')))"
      ]
     },
     "metadata": {},
     "output_type": "display_data"
    },
    {
     "name": "stdout",
     "output_type": "stream",
     "text": [
      "\n",
      "transforming ...\n"
     ]
    },
    {
     "data": {
      "application/vnd.jupyter.widget-view+json": {
       "model_id": "b2a1aa72ea184324a2a831d467d3f15c",
       "version_major": 2,
       "version_minor": 0
      },
      "text/plain": [
       "HBox(children=(HTML(value=''), FloatProgress(value=0.0, max=250.0), HTML(value='')))"
      ]
     },
     "metadata": {},
     "output_type": "display_data"
    },
    {
     "name": "stdout",
     "output_type": "stream",
     "text": [
      "\n",
      "sparsity(X):\n",
      "=> before 0.9770\n",
      "=>  after 0.1768\n",
      "\n",
      "transforming ...\n"
     ]
    },
    {
     "data": {
      "application/vnd.jupyter.widget-view+json": {
       "model_id": "7e78fb8fbb844fad99dbcd4c5c5a929e",
       "version_major": 2,
       "version_minor": 0
      },
      "text/plain": [
       "HBox(children=(HTML(value=''), FloatProgress(value=0.0, max=126.0), HTML(value='')))"
      ]
     },
     "metadata": {},
     "output_type": "display_data"
    },
    {
     "name": "stdout",
     "output_type": "stream",
     "text": [
      "\n",
      "sparsity(X):\n",
      "=> before 0.9824\n",
      "=>  after 0.1983\n",
      "\n",
      "-> 1. t2pi_tfidf_model \n",
      "====================================================================================================\n",
      "\n",
      "creating term-term co-occurence pr matrix\n"
     ]
    },
    {
     "data": {
      "application/vnd.jupyter.widget-view+json": {
       "model_id": "15e581bf316b4767986cfb38b4d9cf80",
       "version_major": 2,
       "version_minor": 0
      },
      "text/plain": [
       "HBox(children=(HTML(value=''), FloatProgress(value=0.0, max=803.0), HTML(value='')))"
      ]
     },
     "metadata": {},
     "output_type": "display_data"
    },
    {
     "name": "stdout",
     "output_type": "stream",
     "text": [
      "\n",
      "transforming ...\n"
     ]
    },
    {
     "data": {
      "application/vnd.jupyter.widget-view+json": {
       "model_id": "9837684d20184a69b246f394a5442866",
       "version_major": 2,
       "version_minor": 0
      },
      "text/plain": [
       "HBox(children=(HTML(value=''), FloatProgress(value=0.0, max=250.0), HTML(value='')))"
      ]
     },
     "metadata": {},
     "output_type": "display_data"
    },
    {
     "name": "stdout",
     "output_type": "stream",
     "text": [
      "\n",
      "sparsity(X):\n",
      "=> before 0.9546\n",
      "=>  after 0.0001\n",
      "\n",
      "transforming ...\n"
     ]
    },
    {
     "data": {
      "application/vnd.jupyter.widget-view+json": {
       "model_id": "210456be5337458187d037997343039a",
       "version_major": 2,
       "version_minor": 0
      },
      "text/plain": [
       "HBox(children=(HTML(value=''), FloatProgress(value=0.0, max=126.0), HTML(value='')))"
      ]
     },
     "metadata": {},
     "output_type": "display_data"
    },
    {
     "name": "stdout",
     "output_type": "stream",
     "text": [
      "\n",
      "sparsity(X):\n",
      "=> before 0.9582\n",
      "=>  after 0.0000\n",
      "\n",
      "-> 1. t2pi_tfidf_sw_model \n",
      "====================================================================================================\n",
      "\n",
      "creating term-term co-occurence pr matrix\n"
     ]
    },
    {
     "data": {
      "application/vnd.jupyter.widget-view+json": {
       "model_id": "f094cefd191149b18482dfcb7cd0e829",
       "version_major": 2,
       "version_minor": 0
      },
      "text/plain": [
       "HBox(children=(HTML(value=''), FloatProgress(value=0.0, max=601.0), HTML(value='')))"
      ]
     },
     "metadata": {},
     "output_type": "display_data"
    },
    {
     "name": "stdout",
     "output_type": "stream",
     "text": [
      "\n",
      "transforming ...\n"
     ]
    },
    {
     "data": {
      "application/vnd.jupyter.widget-view+json": {
       "model_id": "60b52f094ffe4028a714570e21fa66e1",
       "version_major": 2,
       "version_minor": 0
      },
      "text/plain": [
       "HBox(children=(HTML(value=''), FloatProgress(value=0.0, max=250.0), HTML(value='')))"
      ]
     },
     "metadata": {},
     "output_type": "display_data"
    },
    {
     "name": "stdout",
     "output_type": "stream",
     "text": [
      "\n",
      "sparsity(X):\n",
      "=> before 0.9770\n",
      "=>  after 0.1768\n",
      "\n",
      "transforming ...\n"
     ]
    },
    {
     "data": {
      "application/vnd.jupyter.widget-view+json": {
       "model_id": "7025475845c5486890bf9802bf33e08b",
       "version_major": 2,
       "version_minor": 0
      },
      "text/plain": [
       "HBox(children=(HTML(value=''), FloatProgress(value=0.0, max=126.0), HTML(value='')))"
      ]
     },
     "metadata": {},
     "output_type": "display_data"
    },
    {
     "name": "stdout",
     "output_type": "stream",
     "text": [
      "\n",
      "sparsity(X):\n",
      "=> before 0.9824\n",
      "=>  after 0.1983\n",
      "\n",
      "-> 2. count_model \n",
      "====================================================================================================\n",
      "\n",
      "-> 2. count_sw_model \n",
      "====================================================================================================\n",
      "\n",
      "-> 2. tfidf_model \n",
      "====================================================================================================\n",
      "\n",
      "-> 2. tfidf_sw_model \n",
      "====================================================================================================\n",
      "\n",
      "-> 2. t2pi_count_model \n",
      "====================================================================================================\n",
      "\n",
      "creating term-term co-occurence pr matrix\n"
     ]
    },
    {
     "data": {
      "application/vnd.jupyter.widget-view+json": {
       "model_id": "e6a9f36651374571a85a84e48f2c5c04",
       "version_major": 2,
       "version_minor": 0
      },
      "text/plain": [
       "HBox(children=(HTML(value=''), FloatProgress(value=0.0, max=824.0), HTML(value='')))"
      ]
     },
     "metadata": {},
     "output_type": "display_data"
    },
    {
     "name": "stdout",
     "output_type": "stream",
     "text": [
      "\n",
      "transforming ...\n"
     ]
    },
    {
     "data": {
      "application/vnd.jupyter.widget-view+json": {
       "model_id": "deeedfdcccd34914ba3a6ab692082c2d",
       "version_major": 2,
       "version_minor": 0
      },
      "text/plain": [
       "HBox(children=(HTML(value=''), FloatProgress(value=0.0, max=251.0), HTML(value='')))"
      ]
     },
     "metadata": {},
     "output_type": "display_data"
    },
    {
     "name": "stdout",
     "output_type": "stream",
     "text": [
      "\n",
      "sparsity(X):\n",
      "=> before 0.9558\n",
      "=>  after 0.0000\n",
      "\n",
      "transforming ...\n"
     ]
    },
    {
     "data": {
      "application/vnd.jupyter.widget-view+json": {
       "model_id": "9957acc86e634d2090d1efd4d732a6d9",
       "version_major": 2,
       "version_minor": 0
      },
      "text/plain": [
       "HBox(children=(HTML(value=''), FloatProgress(value=0.0, max=125.0), HTML(value='')))"
      ]
     },
     "metadata": {},
     "output_type": "display_data"
    },
    {
     "name": "stdout",
     "output_type": "stream",
     "text": [
      "\n",
      "sparsity(X):\n",
      "=> before 0.9586\n",
      "=>  after 0.0000\n",
      "\n",
      "-> 2. t2pi_count_sw_model \n",
      "====================================================================================================\n",
      "\n",
      "creating term-term co-occurence pr matrix\n"
     ]
    },
    {
     "data": {
      "application/vnd.jupyter.widget-view+json": {
       "model_id": "2988046e95f04ec39573666002e08b2f",
       "version_major": 2,
       "version_minor": 0
      },
      "text/plain": [
       "HBox(children=(HTML(value=''), FloatProgress(value=0.0, max=628.0), HTML(value='')))"
      ]
     },
     "metadata": {},
     "output_type": "display_data"
    },
    {
     "name": "stdout",
     "output_type": "stream",
     "text": [
      "\n",
      "transforming ...\n"
     ]
    },
    {
     "data": {
      "application/vnd.jupyter.widget-view+json": {
       "model_id": "d8911c526fef4f098b6042016f4757bd",
       "version_major": 2,
       "version_minor": 0
      },
      "text/plain": [
       "HBox(children=(HTML(value=''), FloatProgress(value=0.0, max=251.0), HTML(value='')))"
      ]
     },
     "metadata": {},
     "output_type": "display_data"
    },
    {
     "name": "stdout",
     "output_type": "stream",
     "text": [
      "\n",
      "sparsity(X):\n",
      "=> before 0.9779\n",
      "=>  after 0.1938\n",
      "\n",
      "transforming ...\n"
     ]
    },
    {
     "data": {
      "application/vnd.jupyter.widget-view+json": {
       "model_id": "e31eb380376c4b0c875e0ec9269bc72e",
       "version_major": 2,
       "version_minor": 0
      },
      "text/plain": [
       "HBox(children=(HTML(value=''), FloatProgress(value=0.0, max=125.0), HTML(value='')))"
      ]
     },
     "metadata": {},
     "output_type": "display_data"
    },
    {
     "name": "stdout",
     "output_type": "stream",
     "text": [
      "\n",
      "sparsity(X):\n",
      "=> before 0.9825\n",
      "=>  after 0.1980\n",
      "\n",
      "-> 2. t2pi_tfidf_model \n",
      "====================================================================================================\n",
      "\n",
      "creating term-term co-occurence pr matrix\n"
     ]
    },
    {
     "data": {
      "application/vnd.jupyter.widget-view+json": {
       "model_id": "18aa279e53d241c5bca99b26692da770",
       "version_major": 2,
       "version_minor": 0
      },
      "text/plain": [
       "HBox(children=(HTML(value=''), FloatProgress(value=0.0, max=824.0), HTML(value='')))"
      ]
     },
     "metadata": {},
     "output_type": "display_data"
    },
    {
     "name": "stdout",
     "output_type": "stream",
     "text": [
      "\n",
      "transforming ...\n"
     ]
    },
    {
     "data": {
      "application/vnd.jupyter.widget-view+json": {
       "model_id": "ed6a6b20f5af4ba28998d6f698a726db",
       "version_major": 2,
       "version_minor": 0
      },
      "text/plain": [
       "HBox(children=(HTML(value=''), FloatProgress(value=0.0, max=251.0), HTML(value='')))"
      ]
     },
     "metadata": {},
     "output_type": "display_data"
    },
    {
     "name": "stdout",
     "output_type": "stream",
     "text": [
      "\n",
      "sparsity(X):\n",
      "=> before 0.9558\n",
      "=>  after 0.0000\n",
      "\n",
      "transforming ...\n"
     ]
    },
    {
     "data": {
      "application/vnd.jupyter.widget-view+json": {
       "model_id": "d104722e6c404e03b4f635f71188826f",
       "version_major": 2,
       "version_minor": 0
      },
      "text/plain": [
       "HBox(children=(HTML(value=''), FloatProgress(value=0.0, max=125.0), HTML(value='')))"
      ]
     },
     "metadata": {},
     "output_type": "display_data"
    },
    {
     "name": "stdout",
     "output_type": "stream",
     "text": [
      "\n",
      "sparsity(X):\n",
      "=> before 0.9586\n",
      "=>  after 0.0000\n",
      "\n",
      "-> 2. t2pi_tfidf_sw_model \n",
      "====================================================================================================\n",
      "\n",
      "creating term-term co-occurence pr matrix\n"
     ]
    },
    {
     "data": {
      "application/vnd.jupyter.widget-view+json": {
       "model_id": "16c38c6a4eec460d965ffa8fbcc3813a",
       "version_major": 2,
       "version_minor": 0
      },
      "text/plain": [
       "HBox(children=(HTML(value=''), FloatProgress(value=0.0, max=628.0), HTML(value='')))"
      ]
     },
     "metadata": {},
     "output_type": "display_data"
    },
    {
     "name": "stdout",
     "output_type": "stream",
     "text": [
      "\n",
      "transforming ...\n"
     ]
    },
    {
     "data": {
      "application/vnd.jupyter.widget-view+json": {
       "model_id": "7e4b9d717fa54854b3c577bf040654c0",
       "version_major": 2,
       "version_minor": 0
      },
      "text/plain": [
       "HBox(children=(HTML(value=''), FloatProgress(value=0.0, max=251.0), HTML(value='')))"
      ]
     },
     "metadata": {},
     "output_type": "display_data"
    },
    {
     "name": "stdout",
     "output_type": "stream",
     "text": [
      "\n",
      "sparsity(X):\n",
      "=> before 0.9779\n",
      "=>  after 0.1938\n",
      "\n",
      "transforming ...\n"
     ]
    },
    {
     "data": {
      "application/vnd.jupyter.widget-view+json": {
       "model_id": "6451fcaf030343ada3d00ad749fbd2c6",
       "version_major": 2,
       "version_minor": 0
      },
      "text/plain": [
       "HBox(children=(HTML(value=''), FloatProgress(value=0.0, max=125.0), HTML(value='')))"
      ]
     },
     "metadata": {},
     "output_type": "display_data"
    },
    {
     "name": "stdout",
     "output_type": "stream",
     "text": [
      "\n",
      "sparsity(X):\n",
      "=> before 0.9825\n",
      "=>  after 0.1980\n",
      "\n",
      "-> 3. count_model \n",
      "====================================================================================================\n",
      "\n",
      "-> 3. count_sw_model \n",
      "====================================================================================================\n",
      "\n",
      "-> 3. tfidf_model \n",
      "====================================================================================================\n",
      "\n",
      "-> 3. tfidf_sw_model \n",
      "====================================================================================================\n",
      "\n",
      "-> 3. t2pi_count_model \n",
      "====================================================================================================\n",
      "\n",
      "creating term-term co-occurence pr matrix\n"
     ]
    },
    {
     "data": {
      "application/vnd.jupyter.widget-view+json": {
       "model_id": "3e8760c1e2a84e989e5704721ab04a16",
       "version_major": 2,
       "version_minor": 0
      },
      "text/plain": [
       "HBox(children=(HTML(value=''), FloatProgress(value=0.0, max=800.0), HTML(value='')))"
      ]
     },
     "metadata": {},
     "output_type": "display_data"
    },
    {
     "name": "stdout",
     "output_type": "stream",
     "text": [
      "\n",
      "transforming ...\n"
     ]
    },
    {
     "data": {
      "application/vnd.jupyter.widget-view+json": {
       "model_id": "b5cbe302c7ff47cebc757ff188b24f88",
       "version_major": 2,
       "version_minor": 0
      },
      "text/plain": [
       "HBox(children=(HTML(value=''), FloatProgress(value=0.0, max=251.0), HTML(value='')))"
      ]
     },
     "metadata": {},
     "output_type": "display_data"
    },
    {
     "name": "stdout",
     "output_type": "stream",
     "text": [
      "\n",
      "sparsity(X):\n",
      "=> before 0.9539\n",
      "=>  after 0.0000\n",
      "\n",
      "transforming ...\n"
     ]
    },
    {
     "data": {
      "application/vnd.jupyter.widget-view+json": {
       "model_id": "a8f91836d05d4445a88d587a5df7fab8",
       "version_major": 2,
       "version_minor": 0
      },
      "text/plain": [
       "HBox(children=(HTML(value=''), FloatProgress(value=0.0, max=125.0), HTML(value='')))"
      ]
     },
     "metadata": {},
     "output_type": "display_data"
    },
    {
     "name": "stdout",
     "output_type": "stream",
     "text": [
      "\n",
      "sparsity(X):\n",
      "=> before 0.9589\n",
      "=>  after 0.0000\n",
      "\n",
      "-> 3. t2pi_count_sw_model \n",
      "====================================================================================================\n",
      "\n",
      "creating term-term co-occurence pr matrix\n"
     ]
    },
    {
     "data": {
      "application/vnd.jupyter.widget-view+json": {
       "model_id": "1686bd072dfd4613aed4c99d3acd346e",
       "version_major": 2,
       "version_minor": 0
      },
      "text/plain": [
       "HBox(children=(HTML(value=''), FloatProgress(value=0.0, max=599.0), HTML(value='')))"
      ]
     },
     "metadata": {},
     "output_type": "display_data"
    },
    {
     "name": "stdout",
     "output_type": "stream",
     "text": [
      "\n",
      "transforming ...\n"
     ]
    },
    {
     "data": {
      "application/vnd.jupyter.widget-view+json": {
       "model_id": "7f4c0c95619447b7b9ed6919dd344ace",
       "version_major": 2,
       "version_minor": 0
      },
      "text/plain": [
       "HBox(children=(HTML(value=''), FloatProgress(value=0.0, max=251.0), HTML(value='')))"
      ]
     },
     "metadata": {},
     "output_type": "display_data"
    },
    {
     "name": "stdout",
     "output_type": "stream",
     "text": [
      "\n",
      "sparsity(X):\n",
      "=> before 0.9772\n",
      "=>  after 0.1756\n",
      "\n",
      "transforming ...\n"
     ]
    },
    {
     "data": {
      "application/vnd.jupyter.widget-view+json": {
       "model_id": "ddff78fe795d4cdfb36c3bb7fd672ade",
       "version_major": 2,
       "version_minor": 0
      },
      "text/plain": [
       "HBox(children=(HTML(value=''), FloatProgress(value=0.0, max=125.0), HTML(value='')))"
      ]
     },
     "metadata": {},
     "output_type": "display_data"
    },
    {
     "name": "stdout",
     "output_type": "stream",
     "text": [
      "\n",
      "sparsity(X):\n",
      "=> before 0.9816\n",
      "=>  after 0.1916\n",
      "\n",
      "-> 3. t2pi_tfidf_model \n",
      "====================================================================================================\n",
      "\n",
      "creating term-term co-occurence pr matrix\n"
     ]
    },
    {
     "data": {
      "application/vnd.jupyter.widget-view+json": {
       "model_id": "cb26871f282d412392099266947acdfc",
       "version_major": 2,
       "version_minor": 0
      },
      "text/plain": [
       "HBox(children=(HTML(value=''), FloatProgress(value=0.0, max=800.0), HTML(value='')))"
      ]
     },
     "metadata": {},
     "output_type": "display_data"
    },
    {
     "name": "stdout",
     "output_type": "stream",
     "text": [
      "\n",
      "transforming ...\n"
     ]
    },
    {
     "data": {
      "application/vnd.jupyter.widget-view+json": {
       "model_id": "a0c4bdf6d5904d10b5a790fcc0dd7a9f",
       "version_major": 2,
       "version_minor": 0
      },
      "text/plain": [
       "HBox(children=(HTML(value=''), FloatProgress(value=0.0, max=251.0), HTML(value='')))"
      ]
     },
     "metadata": {},
     "output_type": "display_data"
    },
    {
     "name": "stdout",
     "output_type": "stream",
     "text": [
      "\n",
      "sparsity(X):\n",
      "=> before 0.9539\n",
      "=>  after 0.0000\n",
      "\n",
      "transforming ...\n"
     ]
    },
    {
     "data": {
      "application/vnd.jupyter.widget-view+json": {
       "model_id": "d58f8ac3c1ba457682961bc12231b072",
       "version_major": 2,
       "version_minor": 0
      },
      "text/plain": [
       "HBox(children=(HTML(value=''), FloatProgress(value=0.0, max=125.0), HTML(value='')))"
      ]
     },
     "metadata": {},
     "output_type": "display_data"
    },
    {
     "name": "stdout",
     "output_type": "stream",
     "text": [
      "\n",
      "sparsity(X):\n",
      "=> before 0.9589\n",
      "=>  after 0.0000\n",
      "\n",
      "-> 3. t2pi_tfidf_sw_model \n",
      "====================================================================================================\n",
      "\n",
      "creating term-term co-occurence pr matrix\n"
     ]
    },
    {
     "data": {
      "application/vnd.jupyter.widget-view+json": {
       "model_id": "511e3a37e68e4baf9df62e3b603fea79",
       "version_major": 2,
       "version_minor": 0
      },
      "text/plain": [
       "HBox(children=(HTML(value=''), FloatProgress(value=0.0, max=599.0), HTML(value='')))"
      ]
     },
     "metadata": {},
     "output_type": "display_data"
    },
    {
     "name": "stdout",
     "output_type": "stream",
     "text": [
      "\n",
      "transforming ...\n"
     ]
    },
    {
     "data": {
      "application/vnd.jupyter.widget-view+json": {
       "model_id": "d0c7b86bdbbe4e4eadb1225c66c21e9c",
       "version_major": 2,
       "version_minor": 0
      },
      "text/plain": [
       "HBox(children=(HTML(value=''), FloatProgress(value=0.0, max=251.0), HTML(value='')))"
      ]
     },
     "metadata": {},
     "output_type": "display_data"
    },
    {
     "name": "stdout",
     "output_type": "stream",
     "text": [
      "\n",
      "sparsity(X):\n",
      "=> before 0.9772\n",
      "=>  after 0.1756\n",
      "\n",
      "transforming ...\n"
     ]
    },
    {
     "data": {
      "application/vnd.jupyter.widget-view+json": {
       "model_id": "020e71973b2148109d0f44a25ab12ed2",
       "version_major": 2,
       "version_minor": 0
      },
      "text/plain": [
       "HBox(children=(HTML(value=''), FloatProgress(value=0.0, max=125.0), HTML(value='')))"
      ]
     },
     "metadata": {},
     "output_type": "display_data"
    },
    {
     "name": "stdout",
     "output_type": "stream",
     "text": [
      "\n",
      "sparsity(X):\n",
      "=> before 0.9816\n",
      "=>  after 0.1916\n",
      "\n"
     ]
    }
   ],
   "source": [
    "split_size = 3\n",
    "skf = StratifiedKFold(n_splits=split_size, shuffle=True, random_state=100) \n",
    "\n",
    "index = 0\n",
    "macro_f1_scores, weighted_f1_scores, accuracies = [], [], []\n",
    "\n",
    "for train_index, test_index in skf.split(X, y):\n",
    "    index += 1\n",
    "    \n",
    "    x_train_fold, x_test_fold = X.iloc[train_index], X.iloc[test_index] \n",
    "    y_train_fold, y_test_fold = y.iloc[train_index], y.iloc[test_index]\n",
    "    \n",
    "    accuracies.append([])\n",
    "    macro_f1_scores.append([])\n",
    "    weighted_f1_scores.append([])\n",
    "    \n",
    "    for model_name, model in models.items():\n",
    "        print(f'-> {index}. {model_name} \\n{\"=\"*100}\\n')\n",
    "        model.fit(x_train_fold, y_train_fold)\n",
    "        y_pred = model.predict(x_test_fold)\n",
    "\n",
    "        accuracy = accuracy_score(y_test_fold, y_pred)\n",
    "        weighted_f1_score = calculate_f1_score(y_test_fold, y_pred, average='weighted')\n",
    "        macro_f1_score = calculate_f1_score(y_test_fold, y_pred, average='macro')\n",
    "        \n",
    "        weighted_f1_scores[-1].append(weighted_f1_score)\n",
    "        macro_f1_scores[-1].append(macro_f1_score)\n",
    "        accuracies[-1].append(accuracy)"
   ]
  },
  {
   "cell_type": "code",
   "execution_count": 29,
   "metadata": {
    "id": "x1Jz_zRb0ltz"
   },
   "outputs": [],
   "source": [
    "model_names = list(models.keys())\n",
    "\n",
    "accuracy = pd.DataFrame(data=np.array(accuracies), columns=model_names)\n",
    "weighted_f1_score = pd.DataFrame(data=np.array(weighted_f1_scores), columns=model_names)\n",
    "macro_f1_score = pd.DataFrame(data=np.array(macro_f1_scores), columns=model_names)\n",
    "\n",
    "accuracy.loc[\"mean\"] = accuracy.mean(0)\n",
    "weighted_f1_score.loc[\"mean\"] = weighted_f1_score.mean(0)\n",
    "macro_f1_score.loc[\"mean\"] = macro_f1_score.mean(0)"
   ]
  },
  {
   "cell_type": "code",
   "execution_count": 30,
   "metadata": {},
   "outputs": [
    {
     "data": {
      "text/html": [
       "<div>\n",
       "<style scoped>\n",
       "    .dataframe tbody tr th:only-of-type {\n",
       "        vertical-align: middle;\n",
       "    }\n",
       "\n",
       "    .dataframe tbody tr th {\n",
       "        vertical-align: top;\n",
       "    }\n",
       "\n",
       "    .dataframe thead th {\n",
       "        text-align: right;\n",
       "    }\n",
       "</style>\n",
       "<table border=\"1\" class=\"dataframe\">\n",
       "  <thead>\n",
       "    <tr style=\"text-align: right;\">\n",
       "      <th></th>\n",
       "      <th>count_model</th>\n",
       "      <th>count_sw_model</th>\n",
       "      <th>tfidf_model</th>\n",
       "      <th>tfidf_sw_model</th>\n",
       "      <th>t2pi_count_model</th>\n",
       "      <th>t2pi_count_sw_model</th>\n",
       "      <th>t2pi_tfidf_model</th>\n",
       "      <th>t2pi_tfidf_sw_model</th>\n",
       "    </tr>\n",
       "  </thead>\n",
       "  <tbody>\n",
       "    <tr>\n",
       "      <th>0</th>\n",
       "      <td>0.682540</td>\n",
       "      <td>0.682540</td>\n",
       "      <td>0.682540</td>\n",
       "      <td>0.674603</td>\n",
       "      <td>0.626984</td>\n",
       "      <td>0.642857</td>\n",
       "      <td>0.650794</td>\n",
       "      <td>0.626984</td>\n",
       "    </tr>\n",
       "    <tr>\n",
       "      <th>1</th>\n",
       "      <td>0.736000</td>\n",
       "      <td>0.736000</td>\n",
       "      <td>0.728000</td>\n",
       "      <td>0.712000</td>\n",
       "      <td>0.608000</td>\n",
       "      <td>0.608000</td>\n",
       "      <td>0.624000</td>\n",
       "      <td>0.632000</td>\n",
       "    </tr>\n",
       "    <tr>\n",
       "      <th>2</th>\n",
       "      <td>0.696000</td>\n",
       "      <td>0.696000</td>\n",
       "      <td>0.688000</td>\n",
       "      <td>0.736000</td>\n",
       "      <td>0.712000</td>\n",
       "      <td>0.736000</td>\n",
       "      <td>0.680000</td>\n",
       "      <td>0.704000</td>\n",
       "    </tr>\n",
       "    <tr>\n",
       "      <th>mean</th>\n",
       "      <td>0.704847</td>\n",
       "      <td>0.704847</td>\n",
       "      <td>0.699513</td>\n",
       "      <td>0.707534</td>\n",
       "      <td>0.648995</td>\n",
       "      <td>0.662286</td>\n",
       "      <td>0.651598</td>\n",
       "      <td>0.654328</td>\n",
       "    </tr>\n",
       "  </tbody>\n",
       "</table>\n",
       "</div>"
      ],
      "text/plain": [
       "      count_model  count_sw_model  tfidf_model  tfidf_sw_model  \\\n",
       "0        0.682540        0.682540     0.682540        0.674603   \n",
       "1        0.736000        0.736000     0.728000        0.712000   \n",
       "2        0.696000        0.696000     0.688000        0.736000   \n",
       "mean     0.704847        0.704847     0.699513        0.707534   \n",
       "\n",
       "      t2pi_count_model  t2pi_count_sw_model  t2pi_tfidf_model  \\\n",
       "0             0.626984             0.642857          0.650794   \n",
       "1             0.608000             0.608000          0.624000   \n",
       "2             0.712000             0.736000          0.680000   \n",
       "mean          0.648995             0.662286          0.651598   \n",
       "\n",
       "      t2pi_tfidf_sw_model  \n",
       "0                0.626984  \n",
       "1                0.632000  \n",
       "2                0.704000  \n",
       "mean             0.654328  "
      ]
     },
     "execution_count": 30,
     "metadata": {},
     "output_type": "execute_result"
    }
   ],
   "source": [
    "accuracy.head(split_size+1)"
   ]
  },
  {
   "cell_type": "code",
   "execution_count": 31,
   "metadata": {},
   "outputs": [
    {
     "data": {
      "text/html": [
       "<div>\n",
       "<style scoped>\n",
       "    .dataframe tbody tr th:only-of-type {\n",
       "        vertical-align: middle;\n",
       "    }\n",
       "\n",
       "    .dataframe tbody tr th {\n",
       "        vertical-align: top;\n",
       "    }\n",
       "\n",
       "    .dataframe thead th {\n",
       "        text-align: right;\n",
       "    }\n",
       "</style>\n",
       "<table border=\"1\" class=\"dataframe\">\n",
       "  <thead>\n",
       "    <tr style=\"text-align: right;\">\n",
       "      <th></th>\n",
       "      <th>count_model</th>\n",
       "      <th>count_sw_model</th>\n",
       "      <th>tfidf_model</th>\n",
       "      <th>tfidf_sw_model</th>\n",
       "      <th>t2pi_count_model</th>\n",
       "      <th>t2pi_count_sw_model</th>\n",
       "      <th>t2pi_tfidf_model</th>\n",
       "      <th>t2pi_tfidf_sw_model</th>\n",
       "    </tr>\n",
       "  </thead>\n",
       "  <tbody>\n",
       "    <tr>\n",
       "      <th>0</th>\n",
       "      <td>0.681299</td>\n",
       "      <td>0.681299</td>\n",
       "      <td>0.682573</td>\n",
       "      <td>0.675053</td>\n",
       "      <td>0.624959</td>\n",
       "      <td>0.643470</td>\n",
       "      <td>0.649778</td>\n",
       "      <td>0.626529</td>\n",
       "    </tr>\n",
       "    <tr>\n",
       "      <th>1</th>\n",
       "      <td>0.731821</td>\n",
       "      <td>0.731821</td>\n",
       "      <td>0.725990</td>\n",
       "      <td>0.712761</td>\n",
       "      <td>0.589665</td>\n",
       "      <td>0.601218</td>\n",
       "      <td>0.601453</td>\n",
       "      <td>0.629997</td>\n",
       "    </tr>\n",
       "    <tr>\n",
       "      <th>2</th>\n",
       "      <td>0.696264</td>\n",
       "      <td>0.696264</td>\n",
       "      <td>0.684740</td>\n",
       "      <td>0.733472</td>\n",
       "      <td>0.711251</td>\n",
       "      <td>0.735336</td>\n",
       "      <td>0.679669</td>\n",
       "      <td>0.704248</td>\n",
       "    </tr>\n",
       "    <tr>\n",
       "      <th>mean</th>\n",
       "      <td>0.703128</td>\n",
       "      <td>0.703128</td>\n",
       "      <td>0.697768</td>\n",
       "      <td>0.707096</td>\n",
       "      <td>0.641958</td>\n",
       "      <td>0.660008</td>\n",
       "      <td>0.643633</td>\n",
       "      <td>0.653591</td>\n",
       "    </tr>\n",
       "  </tbody>\n",
       "</table>\n",
       "</div>"
      ],
      "text/plain": [
       "      count_model  count_sw_model  tfidf_model  tfidf_sw_model  \\\n",
       "0        0.681299        0.681299     0.682573        0.675053   \n",
       "1        0.731821        0.731821     0.725990        0.712761   \n",
       "2        0.696264        0.696264     0.684740        0.733472   \n",
       "mean     0.703128        0.703128     0.697768        0.707096   \n",
       "\n",
       "      t2pi_count_model  t2pi_count_sw_model  t2pi_tfidf_model  \\\n",
       "0             0.624959             0.643470          0.649778   \n",
       "1             0.589665             0.601218          0.601453   \n",
       "2             0.711251             0.735336          0.679669   \n",
       "mean          0.641958             0.660008          0.643633   \n",
       "\n",
       "      t2pi_tfidf_sw_model  \n",
       "0                0.626529  \n",
       "1                0.629997  \n",
       "2                0.704248  \n",
       "mean             0.653591  "
      ]
     },
     "execution_count": 31,
     "metadata": {},
     "output_type": "execute_result"
    }
   ],
   "source": [
    "weighted_f1_score.head(split_size+1)"
   ]
  },
  {
   "cell_type": "code",
   "execution_count": 32,
   "metadata": {
    "id": "OnrrVJHU0lt9"
   },
   "outputs": [
    {
     "data": {
      "text/html": [
       "<div>\n",
       "<style scoped>\n",
       "    .dataframe tbody tr th:only-of-type {\n",
       "        vertical-align: middle;\n",
       "    }\n",
       "\n",
       "    .dataframe tbody tr th {\n",
       "        vertical-align: top;\n",
       "    }\n",
       "\n",
       "    .dataframe thead th {\n",
       "        text-align: right;\n",
       "    }\n",
       "</style>\n",
       "<table border=\"1\" class=\"dataframe\">\n",
       "  <thead>\n",
       "    <tr style=\"text-align: right;\">\n",
       "      <th></th>\n",
       "      <th>count_model</th>\n",
       "      <th>count_sw_model</th>\n",
       "      <th>tfidf_model</th>\n",
       "      <th>tfidf_sw_model</th>\n",
       "      <th>t2pi_count_model</th>\n",
       "      <th>t2pi_count_sw_model</th>\n",
       "      <th>t2pi_tfidf_model</th>\n",
       "      <th>t2pi_tfidf_sw_model</th>\n",
       "    </tr>\n",
       "  </thead>\n",
       "  <tbody>\n",
       "    <tr>\n",
       "      <th>0</th>\n",
       "      <td>0.681179</td>\n",
       "      <td>0.681179</td>\n",
       "      <td>0.682430</td>\n",
       "      <td>0.675102</td>\n",
       "      <td>0.624447</td>\n",
       "      <td>0.643269</td>\n",
       "      <td>0.649337</td>\n",
       "      <td>0.626218</td>\n",
       "    </tr>\n",
       "    <tr>\n",
       "      <th>1</th>\n",
       "      <td>0.731125</td>\n",
       "      <td>0.731125</td>\n",
       "      <td>0.725393</td>\n",
       "      <td>0.712666</td>\n",
       "      <td>0.588596</td>\n",
       "      <td>0.600830</td>\n",
       "      <td>0.600397</td>\n",
       "      <td>0.629853</td>\n",
       "    </tr>\n",
       "    <tr>\n",
       "      <th>2</th>\n",
       "      <td>0.696401</td>\n",
       "      <td>0.696401</td>\n",
       "      <td>0.685202</td>\n",
       "      <td>0.733915</td>\n",
       "      <td>0.711610</td>\n",
       "      <td>0.735803</td>\n",
       "      <td>0.680073</td>\n",
       "      <td>0.704807</td>\n",
       "    </tr>\n",
       "    <tr>\n",
       "      <th>mean</th>\n",
       "      <td>0.702902</td>\n",
       "      <td>0.702902</td>\n",
       "      <td>0.697675</td>\n",
       "      <td>0.707227</td>\n",
       "      <td>0.641551</td>\n",
       "      <td>0.659967</td>\n",
       "      <td>0.643269</td>\n",
       "      <td>0.653626</td>\n",
       "    </tr>\n",
       "  </tbody>\n",
       "</table>\n",
       "</div>"
      ],
      "text/plain": [
       "      count_model  count_sw_model  tfidf_model  tfidf_sw_model  \\\n",
       "0        0.681179        0.681179     0.682430        0.675102   \n",
       "1        0.731125        0.731125     0.725393        0.712666   \n",
       "2        0.696401        0.696401     0.685202        0.733915   \n",
       "mean     0.702902        0.702902     0.697675        0.707227   \n",
       "\n",
       "      t2pi_count_model  t2pi_count_sw_model  t2pi_tfidf_model  \\\n",
       "0             0.624447             0.643269          0.649337   \n",
       "1             0.588596             0.600830          0.600397   \n",
       "2             0.711610             0.735803          0.680073   \n",
       "mean          0.641551             0.659967          0.643269   \n",
       "\n",
       "      t2pi_tfidf_sw_model  \n",
       "0                0.626218  \n",
       "1                0.629853  \n",
       "2                0.704807  \n",
       "mean             0.653626  "
      ]
     },
     "execution_count": 32,
     "metadata": {},
     "output_type": "execute_result"
    }
   ],
   "source": [
    "macro_f1_score.head(split_size+1)"
   ]
  },
  {
   "cell_type": "code",
   "execution_count": null,
   "metadata": {},
   "outputs": [],
   "source": []
  },
  {
   "cell_type": "code",
   "execution_count": null,
   "metadata": {},
   "outputs": [],
   "source": []
  }
 ],
 "metadata": {
  "colab": {
   "collapsed_sections": [],
   "name": "Recursive word-word inference-colab.ipynb",
   "provenance": []
  },
  "kernelspec": {
   "display_name": "Python 3",
   "language": "python",
   "name": "python3"
  },
  "language_info": {
   "codemirror_mode": {
    "name": "ipython",
    "version": 3
   },
   "file_extension": ".py",
   "mimetype": "text/x-python",
   "name": "python",
   "nbconvert_exporter": "python",
   "pygments_lexer": "ipython3",
   "version": "3.8.5"
  }
 },
 "nbformat": 4,
 "nbformat_minor": 1
}

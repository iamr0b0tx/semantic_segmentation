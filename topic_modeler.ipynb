{
 "cells": [
  {
   "cell_type": "code",
   "execution_count": 1,
   "metadata": {
    "colab": {},
    "colab_type": "code",
    "id": "QfWTxubYcMxR"
   },
   "outputs": [],
   "source": [
    "%load_ext autoreload\n",
    "%autoreload 2"
   ]
  },
  {
   "cell_type": "markdown",
   "metadata": {
    "colab_type": "text",
    "id": "zS4cUkmGcMxd"
   },
   "source": [
    "### imports and utilities"
   ]
  },
  {
   "cell_type": "code",
   "execution_count": 2,
   "metadata": {
    "colab": {
     "base_uri": "https://localhost:8080/",
     "height": 224
    },
    "colab_type": "code",
    "id": "y8zAmrhTcMxe",
    "outputId": "c6f3bac6-21a3-449f-b17e-4d7d1c8a51b1"
   },
   "outputs": [
    {
     "name": "stdout",
     "output_type": "stream",
     "text": [
      "Requirement already satisfied: nltk in c:\\users\\christian\\documents\\christian\\work\\python\\cyberspace\\topic_modeler\\venv\\lib\\site-packages (3.5)\n",
      "Requirement already satisfied: scikit-learn in c:\\users\\christian\\documents\\christian\\work\\python\\cyberspace\\topic_modeler\\venv\\lib\\site-packages (0.23.1)\n",
      "Requirement already satisfied: matplotlib in c:\\users\\christian\\documents\\christian\\work\\python\\cyberspace\\topic_modeler\\venv\\lib\\site-packages (3.2.2)\n",
      "Requirement already satisfied: scipy in c:\\users\\christian\\documents\\christian\\work\\python\\cyberspace\\topic_modeler\\venv\\lib\\site-packages (1.4.1)\n",
      "Requirement already satisfied: joblib in c:\\users\\christian\\documents\\christian\\work\\python\\cyberspace\\topic_modeler\\venv\\lib\\site-packages (from nltk) (0.16.0)\n",
      "Requirement already satisfied: tqdm in c:\\users\\christian\\documents\\christian\\work\\python\\cyberspace\\topic_modeler\\venv\\lib\\site-packages (from nltk) (4.47.0)\n",
      "Requirement already satisfied: click in c:\\users\\christian\\documents\\christian\\work\\python\\cyberspace\\topic_modeler\\venv\\lib\\site-packages (from nltk) (7.1.2)\n",
      "Requirement already satisfied: regex in c:\\users\\christian\\documents\\christian\\work\\python\\cyberspace\\topic_modeler\\venv\\lib\\site-packages (from nltk) (2020.6.8)\n",
      "Requirement already satisfied: numpy>=1.13.3 in c:\\users\\christian\\documents\\christian\\work\\python\\cyberspace\\topic_modeler\\venv\\lib\\site-packages (from scikit-learn) (1.19.0)\n",
      "Requirement already satisfied: threadpoolctl>=2.0.0 in c:\\users\\christian\\documents\\christian\\work\\python\\cyberspace\\topic_modeler\\venv\\lib\\site-packages (from scikit-learn) (2.1.0)\n",
      "Requirement already satisfied: python-dateutil>=2.1 in c:\\users\\christian\\documents\\christian\\work\\python\\cyberspace\\topic_modeler\\venv\\lib\\site-packages (from matplotlib) (2.8.1)\n",
      "Requirement already satisfied: cycler>=0.10 in c:\\users\\christian\\documents\\christian\\work\\python\\cyberspace\\topic_modeler\\venv\\lib\\site-packages (from matplotlib) (0.10.0)\n",
      "Requirement already satisfied: kiwisolver>=1.0.1 in c:\\users\\christian\\documents\\christian\\work\\python\\cyberspace\\topic_modeler\\venv\\lib\\site-packages (from matplotlib) (1.2.0)\n",
      "Requirement already satisfied: pyparsing!=2.0.4,!=2.1.2,!=2.1.6,>=2.0.1 in c:\\users\\christian\\documents\\christian\\work\\python\\cyberspace\\topic_modeler\\venv\\lib\\site-packages (from matplotlib) (2.4.7)\n",
      "Requirement already satisfied: six>=1.5 in c:\\users\\christian\\documents\\christian\\work\\python\\cyberspace\\topic_modeler\\venv\\lib\\site-packages (from python-dateutil>=2.1->matplotlib) (1.15.0)\n"
     ]
    },
    {
     "name": "stderr",
     "output_type": "stream",
     "text": [
      "WARNING: You are using pip version 20.1.1; however, version 20.2 is available.\n",
      "You should consider upgrading via the 'C:\\Users\\christian\\Documents\\christian\\work\\python\\cyberspace\\topic_modeler\\venv\\Scripts\\python.exe -m pip install --upgrade pip' command.\n"
     ]
    }
   ],
   "source": [
    "!pip install nltk scikit-learn matplotlib scipy"
   ]
  },
  {
   "cell_type": "code",
   "execution_count": 3,
   "metadata": {
    "colab": {
     "base_uri": "https://localhost:8080/",
     "height": 153
    },
    "colab_type": "code",
    "id": "qOriDeG8cMxl",
    "outputId": "a4b003fc-c8fb-4937-e900-b5807b0d6d53"
   },
   "outputs": [
    {
     "name": "stderr",
     "output_type": "stream",
     "text": [
      "[nltk_data] Downloading package punkt to\n",
      "[nltk_data]     C:\\Users\\christian\\AppData\\Roaming\\nltk_data...\n",
      "[nltk_data]   Package punkt is already up-to-date!\n",
      "[nltk_data] Downloading package wordnet to\n",
      "[nltk_data]     C:\\Users\\christian\\AppData\\Roaming\\nltk_data...\n",
      "[nltk_data]   Package wordnet is already up-to-date!\n",
      "[nltk_data] Downloading package averaged_perceptron_tagger to\n",
      "[nltk_data]     C:\\Users\\christian\\AppData\\Roaming\\nltk_data...\n",
      "[nltk_data]   Package averaged_perceptron_tagger is already up-to-\n",
      "[nltk_data]       date!\n"
     ]
    },
    {
     "data": {
      "text/plain": [
       "True"
      ]
     },
     "execution_count": 3,
     "metadata": {},
     "output_type": "execute_result"
    }
   ],
   "source": [
    "import nltk\n",
    "nltk.download('punkt')\n",
    "nltk.download('wordnet')\n",
    "nltk.download('averaged_perceptron_tagger')"
   ]
  },
  {
   "cell_type": "code",
   "execution_count": 12,
   "metadata": {
    "colab": {},
    "colab_type": "code",
    "id": "3liQaMKccMxs"
   },
   "outputs": [],
   "source": [
    "from collections import Counter\n",
    "from utils import *\n",
    "\n",
    "import numpy as np\n",
    "import pandas as pd\n",
    "import matplotlib.pyplot as plt\n",
    "\n",
    "from tqdm.notebook import tqdm\n",
    "from scipy.special import softmax\n",
    "from scipy.stats import norm\n",
    "from scipy.stats import entropy as calculate_entropy\n",
    "\n",
    "from sklearn.model_selection import train_test_split\n",
    "from sklearn.decomposition import PCA\n",
    "from sklearn.preprocessing import normalize\n",
    "from sklearn.datasets import fetch_20newsgroups\n",
    "from sklearn.cluster import KMeans, MiniBatchKMeans\n",
    "from sklearn.metrics.pairwise import cosine_similarity\n",
    "from sklearn.feature_extraction.text import CountVectorizer, TfidfVectorizer"
   ]
  },
  {
   "cell_type": "markdown",
   "metadata": {
    "colab_type": "text",
    "id": "gQtq2JhkcMxz"
   },
   "source": [
    "### load dataset"
   ]
  },
  {
   "cell_type": "code",
   "execution_count": 5,
   "metadata": {
    "colab": {
     "base_uri": "https://localhost:8080/",
     "height": 51
    },
    "colab_type": "code",
    "id": "vR1db5rUcMx0",
    "outputId": "8498f3d2-9ac1-4952-8ad6-85b2c076f94a"
   },
   "outputs": [],
   "source": [
    "dataset = \"newsgroup\"\n",
    "\n",
    "# total number of samples needed\n",
    "randomize = False\n",
    "\n",
    "# retrieve dataset\n",
    "categories = ['rec.autos', 'talk.politics.mideast', 'alt.atheism', 'sci.space']\n",
    "\n",
    "all_docs = fetch_20newsgroups(subset='train', shuffle=randomize, remove=('headers', 'footers', 'quotes'), categories=categories)\n",
    "all_docs, old_labels, classes = all_docs.data, all_docs.target, all_docs.target_names"
   ]
  },
  {
   "cell_type": "code",
   "execution_count": 6,
   "metadata": {
    "colab": {},
    "colab_type": "code",
    "id": "xd-imY-icMx8"
   },
   "outputs": [],
   "source": [
    "# dataset = \"bbc\"\n",
    "\n",
    "# data = pd.read_csv('bbcsport.csv')\n",
    "\n",
    "# all_docs = data[\"text\"].to_list()\n",
    "# old_labels = data[\"topic\"].to_list()\n",
    "# categories = classes = np.unique(data[\"topic\"]).tolist()"
   ]
  },
  {
   "cell_type": "markdown",
   "metadata": {
    "colab_type": "text",
    "id": "WYe4XYDfcMyI"
   },
   "source": [
    "### clean dataset"
   ]
  },
  {
   "cell_type": "code",
   "execution_count": 8,
   "metadata": {
    "colab": {
     "base_uri": "https://localhost:8080/",
     "height": 66,
     "referenced_widgets": [
      "b8ee6c0914474dab8186285123c3c25a",
      "1029c3cb5c264802a7bd45639c1a7c20",
      "94d411d6977f493894ec3c8b5975f693",
      "846b5c7701bc49e4be2a7681d5361dd8",
      "2e8643a34a7143e284ed8e94aaca32d7",
      "b8ce72deb0c34c35a99b91bbc9b5504c",
      "cee50571766e465b81cd2d06ac0a4d31",
      "5c20409065a347d18e1ab6bde4c5a0ba"
     ]
    },
    "colab_type": "code",
    "id": "RgG4w-qpcMyJ",
    "outputId": "142478ec-50d6-4c3a-f6fb-db0ee38fcb1a"
   },
   "outputs": [
    {
     "data": {
      "application/vnd.jupyter.widget-view+json": {
       "model_id": "e5b694ae7739481f8df1689e7f34b250",
       "version_major": 2,
       "version_minor": 0
      },
      "text/plain": [
       "HBox(children=(FloatProgress(value=0.0, max=200.0), HTML(value='')))"
      ]
     },
     "metadata": {},
     "output_type": "display_data"
    },
    {
     "name": "stdout",
     "output_type": "stream",
     "text": [
      "\n"
     ]
    }
   ],
   "source": [
    "datasize = 50\n",
    "min_document_length = 256\n",
    "max_document_length = 512\n",
    "\n",
    "\n",
    "index = -1\n",
    "docs, labels, label_indices = [], [], []\n",
    "\n",
    "sizes = [0]*len(categories)\n",
    "\n",
    "with tqdm(total=len(categories)*datasize) as pbar:\n",
    "    while sum(sizes) != len(categories)*datasize:\n",
    "        index += 1\n",
    "        \n",
    "        if dataset == \"bbc\":\n",
    "            size_index = categories.index(old_labels[index])\n",
    "            \n",
    "        else:\n",
    "            size_index = categories.index(classes[old_labels[index]])\n",
    "        \n",
    "        if sizes[size_index] == datasize:\n",
    "            continue\n",
    "        \n",
    "        doc = all_docs[index]\n",
    "        status, doc, word_count = clean_doc(doc, True)\n",
    "        \n",
    "        if not status:\n",
    "            continue\n",
    "            \n",
    "        if min_document_length is not None and len(doc) < min_document_length:\n",
    "            continue\n",
    "            \n",
    "        if max_document_length is not None and len(doc) > max_document_length:\n",
    "            continue\n",
    "        \n",
    "        label_indices.append(size_index)\n",
    "        labels.append(categories[size_index])\n",
    "        docs.append(doc)\n",
    "        sizes[size_index] += 1\n",
    "        pbar.update(1)\n",
    "\n",
    "labels = np.array(labels)\n",
    "label_indices = np.array(label_indices)"
   ]
  },
  {
   "cell_type": "code",
   "execution_count": 9,
   "metadata": {
    "colab": {
     "base_uri": "https://localhost:8080/",
     "height": 88
    },
    "colab_type": "code",
    "id": "_eBXjBUecMyU",
    "outputId": "12f081a4-fab6-4de7-f36f-62399abaa5b8"
   },
   "outputs": [
    {
     "name": "stdout",
     "output_type": "stream",
     "text": [
      "Topic: sci.space\n",
      "==================================================\n",
      "sorry folk i should have do this and meant to just after i hit the send key orbital element of comet 1977vii from dance file p au 3 424346 e 0 151899 i 1 0988 cap omega 0 243 5652 w 0 231 1607 epoch 1977 04110 also perihelion of gehrels3 be april 1973 83 jupiter radius august 1970 3 jupiter radius hope this help i m even le of an orbital mechanic than i be an artist\n"
     ]
    }
   ],
   "source": [
    "index = 3\n",
    "print(f\"Topic: {labels[index]}\\n{'='*50}\\n{docs[index][:512]}\")"
   ]
  },
  {
   "cell_type": "code",
   "execution_count": 10,
   "metadata": {
    "colab": {
     "base_uri": "https://localhost:8080/",
     "height": 34
    },
    "colab_type": "code",
    "id": "KS5PW7qHcMyb",
    "outputId": "d83a2010-8955-4c8f-f2d6-be15ecad2198"
   },
   "outputs": [
    {
     "name": "stdout",
     "output_type": "stream",
     "text": [
      "[50, 50, 50, 50]\n"
     ]
    }
   ],
   "source": [
    "print(sizes)\n",
    "assert min(sizes) == max(sizes) == datasize"
   ]
  },
  {
   "cell_type": "markdown",
   "metadata": {},
   "source": [
    "## Split data"
   ]
  },
  {
   "cell_type": "code",
   "execution_count": 45,
   "metadata": {},
   "outputs": [],
   "source": [
    "x_train, x_test, y_train, y_test = train_test_split(docs, labels, test_size =.3)"
   ]
  },
  {
   "cell_type": "code",
   "execution_count": 46,
   "metadata": {
    "colab": {
     "base_uri": "https://localhost:8080/",
     "height": 34
    },
    "colab_type": "code",
    "id": "s8R3CeUBcMyg",
    "outputId": "adcba1c9-85ae-428d-ff5f-ba33bd7beef8",
    "scrolled": false
   },
   "outputs": [
    {
     "name": "stdout",
     "output_type": "stream",
     "text": [
      "there are 200 total docs, 140 train and 60 test\n"
     ]
    }
   ],
   "source": [
    "print(f\"there are {len(docs)} total docs, {len(y_train)} train and {len(y_test)} test\")"
   ]
  },
  {
   "cell_type": "markdown",
   "metadata": {
    "colab_type": "text",
    "id": "-OUac83RcMyl"
   },
   "source": [
    "### Initialize Vectorizer"
   ]
  },
  {
   "cell_type": "code",
   "execution_count": 47,
   "metadata": {
    "colab": {
     "base_uri": "https://localhost:8080/",
     "height": 34
    },
    "colab_type": "code",
    "id": "ZCBHEIyEcMyn",
    "outputId": "18cbf825-2576-4937-908b-ce0cc5a29150"
   },
   "outputs": [
    {
     "name": "stdout",
     "output_type": "stream",
     "text": [
      "word_count is 2510\n"
     ]
    }
   ],
   "source": [
    "# initialize the count vectorizer\n",
    "vectorizer = CountVectorizer()\n",
    "\n",
    "# fit it to dataset\n",
    "vectorizer.fit(x_train)\n",
    "\n",
    "vocabulary = np.array(vectorizer.get_feature_names())\n",
    "print(\"word_count is\", len(vocabulary))"
   ]
  },
  {
   "cell_type": "markdown",
   "metadata": {
    "colab_type": "text",
    "id": "UKomwY7acMyz"
   },
   "source": [
    "### Prepare Datatset"
   ]
  },
  {
   "cell_type": "code",
   "execution_count": 48,
   "metadata": {
    "colab": {
     "base_uri": "https://localhost:8080/",
     "height": 34
    },
    "colab_type": "code",
    "id": "IIYeZA4EcMy0",
    "outputId": "da04274f-82f4-49a5-8be6-d1c9230aa835"
   },
   "outputs": [],
   "source": [
    "# create doc count vectors\n",
    "train_doc_vectors = vectorizer.transform(x_train).toarray()\n",
    "test_doc_vectors = vectorizer.transform(x_test).toarray()"
   ]
  },
  {
   "cell_type": "code",
   "execution_count": 52,
   "metadata": {},
   "outputs": [],
   "source": [
    "# reduce freq in doc to bin value of 1 or 0\n",
    "word_freq_in_doc_train = pd.DataFrame(train_doc_vectors, columns=vocabulary)\n",
    "word_freq_in_doc_test = pd.DataFrame(test_doc_vectors, columns=vocabulary)\n",
    "\n",
    "word_doc_frequency_norm_train = (word_freq_in_doc_train.T / word_freq_in_doc_train.sum(1)).T\n",
    "word_doc_frequency_norm_test = (word_freq_in_doc_test.T / word_freq_in_doc_test.sum(1)).T\n",
    "\n",
    "wdf_train = word_doc_frequency_norm_train.copy()\n",
    "wdf_test = word_doc_frequency_norm_test.copy()\n",
    "\n",
    "# wdf_train = (word_doc_frequency_norm_train > 0).astype(int)\n",
    "# wdf_test = (word_doc_frequency_norm_test > 0).astype(int)"
   ]
  },
  {
   "cell_type": "markdown",
   "metadata": {},
   "source": [
    "## Word Topic Probability Distr"
   ]
  },
  {
   "cell_type": "code",
   "execution_count": 53,
   "metadata": {},
   "outputs": [
    {
     "data": {
      "application/vnd.jupyter.widget-view+json": {
       "model_id": "e26f9216f7584bd7a2677e32d6c01a2c",
       "version_major": 2,
       "version_minor": 0
      },
      "text/plain": [
       "HBox(children=(FloatProgress(value=0.0, max=4.0), HTML(value='')))"
      ]
     },
     "metadata": {},
     "output_type": "display_data"
    },
    {
     "name": "stdout",
     "output_type": "stream",
     "text": [
      "\n",
      "word_topic_pr_distr shape = (2510, 4)\n"
     ]
    }
   ],
   "source": [
    "wdt_train = wdf_train.copy()\n",
    "wdt_test = wdf_test.copy()\n",
    "\n",
    "wdt_test[\"__labels__\"] = y_test\n",
    "wdt_train[\"__labels__\"] = y_train\n",
    "\n",
    "topic_count = pd.DataFrame(Counter(y_train), index=[0]).T[0]\n",
    "word_topic_pr_distr = pd.DataFrame(data=0.0, columns=categories, index=vocabulary)\n",
    "\n",
    "for category in tqdm(categories):\n",
    "    pxy = wdf_train[wdt_train[\"__labels__\"] == category].sum(0) / topic_count[category]\n",
    "    word_topic_pr_distr[category] = pxy * (topic_count[category] / wdf_train.sum(0))\n",
    "\n",
    "print(f\"word_topic_pr_distr shape = {word_topic_pr_distr.shape}\")"
   ]
  },
  {
   "cell_type": "code",
   "execution_count": 54,
   "metadata": {
    "scrolled": true
   },
   "outputs": [
    {
     "data": {
      "text/html": [
       "<div>\n",
       "<style scoped>\n",
       "    .dataframe tbody tr th:only-of-type {\n",
       "        vertical-align: middle;\n",
       "    }\n",
       "\n",
       "    .dataframe tbody tr th {\n",
       "        vertical-align: top;\n",
       "    }\n",
       "\n",
       "    .dataframe thead th {\n",
       "        text-align: right;\n",
       "    }\n",
       "</style>\n",
       "<table border=\"1\" class=\"dataframe\">\n",
       "  <thead>\n",
       "    <tr style=\"text-align: right;\">\n",
       "      <th></th>\n",
       "      <th>rec.autos</th>\n",
       "      <th>talk.politics.mideast</th>\n",
       "      <th>alt.atheism</th>\n",
       "      <th>sci.space</th>\n",
       "    </tr>\n",
       "  </thead>\n",
       "  <tbody>\n",
       "    <tr>\n",
       "      <th>000</th>\n",
       "      <td>0.0</td>\n",
       "      <td>1.0</td>\n",
       "      <td>0.0</td>\n",
       "      <td>0.0</td>\n",
       "    </tr>\n",
       "    <tr>\n",
       "      <th>02</th>\n",
       "      <td>1.0</td>\n",
       "      <td>0.0</td>\n",
       "      <td>0.0</td>\n",
       "      <td>0.0</td>\n",
       "    </tr>\n",
       "    <tr>\n",
       "      <th>034101</th>\n",
       "      <td>0.0</td>\n",
       "      <td>0.0</td>\n",
       "      <td>0.0</td>\n",
       "      <td>1.0</td>\n",
       "    </tr>\n",
       "    <tr>\n",
       "      <th>04110</th>\n",
       "      <td>0.0</td>\n",
       "      <td>0.0</td>\n",
       "      <td>0.0</td>\n",
       "      <td>1.0</td>\n",
       "    </tr>\n",
       "    <tr>\n",
       "      <th>0710</th>\n",
       "      <td>1.0</td>\n",
       "      <td>0.0</td>\n",
       "      <td>0.0</td>\n",
       "      <td>0.0</td>\n",
       "    </tr>\n",
       "  </tbody>\n",
       "</table>\n",
       "</div>"
      ],
      "text/plain": [
       "        rec.autos  talk.politics.mideast  alt.atheism  sci.space\n",
       "000           0.0                    1.0          0.0        0.0\n",
       "02            1.0                    0.0          0.0        0.0\n",
       "034101        0.0                    0.0          0.0        1.0\n",
       "04110         0.0                    0.0          0.0        1.0\n",
       "0710          1.0                    0.0          0.0        0.0"
      ]
     },
     "execution_count": 54,
     "metadata": {},
     "output_type": "execute_result"
    }
   ],
   "source": [
    "word_topic_pr_distr.head()"
   ]
  },
  {
   "cell_type": "code",
   "execution_count": 55,
   "metadata": {
    "scrolled": true
   },
   "outputs": [
    {
     "data": {
      "image/png": "[encoded data removed]",
      "text/plain": [
       "<Figure size 1080x360 with 2 Axes>"
      ]
     },
     "metadata": {
      "needs_background": "light"
     },
     "output_type": "display_data"
    }
   ],
   "source": [
    "word = \"the\"\n",
    "\n",
    "fig = plt.figure(figsize=(15, 5), tight_layout=True)\n",
    "ax11 = fig.add_subplot(121)\n",
    "ax12 = fig.add_subplot(122)\n",
    "\n",
    "ax11.set_title(f\"{word} against TOPICS relation\")\n",
    "ax11.bar(word_topic_pr_distr.columns, word_topic_pr_distr.loc[word])\n",
    "\n",
    "word_topic_freq = Counter(wdt_train[\"__labels__\"][wdt_train[word] > 0])\n",
    "freqs = []\n",
    "for topic in word_topic_pr_distr.columns:\n",
    "    freqs.append(word_topic_freq[topic])\n",
    "#     freqs.append(word_topic_freq[topic] / topic_count[topic])\n",
    "\n",
    "ax12.set_title(f\"{word} against Words Frequency\")\n",
    "ax12.bar(word_topic_pr_distr.columns, freqs)\n",
    "\n",
    "plt.show()"
   ]
  },
  {
   "cell_type": "markdown",
   "metadata": {},
   "source": [
    "### Quick Topic Inference"
   ]
  },
  {
   "cell_type": "code",
   "execution_count": 56,
   "metadata": {},
   "outputs": [
    {
     "name": "stdout",
     "output_type": "stream",
     "text": [
      "actual = rec.autos, predicted = rec.autos\n"
     ]
    }
   ],
   "source": [
    "doc_index = 0\n",
    "doc_vector = wdf_train.loc[doc_index]\n",
    "_, predicted_doc_topic = infer_topic(categories, doc_vector, word_topic_pr_distr)\n",
    "print(f\"actual = {wdt_train.loc[doc_index]['__labels__']}, predicted = {predicted_doc_topic}\")"
   ]
  },
  {
   "cell_type": "markdown",
   "metadata": {},
   "source": [
    "## Topic Word Distr - Train Accuracy"
   ]
  },
  {
   "cell_type": "code",
   "execution_count": 57,
   "metadata": {},
   "outputs": [
    {
     "data": {
      "application/vnd.jupyter.widget-view+json": {
       "model_id": "556c33345b61454795e193d1255a6e64",
       "version_major": 2,
       "version_minor": 0
      },
      "text/plain": [
       "HBox(children=(FloatProgress(value=0.0, max=140.0), HTML(value='')))"
      ]
     },
     "metadata": {},
     "output_type": "display_data"
    },
    {
     "name": "stdout",
     "output_type": "stream",
     "text": [
      "\n",
      "accuracy =  0.9214\n"
     ]
    }
   ],
   "source": [
    "score_train = 0\n",
    "for doc_index in tqdm(range(len(y_train))):\n",
    "    doc_vector = wdf_train.loc[doc_index]\n",
    "    _, predicted_doc_topic = infer_topic(categories, doc_vector, word_topic_pr_distr)\n",
    "    \n",
    "    mark = wdt_train.loc[doc_index]['__labels__'] == predicted_doc_topic\n",
    "    score_train += mark\n",
    "\n",
    "train_accuracy = score_train / len(y_train)\n",
    "print(f\"accuracy = {train_accuracy: .4f}\")"
   ]
  },
  {
   "cell_type": "markdown",
   "metadata": {},
   "source": [
    "## Topic Word Distr - Test Accuracy"
   ]
  },
  {
   "cell_type": "code",
   "execution_count": 58,
   "metadata": {},
   "outputs": [
    {
     "data": {
      "application/vnd.jupyter.widget-view+json": {
       "model_id": "c2a27535c6624481859b754b686c7b7f",
       "version_major": 2,
       "version_minor": 0
      },
      "text/plain": [
       "HBox(children=(FloatProgress(value=0.0, max=60.0), HTML(value='')))"
      ]
     },
     "metadata": {},
     "output_type": "display_data"
    },
    {
     "name": "stdout",
     "output_type": "stream",
     "text": [
      "\n",
      "test accuracy =  0.4500\n"
     ]
    }
   ],
   "source": [
    "score_test = 0\n",
    "for doc_index in tqdm(range(len(y_test))):\n",
    "    doc_vector = wdf_test.loc[doc_index]\n",
    "    _, predicted_doc_topic = infer_topic(categories, doc_vector, word_topic_pr_distr)\n",
    "    \n",
    "    mark = wdt_test.loc[doc_index]['__labels__'] == predicted_doc_topic\n",
    "    score_test += mark\n",
    "\n",
    "test_accuracy = score_test / len(y_test)\n",
    "print(f\"test accuracy = {test_accuracy: .4f}\")"
   ]
  },
  {
   "cell_type": "code",
   "execution_count": 155,
   "metadata": {},
   "outputs": [
    {
     "name": "stdout",
     "output_type": "stream",
     "text": [
      "sci.space\n"
     ]
    },
    {
     "data": {
      "text/plain": [
       "orbit           1.0\n",
       "remain          1.0\n",
       "residue         1.0\n",
       "researcher      1.0\n",
       "engineer        1.0\n",
       "reprogrammed    1.0\n",
       "inner           1.0\n",
       "input           1.0\n",
       "inquire         1.0\n",
       "insert          1.0\n",
       "Name: sci.space, dtype: float64"
      ]
     },
     "execution_count": 155,
     "metadata": {},
     "output_type": "execute_result"
    }
   ],
   "source": [
    "topic_index = 3\n",
    "topic = categories[topic_index]\n",
    "\n",
    "print(topic)\n",
    "word_topic_pr_distr[topic].sort_values(ascending=False).head(10)"
   ]
  },
  {
   "cell_type": "code",
   "execution_count": 131,
   "metadata": {},
   "outputs": [
    {
     "name": "stdout",
     "output_type": "stream",
     "text": [
      "sci.space\n"
     ]
    },
    {
     "data": {
      "text/plain": [
       "orbit           1.0\n",
       "remain          1.0\n",
       "residue         1.0\n",
       "researcher      1.0\n",
       "engineer        1.0\n",
       "reprogrammed    1.0\n",
       "inner           1.0\n",
       "input           1.0\n",
       "inquire         1.0\n",
       "insert          1.0\n",
       "Name: sci.space, dtype: float64"
      ]
     },
     "execution_count": 131,
     "metadata": {},
     "output_type": "execute_result"
    }
   ],
   "source": [
    "topic_index = 3\n",
    "topic = categories[topic_index]\n",
    "\n",
    "print(topic)\n",
    "word_topic_pr_distr[topic].sort_values(ascending=False).head(10)"
   ]
  },
  {
   "cell_type": "code",
   "execution_count": 74,
   "metadata": {},
   "outputs": [],
   "source": [
    "doc_topic = []\n",
    "\n",
    "for topic in tqdm(categories):\n",
    "    doc_topic.append(word_topic_pr_distr[topic] * word_doc_frequency_norm)"
   ]
  },
  {
   "cell_type": "code",
   "execution_count": 102,
   "metadata": {},
   "outputs": [
    {
     "name": "stdout",
     "output_type": "stream",
     "text": [
      "Documnet: 0, Topic: sci.space\n",
      "==================================================\n",
      "kudos to mark for his generous offer but there already exists a large email base forward system for sci space post space digest it mirror sci space exactly and provide simple two way communication to subscribe send the follow message in the body not subject of an email message subscribe space john q public to one of these address listserv uga listserv uga cc uga edu listserv finhutc listserv finhuc hut fi space request isu isunet edu you ll receive all the post in digest form once a day please use a listser\n"
     ]
    },
    {
     "data": {
      "image/png": "[encoded data removed]",
      "text/plain": [
       "<Figure size 432x288 with 1 Axes>"
      ]
     },
     "metadata": {
      "needs_background": "light"
     },
     "output_type": "display_data"
    },
    {
     "data": {
      "image/png": "[encoded data removed]",
      "text/plain": [
       "<Figure size 432x288 with 1 Axes>"
      ]
     },
     "metadata": {
      "needs_background": "light"
     },
     "output_type": "display_data"
    },
    {
     "data": {
      "image/png": "[encoded data removed]",
      "text/plain": [
       "<Figure size 432x288 with 1 Axes>"
      ]
     },
     "metadata": {
      "needs_background": "light"
     },
     "output_type": "display_data"
    },
    {
     "data": {
      "image/png": "[encoded data removed]",
      "text/plain": [
       "<Figure size 432x288 with 1 Axes>"
      ]
     },
     "metadata": {
      "needs_background": "light"
     },
     "output_type": "display_data"
    }
   ],
   "source": [
    "doc_index = 0\n",
    "print(f\"Documnet: {doc_index}, Topic: {labels[doc_index]}\\n{'='*50}\\n{train_docs[doc_index][:512]}\")\n",
    "\n",
    "words = word_doc_frequency_norm.loc[doc_index].sort_values(ascending=False).index[:8]\n",
    "\n",
    "for topic_index in range(len(categories)):\n",
    "    values = doc_topic[topic_index].loc[doc_index][words]\n",
    "    plt.title(f\"Document {doc_index} against WORDS-{categories[topic_index]}\")\n",
    "    plt.bar(words, values)\n",
    "    \n",
    "    plt.show()"
   ]
  },
  {
   "cell_type": "markdown",
   "metadata": {
    "colab_type": "text",
    "id": "SvE2EPU-cMy5"
   },
   "source": [
    "### Word-Word Ratio"
   ]
  },
  {
   "cell_type": "code",
   "execution_count": 13,
   "metadata": {
    "colab": {
     "base_uri": "https://localhost:8080/",
     "height": 359,
     "referenced_widgets": [
      "c3f9b287331c4447a3858c3fed906a66",
      "dc810a1b5ae545a09ef4b77e92695a36",
      "5369f73e7d934a68a3478189b5a136b6",
      "f02ad7bad6f74da69de3557e8b7e3b92",
      "44bf4a5432b34d269a82bce24d4e46b3",
      "4dcd4b491d694b0aa25514b8486cf3f8",
      "eb223b5836d04aaea284e26e6a3a6a1a",
      "51dd1aa22f7d45ccbd3ba766bb232b57"
     ]
    },
    "colab_type": "code",
    "id": "uDugwezLcMzA",
    "outputId": "32a3e924-89bf-4247-a239-66bdc3f73c08",
    "scrolled": true
   },
   "outputs": [
    {
     "data": {
      "application/vnd.jupyter.widget-view+json": {
       "model_id": "2bb55aa1f9514f7ba6037045f24eda42",
       "version_major": 2,
       "version_minor": 0
      },
      "text/plain": [
       "HBox(children=(FloatProgress(value=0.0, max=4476.0), HTML(value='')))"
      ]
     },
     "metadata": {},
     "output_type": "display_data"
    },
    {
     "name": "stdout",
     "output_type": "stream",
     "text": [
      "\n",
      "word_word_co shape = (4476, 4476)\n"
     ]
    }
   ],
   "source": [
    "# reduce freq in doc to bin value of 1 or 0\n",
    "word_freq_in_doc = pd.DataFrame(train_doc_vectors, columns=vocabulary)\n",
    "word_doc_frequency_norm = (word_freq_in_doc.T / word_freq_in_doc.sum(1)).T\n",
    "\n",
    "wdf = word_doc_frequency_norm.copy()\n",
    "# wdf = (word_doc_frequency_norm > 0).astype(int)\n",
    "doc_word_distr = wdf.copy()\n",
    "\n",
    "word_word_co = pd.DataFrame(data=0.0, columns=vocabulary, index=vocabulary)\n",
    "doc_word_distr = doc_word_distr.T\n",
    "probability = doc_word_distr.mean(1)\n",
    "\n",
    "for word in tqdm(vocabulary):\n",
    "    wwcr = (doc_word_distr * doc_word_distr.loc[word]).sum(1) / doc_word_distr.loc[word].sum()\n",
    "    word_word_co.loc[word] = wwcr * (probability[word] / probability)\n",
    "\n",
    "print(f\"word_word_co shape = {word_word_co.shape}\")"
   ]
  },
  {
   "cell_type": "code",
   "execution_count": 14,
   "metadata": {
    "colab": {},
    "colab_type": "code",
    "id": "is1b_Xx7cMy6",
    "scrolled": true
   },
   "outputs": [
    {
     "data": {
      "image/png": "[encoded data removed]",
      "text/plain": [
       "<Figure size 1080x216 with 4 Axes>"
      ]
     },
     "metadata": {
      "needs_background": "light"
     },
     "output_type": "display_data"
    }
   ],
   "source": [
    "random_plot = False\n",
    "\n",
    "word = \"pilot\"\n",
    "words = [\"the\", \"religion\", \"car\", \"and\", \"driver\", \"shuttle\"]\n",
    "\n",
    "if random_plot:\n",
    "    words = np.array(vocabulary)[np.random.randint(len(vocabulary), size=5)]\n",
    "    word = words[0]\n",
    "\n",
    "fig = plt.figure(figsize=(15,3), tight_layout=True)\n",
    "ax11 = fig.add_subplot(141)\n",
    "ax12 = fig.add_subplot(142)\n",
    "ax13 = fig.add_subplot(143)\n",
    "ax14 = fig.add_subplot(144)\n",
    "\n",
    "ax11.set_title(f\"{word} against WORDS relation\")\n",
    "ax11.bar(words, word_word_co.loc[word][words])\n",
    "\n",
    "ax12.set_title(f\"WORDS against {word} relation\")\n",
    "ax12.bar(words, word_word_co[word][words])\n",
    "\n",
    "ax13.set_title(f\"{word} against WORDS* relation\")\n",
    "ax13.bar(words, (word_word_co * word_word_co.T).loc[word][words])\n",
    "\n",
    "pxy = word_doc_frequency_norm[word_doc_frequency_norm[word] > 0].sum(0)\n",
    "pxy /= total_num_of_documents\n",
    "\n",
    "ax14.set_title(f\"{word} against Words Frequency\")\n",
    "ax14.bar(words, pxy[words])\n",
    "\n",
    "plt.show()"
   ]
  },
  {
   "cell_type": "code",
   "execution_count": 55,
   "metadata": {},
   "outputs": [
    {
     "name": "stdout",
     "output_type": "stream",
     "text": [
      "Scikit-learn GaussianNB accuracy: 0.983\n"
     ]
    }
   ],
   "source": [
    "from sklearn.naive_bayes import GaussianNB\n",
    "from sklearn.metrics import accuracy_score\n",
    "\n",
    "model = GaussianNB()\n",
    "\n",
    "word = \"space\"\n",
    "x_test = word_word_co.copy()\n",
    "# x_test = doc_word_distr.T.copy()\n",
    "y_test = (x_test[word] > 0).astype(int)\n",
    "x_test = x_test.drop(columns=[word])\n",
    "\n",
    "model.fit(x_test, y_test)\n",
    "y_pred = model.predict(x_test)\n",
    "\n",
    "print (\"Scikit-learn GaussianNB accuracy: {0:.3f}\".format(accuracy_score(y_test, y_pred)))"
   ]
  },
  {
   "cell_type": "code",
   "execution_count": 60,
   "metadata": {},
   "outputs": [
    {
     "data": {
      "text/plain": [
       "array(['painting', 'comercial', 'pi', 'consistent', 'innovative', 'pepsi',\n",
       "       'ozone', 'industrial', 'catch', 'cu', 'coke', 'movie',\n",
       "       'probability', 'advert', 'proposal'], dtype='<U17')"
      ]
     },
     "execution_count": 60,
     "metadata": {},
     "output_type": "execute_result"
    }
   ],
   "source": [
    "vocabulary[model.theta_[1].argsort()[::-1]][:15]"
   ]
  },
  {
   "cell_type": "code",
   "execution_count": 59,
   "metadata": {},
   "outputs": [
    {
     "name": "stdout",
     "output_type": "stream",
     "text": [
      "space\n"
     ]
    },
    {
     "data": {
      "text/plain": [
       "listserv     0.065574\n",
       "mirror       0.065574\n",
       "finhuc       0.065574\n",
       "finhutc      0.065574\n",
       "hut          0.065574\n",
       "manually     0.065574\n",
       "kudos        0.065574\n",
       "subscribe    0.065574\n",
       "isu          0.065574\n",
       "isunet       0.065574\n",
       "uga          0.065574\n",
       "request      0.051439\n",
       "digest       0.051058\n",
       "message      0.046343\n",
       "fi           0.038082\n",
       "Name: space, dtype: float64"
      ]
     },
     "execution_count": 59,
     "metadata": {},
     "output_type": "execute_result"
    }
   ],
   "source": [
    "print(word)\n",
    "word_word_co.loc[word].sort_values(ascending=False).head(15)"
   ]
  },
  {
   "cell_type": "code",
   "execution_count": null,
   "metadata": {},
   "outputs": [],
   "source": [
    "doc_word_distr = wdf.copy()\n",
    "\n",
    "for doc_index in (range(total_num_of_documents)):\n",
    "    words = doc_word_distr.columns[doc_word_distr.loc[doc_index] > 0]\n",
    "    doc_word_distr.loc[doc_index] = (doc_word_distr.loc[doc_index][words] * word_word_co.loc[words].T).T.max(0)\n",
    "    pbar.update(1)\n"
   ]
  },
  {
   "cell_type": "code",
   "execution_count": 27,
   "metadata": {
    "colab": {},
    "colab_type": "code",
    "id": "ODIikC4HcMzW",
    "scrolled": false
   },
   "outputs": [
    {
     "data": {
      "text/plain": [
       "be              0.076923\n",
       "and             0.048951\n",
       "the             0.041958\n",
       "about           0.034965\n",
       "you             0.034965\n",
       "to              0.034965\n",
       "belief          0.027972\n",
       "that            0.027972\n",
       "in              0.027972\n",
       "supernatural    0.020979\n",
       "Name: 19, dtype: float64"
      ]
     },
     "execution_count": 27,
     "metadata": {},
     "output_type": "execute_result"
    }
   ],
   "source": [
    "doc_index = 19\n",
    "word_doc_frequency_norm.iloc[doc_index].sort_values(ascending=False).head(10)"
   ]
  },
  {
   "cell_type": "code",
   "execution_count": 38,
   "metadata": {
    "colab": {},
    "colab_type": "code",
    "id": "Jg5rpXGZcMzh"
   },
   "outputs": [
    {
     "data": {
      "text/plain": [
       "excitable       1.000000\n",
       "earthly         1.000000\n",
       "deity           1.000000\n",
       "ibility         1.000000\n",
       "worship         1.000000\n",
       "tendency        1.000000\n",
       "sceptical       1.000000\n",
       "beside          1.000000\n",
       "ideology        1.000000\n",
       "autonomous      1.000000\n",
       "gullible        1.000000\n",
       "hero            1.000000\n",
       "suscept         1.000000\n",
       "supernatural    1.000000\n",
       "indicates       0.615385\n",
       "tyrant          0.602564\n",
       "critical        0.596154\n",
       "criterion       0.517094\n",
       "behaviour       0.487179\n",
       "divide          0.482906\n",
       "Name: 19, dtype: float64"
      ]
     },
     "execution_count": 38,
     "metadata": {},
     "output_type": "execute_result"
    }
   ],
   "source": [
    "doc_word_distr.iloc[doc_index].sort_values(ascending=False).head(20)"
   ]
  },
  {
   "cell_type": "code",
   "execution_count": 29,
   "metadata": {
    "colab": {},
    "colab_type": "code",
    "id": "3GblSFflcMzn",
    "scrolled": false
   },
   "outputs": [
    {
     "name": "stdout",
     "output_type": "stream",
     "text": [
      "Topic: alt.atheism\n",
      "==================================================\n",
      "and that of course be the point you can t simply divide the world into atheist and non atheist on the basis of god belief if all you care about be belief in a supernatural deity and have nothing to say about behaviour then belief in a supernatural be be your criterion but once you start talk about behaviour then someone s suscept ibility to be lead by bad people into do bad thing be what you be i assume worried about and in that area what you care about be whether someone be sceptical critical and autonomou\n"
     ]
    }
   ],
   "source": [
    "print(f\"Topic: {labels[doc_index]}\\n{'='*50}\\n{train_docs[doc_index][:512]}\")"
   ]
  },
  {
   "cell_type": "code",
   "execution_count": 44,
   "metadata": {
    "colab": {},
    "colab_type": "code",
    "id": "ODIikC4HcMzW",
    "scrolled": false
   },
   "outputs": [
    {
     "data": {
      "text/plain": [
       "be           0.088235\n",
       "that         0.058824\n",
       "to           0.049020\n",
       "it           0.049020\n",
       "this         0.029412\n",
       "take         0.029412\n",
       "freedom      0.029412\n",
       "objective    0.029412\n",
       "their        0.029412\n",
       "assert       0.019608\n",
       "Name: 18, dtype: float64"
      ]
     },
     "execution_count": 44,
     "metadata": {},
     "output_type": "execute_result"
    }
   ],
   "source": [
    "doc_index = 18\n",
    "word_doc_frequency_norm.iloc[doc_index].sort_values(ascending=False).head(10)"
   ]
  },
  {
   "cell_type": "code",
   "execution_count": 45,
   "metadata": {
    "colab": {},
    "colab_type": "code",
    "id": "Jg5rpXGZcMzh"
   },
   "outputs": [
    {
     "data": {
      "text/plain": [
       "rain           1.000000\n",
       "valuable       1.000000\n",
       "utterly        1.000000\n",
       "assert         1.000000\n",
       "contrary       1.000000\n",
       "wild           1.000000\n",
       "candidate      1.000000\n",
       "volition       1.000000\n",
       "rainy          1.000000\n",
       "objectively    1.000000\n",
       "deprive        0.666667\n",
       "complain       0.650000\n",
       "absurd         0.625000\n",
       "assumption     0.625000\n",
       "freedom        0.522222\n",
       "condition      0.505556\n",
       "objective      0.488889\n",
       "necessary      0.450000\n",
       "therefore      0.437500\n",
       "almost         0.400000\n",
       "Name: 18, dtype: float64"
      ]
     },
     "execution_count": 45,
     "metadata": {},
     "output_type": "execute_result"
    }
   ],
   "source": [
    "doc_word_distr.iloc[doc_index].sort_values(ascending=False).head(20)"
   ]
  },
  {
   "cell_type": "code",
   "execution_count": 46,
   "metadata": {
    "colab": {},
    "colab_type": "code",
    "id": "3GblSFflcMzn",
    "scrolled": true
   },
   "outputs": [
    {
     "name": "stdout",
     "output_type": "stream",
     "text": [
      "Topic: alt.atheism\n",
      "==================================================\n",
      "i ll take a wild guess and say freedom be objectively valuable i base this on the assumption that if everyone in the world be deprive utterly of their freedom so that their every act be contrary to their volition almost all would want to complain therefore i take it that to assert or believe that freedom be not very valuable when almost everyone can see that it be be every bit a absurd a to assert it be not rain on a rainy day i take this to be a candidate for an objective value and it it be a necessary con\n"
     ]
    }
   ],
   "source": [
    "print(f\"Topic: {labels[doc_index]}\\n{'='*50}\\n{train_docs[doc_index][:512]}\")"
   ]
  },
  {
   "cell_type": "markdown",
   "metadata": {
    "colab_type": "text",
    "id": "a0EpCWjucMzy"
   },
   "source": [
    "### Define Latent partitions"
   ]
  },
  {
   "cell_type": "code",
   "execution_count": null,
   "metadata": {
    "colab": {},
    "colab_type": "code",
    "id": "sagHqHfHcMz0"
   },
   "outputs": [],
   "source": [
    "reduction = None\n",
    "# reduction = \"pca\"\n",
    "# reduction = \"normal\"\n",
    "\n",
    "if reduction is None:\n",
    "    columns = doc_word_distr.columns\n",
    "    param_values = doc_word_distr.values\n",
    "\n",
    "if reduction == \"pca\":\n",
    "    num_of_components = 2\n",
    "    columns = list(range(num_of_components))\n",
    "    \n",
    "    pca = PCA(n_components=num_of_components, whiten=True)\n",
    "    param_values = pca.fit_transform(doc_word_distr)\n",
    "\n",
    "if reduction == \"normal\":\n",
    "    columns = [\"mean\", \"std\"]\n",
    "    column_values = [doc_word_distr.sum(1), doc_word_distr.mean(1)]\n",
    "    param_values = np.array(column_values).T\n",
    "    \n",
    "distr_params = pd.DataFrame(data=param_values, columns=columns, index=list(range(len(doc_word_distr))))\n",
    "print(f\"distr_params has shape {distr_params.shape}\")"
   ]
  },
  {
   "cell_type": "code",
   "execution_count": null,
   "metadata": {
    "colab": {},
    "colab_type": "code",
    "id": "2Edd3CxKcM0E",
    "scrolled": false
   },
   "outputs": [],
   "source": [
    "distr_params.head()"
   ]
  },
  {
   "cell_type": "markdown",
   "metadata": {
    "colab_type": "text",
    "id": "Xm6f9v3EcM0L"
   },
   "source": [
    "### Using Kmeans MiniBatch"
   ]
  },
  {
   "cell_type": "code",
   "execution_count": null,
   "metadata": {
    "colab": {},
    "colab_type": "code",
    "id": "9fci-JchcM0M"
   },
   "outputs": [],
   "source": [
    "num_of_topics = 4"
   ]
  },
  {
   "cell_type": "code",
   "execution_count": null,
   "metadata": {
    "colab": {},
    "colab_type": "code",
    "id": "DtToyoyMcM0T"
   },
   "outputs": [],
   "source": [
    "kmeans_model = KMeans(n_clusters=num_of_topics, random_state=0).fit(distr_params)"
   ]
  },
  {
   "cell_type": "code",
   "execution_count": null,
   "metadata": {
    "colab": {},
    "colab_type": "code",
    "id": "QL4_BgZacM0d"
   },
   "outputs": [],
   "source": [
    "dist = kmeans_model.transform(distr_params)\n",
    "predicted_labels = kmeans_model.predict(distr_params)\n",
    "wtf = gaussian(normalize(dist, norm=\"l1\", axis=1))\n",
    "\n",
    "print(f\"dist has shape {dist.shape}, predicted_labels has shape {predicted_labels.shape}\")"
   ]
  },
  {
   "cell_type": "code",
   "execution_count": null,
   "metadata": {
    "colab": {},
    "colab_type": "code",
    "id": "3n7q8j3AcM0s"
   },
   "outputs": [],
   "source": [
    "Counter(predicted_labels)"
   ]
  },
  {
   "cell_type": "code",
   "execution_count": null,
   "metadata": {
    "colab": {},
    "colab_type": "code",
    "id": "SEFy_GnTcM03"
   },
   "outputs": [],
   "source": [
    "fig = plt.figure(figsize=(15,5), tight_layout=True)\n",
    "ax1 = fig.add_subplot(121)\n",
    "ax2 = fig.add_subplot(122)\n",
    "\n",
    "ax1.set_title(\"Documents Space\")\n",
    "ax1.scatter(param_values[:, 0], param_values[:,1], c = label_indices)\n",
    "ax1.set_xlabel(columns[0])\n",
    "ax1.set_xlabel(columns[1])\n",
    "\n",
    "ax2.set_title(\"Kmeans Documents Space\")\n",
    "ax2.scatter(param_values[:, 0], param_values[:,1], c = predicted_labels)\n",
    "ax2.set_xlabel(columns[0])\n",
    "ax2.set_xlabel(columns[1])\n",
    "\n",
    "plt.show()"
   ]
  },
  {
   "cell_type": "code",
   "execution_count": null,
   "metadata": {
    "colab": {},
    "colab_type": "code",
    "id": "F1f3I5BKcM06",
    "scrolled": true
   },
   "outputs": [],
   "source": [
    "def get_topwords2(topic):\n",
    "    indices = np.where(predicted_labels == topic)[0]\n",
    "    print(doc_word_distr.iloc[indices].mean(0).sort_values(ascending=False).head(10))\n",
    "\n",
    "def get_topwords(topic):\n",
    "    indices = np.where(predicted_labels == topic)[0]\n",
    "    print((doc_word_distr.T * wtf[:, topic]).T.iloc[indices].mean(0).sort_values(ascending=False).head(10))\n",
    "\n",
    "def get_topwords2(topic):\n",
    "    indices = np.where(predicted_labels == topic)[0]\n",
    "    xv = (doc_word_distr.T * wtf[:, topic]).T.iloc[indices]\n",
    "    xvc = (xv > 0).sum(0)\n",
    "    print((xv.sum(0) * calculate_trust_ratio(xvc) / xvc).sort_values(ascending=False).head(10))\n",
    "\n",
    "def get_top2(topic):\n",
    "    indices = dist[:, topic].argsort()\n",
    "    print(labels[indices[:10]])\n",
    "    get_topwords(topic)\n",
    "    \n",
    "def get_top(topic):\n",
    "    indices = np.where(predicted_labels == topic)[0]\n",
    "    count = Counter()\n",
    "    for index in indices:\n",
    "        count[labels[index]] += wtf[index, topic]\n",
    "        \n",
    "    print(Counter(labels[indices]))\n",
    "    get_topwords(topic)"
   ]
  },
  {
   "cell_type": "code",
   "execution_count": null,
   "metadata": {
    "colab": {},
    "colab_type": "code",
    "id": "yiuiOJ0AcM0-",
    "scrolled": true
   },
   "outputs": [],
   "source": [
    "get_top(0)"
   ]
  },
  {
   "cell_type": "code",
   "execution_count": null,
   "metadata": {
    "colab": {},
    "colab_type": "code",
    "id": "CjPQdUHycM1B"
   },
   "outputs": [],
   "source": [
    "get_top(1)"
   ]
  },
  {
   "cell_type": "code",
   "execution_count": null,
   "metadata": {
    "colab": {},
    "colab_type": "code",
    "id": "7KuO7osAcM1I"
   },
   "outputs": [],
   "source": [
    "get_top(2)\n",
    "#seome comment"
   ]
  },
  {
   "cell_type": "code",
   "execution_count": null,
   "metadata": {
    "colab": {},
    "colab_type": "code",
    "id": "f7qDtG2LcM1N"
   },
   "outputs": [],
   "source": [
    "get_top(3)"
   ]
  },
  {
   "cell_type": "markdown",
   "metadata": {
    "colab_type": "text",
    "id": "VA-cpOOpcM1T"
   },
   "source": [
    "### LDA"
   ]
  },
  {
   "cell_type": "code",
   "execution_count": null,
   "metadata": {
    "colab": {},
    "colab_type": "code",
    "id": "qgCVAu1ZcM1V"
   },
   "outputs": [],
   "source": []
  }
 ],
 "metadata": {
  "colab": {
   "name": "topic_modeler.ipynb",
   "provenance": [],
   "toc_visible": true
  },
  "kernelspec": {
   "display_name": "Python 3.7.2 64-bit",
   "language": "python",
   "name": "python37264bit1e47c484c81847018c6f6fa7221b75f5"
  },
  "language_info": {
   "codemirror_mode": {
    "name": "ipython",
    "version": 3
   },
   "file_extension": ".py",
   "mimetype": "text/x-python",
   "name": "python",
   "nbconvert_exporter": "python",
   "pygments_lexer": "ipython3",
   "version": "3.7.2"
  },
  "widgets": {
   "application/vnd.jupyter.widget-state+json": {
    "1029c3cb5c264802a7bd45639c1a7c20": {
     "model_module": "@jupyter-widgets/base",
     "model_name": "LayoutModel",
     "state": {
      "_model_module": "@jupyter-widgets/base",
      "_model_module_version": "1.2.0",
      "_model_name": "LayoutModel",
      "_view_count": null,
      "_view_module": "@jupyter-widgets/base",
      "_view_module_version": "1.2.0",
      "_view_name": "LayoutView",
      "align_content": null,
      "align_items": null,
      "align_self": null,
      "border": null,
      "bottom": null,
      "display": null,
      "flex": null,
      "flex_flow": null,
      "grid_area": null,
      "grid_auto_columns": null,
      "grid_auto_flow": null,
      "grid_auto_rows": null,
      "grid_column": null,
      "grid_gap": null,
      "grid_row": null,
      "grid_template_areas": null,
      "grid_template_columns": null,
      "grid_template_rows": null,
      "height": null,
      "justify_content": null,
      "justify_items": null,
      "left": null,
      "margin": null,
      "max_height": null,
      "max_width": null,
      "min_height": null,
      "min_width": null,
      "object_fit": null,
      "object_position": null,
      "order": null,
      "overflow": null,
      "overflow_x": null,
      "overflow_y": null,
      "padding": null,
      "right": null,
      "top": null,
      "visibility": null,
      "width": null
     }
    },
    "2e8643a34a7143e284ed8e94aaca32d7": {
     "model_module": "@jupyter-widgets/controls",
     "model_name": "ProgressStyleModel",
     "state": {
      "_model_module": "@jupyter-widgets/controls",
      "_model_module_version": "1.5.0",
      "_model_name": "ProgressStyleModel",
      "_view_count": null,
      "_view_module": "@jupyter-widgets/base",
      "_view_module_version": "1.2.0",
      "_view_name": "StyleView",
      "bar_color": null,
      "description_width": "initial"
     }
    },
    "44bf4a5432b34d269a82bce24d4e46b3": {
     "model_module": "@jupyter-widgets/controls",
     "model_name": "ProgressStyleModel",
     "state": {
      "_model_module": "@jupyter-widgets/controls",
      "_model_module_version": "1.5.0",
      "_model_name": "ProgressStyleModel",
      "_view_count": null,
      "_view_module": "@jupyter-widgets/base",
      "_view_module_version": "1.2.0",
      "_view_name": "StyleView",
      "bar_color": null,
      "description_width": "initial"
     }
    },
    "4dcd4b491d694b0aa25514b8486cf3f8": {
     "model_module": "@jupyter-widgets/base",
     "model_name": "LayoutModel",
     "state": {
      "_model_module": "@jupyter-widgets/base",
      "_model_module_version": "1.2.0",
      "_model_name": "LayoutModel",
      "_view_count": null,
      "_view_module": "@jupyter-widgets/base",
      "_view_module_version": "1.2.0",
      "_view_name": "LayoutView",
      "align_content": null,
      "align_items": null,
      "align_self": null,
      "border": null,
      "bottom": null,
      "display": null,
      "flex": null,
      "flex_flow": null,
      "grid_area": null,
      "grid_auto_columns": null,
      "grid_auto_flow": null,
      "grid_auto_rows": null,
      "grid_column": null,
      "grid_gap": null,
      "grid_row": null,
      "grid_template_areas": null,
      "grid_template_columns": null,
      "grid_template_rows": null,
      "height": null,
      "justify_content": null,
      "justify_items": null,
      "left": null,
      "margin": null,
      "max_height": null,
      "max_width": null,
      "min_height": null,
      "min_width": null,
      "object_fit": null,
      "object_position": null,
      "order": null,
      "overflow": null,
      "overflow_x": null,
      "overflow_y": null,
      "padding": null,
      "right": null,
      "top": null,
      "visibility": null,
      "width": null
     }
    },
    "51dd1aa22f7d45ccbd3ba766bb232b57": {
     "model_module": "@jupyter-widgets/base",
     "model_name": "LayoutModel",
     "state": {
      "_model_module": "@jupyter-widgets/base",
      "_model_module_version": "1.2.0",
      "_model_name": "LayoutModel",
      "_view_count": null,
      "_view_module": "@jupyter-widgets/base",
      "_view_module_version": "1.2.0",
      "_view_name": "LayoutView",
      "align_content": null,
      "align_items": null,
      "align_self": null,
      "border": null,
      "bottom": null,
      "display": null,
      "flex": null,
      "flex_flow": null,
      "grid_area": null,
      "grid_auto_columns": null,
      "grid_auto_flow": null,
      "grid_auto_rows": null,
      "grid_column": null,
      "grid_gap": null,
      "grid_row": null,
      "grid_template_areas": null,
      "grid_template_columns": null,
      "grid_template_rows": null,
      "height": null,
      "justify_content": null,
      "justify_items": null,
      "left": null,
      "margin": null,
      "max_height": null,
      "max_width": null,
      "min_height": null,
      "min_width": null,
      "object_fit": null,
      "object_position": null,
      "order": null,
      "overflow": null,
      "overflow_x": null,
      "overflow_y": null,
      "padding": null,
      "right": null,
      "top": null,
      "visibility": null,
      "width": null
     }
    },
    "5369f73e7d934a68a3478189b5a136b6": {
     "model_module": "@jupyter-widgets/controls",
     "model_name": "FloatProgressModel",
     "state": {
      "_dom_classes": [],
      "_model_module": "@jupyter-widgets/controls",
      "_model_module_version": "1.5.0",
      "_model_name": "FloatProgressModel",
      "_view_count": null,
      "_view_module": "@jupyter-widgets/controls",
      "_view_module_version": "1.5.0",
      "_view_name": "ProgressView",
      "bar_style": "",
      "description": " 14%",
      "description_tooltip": null,
      "layout": "IPY_MODEL_4dcd4b491d694b0aa25514b8486cf3f8",
      "max": 37408,
      "min": 0,
      "orientation": "horizontal",
      "style": "IPY_MODEL_44bf4a5432b34d269a82bce24d4e46b3",
      "value": 5274
     }
    },
    "5c20409065a347d18e1ab6bde4c5a0ba": {
     "model_module": "@jupyter-widgets/base",
     "model_name": "LayoutModel",
     "state": {
      "_model_module": "@jupyter-widgets/base",
      "_model_module_version": "1.2.0",
      "_model_name": "LayoutModel",
      "_view_count": null,
      "_view_module": "@jupyter-widgets/base",
      "_view_module_version": "1.2.0",
      "_view_name": "LayoutView",
      "align_content": null,
      "align_items": null,
      "align_self": null,
      "border": null,
      "bottom": null,
      "display": null,
      "flex": null,
      "flex_flow": null,
      "grid_area": null,
      "grid_auto_columns": null,
      "grid_auto_flow": null,
      "grid_auto_rows": null,
      "grid_column": null,
      "grid_gap": null,
      "grid_row": null,
      "grid_template_areas": null,
      "grid_template_columns": null,
      "grid_template_rows": null,
      "height": null,
      "justify_content": null,
      "justify_items": null,
      "left": null,
      "margin": null,
      "max_height": null,
      "max_width": null,
      "min_height": null,
      "min_width": null,
      "object_fit": null,
      "object_position": null,
      "order": null,
      "overflow": null,
      "overflow_x": null,
      "overflow_y": null,
      "padding": null,
      "right": null,
      "top": null,
      "visibility": null,
      "width": null
     }
    },
    "846b5c7701bc49e4be2a7681d5361dd8": {
     "model_module": "@jupyter-widgets/controls",
     "model_name": "HTMLModel",
     "state": {
      "_dom_classes": [],
      "_model_module": "@jupyter-widgets/controls",
      "_model_module_version": "1.5.0",
      "_model_name": "HTMLModel",
      "_view_count": null,
      "_view_module": "@jupyter-widgets/controls",
      "_view_module_version": "1.5.0",
      "_view_name": "HTMLView",
      "description": "",
      "description_tooltip": null,
      "layout": "IPY_MODEL_5c20409065a347d18e1ab6bde4c5a0ba",
      "placeholder": "​",
      "style": "IPY_MODEL_cee50571766e465b81cd2d06ac0a4d31",
      "value": " 200/200 [00:52&lt;00:00,  3.85it/s]"
     }
    },
    "94d411d6977f493894ec3c8b5975f693": {
     "model_module": "@jupyter-widgets/controls",
     "model_name": "FloatProgressModel",
     "state": {
      "_dom_classes": [],
      "_model_module": "@jupyter-widgets/controls",
      "_model_module_version": "1.5.0",
      "_model_name": "FloatProgressModel",
      "_view_count": null,
      "_view_module": "@jupyter-widgets/controls",
      "_view_module_version": "1.5.0",
      "_view_name": "ProgressView",
      "bar_style": "success",
      "description": "100%",
      "description_tooltip": null,
      "layout": "IPY_MODEL_b8ce72deb0c34c35a99b91bbc9b5504c",
      "max": 200,
      "min": 0,
      "orientation": "horizontal",
      "style": "IPY_MODEL_2e8643a34a7143e284ed8e94aaca32d7",
      "value": 200
     }
    },
    "b8ce72deb0c34c35a99b91bbc9b5504c": {
     "model_module": "@jupyter-widgets/base",
     "model_name": "LayoutModel",
     "state": {
      "_model_module": "@jupyter-widgets/base",
      "_model_module_version": "1.2.0",
      "_model_name": "LayoutModel",
      "_view_count": null,
      "_view_module": "@jupyter-widgets/base",
      "_view_module_version": "1.2.0",
      "_view_name": "LayoutView",
      "align_content": null,
      "align_items": null,
      "align_self": null,
      "border": null,
      "bottom": null,
      "display": null,
      "flex": null,
      "flex_flow": null,
      "grid_area": null,
      "grid_auto_columns": null,
      "grid_auto_flow": null,
      "grid_auto_rows": null,
      "grid_column": null,
      "grid_gap": null,
      "grid_row": null,
      "grid_template_areas": null,
      "grid_template_columns": null,
      "grid_template_rows": null,
      "height": null,
      "justify_content": null,
      "justify_items": null,
      "left": null,
      "margin": null,
      "max_height": null,
      "max_width": null,
      "min_height": null,
      "min_width": null,
      "object_fit": null,
      "object_position": null,
      "order": null,
      "overflow": null,
      "overflow_x": null,
      "overflow_y": null,
      "padding": null,
      "right": null,
      "top": null,
      "visibility": null,
      "width": null
     }
    },
    "b8ee6c0914474dab8186285123c3c25a": {
     "model_module": "@jupyter-widgets/controls",
     "model_name": "HBoxModel",
     "state": {
      "_dom_classes": [],
      "_model_module": "@jupyter-widgets/controls",
      "_model_module_version": "1.5.0",
      "_model_name": "HBoxModel",
      "_view_count": null,
      "_view_module": "@jupyter-widgets/controls",
      "_view_module_version": "1.5.0",
      "_view_name": "HBoxView",
      "box_style": "",
      "children": [
       "IPY_MODEL_94d411d6977f493894ec3c8b5975f693",
       "IPY_MODEL_846b5c7701bc49e4be2a7681d5361dd8"
      ],
      "layout": "IPY_MODEL_1029c3cb5c264802a7bd45639c1a7c20"
     }
    },
    "c3f9b287331c4447a3858c3fed906a66": {
     "model_module": "@jupyter-widgets/controls",
     "model_name": "HBoxModel",
     "state": {
      "_dom_classes": [],
      "_model_module": "@jupyter-widgets/controls",
      "_model_module_version": "1.5.0",
      "_model_name": "HBoxModel",
      "_view_count": null,
      "_view_module": "@jupyter-widgets/controls",
      "_view_module_version": "1.5.0",
      "_view_name": "HBoxView",
      "box_style": "",
      "children": [
       "IPY_MODEL_5369f73e7d934a68a3478189b5a136b6",
       "IPY_MODEL_f02ad7bad6f74da69de3557e8b7e3b92"
      ],
      "layout": "IPY_MODEL_dc810a1b5ae545a09ef4b77e92695a36"
     }
    },
    "cee50571766e465b81cd2d06ac0a4d31": {
     "model_module": "@jupyter-widgets/controls",
     "model_name": "DescriptionStyleModel",
     "state": {
      "_model_module": "@jupyter-widgets/controls",
      "_model_module_version": "1.5.0",
      "_model_name": "DescriptionStyleModel",
      "_view_count": null,
      "_view_module": "@jupyter-widgets/base",
      "_view_module_version": "1.2.0",
      "_view_name": "StyleView",
      "description_width": ""
     }
    },
    "dc810a1b5ae545a09ef4b77e92695a36": {
     "model_module": "@jupyter-widgets/base",
     "model_name": "LayoutModel",
     "state": {
      "_model_module": "@jupyter-widgets/base",
      "_model_module_version": "1.2.0",
      "_model_name": "LayoutModel",
      "_view_count": null,
      "_view_module": "@jupyter-widgets/base",
      "_view_module_version": "1.2.0",
      "_view_name": "LayoutView",
      "align_content": null,
      "align_items": null,
      "align_self": null,
      "border": null,
      "bottom": null,
      "display": null,
      "flex": null,
      "flex_flow": null,
      "grid_area": null,
      "grid_auto_columns": null,
      "grid_auto_flow": null,
      "grid_auto_rows": null,
      "grid_column": null,
      "grid_gap": null,
      "grid_row": null,
      "grid_template_areas": null,
      "grid_template_columns": null,
      "grid_template_rows": null,
      "height": null,
      "justify_content": null,
      "justify_items": null,
      "left": null,
      "margin": null,
      "max_height": null,
      "max_width": null,
      "min_height": null,
      "min_width": null,
      "object_fit": null,
      "object_position": null,
      "order": null,
      "overflow": null,
      "overflow_x": null,
      "overflow_y": null,
      "padding": null,
      "right": null,
      "top": null,
      "visibility": null,
      "width": null
     }
    },
    "eb223b5836d04aaea284e26e6a3a6a1a": {
     "model_module": "@jupyter-widgets/controls",
     "model_name": "DescriptionStyleModel",
     "state": {
      "_model_module": "@jupyter-widgets/controls",
      "_model_module_version": "1.5.0",
      "_model_name": "DescriptionStyleModel",
      "_view_count": null,
      "_view_module": "@jupyter-widgets/base",
      "_view_module_version": "1.2.0",
      "_view_name": "StyleView",
      "description_width": ""
     }
    },
    "f02ad7bad6f74da69de3557e8b7e3b92": {
     "model_module": "@jupyter-widgets/controls",
     "model_name": "HTMLModel",
     "state": {
      "_dom_classes": [],
      "_model_module": "@jupyter-widgets/controls",
      "_model_module_version": "1.5.0",
      "_model_name": "HTMLModel",
      "_view_count": null,
      "_view_module": "@jupyter-widgets/controls",
      "_view_module_version": "1.5.0",
      "_view_name": "HTMLView",
      "description": "",
      "description_tooltip": null,
      "layout": "IPY_MODEL_51dd1aa22f7d45ccbd3ba766bb232b57",
      "placeholder": "​",
      "style": "IPY_MODEL_eb223b5836d04aaea284e26e6a3a6a1a",
      "value": " 5274/37408 [06:38&lt;40:12, 13.32it/s]"
     }
    }
   }
  }
 },
 "nbformat": 4,
 "nbformat_minor": 1
}

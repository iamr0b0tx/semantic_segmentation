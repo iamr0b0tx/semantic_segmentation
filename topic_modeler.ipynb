{
 "cells": [
  {
   "cell_type": "code",
   "execution_count": 1,
   "metadata": {
    "colab": {},
    "colab_type": "code",
    "id": "QfWTxubYcMxR"
   },
   "outputs": [],
   "source": [
    "%load_ext autoreload\n",
    "%autoreload 2"
   ]
  },
  {
   "cell_type": "markdown",
   "metadata": {
    "colab_type": "text",
    "id": "zS4cUkmGcMxd"
   },
   "source": [
    "### imports and utilities"
   ]
  },
  {
   "cell_type": "code",
   "execution_count": 2,
   "metadata": {
    "colab": {
     "base_uri": "https://localhost:8080/",
     "height": 224
    },
    "colab_type": "code",
    "id": "y8zAmrhTcMxe",
    "outputId": "c6f3bac6-21a3-449f-b17e-4d7d1c8a51b1"
   },
   "outputs": [],
   "source": [
    "!pip install nltk scikit-learn matplotlib scipy -q"
   ]
  },
  {
   "cell_type": "code",
   "execution_count": 3,
   "metadata": {
    "colab": {
     "base_uri": "https://localhost:8080/",
     "height": 153
    },
    "colab_type": "code",
    "id": "qOriDeG8cMxl",
    "outputId": "a4b003fc-c8fb-4937-e900-b5807b0d6d53"
   },
   "outputs": [
    {
     "name": "stderr",
     "output_type": "stream",
     "text": [
      "[nltk_data] Error loading punkt: <urlopen error [Errno 11001]\n",
      "[nltk_data]     getaddrinfo failed>\n",
      "[nltk_data] Error loading wordnet: <urlopen error [Errno 11001]\n",
      "[nltk_data]     getaddrinfo failed>\n",
      "[nltk_data] Error loading averaged_perceptron_tagger: <urlopen error\n",
      "[nltk_data]     [Errno 11001] getaddrinfo failed>\n"
     ]
    },
    {
     "data": {
      "text/plain": [
       "False"
      ]
     },
     "execution_count": 3,
     "metadata": {},
     "output_type": "execute_result"
    }
   ],
   "source": [
    "import nltk\n",
    "nltk.download('punkt')\n",
    "nltk.download('wordnet')\n",
    "nltk.download('averaged_perceptron_tagger')"
   ]
  },
  {
   "cell_type": "code",
   "execution_count": 65,
   "metadata": {
    "colab": {},
    "colab_type": "code",
    "id": "3liQaMKccMxs"
   },
   "outputs": [],
   "source": [
    "from collections import Counter\n",
    "from utils import *\n",
    "\n",
    "import numpy as np\n",
    "import pandas as pd\n",
    "import matplotlib.pyplot as plt\n",
    "\n",
    "from tqdm.notebook import tqdm\n",
    "from scipy.special import softmax\n",
    "from scipy.stats import norm\n",
    "from scipy.stats import entropy as calculate_entropy\n",
    "\n",
    "from sklearn.naive_bayes import GaussianNB\n",
    "\n",
    "from sklearn.model_selection import train_test_split\n",
    "from sklearn.decomposition import PCA\n",
    "from sklearn.preprocessing import normalize\n",
    "from sklearn.datasets import fetch_20newsgroups\n",
    "from sklearn.cluster import KMeans, MiniBatchKMeans\n",
    "from sklearn.metrics.pairwise import cosine_similarity\n",
    "from sklearn.feature_extraction.text import CountVectorizer, TfidfVectorizer"
   ]
  },
  {
   "cell_type": "markdown",
   "metadata": {
    "colab_type": "text",
    "id": "gQtq2JhkcMxz"
   },
   "source": [
    "### load dataset"
   ]
  },
  {
   "cell_type": "code",
   "execution_count": 6,
   "metadata": {
    "colab": {
     "base_uri": "https://localhost:8080/",
     "height": 51
    },
    "colab_type": "code",
    "id": "vR1db5rUcMx0",
    "outputId": "8498f3d2-9ac1-4952-8ad6-85b2c076f94a"
   },
   "outputs": [],
   "source": [
    "dataset = \"newsgroup\"\n",
    "\n",
    "# total number of samples needed\n",
    "randomize = False\n",
    "\n",
    "# retrieve dataset\n",
    "categories = ['rec.autos', 'talk.politics.mideast', 'alt.atheism', 'sci.space']\n",
    "\n",
    "all_docs = fetch_20newsgroups(subset='train', shuffle=randomize, remove=('headers', 'footers', 'quotes'), categories=categories)\n",
    "all_docs, old_labels, categories = all_docs.data, all_docs.target, all_docs.target_names"
   ]
  },
  {
   "cell_type": "code",
   "execution_count": 7,
   "metadata": {
    "colab": {},
    "colab_type": "code",
    "id": "xd-imY-icMx8"
   },
   "outputs": [],
   "source": [
    "# dataset = \"bbc\"\n",
    "\n",
    "# data = pd.read_csv('bbcsport.csv')\n",
    "\n",
    "# all_docs = data[\"text\"].to_list()\n",
    "# old_labels = data[\"topic\"].to_list()\n",
    "# categories = classes = np.unique(data[\"topic\"]).tolist()"
   ]
  },
  {
   "cell_type": "markdown",
   "metadata": {
    "colab_type": "text",
    "id": "WYe4XYDfcMyI"
   },
   "source": [
    "### clean dataset"
   ]
  },
  {
   "cell_type": "code",
   "execution_count": 8,
   "metadata": {
    "colab": {
     "base_uri": "https://localhost:8080/",
     "height": 66,
     "referenced_widgets": [
      "b8ee6c0914474dab8186285123c3c25a",
      "1029c3cb5c264802a7bd45639c1a7c20",
      "94d411d6977f493894ec3c8b5975f693",
      "846b5c7701bc49e4be2a7681d5361dd8",
      "2e8643a34a7143e284ed8e94aaca32d7",
      "b8ce72deb0c34c35a99b91bbc9b5504c",
      "cee50571766e465b81cd2d06ac0a4d31",
      "5c20409065a347d18e1ab6bde4c5a0ba"
     ]
    },
    "colab_type": "code",
    "id": "RgG4w-qpcMyJ",
    "outputId": "142478ec-50d6-4c3a-f6fb-db0ee38fcb1a"
   },
   "outputs": [
    {
     "data": {
      "application/vnd.jupyter.widget-view+json": {
       "model_id": "9bd5e76afd434e0fbedd6871093271f3",
       "version_major": 2,
       "version_minor": 0
      },
      "text/plain": [
       "HBox(children=(FloatProgress(value=0.0, max=160.0), HTML(value='')))"
      ]
     },
     "metadata": {},
     "output_type": "display_data"
    },
    {
     "name": "stdout",
     "output_type": "stream",
     "text": [
      "\n"
     ]
    }
   ],
   "source": [
    "datasize = 40\n",
    "min_document_length = 160\n",
    "max_document_length = 256\n",
    "\n",
    "\n",
    "index = -1\n",
    "docs, labels, label_indices = [], [], []\n",
    "\n",
    "sizes = [0]*len(categories)\n",
    "\n",
    "with tqdm(total=len(categories)*datasize) as pbar:\n",
    "    while sum(sizes) < len(categories)*datasize:\n",
    "        index += 1\n",
    "        label_index = old_labels[index]\n",
    "            \n",
    "        if sizes[label_index] == datasize:\n",
    "            continue\n",
    "        \n",
    "        doc = all_docs[index]\n",
    "        status, doc, word_count = clean_doc(doc, True)\n",
    "        \n",
    "        if not status:\n",
    "            continue\n",
    "            \n",
    "        if min_document_length is not None and len(doc) < min_document_length:\n",
    "            continue\n",
    "            \n",
    "        if max_document_length is not None and len(doc) > max_document_length:\n",
    "            continue\n",
    "        \n",
    "        label_indices.append(label_index)\n",
    "        labels.append(categories[label_index])\n",
    "        \n",
    "        docs.append(doc)\n",
    "        sizes[label_index] += 1\n",
    "        pbar.update(1)\n",
    "\n",
    "labels = np.array(labels)\n",
    "label_indices = np.array(label_indices)"
   ]
  },
  {
   "cell_type": "code",
   "execution_count": 9,
   "metadata": {
    "colab": {
     "base_uri": "https://localhost:8080/",
     "height": 88
    },
    "colab_type": "code",
    "id": "_eBXjBUecMyU",
    "outputId": "12f081a4-fab6-4de7-f36f-62399abaa5b8"
   },
   "outputs": [
    {
     "name": "stdout",
     "output_type": "stream",
     "text": [
      "Topic: rec.autos\n",
      "==================================================\n",
      "not to mention my friend s 54 citroen traction avant with the light switch and dimmer integrate in a single stalk off the steer column those dumb french be apparently copying the japanese before the german\n"
     ]
    }
   ],
   "source": [
    "doc_index = 3\n",
    "print(f\"Topic: {labels[doc_index]}\\n{'='*50}\\n{docs[doc_index][:512]}\")"
   ]
  },
  {
   "cell_type": "code",
   "execution_count": 10,
   "metadata": {
    "colab": {
     "base_uri": "https://localhost:8080/",
     "height": 34
    },
    "colab_type": "code",
    "id": "KS5PW7qHcMyb",
    "outputId": "d83a2010-8955-4c8f-f2d6-be15ecad2198",
    "scrolled": true
   },
   "outputs": [
    {
     "name": "stdout",
     "output_type": "stream",
     "text": [
      "[40, 40, 40, 40]\n"
     ]
    }
   ],
   "source": [
    "print(sizes)\n",
    "assert min(sizes) == max(sizes) == datasize"
   ]
  },
  {
   "cell_type": "markdown",
   "metadata": {},
   "source": [
    "### Split data"
   ]
  },
  {
   "cell_type": "code",
   "execution_count": 11,
   "metadata": {},
   "outputs": [],
   "source": [
    "x_train, x_test, y_train, y_test = train_test_split(docs, labels, test_size =.3)"
   ]
  },
  {
   "cell_type": "code",
   "execution_count": 12,
   "metadata": {
    "colab": {
     "base_uri": "https://localhost:8080/",
     "height": 34
    },
    "colab_type": "code",
    "id": "s8R3CeUBcMyg",
    "outputId": "adcba1c9-85ae-428d-ff5f-ba33bd7beef8",
    "scrolled": false
   },
   "outputs": [
    {
     "name": "stdout",
     "output_type": "stream",
     "text": [
      "there are 160 total docs, 112 train and 48 test\n"
     ]
    }
   ],
   "source": [
    "print(f\"there are {len(docs)} total docs, {len(y_train)} train and {len(y_test)} test\")"
   ]
  },
  {
   "cell_type": "markdown",
   "metadata": {
    "colab_type": "text",
    "id": "-OUac83RcMyl"
   },
   "source": [
    "### Initialize Vectorizer"
   ]
  },
  {
   "cell_type": "code",
   "execution_count": 13,
   "metadata": {
    "colab": {
     "base_uri": "https://localhost:8080/",
     "height": 34
    },
    "colab_type": "code",
    "id": "ZCBHEIyEcMyn",
    "outputId": "18cbf825-2576-4937-908b-ce0cc5a29150"
   },
   "outputs": [
    {
     "name": "stdout",
     "output_type": "stream",
     "text": [
      "word_count is 1467\n"
     ]
    }
   ],
   "source": [
    "# initialize the count vectorizer\n",
    "vectorizer = CountVectorizer()\n",
    "\n",
    "# fit it to dataset\n",
    "vectorizer.fit(x_train)\n",
    "\n",
    "vocabulary = np.array(vectorizer.get_feature_names())\n",
    "print(\"word_count is\", len(vocabulary))"
   ]
  },
  {
   "cell_type": "markdown",
   "metadata": {
    "colab_type": "text",
    "id": "UKomwY7acMyz"
   },
   "source": [
    "### Prepare Datatset"
   ]
  },
  {
   "cell_type": "code",
   "execution_count": 256,
   "metadata": {
    "colab": {
     "base_uri": "https://localhost:8080/",
     "height": 34
    },
    "colab_type": "code",
    "id": "IIYeZA4EcMy0",
    "outputId": "da04274f-82f4-49a5-8be6-d1c9230aa835"
   },
   "outputs": [],
   "source": [
    "# create doc count vectors\n",
    "train_doc_vectors = vectorizer.transform(x_train).toarray()\n",
    "test_doc_vectors = vectorizer.transform(x_test).toarray()\n",
    "\n",
    "wdf_train = pd.DataFrame(train_doc_vectors, columns=vocabulary)\n",
    "wdf_test = pd.DataFrame(test_doc_vectors, columns=vocabulary)"
   ]
  },
  {
   "cell_type": "markdown",
   "metadata": {},
   "source": [
    "### some new method"
   ]
  },
  {
   "cell_type": "code",
   "execution_count": 257,
   "metadata": {},
   "outputs": [
    {
     "data": {
      "text/html": [
       "<div>\n",
       "<style scoped>\n",
       "    .dataframe tbody tr th:only-of-type {\n",
       "        vertical-align: middle;\n",
       "    }\n",
       "\n",
       "    .dataframe tbody tr th {\n",
       "        vertical-align: top;\n",
       "    }\n",
       "\n",
       "    .dataframe thead th {\n",
       "        text-align: right;\n",
       "    }\n",
       "</style>\n",
       "<table border=\"1\" class=\"dataframe\">\n",
       "  <thead>\n",
       "    <tr style=\"text-align: right;\">\n",
       "      <th></th>\n",
       "      <th>000</th>\n",
       "      <th>031349</th>\n",
       "      <th>10</th>\n",
       "      <th>1000</th>\n",
       "      <th>11</th>\n",
       "      <th>14</th>\n",
       "      <th>16th</th>\n",
       "      <th>1900</th>\n",
       "      <th>1940</th>\n",
       "      <th>1982</th>\n",
       "      <th>...</th>\n",
       "      <th>yahud</th>\n",
       "      <th>yeah</th>\n",
       "      <th>year</th>\n",
       "      <th>yes</th>\n",
       "      <th>yo</th>\n",
       "      <th>yorker</th>\n",
       "      <th>you</th>\n",
       "      <th>your</th>\n",
       "      <th>yourself</th>\n",
       "      <th>zeuge</th>\n",
       "    </tr>\n",
       "  </thead>\n",
       "  <tbody>\n",
       "    <tr>\n",
       "      <th>0</th>\n",
       "      <td>0</td>\n",
       "      <td>0</td>\n",
       "      <td>0</td>\n",
       "      <td>0</td>\n",
       "      <td>0</td>\n",
       "      <td>0</td>\n",
       "      <td>0</td>\n",
       "      <td>0</td>\n",
       "      <td>0</td>\n",
       "      <td>0</td>\n",
       "      <td>...</td>\n",
       "      <td>0</td>\n",
       "      <td>0</td>\n",
       "      <td>0</td>\n",
       "      <td>0</td>\n",
       "      <td>0</td>\n",
       "      <td>0</td>\n",
       "      <td>0</td>\n",
       "      <td>0</td>\n",
       "      <td>0</td>\n",
       "      <td>0</td>\n",
       "    </tr>\n",
       "    <tr>\n",
       "      <th>1</th>\n",
       "      <td>0</td>\n",
       "      <td>0</td>\n",
       "      <td>0</td>\n",
       "      <td>0</td>\n",
       "      <td>0</td>\n",
       "      <td>0</td>\n",
       "      <td>0</td>\n",
       "      <td>0</td>\n",
       "      <td>0</td>\n",
       "      <td>0</td>\n",
       "      <td>...</td>\n",
       "      <td>0</td>\n",
       "      <td>0</td>\n",
       "      <td>0</td>\n",
       "      <td>0</td>\n",
       "      <td>0</td>\n",
       "      <td>0</td>\n",
       "      <td>1</td>\n",
       "      <td>0</td>\n",
       "      <td>0</td>\n",
       "      <td>0</td>\n",
       "    </tr>\n",
       "    <tr>\n",
       "      <th>2</th>\n",
       "      <td>0</td>\n",
       "      <td>0</td>\n",
       "      <td>0</td>\n",
       "      <td>0</td>\n",
       "      <td>0</td>\n",
       "      <td>0</td>\n",
       "      <td>0</td>\n",
       "      <td>0</td>\n",
       "      <td>0</td>\n",
       "      <td>0</td>\n",
       "      <td>...</td>\n",
       "      <td>0</td>\n",
       "      <td>0</td>\n",
       "      <td>0</td>\n",
       "      <td>0</td>\n",
       "      <td>0</td>\n",
       "      <td>0</td>\n",
       "      <td>0</td>\n",
       "      <td>0</td>\n",
       "      <td>0</td>\n",
       "      <td>0</td>\n",
       "    </tr>\n",
       "    <tr>\n",
       "      <th>3</th>\n",
       "      <td>0</td>\n",
       "      <td>0</td>\n",
       "      <td>0</td>\n",
       "      <td>0</td>\n",
       "      <td>0</td>\n",
       "      <td>0</td>\n",
       "      <td>0</td>\n",
       "      <td>0</td>\n",
       "      <td>0</td>\n",
       "      <td>0</td>\n",
       "      <td>...</td>\n",
       "      <td>0</td>\n",
       "      <td>0</td>\n",
       "      <td>0</td>\n",
       "      <td>0</td>\n",
       "      <td>0</td>\n",
       "      <td>0</td>\n",
       "      <td>0</td>\n",
       "      <td>0</td>\n",
       "      <td>0</td>\n",
       "      <td>0</td>\n",
       "    </tr>\n",
       "    <tr>\n",
       "      <th>4</th>\n",
       "      <td>0</td>\n",
       "      <td>0</td>\n",
       "      <td>0</td>\n",
       "      <td>0</td>\n",
       "      <td>0</td>\n",
       "      <td>0</td>\n",
       "      <td>0</td>\n",
       "      <td>0</td>\n",
       "      <td>0</td>\n",
       "      <td>0</td>\n",
       "      <td>...</td>\n",
       "      <td>0</td>\n",
       "      <td>0</td>\n",
       "      <td>0</td>\n",
       "      <td>0</td>\n",
       "      <td>0</td>\n",
       "      <td>0</td>\n",
       "      <td>0</td>\n",
       "      <td>0</td>\n",
       "      <td>0</td>\n",
       "      <td>0</td>\n",
       "    </tr>\n",
       "  </tbody>\n",
       "</table>\n",
       "<p>5 rows × 1467 columns</p>\n",
       "</div>"
      ],
      "text/plain": [
       "   000  031349  10  1000  11  14  16th  1900  1940  1982  ...  yahud  yeah  \\\n",
       "0    0       0   0     0   0   0     0     0     0     0  ...      0     0   \n",
       "1    0       0   0     0   0   0     0     0     0     0  ...      0     0   \n",
       "2    0       0   0     0   0   0     0     0     0     0  ...      0     0   \n",
       "3    0       0   0     0   0   0     0     0     0     0  ...      0     0   \n",
       "4    0       0   0     0   0   0     0     0     0     0  ...      0     0   \n",
       "\n",
       "   year  yes  yo  yorker  you  your  yourself  zeuge  \n",
       "0     0    0   0       0    0     0         0      0  \n",
       "1     0    0   0       0    1     0         0      0  \n",
       "2     0    0   0       0    0     0         0      0  \n",
       "3     0    0   0       0    0     0         0      0  \n",
       "4     0    0   0       0    0     0         0      0  \n",
       "\n",
       "[5 rows x 1467 columns]"
      ]
     },
     "execution_count": 257,
     "metadata": {},
     "output_type": "execute_result"
    }
   ],
   "source": [
    "wdf_train.head()"
   ]
  },
  {
   "cell_type": "code",
   "execution_count": 258,
   "metadata": {
    "scrolled": true
   },
   "outputs": [
    {
     "data": {
      "application/vnd.jupyter.widget-view+json": {
       "model_id": "6b989560c7f247299057b7d6d77e3629",
       "version_major": 2,
       "version_minor": 0
      },
      "text/plain": [
       "HBox(children=(FloatProgress(value=0.0, max=1467.0), HTML(value='')))"
      ]
     },
     "metadata": {},
     "output_type": "display_data"
    },
    {
     "name": "stdout",
     "output_type": "stream",
     "text": [
      "\n",
      "word_word_pr_distr shape = (1467, 1467)\n"
     ]
    }
   ],
   "source": [
    "wdt_train = wdf_train.copy()\n",
    "wdt_test = wdf_test.copy()\n",
    "\n",
    "wdt_test[\"__labels__\"] = y_test\n",
    "wdt_train[\"__labels__\"] = y_train\n",
    "\n",
    "word_doc_count = wdf_train.sum(0)\n",
    "word_word_pr_distr = pd.DataFrame(data=0.0, columns=vocabulary, index=vocabulary)\n",
    "\n",
    "for word in tqdm(vocabulary):\n",
    "    pxy = wdf_train[wdf_train[word] > 0].sum(0) / word_doc_count[word]\n",
    "#     pxy = (wdf_train.T * wdf_train[word]).sum(1)/ word_doc_count[word]\n",
    "    word_word_pr_distr[word] = pxy * (word_doc_count[word] / word_doc_count)\n",
    "\n",
    "print(f\"word_word_pr_distr shape = {word_word_pr_distr.shape}\")"
   ]
  },
  {
   "cell_type": "code",
   "execution_count": 259,
   "metadata": {},
   "outputs": [
    {
     "data": {
      "text/html": [
       "<div>\n",
       "<style scoped>\n",
       "    .dataframe tbody tr th:only-of-type {\n",
       "        vertical-align: middle;\n",
       "    }\n",
       "\n",
       "    .dataframe tbody tr th {\n",
       "        vertical-align: top;\n",
       "    }\n",
       "\n",
       "    .dataframe thead th {\n",
       "        text-align: right;\n",
       "    }\n",
       "</style>\n",
       "<table border=\"1\" class=\"dataframe\">\n",
       "  <thead>\n",
       "    <tr style=\"text-align: right;\">\n",
       "      <th></th>\n",
       "      <th>000</th>\n",
       "      <th>031349</th>\n",
       "      <th>10</th>\n",
       "      <th>1000</th>\n",
       "      <th>11</th>\n",
       "      <th>14</th>\n",
       "      <th>16th</th>\n",
       "      <th>1900</th>\n",
       "      <th>1940</th>\n",
       "      <th>1982</th>\n",
       "      <th>...</th>\n",
       "      <th>yahud</th>\n",
       "      <th>yeah</th>\n",
       "      <th>year</th>\n",
       "      <th>yes</th>\n",
       "      <th>yo</th>\n",
       "      <th>yorker</th>\n",
       "      <th>you</th>\n",
       "      <th>your</th>\n",
       "      <th>yourself</th>\n",
       "      <th>zeuge</th>\n",
       "    </tr>\n",
       "  </thead>\n",
       "  <tbody>\n",
       "    <tr>\n",
       "      <th>000</th>\n",
       "      <td>1.0</td>\n",
       "      <td>0.0</td>\n",
       "      <td>0.5</td>\n",
       "      <td>0.0</td>\n",
       "      <td>0.0</td>\n",
       "      <td>0.0</td>\n",
       "      <td>0.0</td>\n",
       "      <td>0.0</td>\n",
       "      <td>0.0</td>\n",
       "      <td>0.0</td>\n",
       "      <td>...</td>\n",
       "      <td>0.0</td>\n",
       "      <td>0.0</td>\n",
       "      <td>0.0</td>\n",
       "      <td>0.0</td>\n",
       "      <td>0.0</td>\n",
       "      <td>0.0</td>\n",
       "      <td>0.5</td>\n",
       "      <td>0.5</td>\n",
       "      <td>0.0</td>\n",
       "      <td>0.0</td>\n",
       "    </tr>\n",
       "    <tr>\n",
       "      <th>031349</th>\n",
       "      <td>0.0</td>\n",
       "      <td>1.0</td>\n",
       "      <td>0.0</td>\n",
       "      <td>0.0</td>\n",
       "      <td>0.0</td>\n",
       "      <td>0.0</td>\n",
       "      <td>0.0</td>\n",
       "      <td>0.0</td>\n",
       "      <td>0.0</td>\n",
       "      <td>0.0</td>\n",
       "      <td>...</td>\n",
       "      <td>0.0</td>\n",
       "      <td>0.0</td>\n",
       "      <td>0.0</td>\n",
       "      <td>0.0</td>\n",
       "      <td>0.0</td>\n",
       "      <td>0.0</td>\n",
       "      <td>1.0</td>\n",
       "      <td>1.0</td>\n",
       "      <td>0.0</td>\n",
       "      <td>0.0</td>\n",
       "    </tr>\n",
       "    <tr>\n",
       "      <th>10</th>\n",
       "      <td>1.0</td>\n",
       "      <td>0.0</td>\n",
       "      <td>1.0</td>\n",
       "      <td>0.0</td>\n",
       "      <td>0.0</td>\n",
       "      <td>0.0</td>\n",
       "      <td>0.0</td>\n",
       "      <td>0.0</td>\n",
       "      <td>0.0</td>\n",
       "      <td>0.0</td>\n",
       "      <td>...</td>\n",
       "      <td>0.0</td>\n",
       "      <td>0.0</td>\n",
       "      <td>0.0</td>\n",
       "      <td>0.0</td>\n",
       "      <td>0.0</td>\n",
       "      <td>0.0</td>\n",
       "      <td>1.0</td>\n",
       "      <td>1.0</td>\n",
       "      <td>0.0</td>\n",
       "      <td>0.0</td>\n",
       "    </tr>\n",
       "    <tr>\n",
       "      <th>1000</th>\n",
       "      <td>0.0</td>\n",
       "      <td>0.0</td>\n",
       "      <td>0.0</td>\n",
       "      <td>1.0</td>\n",
       "      <td>0.0</td>\n",
       "      <td>0.0</td>\n",
       "      <td>0.0</td>\n",
       "      <td>0.0</td>\n",
       "      <td>0.0</td>\n",
       "      <td>0.0</td>\n",
       "      <td>...</td>\n",
       "      <td>0.0</td>\n",
       "      <td>0.0</td>\n",
       "      <td>1.0</td>\n",
       "      <td>1.0</td>\n",
       "      <td>0.0</td>\n",
       "      <td>0.0</td>\n",
       "      <td>1.0</td>\n",
       "      <td>0.0</td>\n",
       "      <td>0.0</td>\n",
       "      <td>0.0</td>\n",
       "    </tr>\n",
       "    <tr>\n",
       "      <th>11</th>\n",
       "      <td>0.0</td>\n",
       "      <td>0.0</td>\n",
       "      <td>0.0</td>\n",
       "      <td>0.0</td>\n",
       "      <td>1.0</td>\n",
       "      <td>0.0</td>\n",
       "      <td>0.0</td>\n",
       "      <td>0.0</td>\n",
       "      <td>0.0</td>\n",
       "      <td>0.0</td>\n",
       "      <td>...</td>\n",
       "      <td>0.0</td>\n",
       "      <td>0.0</td>\n",
       "      <td>0.0</td>\n",
       "      <td>0.0</td>\n",
       "      <td>0.0</td>\n",
       "      <td>0.0</td>\n",
       "      <td>0.0</td>\n",
       "      <td>0.0</td>\n",
       "      <td>0.0</td>\n",
       "      <td>0.0</td>\n",
       "    </tr>\n",
       "  </tbody>\n",
       "</table>\n",
       "<p>5 rows × 1467 columns</p>\n",
       "</div>"
      ],
      "text/plain": [
       "        000  031349   10  1000   11   14  16th  1900  1940  1982  ...  yahud  \\\n",
       "000     1.0     0.0  0.5   0.0  0.0  0.0   0.0   0.0   0.0   0.0  ...    0.0   \n",
       "031349  0.0     1.0  0.0   0.0  0.0  0.0   0.0   0.0   0.0   0.0  ...    0.0   \n",
       "10      1.0     0.0  1.0   0.0  0.0  0.0   0.0   0.0   0.0   0.0  ...    0.0   \n",
       "1000    0.0     0.0  0.0   1.0  0.0  0.0   0.0   0.0   0.0   0.0  ...    0.0   \n",
       "11      0.0     0.0  0.0   0.0  1.0  0.0   0.0   0.0   0.0   0.0  ...    0.0   \n",
       "\n",
       "        yeah  year  yes   yo  yorker  you  your  yourself  zeuge  \n",
       "000      0.0   0.0  0.0  0.0     0.0  0.5   0.5       0.0    0.0  \n",
       "031349   0.0   0.0  0.0  0.0     0.0  1.0   1.0       0.0    0.0  \n",
       "10       0.0   0.0  0.0  0.0     0.0  1.0   1.0       0.0    0.0  \n",
       "1000     0.0   1.0  1.0  0.0     0.0  1.0   0.0       0.0    0.0  \n",
       "11       0.0   0.0  0.0  0.0     0.0  0.0   0.0       0.0    0.0  \n",
       "\n",
       "[5 rows x 1467 columns]"
      ]
     },
     "execution_count": 259,
     "metadata": {},
     "output_type": "execute_result"
    }
   ],
   "source": [
    "word_word_pr_distr.head()"
   ]
  },
  {
   "cell_type": "code",
   "execution_count": 265,
   "metadata": {},
   "outputs": [
    {
     "data": {
      "text/plain": [
       "000       0.658496\n",
       "031349    0.762590\n",
       "10        0.773685\n",
       "1000      0.739970\n",
       "11        0.688549\n",
       "Name: 0, dtype: float64"
      ]
     },
     "execution_count": 265,
     "metadata": {},
     "output_type": "execute_result"
    }
   ],
   "source": [
    "entropy_values = calculate_entropy(word_word_pr_distr, axis=0) * calculate_entropy(word_word_pr_distr, axis=1)\n",
    "entropy_values_norm = (entropy_values.max() - entropy_values) / entropy_values.max()\n",
    "entropy_values_norm = pd.DataFrame(data=entropy_values_norm, index=word_word_pr_distr.columns)[0]\n",
    "entropy_values_norm.head()"
   ]
  },
  {
   "cell_type": "code",
   "execution_count": 266,
   "metadata": {},
   "outputs": [
    {
     "data": {
      "text/plain": [
       "array(['rec.autos', 'talk.politics.mideast', 'talk.politics.mideast',\n",
       "       'rec.autos', 'rec.autos', 'sci.space', 'alt.atheism', 'rec.autos',\n",
       "       'alt.atheism', 'sci.space'], dtype='<U21')"
      ]
     },
     "execution_count": 266,
     "metadata": {},
     "output_type": "execute_result"
    }
   ],
   "source": [
    "y_train[:10]"
   ]
  },
  {
   "cell_type": "code",
   "execution_count": 282,
   "metadata": {},
   "outputs": [
    {
     "name": "stdout",
     "output_type": "stream",
     "text": [
      "Topic: rec.autos\n",
      "==================================================\n",
      "not to mention my friend s 54 citroen traction avant with the light switch and dimmer integrate in a single stalk off the steer column those dumb french be apparently copying the japanese before the german\n",
      "\n",
      "Topic: rec.autos\n",
      "==================================================\n",
      "right in the thirty both buick and packard have two spare mount in well in the front fender of course that be back when the front fender be long enough to provide room there be a couple of other marque that do this a well but memory fade\n",
      "\n",
      "Topic: talk.politics.mideast\n",
      "==================================================\n",
      "to my fellow columbian i must ask why do you say that i engage in fantasy arafat be a terrorist who happens to have a lot of pull among palestinian can we ignore the two fact i doubt it\n",
      "\n",
      "Topic: talk.politics.mideast\n",
      "==================================================\n",
      "i have read that there will be some concrete proposal concern creation of a palestinian police force during the talk s next stage do anyone know of the detail of this idea how do it fit with the differ conception list above\n",
      "\n",
      "Topic: sci.space\n",
      "==================================================\n",
      "actually the ether stuff sound a fair bit like a bizzare qualitative corruption of general relativity nothing to do with the old fashion ether though maybe somebody could loan him a gr text at a low level didn t get much further than that tho whew\n",
      "\n",
      "Topic: sci.space\n",
      "==================================================\n",
      "glad to see griffin be spending his time on engineering rather than on ritual purification of the language pity he get stuck with the turkey rather than one of the sensible option\n",
      "\n",
      "Topic: alt.atheism\n",
      "==================================================\n",
      "or with no dictionary available they could gain first hand knowledge by suffer through one of your post bob beauchaine bobbe vice ico tek com they say that queen could stay they blew the bronx away and sank manhattan out at sea\n",
      "\n",
      "Topic: alt.atheism\n",
      "==================================================\n",
      "hehehe so you say but this objective morality somehere tell you that this be not the case and you don t know all the rule of such transcendental game system cheer kent\n",
      "\n"
     ]
    }
   ],
   "source": [
    "doc_indices = [0, 3, 1, 2, 5, 9, 6, 8]\n",
    "\n",
    "for doc_index in doc_indices:\n",
    "    print(f\"Topic: {y_train[doc_index]}\\n{'='*50}\\n{x_train[doc_index][:512]}\")\n",
    "    print()"
   ]
  },
  {
   "cell_type": "code",
   "execution_count": 283,
   "metadata": {
    "scrolled": false
   },
   "outputs": [
    {
     "name": "stdout",
     "output_type": "stream",
     "text": [
      "['54', 'and', 'apparently', 'avant', 'be', 'before', 'citroen', 'column', 'copying', 'dimmer', 'dumb', 'french', 'friend', 'german', 'in', 'integrate', 'japanese', 'light', 'mention', 'my', 'not', 'off', 'single', 'stalk', 'steer', 'switch', 'the', 'those', 'to', 'traction', 'with']\n",
      "['among', 'arafat', 'ask', 'be', 'can', 'columbian', 'do', 'doubt', 'engage', 'fact', 'fantasy', 'fellow', 'happens', 'have', 'ignore', 'in', 'it', 'lot', 'must', 'my', 'of', 'palestinian', 'pull', 'say', 'terrorist', 'that', 'the', 'to', 'two', 'we', 'who', 'why', 'you']\n",
      "['above', 'anyone', 'be', 'conception', 'concern', 'concrete', 'creation', 'detail', 'differ', 'do', 'during', 'fit', 'force', 'have', 'how', 'idea', 'it', 'know', 'list', 'next', 'of', 'palestinian', 'police', 'proposal', 'read', 'some', 'stage', 'talk', 'that', 'the', 'there', 'this', 'will', 'with']\n",
      "['and', 'back', 'be', 'both', 'buick', 'but', 'couple', 'course', 'do', 'enough', 'fade', 'fender', 'front', 'have', 'in', 'long', 'marque', 'memory', 'mount', 'of', 'other', 'packard', 'provide', 'right', 'room', 'spare', 'that', 'the', 'there', 'thirty', 'this', 'to', 'two', 'well', 'when']\n",
      "['actually', 'at', 'bit', 'bizzare', 'corruption', 'could', 'didn', 'do', 'ether', 'fair', 'fashion', 'further', 'general', 'get', 'gr', 'him', 'level', 'like', 'loan', 'low', 'maybe', 'much', 'nothing', 'of', 'old', 'qualitative', 'relativity', 'somebody', 'sound', 'stuff', 'text', 'than', 'that', 'the', 'tho', 'though', 'to', 'whew', 'with']\n",
      "['and', 'at', 'available', 'away', 'beauchaine', 'blew', 'bob', 'bobbe', 'bronx', 'by', 'com', 'could', 'dictionary', 'first', 'gain', 'hand', 'ico', 'knowledge', 'manhattan', 'no', 'of', 'one', 'or', 'out', 'post', 'queen', 'sank', 'say', 'sea', 'stay', 'suffer', 'tek', 'that', 'the', 'they', 'through', 'vice', 'with', 'your']\n",
      "['all', 'and', 'be', 'but', 'case', 'cheer', 'don', 'game', 'hehehe', 'kent', 'know', 'morality', 'not', 'objective', 'of', 'rule', 'say', 'so', 'somehere', 'such', 'system', 'tell', 'that', 'the', 'this', 'transcendental', 'you']\n",
      "['be', 'engineering', 'get', 'glad', 'griffin', 'he', 'his', 'language', 'of', 'on', 'one', 'option', 'pity', 'purification', 'rather', 'ritual', 'see', 'sensible', 'spending', 'stuck', 'than', 'the', 'time', 'to', 'turkey', 'with']\n"
     ]
    }
   ],
   "source": [
    "doc_words_li = []\n",
    "\n",
    "for doc_index in range(len(y_train)):\n",
    "    doc_words_li.append(wdf_train.iloc[doc_index][wdf_train.iloc[doc_index] > 0].index.tolist())\n",
    "    \n",
    "    if doc_index in doc_indices:\n",
    "        print(doc_words_li[-1])"
   ]
  },
  {
   "cell_type": "code",
   "execution_count": 286,
   "metadata": {},
   "outputs": [
    {
     "data": {
      "application/vnd.jupyter.widget-view+json": {
       "model_id": "64f4510be16647c0b73178dc379a2147",
       "version_major": 2,
       "version_minor": 0
      },
      "text/plain": [
       "HBox(children=(FloatProgress(value=0.0, max=112.0), HTML(value='')))"
      ]
     },
     "metadata": {},
     "output_type": "display_data"
    },
    {
     "name": "stdout",
     "output_type": "stream",
     "text": [
      "\n"
     ]
    },
    {
     "data": {
      "text/html": [
       "<div>\n",
       "<style scoped>\n",
       "    .dataframe tbody tr th:only-of-type {\n",
       "        vertical-align: middle;\n",
       "    }\n",
       "\n",
       "    .dataframe tbody tr th {\n",
       "        vertical-align: top;\n",
       "    }\n",
       "\n",
       "    .dataframe thead th {\n",
       "        text-align: right;\n",
       "    }\n",
       "</style>\n",
       "<table border=\"1\" class=\"dataframe\">\n",
       "  <thead>\n",
       "    <tr style=\"text-align: right;\">\n",
       "      <th></th>\n",
       "      <th>and</th>\n",
       "      <th>bastard</th>\n",
       "      <th>be</th>\n",
       "      <th>definitely</th>\n",
       "      <th>for</th>\n",
       "      <th>ghod</th>\n",
       "      <th>have</th>\n",
       "      <th>just</th>\n",
       "      <th>nls</th>\n",
       "      <th>of</th>\n",
       "      <th>...</th>\n",
       "      <th>sub</th>\n",
       "      <th>suitable</th>\n",
       "      <th>thank</th>\n",
       "      <th>that</th>\n",
       "      <th>the</th>\n",
       "      <th>thought</th>\n",
       "      <th>use</th>\n",
       "      <th>version</th>\n",
       "      <th>will</th>\n",
       "      <th>would</th>\n",
       "    </tr>\n",
       "  </thead>\n",
       "  <tbody>\n",
       "    <tr>\n",
       "      <th>be</th>\n",
       "      <td>0.003223</td>\n",
       "      <td>0.004244</td>\n",
       "      <td>0.004244</td>\n",
       "      <td>0.004244</td>\n",
       "      <td>0.003559</td>\n",
       "      <td>0.004244</td>\n",
       "      <td>0.003334</td>\n",
       "      <td>0.003591</td>\n",
       "      <td>0.004244</td>\n",
       "      <td>0.003506</td>\n",
       "      <td>...</td>\n",
       "      <td>0.004244</td>\n",
       "      <td>0.004244</td>\n",
       "      <td>0.004244</td>\n",
       "      <td>0.003380</td>\n",
       "      <td>0.0</td>\n",
       "      <td>0.004244</td>\n",
       "      <td>0.004244</td>\n",
       "      <td>0.004244</td>\n",
       "      <td>0.003994</td>\n",
       "      <td>0.003970</td>\n",
       "    </tr>\n",
       "    <tr>\n",
       "      <th>engineering</th>\n",
       "      <td>0.000000</td>\n",
       "      <td>0.000000</td>\n",
       "      <td>0.004244</td>\n",
       "      <td>0.000000</td>\n",
       "      <td>0.000000</td>\n",
       "      <td>0.000000</td>\n",
       "      <td>0.000000</td>\n",
       "      <td>0.000000</td>\n",
       "      <td>0.000000</td>\n",
       "      <td>0.015090</td>\n",
       "      <td>...</td>\n",
       "      <td>0.000000</td>\n",
       "      <td>0.000000</td>\n",
       "      <td>0.000000</td>\n",
       "      <td>0.000000</td>\n",
       "      <td>0.0</td>\n",
       "      <td>0.000000</td>\n",
       "      <td>0.000000</td>\n",
       "      <td>0.000000</td>\n",
       "      <td>0.000000</td>\n",
       "      <td>0.022392</td>\n",
       "    </tr>\n",
       "    <tr>\n",
       "      <th>get</th>\n",
       "      <td>0.028831</td>\n",
       "      <td>0.000000</td>\n",
       "      <td>0.003448</td>\n",
       "      <td>0.000000</td>\n",
       "      <td>0.073965</td>\n",
       "      <td>0.000000</td>\n",
       "      <td>0.014016</td>\n",
       "      <td>0.043440</td>\n",
       "      <td>0.000000</td>\n",
       "      <td>0.027704</td>\n",
       "      <td>...</td>\n",
       "      <td>0.000000</td>\n",
       "      <td>0.000000</td>\n",
       "      <td>0.000000</td>\n",
       "      <td>0.054875</td>\n",
       "      <td>0.0</td>\n",
       "      <td>0.000000</td>\n",
       "      <td>0.053689</td>\n",
       "      <td>0.000000</td>\n",
       "      <td>0.069254</td>\n",
       "      <td>0.028483</td>\n",
       "    </tr>\n",
       "    <tr>\n",
       "      <th>glad</th>\n",
       "      <td>0.000000</td>\n",
       "      <td>0.000000</td>\n",
       "      <td>0.004244</td>\n",
       "      <td>0.000000</td>\n",
       "      <td>0.000000</td>\n",
       "      <td>0.000000</td>\n",
       "      <td>0.000000</td>\n",
       "      <td>0.000000</td>\n",
       "      <td>0.000000</td>\n",
       "      <td>0.017344</td>\n",
       "      <td>...</td>\n",
       "      <td>0.000000</td>\n",
       "      <td>0.000000</td>\n",
       "      <td>0.000000</td>\n",
       "      <td>0.000000</td>\n",
       "      <td>0.0</td>\n",
       "      <td>0.000000</td>\n",
       "      <td>0.000000</td>\n",
       "      <td>0.000000</td>\n",
       "      <td>0.000000</td>\n",
       "      <td>0.000000</td>\n",
       "    </tr>\n",
       "    <tr>\n",
       "      <th>griffin</th>\n",
       "      <td>0.000000</td>\n",
       "      <td>0.000000</td>\n",
       "      <td>0.004244</td>\n",
       "      <td>0.000000</td>\n",
       "      <td>0.000000</td>\n",
       "      <td>0.000000</td>\n",
       "      <td>0.000000</td>\n",
       "      <td>0.000000</td>\n",
       "      <td>0.000000</td>\n",
       "      <td>0.017344</td>\n",
       "      <td>...</td>\n",
       "      <td>0.000000</td>\n",
       "      <td>0.000000</td>\n",
       "      <td>0.000000</td>\n",
       "      <td>0.000000</td>\n",
       "      <td>0.0</td>\n",
       "      <td>0.000000</td>\n",
       "      <td>0.000000</td>\n",
       "      <td>0.000000</td>\n",
       "      <td>0.000000</td>\n",
       "      <td>0.000000</td>\n",
       "    </tr>\n",
       "  </tbody>\n",
       "</table>\n",
       "<p>5 rows × 28 columns</p>\n",
       "</div>"
      ],
      "text/plain": [
       "                  and   bastard        be  definitely       for      ghod  \\\n",
       "be           0.003223  0.004244  0.004244    0.004244  0.003559  0.004244   \n",
       "engineering  0.000000  0.000000  0.004244    0.000000  0.000000  0.000000   \n",
       "get          0.028831  0.000000  0.003448    0.000000  0.073965  0.000000   \n",
       "glad         0.000000  0.000000  0.004244    0.000000  0.000000  0.000000   \n",
       "griffin      0.000000  0.000000  0.004244    0.000000  0.000000  0.000000   \n",
       "\n",
       "                 have      just       nls        of  ...       sub  suitable  \\\n",
       "be           0.003334  0.003591  0.004244  0.003506  ...  0.004244  0.004244   \n",
       "engineering  0.000000  0.000000  0.000000  0.015090  ...  0.000000  0.000000   \n",
       "get          0.014016  0.043440  0.000000  0.027704  ...  0.000000  0.000000   \n",
       "glad         0.000000  0.000000  0.000000  0.017344  ...  0.000000  0.000000   \n",
       "griffin      0.000000  0.000000  0.000000  0.017344  ...  0.000000  0.000000   \n",
       "\n",
       "                thank      that  the   thought       use   version      will  \\\n",
       "be           0.004244  0.003380  0.0  0.004244  0.004244  0.004244  0.003994   \n",
       "engineering  0.000000  0.000000  0.0  0.000000  0.000000  0.000000  0.000000   \n",
       "get          0.000000  0.054875  0.0  0.000000  0.053689  0.000000  0.069254   \n",
       "glad         0.000000  0.000000  0.0  0.000000  0.000000  0.000000  0.000000   \n",
       "griffin      0.000000  0.000000  0.0  0.000000  0.000000  0.000000  0.000000   \n",
       "\n",
       "                would  \n",
       "be           0.003970  \n",
       "engineering  0.022392  \n",
       "get          0.028483  \n",
       "glad         0.000000  \n",
       "griffin      0.000000  \n",
       "\n",
       "[5 rows x 28 columns]"
      ]
     },
     "execution_count": 286,
     "metadata": {},
     "output_type": "execute_result"
    }
   ],
   "source": [
    "dfx_li = []\n",
    "\n",
    "for doc_index1 in tqdm(range(len(y_train))):\n",
    "    dfx_li.append([])\n",
    "    \n",
    "    if doc_index1 not in doc_indices:\n",
    "        continue\n",
    "        \n",
    "    for doc_index2 in range(len(y_train)):\n",
    "        dfx = pd.DataFrame(data=0.0, index=doc_words_li[doc_index1], columns=doc_words_li[doc_index2])\n",
    "\n",
    "        for word in doc_words_li[doc_index1]:\n",
    "            for other_word in doc_words_li[doc_index2]:\n",
    "                v1 = word_word_pr_distr[word][other_word] * entropy_values_norm[word]\n",
    "                v2 = word_word_pr_distr[other_word][word] * entropy_values_norm[other_word]\n",
    "                \n",
    "                dfx[other_word][word] = min(v1, v2)\n",
    "#                 dfx[other_word][word] =  v1 * v2\n",
    "        \n",
    "        dfx_li[-1].append(dfx)\n",
    "dfx.head()"
   ]
  },
  {
   "cell_type": "code",
   "execution_count": 287,
   "metadata": {},
   "outputs": [
    {
     "data": {
      "text/plain": [
       "array(['rec.autos', 'rec.autos', 'talk.politics.mideast',\n",
       "       'talk.politics.mideast', 'sci.space', 'sci.space', 'alt.atheism',\n",
       "       'alt.atheism'], dtype='<U21')"
      ]
     },
     "execution_count": 287,
     "metadata": {},
     "output_type": "execute_result"
    }
   ],
   "source": [
    "y_train[doc_indices]"
   ]
  },
  {
   "cell_type": "code",
   "execution_count": 288,
   "metadata": {
    "scrolled": true
   },
   "outputs": [
    {
     "data": {
      "text/html": [
       "<div>\n",
       "<style scoped>\n",
       "    .dataframe tbody tr th:only-of-type {\n",
       "        vertical-align: middle;\n",
       "    }\n",
       "\n",
       "    .dataframe tbody tr th {\n",
       "        vertical-align: top;\n",
       "    }\n",
       "\n",
       "    .dataframe thead th {\n",
       "        text-align: right;\n",
       "    }\n",
       "</style>\n",
       "<table border=\"1\" class=\"dataframe\">\n",
       "  <thead>\n",
       "    <tr style=\"text-align: right;\">\n",
       "      <th></th>\n",
       "      <th>54</th>\n",
       "      <th>and</th>\n",
       "      <th>apparently</th>\n",
       "      <th>avant</th>\n",
       "      <th>be</th>\n",
       "      <th>before</th>\n",
       "      <th>citroen</th>\n",
       "      <th>column</th>\n",
       "      <th>copying</th>\n",
       "      <th>dimmer</th>\n",
       "      <th>...</th>\n",
       "      <th>off</th>\n",
       "      <th>single</th>\n",
       "      <th>stalk</th>\n",
       "      <th>steer</th>\n",
       "      <th>switch</th>\n",
       "      <th>the</th>\n",
       "      <th>those</th>\n",
       "      <th>to</th>\n",
       "      <th>traction</th>\n",
       "      <th>with</th>\n",
       "    </tr>\n",
       "  </thead>\n",
       "  <tbody>\n",
       "    <tr>\n",
       "      <th>54</th>\n",
       "      <td>0.760858</td>\n",
       "      <td>0.009631</td>\n",
       "      <td>0.380429</td>\n",
       "      <td>0.760858</td>\n",
       "      <td>0.004113</td>\n",
       "      <td>0.380429</td>\n",
       "      <td>0.760858</td>\n",
       "      <td>0.760858</td>\n",
       "      <td>0.760858</td>\n",
       "      <td>0.760858</td>\n",
       "      <td>...</td>\n",
       "      <td>0.152172</td>\n",
       "      <td>0.380429</td>\n",
       "      <td>0.760858</td>\n",
       "      <td>0.190214</td>\n",
       "      <td>0.760858</td>\n",
       "      <td>0.0</td>\n",
       "      <td>0.253619</td>\n",
       "      <td>0.008270</td>\n",
       "      <td>0.760858</td>\n",
       "      <td>0.030434</td>\n",
       "    </tr>\n",
       "    <tr>\n",
       "      <th>and</th>\n",
       "      <td>0.009631</td>\n",
       "      <td>0.076883</td>\n",
       "      <td>0.008460</td>\n",
       "      <td>0.009631</td>\n",
       "      <td>0.003223</td>\n",
       "      <td>0.024921</td>\n",
       "      <td>0.009631</td>\n",
       "      <td>0.009631</td>\n",
       "      <td>0.009631</td>\n",
       "      <td>0.009631</td>\n",
       "      <td>...</td>\n",
       "      <td>0.013076</td>\n",
       "      <td>0.016616</td>\n",
       "      <td>0.009631</td>\n",
       "      <td>0.014305</td>\n",
       "      <td>0.009631</td>\n",
       "      <td>0.0</td>\n",
       "      <td>0.015848</td>\n",
       "      <td>0.031780</td>\n",
       "      <td>0.009631</td>\n",
       "      <td>0.036904</td>\n",
       "    </tr>\n",
       "    <tr>\n",
       "      <th>apparently</th>\n",
       "      <td>0.380429</td>\n",
       "      <td>0.008460</td>\n",
       "      <td>0.668354</td>\n",
       "      <td>0.380429</td>\n",
       "      <td>0.002122</td>\n",
       "      <td>0.328131</td>\n",
       "      <td>0.380429</td>\n",
       "      <td>0.380429</td>\n",
       "      <td>0.380429</td>\n",
       "      <td>0.380429</td>\n",
       "      <td>...</td>\n",
       "      <td>0.133671</td>\n",
       "      <td>0.328166</td>\n",
       "      <td>0.380429</td>\n",
       "      <td>0.167089</td>\n",
       "      <td>0.380429</td>\n",
       "      <td>0.0</td>\n",
       "      <td>0.222785</td>\n",
       "      <td>0.021794</td>\n",
       "      <td>0.380429</td>\n",
       "      <td>0.026734</td>\n",
       "    </tr>\n",
       "    <tr>\n",
       "      <th>avant</th>\n",
       "      <td>0.760858</td>\n",
       "      <td>0.009631</td>\n",
       "      <td>0.380429</td>\n",
       "      <td>0.760858</td>\n",
       "      <td>0.004113</td>\n",
       "      <td>0.380429</td>\n",
       "      <td>0.760858</td>\n",
       "      <td>0.760858</td>\n",
       "      <td>0.760858</td>\n",
       "      <td>0.760858</td>\n",
       "      <td>...</td>\n",
       "      <td>0.152172</td>\n",
       "      <td>0.380429</td>\n",
       "      <td>0.760858</td>\n",
       "      <td>0.190214</td>\n",
       "      <td>0.760858</td>\n",
       "      <td>0.0</td>\n",
       "      <td>0.253619</td>\n",
       "      <td>0.008270</td>\n",
       "      <td>0.760858</td>\n",
       "      <td>0.030434</td>\n",
       "    </tr>\n",
       "    <tr>\n",
       "      <th>be</th>\n",
       "      <td>0.004113</td>\n",
       "      <td>0.003223</td>\n",
       "      <td>0.002122</td>\n",
       "      <td>0.004113</td>\n",
       "      <td>0.004244</td>\n",
       "      <td>0.004244</td>\n",
       "      <td>0.004113</td>\n",
       "      <td>0.004113</td>\n",
       "      <td>0.004113</td>\n",
       "      <td>0.004113</td>\n",
       "      <td>...</td>\n",
       "      <td>0.004244</td>\n",
       "      <td>0.004244</td>\n",
       "      <td>0.004113</td>\n",
       "      <td>0.004244</td>\n",
       "      <td>0.004113</td>\n",
       "      <td>0.0</td>\n",
       "      <td>0.004244</td>\n",
       "      <td>0.003552</td>\n",
       "      <td>0.004113</td>\n",
       "      <td>0.003225</td>\n",
       "    </tr>\n",
       "  </tbody>\n",
       "</table>\n",
       "<p>5 rows × 31 columns</p>\n",
       "</div>"
      ],
      "text/plain": [
       "                  54       and  apparently     avant        be    before  \\\n",
       "54          0.760858  0.009631    0.380429  0.760858  0.004113  0.380429   \n",
       "and         0.009631  0.076883    0.008460  0.009631  0.003223  0.024921   \n",
       "apparently  0.380429  0.008460    0.668354  0.380429  0.002122  0.328131   \n",
       "avant       0.760858  0.009631    0.380429  0.760858  0.004113  0.380429   \n",
       "be          0.004113  0.003223    0.002122  0.004113  0.004244  0.004244   \n",
       "\n",
       "             citroen    column   copying    dimmer  ...       off    single  \\\n",
       "54          0.760858  0.760858  0.760858  0.760858  ...  0.152172  0.380429   \n",
       "and         0.009631  0.009631  0.009631  0.009631  ...  0.013076  0.016616   \n",
       "apparently  0.380429  0.380429  0.380429  0.380429  ...  0.133671  0.328166   \n",
       "avant       0.760858  0.760858  0.760858  0.760858  ...  0.152172  0.380429   \n",
       "be          0.004113  0.004113  0.004113  0.004113  ...  0.004244  0.004244   \n",
       "\n",
       "               stalk     steer    switch  the     those        to  traction  \\\n",
       "54          0.760858  0.190214  0.760858  0.0  0.253619  0.008270  0.760858   \n",
       "and         0.009631  0.014305  0.009631  0.0  0.015848  0.031780  0.009631   \n",
       "apparently  0.380429  0.167089  0.380429  0.0  0.222785  0.021794  0.380429   \n",
       "avant       0.760858  0.190214  0.760858  0.0  0.253619  0.008270  0.760858   \n",
       "be          0.004113  0.004244  0.004113  0.0  0.004244  0.003552  0.004113   \n",
       "\n",
       "                with  \n",
       "54          0.030434  \n",
       "and         0.036904  \n",
       "apparently  0.026734  \n",
       "avant       0.030434  \n",
       "be          0.003225  \n",
       "\n",
       "[5 rows x 31 columns]"
      ]
     },
     "execution_count": 288,
     "metadata": {},
     "output_type": "execute_result"
    }
   ],
   "source": [
    "dfx_li[0][0].head()"
   ]
  },
  {
   "cell_type": "code",
   "execution_count": 295,
   "metadata": {},
   "outputs": [
    {
     "name": "stdout",
     "output_type": "stream",
     "text": [
      "rec.autos\n",
      "                    topic        v1        v2        vx\n",
      "0               rec.autos  0.561979  0.561979  0.561979\n",
      "94              rec.autos  0.267870  0.290988  0.279429\n",
      "29              sci.space  0.247602  0.276597  0.262100\n",
      "27              rec.autos  0.225102  0.296645  0.260874\n",
      "65            alt.atheism  0.193846  0.279924  0.236885\n",
      "98            alt.atheism  0.191573  0.281307  0.236440\n",
      "44  talk.politics.mideast  0.193085  0.279272  0.236179\n",
      "35              rec.autos  0.196764  0.207807  0.202285\n",
      "52  talk.politics.mideast  0.184085  0.200403  0.192244\n",
      "22              rec.autos  0.167751  0.172182  0.169967\n",
      "\n",
      "talk.politics.mideast\n",
      "                     topic        v1        v2        vx\n",
      "1    talk.politics.mideast  0.453370  0.453370  0.453370\n",
      "106  talk.politics.mideast  0.241387  0.243954  0.242670\n",
      "102  talk.politics.mideast  0.227004  0.234519  0.230762\n",
      "105            alt.atheism  0.230515  0.224591  0.227553\n",
      "11               rec.autos  0.223538  0.221662  0.222600\n",
      "2    talk.politics.mideast  0.225705  0.217298  0.221502\n",
      "70               rec.autos  0.198139  0.209325  0.203732\n",
      "61             alt.atheism  0.192621  0.182287  0.187454\n",
      "53             alt.atheism  0.190812  0.172582  0.181697\n",
      "17   talk.politics.mideast  0.192502  0.169858  0.181180\n",
      "\n",
      "talk.politics.mideast\n",
      "                     topic        v1        v2        vx\n",
      "2    talk.politics.mideast  0.483562  0.483562  0.483562\n",
      "41               rec.autos  0.244973  0.231273  0.238123\n",
      "29               sci.space  0.246342  0.212388  0.229365\n",
      "1    talk.politics.mideast  0.217298  0.225705  0.221502\n",
      "58               sci.space  0.202890  0.189671  0.196280\n",
      "103              sci.space  0.182327  0.177947  0.180137\n",
      "91             alt.atheism  0.191079  0.161440  0.176259\n",
      "60               sci.space  0.176934  0.171287  0.174111\n",
      "68   talk.politics.mideast  0.170322  0.175592  0.172957\n",
      "110  talk.politics.mideast  0.161792  0.170125  0.165959\n",
      "\n",
      "rec.autos\n",
      "                     topic        v1        v2        vx\n",
      "3                rec.autos  0.450650  0.450650  0.450650\n",
      "99               rec.autos  0.326292  0.196372  0.261332\n",
      "42   talk.politics.mideast  0.194227  0.228246  0.211236\n",
      "70               rec.autos  0.210865  0.199182  0.205023\n",
      "46               rec.autos  0.179805  0.165677  0.172741\n",
      "1    talk.politics.mideast  0.177709  0.163938  0.170823\n",
      "100  talk.politics.mideast  0.177788  0.148070  0.162929\n",
      "18               sci.space  0.176472  0.147381  0.161927\n",
      "86   talk.politics.mideast  0.164005  0.153550  0.158778\n",
      "44   talk.politics.mideast  0.163580  0.152175  0.157878\n",
      "\n",
      "sci.space\n",
      "                     topic        v1        v2        vx\n",
      "5                sci.space  0.532020  0.532020  0.532020\n",
      "32               sci.space  0.273388  0.255763  0.264575\n",
      "58               sci.space  0.246285  0.252393  0.249339\n",
      "4                rec.autos  0.259331  0.239262  0.249296\n",
      "17   talk.politics.mideast  0.247361  0.246145  0.246753\n",
      "41               rec.autos  0.238988  0.251463  0.245225\n",
      "48               sci.space  0.243912  0.242219  0.243066\n",
      "28               sci.space  0.232667  0.252848  0.242757\n",
      "60               sci.space  0.224856  0.239976  0.232416\n",
      "110  talk.politics.mideast  0.205636  0.251393  0.228515\n",
      "\n",
      "alt.atheism\n",
      "                    topic        v1        v2        vx\n",
      "6             alt.atheism  0.501180  0.501180  0.501180\n",
      "76            alt.atheism  0.390245  0.394111  0.392178\n",
      "33              rec.autos  0.243476  0.221257  0.232367\n",
      "86  talk.politics.mideast  0.230643  0.227044  0.228844\n",
      "66              sci.space  0.182068  0.256399  0.219234\n",
      "43              sci.space  0.184299  0.252585  0.218442\n",
      "15              rec.autos  0.196041  0.182183  0.189112\n",
      "79              rec.autos  0.143301  0.155888  0.149594\n",
      "73              rec.autos  0.150155  0.144141  0.147148\n",
      "45            alt.atheism  0.112384  0.162734  0.137559\n",
      "\n",
      "alt.atheism\n",
      "                     topic        v1        v2        vx\n",
      "8              alt.atheism  0.447554  0.447554  0.447554\n",
      "101              rec.autos  0.271173  0.218792  0.244982\n",
      "32               sci.space  0.278907  0.205950  0.242428\n",
      "16             alt.atheism  0.258055  0.219308  0.238682\n",
      "44   talk.politics.mideast  0.174212  0.168360  0.171286\n",
      "95               rec.autos  0.162928  0.171212  0.167070\n",
      "53             alt.atheism  0.182619  0.108633  0.145626\n",
      "89   talk.politics.mideast  0.138247  0.126770  0.132509\n",
      "60               sci.space  0.133004  0.131904  0.132454\n",
      "86   talk.politics.mideast  0.155434  0.108901  0.132167\n",
      "\n",
      "sci.space\n",
      "                     topic        v1        v2        vx\n",
      "9                sci.space  0.508373  0.508373  0.508373\n",
      "88               sci.space  0.292348  0.267036  0.279692\n",
      "77   talk.politics.mideast  0.236553  0.259302  0.247928\n",
      "106  talk.politics.mideast  0.144346  0.208904  0.176625\n",
      "73               rec.autos  0.212545  0.138950  0.175747\n",
      "69               sci.space  0.133826  0.206458  0.170142\n",
      "70               rec.autos  0.123324  0.196782  0.160053\n",
      "79               rec.autos  0.140933  0.115195  0.128064\n",
      "101              rec.autos  0.126387  0.124561  0.125474\n",
      "27               rec.autos  0.099087  0.138409  0.118748\n",
      "\n"
     ]
    }
   ],
   "source": [
    "for doc_index1 in range(len(y_train)):\n",
    "    if doc_index1 not in doc_indices:\n",
    "        continue\n",
    "        \n",
    "    print(y_train[doc_index1])\n",
    "    \n",
    "    values = []\n",
    "    for doc_index2 in range(len(y_train)):\n",
    "        v1 = dfx_li[doc_index1][doc_index2].max(0).mean()\n",
    "        v2 = dfx_li[doc_index1][doc_index2].max(1).mean()\n",
    "        vx = (v1+v2)/2\n",
    "        \n",
    "#         print(f\" {y_train[doc_index2][:15]:16s} {v1:.4f} {v2:.4f} : {vx:.4f}\")\n",
    "        values.append([y_train[doc_index2], v1, v2, vx])\n",
    "    print(pd.DataFrame(values, columns=[\"topic\", \"v1\", \"v2\", \"vx\"]).sort_values(ascending=False, by=\"vx\").head(10))\n",
    "    print()"
   ]
  },
  {
   "cell_type": "code",
   "execution_count": 249,
   "metadata": {
    "scrolled": true
   },
   "outputs": [
    {
     "data": {
      "text/html": [
       "<div>\n",
       "<style scoped>\n",
       "    .dataframe tbody tr th:only-of-type {\n",
       "        vertical-align: middle;\n",
       "    }\n",
       "\n",
       "    .dataframe tbody tr th {\n",
       "        vertical-align: top;\n",
       "    }\n",
       "\n",
       "    .dataframe thead th {\n",
       "        text-align: right;\n",
       "    }\n",
       "</style>\n",
       "<table border=\"1\" class=\"dataframe\">\n",
       "  <thead>\n",
       "    <tr style=\"text-align: right;\">\n",
       "      <th></th>\n",
       "      <th>0</th>\n",
       "    </tr>\n",
       "  </thead>\n",
       "  <tbody>\n",
       "    <tr>\n",
       "      <th>000</th>\n",
       "      <td>0.658496</td>\n",
       "    </tr>\n",
       "    <tr>\n",
       "      <th>031349</th>\n",
       "      <td>0.762590</td>\n",
       "    </tr>\n",
       "    <tr>\n",
       "      <th>10</th>\n",
       "      <td>0.773685</td>\n",
       "    </tr>\n",
       "    <tr>\n",
       "      <th>1000</th>\n",
       "      <td>0.739970</td>\n",
       "    </tr>\n",
       "    <tr>\n",
       "      <th>11</th>\n",
       "      <td>0.688549</td>\n",
       "    </tr>\n",
       "  </tbody>\n",
       "</table>\n",
       "</div>"
      ],
      "text/plain": [
       "               0\n",
       "000     0.658496\n",
       "031349  0.762590\n",
       "10      0.773685\n",
       "1000    0.739970\n",
       "11      0.688549"
      ]
     },
     "execution_count": 249,
     "metadata": {},
     "output_type": "execute_result"
    }
   ],
   "source": []
  },
  {
   "cell_type": "code",
   "execution_count": 253,
   "metadata": {
    "scrolled": false
   },
   "outputs": [
    {
     "data": {
      "text/plain": [
       "0    0.004244\n",
       "Name: be, dtype: float64"
      ]
     },
     "execution_count": 253,
     "metadata": {},
     "output_type": "execute_result"
    }
   ],
   "source": [
    "entropy_values_norm.loc[\"be\"]"
   ]
  },
  {
   "cell_type": "code",
   "execution_count": 243,
   "metadata": {},
   "outputs": [
    {
     "data": {
      "text/plain": [
       "0.0"
      ]
     },
     "execution_count": 243,
     "metadata": {},
     "output_type": "execute_result"
    }
   ],
   "source": [
    "(dfx_li[0][1].max(1) * entropy_values_norm).min()#.sort_values(ascending=False)"
   ]
  },
  {
   "cell_type": "code",
   "execution_count": 210,
   "metadata": {
    "scrolled": true
   },
   "outputs": [
    {
     "data": {
      "text/plain": [
       "000         0\n",
       "pity        0\n",
       "pimentel    0\n",
       "pilot       0\n",
       "piece       0\n",
       "           ..\n",
       "to          2\n",
       "fuel        2\n",
       "how         2\n",
       "the         2\n",
       "be          3\n",
       "Name: 7, Length: 1467, dtype: int64"
      ]
     },
     "execution_count": 210,
     "metadata": {},
     "output_type": "execute_result"
    }
   ],
   "source": [
    "wdf_train.iloc[idx2].sort_values(ascending=True)"
   ]
  },
  {
   "cell_type": "code",
   "execution_count": 186,
   "metadata": {
    "scrolled": true
   },
   "outputs": [
    {
     "data": {
      "text/plain": [
       "memory     0.050847\n",
       "thirty     0.050847\n",
       "buick      0.050847\n",
       "room       0.050847\n",
       "packard    0.050847\n",
       "fade       0.050847\n",
       "fender     0.050847\n",
       "marque     0.050847\n",
       "spare      0.067797\n",
       "course     0.067797\n",
       "mount      0.067797\n",
       "front      0.067797\n",
       "two        0.080000\n",
       "both       0.107317\n",
       "when       0.120000\n",
       "dtype: float64"
      ]
     },
     "execution_count": 186,
     "metadata": {},
     "output_type": "execute_result"
    }
   ],
   "source": [
    "dfx.max(0).sort_values(ascending=True).head(15)"
   ]
  },
  {
   "cell_type": "code",
   "execution_count": 183,
   "metadata": {},
   "outputs": [
    {
     "data": {
      "text/plain": [
       "the       4.303757\n",
       "be        3.994595\n",
       "to        3.977974\n",
       "and       3.803540\n",
       "in        3.734835\n",
       "of        3.445151\n",
       "that      2.753275\n",
       "have      2.407538\n",
       "do        2.102149\n",
       "this      2.010799\n",
       "but       1.688663\n",
       "there     1.236046\n",
       "well      0.891024\n",
       "couple    0.836783\n",
       "long      0.835313\n",
       "dtype: float64"
      ]
     },
     "execution_count": 183,
     "metadata": {},
     "output_type": "execute_result"
    }
   ],
   "source": [
    "dfx.sum(0).sort_values(ascending=False).head(15)"
   ]
  },
  {
   "cell_type": "code",
   "execution_count": 129,
   "metadata": {},
   "outputs": [
    {
     "name": "stdout",
     "output_type": "stream",
     "text": [
      "Topic: rec.autos\n",
      "==================================================\n",
      "not to mention my friend s 54 citroen traction avant with the light switch and dimmer integrate in a single stalk off the steer column those dumb french be apparently copying the japanese before the german\n"
     ]
    }
   ],
   "source": [
    "result = []\n",
    "doc_index = 3\n",
    "print(f\"Topic: {labels[doc_index]}\\n{'='*50}\\n{docs[doc_index][:512]}\")\n",
    "\n",
    "width = 0\n",
    "for i, word in enumerate(wdf_train.columns):\n",
    "    result.append(gnbs[word].predict_log_proba(wdf_test.loc[[doc_index]])[0])\n",
    "    if len(result) > width:\n",
    "        width = len(result)\n",
    "\n",
    "res = pd.DataFrame(data=result, index=wdf_train.columns).fillna(0)"
   ]
  },
  {
   "cell_type": "code",
   "execution_count": 134,
   "metadata": {},
   "outputs": [
    {
     "data": {
      "text/plain": [
       "and     -5.121664e+10\n",
       "the     -5.065995e+10\n",
       "mount   -3.989702e+10\n",
       "spare   -3.989702e+10\n",
       "issue   -3.711350e+10\n",
       "             ...     \n",
       "make    -1.855667e+09\n",
       "we      -1.855666e+09\n",
       "at      -1.670100e+09\n",
       "me      -1.670099e+09\n",
       "get     -1.113398e+09\n",
       "Length: 1467, dtype: float64"
      ]
     },
     "execution_count": 134,
     "metadata": {},
     "output_type": "execute_result"
    }
   ],
   "source": [
    "res.sum(1).sort_values()"
   ]
  },
  {
   "cell_type": "code",
   "execution_count": 113,
   "metadata": {
    "scrolled": true
   },
   "outputs": [
    {
     "data": {
      "text/plain": [
       "be          -4.082481e+09\n",
       "the         -7.422644e+08\n",
       "that        -5.567038e+08\n",
       "you         -3.711371e+08\n",
       "of          -1.855654e+08\n",
       "not         -4.879017e+03\n",
       "play         0.000000e+00\n",
       "planetary    0.000000e+00\n",
       "plane        0.000000e+00\n",
       "placement    0.000000e+00\n",
       "place        0.000000e+00\n",
       "pity         0.000000e+00\n",
       "pimentel     0.000000e+00\n",
       "pilot        0.000000e+00\n",
       "piece        0.000000e+00\n",
       "pickup       0.000000e+00\n",
       "phone        0.000000e+00\n",
       "phobos       0.000000e+00\n",
       "peter        0.000000e+00\n",
       "pertains     0.000000e+00\n",
       "Name: 0, dtype: float64"
      ]
     },
     "execution_count": 113,
     "metadata": {},
     "output_type": "execute_result"
    }
   ],
   "source": [
    "res[1].sort_values(ascending=True).head(20)"
   ]
  },
  {
   "cell_type": "code",
   "execution_count": 99,
   "metadata": {
    "scrolled": true
   },
   "outputs": [
    {
     "name": "stderr",
     "output_type": "stream",
     "text": [
      "C:\\Program Files\\Python37\\lib\\site-packages\\ipykernel_launcher.py:1: RuntimeWarning: divide by zero encountered in log\n",
      "  \"\"\"Entry point for launching an IPython kernel.\n"
     ]
    },
    {
     "data": {
      "text/plain": [
       "-inf"
      ]
     },
     "execution_count": 99,
     "metadata": {},
     "output_type": "execute_result"
    }
   ],
   "source": [
    "np.log(0)"
   ]
  },
  {
   "cell_type": "code",
   "execution_count": 16,
   "metadata": {
    "scrolled": true
   },
   "outputs": [
    {
     "name": "stdout",
     "output_type": "stream",
     "text": [
      "wdf_train, kmeans_inertia =  4230.109369977496\n",
      "Counter({'sci.space': 17, 'talk.politics.mideast': 16, 'rec.autos': 16, 'alt.atheism': 12})\n",
      "Counter({'talk.politics.mideast': 3, 'alt.atheism': 2, 'rec.autos': 1})\n",
      "Counter({'sci.space': 10, 'rec.autos': 8, 'talk.politics.mideast': 6, 'alt.atheism': 4})\n",
      "Counter({'alt.atheism': 7, 'talk.politics.mideast': 4, 'sci.space': 4, 'rec.autos': 2})\n",
      "\n"
     ]
    }
   ],
   "source": [
    "n_clusters = 4\n",
    "\n",
    "wdf_train_prime = wdf_train.copy()\n",
    "wdf_test_prime = wdf_test.copy()\n",
    "    \n",
    "# cluster the topics\n",
    "kmeans = KMeans(n_clusters=n_clusters, random_state=0).fit(wdf_train_prime)\n",
    "print(\"wdf_train, kmeans_inertia = \", kmeans.inertia_)\n",
    "\n",
    "clusters = []\n",
    "categories_prime = list(range(n_clusters))\n",
    "\n",
    "y_train_prime = kmeans.predict(wdf_train_prime)\n",
    "y_test_prime = kmeans.predict(wdf_test_prime)\n",
    "\n",
    "for ii in range(n_clusters):\n",
    "    clusters.append(Counter(y_train[y_train_prime == ii]))\n",
    "    print(clusters[-1])\n",
    "\n",
    "print()"
   ]
  },
  {
   "cell_type": "code",
   "execution_count": 27,
   "metadata": {
    "scrolled": false
   },
   "outputs": [
    {
     "data": {
      "text/html": [
       "<div>\n",
       "<style scoped>\n",
       "    .dataframe tbody tr th:only-of-type {\n",
       "        vertical-align: middle;\n",
       "    }\n",
       "\n",
       "    .dataframe tbody tr th {\n",
       "        vertical-align: top;\n",
       "    }\n",
       "\n",
       "    .dataframe thead th {\n",
       "        text-align: right;\n",
       "    }\n",
       "</style>\n",
       "<table border=\"1\" class=\"dataframe\">\n",
       "  <thead>\n",
       "    <tr style=\"text-align: right;\">\n",
       "      <th></th>\n",
       "      <th>000</th>\n",
       "      <th>031349</th>\n",
       "      <th>10</th>\n",
       "      <th>1000</th>\n",
       "      <th>11</th>\n",
       "      <th>14</th>\n",
       "      <th>16th</th>\n",
       "      <th>1900</th>\n",
       "      <th>1940</th>\n",
       "      <th>1982</th>\n",
       "      <th>...</th>\n",
       "      <th>yeah</th>\n",
       "      <th>year</th>\n",
       "      <th>yes</th>\n",
       "      <th>yo</th>\n",
       "      <th>yorker</th>\n",
       "      <th>you</th>\n",
       "      <th>your</th>\n",
       "      <th>yourself</th>\n",
       "      <th>zeuge</th>\n",
       "      <th>__labels__</th>\n",
       "    </tr>\n",
       "  </thead>\n",
       "  <tbody>\n",
       "    <tr>\n",
       "      <th>0</th>\n",
       "      <td>0</td>\n",
       "      <td>0</td>\n",
       "      <td>0</td>\n",
       "      <td>0</td>\n",
       "      <td>0</td>\n",
       "      <td>0</td>\n",
       "      <td>0</td>\n",
       "      <td>0</td>\n",
       "      <td>0</td>\n",
       "      <td>0</td>\n",
       "      <td>...</td>\n",
       "      <td>0</td>\n",
       "      <td>0</td>\n",
       "      <td>0</td>\n",
       "      <td>0</td>\n",
       "      <td>0</td>\n",
       "      <td>0</td>\n",
       "      <td>0</td>\n",
       "      <td>0</td>\n",
       "      <td>0</td>\n",
       "      <td>2</td>\n",
       "    </tr>\n",
       "    <tr>\n",
       "      <th>1</th>\n",
       "      <td>0</td>\n",
       "      <td>0</td>\n",
       "      <td>0</td>\n",
       "      <td>0</td>\n",
       "      <td>0</td>\n",
       "      <td>0</td>\n",
       "      <td>0</td>\n",
       "      <td>0</td>\n",
       "      <td>0</td>\n",
       "      <td>0</td>\n",
       "      <td>...</td>\n",
       "      <td>0</td>\n",
       "      <td>0</td>\n",
       "      <td>0</td>\n",
       "      <td>0</td>\n",
       "      <td>0</td>\n",
       "      <td>1</td>\n",
       "      <td>0</td>\n",
       "      <td>0</td>\n",
       "      <td>0</td>\n",
       "      <td>0</td>\n",
       "    </tr>\n",
       "    <tr>\n",
       "      <th>2</th>\n",
       "      <td>0</td>\n",
       "      <td>0</td>\n",
       "      <td>0</td>\n",
       "      <td>0</td>\n",
       "      <td>0</td>\n",
       "      <td>0</td>\n",
       "      <td>0</td>\n",
       "      <td>0</td>\n",
       "      <td>0</td>\n",
       "      <td>0</td>\n",
       "      <td>...</td>\n",
       "      <td>0</td>\n",
       "      <td>0</td>\n",
       "      <td>0</td>\n",
       "      <td>0</td>\n",
       "      <td>0</td>\n",
       "      <td>0</td>\n",
       "      <td>0</td>\n",
       "      <td>0</td>\n",
       "      <td>0</td>\n",
       "      <td>2</td>\n",
       "    </tr>\n",
       "    <tr>\n",
       "      <th>3</th>\n",
       "      <td>0</td>\n",
       "      <td>0</td>\n",
       "      <td>0</td>\n",
       "      <td>0</td>\n",
       "      <td>0</td>\n",
       "      <td>0</td>\n",
       "      <td>0</td>\n",
       "      <td>0</td>\n",
       "      <td>0</td>\n",
       "      <td>0</td>\n",
       "      <td>...</td>\n",
       "      <td>0</td>\n",
       "      <td>0</td>\n",
       "      <td>0</td>\n",
       "      <td>0</td>\n",
       "      <td>0</td>\n",
       "      <td>0</td>\n",
       "      <td>0</td>\n",
       "      <td>0</td>\n",
       "      <td>0</td>\n",
       "      <td>2</td>\n",
       "    </tr>\n",
       "    <tr>\n",
       "      <th>4</th>\n",
       "      <td>0</td>\n",
       "      <td>0</td>\n",
       "      <td>0</td>\n",
       "      <td>0</td>\n",
       "      <td>0</td>\n",
       "      <td>0</td>\n",
       "      <td>0</td>\n",
       "      <td>0</td>\n",
       "      <td>0</td>\n",
       "      <td>0</td>\n",
       "      <td>...</td>\n",
       "      <td>0</td>\n",
       "      <td>0</td>\n",
       "      <td>0</td>\n",
       "      <td>0</td>\n",
       "      <td>0</td>\n",
       "      <td>0</td>\n",
       "      <td>0</td>\n",
       "      <td>0</td>\n",
       "      <td>0</td>\n",
       "      <td>2</td>\n",
       "    </tr>\n",
       "  </tbody>\n",
       "</table>\n",
       "<p>5 rows × 1468 columns</p>\n",
       "</div>"
      ],
      "text/plain": [
       "   000  031349  10  1000  11  14  16th  1900  1940  1982  ...  yeah  year  \\\n",
       "0    0       0   0     0   0   0     0     0     0     0  ...     0     0   \n",
       "1    0       0   0     0   0   0     0     0     0     0  ...     0     0   \n",
       "2    0       0   0     0   0   0     0     0     0     0  ...     0     0   \n",
       "3    0       0   0     0   0   0     0     0     0     0  ...     0     0   \n",
       "4    0       0   0     0   0   0     0     0     0     0  ...     0     0   \n",
       "\n",
       "   yes  yo  yorker  you  your  yourself  zeuge  __labels__  \n",
       "0    0   0       0    0     0         0      0           2  \n",
       "1    0   0       0    1     0         0      0           0  \n",
       "2    0   0       0    0     0         0      0           2  \n",
       "3    0   0       0    0     0         0      0           2  \n",
       "4    0   0       0    0     0         0      0           2  \n",
       "\n",
       "[5 rows x 1468 columns]"
      ]
     },
     "execution_count": 27,
     "metadata": {},
     "output_type": "execute_result"
    }
   ],
   "source": [
    "wdf_train_prime.head()"
   ]
  },
  {
   "cell_type": "code",
   "execution_count": 64,
   "metadata": {},
   "outputs": [
    {
     "data": {
      "text/plain": [
       "array([2, 0, 2, 2, 2, 0, 0, 3, 1, 2, 0, 0, 0, 0, 2, 2, 0, 2, 2, 0, 3, 0,\n",
       "       0, 0, 3, 3, 2, 0, 2, 2, 2, 3, 0, 0, 2, 0, 2, 2, 2, 0, 0, 0, 0, 0,\n",
       "       0, 1, 0, 3, 0, 3, 3, 2, 2, 3, 0, 0, 0, 0, 0, 0, 0, 0, 0, 0, 0, 0,\n",
       "       3, 0, 0, 3, 2, 0, 2, 2, 0, 0, 0, 0, 2, 0, 1, 2, 0, 0, 3, 3, 0, 0,\n",
       "       0, 0, 3, 2, 3, 0, 0, 1, 0, 2, 0, 2, 1, 0, 1, 0, 0, 0, 0, 3, 0, 2,\n",
       "       0, 3])"
      ]
     },
     "execution_count": 64,
     "metadata": {},
     "output_type": "execute_result"
    }
   ],
   "source": [
    "kmeans.predict(wdf_train_prime)"
   ]
  },
  {
   "cell_type": "code",
   "execution_count": 18,
   "metadata": {},
   "outputs": [
    {
     "data": {
      "application/vnd.jupyter.widget-view+json": {
       "model_id": "6d214b79e166471980f6cedb44e886b2",
       "version_major": 2,
       "version_minor": 0
      },
      "text/plain": [
       "HBox(children=(FloatProgress(value=0.0, max=4.0), HTML(value='')))"
      ]
     },
     "metadata": {},
     "output_type": "display_data"
    },
    {
     "name": "stdout",
     "output_type": "stream",
     "text": [
      "\n",
      "word_topic_pr_distr shape = (1467, 4)\n"
     ]
    }
   ],
   "source": [
    "# the word topic distr\n",
    "wdt_train = wdf_train_prime.copy()\n",
    "wdt_test = wdf_test_prime.copy()\n",
    "\n",
    "wdt_test[\"__labels__\"] = y_test_prime\n",
    "wdt_train[\"__labels__\"] = y_train_prime\n",
    "\n",
    "word_doc_count = wdf_train_prime.sum(0)\n",
    "topic_doc_count = pd.DataFrame(Counter(y_train_prime), index=[0]).T[0]\n",
    "word_topic_pr_distr = pd.DataFrame(data=0.0, columns=categories_prime, index=vocabulary)\n",
    "\n",
    "for category in tqdm(categories_prime):\n",
    "    pxy = wdf_train_prime[wdt_train[\"__labels__\"] == category].sum(0) / topic_doc_count[category]\n",
    "    word_topic_pr_distr[category] = pxy * (topic_doc_count[category] / word_doc_count)\n",
    "\n",
    "print(f\"word_topic_pr_distr shape = {word_topic_pr_distr.shape}\")"
   ]
  },
  {
   "cell_type": "code",
   "execution_count": 19,
   "metadata": {},
   "outputs": [
    {
     "data": {
      "text/html": [
       "<div>\n",
       "<style scoped>\n",
       "    .dataframe tbody tr th:only-of-type {\n",
       "        vertical-align: middle;\n",
       "    }\n",
       "\n",
       "    .dataframe tbody tr th {\n",
       "        vertical-align: top;\n",
       "    }\n",
       "\n",
       "    .dataframe thead th {\n",
       "        text-align: right;\n",
       "    }\n",
       "</style>\n",
       "<table border=\"1\" class=\"dataframe\">\n",
       "  <thead>\n",
       "    <tr style=\"text-align: right;\">\n",
       "      <th></th>\n",
       "      <th>0</th>\n",
       "      <th>1</th>\n",
       "      <th>2</th>\n",
       "      <th>3</th>\n",
       "    </tr>\n",
       "  </thead>\n",
       "  <tbody>\n",
       "    <tr>\n",
       "      <th>000</th>\n",
       "      <td>1.0</td>\n",
       "      <td>0.0</td>\n",
       "      <td>0.0</td>\n",
       "      <td>0.0</td>\n",
       "    </tr>\n",
       "    <tr>\n",
       "      <th>031349</th>\n",
       "      <td>1.0</td>\n",
       "      <td>0.0</td>\n",
       "      <td>0.0</td>\n",
       "      <td>0.0</td>\n",
       "    </tr>\n",
       "    <tr>\n",
       "      <th>10</th>\n",
       "      <td>1.0</td>\n",
       "      <td>0.0</td>\n",
       "      <td>0.0</td>\n",
       "      <td>0.0</td>\n",
       "    </tr>\n",
       "    <tr>\n",
       "      <th>1000</th>\n",
       "      <td>1.0</td>\n",
       "      <td>0.0</td>\n",
       "      <td>0.0</td>\n",
       "      <td>0.0</td>\n",
       "    </tr>\n",
       "    <tr>\n",
       "      <th>11</th>\n",
       "      <td>0.0</td>\n",
       "      <td>0.0</td>\n",
       "      <td>1.0</td>\n",
       "      <td>0.0</td>\n",
       "    </tr>\n",
       "  </tbody>\n",
       "</table>\n",
       "</div>"
      ],
      "text/plain": [
       "          0    1    2    3\n",
       "000     1.0  0.0  0.0  0.0\n",
       "031349  1.0  0.0  0.0  0.0\n",
       "10      1.0  0.0  0.0  0.0\n",
       "1000    1.0  0.0  0.0  0.0\n",
       "11      0.0  0.0  1.0  0.0"
      ]
     },
     "execution_count": 19,
     "metadata": {},
     "output_type": "execute_result"
    }
   ],
   "source": [
    "word_topic_pr_distr.head()"
   ]
  },
  {
   "cell_type": "code",
   "execution_count": 62,
   "metadata": {
    "scrolled": true
   },
   "outputs": [
    {
     "data": {
      "text/html": [
       "<div>\n",
       "<style scoped>\n",
       "    .dataframe tbody tr th:only-of-type {\n",
       "        vertical-align: middle;\n",
       "    }\n",
       "\n",
       "    .dataframe tbody tr th {\n",
       "        vertical-align: top;\n",
       "    }\n",
       "\n",
       "    .dataframe thead th {\n",
       "        text-align: right;\n",
       "    }\n",
       "</style>\n",
       "<table border=\"1\" class=\"dataframe\">\n",
       "  <thead>\n",
       "    <tr style=\"text-align: right;\">\n",
       "      <th></th>\n",
       "      <th>0</th>\n",
       "      <th>1</th>\n",
       "      <th>2</th>\n",
       "      <th>3</th>\n",
       "    </tr>\n",
       "  </thead>\n",
       "  <tbody>\n",
       "    <tr>\n",
       "      <th>zeuge</th>\n",
       "      <td>1.0</td>\n",
       "      <td>0.0</td>\n",
       "      <td>0.0</td>\n",
       "      <td>0.0</td>\n",
       "    </tr>\n",
       "    <tr>\n",
       "      <th>ftp</th>\n",
       "      <td>0.0</td>\n",
       "      <td>0.0</td>\n",
       "      <td>1.0</td>\n",
       "      <td>0.0</td>\n",
       "    </tr>\n",
       "    <tr>\n",
       "      <th>full</th>\n",
       "      <td>0.0</td>\n",
       "      <td>1.0</td>\n",
       "      <td>0.0</td>\n",
       "      <td>0.0</td>\n",
       "    </tr>\n",
       "    <tr>\n",
       "      <th>fundraise</th>\n",
       "      <td>0.0</td>\n",
       "      <td>0.0</td>\n",
       "      <td>1.0</td>\n",
       "      <td>0.0</td>\n",
       "    </tr>\n",
       "    <tr>\n",
       "      <th>funny</th>\n",
       "      <td>1.0</td>\n",
       "      <td>0.0</td>\n",
       "      <td>0.0</td>\n",
       "      <td>0.0</td>\n",
       "    </tr>\n",
       "    <tr>\n",
       "      <th>further</th>\n",
       "      <td>1.0</td>\n",
       "      <td>0.0</td>\n",
       "      <td>0.0</td>\n",
       "      <td>0.0</td>\n",
       "    </tr>\n",
       "    <tr>\n",
       "      <th>fusi</th>\n",
       "      <td>1.0</td>\n",
       "      <td>0.0</td>\n",
       "      <td>0.0</td>\n",
       "      <td>0.0</td>\n",
       "    </tr>\n",
       "    <tr>\n",
       "      <th>gain</th>\n",
       "      <td>1.0</td>\n",
       "      <td>0.0</td>\n",
       "      <td>0.0</td>\n",
       "      <td>0.0</td>\n",
       "    </tr>\n",
       "    <tr>\n",
       "      <th>gallon</th>\n",
       "      <td>0.0</td>\n",
       "      <td>0.0</td>\n",
       "      <td>0.0</td>\n",
       "      <td>1.0</td>\n",
       "    </tr>\n",
       "    <tr>\n",
       "      <th>game</th>\n",
       "      <td>0.0</td>\n",
       "      <td>1.0</td>\n",
       "      <td>0.0</td>\n",
       "      <td>0.0</td>\n",
       "    </tr>\n",
       "  </tbody>\n",
       "</table>\n",
       "</div>"
      ],
      "text/plain": [
       "             0    1    2    3\n",
       "zeuge      1.0  0.0  0.0  0.0\n",
       "ftp        0.0  0.0  1.0  0.0\n",
       "full       0.0  1.0  0.0  0.0\n",
       "fundraise  0.0  0.0  1.0  0.0\n",
       "funny      1.0  0.0  0.0  0.0\n",
       "further    1.0  0.0  0.0  0.0\n",
       "fusi       1.0  0.0  0.0  0.0\n",
       "gain       1.0  0.0  0.0  0.0\n",
       "gallon     0.0  0.0  0.0  1.0\n",
       "game       0.0  1.0  0.0  0.0"
      ]
     },
     "execution_count": 62,
     "metadata": {},
     "output_type": "execute_result"
    }
   ],
   "source": [
    "word_topic_entropy = calculate_entropy(word_topic_pr_distr, axis=1)\n",
    "word_topic_entropy_norm = (word_topic_entropy.max() - word_topic_entropy) / word_topic_entropy.max()\n",
    "\n",
    "order_factor = word_topic_entropy_norm #* (word_doc_count / word_doc_count.max())\n",
    "\n",
    "order_indices = order_factor.argsort()[::-1]\n",
    "word_topic_pr_distr.iloc[order_indices].head(10)"
   ]
  },
  {
   "cell_type": "code",
   "execution_count": null,
   "metadata": {},
   "outputs": [],
   "source": []
  },
  {
   "cell_type": "code",
   "execution_count": 61,
   "metadata": {},
   "outputs": [
    {
     "data": {
      "text/plain": [
       "(0.6730116670092565, 5)"
      ]
     },
     "execution_count": 61,
     "metadata": {},
     "output_type": "execute_result"
    }
   ],
   "source": [
    "word = \"space\"\n",
    "calculate_entropy(word_topic_pr_distr.loc[word]), npword_doc_count[word]"
   ]
  },
  {
   "cell_type": "code",
   "execution_count": 60,
   "metadata": {
    "scrolled": true
   },
   "outputs": [
    {
     "data": {
      "text/plain": [
       "<bound method Series.mean of 000          2\n",
       "031349       1\n",
       "10           1\n",
       "1000         1\n",
       "11           2\n",
       "            ..\n",
       "yorker       1\n",
       "you         87\n",
       "your        23\n",
       "yourself     1\n",
       "zeuge        1\n",
       "Length: 1467, dtype: int64>"
      ]
     },
     "execution_count": 60,
     "metadata": {},
     "output_type": "execute_result"
    }
   ],
   "source": [
    "word_doc_count.mean"
   ]
  },
  {
   "cell_type": "code",
   "execution_count": 20,
   "metadata": {},
   "outputs": [],
   "source": [
    "# the entropy and softma for reducing relation\n",
    "word_topic_pr_entropy = calculate_entropy(word_topic_pr_distr, axis=1)\n",
    "\n",
    "# the norm freq of the word in topic\n",
    "word_topic_pr_freq_weight = word_topic_pr_distr.sum(1)\n",
    "\n",
    "\n",
    "# word_topic_pr_infl = 1 - softmax(word_topic_pr_entropy)\n",
    "\n",
    "# influence\n",
    "# wdf_train_prime *= word_topic_pr_infl"
   ]
  },
  {
   "cell_type": "code",
   "execution_count": 21,
   "metadata": {},
   "outputs": [
    {
     "data": {
      "text/plain": [
       "7"
      ]
     },
     "execution_count": 21,
     "metadata": {},
     "output_type": "execute_result"
    }
   ],
   "source": [
    "wdf_train_prime.max().max()"
   ]
  },
  {
   "cell_type": "code",
   "execution_count": 22,
   "metadata": {},
   "outputs": [
    {
     "data": {
      "text/plain": [
       "1.0"
      ]
     },
     "execution_count": 22,
     "metadata": {},
     "output_type": "execute_result"
    }
   ],
   "source": [
    "word_topic_pr_freq_weight.max()"
   ]
  },
  {
   "cell_type": "code",
   "execution_count": 23,
   "metadata": {
    "scrolled": true
   },
   "outputs": [
    {
     "data": {
      "text/plain": [
       "array([0.       , 0.       , 0.       , ..., 1.0554635, 0.       ,\n",
       "       0.       ])"
      ]
     },
     "execution_count": 23,
     "metadata": {},
     "output_type": "execute_result"
    }
   ],
   "source": [
    "word_topic_pr_entropy"
   ]
  },
  {
   "cell_type": "code",
   "execution_count": null,
   "metadata": {},
   "outputs": [],
   "source": []
  }
 ],
 "metadata": {
  "colab": {
   "name": "topic_modeler.ipynb",
   "provenance": [],
   "toc_visible": true
  },
  "kernelspec": {
   "display_name": "Python 3.7.2 64-bit",
   "language": "python",
   "name": "python37264bit1e47c484c81847018c6f6fa7221b75f5"
  },
  "language_info": {
   "codemirror_mode": {
    "name": "ipython",
    "version": 3
   },
   "file_extension": ".py",
   "mimetype": "text/x-python",
   "name": "python",
   "nbconvert_exporter": "python",
   "pygments_lexer": "ipython3",
   "version": "3.7.2"
  },
  "widgets": {
   "application/vnd.jupyter.widget-state+json": {
    "1029c3cb5c264802a7bd45639c1a7c20": {
     "model_module": "@jupyter-widgets/base",
     "model_name": "LayoutModel",
     "state": {
      "_model_module": "@jupyter-widgets/base",
      "_model_module_version": "1.2.0",
      "_model_name": "LayoutModel",
      "_view_count": null,
      "_view_module": "@jupyter-widgets/base",
      "_view_module_version": "1.2.0",
      "_view_name": "LayoutView",
      "align_content": null,
      "align_items": null,
      "align_self": null,
      "border": null,
      "bottom": null,
      "display": null,
      "flex": null,
      "flex_flow": null,
      "grid_area": null,
      "grid_auto_columns": null,
      "grid_auto_flow": null,
      "grid_auto_rows": null,
      "grid_column": null,
      "grid_gap": null,
      "grid_row": null,
      "grid_template_areas": null,
      "grid_template_columns": null,
      "grid_template_rows": null,
      "height": null,
      "justify_content": null,
      "justify_items": null,
      "left": null,
      "margin": null,
      "max_height": null,
      "max_width": null,
      "min_height": null,
      "min_width": null,
      "object_fit": null,
      "object_position": null,
      "order": null,
      "overflow": null,
      "overflow_x": null,
      "overflow_y": null,
      "padding": null,
      "right": null,
      "top": null,
      "visibility": null,
      "width": null
     }
    },
    "2e8643a34a7143e284ed8e94aaca32d7": {
     "model_module": "@jupyter-widgets/controls",
     "model_name": "ProgressStyleModel",
     "state": {
      "_model_module": "@jupyter-widgets/controls",
      "_model_module_version": "1.5.0",
      "_model_name": "ProgressStyleModel",
      "_view_count": null,
      "_view_module": "@jupyter-widgets/base",
      "_view_module_version": "1.2.0",
      "_view_name": "StyleView",
      "bar_color": null,
      "description_width": "initial"
     }
    },
    "44bf4a5432b34d269a82bce24d4e46b3": {
     "model_module": "@jupyter-widgets/controls",
     "model_name": "ProgressStyleModel",
     "state": {
      "_model_module": "@jupyter-widgets/controls",
      "_model_module_version": "1.5.0",
      "_model_name": "ProgressStyleModel",
      "_view_count": null,
      "_view_module": "@jupyter-widgets/base",
      "_view_module_version": "1.2.0",
      "_view_name": "StyleView",
      "bar_color": null,
      "description_width": "initial"
     }
    },
    "4dcd4b491d694b0aa25514b8486cf3f8": {
     "model_module": "@jupyter-widgets/base",
     "model_name": "LayoutModel",
     "state": {
      "_model_module": "@jupyter-widgets/base",
      "_model_module_version": "1.2.0",
      "_model_name": "LayoutModel",
      "_view_count": null,
      "_view_module": "@jupyter-widgets/base",
      "_view_module_version": "1.2.0",
      "_view_name": "LayoutView",
      "align_content": null,
      "align_items": null,
      "align_self": null,
      "border": null,
      "bottom": null,
      "display": null,
      "flex": null,
      "flex_flow": null,
      "grid_area": null,
      "grid_auto_columns": null,
      "grid_auto_flow": null,
      "grid_auto_rows": null,
      "grid_column": null,
      "grid_gap": null,
      "grid_row": null,
      "grid_template_areas": null,
      "grid_template_columns": null,
      "grid_template_rows": null,
      "height": null,
      "justify_content": null,
      "justify_items": null,
      "left": null,
      "margin": null,
      "max_height": null,
      "max_width": null,
      "min_height": null,
      "min_width": null,
      "object_fit": null,
      "object_position": null,
      "order": null,
      "overflow": null,
      "overflow_x": null,
      "overflow_y": null,
      "padding": null,
      "right": null,
      "top": null,
      "visibility": null,
      "width": null
     }
    },
    "51dd1aa22f7d45ccbd3ba766bb232b57": {
     "model_module": "@jupyter-widgets/base",
     "model_name": "LayoutModel",
     "state": {
      "_model_module": "@jupyter-widgets/base",
      "_model_module_version": "1.2.0",
      "_model_name": "LayoutModel",
      "_view_count": null,
      "_view_module": "@jupyter-widgets/base",
      "_view_module_version": "1.2.0",
      "_view_name": "LayoutView",
      "align_content": null,
      "align_items": null,
      "align_self": null,
      "border": null,
      "bottom": null,
      "display": null,
      "flex": null,
      "flex_flow": null,
      "grid_area": null,
      "grid_auto_columns": null,
      "grid_auto_flow": null,
      "grid_auto_rows": null,
      "grid_column": null,
      "grid_gap": null,
      "grid_row": null,
      "grid_template_areas": null,
      "grid_template_columns": null,
      "grid_template_rows": null,
      "height": null,
      "justify_content": null,
      "justify_items": null,
      "left": null,
      "margin": null,
      "max_height": null,
      "max_width": null,
      "min_height": null,
      "min_width": null,
      "object_fit": null,
      "object_position": null,
      "order": null,
      "overflow": null,
      "overflow_x": null,
      "overflow_y": null,
      "padding": null,
      "right": null,
      "top": null,
      "visibility": null,
      "width": null
     }
    },
    "5369f73e7d934a68a3478189b5a136b6": {
     "model_module": "@jupyter-widgets/controls",
     "model_name": "FloatProgressModel",
     "state": {
      "_dom_classes": [],
      "_model_module": "@jupyter-widgets/controls",
      "_model_module_version": "1.5.0",
      "_model_name": "FloatProgressModel",
      "_view_count": null,
      "_view_module": "@jupyter-widgets/controls",
      "_view_module_version": "1.5.0",
      "_view_name": "ProgressView",
      "bar_style": "",
      "description": " 14%",
      "description_tooltip": null,
      "layout": "IPY_MODEL_4dcd4b491d694b0aa25514b8486cf3f8",
      "max": 37408,
      "min": 0,
      "orientation": "horizontal",
      "style": "IPY_MODEL_44bf4a5432b34d269a82bce24d4e46b3",
      "value": 5274
     }
    },
    "5c20409065a347d18e1ab6bde4c5a0ba": {
     "model_module": "@jupyter-widgets/base",
     "model_name": "LayoutModel",
     "state": {
      "_model_module": "@jupyter-widgets/base",
      "_model_module_version": "1.2.0",
      "_model_name": "LayoutModel",
      "_view_count": null,
      "_view_module": "@jupyter-widgets/base",
      "_view_module_version": "1.2.0",
      "_view_name": "LayoutView",
      "align_content": null,
      "align_items": null,
      "align_self": null,
      "border": null,
      "bottom": null,
      "display": null,
      "flex": null,
      "flex_flow": null,
      "grid_area": null,
      "grid_auto_columns": null,
      "grid_auto_flow": null,
      "grid_auto_rows": null,
      "grid_column": null,
      "grid_gap": null,
      "grid_row": null,
      "grid_template_areas": null,
      "grid_template_columns": null,
      "grid_template_rows": null,
      "height": null,
      "justify_content": null,
      "justify_items": null,
      "left": null,
      "margin": null,
      "max_height": null,
      "max_width": null,
      "min_height": null,
      "min_width": null,
      "object_fit": null,
      "object_position": null,
      "order": null,
      "overflow": null,
      "overflow_x": null,
      "overflow_y": null,
      "padding": null,
      "right": null,
      "top": null,
      "visibility": null,
      "width": null
     }
    },
    "846b5c7701bc49e4be2a7681d5361dd8": {
     "model_module": "@jupyter-widgets/controls",
     "model_name": "HTMLModel",
     "state": {
      "_dom_classes": [],
      "_model_module": "@jupyter-widgets/controls",
      "_model_module_version": "1.5.0",
      "_model_name": "HTMLModel",
      "_view_count": null,
      "_view_module": "@jupyter-widgets/controls",
      "_view_module_version": "1.5.0",
      "_view_name": "HTMLView",
      "description": "",
      "description_tooltip": null,
      "layout": "IPY_MODEL_5c20409065a347d18e1ab6bde4c5a0ba",
      "placeholder": "​",
      "style": "IPY_MODEL_cee50571766e465b81cd2d06ac0a4d31",
      "value": " 200/200 [00:52&lt;00:00,  3.85it/s]"
     }
    },
    "94d411d6977f493894ec3c8b5975f693": {
     "model_module": "@jupyter-widgets/controls",
     "model_name": "FloatProgressModel",
     "state": {
      "_dom_classes": [],
      "_model_module": "@jupyter-widgets/controls",
      "_model_module_version": "1.5.0",
      "_model_name": "FloatProgressModel",
      "_view_count": null,
      "_view_module": "@jupyter-widgets/controls",
      "_view_module_version": "1.5.0",
      "_view_name": "ProgressView",
      "bar_style": "success",
      "description": "100%",
      "description_tooltip": null,
      "layout": "IPY_MODEL_b8ce72deb0c34c35a99b91bbc9b5504c",
      "max": 200,
      "min": 0,
      "orientation": "horizontal",
      "style": "IPY_MODEL_2e8643a34a7143e284ed8e94aaca32d7",
      "value": 200
     }
    },
    "b8ce72deb0c34c35a99b91bbc9b5504c": {
     "model_module": "@jupyter-widgets/base",
     "model_name": "LayoutModel",
     "state": {
      "_model_module": "@jupyter-widgets/base",
      "_model_module_version": "1.2.0",
      "_model_name": "LayoutModel",
      "_view_count": null,
      "_view_module": "@jupyter-widgets/base",
      "_view_module_version": "1.2.0",
      "_view_name": "LayoutView",
      "align_content": null,
      "align_items": null,
      "align_self": null,
      "border": null,
      "bottom": null,
      "display": null,
      "flex": null,
      "flex_flow": null,
      "grid_area": null,
      "grid_auto_columns": null,
      "grid_auto_flow": null,
      "grid_auto_rows": null,
      "grid_column": null,
      "grid_gap": null,
      "grid_row": null,
      "grid_template_areas": null,
      "grid_template_columns": null,
      "grid_template_rows": null,
      "height": null,
      "justify_content": null,
      "justify_items": null,
      "left": null,
      "margin": null,
      "max_height": null,
      "max_width": null,
      "min_height": null,
      "min_width": null,
      "object_fit": null,
      "object_position": null,
      "order": null,
      "overflow": null,
      "overflow_x": null,
      "overflow_y": null,
      "padding": null,
      "right": null,
      "top": null,
      "visibility": null,
      "width": null
     }
    },
    "b8ee6c0914474dab8186285123c3c25a": {
     "model_module": "@jupyter-widgets/controls",
     "model_name": "HBoxModel",
     "state": {
      "_dom_classes": [],
      "_model_module": "@jupyter-widgets/controls",
      "_model_module_version": "1.5.0",
      "_model_name": "HBoxModel",
      "_view_count": null,
      "_view_module": "@jupyter-widgets/controls",
      "_view_module_version": "1.5.0",
      "_view_name": "HBoxView",
      "box_style": "",
      "children": [
       "IPY_MODEL_94d411d6977f493894ec3c8b5975f693",
       "IPY_MODEL_846b5c7701bc49e4be2a7681d5361dd8"
      ],
      "layout": "IPY_MODEL_1029c3cb5c264802a7bd45639c1a7c20"
     }
    },
    "c3f9b287331c4447a3858c3fed906a66": {
     "model_module": "@jupyter-widgets/controls",
     "model_name": "HBoxModel",
     "state": {
      "_dom_classes": [],
      "_model_module": "@jupyter-widgets/controls",
      "_model_module_version": "1.5.0",
      "_model_name": "HBoxModel",
      "_view_count": null,
      "_view_module": "@jupyter-widgets/controls",
      "_view_module_version": "1.5.0",
      "_view_name": "HBoxView",
      "box_style": "",
      "children": [
       "IPY_MODEL_5369f73e7d934a68a3478189b5a136b6",
       "IPY_MODEL_f02ad7bad6f74da69de3557e8b7e3b92"
      ],
      "layout": "IPY_MODEL_dc810a1b5ae545a09ef4b77e92695a36"
     }
    },
    "cee50571766e465b81cd2d06ac0a4d31": {
     "model_module": "@jupyter-widgets/controls",
     "model_name": "DescriptionStyleModel",
     "state": {
      "_model_module": "@jupyter-widgets/controls",
      "_model_module_version": "1.5.0",
      "_model_name": "DescriptionStyleModel",
      "_view_count": null,
      "_view_module": "@jupyter-widgets/base",
      "_view_module_version": "1.2.0",
      "_view_name": "StyleView",
      "description_width": ""
     }
    },
    "dc810a1b5ae545a09ef4b77e92695a36": {
     "model_module": "@jupyter-widgets/base",
     "model_name": "LayoutModel",
     "state": {
      "_model_module": "@jupyter-widgets/base",
      "_model_module_version": "1.2.0",
      "_model_name": "LayoutModel",
      "_view_count": null,
      "_view_module": "@jupyter-widgets/base",
      "_view_module_version": "1.2.0",
      "_view_name": "LayoutView",
      "align_content": null,
      "align_items": null,
      "align_self": null,
      "border": null,
      "bottom": null,
      "display": null,
      "flex": null,
      "flex_flow": null,
      "grid_area": null,
      "grid_auto_columns": null,
      "grid_auto_flow": null,
      "grid_auto_rows": null,
      "grid_column": null,
      "grid_gap": null,
      "grid_row": null,
      "grid_template_areas": null,
      "grid_template_columns": null,
      "grid_template_rows": null,
      "height": null,
      "justify_content": null,
      "justify_items": null,
      "left": null,
      "margin": null,
      "max_height": null,
      "max_width": null,
      "min_height": null,
      "min_width": null,
      "object_fit": null,
      "object_position": null,
      "order": null,
      "overflow": null,
      "overflow_x": null,
      "overflow_y": null,
      "padding": null,
      "right": null,
      "top": null,
      "visibility": null,
      "width": null
     }
    },
    "eb223b5836d04aaea284e26e6a3a6a1a": {
     "model_module": "@jupyter-widgets/controls",
     "model_name": "DescriptionStyleModel",
     "state": {
      "_model_module": "@jupyter-widgets/controls",
      "_model_module_version": "1.5.0",
      "_model_name": "DescriptionStyleModel",
      "_view_count": null,
      "_view_module": "@jupyter-widgets/base",
      "_view_module_version": "1.2.0",
      "_view_name": "StyleView",
      "description_width": ""
     }
    },
    "f02ad7bad6f74da69de3557e8b7e3b92": {
     "model_module": "@jupyter-widgets/controls",
     "model_name": "HTMLModel",
     "state": {
      "_dom_classes": [],
      "_model_module": "@jupyter-widgets/controls",
      "_model_module_version": "1.5.0",
      "_model_name": "HTMLModel",
      "_view_count": null,
      "_view_module": "@jupyter-widgets/controls",
      "_view_module_version": "1.5.0",
      "_view_name": "HTMLView",
      "description": "",
      "description_tooltip": null,
      "layout": "IPY_MODEL_51dd1aa22f7d45ccbd3ba766bb232b57",
      "placeholder": "​",
      "style": "IPY_MODEL_eb223b5836d04aaea284e26e6a3a6a1a",
      "value": " 5274/37408 [06:38&lt;40:12, 13.32it/s]"
     }
    }
   }
  }
 },
 "nbformat": 4,
 "nbformat_minor": 1
}

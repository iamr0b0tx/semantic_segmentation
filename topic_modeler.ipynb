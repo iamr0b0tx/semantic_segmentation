{
 "cells": [
  {
   "cell_type": "code",
   "execution_count": 1,
   "metadata": {},
   "outputs": [],
   "source": [
    "%load_ext autoreload\n",
    "%autoreload 2"
   ]
  },
  {
   "cell_type": "markdown",
   "metadata": {},
   "source": [
    "### imports and utilities"
   ]
  },
  {
   "cell_type": "code",
   "execution_count": 2,
   "metadata": {},
   "outputs": [],
   "source": [
    "from collections import Counter\n",
    "from utils import *\n",
    "\n",
    "import numpy as np\n",
    "import pandas as pd\n",
    "import matplotlib.pyplot as plt\n",
    "\n",
    "from tqdm.notebook import tqdm\n",
    "from scipy.special import softmax\n",
    "from scipy.stats import norm\n",
    "from scipy.stats import entropy as calculate_entropy\n",
    "\n",
    "\n",
    "from sklearn.decomposition import PCA\n",
    "from sklearn.preprocessing import normalize\n",
    "from sklearn.datasets import fetch_20newsgroups\n",
    "from sklearn.cluster import KMeans, MiniBatchKMeans\n",
    "from sklearn.metrics.pairwise import cosine_similarity\n",
    "from sklearn.feature_extraction.text import CountVectorizer, TfidfVectorizer"
   ]
  },
  {
   "cell_type": "markdown",
   "metadata": {},
   "source": [
    "### load dataset"
   ]
  },
  {
   "cell_type": "code",
   "execution_count": 3,
   "metadata": {},
   "outputs": [],
   "source": [
    "# total number of samples needed\n",
    "randomize = False\n",
    "\n",
    "# retrieve dataset\n",
    "categories = ['rec.autos', 'talk.politics.mideast', 'alt.atheism', 'sci.space']\n",
    "\n",
    "docs = fetch_20newsgroups(subset='train', shuffle=randomize, remove=('headers', 'footers', 'quotes'), categories=categories)\n",
    "docs, old_labels, classes = docs.data, docs.target, docs.target_names"
   ]
  },
  {
   "cell_type": "markdown",
   "metadata": {},
   "source": [
    "### clean dataset"
   ]
  },
  {
   "cell_type": "code",
   "execution_count": 4,
   "metadata": {},
   "outputs": [
    {
     "data": {
      "application/vnd.jupyter.widget-view+json": {
       "model_id": "d3f70ddd44c9482d9cf0e65f85e83809",
       "version_major": 2,
       "version_minor": 0
      },
      "text/plain": [
       "HBox(children=(FloatProgress(value=0.0, max=400.0), HTML(value='')))"
      ]
     },
     "metadata": {},
     "output_type": "display_data"
    },
    {
     "name": "stdout",
     "output_type": "stream",
     "text": [
      "\n"
     ]
    }
   ],
   "source": [
    "datasize = 100\n",
    "max_document_length = 256\n",
    "\n",
    "index = -1\n",
    "train_docs, labels, label_indices = [], [], []\n",
    "\n",
    "sizes = [0]*len(categories)\n",
    "\n",
    "with tqdm(total=len(categories)*datasize) as pbar:\n",
    "    while sum(sizes) != len(categories)*datasize:\n",
    "        index += 1\n",
    "        size_index = categories.index(classes[old_labels[index]])\n",
    "        \n",
    "        if sizes[size_index] == datasize:\n",
    "            continue\n",
    "        \n",
    "        doc = docs[index]\n",
    "        status, doc, word_count = clean_doc(doc, True)\n",
    "        \n",
    "        if (not status) or (max_document_length is not None and len(doc) > max_document_length):\n",
    "            continue\n",
    "        \n",
    "        label_indices.append(size_index)\n",
    "        labels.append(categories[size_index])\n",
    "        train_docs.append(doc)\n",
    "        sizes[size_index] += 1\n",
    "        pbar.update(1)\n",
    "\n",
    "labels = np.array(labels)\n",
    "label_indices = np.array(label_indices)"
   ]
  },
  {
   "cell_type": "code",
   "execution_count": 5,
   "metadata": {},
   "outputs": [
    {
     "name": "stdout",
     "output_type": "stream",
     "text": [
      "Topic: rec.autos\n",
      "==================================================\n",
      "apparently you re not a woman my husband hate the auto door lock feel safer in a car that lock easily in addition to watch around in a seclude spot etc have my key ready to open the door so i m\n"
     ]
    }
   ],
   "source": [
    "index = 0\n",
    "print(f\"Topic: {labels[index]}\\n{'='*50}\\n{train_docs[index]}\")"
   ]
  },
  {
   "cell_type": "code",
   "execution_count": 6,
   "metadata": {},
   "outputs": [
    {
     "name": "stdout",
     "output_type": "stream",
     "text": [
      "[100, 100, 100, 100]\n"
     ]
    }
   ],
   "source": [
    "print(sizes)\n",
    "assert min(sizes) == max(sizes) == datasize"
   ]
  },
  {
   "cell_type": "code",
   "execution_count": 7,
   "metadata": {
    "scrolled": true
   },
   "outputs": [
    {
     "name": "stdout",
     "output_type": "stream",
     "text": [
      "there are 400 docs\n"
     ]
    }
   ],
   "source": [
    "print(f\"there are {len(train_docs)} docs\")"
   ]
  },
  {
   "cell_type": "markdown",
   "metadata": {},
   "source": [
    "### Initialize Vectorizer"
   ]
  },
  {
   "cell_type": "code",
   "execution_count": 8,
   "metadata": {},
   "outputs": [
    {
     "name": "stdout",
     "output_type": "stream",
     "text": [
      "word_count is 2727\n"
     ]
    }
   ],
   "source": [
    "# initialize the count vectorizer\n",
    "vectorizer = CountVectorizer()\n",
    "\n",
    "# fit it to dataset\n",
    "vectorizer.fit(train_docs)\n",
    "\n",
    "vocabulary = vectorizer.get_feature_names()\n",
    "print(\"word_count is\", len(vocabulary))"
   ]
  },
  {
   "cell_type": "markdown",
   "metadata": {},
   "source": [
    "### Prepare Datatset"
   ]
  },
  {
   "cell_type": "code",
   "execution_count": 9,
   "metadata": {},
   "outputs": [
    {
     "name": "stdout",
     "output_type": "stream",
     "text": [
      "400 train_docs\n"
     ]
    }
   ],
   "source": [
    "# create doc count vectors\n",
    "train_doc_vectors = vectorizer.transform(train_docs).toarray()\n",
    "\n",
    "total_num_of_documents = len(train_doc_vectors)\n",
    "print(f\"{total_num_of_documents} train_docs\")"
   ]
  },
  {
   "cell_type": "markdown",
   "metadata": {},
   "source": [
    "### Word-Word Ratio"
   ]
  },
  {
   "cell_type": "code",
   "execution_count": 59,
   "metadata": {},
   "outputs": [
    {
     "data": {
      "application/vnd.jupyter.widget-view+json": {
       "model_id": "3008c5817918402da87a2dc381ec2a62",
       "version_major": 2,
       "version_minor": 0
      },
      "text/plain": [
       "HBox(children=(FloatProgress(value=0.0, max=2727.0), HTML(value='')))"
      ]
     },
     "metadata": {},
     "output_type": "display_data"
    },
    {
     "name": "stderr",
     "output_type": "stream",
     "text": [
      "c:\\users\\christian\\documents\\christian\\work\\python\\cyberspace\\topic_modeler\\venv\\lib\\site-packages\\pandas\\core\\series.py:679: RuntimeWarning: divide by zero encountered in log2\n",
      "  result = getattr(ufunc, method)(*inputs, **kwargs)\n"
     ]
    },
    {
     "name": "stdout",
     "output_type": "stream",
     "text": [
      "\n",
      "word_word_co has shape (2727, 2727)\n"
     ]
    }
   ],
   "source": [
    "# reduce freq in doc to bin value of 1 or 0\n",
    "word_freq_in_doc = pd.DataFrame(train_doc_vectors, columns=vocabulary)\n",
    "word_word_co = pd.DataFrame(data=0.0, columns=vocabulary, index=vocabulary)\n",
    "\n",
    "word_doc_frequency = (word_freq_in_doc > 0).astype(int)\n",
    "word_doc_frequency_norm = (word_freq_in_doc.T / word_freq_in_doc.sum(1)).T\n",
    "probability = word_doc_frequency.sum(0) / len(train_doc_vectors)\n",
    "\n",
    "for word in tqdm(vocabulary):\n",
    "    pxy = word_doc_frequency[word_doc_frequency[word] == 1].sum(0) / total_num_of_documents\n",
    "    pmi = np.log2(pxy / (probability[word] * probability))\n",
    "    \n",
    "    pmi = pmi.replace([np.inf, -np.inf], 0)\n",
    "    pmi = pmi.fillna(0)\n",
    "    \n",
    "    dev = pmi - pmi.min()\n",
    "    word_word_co[word] = dev / dev.sum()\n",
    "\n",
    "# word_word_co = (word_word_co.T / word_word_co.sum(1)).T\n",
    "print(f\"word_word_co has shape {word_word_co.shape}\")"
   ]
  },
  {
   "cell_type": "code",
   "execution_count": 60,
   "metadata": {
    "scrolled": false
   },
   "outputs": [
    {
     "data": {
      "text/html": [
       "<div>\n",
       "<style scoped>\n",
       "    .dataframe tbody tr th:only-of-type {\n",
       "        vertical-align: middle;\n",
       "    }\n",
       "\n",
       "    .dataframe tbody tr th {\n",
       "        vertical-align: top;\n",
       "    }\n",
       "\n",
       "    .dataframe thead th {\n",
       "        text-align: right;\n",
       "    }\n",
       "</style>\n",
       "<table border=\"1\" class=\"dataframe\">\n",
       "  <thead>\n",
       "    <tr style=\"text-align: right;\">\n",
       "      <th></th>\n",
       "      <th>00</th>\n",
       "      <th>000</th>\n",
       "      <th>0098</th>\n",
       "      <th>020359</th>\n",
       "      <th>031349</th>\n",
       "      <th>0878</th>\n",
       "      <th>0b1fatransfer</th>\n",
       "      <th>10</th>\n",
       "      <th>1000</th>\n",
       "      <th>10k</th>\n",
       "      <th>...</th>\n",
       "      <th>you</th>\n",
       "      <th>your</th>\n",
       "      <th>yours</th>\n",
       "      <th>yourself</th>\n",
       "      <th>yourselves</th>\n",
       "      <th>ypu</th>\n",
       "      <th>yup</th>\n",
       "      <th>zbib</th>\n",
       "      <th>zeuge</th>\n",
       "      <th>zuma</th>\n",
       "    </tr>\n",
       "  </thead>\n",
       "  <tbody>\n",
       "    <tr>\n",
       "      <th>00</th>\n",
       "      <td>0.070043</td>\n",
       "      <td>0.000312</td>\n",
       "      <td>0.000000</td>\n",
       "      <td>0.000000</td>\n",
       "      <td>0.000000</td>\n",
       "      <td>0.0</td>\n",
       "      <td>0.0</td>\n",
       "      <td>0.002954</td>\n",
       "      <td>0.000284</td>\n",
       "      <td>0.00033</td>\n",
       "      <td>...</td>\n",
       "      <td>0.000298</td>\n",
       "      <td>0.000294</td>\n",
       "      <td>0.0</td>\n",
       "      <td>0.0</td>\n",
       "      <td>0.0</td>\n",
       "      <td>0.0</td>\n",
       "      <td>0.0</td>\n",
       "      <td>0.0</td>\n",
       "      <td>0.0</td>\n",
       "      <td>0.0</td>\n",
       "    </tr>\n",
       "    <tr>\n",
       "      <th>000</th>\n",
       "      <td>0.000000</td>\n",
       "      <td>0.003021</td>\n",
       "      <td>0.000000</td>\n",
       "      <td>0.000000</td>\n",
       "      <td>0.000000</td>\n",
       "      <td>0.0</td>\n",
       "      <td>0.0</td>\n",
       "      <td>0.002210</td>\n",
       "      <td>0.000284</td>\n",
       "      <td>0.00033</td>\n",
       "      <td>...</td>\n",
       "      <td>0.000490</td>\n",
       "      <td>0.000490</td>\n",
       "      <td>0.0</td>\n",
       "      <td>0.0</td>\n",
       "      <td>0.0</td>\n",
       "      <td>0.0</td>\n",
       "      <td>0.0</td>\n",
       "      <td>0.0</td>\n",
       "      <td>0.0</td>\n",
       "      <td>0.0</td>\n",
       "    </tr>\n",
       "    <tr>\n",
       "      <th>0098</th>\n",
       "      <td>0.000000</td>\n",
       "      <td>0.000312</td>\n",
       "      <td>0.054181</td>\n",
       "      <td>0.000000</td>\n",
       "      <td>0.000000</td>\n",
       "      <td>0.0</td>\n",
       "      <td>0.0</td>\n",
       "      <td>0.000329</td>\n",
       "      <td>0.000284</td>\n",
       "      <td>0.00033</td>\n",
       "      <td>...</td>\n",
       "      <td>0.000298</td>\n",
       "      <td>0.000294</td>\n",
       "      <td>0.0</td>\n",
       "      <td>0.0</td>\n",
       "      <td>0.0</td>\n",
       "      <td>0.0</td>\n",
       "      <td>0.0</td>\n",
       "      <td>0.0</td>\n",
       "      <td>0.0</td>\n",
       "      <td>0.0</td>\n",
       "    </tr>\n",
       "    <tr>\n",
       "      <th>020359</th>\n",
       "      <td>0.000000</td>\n",
       "      <td>0.000312</td>\n",
       "      <td>0.000000</td>\n",
       "      <td>0.040777</td>\n",
       "      <td>0.000000</td>\n",
       "      <td>0.0</td>\n",
       "      <td>0.0</td>\n",
       "      <td>0.000329</td>\n",
       "      <td>0.000284</td>\n",
       "      <td>0.00033</td>\n",
       "      <td>...</td>\n",
       "      <td>0.000298</td>\n",
       "      <td>0.000294</td>\n",
       "      <td>0.0</td>\n",
       "      <td>0.0</td>\n",
       "      <td>0.0</td>\n",
       "      <td>0.0</td>\n",
       "      <td>0.0</td>\n",
       "      <td>0.0</td>\n",
       "      <td>0.0</td>\n",
       "      <td>0.0</td>\n",
       "    </tr>\n",
       "    <tr>\n",
       "      <th>031349</th>\n",
       "      <td>0.000000</td>\n",
       "      <td>0.000312</td>\n",
       "      <td>0.000000</td>\n",
       "      <td>0.000000</td>\n",
       "      <td>0.048983</td>\n",
       "      <td>0.0</td>\n",
       "      <td>0.0</td>\n",
       "      <td>0.000329</td>\n",
       "      <td>0.000284</td>\n",
       "      <td>0.00033</td>\n",
       "      <td>...</td>\n",
       "      <td>0.000557</td>\n",
       "      <td>0.000811</td>\n",
       "      <td>0.0</td>\n",
       "      <td>0.0</td>\n",
       "      <td>0.0</td>\n",
       "      <td>0.0</td>\n",
       "      <td>0.0</td>\n",
       "      <td>0.0</td>\n",
       "      <td>0.0</td>\n",
       "      <td>0.0</td>\n",
       "    </tr>\n",
       "  </tbody>\n",
       "</table>\n",
       "<p>5 rows × 2727 columns</p>\n",
       "</div>"
      ],
      "text/plain": [
       "              00       000      0098    020359    031349  0878  0b1fatransfer  \\\n",
       "00      0.070043  0.000312  0.000000  0.000000  0.000000   0.0            0.0   \n",
       "000     0.000000  0.003021  0.000000  0.000000  0.000000   0.0            0.0   \n",
       "0098    0.000000  0.000312  0.054181  0.000000  0.000000   0.0            0.0   \n",
       "020359  0.000000  0.000312  0.000000  0.040777  0.000000   0.0            0.0   \n",
       "031349  0.000000  0.000312  0.000000  0.000000  0.048983   0.0            0.0   \n",
       "\n",
       "              10      1000      10k  ...       you      your  yours  yourself  \\\n",
       "00      0.002954  0.000284  0.00033  ...  0.000298  0.000294    0.0       0.0   \n",
       "000     0.002210  0.000284  0.00033  ...  0.000490  0.000490    0.0       0.0   \n",
       "0098    0.000329  0.000284  0.00033  ...  0.000298  0.000294    0.0       0.0   \n",
       "020359  0.000329  0.000284  0.00033  ...  0.000298  0.000294    0.0       0.0   \n",
       "031349  0.000329  0.000284  0.00033  ...  0.000557  0.000811    0.0       0.0   \n",
       "\n",
       "        yourselves  ypu  yup  zbib  zeuge  zuma  \n",
       "00             0.0  0.0  0.0   0.0    0.0   0.0  \n",
       "000            0.0  0.0  0.0   0.0    0.0   0.0  \n",
       "0098           0.0  0.0  0.0   0.0    0.0   0.0  \n",
       "020359         0.0  0.0  0.0   0.0    0.0   0.0  \n",
       "031349         0.0  0.0  0.0   0.0    0.0   0.0  \n",
       "\n",
       "[5 rows x 2727 columns]"
      ]
     },
     "execution_count": 60,
     "metadata": {},
     "output_type": "execute_result"
    }
   ],
   "source": [
    "word_word_co.head()"
   ]
  },
  {
   "cell_type": "markdown",
   "metadata": {},
   "source": [
    "### Calculate Word Trust ratio"
   ]
  },
  {
   "cell_type": "code",
   "execution_count": 61,
   "metadata": {},
   "outputs": [],
   "source": [
    "word_entropy = pd.DataFrame(data=np.nan_to_num(calculate_entropy(word_word_co.T, base=2)), columns=[0], index=vocabulary)[0]\n",
    "\n",
    "pivot_entropy = word_entropy\n",
    "pivot_entropy = (pivot_entropy - pivot_entropy.mean())\n",
    "\n",
    "word_weight = pd.DataFrame(data=gaussian(pivot_entropy), columns=[0], index=vocabulary)[0]"
   ]
  },
  {
   "cell_type": "code",
   "execution_count": 62,
   "metadata": {
    "scrolled": true
   },
   "outputs": [
    {
     "data": {
      "image/png": "[encoded data removed]",
      "text/plain": [
       "<Figure size 1080x360 with 6 Axes>"
      ]
     },
     "metadata": {
      "needs_background": "light"
     },
     "output_type": "display_data"
    }
   ],
   "source": [
    "# words = [\"israel\", \"the\", \"algorithm\", \"program\", \"and\"]\n",
    "words = [\"driver\", \"usually\", \"clear\", \"window\"]\n",
    "# words = np.array(vocabulary)[np.random.randint(len(vocabulary), size=5)]\n",
    "\n",
    "fig = plt.figure(figsize=(15,5), tight_layout=True)\n",
    "ax11 = fig.add_subplot(231)\n",
    "ax12 = fig.add_subplot(232)\n",
    "ax13 = fig.add_subplot(233)\n",
    "ax21 = fig.add_subplot(234)\n",
    "ax22 = fig.add_subplot(235)\n",
    "ax23 = fig.add_subplot(236)\n",
    "\n",
    "ax11.set_title(f\"Word Trust factor\")\n",
    "ax11.bar(words, word_weight[words])\n",
    "\n",
    "ax12.set_title(f\"Entropy\")\n",
    "ax12.bar(words, word_entropy[words])\n",
    "\n",
    "ax13.set_title(f\"Word Frequency\")\n",
    "ax13.bar(words, word_freq_in_doc.sum(0)[words])\n",
    "\n",
    "word_weight = word_weight / word_weight.max()\n",
    "\n",
    "ax21.set_title(f\"Relative Word Trust factor\")\n",
    "ax21.bar(words, word_weight[words])\n",
    "\n",
    "ax22.set_title(f\"Pivot Entropy\")\n",
    "ax22.bar(words, abs(pivot_entropy)[words])\n",
    "\n",
    "ax23.set_title(f\"Word Frequency Normalized\")\n",
    "ax23.bar(words, (probability)[words])\n",
    "\n",
    "plt.show()"
   ]
  },
  {
   "cell_type": "code",
   "execution_count": 63,
   "metadata": {},
   "outputs": [
    {
     "data": {
      "text/plain": [
       "reporting     1.0\n",
       "bias          1.0\n",
       "propaganda    1.0\n",
       "goering       1.0\n",
       "press         1.0\n",
       "Name: 0, dtype: float64"
      ]
     },
     "execution_count": 63,
     "metadata": {},
     "output_type": "execute_result"
    }
   ],
   "source": [
    "word_weight.sort_values(ascending=False).head(5)"
   ]
  },
  {
   "cell_type": "markdown",
   "metadata": {},
   "source": [
    "### Observe word_word_co ratios"
   ]
  },
  {
   "cell_type": "code",
   "execution_count": 15,
   "metadata": {},
   "outputs": [],
   "source": [
    "wwc = (word_word_co * word_weight)"
   ]
  },
  {
   "cell_type": "code",
   "execution_count": 16,
   "metadata": {
    "scrolled": true
   },
   "outputs": [
    {
     "name": "stdout",
     "output_type": "stream",
     "text": [
      "=== Ploting software against ['driver', 'usually', 'clear', 'window'] ===\n"
     ]
    },
    {
     "data": {
      "image/png": "[encoded data removed]",
      "text/plain": [
       "<Figure size 720x216 with 2 Axes>"
      ]
     },
     "metadata": {
      "needs_background": "light"
     },
     "output_type": "display_data"
    }
   ],
   "source": [
    "word = \"software\"\n",
    "\n",
    "fig = plt.figure(figsize=(10,3), tight_layout=True)\n",
    "ax1 = fig.add_subplot(121)\n",
    "ax2 = fig.add_subplot(122)\n",
    "\n",
    "print(f\"=== Ploting {word} against {words} ===\")\n",
    "\n",
    "values = word_word_co.loc[word][words]\n",
    "ax1.set_title(f\"word_word_co\")\n",
    "ax1.set_ylim(0, 1.5*values.max())\n",
    "ax1.bar(words, values)\n",
    "\n",
    "values = wwc.loc[word][words]\n",
    "ax2.set_title(f\"updated word_word_co\")\n",
    "ax2.set_ylim(0, 1.5*values.max())\n",
    "ax2.bar(words, values)\n",
    "\n",
    "plt.show()"
   ]
  },
  {
   "cell_type": "code",
   "execution_count": 17,
   "metadata": {},
   "outputs": [
    {
     "data": {
      "text/plain": [
       "civil       0.072930\n",
       "war         0.072930\n",
       "currency    0.072930\n",
       "coin        0.072930\n",
       "various     0.034879\n",
       "require     0.030262\n",
       "motto       0.008162\n",
       "50          0.005253\n",
       "since       0.002067\n",
       "didn        0.001214\n",
       "Name: war, dtype: float64"
      ]
     },
     "execution_count": 17,
     "metadata": {},
     "output_type": "execute_result"
    }
   ],
   "source": [
    "wwc.loc[\"war\"].sort_values(ascending=False).head(10)"
   ]
  },
  {
   "cell_type": "code",
   "execution_count": 18,
   "metadata": {},
   "outputs": [
    {
     "data": {
      "text/plain": [
       "war         0.089770\n",
       "currency    0.089770\n",
       "coin        0.089770\n",
       "civil       0.089770\n",
       "various     0.037669\n",
       "require     0.031299\n",
       "motto       0.008694\n",
       "50          0.005601\n",
       "since       0.002068\n",
       "didn        0.001658\n",
       "Name: war, dtype: float64"
      ]
     },
     "execution_count": 18,
     "metadata": {},
     "output_type": "execute_result"
    }
   ],
   "source": [
    "word_word_co.loc[\"war\"].sort_values(ascending=False).head(10)"
   ]
  },
  {
   "cell_type": "markdown",
   "metadata": {},
   "source": [
    "### Update word_word_co with word_word_co"
   ]
  },
  {
   "cell_type": "code",
   "execution_count": 19,
   "metadata": {},
   "outputs": [],
   "source": [
    "word_word_co = wwc.copy()"
   ]
  },
  {
   "cell_type": "markdown",
   "metadata": {},
   "source": [
    "### Setup Doc Word Distr"
   ]
  },
  {
   "cell_type": "code",
   "execution_count": 72,
   "metadata": {},
   "outputs": [],
   "source": [
    "doc_word_distr = word_doc_frequency_norm * word_weight"
   ]
  },
  {
   "cell_type": "code",
   "execution_count": 73,
   "metadata": {
    "scrolled": true
   },
   "outputs": [
    {
     "data": {
      "text/html": [
       "<div>\n",
       "<style scoped>\n",
       "    .dataframe tbody tr th:only-of-type {\n",
       "        vertical-align: middle;\n",
       "    }\n",
       "\n",
       "    .dataframe tbody tr th {\n",
       "        vertical-align: top;\n",
       "    }\n",
       "\n",
       "    .dataframe thead th {\n",
       "        text-align: right;\n",
       "    }\n",
       "</style>\n",
       "<table border=\"1\" class=\"dataframe\">\n",
       "  <thead>\n",
       "    <tr style=\"text-align: right;\">\n",
       "      <th></th>\n",
       "      <th>00</th>\n",
       "      <th>000</th>\n",
       "      <th>0098</th>\n",
       "      <th>020359</th>\n",
       "      <th>031349</th>\n",
       "      <th>0878</th>\n",
       "      <th>0b1fatransfer</th>\n",
       "      <th>10</th>\n",
       "      <th>1000</th>\n",
       "      <th>10k</th>\n",
       "      <th>...</th>\n",
       "      <th>you</th>\n",
       "      <th>your</th>\n",
       "      <th>yours</th>\n",
       "      <th>yourself</th>\n",
       "      <th>yourselves</th>\n",
       "      <th>ypu</th>\n",
       "      <th>yup</th>\n",
       "      <th>zbib</th>\n",
       "      <th>zeuge</th>\n",
       "      <th>zuma</th>\n",
       "    </tr>\n",
       "  </thead>\n",
       "  <tbody>\n",
       "    <tr>\n",
       "      <th>0</th>\n",
       "      <td>0.0</td>\n",
       "      <td>0.0</td>\n",
       "      <td>0.0</td>\n",
       "      <td>0.0</td>\n",
       "      <td>0.0</td>\n",
       "      <td>0.0</td>\n",
       "      <td>0.0</td>\n",
       "      <td>0.0</td>\n",
       "      <td>0.0</td>\n",
       "      <td>0.0</td>\n",
       "      <td>...</td>\n",
       "      <td>0.000003</td>\n",
       "      <td>0.0</td>\n",
       "      <td>0.0</td>\n",
       "      <td>0.0</td>\n",
       "      <td>0.0</td>\n",
       "      <td>0.0</td>\n",
       "      <td>0.0</td>\n",
       "      <td>0.0</td>\n",
       "      <td>0.0</td>\n",
       "      <td>0.0</td>\n",
       "    </tr>\n",
       "    <tr>\n",
       "      <th>1</th>\n",
       "      <td>0.0</td>\n",
       "      <td>0.0</td>\n",
       "      <td>0.0</td>\n",
       "      <td>0.0</td>\n",
       "      <td>0.0</td>\n",
       "      <td>0.0</td>\n",
       "      <td>0.0</td>\n",
       "      <td>0.0</td>\n",
       "      <td>0.0</td>\n",
       "      <td>0.0</td>\n",
       "      <td>...</td>\n",
       "      <td>0.000000</td>\n",
       "      <td>0.0</td>\n",
       "      <td>0.0</td>\n",
       "      <td>0.0</td>\n",
       "      <td>0.0</td>\n",
       "      <td>0.0</td>\n",
       "      <td>0.0</td>\n",
       "      <td>0.0</td>\n",
       "      <td>0.0</td>\n",
       "      <td>0.0</td>\n",
       "    </tr>\n",
       "    <tr>\n",
       "      <th>2</th>\n",
       "      <td>0.0</td>\n",
       "      <td>0.0</td>\n",
       "      <td>0.0</td>\n",
       "      <td>0.0</td>\n",
       "      <td>0.0</td>\n",
       "      <td>0.0</td>\n",
       "      <td>0.0</td>\n",
       "      <td>0.0</td>\n",
       "      <td>0.0</td>\n",
       "      <td>0.0</td>\n",
       "      <td>...</td>\n",
       "      <td>0.000000</td>\n",
       "      <td>0.0</td>\n",
       "      <td>0.0</td>\n",
       "      <td>0.0</td>\n",
       "      <td>0.0</td>\n",
       "      <td>0.0</td>\n",
       "      <td>0.0</td>\n",
       "      <td>0.0</td>\n",
       "      <td>0.0</td>\n",
       "      <td>0.0</td>\n",
       "    </tr>\n",
       "    <tr>\n",
       "      <th>3</th>\n",
       "      <td>0.0</td>\n",
       "      <td>0.0</td>\n",
       "      <td>0.0</td>\n",
       "      <td>0.0</td>\n",
       "      <td>0.0</td>\n",
       "      <td>0.0</td>\n",
       "      <td>0.0</td>\n",
       "      <td>0.0</td>\n",
       "      <td>0.0</td>\n",
       "      <td>0.0</td>\n",
       "      <td>...</td>\n",
       "      <td>0.000005</td>\n",
       "      <td>0.0</td>\n",
       "      <td>0.0</td>\n",
       "      <td>0.0</td>\n",
       "      <td>0.0</td>\n",
       "      <td>0.0</td>\n",
       "      <td>0.0</td>\n",
       "      <td>0.0</td>\n",
       "      <td>0.0</td>\n",
       "      <td>0.0</td>\n",
       "    </tr>\n",
       "    <tr>\n",
       "      <th>4</th>\n",
       "      <td>0.0</td>\n",
       "      <td>0.0</td>\n",
       "      <td>0.0</td>\n",
       "      <td>0.0</td>\n",
       "      <td>0.0</td>\n",
       "      <td>0.0</td>\n",
       "      <td>0.0</td>\n",
       "      <td>0.0</td>\n",
       "      <td>0.0</td>\n",
       "      <td>0.0</td>\n",
       "      <td>...</td>\n",
       "      <td>0.000000</td>\n",
       "      <td>0.0</td>\n",
       "      <td>0.0</td>\n",
       "      <td>0.0</td>\n",
       "      <td>0.0</td>\n",
       "      <td>0.0</td>\n",
       "      <td>0.0</td>\n",
       "      <td>0.0</td>\n",
       "      <td>0.0</td>\n",
       "      <td>0.0</td>\n",
       "    </tr>\n",
       "  </tbody>\n",
       "</table>\n",
       "<p>5 rows × 2727 columns</p>\n",
       "</div>"
      ],
      "text/plain": [
       "    00  000  0098  020359  031349  0878  0b1fatransfer   10  1000  10k  ...  \\\n",
       "0  0.0  0.0   0.0     0.0     0.0   0.0            0.0  0.0   0.0  0.0  ...   \n",
       "1  0.0  0.0   0.0     0.0     0.0   0.0            0.0  0.0   0.0  0.0  ...   \n",
       "2  0.0  0.0   0.0     0.0     0.0   0.0            0.0  0.0   0.0  0.0  ...   \n",
       "3  0.0  0.0   0.0     0.0     0.0   0.0            0.0  0.0   0.0  0.0  ...   \n",
       "4  0.0  0.0   0.0     0.0     0.0   0.0            0.0  0.0   0.0  0.0  ...   \n",
       "\n",
       "        you  your  yours  yourself  yourselves  ypu  yup  zbib  zeuge  zuma  \n",
       "0  0.000003   0.0    0.0       0.0         0.0  0.0  0.0   0.0    0.0   0.0  \n",
       "1  0.000000   0.0    0.0       0.0         0.0  0.0  0.0   0.0    0.0   0.0  \n",
       "2  0.000000   0.0    0.0       0.0         0.0  0.0  0.0   0.0    0.0   0.0  \n",
       "3  0.000005   0.0    0.0       0.0         0.0  0.0  0.0   0.0    0.0   0.0  \n",
       "4  0.000000   0.0    0.0       0.0         0.0  0.0  0.0   0.0    0.0   0.0  \n",
       "\n",
       "[5 rows x 2727 columns]"
      ]
     },
     "execution_count": 73,
     "metadata": {},
     "output_type": "execute_result"
    }
   ],
   "source": [
    "doc_word_distr.head()"
   ]
  },
  {
   "cell_type": "code",
   "execution_count": 98,
   "metadata": {},
   "outputs": [
    {
     "data": {
      "text/plain": [
       "to          0.069767\n",
       "the         0.069767\n",
       "it          0.069767\n",
       "charon      0.046512\n",
       "shadow      0.046512\n",
       "and         0.046512\n",
       "of          0.046512\n",
       "due         0.046512\n",
       "pluto       0.046512\n",
       "distance    0.023256\n",
       "Name: 120, dtype: float64"
      ]
     },
     "execution_count": 98,
     "metadata": {},
     "output_type": "execute_result"
    }
   ],
   "source": [
    "doc_index = 120\n",
    "word_doc_frequency_norm.iloc[doc_index].sort_values(ascending=False).head(10)"
   ]
  },
  {
   "cell_type": "code",
   "execution_count": 99,
   "metadata": {},
   "outputs": [
    {
     "data": {
      "text/plain": [
       "shadow     0.046387\n",
       "pluto      0.045477\n",
       "charon     0.045477\n",
       "due        0.043808\n",
       "orbit      0.023231\n",
       "             ...   \n",
       "pause      0.000000\n",
       "paul       0.000000\n",
       "patrick    0.000000\n",
       "pastor     0.000000\n",
       "00         0.000000\n",
       "Name: 120, Length: 2727, dtype: float64"
      ]
     },
     "execution_count": 99,
     "metadata": {},
     "output_type": "execute_result"
    }
   ],
   "source": [
    "doc_word_distr.loc[doc_index].sort_values(ascending=False)"
   ]
  },
  {
   "cell_type": "code",
   "execution_count": 100,
   "metadata": {
    "scrolled": true
   },
   "outputs": [
    {
     "data": {
      "text/plain": [
       "occur         0.022684\n",
       "versa         0.022684\n",
       "pluto         0.022684\n",
       "george        0.022684\n",
       "distance      0.022684\n",
       "charon        0.022684\n",
       "krumins       0.022684\n",
       "elliptical    0.022684\n",
       "sun           0.022684\n",
       "freeze        0.022684\n",
       "dtype: float64"
      ]
     },
     "execution_count": 100,
     "metadata": {},
     "output_type": "execute_result"
    }
   ],
   "source": [
    "(doc_word_distr.loc[doc_index] * word_word_co.T).sum(1).sort_values(ascending=False).head(10)"
   ]
  },
  {
   "cell_type": "code",
   "execution_count": 101,
   "metadata": {},
   "outputs": [
    {
     "name": "stdout",
     "output_type": "stream",
     "text": [
      "Topic: sci.space\n",
      "==================================================\n",
      "it s my understand that the freeze will start to occur because of the grow distance of pluto and charon from the sun due to it s elliptical orbit it be not due to shadow effect pluto can shadow charon and vice versa george krumins\n"
     ]
    }
   ],
   "source": [
    "print(f\"Topic: {labels[doc_index]}\\n{'='*50}\\n{train_docs[doc_index]}\")"
   ]
  },
  {
   "cell_type": "code",
   "execution_count": 23,
   "metadata": {},
   "outputs": [
    {
     "name": "stdout",
     "output_type": "stream",
     "text": [
      "['lock', 'door', 'woman', 'apparently', 'key']\n"
     ]
    }
   ],
   "source": [
    "for di in range(len(doc_word_distr.index)):\n",
    "    print(doc_word_distr.iloc[di].sort_values(ascending=False).head(5).index.to_list())\n",
    "    break"
   ]
  },
  {
   "cell_type": "code",
   "execution_count": 102,
   "metadata": {
    "scrolled": true
   },
   "outputs": [
    {
     "data": {
      "application/vnd.jupyter.widget-view+json": {
       "model_id": "9c24213941794102b2a794b17e706995",
       "version_major": 2,
       "version_minor": 0
      },
      "text/plain": [
       "HBox(children=(FloatProgress(value=0.0, max=400.0), HTML(value='')))"
      ]
     },
     "metadata": {},
     "output_type": "display_data"
    },
    {
     "name": "stdout",
     "output_type": "stream",
     "text": [
      "\n"
     ]
    }
   ],
   "source": [
    "dwd = doc_word_distr * 0\n",
    "\n",
    "for doc_index in tqdm(range(len(doc_word_distr))):\n",
    "    dwd.loc[doc_index] = (doc_word_distr.loc[doc_index] * word_word_co.T).sum(1)\n",
    "\n",
    "doc_word_distr = dwd"
   ]
  },
  {
   "cell_type": "code",
   "execution_count": 103,
   "metadata": {},
   "outputs": [],
   "source": [
    "doc_word_distr = dwd"
   ]
  },
  {
   "cell_type": "markdown",
   "metadata": {},
   "source": [
    "### Define Latent partitions"
   ]
  },
  {
   "cell_type": "code",
   "execution_count": 140,
   "metadata": {},
   "outputs": [
    {
     "name": "stdout",
     "output_type": "stream",
     "text": [
      "distr_params has shape (400, 2)\n"
     ]
    }
   ],
   "source": [
    "# reduction = None\n",
    "reduction = \"pca\"\n",
    "# reduction = \"normal\"\n",
    "\n",
    "if reduction is None:\n",
    "    columns = doc_word_distr.columns\n",
    "    param_values = doc_word_distr.values\n",
    "\n",
    "if reduction == \"pca\":\n",
    "    num_of_components = 2\n",
    "    columns = list(range(num_of_components))\n",
    "    \n",
    "    pca = PCA(n_components=num_of_components, whiten=True)\n",
    "    param_values = pca.fit_transform(doc_word_distr)\n",
    "\n",
    "if reduction == \"normal\":\n",
    "    columns = [\"mean\", \"std\"]\n",
    "    column_values = [doc_word_distr.mean(1), doc_word_distr.std(1)]\n",
    "    param_values = np.array(column_values).T\n",
    "    \n",
    "distr_params = pd.DataFrame(data=param_values, columns=columns, index=list(range(len(doc_word_distr))))\n",
    "print(f\"distr_params has shape {distr_params.shape}\")"
   ]
  },
  {
   "cell_type": "code",
   "execution_count": 141,
   "metadata": {
    "scrolled": false
   },
   "outputs": [
    {
     "data": {
      "text/html": [
       "<div>\n",
       "<style scoped>\n",
       "    .dataframe tbody tr th:only-of-type {\n",
       "        vertical-align: middle;\n",
       "    }\n",
       "\n",
       "    .dataframe tbody tr th {\n",
       "        vertical-align: top;\n",
       "    }\n",
       "\n",
       "    .dataframe thead th {\n",
       "        text-align: right;\n",
       "    }\n",
       "</style>\n",
       "<table border=\"1\" class=\"dataframe\">\n",
       "  <thead>\n",
       "    <tr style=\"text-align: right;\">\n",
       "      <th></th>\n",
       "      <th>0</th>\n",
       "      <th>1</th>\n",
       "    </tr>\n",
       "  </thead>\n",
       "  <tbody>\n",
       "    <tr>\n",
       "      <th>0</th>\n",
       "      <td>-0.077801</td>\n",
       "      <td>-0.255003</td>\n",
       "    </tr>\n",
       "    <tr>\n",
       "      <th>1</th>\n",
       "      <td>0.042138</td>\n",
       "      <td>0.024511</td>\n",
       "    </tr>\n",
       "    <tr>\n",
       "      <th>2</th>\n",
       "      <td>-0.133528</td>\n",
       "      <td>-0.085143</td>\n",
       "    </tr>\n",
       "    <tr>\n",
       "      <th>3</th>\n",
       "      <td>-0.169421</td>\n",
       "      <td>-0.165796</td>\n",
       "    </tr>\n",
       "    <tr>\n",
       "      <th>4</th>\n",
       "      <td>-0.171291</td>\n",
       "      <td>0.450158</td>\n",
       "    </tr>\n",
       "  </tbody>\n",
       "</table>\n",
       "</div>"
      ],
      "text/plain": [
       "          0         1\n",
       "0 -0.077801 -0.255003\n",
       "1  0.042138  0.024511\n",
       "2 -0.133528 -0.085143\n",
       "3 -0.169421 -0.165796\n",
       "4 -0.171291  0.450158"
      ]
     },
     "execution_count": 141,
     "metadata": {},
     "output_type": "execute_result"
    }
   ],
   "source": [
    "distr_params.head()"
   ]
  },
  {
   "cell_type": "code",
   "execution_count": 142,
   "metadata": {
    "scrolled": true
   },
   "outputs": [],
   "source": [
    "doc_entropy = pd.DataFrame(data=np.nan_to_num(calculate_entropy(doc_word_distr.T, base=2)), columns=[0], index=distr_params.index)[0]\n",
    "\n",
    "# doc_weight = pd.DataFrame(data=gaussian2(doc_entropy), columns=[0], index=distr_params.index)[0]\n",
    "doc_weight = pd.DataFrame(data=gaussian(doc_entropy - doc_entropy.mean()), columns=[0], index=distr_params.index)[0]\n",
    "\n",
    "doc_weight = doc_weight / doc_weight.sum()"
   ]
  },
  {
   "cell_type": "code",
   "execution_count": 143,
   "metadata": {},
   "outputs": [
    {
     "name": "stdout",
     "output_type": "stream",
     "text": [
      "Topic: rec.autos\n",
      "==================================================\n",
      "ites\n"
     ]
    }
   ],
   "source": [
    "doc_index = doc_weight.argmin()\n",
    "print(f\"Topic: {labels[doc_index]}\\n{'='*50}\\n{train_docs[doc_index]}\")"
   ]
  },
  {
   "cell_type": "code",
   "execution_count": 144,
   "metadata": {
    "scrolled": false
   },
   "outputs": [
    {
     "data": {
      "text/plain": [
       "ites         1.835613e-07\n",
       "loser        6.611702e-11\n",
       "message      6.526741e-11\n",
       "23           6.455430e-11\n",
       "retard       6.436886e-11\n",
       "objective    6.422573e-11\n",
       "hey          6.379765e-11\n",
       "hillary      6.352501e-11\n",
       "cheat        6.352501e-11\n",
       "let          6.323682e-11\n",
       "Name: 254, dtype: float64"
      ]
     },
     "execution_count": 144,
     "metadata": {},
     "output_type": "execute_result"
    }
   ],
   "source": [
    "doc_word_distr.iloc[doc_index].sort_values(ascending=False).head(10)"
   ]
  },
  {
   "cell_type": "code",
   "execution_count": 145,
   "metadata": {},
   "outputs": [
    {
     "name": "stdout",
     "output_type": "stream",
     "text": [
      "Topic: sci.space\n",
      "==================================================\n",
      "how can you tell they re identical you get one of them star drek the next syndication neutrino scanner\n"
     ]
    }
   ],
   "source": [
    "doc_index = doc_weight.argmax()\n",
    "print(f\"Topic: {labels[doc_index]}\\n{'='*50}\\n{train_docs[doc_index]}\")"
   ]
  },
  {
   "cell_type": "code",
   "execution_count": 146,
   "metadata": {
    "scrolled": false
   },
   "outputs": [
    {
     "data": {
      "text/plain": [
       "syndication    0.027260\n",
       "identical      0.027260\n",
       "scanner        0.027260\n",
       "neutrino       0.027260\n",
       "drek           0.027260\n",
       "enlighten      0.005072\n",
       "karla          0.005023\n",
       "ironic         0.004043\n",
       "contridict     0.003561\n",
       "negation       0.003561\n",
       "Name: 221, dtype: float64"
      ]
     },
     "execution_count": 146,
     "metadata": {},
     "output_type": "execute_result"
    }
   ],
   "source": [
    "doc_word_distr.iloc[doc_index].sort_values(ascending=False).head(10)"
   ]
  },
  {
   "cell_type": "code",
   "execution_count": 147,
   "metadata": {},
   "outputs": [
    {
     "name": "stdout",
     "output_type": "stream",
     "text": [
      "Topic: sci.space\n",
      "==================================================\n",
      "how can you tell they re identical you get one of them star drek the next syndication neutrino scanner\n"
     ]
    }
   ],
   "source": [
    "print(f\"Topic: {labels[doc_index]}\\n{'='*50}\\n{train_docs[doc_index]}\")"
   ]
  },
  {
   "cell_type": "markdown",
   "metadata": {},
   "source": [
    "### Using Kmeans MiniBatch"
   ]
  },
  {
   "cell_type": "code",
   "execution_count": 148,
   "metadata": {},
   "outputs": [],
   "source": [
    "num_of_topics = 4"
   ]
  },
  {
   "cell_type": "code",
   "execution_count": 149,
   "metadata": {},
   "outputs": [],
   "source": [
    "kmeans_model = KMeans(n_clusters=num_of_topics, random_state=0).fit(distr_params)\n",
    "# kmeans_model = KMeans(n_clusters=num_of_topics, random_state=0).fit(distr_params, sample_weight=distr_params.std(1))\n",
    "# kmeans_model = KMeans(n_clusters=num_of_topics, random_state=0).fit(distr_params, sample_weight=doc_weight)"
   ]
  },
  {
   "cell_type": "code",
   "execution_count": 150,
   "metadata": {},
   "outputs": [
    {
     "name": "stdout",
     "output_type": "stream",
     "text": [
      "dist has shape (400, 4), predicted_labels has shape (400,)\n"
     ]
    }
   ],
   "source": [
    "dist = kmeans_model.transform(distr_params)\n",
    "predicted_labels = kmeans_model.predict(distr_params)\n",
    "wtf = gaussian(normalize(dist, norm=\"l1\", axis=1))\n",
    "\n",
    "print(f\"dist has shape {dist.shape}, predicted_labels has shape {predicted_labels.shape}\")"
   ]
  },
  {
   "cell_type": "code",
   "execution_count": 151,
   "metadata": {},
   "outputs": [
    {
     "data": {
      "text/plain": [
       "Counter({0: 388, 2: 2, 3: 8, 1: 2})"
      ]
     },
     "execution_count": 151,
     "metadata": {},
     "output_type": "execute_result"
    }
   ],
   "source": [
    "Counter(predicted_labels)"
   ]
  },
  {
   "cell_type": "code",
   "execution_count": 152,
   "metadata": {},
   "outputs": [
    {
     "data": {
      "image/png": "[encoded data removed]",
      "text/plain": [
       "<Figure size 1080x360 with 2 Axes>"
      ]
     },
     "metadata": {
      "needs_background": "light"
     },
     "output_type": "display_data"
    }
   ],
   "source": [
    "fig = plt.figure(figsize=(15,5), tight_layout=True)\n",
    "ax1 = fig.add_subplot(121)\n",
    "ax2 = fig.add_subplot(122)\n",
    "\n",
    "ax1.set_title(\"Documents Space\")\n",
    "ax1.scatter(param_values[:, 0], param_values[:,1], c = label_indices)\n",
    "ax1.set_xlabel(columns[0])\n",
    "ax1.set_xlabel(columns[1])\n",
    "\n",
    "ax2.set_title(\"Kmeans Documents Space\")\n",
    "ax2.scatter(param_values[:, 0], param_values[:,1], c = predicted_labels)\n",
    "ax2.set_xlabel(columns[0])\n",
    "ax2.set_xlabel(columns[1])\n",
    "\n",
    "plt.show()"
   ]
  },
  {
   "cell_type": "code",
   "execution_count": 153,
   "metadata": {
    "scrolled": true
   },
   "outputs": [],
   "source": [
    "voc_array = np.array(vocabulary)\n",
    "\n",
    "def get_topwords2(topic):\n",
    "    indices = np.where(predicted_labels == topic)[0]\n",
    "    print(doc_word_distr.iloc[indices].mean(0).sort_values(ascending=False).head(10))\n",
    "\n",
    "def get_topwords(topic):\n",
    "    indices = np.where(predicted_labels == topic)[0]\n",
    "    print((doc_word_distr.T * wtf[:, topic]).T.iloc[indices].mean(0).sort_values(ascending=False).head(10))\n",
    "\n",
    "def get_topwords2(topic):\n",
    "    indices = np.where(predicted_labels == topic)[0]\n",
    "    xv = (doc_word_distr.T * wtf[:, topic]).T.iloc[indices]\n",
    "    xvc = (xv > 0).sum(0)\n",
    "    print((xv.sum(0) * calculate_trust_ratio(xvc) / xvc).sort_values(ascending=False).head(10))\n",
    "\n",
    "def get_top2(topic):\n",
    "    indices = dist[:, topic].argsort()\n",
    "    print(labels[indices[:10]])\n",
    "    get_topwords(topic)\n",
    "    \n",
    "def get_top(topic):\n",
    "    indices = np.where(predicted_labels == topic)[0]\n",
    "    count = Counter()\n",
    "    for index in indices:\n",
    "        count[labels[index]] += wtf[index, topic]\n",
    "        \n",
    "    print(Counter(labels[indices]))\n",
    "    get_topwords(topic)"
   ]
  },
  {
   "cell_type": "code",
   "execution_count": 136,
   "metadata": {
    "scrolled": true
   },
   "outputs": [
    {
     "name": "stdout",
     "output_type": "stream",
     "text": [
      "Counter({'talk.politics.mideast': 4})\n",
      "birthday      0.033305\n",
      "45th          0.033305\n",
      "hillel        0.015009\n",
      "berkeley      0.015009\n",
      "messy         0.015009\n",
      "tonight       0.015009\n",
      "rubenstein    0.015009\n",
      "pm            0.015009\n",
      "wednesday     0.015009\n",
      "campus        0.015009\n",
      "dtype: float64\n"
     ]
    }
   ],
   "source": [
    "get_top(0)"
   ]
  },
  {
   "cell_type": "code",
   "execution_count": 137,
   "metadata": {},
   "outputs": [
    {
     "name": "stdout",
     "output_type": "stream",
     "text": [
      "Counter({'talk.politics.mideast': 2})\n",
      "dear          0.101988\n",
      "clearify      0.095038\n",
      "alumnus       0.011809\n",
      "graduate      0.011809\n",
      "yourselves    0.011809\n",
      "keefe         0.011809\n",
      "directory     0.011809\n",
      "anywhere      0.011809\n",
      "educate       0.011809\n",
      "particular    0.011795\n",
      "dtype: float64\n"
     ]
    }
   ],
   "source": [
    "get_top(1)"
   ]
  },
  {
   "cell_type": "code",
   "execution_count": 138,
   "metadata": {},
   "outputs": [
    {
     "name": "stdout",
     "output_type": "stream",
     "text": [
      "Counter({'rec.autos': 100, 'alt.atheism': 100, 'sci.space': 98, 'talk.politics.mideast': 93})\n",
      "enlighten     0.000720\n",
      "breathing     0.000659\n",
      "pollard       0.000641\n",
      "rich          0.000612\n",
      "inbreeding    0.000578\n",
      "trash         0.000578\n",
      "yare          0.000577\n",
      "bore          0.000565\n",
      "incredibly    0.000565\n",
      "calibra       0.000558\n",
      "dtype: float64\n"
     ]
    }
   ],
   "source": [
    "get_top(2)"
   ]
  },
  {
   "cell_type": "code",
   "execution_count": 139,
   "metadata": {},
   "outputs": [
    {
     "name": "stdout",
     "output_type": "stream",
     "text": [
      "Counter({'sci.space': 2, 'talk.politics.mideast': 1})\n",
      "asshole      0.040099\n",
      "26996        0.013957\n",
      "msb          0.013957\n",
      "brader       0.013957\n",
      "apoapsis     0.013957\n",
      "1993apr19    0.013957\n",
      "020359       0.013957\n",
      "unlikely     0.013957\n",
      "periapsis    0.013957\n",
      "sq           0.013957\n",
      "dtype: float64\n"
     ]
    }
   ],
   "source": [
    "get_top(3)"
   ]
  },
  {
   "cell_type": "markdown",
   "metadata": {},
   "source": [
    "### LDA"
   ]
  },
  {
   "cell_type": "code",
   "execution_count": null,
   "metadata": {},
   "outputs": [],
   "source": []
  }
 ],
 "metadata": {
  "kernelspec": {
   "display_name": "Python 3",
   "language": "python",
   "name": "python3"
  },
  "language_info": {
   "codemirror_mode": {
    "name": "ipython",
    "version": 3
   },
   "file_extension": ".py",
   "mimetype": "text/x-python",
   "name": "python",
   "nbconvert_exporter": "python",
   "pygments_lexer": "ipython3",
   "version": "3.7.2"
  }
 },
 "nbformat": 4,
 "nbformat_minor": 2
}

{
 "cells": [
  {
   "cell_type": "code",
   "execution_count": 1,
   "metadata": {
    "colab": {},
    "colab_type": "code",
    "id": "QfWTxubYcMxR"
   },
   "outputs": [],
   "source": [
    "%load_ext autoreload\n",
    "%autoreload 2"
   ]
  },
  {
   "cell_type": "markdown",
   "metadata": {
    "colab_type": "text",
    "id": "zS4cUkmGcMxd"
   },
   "source": [
    "### imports and utilities"
   ]
  },
  {
   "cell_type": "code",
   "execution_count": 2,
   "metadata": {
    "colab": {
     "base_uri": "https://localhost:8080/",
     "height": 224
    },
    "colab_type": "code",
    "id": "y8zAmrhTcMxe",
    "outputId": "c6f3bac6-21a3-449f-b17e-4d7d1c8a51b1"
   },
   "outputs": [],
   "source": [
    "!pip install nltk scikit-learn matplotlib scipy -q"
   ]
  },
  {
   "cell_type": "code",
   "execution_count": 3,
   "metadata": {
    "colab": {
     "base_uri": "https://localhost:8080/",
     "height": 153
    },
    "colab_type": "code",
    "id": "qOriDeG8cMxl",
    "outputId": "a4b003fc-c8fb-4937-e900-b5807b0d6d53"
   },
   "outputs": [
    {
     "name": "stderr",
     "output_type": "stream",
     "text": [
      "[nltk_data] Error loading punkt: <urlopen error [Errno 11001]\n",
      "[nltk_data]     getaddrinfo failed>\n",
      "[nltk_data] Error loading wordnet: <urlopen error [Errno 11001]\n",
      "[nltk_data]     getaddrinfo failed>\n",
      "[nltk_data] Error loading averaged_perceptron_tagger: <urlopen error\n",
      "[nltk_data]     [Errno 11001] getaddrinfo failed>\n"
     ]
    },
    {
     "data": {
      "text/plain": [
       "False"
      ]
     },
     "execution_count": 3,
     "metadata": {},
     "output_type": "execute_result"
    }
   ],
   "source": [
    "import nltk\n",
    "nltk.download('punkt')\n",
    "nltk.download('wordnet')\n",
    "nltk.download('averaged_perceptron_tagger')"
   ]
  },
  {
   "cell_type": "code",
   "execution_count": 49,
   "metadata": {
    "colab": {},
    "colab_type": "code",
    "id": "3liQaMKccMxs"
   },
   "outputs": [],
   "source": [
    "from collections import Counter\n",
    "from utils import *\n",
    "\n",
    "import numpy as np\n",
    "import pandas as pd\n",
    "import matplotlib.pyplot as plt\n",
    "\n",
    "from tqdm.notebook import tqdm\n",
    "from scipy.special import softmax\n",
    "from scipy.stats import norm\n",
    "from scipy.stats import entropy as calculate_entropy\n",
    "\n",
    "from sklearn.model_selection import train_test_split\n",
    "from sklearn.decomposition import PCA\n",
    "from sklearn.preprocessing import normalize\n",
    "from sklearn.datasets import fetch_20newsgroups\n",
    "from sklearn.cluster import KMeans, MiniBatchKMeans\n",
    "from sklearn.metrics.pairwise import cosine_similarity\n",
    "from sklearn.feature_extraction.text import CountVectorizer, TfidfVectorizer"
   ]
  },
  {
   "cell_type": "markdown",
   "metadata": {
    "colab_type": "text",
    "id": "gQtq2JhkcMxz"
   },
   "source": [
    "### load dataset"
   ]
  },
  {
   "cell_type": "code",
   "execution_count": 50,
   "metadata": {
    "colab": {
     "base_uri": "https://localhost:8080/",
     "height": 51
    },
    "colab_type": "code",
    "id": "vR1db5rUcMx0",
    "outputId": "8498f3d2-9ac1-4952-8ad6-85b2c076f94a"
   },
   "outputs": [],
   "source": [
    "dataset = \"newsgroup\"\n",
    "\n",
    "# total number of samples needed\n",
    "randomize = False\n",
    "\n",
    "# retrieve dataset\n",
    "categories = ['rec.autos', 'talk.politics.mideast', 'alt.atheism', 'sci.space']\n",
    "\n",
    "all_docs = fetch_20newsgroups(subset='train', shuffle=randomize, remove=('headers', 'footers', 'quotes'), categories=categories)\n",
    "all_docs, old_labels, categories = all_docs.data, all_docs.target, all_docs.target_names"
   ]
  },
  {
   "cell_type": "code",
   "execution_count": 51,
   "metadata": {
    "colab": {},
    "colab_type": "code",
    "id": "xd-imY-icMx8"
   },
   "outputs": [],
   "source": [
    "# dataset = \"bbc\"\n",
    "\n",
    "# data = pd.read_csv('bbcsport.csv')\n",
    "\n",
    "# all_docs = data[\"text\"].to_list()\n",
    "# old_labels = data[\"topic\"].to_list()\n",
    "# categories = classes = np.unique(data[\"topic\"]).tolist()"
   ]
  },
  {
   "cell_type": "markdown",
   "metadata": {
    "colab_type": "text",
    "id": "WYe4XYDfcMyI"
   },
   "source": [
    "### clean dataset"
   ]
  },
  {
   "cell_type": "code",
   "execution_count": 56,
   "metadata": {
    "colab": {
     "base_uri": "https://localhost:8080/",
     "height": 66,
     "referenced_widgets": [
      "b8ee6c0914474dab8186285123c3c25a",
      "1029c3cb5c264802a7bd45639c1a7c20",
      "94d411d6977f493894ec3c8b5975f693",
      "846b5c7701bc49e4be2a7681d5361dd8",
      "2e8643a34a7143e284ed8e94aaca32d7",
      "b8ce72deb0c34c35a99b91bbc9b5504c",
      "cee50571766e465b81cd2d06ac0a4d31",
      "5c20409065a347d18e1ab6bde4c5a0ba"
     ]
    },
    "colab_type": "code",
    "id": "RgG4w-qpcMyJ",
    "outputId": "142478ec-50d6-4c3a-f6fb-db0ee38fcb1a"
   },
   "outputs": [
    {
     "data": {
      "application/vnd.jupyter.widget-view+json": {
       "model_id": "08a4b350d4504b2d9ded69ba6c19c358",
       "version_major": 2,
       "version_minor": 0
      },
      "text/plain": [
       "HBox(children=(FloatProgress(value=0.0, max=160.0), HTML(value='')))"
      ]
     },
     "metadata": {},
     "output_type": "display_data"
    },
    {
     "name": "stdout",
     "output_type": "stream",
     "text": [
      "\n"
     ]
    }
   ],
   "source": [
    "datasize = 40\n",
    "min_document_length = 160\n",
    "max_document_length = 256\n",
    "\n",
    "\n",
    "index = -1\n",
    "docs, labels, label_indices = [], [], []\n",
    "\n",
    "sizes = [0]*len(categories)\n",
    "\n",
    "with tqdm(total=len(categories)*datasize) as pbar:\n",
    "    while sum(sizes) < len(categories)*datasize:\n",
    "        index += 1\n",
    "        label_index = old_labels[index]\n",
    "            \n",
    "        if sizes[label_index] == datasize:\n",
    "            continue\n",
    "        \n",
    "        doc = all_docs[index]\n",
    "        status, doc, word_count = clean_doc(doc, True)\n",
    "        \n",
    "        if not status:\n",
    "            continue\n",
    "            \n",
    "        if min_document_length is not None and len(doc) < min_document_length:\n",
    "            continue\n",
    "            \n",
    "        if max_document_length is not None and len(doc) > max_document_length:\n",
    "            continue\n",
    "        \n",
    "        label_indices.append(label_index)\n",
    "        labels.append(categories[label_index])\n",
    "        \n",
    "        docs.append(doc)\n",
    "        sizes[label_index] += 1\n",
    "        pbar.update(1)\n",
    "\n",
    "labels = np.array(labels)\n",
    "label_indices = np.array(label_indices)"
   ]
  },
  {
   "cell_type": "code",
   "execution_count": 57,
   "metadata": {
    "colab": {
     "base_uri": "https://localhost:8080/",
     "height": 88
    },
    "colab_type": "code",
    "id": "_eBXjBUecMyU",
    "outputId": "12f081a4-fab6-4de7-f36f-62399abaa5b8"
   },
   "outputs": [
    {
     "name": "stdout",
     "output_type": "stream",
     "text": [
      "Topic: rec.autos\n",
      "==================================================\n",
      "not to mention my friend s 54 citroen traction avant with the light switch and dimmer integrate in a single stalk off the steer column those dumb french be apparently copying the japanese before the german\n"
     ]
    }
   ],
   "source": [
    "doc_index = 3\n",
    "print(f\"Topic: {labels[doc_index]}\\n{'='*50}\\n{docs[doc_index][:512]}\")"
   ]
  },
  {
   "cell_type": "code",
   "execution_count": 58,
   "metadata": {
    "colab": {
     "base_uri": "https://localhost:8080/",
     "height": 34
    },
    "colab_type": "code",
    "id": "KS5PW7qHcMyb",
    "outputId": "d83a2010-8955-4c8f-f2d6-be15ecad2198",
    "scrolled": true
   },
   "outputs": [
    {
     "name": "stdout",
     "output_type": "stream",
     "text": [
      "[40, 40, 40, 40]\n"
     ]
    }
   ],
   "source": [
    "print(sizes)\n",
    "assert min(sizes) == max(sizes) == datasize"
   ]
  },
  {
   "cell_type": "markdown",
   "metadata": {},
   "source": [
    "### Split data"
   ]
  },
  {
   "cell_type": "code",
   "execution_count": 59,
   "metadata": {},
   "outputs": [],
   "source": [
    "x_train, x_test, y_train, y_test = train_test_split(docs, labels, test_size =.3)"
   ]
  },
  {
   "cell_type": "code",
   "execution_count": 60,
   "metadata": {
    "colab": {
     "base_uri": "https://localhost:8080/",
     "height": 34
    },
    "colab_type": "code",
    "id": "s8R3CeUBcMyg",
    "outputId": "adcba1c9-85ae-428d-ff5f-ba33bd7beef8",
    "scrolled": false
   },
   "outputs": [
    {
     "name": "stdout",
     "output_type": "stream",
     "text": [
      "there are 160 total docs, 112 train and 48 test\n"
     ]
    }
   ],
   "source": [
    "print(f\"there are {len(docs)} total docs, {len(y_train)} train and {len(y_test)} test\")"
   ]
  },
  {
   "cell_type": "markdown",
   "metadata": {
    "colab_type": "text",
    "id": "-OUac83RcMyl"
   },
   "source": [
    "### Initialize Vectorizer"
   ]
  },
  {
   "cell_type": "code",
   "execution_count": 61,
   "metadata": {
    "colab": {
     "base_uri": "https://localhost:8080/",
     "height": 34
    },
    "colab_type": "code",
    "id": "ZCBHEIyEcMyn",
    "outputId": "18cbf825-2576-4937-908b-ce0cc5a29150"
   },
   "outputs": [
    {
     "name": "stdout",
     "output_type": "stream",
     "text": [
      "word_count is 1449\n"
     ]
    }
   ],
   "source": [
    "# initialize the count vectorizer\n",
    "vectorizer = CountVectorizer()\n",
    "\n",
    "# fit it to dataset\n",
    "vectorizer.fit(x_train)\n",
    "\n",
    "vocabulary = np.array(vectorizer.get_feature_names())\n",
    "print(\"word_count is\", len(vocabulary))"
   ]
  },
  {
   "cell_type": "markdown",
   "metadata": {
    "colab_type": "text",
    "id": "UKomwY7acMyz"
   },
   "source": [
    "### Prepare Datatset"
   ]
  },
  {
   "cell_type": "code",
   "execution_count": 62,
   "metadata": {
    "colab": {
     "base_uri": "https://localhost:8080/",
     "height": 34
    },
    "colab_type": "code",
    "id": "IIYeZA4EcMy0",
    "outputId": "da04274f-82f4-49a5-8be6-d1c9230aa835"
   },
   "outputs": [],
   "source": [
    "# create doc count vectors\n",
    "train_doc_vectors = vectorizer.transform(x_train).toarray()\n",
    "test_doc_vectors = vectorizer.transform(x_test).toarray()\n",
    "\n",
    "wdf_train = pd.DataFrame(train_doc_vectors, columns=vocabulary)\n",
    "wdf_test = pd.DataFrame(test_doc_vectors, columns=vocabulary)"
   ]
  },
  {
   "cell_type": "markdown",
   "metadata": {
    "colab_type": "text",
    "id": "SvE2EPU-cMy5"
   },
   "source": [
    "## Word Word Probability Distr"
   ]
  },
  {
   "cell_type": "code",
   "execution_count": 142,
   "metadata": {
    "colab": {
     "base_uri": "https://localhost:8080/",
     "height": 359,
     "referenced_widgets": [
      "c3f9b287331c4447a3858c3fed906a66",
      "dc810a1b5ae545a09ef4b77e92695a36",
      "5369f73e7d934a68a3478189b5a136b6",
      "f02ad7bad6f74da69de3557e8b7e3b92",
      "44bf4a5432b34d269a82bce24d4e46b3",
      "4dcd4b491d694b0aa25514b8486cf3f8",
      "eb223b5836d04aaea284e26e6a3a6a1a",
      "51dd1aa22f7d45ccbd3ba766bb232b57"
     ]
    },
    "colab_type": "code",
    "id": "uDugwezLcMzA",
    "outputId": "32a3e924-89bf-4247-a239-66bdc3f73c08",
    "scrolled": false
   },
   "outputs": [
    {
     "data": {
      "application/vnd.jupyter.widget-view+json": {
       "model_id": "48b228a711cf4204916c72b83fff4473",
       "version_major": 2,
       "version_minor": 0
      },
      "text/plain": [
       "HBox(children=(FloatProgress(value=0.0, max=1449.0), HTML(value='')))"
      ]
     },
     "metadata": {},
     "output_type": "display_data"
    },
    {
     "name": "stdout",
     "output_type": "stream",
     "text": [
      "\n",
      "word_word_pr_distr shape = (1449, 1449)\n"
     ]
    }
   ],
   "source": [
    "wdt_train = wdf_train.copy()\n",
    "wdt_test = wdf_test.copy()\n",
    "\n",
    "wdt_test[\"__labels__\"] = y_test\n",
    "wdt_train[\"__labels__\"] = y_train\n",
    "\n",
    "word_doc_count = wdf_train.sum(0)\n",
    "word_word_pr_distr = pd.DataFrame(data=0.0, columns=vocabulary, index=vocabulary)\n",
    "\n",
    "for word in tqdm(vocabulary):\n",
    "    pxy = wdf_train[wdf_train[word] > 0].sum(0) / word_doc_count[word]\n",
    "#     pxy = (wdf_train.T * wdf_train[word]).sum(1)/ word_doc_count[word]\n",
    "    word_word_pr_distr[word] = pxy * (word_doc_count[word] / word_doc_count)\n",
    "\n",
    "word_word_pr_distr /= word_word_pr_distr.max().max()\n",
    "print(f\"word_word_pr_distr shape = {word_word_pr_distr.shape}\")"
   ]
  },
  {
   "cell_type": "code",
   "execution_count": 143,
   "metadata": {
    "scrolled": false
   },
   "outputs": [
    {
     "data": {
      "text/html": [
       "<div>\n",
       "<style scoped>\n",
       "    .dataframe tbody tr th:only-of-type {\n",
       "        vertical-align: middle;\n",
       "    }\n",
       "\n",
       "    .dataframe tbody tr th {\n",
       "        vertical-align: top;\n",
       "    }\n",
       "\n",
       "    .dataframe thead th {\n",
       "        text-align: right;\n",
       "    }\n",
       "</style>\n",
       "<table border=\"1\" class=\"dataframe\">\n",
       "  <thead>\n",
       "    <tr style=\"text-align: right;\">\n",
       "      <th></th>\n",
       "      <th>000</th>\n",
       "      <th>031349</th>\n",
       "      <th>10</th>\n",
       "      <th>11</th>\n",
       "      <th>12cyl</th>\n",
       "      <th>1900</th>\n",
       "      <th>1940</th>\n",
       "      <th>1984</th>\n",
       "      <th>1987</th>\n",
       "      <th>1990</th>\n",
       "      <th>...</th>\n",
       "      <th>wrong</th>\n",
       "      <th>yeah</th>\n",
       "      <th>year</th>\n",
       "      <th>yes</th>\n",
       "      <th>yo</th>\n",
       "      <th>yorker</th>\n",
       "      <th>you</th>\n",
       "      <th>your</th>\n",
       "      <th>yourself</th>\n",
       "      <th>zeuge</th>\n",
       "    </tr>\n",
       "  </thead>\n",
       "  <tbody>\n",
       "    <tr>\n",
       "      <th>000</th>\n",
       "      <td>1.0</td>\n",
       "      <td>0.0</td>\n",
       "      <td>0.5</td>\n",
       "      <td>0.0</td>\n",
       "      <td>0.0</td>\n",
       "      <td>0.0</td>\n",
       "      <td>0.0</td>\n",
       "      <td>0.5</td>\n",
       "      <td>0.0</td>\n",
       "      <td>0.0</td>\n",
       "      <td>...</td>\n",
       "      <td>0.0</td>\n",
       "      <td>0.0</td>\n",
       "      <td>0.0</td>\n",
       "      <td>0.0</td>\n",
       "      <td>0.0</td>\n",
       "      <td>0.0</td>\n",
       "      <td>0.5</td>\n",
       "      <td>0.5</td>\n",
       "      <td>0.0</td>\n",
       "      <td>0.0</td>\n",
       "    </tr>\n",
       "    <tr>\n",
       "      <th>031349</th>\n",
       "      <td>0.0</td>\n",
       "      <td>1.0</td>\n",
       "      <td>0.0</td>\n",
       "      <td>0.0</td>\n",
       "      <td>0.0</td>\n",
       "      <td>0.0</td>\n",
       "      <td>0.0</td>\n",
       "      <td>0.0</td>\n",
       "      <td>0.0</td>\n",
       "      <td>0.0</td>\n",
       "      <td>...</td>\n",
       "      <td>0.0</td>\n",
       "      <td>0.0</td>\n",
       "      <td>0.0</td>\n",
       "      <td>0.0</td>\n",
       "      <td>0.0</td>\n",
       "      <td>0.0</td>\n",
       "      <td>1.0</td>\n",
       "      <td>1.0</td>\n",
       "      <td>0.0</td>\n",
       "      <td>0.0</td>\n",
       "    </tr>\n",
       "    <tr>\n",
       "      <th>10</th>\n",
       "      <td>1.0</td>\n",
       "      <td>0.0</td>\n",
       "      <td>1.0</td>\n",
       "      <td>0.0</td>\n",
       "      <td>0.0</td>\n",
       "      <td>0.0</td>\n",
       "      <td>0.0</td>\n",
       "      <td>1.0</td>\n",
       "      <td>0.0</td>\n",
       "      <td>0.0</td>\n",
       "      <td>...</td>\n",
       "      <td>0.0</td>\n",
       "      <td>0.0</td>\n",
       "      <td>0.0</td>\n",
       "      <td>0.0</td>\n",
       "      <td>0.0</td>\n",
       "      <td>0.0</td>\n",
       "      <td>1.0</td>\n",
       "      <td>1.0</td>\n",
       "      <td>0.0</td>\n",
       "      <td>0.0</td>\n",
       "    </tr>\n",
       "    <tr>\n",
       "      <th>11</th>\n",
       "      <td>0.0</td>\n",
       "      <td>0.0</td>\n",
       "      <td>0.0</td>\n",
       "      <td>1.0</td>\n",
       "      <td>0.0</td>\n",
       "      <td>0.0</td>\n",
       "      <td>0.0</td>\n",
       "      <td>0.0</td>\n",
       "      <td>0.0</td>\n",
       "      <td>0.0</td>\n",
       "      <td>...</td>\n",
       "      <td>0.0</td>\n",
       "      <td>0.0</td>\n",
       "      <td>0.0</td>\n",
       "      <td>0.0</td>\n",
       "      <td>0.0</td>\n",
       "      <td>0.0</td>\n",
       "      <td>0.0</td>\n",
       "      <td>0.0</td>\n",
       "      <td>0.0</td>\n",
       "      <td>0.0</td>\n",
       "    </tr>\n",
       "    <tr>\n",
       "      <th>12cyl</th>\n",
       "      <td>0.0</td>\n",
       "      <td>0.0</td>\n",
       "      <td>0.0</td>\n",
       "      <td>0.0</td>\n",
       "      <td>1.0</td>\n",
       "      <td>0.0</td>\n",
       "      <td>0.0</td>\n",
       "      <td>0.0</td>\n",
       "      <td>0.0</td>\n",
       "      <td>0.0</td>\n",
       "      <td>...</td>\n",
       "      <td>0.0</td>\n",
       "      <td>0.0</td>\n",
       "      <td>0.0</td>\n",
       "      <td>0.0</td>\n",
       "      <td>0.0</td>\n",
       "      <td>0.0</td>\n",
       "      <td>0.0</td>\n",
       "      <td>0.0</td>\n",
       "      <td>0.0</td>\n",
       "      <td>0.0</td>\n",
       "    </tr>\n",
       "  </tbody>\n",
       "</table>\n",
       "<p>5 rows × 1449 columns</p>\n",
       "</div>"
      ],
      "text/plain": [
       "        000  031349   10   11  12cyl  1900  1940  1984  1987  1990  ...  \\\n",
       "000     1.0     0.0  0.5  0.0    0.0   0.0   0.0   0.5   0.0   0.0  ...   \n",
       "031349  0.0     1.0  0.0  0.0    0.0   0.0   0.0   0.0   0.0   0.0  ...   \n",
       "10      1.0     0.0  1.0  0.0    0.0   0.0   0.0   1.0   0.0   0.0  ...   \n",
       "11      0.0     0.0  0.0  1.0    0.0   0.0   0.0   0.0   0.0   0.0  ...   \n",
       "12cyl   0.0     0.0  0.0  0.0    1.0   0.0   0.0   0.0   0.0   0.0  ...   \n",
       "\n",
       "        wrong  yeah  year  yes   yo  yorker  you  your  yourself  zeuge  \n",
       "000       0.0   0.0   0.0  0.0  0.0     0.0  0.5   0.5       0.0    0.0  \n",
       "031349    0.0   0.0   0.0  0.0  0.0     0.0  1.0   1.0       0.0    0.0  \n",
       "10        0.0   0.0   0.0  0.0  0.0     0.0  1.0   1.0       0.0    0.0  \n",
       "11        0.0   0.0   0.0  0.0  0.0     0.0  0.0   0.0       0.0    0.0  \n",
       "12cyl     0.0   0.0   0.0  0.0  0.0     0.0  0.0   0.0       0.0    0.0  \n",
       "\n",
       "[5 rows x 1449 columns]"
      ]
     },
     "execution_count": 143,
     "metadata": {},
     "output_type": "execute_result"
    }
   ],
   "source": [
    "word_word_pr_distr.head()"
   ]
  },
  {
   "cell_type": "code",
   "execution_count": 144,
   "metadata": {
    "scrolled": false
   },
   "outputs": [
    {
     "name": "stdout",
     "output_type": "stream",
     "text": [
      "Topwords: Word - space\n",
      "==================================================\n",
      "space    1.0\n",
      "be       1.0\n",
      "to       0.8\n",
      "if       0.8\n",
      "from     0.8\n",
      "them     0.8\n",
      "on       0.6\n",
      "have     0.6\n",
      "and      0.6\n",
      "the      0.6\n",
      "Name: space, dtype: float64\n"
     ]
    }
   ],
   "source": [
    "word = \"space\"\n",
    "\n",
    "topwords_df = word_word_pr_distr.loc[word].sort_values(ascending=False).head(10)\n",
    "topwords = topwords_df.index.tolist()\n",
    "\n",
    "print(f\"Topwords: Word - {word}\\n{'='*50}\")\n",
    "print(topwords_df)"
   ]
  },
  {
   "cell_type": "markdown",
   "metadata": {},
   "source": [
    "### Modify Word Word Distr with entopy"
   ]
  },
  {
   "cell_type": "code",
   "execution_count": 145,
   "metadata": {},
   "outputs": [],
   "source": [
    "word_word_pr_entropy = calculate_entropy(word_word_pr_distr, axis=1)\n",
    "word_word_pr_entropy_softmax = softmax(word_word_pr_entropy.max() - word_word_pr_entropy)"
   ]
  },
  {
   "cell_type": "code",
   "execution_count": 146,
   "metadata": {},
   "outputs": [
    {
     "data": {
      "application/vnd.jupyter.widget-view+json": {
       "model_id": "be1682b195cb4324985add4efce86f34",
       "version_major": 2,
       "version_minor": 0
      },
      "text/plain": [
       "HBox(children=(FloatProgress(value=0.0, max=1449.0), HTML(value='')))"
      ]
     },
     "metadata": {},
     "output_type": "display_data"
    },
    {
     "name": "stdout",
     "output_type": "stream",
     "text": [
      "\n"
     ]
    }
   ],
   "source": [
    "word_word_pr_distr_prime = word_word_pr_distr.copy()\n",
    "\n",
    "for word in tqdm(word_word_pr_distr.columns):\n",
    "    word_word_pr_distr_prime.loc[word] *= word_word_pr_entropy_softmax\n",
    "\n",
    "word_word_pr_distr_prime /= word_word_pr_distr_prime.max().max()"
   ]
  },
  {
   "cell_type": "code",
   "execution_count": null,
   "metadata": {},
   "outputs": [],
   "source": []
  },
  {
   "cell_type": "code",
   "execution_count": 147,
   "metadata": {
    "scrolled": true
   },
   "outputs": [
    {
     "name": "stdout",
     "output_type": "stream",
     "text": [
      "Topwords Prime: Word - space\n",
      "==================================================\n",
      "space        0.325554\n",
      "raw          0.311111\n",
      "effective    0.311111\n",
      "colapse      0.311111\n",
      "material     0.311111\n",
      "cost         0.311111\n",
      "entire       0.311111\n",
      "mode         0.247059\n",
      "act          0.247059\n",
      "activate     0.247059\n",
      "Name: space, dtype: float64\n"
     ]
    }
   ],
   "source": [
    "word = \"space\"\n",
    "\n",
    "topwords_prime_df = word_word_pr_distr_prime.loc[word].sort_values(ascending=False).head(10)\n",
    "topwords_prime = topwords_prime_df.index.tolist()\n",
    "\n",
    "print(f\"Topwords Prime: Word - {word}\\n{'='*50}\")\n",
    "print(topwords_prime_df)"
   ]
  },
  {
   "cell_type": "markdown",
   "metadata": {},
   "source": [
    "### Compare Word Word Distr with Modified Word Word Distr"
   ]
  },
  {
   "cell_type": "code",
   "execution_count": 148,
   "metadata": {
    "scrolled": false
   },
   "outputs": [
    {
     "name": "stdout",
     "output_type": "stream",
     "text": [
      "       space against self        \n",
      "===============================\n",
      "word            | wwpd  | wwpd_prime\n",
      "-------------------------------\n",
      "space           |  1.00 |  1.00\n",
      "\n",
      "     space against topwords      \n",
      "===============================\n",
      "word            | wwpd  | wwpd_prime\n",
      "-------------------------------\n",
      "space           |  1.00 |  1.00\n",
      "be              |  1.00 |  0.13\n",
      "to              |  0.80 |  0.11\n",
      "if              |  0.80 |  0.16\n",
      "from            |  0.80 |  0.23\n",
      "them            |  0.80 |  0.35\n",
      "on              |  0.60 |  0.11\n",
      "have            |  0.60 |  0.11\n",
      "and             |  0.60 |  0.08\n",
      "the             |  0.60 |  0.07\n",
      "\n",
      "  space against topwords prime   \n",
      "===============================\n",
      "word            | wwpd  | wwpd_prime\n",
      "-------------------------------\n",
      "space           |  1.00 |  1.00\n",
      "raw             |  0.40 |  0.96\n",
      "effective       |  0.40 |  0.96\n",
      "colapse         |  0.40 |  0.96\n",
      "material        |  0.40 |  0.96\n",
      "cost            |  0.40 |  0.96\n",
      "entire          |  0.40 |  0.96\n",
      "mode            |  0.40 |  0.76\n",
      "act             |  0.40 |  0.76\n",
      "activate        |  0.40 |  0.76\n",
      "\n"
     ]
    }
   ],
   "source": [
    "base_word = \"space\"\n",
    "li = {\n",
    "    \"against self\": [base_word],\n",
    "    \"against topwords\" : topwords, \n",
    "    \"against topwords prime\": topwords_prime\n",
    "}\n",
    "\n",
    "for title, other_words in li.items():\n",
    "    print(f'{\" \".join([base_word, title]):^33s}')\n",
    "    print(\"===============================\")\n",
    "    print(\"word            | wwpd  | wwpd_prime\")\n",
    "    print(\"-------------------------------\")\n",
    "    \n",
    "    for other_word in other_words:\n",
    "        r1 = word_word_pr_distr.loc[base_word][other_word] / word_word_pr_distr.loc[base_word].max()\n",
    "        r2 = word_word_pr_distr_prime.loc[base_word][other_word] / word_word_pr_distr_prime.loc[base_word].max()\n",
    "\n",
    "        print(f\"{other_word:15s} | {r1:5.2f} | {r2:5.2f}\")\n",
    "    print()"
   ]
  },
  {
   "cell_type": "markdown",
   "metadata": {},
   "source": [
    "### Document Topwords"
   ]
  },
  {
   "cell_type": "code",
   "execution_count": 149,
   "metadata": {},
   "outputs": [
    {
     "name": "stdout",
     "output_type": "stream",
     "text": [
      "Topic: alt.atheism\n",
      "==================================================\n",
      "sure but robert koresh fetesh sic knowles seem good too though i wasn t there at least i can rely on you now to keep me post on what what he s do have you any other fetish besides those for beef jerky and david koresh bake timmons iii\n"
     ]
    }
   ],
   "source": [
    "doc_index = 0\n",
    "print(f\"Topic: {y_train[doc_index]}\\n{'='*50}\\n{x_train[doc_index][:512]}\")"
   ]
  },
  {
   "cell_type": "code",
   "execution_count": 150,
   "metadata": {
    "scrolled": false
   },
   "outputs": [
    {
     "name": "stdout",
     "output_type": "stream",
     "text": [
      "Doc 0 Topwords:\n",
      "==================================================\n",
      "what       0.285714\n",
      "you        0.285714\n",
      "on         0.285714\n",
      "koresh     0.285714\n",
      "timmons    0.142857\n",
      "there      0.142857\n",
      "have       0.142857\n",
      "he         0.142857\n",
      "those      0.142857\n",
      "though     0.142857\n",
      "Name: 0, dtype: float64\n"
     ]
    }
   ],
   "source": [
    "wdf_train_original = wdf_train / wdf_train.max().max()\n",
    "wdf_test_original = wdf_test / wdf_test.max().max()\n",
    " \n",
    "topwords_df = wdf_train_original.loc[doc_index].sort_values(ascending=False).head(10)\n",
    "topwords = topwords_df.index.tolist()\n",
    "\n",
    "print(f\"Doc {doc_index} Topwords:\\n{'='*50}\")\n",
    "print(topwords_df)"
   ]
  },
  {
   "cell_type": "markdown",
   "metadata": {},
   "source": [
    "#### Modify the word doc with entropy"
   ]
  },
  {
   "cell_type": "code",
   "execution_count": 163,
   "metadata": {},
   "outputs": [],
   "source": [
    "wdf_train_original_prime = wdf_train_original * word_word_pr_entropy_softmax\n",
    "wdf_train_original_prime /= wdf_train_original_prime.max().max()"
   ]
  },
  {
   "cell_type": "markdown",
   "metadata": {},
   "source": [
    "### Modify Word Doc Distr with Word Word Distr"
   ]
  },
  {
   "cell_type": "code",
   "execution_count": 151,
   "metadata": {},
   "outputs": [
    {
     "data": {
      "application/vnd.jupyter.widget-view+json": {
       "model_id": "06623b67e45b44589dc2a0e6eecf03ca",
       "version_major": 2,
       "version_minor": 0
      },
      "text/plain": [
       "HBox(children=(FloatProgress(value=0.0, max=112.0), HTML(value='')))"
      ]
     },
     "metadata": {},
     "output_type": "display_data"
    },
    {
     "name": "stdout",
     "output_type": "stream",
     "text": [
      "\n"
     ]
    },
    {
     "data": {
      "application/vnd.jupyter.widget-view+json": {
       "model_id": "2a63c3c251df422491d2f9ee328bde1b",
       "version_major": 2,
       "version_minor": 0
      },
      "text/plain": [
       "HBox(children=(FloatProgress(value=0.0, max=48.0), HTML(value='')))"
      ]
     },
     "metadata": {},
     "output_type": "display_data"
    },
    {
     "name": "stdout",
     "output_type": "stream",
     "text": [
      "\n"
     ]
    }
   ],
   "source": [
    "wdf_train_x = 0 * wdf_train_original\n",
    "wdf_test_x = 0 * wdf_test_original\n",
    "    \n",
    "for wx, wo in [(wdf_train_x, wdf_train_original), (wdf_test_x, wdf_test_original)]:\n",
    "    for doc_index in tqdm(range(len(wo))):\n",
    "        denom = 0\n",
    "\n",
    "        indices = (wo.loc[doc_index] > 0)\n",
    "        xv = wo.loc[doc_index][indices]\n",
    "\n",
    "        for index, (wordx, word_pr) in enumerate(xv.iteritems()):\n",
    "            denom += word_pr\n",
    "            wx.loc[doc_index] += word_pr * word_word_pr_distr.loc[wordx]\n",
    "\n",
    "        wx.loc[doc_index] /= denom\n",
    "    wx /= wx.max().max()"
   ]
  },
  {
   "cell_type": "code",
   "execution_count": 152,
   "metadata": {
    "scrolled": true
   },
   "outputs": [
    {
     "name": "stdout",
     "output_type": "stream",
     "text": [
      "Doc 47 Topwords:\n",
      "==================================================\n",
      "be      0.977938\n",
      "to      0.790776\n",
      "and     0.762475\n",
      "of      0.759549\n",
      "you     0.751423\n",
      "in      0.685758\n",
      "not     0.651599\n",
      "for     0.630663\n",
      "your    0.579761\n",
      "get     0.579271\n",
      "Name: 47, dtype: float64\n"
     ]
    }
   ],
   "source": [
    "topwords_df = wdf_train_x.loc[doc_index].sort_values(ascending=False).head(10)\n",
    "topwords = topwords_df.index.tolist()\n",
    "\n",
    "print(f\"Doc {doc_index} Topwords:\\n{'='*50}\")\n",
    "print(topwords_df)"
   ]
  },
  {
   "cell_type": "markdown",
   "metadata": {},
   "source": [
    "### Modify Word Doc Distr with Word Word Distr Prime"
   ]
  },
  {
   "cell_type": "code",
   "execution_count": 153,
   "metadata": {},
   "outputs": [
    {
     "data": {
      "application/vnd.jupyter.widget-view+json": {
       "model_id": "03bf06bac42a42a1945d07fbbf5b3838",
       "version_major": 2,
       "version_minor": 0
      },
      "text/plain": [
       "HBox(children=(FloatProgress(value=0.0, max=112.0), HTML(value='')))"
      ]
     },
     "metadata": {},
     "output_type": "display_data"
    },
    {
     "name": "stdout",
     "output_type": "stream",
     "text": [
      "\n"
     ]
    },
    {
     "data": {
      "application/vnd.jupyter.widget-view+json": {
       "model_id": "e2358aeac83546baa605ac08106c4dac",
       "version_major": 2,
       "version_minor": 0
      },
      "text/plain": [
       "HBox(children=(FloatProgress(value=0.0, max=48.0), HTML(value='')))"
      ]
     },
     "metadata": {},
     "output_type": "display_data"
    },
    {
     "name": "stdout",
     "output_type": "stream",
     "text": [
      "\n"
     ]
    }
   ],
   "source": [
    "wdf_train_prime = 0 * wdf_train_original\n",
    "wdf_test_prime = 0 * wdf_test_original\n",
    "    \n",
    "for wx, wo in [(wdf_train_prime, wdf_train_original), (wdf_test_prime, wdf_test_original)]:\n",
    "    for doc_index in tqdm(range(len(wo))):\n",
    "        denom = 0\n",
    "\n",
    "        indices = (wo.loc[doc_index] > 0)\n",
    "        xv = wo.loc[doc_index][indices]\n",
    "\n",
    "        for index, (wordx, word_pr) in enumerate(xv.iteritems()):\n",
    "            denom += word_pr\n",
    "            wx.loc[doc_index] += word_pr * word_word_pr_distr_prime.loc[wordx]\n",
    "\n",
    "        wx.loc[doc_index] /= denom\n",
    "    wx /= wx.max().max()"
   ]
  },
  {
   "cell_type": "code",
   "execution_count": 154,
   "metadata": {},
   "outputs": [
    {
     "name": "stdout",
     "output_type": "stream",
     "text": [
      "Doc 0 Topwords:\n",
      "==================================================\n",
      "bake       0.463731\n",
      "rely       0.463731\n",
      "beef       0.463731\n",
      "timmons    0.463731\n",
      "wasn       0.463731\n",
      "fetesh     0.463731\n",
      "fetish     0.463731\n",
      "sic        0.463731\n",
      "iii        0.463731\n",
      "jerky      0.463731\n",
      "Name: 0, dtype: float64\n"
     ]
    }
   ],
   "source": [
    "doc_index = 0\n",
    "\n",
    "topwords_prime_df = wdf_train_prime.loc[doc_index].sort_values(ascending=False).head(10)\n",
    "topwords_prime = topwords_prime_df.index.tolist()\n",
    "\n",
    "print(f\"Doc {doc_index} Topwords:\\n{'='*50}\")\n",
    "print(topwords_prime_df)"
   ]
  },
  {
   "cell_type": "code",
   "execution_count": 155,
   "metadata": {},
   "outputs": [
    {
     "name": "stdout",
     "output_type": "stream",
     "text": [
      "         doc 0 against topwords         \n",
      "===============================\n",
      "word            | wdpdo | wdpdx | wdpd_prime\n",
      "-------------------------------\n",
      "be              |  0.00 |  0.72 |  0.11\n",
      "to              |  0.50 |  1.00 |  0.17\n",
      "and             |  0.50 |  0.96 |  0.15\n",
      "of              |  0.00 |  0.39 |  0.06\n",
      "you             |  1.00 |  0.87 |  0.18\n",
      "in              |  0.00 |  0.29 |  0.05\n",
      "not             |  0.00 |  0.24 |  0.06\n",
      "for             |  0.50 |  0.75 |  0.17\n",
      "your            |  0.00 |  0.12 |  0.04\n",
      "get             |  0.00 |  0.11 |  0.03\n",
      "\n",
      "      doc 0 against topwords prime      \n",
      "===============================\n",
      "word            | wdpdo | wdpdx | wdpd_prime\n",
      "-------------------------------\n",
      "bake            |  0.50 |  0.54 |  1.00\n",
      "rely            |  0.50 |  0.54 |  1.00\n",
      "beef            |  0.50 |  0.54 |  1.00\n",
      "timmons         |  0.50 |  0.54 |  1.00\n",
      "wasn            |  0.50 |  0.54 |  1.00\n",
      "fetesh          |  0.50 |  0.54 |  1.00\n",
      "fetish          |  0.50 |  0.54 |  1.00\n",
      "sic             |  0.50 |  0.54 |  1.00\n",
      "iii             |  0.50 |  0.54 |  1.00\n",
      "jerky           |  0.50 |  0.54 |  1.00\n",
      "\n"
     ]
    }
   ],
   "source": [
    "li = {\n",
    "    \"against topwords\" : topwords, \n",
    "    \"against topwords prime\": topwords_prime\n",
    "}\n",
    "\n",
    "for title, other_words in li.items():\n",
    "    print(f'{\" \".join([f\"doc {doc_index}\", title]):^40s}')\n",
    "    print(\"===============================\")\n",
    "    print(\"word            | wdpdo | wdpdx | wdpd_prime\")\n",
    "    print(\"-------------------------------\")\n",
    "    \n",
    "    for other_word in other_words:\n",
    "        r1 = wdf_train_original.loc[doc_index][other_word] / wdf_train_original.loc[doc_index].max()\n",
    "        r2 = wdf_train_x.loc[doc_index][other_word] / wdf_train_x.loc[doc_index].max()\n",
    "        r3 = wdf_train_prime.loc[doc_index][other_word] / wdf_train_prime.loc[doc_index].max()\n",
    "\n",
    "        print(f\"{other_word:15s} | {r1:5.2f} | {r2:5.2f} | {r3:5.2f}\")\n",
    "    print()"
   ]
  },
  {
   "cell_type": "code",
   "execution_count": 164,
   "metadata": {
    "scrolled": true
   },
   "outputs": [
    {
     "name": "stdout",
     "output_type": "stream",
     "text": [
      "using 4 classes\n",
      "wdf_train 4273.096125336924\n",
      "Counter({'rec.autos': 16, 'alt.atheism': 14, 'talk.politics.mideast': 12, 'sci.space': 11})\n",
      "Counter({'sci.space': 7, 'rec.autos': 6, 'talk.politics.mideast': 5, 'alt.atheism': 2})\n",
      "Counter({'talk.politics.mideast': 11, 'alt.atheism': 11, 'sci.space': 6, 'rec.autos': 4})\n",
      "Counter({'talk.politics.mideast': 4, 'alt.atheism': 1, 'sci.space': 1, 'rec.autos': 1})\n",
      "\n",
      "wdf_train_original 87.22236471011988\n",
      "Counter({'rec.autos': 16, 'alt.atheism': 13, 'talk.politics.mideast': 12, 'sci.space': 11})\n",
      "Counter({'sci.space': 7, 'rec.autos': 6, 'talk.politics.mideast': 5, 'alt.atheism': 2})\n",
      "Counter({'alt.atheism': 12, 'talk.politics.mideast': 11, 'sci.space': 6, 'rec.autos': 4})\n",
      "Counter({'talk.politics.mideast': 4, 'alt.atheism': 1, 'sci.space': 1, 'rec.autos': 1})\n",
      "\n",
      "wdf_train_original_prime 158.7950087615995\n",
      "Counter({'talk.politics.mideast': 10, 'rec.autos': 4, 'alt.atheism': 4, 'sci.space': 3})\n",
      "Counter({'alt.atheism': 23, 'rec.autos': 23, 'sci.space': 22, 'talk.politics.mideast': 21})\n",
      "Counter({'alt.atheism': 1})\n",
      "Counter({'talk.politics.mideast': 1})\n",
      "\n",
      "wdf_train_x 535.0145850449452\n",
      "Counter({'sci.space': 1})\n",
      "Counter({'talk.politics.mideast': 31, 'alt.atheism': 27, 'rec.autos': 27, 'sci.space': 24})\n",
      "Counter({'alt.atheism': 1})\n",
      "Counter({'talk.politics.mideast': 1})\n",
      "\n",
      "wdf_train_prime 484.19472700106445\n",
      "Counter({'rec.autos': 1})\n",
      "Counter({'talk.politics.mideast': 32, 'alt.atheism': 27, 'rec.autos': 25, 'sci.space': 25})\n",
      "Counter({'rec.autos': 1})\n",
      "Counter({'alt.atheism': 1})\n",
      "\n"
     ]
    }
   ],
   "source": [
    "wxs = [\n",
    "    (\"wdf_train\", wdf_train),\n",
    "    (\"wdf_train_original\", wdf_train_original),\n",
    "    (\"wdf_train_original_prime\", wdf_train_original_prime),\n",
    "    (\"wdf_train_x\", wdf_train_x),\n",
    "    (\"wdf_train_prime\", wdf_train_prime)\n",
    "]\n",
    "\n",
    "for i in range(4, 5):\n",
    "    print(f\"using {i} classes\")\n",
    "    \n",
    "    for title, wx in wxs:\n",
    "        kmeans = KMeans(n_clusters=i, random_state=0).fit(wx)\n",
    "        \n",
    "        print(title, kmeans.inertia_)\n",
    "        for ii in range(i):\n",
    "            print(Counter(y_train[kmeans.labels_ == ii]))\n",
    "        print()"
   ]
  },
  {
   "cell_type": "code",
   "execution_count": 191,
   "metadata": {},
   "outputs": [],
   "source": [
    "def partition_kmeans(wx, y_train, n_clusters, sample_ratio, num_of_iterations, random_state):\n",
    "    max_num = len(y_train)\n",
    "    if max_num < 2:\n",
    "        return\n",
    "    \n",
    "    batch_size = int(sample_ratio * max_num)\n",
    "    \n",
    "    kmeans = MiniBatchKMeans(n_clusters=n_clusters, random_state=random_state, batch_size=batch_size)\n",
    "    \n",
    "    for _ in range(num_of_iterations):\n",
    "        if sample_ratio < 1.0:\n",
    "            wx_batch, _, _, _ = train_test_split(wx, y_train, train_size=sample_ratio)\n",
    "        else:\n",
    "            wx_batch = wx\n",
    "            \n",
    "        kmeans = kmeans.partial_fit(wx_batch)\n",
    "\n",
    "    return kmeans, kmeans.predict(wx)\n",
    "\n",
    "def run_partition_kmeans(title, wx, y_train, tree, keys, n_clusters, sample_ratio, num_of_iterations, random_state, level, depth):\n",
    "    outcome = partition_kmeans(\n",
    "        wx,\n",
    "        y_train,\n",
    "        n_clusters,\n",
    "        sample_ratio,\n",
    "        num_of_iterations,\n",
    "        random_state\n",
    "    )\n",
    "    \n",
    "    if outcome is None:\n",
    "        return tree\n",
    "    \n",
    "    kmeans, predicted_labels = outcome\n",
    "    tree[level, keys] = predicted_labels\n",
    "    print('  '*level, f\"{level}.\", title, kmeans.inertia_)\n",
    "\n",
    "    for index in range(n_clusters):\n",
    "        indices = predicted_labels == index\n",
    "        print('  '*level, Counter(y_train[indices]))\n",
    "\n",
    "        if level < depth-1:\n",
    "            tree = run_partition_kmeans(\n",
    "                title,\n",
    "                wx.loc[indices], \n",
    "                y_train[indices],\n",
    "                tree,\n",
    "                keys[indices],\n",
    "                n_clusters, \n",
    "                sample_ratio,\n",
    "                num_of_iterations,\n",
    "                random_state, \n",
    "                level+1, \n",
    "                depth\n",
    "            ) \n",
    "    print()\n",
    "    return tree\n",
    "   "
   ]
  },
  {
   "cell_type": "code",
   "execution_count": 229,
   "metadata": {},
   "outputs": [
    {
     "name": "stdout",
     "output_type": "stream",
     "text": [
      " 0. wdf_train_original 92.08132953121304\n",
      " Counter({'talk.politics.mideast': 28, 'alt.atheism': 26, 'rec.autos': 22, 'sci.space': 21})\n",
      "   1. wdf_train_original 80.33708886861214\n",
      "   Counter({'talk.politics.mideast': 23, 'alt.atheism': 21, 'sci.space': 18, 'rec.autos': 18})\n",
      "     2. wdf_train_original 64.03576994434148\n",
      "     Counter({'sci.space': 8, 'talk.politics.mideast': 7, 'alt.atheism': 7, 'rec.autos': 3})\n",
      "       3. wdf_train_original 19.149659863945566\n",
      "       Counter({'talk.politics.mideast': 5, 'alt.atheism': 1, 'sci.space': 1})\n",
      "         4. wdf_train_original 3.9265306122449\n",
      "         Counter({'talk.politics.mideast': 2})\n",
      "           5. wdf_train_original 0.0\n",
      "           Counter({'talk.politics.mideast': 1})\n",
      "           Counter({'talk.politics.mideast': 1})\n",
      "\n",
      "         Counter({'talk.politics.mideast': 3, 'alt.atheism': 1, 'sci.space': 1})\n",
      "           5. wdf_train_original 2.251700680272108\n",
      "           Counter({'talk.politics.mideast': 1, 'sci.space': 1})\n",
      "             6. wdf_train_original 0.0\n",
      "             Counter({'talk.politics.mideast': 1})\n",
      "             Counter({'sci.space': 1})\n",
      "\n",
      "           Counter({'talk.politics.mideast': 2, 'alt.atheism': 1})\n",
      "             6. wdf_train_original 0.7040816326530617\n",
      "             Counter({'talk.politics.mideast': 2})\n",
      "               7. wdf_train_original 0.0\n",
      "               Counter({'talk.politics.mideast': 1})\n",
      "               Counter({'talk.politics.mideast': 1})\n",
      "\n",
      "             Counter({'alt.atheism': 1})\n",
      "\n",
      "\n",
      "\n",
      "       Counter({'sci.space': 7, 'alt.atheism': 6, 'rec.autos': 3, 'talk.politics.mideast': 2})\n",
      "         4. wdf_train_original 12.825117739403456\n",
      "         Counter({'sci.space': 3, 'rec.autos': 2})\n",
      "           5. wdf_train_original 2.357142857142857\n",
      "           Counter({'rec.autos': 2, 'sci.space': 1})\n",
      "             6. wdf_train_original 0.7857142857142861\n",
      "             Counter({'rec.autos': 1})\n",
      "             Counter({'rec.autos': 1, 'sci.space': 1})\n",
      "               7. wdf_train_original 0.0\n",
      "               Counter({'rec.autos': 1})\n",
      "               Counter({'sci.space': 1})\n",
      "\n",
      "\n",
      "           Counter({'sci.space': 2})\n",
      "             6. wdf_train_original 0.0\n",
      "             Counter({'sci.space': 1})\n",
      "             Counter({'sci.space': 1})\n",
      "\n",
      "\n",
      "         Counter({'alt.atheism': 6, 'sci.space': 4, 'talk.politics.mideast': 2, 'rec.autos': 1})\n",
      "           5. wdf_train_original 8.603741496598634\n",
      "           Counter({'talk.politics.mideast': 1})\n",
      "           Counter({'alt.atheism': 6, 'sci.space': 4, 'talk.politics.mideast': 1, 'rec.autos': 1})\n",
      "             6. wdf_train_original 7.443877551020407\n",
      "             Counter({'alt.atheism': 4, 'sci.space': 3, 'talk.politics.mideast': 1})\n",
      "               7. wdf_train_original 4.170068027210882\n",
      "               Counter({'sci.space': 2})\n",
      "               Counter({'alt.atheism': 4, 'talk.politics.mideast': 1, 'sci.space': 1})\n",
      "\n",
      "             Counter({'alt.atheism': 2, 'sci.space': 1, 'rec.autos': 1})\n",
      "               7. wdf_train_original 1.442176870748299\n",
      "               Counter({'alt.atheism': 2, 'sci.space': 1})\n",
      "               Counter({'rec.autos': 1})\n",
      "\n",
      "\n",
      "\n",
      "\n",
      "\n",
      "     Counter({'talk.politics.mideast': 16, 'rec.autos': 15, 'alt.atheism': 14, 'sci.space': 10})\n",
      "       3. wdf_train_original 42.367758393680006\n",
      "       Counter({'talk.politics.mideast': 8, 'alt.atheism': 8, 'rec.autos': 8, 'sci.space': 7})\n",
      "         4. wdf_train_original 22.889212827988345\n",
      "         Counter({'alt.atheism': 1, 'talk.politics.mideast': 1, 'sci.space': 1})\n",
      "           5. wdf_train_original 0.7040816326530618\n",
      "           Counter({'alt.atheism': 1, 'sci.space': 1})\n",
      "             6. wdf_train_original 0.0\n",
      "             Counter({'alt.atheism': 1})\n",
      "             Counter({'sci.space': 1})\n",
      "\n",
      "           Counter({'talk.politics.mideast': 1})\n",
      "\n",
      "         Counter({'rec.autos': 8, 'talk.politics.mideast': 7, 'alt.atheism': 7, 'sci.space': 6})\n",
      "           5. wdf_train_original 19.81146744412051\n",
      "           Counter({'talk.politics.mideast': 7, 'rec.autos': 6, 'sci.space': 4, 'alt.atheism': 4})\n",
      "             6. wdf_train_original 13.88061224489794\n",
      "             Counter({'talk.politics.mideast': 1})\n",
      "             Counter({'talk.politics.mideast': 6, 'rec.autos': 6, 'sci.space': 4, 'alt.atheism': 4})\n",
      "               7. wdf_train_original 13.005102040816322\n",
      "               Counter({'talk.politics.mideast': 4, 'sci.space': 3, 'alt.atheism': 3, 'rec.autos': 2})\n",
      "               Counter({'rec.autos': 4, 'talk.politics.mideast': 2, 'alt.atheism': 1, 'sci.space': 1})\n",
      "\n",
      "\n",
      "           Counter({'alt.atheism': 3, 'sci.space': 2, 'rec.autos': 2})\n",
      "             6. wdf_train_original 4.0959183673469415\n",
      "             Counter({'sci.space': 1, 'rec.autos': 1})\n",
      "               7. wdf_train_original 0.0\n",
      "               Counter({'sci.space': 1})\n",
      "               Counter({'rec.autos': 1})\n",
      "\n",
      "             Counter({'alt.atheism': 3, 'rec.autos': 1, 'sci.space': 1})\n",
      "               7. wdf_train_original 2.3027210884353737\n",
      "               Counter({'rec.autos': 1, 'sci.space': 1, 'alt.atheism': 1})\n",
      "               Counter({'alt.atheism': 2})\n",
      "\n",
      "\n",
      "\n",
      "\n",
      "       Counter({'talk.politics.mideast': 8, 'rec.autos': 7, 'alt.atheism': 6, 'sci.space': 3})\n",
      "         4. wdf_train_original 17.323868677905885\n",
      "         Counter({'talk.politics.mideast': 7, 'rec.autos': 7, 'alt.atheism': 6, 'sci.space': 3})\n",
      "           5. wdf_train_original 16.475218658892114\n",
      "           Counter({'talk.politics.mideast': 6, 'rec.autos': 5, 'alt.atheism': 4, 'sci.space': 1})\n",
      "             6. wdf_train_original 10.815584415584432\n",
      "             Counter({'rec.autos': 3, 'alt.atheism': 1, 'talk.politics.mideast': 1})\n",
      "               7. wdf_train_original 2.3095238095238093\n",
      "               Counter({'rec.autos': 2, 'alt.atheism': 1})\n",
      "               Counter({'talk.politics.mideast': 1, 'rec.autos': 1})\n",
      "\n",
      "             Counter({'talk.politics.mideast': 5, 'alt.atheism': 3, 'rec.autos': 2, 'sci.space': 1})\n",
      "               7. wdf_train_original 6.740524781341107\n",
      "               Counter({'alt.atheism': 1, 'rec.autos': 1, 'sci.space': 1, 'talk.politics.mideast': 1})\n",
      "               Counter({'talk.politics.mideast': 4, 'alt.atheism': 2, 'rec.autos': 1})\n",
      "\n",
      "\n",
      "           Counter({'alt.atheism': 2, 'sci.space': 2, 'rec.autos': 2, 'talk.politics.mideast': 1})\n",
      "             6. wdf_train_original 3.8129251700680236\n",
      "             Counter({'alt.atheism': 2, 'rec.autos': 2, 'talk.politics.mideast': 1, 'sci.space': 1})\n",
      "               7. wdf_train_original 2.995918367346941\n",
      "               Counter({'alt.atheism': 2, 'talk.politics.mideast': 1, 'sci.space': 1, 'rec.autos': 1})\n",
      "               Counter({'rec.autos': 1})\n",
      "\n",
      "             Counter({'sci.space': 1})\n",
      "\n",
      "\n",
      "         Counter({'talk.politics.mideast': 1})\n",
      "\n",
      "\n",
      "\n",
      "   Counter({'talk.politics.mideast': 5, 'alt.atheism': 5, 'rec.autos': 4, 'sci.space': 3})\n",
      "     2. wdf_train_original 12.351311953352777\n",
      "     Counter({'alt.atheism': 1, 'talk.politics.mideast': 1, 'sci.space': 1})\n",
      "       3. wdf_train_original 0.7551020408163269\n",
      "       Counter({'alt.atheism': 1, 'talk.politics.mideast': 1})\n",
      "         4. wdf_train_original 0.0\n",
      "         Counter({'alt.atheism': 1})\n",
      "         Counter({'talk.politics.mideast': 1})\n",
      "\n",
      "       Counter({'sci.space': 1})\n",
      "\n",
      "     Counter({'talk.politics.mideast': 4, 'rec.autos': 4, 'alt.atheism': 4, 'sci.space': 2})\n",
      "       3. wdf_train_original 9.66326530612245\n",
      "       Counter({'talk.politics.mideast': 2})\n",
      "         4. wdf_train_original 0.0\n",
      "         Counter({'talk.politics.mideast': 1})\n",
      "         Counter({'talk.politics.mideast': 1})\n",
      "\n",
      "       Counter({'rec.autos': 4, 'alt.atheism': 4, 'sci.space': 2, 'talk.politics.mideast': 2})\n",
      "         4. wdf_train_original 7.8886827458256175\n",
      "         Counter({'alt.atheism': 1})\n",
      "         Counter({'rec.autos': 4, 'alt.atheism': 3, 'sci.space': 2, 'talk.politics.mideast': 2})\n",
      "           5. wdf_train_original 6.941690962099129\n",
      "           Counter({'talk.politics.mideast': 2, 'rec.autos': 1, 'alt.atheism': 1})\n",
      "             6. wdf_train_original 1.3197278911564614\n",
      "             Counter({'rec.autos': 1, 'alt.atheism': 1, 'talk.politics.mideast': 1})\n",
      "               7. wdf_train_original 0.6530612244897963\n",
      "               Counter({'rec.autos': 1})\n",
      "               Counter({'alt.atheism': 1, 'talk.politics.mideast': 1})\n",
      "\n",
      "             Counter({'talk.politics.mideast': 1})\n",
      "\n",
      "           Counter({'rec.autos': 3, 'sci.space': 2, 'alt.atheism': 2})\n"
     ]
    },
    {
     "name": "stdout",
     "output_type": "stream",
     "text": [
      "             6. wdf_train_original 3.912244897959187\n",
      "             Counter({'rec.autos': 2, 'alt.atheism': 2, 'sci.space': 1})\n",
      "               7. wdf_train_original 2.2108843537414953\n",
      "               Counter({'rec.autos': 2, 'alt.atheism': 1})\n",
      "               Counter({'alt.atheism': 1, 'sci.space': 1})\n",
      "\n",
      "             Counter({'sci.space': 1, 'rec.autos': 1})\n",
      "               7. wdf_train_original 0.0\n",
      "               Counter({'sci.space': 1})\n",
      "               Counter({'rec.autos': 1})\n",
      "\n",
      "\n",
      "\n",
      "\n",
      "\n",
      "\n",
      "\n",
      " Counter({'rec.autos': 5, 'talk.politics.mideast': 4, 'sci.space': 4, 'alt.atheism': 2})\n",
      "   1. wdf_train_original 9.222170686456412\n",
      "   Counter({'rec.autos': 4, 'sci.space': 4, 'alt.atheism': 2, 'talk.politics.mideast': 1})\n",
      "     2. wdf_train_original 5.92630385487528\n",
      "     Counter({'rec.autos': 2})\n",
      "       3. wdf_train_original 0.0\n",
      "       Counter({'rec.autos': 1})\n",
      "       Counter({'rec.autos': 1})\n",
      "\n",
      "     Counter({'sci.space': 4, 'rec.autos': 2, 'alt.atheism': 2, 'talk.politics.mideast': 1})\n",
      "       3. wdf_train_original 4.489795918367344\n",
      "       Counter({'talk.politics.mideast': 1, 'sci.space': 1, 'alt.atheism': 1})\n",
      "         4. wdf_train_original 0.6224489795918371\n",
      "         Counter({'talk.politics.mideast': 1, 'sci.space': 1})\n",
      "           5. wdf_train_original 0.0\n",
      "           Counter({'talk.politics.mideast': 1})\n",
      "           Counter({'sci.space': 1})\n",
      "\n",
      "         Counter({'alt.atheism': 1})\n",
      "\n",
      "       Counter({'sci.space': 3, 'rec.autos': 2, 'alt.atheism': 1})\n",
      "         4. wdf_train_original 2.5034013605442165\n",
      "         Counter({'rec.autos': 1, 'alt.atheism': 1, 'sci.space': 1})\n",
      "           5. wdf_train_original 0.6224489795918371\n",
      "           Counter({'rec.autos': 1, 'alt.atheism': 1})\n",
      "             6. wdf_train_original 0.0\n",
      "             Counter({'rec.autos': 1})\n",
      "             Counter({'alt.atheism': 1})\n",
      "\n",
      "           Counter({'sci.space': 1})\n",
      "\n",
      "         Counter({'sci.space': 2, 'rec.autos': 1})\n",
      "           5. wdf_train_original 0.5612244897959185\n",
      "           Counter({'rec.autos': 1})\n",
      "           Counter({'sci.space': 2})\n",
      "             6. wdf_train_original 0.0\n",
      "             Counter({'sci.space': 1})\n",
      "             Counter({'sci.space': 1})\n",
      "\n",
      "\n",
      "\n",
      "\n",
      "\n",
      "   Counter({'talk.politics.mideast': 3, 'rec.autos': 1})\n",
      "     2. wdf_train_original 1.4693877551020398\n",
      "     Counter({'talk.politics.mideast': 1})\n",
      "     Counter({'talk.politics.mideast': 2, 'rec.autos': 1})\n",
      "       3. wdf_train_original 0.6428571428571432\n",
      "       Counter({'talk.politics.mideast': 2})\n",
      "         4. wdf_train_original 0.0\n",
      "         Counter({'talk.politics.mideast': 1})\n",
      "         Counter({'talk.politics.mideast': 1})\n",
      "\n",
      "       Counter({'rec.autos': 1})\n",
      "\n",
      "\n",
      "\n",
      "\n",
      "\n"
     ]
    }
   ],
   "source": [
    "wxs = [\n",
    "#     (\"wdf_train\", wdf_train),\n",
    "    (\"wdf_train_original\", wdf_train_original),\n",
    "#     (\"wdf_train_original_prime\", wdf_train_original_prime),\n",
    "#     (\"wdf_train_x\", wdf_train_x),\n",
    "#     (\"wdf_train_prime\", wdf_train_prime)\n",
    "]\n",
    "\n",
    "depth = 8\n",
    "n_clusters = 2\n",
    "sample_ratio = 1\n",
    "random_state = 0\n",
    "num_of_iterations = 1\n",
    "tree = np.full((depth, len(y_train)), -1)\n",
    "\n",
    "for title, wx in wxs:\n",
    "    tree = run_partition_kmeans(\n",
    "        title, \n",
    "        wx, \n",
    "        y_train,\n",
    "        tree=tree,\n",
    "        keys=np.array(list(range(len(y_train)))),\n",
    "        n_clusters=n_clusters, \n",
    "        sample_ratio=sample_ratio, \n",
    "        num_of_iterations=num_of_iterations,\n",
    "        random_state=random_state, \n",
    "        level=0, \n",
    "        depth=depth\n",
    "    )\n",
    "    print()\n",
    "    \n",
    "tree = tree.T"
   ]
  },
  {
   "cell_type": "code",
   "execution_count": 230,
   "metadata": {},
   "outputs": [
    {
     "data": {
      "text/plain": [
       "(array([15, 21, 81, 62, 60, 30, 30, -2]), (112, 8), (112,))"
      ]
     },
     "execution_count": 230,
     "metadata": {},
     "output_type": "execute_result"
    }
   ],
   "source": [
    "tree.sum(0), tree.shape, y_train.shape"
   ]
  },
  {
   "cell_type": "code",
   "execution_count": 231,
   "metadata": {},
   "outputs": [
    {
     "name": "stdout",
     "output_type": "stream",
     "text": [
      "using 2 classes\n",
      "wdf_train_original 91.51846879102533\n",
      "Counter({'sci.space': 11, 'rec.autos': 10, 'talk.politics.mideast': 9, 'alt.atheism': 6})\n",
      "Counter({'talk.politics.mideast': 23, 'alt.atheism': 22, 'rec.autos': 17, 'sci.space': 14})\n",
      "\n",
      "tree 205.0945533769062\n",
      "Counter({'talk.politics.mideast': 14, 'rec.autos': 6, 'alt.atheism': 4, 'sci.space': 3})\n",
      "Counter({'alt.atheism': 24, 'sci.space': 22, 'rec.autos': 21, 'talk.politics.mideast': 18})\n",
      "\n"
     ]
    }
   ],
   "source": [
    "wxs = [\n",
    "    (\"wdf_train_original\", wdf_train_original),\n",
    "    (\"tree\", tree),\n",
    "]\n",
    "\n",
    "for i in range(2, 3):\n",
    "    print(f\"using {i} classes\")\n",
    "    \n",
    "    for title, wx in wxs:\n",
    "        kmeans = KMeans(n_clusters=i, random_state=0).fit(wx)\n",
    "        \n",
    "        print(title, kmeans.inertia_)\n",
    "        for ii in range(i):\n",
    "            print(Counter(y_train[kmeans.labels_ == ii]))\n",
    "        print()"
   ]
  },
  {
   "cell_type": "code",
   "execution_count": null,
   "metadata": {},
   "outputs": [],
   "source": []
  },
  {
   "cell_type": "code",
   "execution_count": null,
   "metadata": {},
   "outputs": [],
   "source": []
  },
  {
   "cell_type": "code",
   "execution_count": null,
   "metadata": {},
   "outputs": [],
   "source": []
  },
  {
   "cell_type": "code",
   "execution_count": 133,
   "metadata": {},
   "outputs": [
    {
     "name": "stdout",
     "output_type": "stream",
     "text": [
      "wdf_train 3459.313228215473\n",
      " 0.  Counter({'talk.politics.mideast': 30, 'alt.atheism': 24, 'rec.autos': 23, 'sci.space': 22})\n",
      "wdf_train 3005.4493901650553\n",
      "  1.  Counter({'rec.autos': 20, 'sci.space': 19, 'alt.atheism': 18, 'talk.politics.mideast': 17})\n",
      "\n",
      "  1.  Counter({'talk.politics.mideast': 13, 'alt.atheism': 6, 'sci.space': 3, 'rec.autos': 3})\n",
      "\n",
      "\n",
      " 0.  Counter({'alt.atheism': 4, 'rec.autos': 4, 'sci.space': 3, 'talk.politics.mideast': 2})\n",
      "wdf_train 309.2078953518652\n",
      "  1.  Counter({'sci.space': 1})\n",
      "\n",
      "  1.  Counter({'alt.atheism': 4, 'rec.autos': 4, 'talk.politics.mideast': 2, 'sci.space': 2})\n",
      "\n",
      "\n",
      "\n",
      "wdf_train_original 68.4945191012819\n",
      " 0.  Counter({'alt.atheism': 24, 'talk.politics.mideast': 23, 'rec.autos': 21, 'sci.space': 17})\n",
      "wdf_train_original 50.14391217709676\n",
      "  1.  Counter({'talk.politics.mideast': 11, 'rec.autos': 10, 'sci.space': 8, 'alt.atheism': 8})\n",
      "\n",
      "  1.  Counter({'alt.atheism': 16, 'talk.politics.mideast': 12, 'rec.autos': 11, 'sci.space': 9})\n",
      "\n",
      "\n",
      " 0.  Counter({'talk.politics.mideast': 9, 'sci.space': 8, 'rec.autos': 6, 'alt.atheism': 4})\n",
      "wdf_train_original 15.075518501195758\n",
      "  1.  Counter({'rec.autos': 1})\n",
      "\n",
      "  1.  Counter({'talk.politics.mideast': 9, 'sci.space': 8, 'rec.autos': 5, 'alt.atheism': 4})\n",
      "\n",
      "\n",
      "\n"
     ]
    }
   ],
   "source": [
    "wxs = [\n",
    "    (\"wdf_train\", wdf_train),\n",
    "    (\"wdf_train_original\", wdf_train_original),\n",
    "    (\"wdf_train_original_prime\", wdf_train_original_prime)\n",
    "]\n",
    "\n",
    "for title, wx in wxs:\n",
    "    run_partition_kmeans(\n",
    "        title, \n",
    "        wx, \n",
    "        y_train, \n",
    "        n_clusters=2, \n",
    "        sample_ratio=.75, \n",
    "        num_of_iterations=10_000,\n",
    "        random_state=0, \n",
    "        level=0, \n",
    "        depth=1\n",
    "    )\n",
    "    print()"
   ]
  },
  {
   "cell_type": "code",
   "execution_count": null,
   "metadata": {},
   "outputs": [],
   "source": []
  }
 ],
 "metadata": {
  "colab": {
   "name": "topic_modeler.ipynb",
   "provenance": [],
   "toc_visible": true
  },
  "kernelspec": {
   "display_name": "Python 3.7.2 64-bit",
   "language": "python",
   "name": "python37264bit1e47c484c81847018c6f6fa7221b75f5"
  },
  "language_info": {
   "codemirror_mode": {
    "name": "ipython",
    "version": 3
   },
   "file_extension": ".py",
   "mimetype": "text/x-python",
   "name": "python",
   "nbconvert_exporter": "python",
   "pygments_lexer": "ipython3",
   "version": "3.7.2"
  },
  "widgets": {
   "application/vnd.jupyter.widget-state+json": {
    "1029c3cb5c264802a7bd45639c1a7c20": {
     "model_module": "@jupyter-widgets/base",
     "model_name": "LayoutModel",
     "state": {
      "_model_module": "@jupyter-widgets/base",
      "_model_module_version": "1.2.0",
      "_model_name": "LayoutModel",
      "_view_count": null,
      "_view_module": "@jupyter-widgets/base",
      "_view_module_version": "1.2.0",
      "_view_name": "LayoutView",
      "align_content": null,
      "align_items": null,
      "align_self": null,
      "border": null,
      "bottom": null,
      "display": null,
      "flex": null,
      "flex_flow": null,
      "grid_area": null,
      "grid_auto_columns": null,
      "grid_auto_flow": null,
      "grid_auto_rows": null,
      "grid_column": null,
      "grid_gap": null,
      "grid_row": null,
      "grid_template_areas": null,
      "grid_template_columns": null,
      "grid_template_rows": null,
      "height": null,
      "justify_content": null,
      "justify_items": null,
      "left": null,
      "margin": null,
      "max_height": null,
      "max_width": null,
      "min_height": null,
      "min_width": null,
      "object_fit": null,
      "object_position": null,
      "order": null,
      "overflow": null,
      "overflow_x": null,
      "overflow_y": null,
      "padding": null,
      "right": null,
      "top": null,
      "visibility": null,
      "width": null
     }
    },
    "2e8643a34a7143e284ed8e94aaca32d7": {
     "model_module": "@jupyter-widgets/controls",
     "model_name": "ProgressStyleModel",
     "state": {
      "_model_module": "@jupyter-widgets/controls",
      "_model_module_version": "1.5.0",
      "_model_name": "ProgressStyleModel",
      "_view_count": null,
      "_view_module": "@jupyter-widgets/base",
      "_view_module_version": "1.2.0",
      "_view_name": "StyleView",
      "bar_color": null,
      "description_width": "initial"
     }
    },
    "44bf4a5432b34d269a82bce24d4e46b3": {
     "model_module": "@jupyter-widgets/controls",
     "model_name": "ProgressStyleModel",
     "state": {
      "_model_module": "@jupyter-widgets/controls",
      "_model_module_version": "1.5.0",
      "_model_name": "ProgressStyleModel",
      "_view_count": null,
      "_view_module": "@jupyter-widgets/base",
      "_view_module_version": "1.2.0",
      "_view_name": "StyleView",
      "bar_color": null,
      "description_width": "initial"
     }
    },
    "4dcd4b491d694b0aa25514b8486cf3f8": {
     "model_module": "@jupyter-widgets/base",
     "model_name": "LayoutModel",
     "state": {
      "_model_module": "@jupyter-widgets/base",
      "_model_module_version": "1.2.0",
      "_model_name": "LayoutModel",
      "_view_count": null,
      "_view_module": "@jupyter-widgets/base",
      "_view_module_version": "1.2.0",
      "_view_name": "LayoutView",
      "align_content": null,
      "align_items": null,
      "align_self": null,
      "border": null,
      "bottom": null,
      "display": null,
      "flex": null,
      "flex_flow": null,
      "grid_area": null,
      "grid_auto_columns": null,
      "grid_auto_flow": null,
      "grid_auto_rows": null,
      "grid_column": null,
      "grid_gap": null,
      "grid_row": null,
      "grid_template_areas": null,
      "grid_template_columns": null,
      "grid_template_rows": null,
      "height": null,
      "justify_content": null,
      "justify_items": null,
      "left": null,
      "margin": null,
      "max_height": null,
      "max_width": null,
      "min_height": null,
      "min_width": null,
      "object_fit": null,
      "object_position": null,
      "order": null,
      "overflow": null,
      "overflow_x": null,
      "overflow_y": null,
      "padding": null,
      "right": null,
      "top": null,
      "visibility": null,
      "width": null
     }
    },
    "51dd1aa22f7d45ccbd3ba766bb232b57": {
     "model_module": "@jupyter-widgets/base",
     "model_name": "LayoutModel",
     "state": {
      "_model_module": "@jupyter-widgets/base",
      "_model_module_version": "1.2.0",
      "_model_name": "LayoutModel",
      "_view_count": null,
      "_view_module": "@jupyter-widgets/base",
      "_view_module_version": "1.2.0",
      "_view_name": "LayoutView",
      "align_content": null,
      "align_items": null,
      "align_self": null,
      "border": null,
      "bottom": null,
      "display": null,
      "flex": null,
      "flex_flow": null,
      "grid_area": null,
      "grid_auto_columns": null,
      "grid_auto_flow": null,
      "grid_auto_rows": null,
      "grid_column": null,
      "grid_gap": null,
      "grid_row": null,
      "grid_template_areas": null,
      "grid_template_columns": null,
      "grid_template_rows": null,
      "height": null,
      "justify_content": null,
      "justify_items": null,
      "left": null,
      "margin": null,
      "max_height": null,
      "max_width": null,
      "min_height": null,
      "min_width": null,
      "object_fit": null,
      "object_position": null,
      "order": null,
      "overflow": null,
      "overflow_x": null,
      "overflow_y": null,
      "padding": null,
      "right": null,
      "top": null,
      "visibility": null,
      "width": null
     }
    },
    "5369f73e7d934a68a3478189b5a136b6": {
     "model_module": "@jupyter-widgets/controls",
     "model_name": "FloatProgressModel",
     "state": {
      "_dom_classes": [],
      "_model_module": "@jupyter-widgets/controls",
      "_model_module_version": "1.5.0",
      "_model_name": "FloatProgressModel",
      "_view_count": null,
      "_view_module": "@jupyter-widgets/controls",
      "_view_module_version": "1.5.0",
      "_view_name": "ProgressView",
      "bar_style": "",
      "description": " 14%",
      "description_tooltip": null,
      "layout": "IPY_MODEL_4dcd4b491d694b0aa25514b8486cf3f8",
      "max": 37408,
      "min": 0,
      "orientation": "horizontal",
      "style": "IPY_MODEL_44bf4a5432b34d269a82bce24d4e46b3",
      "value": 5274
     }
    },
    "5c20409065a347d18e1ab6bde4c5a0ba": {
     "model_module": "@jupyter-widgets/base",
     "model_name": "LayoutModel",
     "state": {
      "_model_module": "@jupyter-widgets/base",
      "_model_module_version": "1.2.0",
      "_model_name": "LayoutModel",
      "_view_count": null,
      "_view_module": "@jupyter-widgets/base",
      "_view_module_version": "1.2.0",
      "_view_name": "LayoutView",
      "align_content": null,
      "align_items": null,
      "align_self": null,
      "border": null,
      "bottom": null,
      "display": null,
      "flex": null,
      "flex_flow": null,
      "grid_area": null,
      "grid_auto_columns": null,
      "grid_auto_flow": null,
      "grid_auto_rows": null,
      "grid_column": null,
      "grid_gap": null,
      "grid_row": null,
      "grid_template_areas": null,
      "grid_template_columns": null,
      "grid_template_rows": null,
      "height": null,
      "justify_content": null,
      "justify_items": null,
      "left": null,
      "margin": null,
      "max_height": null,
      "max_width": null,
      "min_height": null,
      "min_width": null,
      "object_fit": null,
      "object_position": null,
      "order": null,
      "overflow": null,
      "overflow_x": null,
      "overflow_y": null,
      "padding": null,
      "right": null,
      "top": null,
      "visibility": null,
      "width": null
     }
    },
    "846b5c7701bc49e4be2a7681d5361dd8": {
     "model_module": "@jupyter-widgets/controls",
     "model_name": "HTMLModel",
     "state": {
      "_dom_classes": [],
      "_model_module": "@jupyter-widgets/controls",
      "_model_module_version": "1.5.0",
      "_model_name": "HTMLModel",
      "_view_count": null,
      "_view_module": "@jupyter-widgets/controls",
      "_view_module_version": "1.5.0",
      "_view_name": "HTMLView",
      "description": "",
      "description_tooltip": null,
      "layout": "IPY_MODEL_5c20409065a347d18e1ab6bde4c5a0ba",
      "placeholder": "​",
      "style": "IPY_MODEL_cee50571766e465b81cd2d06ac0a4d31",
      "value": " 200/200 [00:52&lt;00:00,  3.85it/s]"
     }
    },
    "94d411d6977f493894ec3c8b5975f693": {
     "model_module": "@jupyter-widgets/controls",
     "model_name": "FloatProgressModel",
     "state": {
      "_dom_classes": [],
      "_model_module": "@jupyter-widgets/controls",
      "_model_module_version": "1.5.0",
      "_model_name": "FloatProgressModel",
      "_view_count": null,
      "_view_module": "@jupyter-widgets/controls",
      "_view_module_version": "1.5.0",
      "_view_name": "ProgressView",
      "bar_style": "success",
      "description": "100%",
      "description_tooltip": null,
      "layout": "IPY_MODEL_b8ce72deb0c34c35a99b91bbc9b5504c",
      "max": 200,
      "min": 0,
      "orientation": "horizontal",
      "style": "IPY_MODEL_2e8643a34a7143e284ed8e94aaca32d7",
      "value": 200
     }
    },
    "b8ce72deb0c34c35a99b91bbc9b5504c": {
     "model_module": "@jupyter-widgets/base",
     "model_name": "LayoutModel",
     "state": {
      "_model_module": "@jupyter-widgets/base",
      "_model_module_version": "1.2.0",
      "_model_name": "LayoutModel",
      "_view_count": null,
      "_view_module": "@jupyter-widgets/base",
      "_view_module_version": "1.2.0",
      "_view_name": "LayoutView",
      "align_content": null,
      "align_items": null,
      "align_self": null,
      "border": null,
      "bottom": null,
      "display": null,
      "flex": null,
      "flex_flow": null,
      "grid_area": null,
      "grid_auto_columns": null,
      "grid_auto_flow": null,
      "grid_auto_rows": null,
      "grid_column": null,
      "grid_gap": null,
      "grid_row": null,
      "grid_template_areas": null,
      "grid_template_columns": null,
      "grid_template_rows": null,
      "height": null,
      "justify_content": null,
      "justify_items": null,
      "left": null,
      "margin": null,
      "max_height": null,
      "max_width": null,
      "min_height": null,
      "min_width": null,
      "object_fit": null,
      "object_position": null,
      "order": null,
      "overflow": null,
      "overflow_x": null,
      "overflow_y": null,
      "padding": null,
      "right": null,
      "top": null,
      "visibility": null,
      "width": null
     }
    },
    "b8ee6c0914474dab8186285123c3c25a": {
     "model_module": "@jupyter-widgets/controls",
     "model_name": "HBoxModel",
     "state": {
      "_dom_classes": [],
      "_model_module": "@jupyter-widgets/controls",
      "_model_module_version": "1.5.0",
      "_model_name": "HBoxModel",
      "_view_count": null,
      "_view_module": "@jupyter-widgets/controls",
      "_view_module_version": "1.5.0",
      "_view_name": "HBoxView",
      "box_style": "",
      "children": [
       "IPY_MODEL_94d411d6977f493894ec3c8b5975f693",
       "IPY_MODEL_846b5c7701bc49e4be2a7681d5361dd8"
      ],
      "layout": "IPY_MODEL_1029c3cb5c264802a7bd45639c1a7c20"
     }
    },
    "c3f9b287331c4447a3858c3fed906a66": {
     "model_module": "@jupyter-widgets/controls",
     "model_name": "HBoxModel",
     "state": {
      "_dom_classes": [],
      "_model_module": "@jupyter-widgets/controls",
      "_model_module_version": "1.5.0",
      "_model_name": "HBoxModel",
      "_view_count": null,
      "_view_module": "@jupyter-widgets/controls",
      "_view_module_version": "1.5.0",
      "_view_name": "HBoxView",
      "box_style": "",
      "children": [
       "IPY_MODEL_5369f73e7d934a68a3478189b5a136b6",
       "IPY_MODEL_f02ad7bad6f74da69de3557e8b7e3b92"
      ],
      "layout": "IPY_MODEL_dc810a1b5ae545a09ef4b77e92695a36"
     }
    },
    "cee50571766e465b81cd2d06ac0a4d31": {
     "model_module": "@jupyter-widgets/controls",
     "model_name": "DescriptionStyleModel",
     "state": {
      "_model_module": "@jupyter-widgets/controls",
      "_model_module_version": "1.5.0",
      "_model_name": "DescriptionStyleModel",
      "_view_count": null,
      "_view_module": "@jupyter-widgets/base",
      "_view_module_version": "1.2.0",
      "_view_name": "StyleView",
      "description_width": ""
     }
    },
    "dc810a1b5ae545a09ef4b77e92695a36": {
     "model_module": "@jupyter-widgets/base",
     "model_name": "LayoutModel",
     "state": {
      "_model_module": "@jupyter-widgets/base",
      "_model_module_version": "1.2.0",
      "_model_name": "LayoutModel",
      "_view_count": null,
      "_view_module": "@jupyter-widgets/base",
      "_view_module_version": "1.2.0",
      "_view_name": "LayoutView",
      "align_content": null,
      "align_items": null,
      "align_self": null,
      "border": null,
      "bottom": null,
      "display": null,
      "flex": null,
      "flex_flow": null,
      "grid_area": null,
      "grid_auto_columns": null,
      "grid_auto_flow": null,
      "grid_auto_rows": null,
      "grid_column": null,
      "grid_gap": null,
      "grid_row": null,
      "grid_template_areas": null,
      "grid_template_columns": null,
      "grid_template_rows": null,
      "height": null,
      "justify_content": null,
      "justify_items": null,
      "left": null,
      "margin": null,
      "max_height": null,
      "max_width": null,
      "min_height": null,
      "min_width": null,
      "object_fit": null,
      "object_position": null,
      "order": null,
      "overflow": null,
      "overflow_x": null,
      "overflow_y": null,
      "padding": null,
      "right": null,
      "top": null,
      "visibility": null,
      "width": null
     }
    },
    "eb223b5836d04aaea284e26e6a3a6a1a": {
     "model_module": "@jupyter-widgets/controls",
     "model_name": "DescriptionStyleModel",
     "state": {
      "_model_module": "@jupyter-widgets/controls",
      "_model_module_version": "1.5.0",
      "_model_name": "DescriptionStyleModel",
      "_view_count": null,
      "_view_module": "@jupyter-widgets/base",
      "_view_module_version": "1.2.0",
      "_view_name": "StyleView",
      "description_width": ""
     }
    },
    "f02ad7bad6f74da69de3557e8b7e3b92": {
     "model_module": "@jupyter-widgets/controls",
     "model_name": "HTMLModel",
     "state": {
      "_dom_classes": [],
      "_model_module": "@jupyter-widgets/controls",
      "_model_module_version": "1.5.0",
      "_model_name": "HTMLModel",
      "_view_count": null,
      "_view_module": "@jupyter-widgets/controls",
      "_view_module_version": "1.5.0",
      "_view_name": "HTMLView",
      "description": "",
      "description_tooltip": null,
      "layout": "IPY_MODEL_51dd1aa22f7d45ccbd3ba766bb232b57",
      "placeholder": "​",
      "style": "IPY_MODEL_eb223b5836d04aaea284e26e6a3a6a1a",
      "value": " 5274/37408 [06:38&lt;40:12, 13.32it/s]"
     }
    }
   }
  }
 },
 "nbformat": 4,
 "nbformat_minor": 1
}

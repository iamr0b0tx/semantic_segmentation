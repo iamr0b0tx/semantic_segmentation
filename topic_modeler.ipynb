{
 "cells": [
  {
   "cell_type": "code",
   "execution_count": 1,
   "metadata": {
    "colab": {},
    "colab_type": "code",
    "id": "QfWTxubYcMxR"
   },
   "outputs": [],
   "source": [
    "%load_ext autoreload\n",
    "%autoreload 2"
   ]
  },
  {
   "cell_type": "markdown",
   "metadata": {
    "colab_type": "text",
    "id": "zS4cUkmGcMxd"
   },
   "source": [
    "### imports and utilities"
   ]
  },
  {
   "cell_type": "code",
   "execution_count": 2,
   "metadata": {
    "colab": {
     "base_uri": "https://localhost:8080/",
     "height": 224
    },
    "colab_type": "code",
    "id": "y8zAmrhTcMxe",
    "outputId": "c6f3bac6-21a3-449f-b17e-4d7d1c8a51b1"
   },
   "outputs": [
    {
     "name": "stderr",
     "output_type": "stream",
     "text": [
      "WARNING: You are using pip version 20.1.1; however, version 20.2.2 is available.\n",
      "You should consider upgrading via the 'c:\\program files\\python37\\python.exe -m pip install --upgrade pip' command.\n"
     ]
    }
   ],
   "source": [
    "!pip install nltk scikit-learn matplotlib scipy -q"
   ]
  },
  {
   "cell_type": "code",
   "execution_count": 3,
   "metadata": {
    "colab": {
     "base_uri": "https://localhost:8080/",
     "height": 153
    },
    "colab_type": "code",
    "id": "qOriDeG8cMxl",
    "outputId": "a4b003fc-c8fb-4937-e900-b5807b0d6d53"
   },
   "outputs": [
    {
     "name": "stderr",
     "output_type": "stream",
     "text": [
      "[nltk_data] Downloading package punkt to\n",
      "[nltk_data]     C:\\Users\\christian\\AppData\\Roaming\\nltk_data...\n",
      "[nltk_data]   Package punkt is already up-to-date!\n",
      "[nltk_data] Downloading package wordnet to\n",
      "[nltk_data]     C:\\Users\\christian\\AppData\\Roaming\\nltk_data...\n",
      "[nltk_data]   Package wordnet is already up-to-date!\n",
      "[nltk_data] Downloading package averaged_perceptron_tagger to\n",
      "[nltk_data]     C:\\Users\\christian\\AppData\\Roaming\\nltk_data...\n",
      "[nltk_data]   Package averaged_perceptron_tagger is already up-to-\n",
      "[nltk_data]       date!\n"
     ]
    },
    {
     "data": {
      "text/plain": [
       "True"
      ]
     },
     "execution_count": 3,
     "metadata": {},
     "output_type": "execute_result"
    }
   ],
   "source": [
    "import nltk\n",
    "nltk.download('punkt')\n",
    "nltk.download('wordnet')\n",
    "nltk.download('averaged_perceptron_tagger')"
   ]
  },
  {
   "cell_type": "code",
   "execution_count": 4,
   "metadata": {
    "colab": {},
    "colab_type": "code",
    "id": "3liQaMKccMxs"
   },
   "outputs": [
    {
     "name": "stderr",
     "output_type": "stream",
     "text": [
      "In C:\\Program Files\\Python37\\lib\\site-packages\\matplotlib\\mpl-data\\stylelib\\_classic_test.mplstyle: \n",
      "The savefig.frameon rcparam was deprecated in Matplotlib 3.1 and will be removed in 3.3.\n",
      "In C:\\Program Files\\Python37\\lib\\site-packages\\matplotlib\\mpl-data\\stylelib\\_classic_test.mplstyle: \n",
      "The verbose.level rcparam was deprecated in Matplotlib 3.1 and will be removed in 3.3.\n",
      "In C:\\Program Files\\Python37\\lib\\site-packages\\matplotlib\\mpl-data\\stylelib\\_classic_test.mplstyle: \n",
      "The verbose.fileo rcparam was deprecated in Matplotlib 3.1 and will be removed in 3.3.\n"
     ]
    }
   ],
   "source": [
    "from collections import Counter\n",
    "from utils import *\n",
    "\n",
    "import numpy as np\n",
    "import pandas as pd\n",
    "import matplotlib.pyplot as plt\n",
    "\n",
    "from tqdm.notebook import tqdm\n",
    "from scipy.special import softmax\n",
    "from scipy.stats import norm\n",
    "from scipy.stats import entropy as calculate_entropy\n",
    "\n",
    "from sklearn.model_selection import train_test_split\n",
    "from sklearn.decomposition import PCA\n",
    "from sklearn.preprocessing import normalize\n",
    "from sklearn.datasets import fetch_20newsgroups\n",
    "from sklearn.cluster import KMeans, MiniBatchKMeans\n",
    "from sklearn.metrics.pairwise import cosine_similarity\n",
    "from sklearn.feature_extraction.text import CountVectorizer, TfidfVectorizer"
   ]
  },
  {
   "cell_type": "code",
   "execution_count": 122,
   "metadata": {},
   "outputs": [],
   "source": [
    "def partition_kmeans(wx, y_train, n_clusters, sample_ratio, num_of_iterations, random_state):\n",
    "    max_num = len(y_train)\n",
    "    if max_num < 2:\n",
    "        return\n",
    "    \n",
    "    if sample_ratio < 1.0:\n",
    "        batch_size = int(sample_ratio * max_num)\n",
    "        kmeans = MiniBatchKMeans(n_clusters=n_clusters, random_state=random_state, batch_size=batch_size)\n",
    "\n",
    "        for _ in range(num_of_iterations):\n",
    "            wx_batch, _, _, _ = train_test_split(wx, y_train, train_size=sample_ratio)\n",
    "            kmeans = kmeans.partial_fit(wx_batch)\n",
    "    \n",
    "    else:\n",
    "        kmeans = KMeans(n_clusters=n_clusters, random_state=random_state).fit(wx)\n",
    "        \n",
    "    return kmeans, kmeans.predict(wx)\n",
    "\n",
    "def run_partition_kmeans(title, wx, y_train, tree, keys, n_clusters, sample_ratio, num_of_iterations, random_state, level, depth):\n",
    "    outcome = partition_kmeans(\n",
    "        wx,\n",
    "        y_train,\n",
    "        n_clusters,\n",
    "        sample_ratio,\n",
    "        num_of_iterations,\n",
    "        random_state\n",
    "    )\n",
    "    \n",
    "    if outcome is None:\n",
    "        return tree\n",
    "    \n",
    "    kmeans, predicted_labels = outcome\n",
    "    \n",
    "    xx = kmeans.transform(wx)\n",
    "    xx[:, 1] *= -1\n",
    "    tree[level, keys] = xx[(range(len(predicted_labels)), predicted_labels)]\n",
    "    tree[level, keys] = predicted_labels\n",
    "\n",
    "    print('  '*level, f\"{level}.\", title, kmeans.inertia_)\n",
    "\n",
    "    for index in range(n_clusters):\n",
    "        indices = predicted_labels == index\n",
    "        print('  '*level, Counter(y_train[indices]))\n",
    "\n",
    "        if level < depth-1:\n",
    "            tree = run_partition_kmeans(\n",
    "                title,\n",
    "                wx[indices], \n",
    "                y_train[indices],\n",
    "                tree,\n",
    "                keys[indices],\n",
    "                n_clusters, \n",
    "                sample_ratio,\n",
    "                num_of_iterations,\n",
    "                random_state, \n",
    "                level+1, \n",
    "                depth\n",
    "            ) \n",
    "    return tree"
   ]
  },
  {
   "cell_type": "markdown",
   "metadata": {
    "colab_type": "text",
    "id": "gQtq2JhkcMxz"
   },
   "source": [
    "### load dataset"
   ]
  },
  {
   "cell_type": "code",
   "execution_count": 6,
   "metadata": {
    "colab": {
     "base_uri": "https://localhost:8080/",
     "height": 51
    },
    "colab_type": "code",
    "id": "vR1db5rUcMx0",
    "outputId": "8498f3d2-9ac1-4952-8ad6-85b2c076f94a"
   },
   "outputs": [],
   "source": [
    "dataset = \"newsgroup\"\n",
    "\n",
    "# total number of samples needed\n",
    "randomize = False\n",
    "\n",
    "# retrieve dataset\n",
    "categories = ['rec.autos', 'talk.politics.mideast', 'alt.atheism', 'sci.space']\n",
    "\n",
    "all_docs = fetch_20newsgroups(subset='train', shuffle=randomize, remove=('headers', 'footers', 'quotes'), categories=categories)\n",
    "all_docs, old_labels, categories = all_docs.data, all_docs.target, all_docs.target_names"
   ]
  },
  {
   "cell_type": "code",
   "execution_count": 7,
   "metadata": {
    "colab": {},
    "colab_type": "code",
    "id": "xd-imY-icMx8"
   },
   "outputs": [],
   "source": [
    "# dataset = \"bbc\"\n",
    "\n",
    "# data = pd.read_csv('bbcsport.csv')\n",
    "\n",
    "# all_docs = data[\"text\"].to_list()\n",
    "# old_labels = data[\"topic\"].to_list()\n",
    "# categories = classes = np.unique(data[\"topic\"]).tolist()"
   ]
  },
  {
   "cell_type": "markdown",
   "metadata": {
    "colab_type": "text",
    "id": "WYe4XYDfcMyI"
   },
   "source": [
    "### clean dataset"
   ]
  },
  {
   "cell_type": "code",
   "execution_count": 8,
   "metadata": {
    "colab": {
     "base_uri": "https://localhost:8080/",
     "height": 66,
     "referenced_widgets": [
      "b8ee6c0914474dab8186285123c3c25a",
      "1029c3cb5c264802a7bd45639c1a7c20",
      "94d411d6977f493894ec3c8b5975f693",
      "846b5c7701bc49e4be2a7681d5361dd8",
      "2e8643a34a7143e284ed8e94aaca32d7",
      "b8ce72deb0c34c35a99b91bbc9b5504c",
      "cee50571766e465b81cd2d06ac0a4d31",
      "5c20409065a347d18e1ab6bde4c5a0ba"
     ]
    },
    "colab_type": "code",
    "id": "RgG4w-qpcMyJ",
    "outputId": "142478ec-50d6-4c3a-f6fb-db0ee38fcb1a"
   },
   "outputs": [
    {
     "data": {
      "application/vnd.jupyter.widget-view+json": {
       "model_id": "3abd029892ec47e2835a46592b30344a",
       "version_major": 2,
       "version_minor": 0
      },
      "text/plain": [
       "HBox(children=(FloatProgress(value=0.0, max=160.0), HTML(value='')))"
      ]
     },
     "metadata": {},
     "output_type": "display_data"
    },
    {
     "name": "stdout",
     "output_type": "stream",
     "text": [
      "\n"
     ]
    }
   ],
   "source": [
    "datasize = 40\n",
    "min_document_length = 160\n",
    "max_document_length = 256\n",
    "\n",
    "\n",
    "index = -1\n",
    "docs, labels, label_indices = [], [], []\n",
    "\n",
    "sizes = [0]*len(categories)\n",
    "\n",
    "with tqdm(total=len(categories)*datasize) as pbar:\n",
    "    while sum(sizes) < len(categories)*datasize:\n",
    "        index += 1\n",
    "        label_index = old_labels[index]\n",
    "            \n",
    "        if sizes[label_index] == datasize:\n",
    "            continue\n",
    "        \n",
    "        doc = all_docs[index]\n",
    "        status, doc, word_count = clean_doc(doc, True)\n",
    "        \n",
    "        if not status:\n",
    "            continue\n",
    "            \n",
    "        if min_document_length is not None and len(doc) < min_document_length:\n",
    "            continue\n",
    "            \n",
    "        if max_document_length is not None and len(doc) > max_document_length:\n",
    "            continue\n",
    "        \n",
    "        label_indices.append(label_index)\n",
    "        labels.append(categories[label_index])\n",
    "        \n",
    "        docs.append(doc)\n",
    "        sizes[label_index] += 1\n",
    "        pbar.update(1)\n",
    "\n",
    "labels = np.array(labels)\n",
    "label_indices = np.array(label_indices)"
   ]
  },
  {
   "cell_type": "code",
   "execution_count": 9,
   "metadata": {
    "colab": {
     "base_uri": "https://localhost:8080/",
     "height": 88
    },
    "colab_type": "code",
    "id": "_eBXjBUecMyU",
    "outputId": "12f081a4-fab6-4de7-f36f-62399abaa5b8"
   },
   "outputs": [
    {
     "name": "stdout",
     "output_type": "stream",
     "text": [
      "Topic: rec.autos\n",
      "==================================================\n",
      "not to mention my friend s 54 citroen traction avant with the light switch and dimmer integrate in a single stalk off the steer column those dumb french be apparently copying the japanese before the german\n"
     ]
    }
   ],
   "source": [
    "doc_index = 3\n",
    "print(f\"Topic: {labels[doc_index]}\\n{'='*50}\\n{docs[doc_index][:512]}\")"
   ]
  },
  {
   "cell_type": "code",
   "execution_count": 10,
   "metadata": {
    "colab": {
     "base_uri": "https://localhost:8080/",
     "height": 34
    },
    "colab_type": "code",
    "id": "KS5PW7qHcMyb",
    "outputId": "d83a2010-8955-4c8f-f2d6-be15ecad2198",
    "scrolled": true
   },
   "outputs": [
    {
     "name": "stdout",
     "output_type": "stream",
     "text": [
      "[40, 40, 40, 40]\n"
     ]
    }
   ],
   "source": [
    "print(sizes)\n",
    "assert min(sizes) == max(sizes) == datasize"
   ]
  },
  {
   "cell_type": "markdown",
   "metadata": {},
   "source": [
    "### Split data"
   ]
  },
  {
   "cell_type": "code",
   "execution_count": 131,
   "metadata": {},
   "outputs": [],
   "source": [
    "x_train, x_test, y_train, y_test = train_test_split(docs, labels, test_size =.3)"
   ]
  },
  {
   "cell_type": "code",
   "execution_count": 132,
   "metadata": {
    "colab": {
     "base_uri": "https://localhost:8080/",
     "height": 34
    },
    "colab_type": "code",
    "id": "s8R3CeUBcMyg",
    "outputId": "adcba1c9-85ae-428d-ff5f-ba33bd7beef8",
    "scrolled": false
   },
   "outputs": [
    {
     "name": "stdout",
     "output_type": "stream",
     "text": [
      "there are 160 total docs, 112 train and 48 test\n"
     ]
    }
   ],
   "source": [
    "print(f\"there are {len(docs)} total docs, {len(y_train)} train and {len(y_test)} test\")"
   ]
  },
  {
   "cell_type": "markdown",
   "metadata": {
    "colab_type": "text",
    "id": "-OUac83RcMyl"
   },
   "source": [
    "### Initialize Vectorizer"
   ]
  },
  {
   "cell_type": "code",
   "execution_count": 133,
   "metadata": {
    "colab": {
     "base_uri": "https://localhost:8080/",
     "height": 34
    },
    "colab_type": "code",
    "id": "ZCBHEIyEcMyn",
    "outputId": "18cbf825-2576-4937-908b-ce0cc5a29150"
   },
   "outputs": [
    {
     "name": "stdout",
     "output_type": "stream",
     "text": [
      "word_count is 1481\n"
     ]
    }
   ],
   "source": [
    "# initialize the count vectorizer\n",
    "vectorizer = CountVectorizer()\n",
    "\n",
    "# fit it to dataset\n",
    "vectorizer.fit(x_train)\n",
    "\n",
    "vocabulary = np.array(vectorizer.get_feature_names())\n",
    "print(\"word_count is\", len(vocabulary))"
   ]
  },
  {
   "cell_type": "markdown",
   "metadata": {
    "colab_type": "text",
    "id": "UKomwY7acMyz"
   },
   "source": [
    "### Prepare Datatset"
   ]
  },
  {
   "cell_type": "code",
   "execution_count": 134,
   "metadata": {
    "colab": {
     "base_uri": "https://localhost:8080/",
     "height": 34
    },
    "colab_type": "code",
    "id": "IIYeZA4EcMy0",
    "outputId": "da04274f-82f4-49a5-8be6-d1c9230aa835"
   },
   "outputs": [],
   "source": [
    "# create doc count vectors\n",
    "train_doc_vectors = vectorizer.transform(x_train).toarray()\n",
    "test_doc_vectors = vectorizer.transform(x_test).toarray()\n",
    "\n",
    "wdf_train = pd.DataFrame(train_doc_vectors, columns=vocabulary)\n",
    "wdf_test = pd.DataFrame(test_doc_vectors, columns=vocabulary)"
   ]
  },
  {
   "cell_type": "markdown",
   "metadata": {},
   "source": [
    "## Word Word Probability Distr"
   ]
  },
  {
   "cell_type": "code",
   "execution_count": 135,
   "metadata": {
    "scrolled": true
   },
   "outputs": [
    {
     "data": {
      "application/vnd.jupyter.widget-view+json": {
       "model_id": "62ed51028f794774b5b5d513d7968a03",
       "version_major": 2,
       "version_minor": 0
      },
      "text/plain": [
       "HBox(children=(FloatProgress(value=0.0, max=1.0), HTML(value='')))"
      ]
     },
     "metadata": {},
     "output_type": "display_data"
    },
    {
     "data": {
      "application/vnd.jupyter.widget-view+json": {
       "model_id": "fdad2b609694452b8dc26c6f146bddf7",
       "version_major": 2,
       "version_minor": 0
      },
      "text/plain": [
       "HBox(children=(FloatProgress(value=0.0, max=1481.0), HTML(value='')))"
      ]
     },
     "metadata": {},
     "output_type": "display_data"
    },
    {
     "name": "stdout",
     "output_type": "stream",
     "text": [
      "\n",
      "word_word_pr_distr shape = (1481, 1481)\n"
     ]
    },
    {
     "data": {
      "application/vnd.jupyter.widget-view+json": {
       "model_id": "5751e56f48a14a81b404573de11bfe6e",
       "version_major": 2,
       "version_minor": 0
      },
      "text/plain": [
       "HBox(children=(FloatProgress(value=0.0, max=112.0), HTML(value='')))"
      ]
     },
     "metadata": {},
     "output_type": "display_data"
    },
    {
     "name": "stdout",
     "output_type": "stream",
     "text": [
      "\n"
     ]
    },
    {
     "data": {
      "application/vnd.jupyter.widget-view+json": {
       "model_id": "eed0f696393c4f49a9c0743a79ac7ce8",
       "version_major": 2,
       "version_minor": 0
      },
      "text/plain": [
       "HBox(children=(FloatProgress(value=0.0, max=48.0), HTML(value='')))"
      ]
     },
     "metadata": {},
     "output_type": "display_data"
    },
    {
     "name": "stdout",
     "output_type": "stream",
     "text": [
      "\n",
      "\n"
     ]
    }
   ],
   "source": [
    "num_of_iterations = 1\n",
    "\n",
    "wdf_train_prime = wdf_train.copy()\n",
    "wdf_test_prime = wdf_test.copy()\n",
    "\n",
    "for _ in tqdm(range(num_of_iterations)):\n",
    "    wdt_train_prime = wdf_train_prime.copy()\n",
    "    wdt_test_prime = wdf_test_prime.copy()\n",
    "\n",
    "    wdt_train_prime[\"__labels__\"] = y_train\n",
    "    wdt_test_prime[\"__labels__\"] = y_test\n",
    "\n",
    "    word_doc_count = wdf_train_prime.sum(0)\n",
    "    word_word_pr_distr = pd.DataFrame(data=0.0, columns=vocabulary, index=vocabulary)\n",
    "\n",
    "    for word in tqdm(vocabulary):\n",
    "        pxy = wdf_train_prime[wdf_train_prime[word] > 0].sum(0) / word_doc_count[word]\n",
    "        word_word_pr_distr[word] = pxy * (word_doc_count[word] / word_doc_count)\n",
    "\n",
    "#     word_word_pr_distr /= word_word_pr_distr.max().max()\n",
    "    print(f\"word_word_pr_distr shape = {word_word_pr_distr.shape}\")\n",
    "\n",
    "    wdf_train_x = 0 * wdf_train_prime\n",
    "    wdf_test_x = 0 * wdf_test_prime\n",
    "\n",
    "    for wx, wo in [(wdf_train_x, wdf_train_prime), (wdf_test_x, wdf_test_prime)]:\n",
    "        for doc_index in tqdm(range(len(wo))):\n",
    "            denom = 0\n",
    "\n",
    "            indices = (wo.loc[doc_index] > 0)\n",
    "            xv = wo.loc[doc_index][indices]\n",
    "\n",
    "            for index, (wordx, word_freq) in enumerate(xv.iteritems()):\n",
    "                denom += word_freq\n",
    "                wx.loc[doc_index] += word_freq * word_word_pr_distr[wordx]\n",
    "\n",
    "            wx.loc[doc_index] /= denom\n",
    "#         wx /= wx.max().max()\n",
    "    \n",
    "    wdf_train_prime = wdf_train_x.copy()\n",
    "    wdf_test_prime = wdf_test_x.copy()\n",
    "    "
   ]
  },
  {
   "cell_type": "code",
   "execution_count": 136,
   "metadata": {},
   "outputs": [
    {
     "data": {
      "text/plain": [
       "000       0.268293\n",
       "031349    0.219512\n",
       "10        0.341463\n",
       "11        0.158537\n",
       "16th      0.097561\n",
       "            ...   \n",
       "yo        0.154472\n",
       "yorker    0.243902\n",
       "you       0.204155\n",
       "your      0.222838\n",
       "zeuge     0.146341\n",
       "Name: 0, Length: 1481, dtype: float64"
      ]
     },
     "execution_count": 136,
     "metadata": {},
     "output_type": "execute_result"
    }
   ],
   "source": [
    "wdf_train_prime.loc[0]"
   ]
  },
  {
   "cell_type": "markdown",
   "metadata": {},
   "source": [
    "### Discover Topics"
   ]
  },
  {
   "cell_type": "code",
   "execution_count": 137,
   "metadata": {},
   "outputs": [
    {
     "name": "stdout",
     "output_type": "stream",
     "text": [
      " 0. wdf_train 4569.374694675139\n",
      " Counter({'alt.atheism': 29, 'talk.politics.mideast': 21, 'sci.space': 20, 'rec.autos': 19})\n",
      "   1. wdf_train 3514.0307692307724\n",
      "   Counter({'alt.atheism': 19, 'rec.autos': 16, 'sci.space': 15, 'talk.politics.mideast': 15})\n",
      "     2. wdf_train 2451.137755102033\n",
      "     Counter({'sci.space': 14, 'alt.atheism': 13, 'rec.autos': 12, 'talk.politics.mideast': 10})\n",
      "       3. wdf_train 1766.988888888887\n",
      "       Counter({'alt.atheism': 2, 'rec.autos': 1, 'sci.space': 1})\n",
      "         4. wdf_train 57.0\n",
      "         Counter({'rec.autos': 1, 'sci.space': 1})\n",
      "           5. wdf_train 0.0\n",
      "           Counter({'rec.autos': 1})\n",
      "           Counter({'sci.space': 1})\n",
      "         Counter({'alt.atheism': 2})\n",
      "           5. wdf_train 0.0\n",
      "           Counter({'alt.atheism': 1})\n",
      "           Counter({'alt.atheism': 1})\n",
      "       Counter({'sci.space': 13, 'alt.atheism': 11, 'rec.autos': 11, 'talk.politics.mideast': 10})\n",
      "         4. wdf_train 1592.8636363636335\n",
      "         Counter({'sci.space': 13, 'alt.atheism': 11, 'rec.autos': 11, 'talk.politics.mideast': 9})\n",
      "           5. wdf_train 1530.6060606060596\n",
      "           Counter({'alt.atheism': 9, 'sci.space': 9, 'rec.autos': 8, 'talk.politics.mideast': 7})\n",
      "             6. wdf_train 1106.0086206896556\n",
      "             Counter({'alt.atheism': 9, 'sci.space': 7, 'talk.politics.mideast': 7, 'rec.autos': 6})\n",
      "               7. wdf_train 958.3928571428551\n",
      "               Counter({'alt.atheism': 1})\n",
      "               Counter({'alt.atheism': 8, 'sci.space': 7, 'talk.politics.mideast': 7, 'rec.autos': 6})\n",
      "                 8. wdf_train 910.075757575759\n",
      "                 Counter({'alt.atheism': 2, 'talk.politics.mideast': 2, 'rec.autos': 2})\n",
      "                   9. wdf_train 136.5\n",
      "                   Counter({'alt.atheism': 1, 'rec.autos': 1})\n",
      "                     10. wdf_train 0.0\n",
      "                     Counter({'alt.atheism': 1})\n",
      "                     Counter({'rec.autos': 1})\n",
      "                   Counter({'talk.politics.mideast': 2, 'rec.autos': 1, 'alt.atheism': 1})\n",
      "                     10. wdf_train 61.99999999999996\n",
      "                     Counter({'talk.politics.mideast': 1})\n",
      "                     Counter({'talk.politics.mideast': 1, 'rec.autos': 1, 'alt.atheism': 1})\n",
      "                       11. wdf_train 30.5\n",
      "                       Counter({'talk.politics.mideast': 1, 'alt.atheism': 1})\n",
      "                         12. wdf_train 0.0\n",
      "                         Counter({'talk.politics.mideast': 1})\n",
      "                         Counter({'alt.atheism': 1})\n",
      "                       Counter({'rec.autos': 1})\n",
      "                 Counter({'sci.space': 7, 'alt.atheism': 6, 'talk.politics.mideast': 5, 'rec.autos': 4})\n",
      "                   9. wdf_train 677.8095238095225\n",
      "                   Counter({'alt.atheism': 1})\n",
      "                   Counter({'sci.space': 7, 'alt.atheism': 5, 'talk.politics.mideast': 5, 'rec.autos': 4})\n",
      "                     10. wdf_train 633.6500000000005\n",
      "                     Counter({'sci.space': 7, 'talk.politics.mideast': 5, 'alt.atheism': 4, 'rec.autos': 4})\n",
      "                       11. wdf_train 590.6875\n",
      "                       Counter({'sci.space': 5, 'alt.atheism': 4, 'talk.politics.mideast': 4, 'rec.autos': 3})\n",
      "                         12. wdf_train 452.26666666666756\n",
      "                         Counter({'sci.space': 4, 'alt.atheism': 4, 'talk.politics.mideast': 4, 'rec.autos': 3})\n",
      "                           13. wdf_train 414.5909090909096\n",
      "                           Counter({'sci.space': 1, 'talk.politics.mideast': 1, 'alt.atheism': 1, 'rec.autos': 1})\n",
      "                             14. wdf_train 64.6666666666666\n",
      "                             Counter({'sci.space': 1})\n",
      "                             Counter({'talk.politics.mideast': 1, 'alt.atheism': 1, 'rec.autos': 1})\n",
      "                               15. wdf_train 28.5\n",
      "                               Counter({'talk.politics.mideast': 1, 'rec.autos': 1})\n",
      "                               Counter({'alt.atheism': 1})\n",
      "                           Counter({'alt.atheism': 3, 'sci.space': 3, 'talk.politics.mideast': 3, 'rec.autos': 2})\n",
      "                             14. wdf_train 274.40000000000043\n",
      "                             Counter({'alt.atheism': 1})\n",
      "                             Counter({'sci.space': 3, 'talk.politics.mideast': 3, 'alt.atheism': 2, 'rec.autos': 2})\n",
      "                               15. wdf_train 238.3999999999997\n",
      "                               Counter({'talk.politics.mideast': 2, 'sci.space': 1, 'rec.autos': 1, 'alt.atheism': 1})\n",
      "                               Counter({'sci.space': 2, 'alt.atheism': 1, 'talk.politics.mideast': 1, 'rec.autos': 1})\n",
      "                         Counter({'sci.space': 1})\n",
      "                       Counter({'sci.space': 2, 'talk.politics.mideast': 1, 'rec.autos': 1})\n",
      "                         12. wdf_train 61.33333333333327\n",
      "                         Counter({'sci.space': 1})\n",
      "                         Counter({'sci.space': 1, 'talk.politics.mideast': 1, 'rec.autos': 1})\n",
      "                           13. wdf_train 29.0\n",
      "                           Counter({'sci.space': 1})\n",
      "                           Counter({'talk.politics.mideast': 1, 'rec.autos': 1})\n",
      "                             14. wdf_train 0.0\n",
      "                             Counter({'talk.politics.mideast': 1})\n",
      "                             Counter({'rec.autos': 1})\n",
      "                     Counter({'alt.atheism': 1})\n",
      "             Counter({'rec.autos': 2, 'sci.space': 2})\n",
      "               7. wdf_train 61.333333333333286\n",
      "               Counter({'rec.autos': 1})\n",
      "               Counter({'sci.space': 2, 'rec.autos': 1})\n",
      "                 8. wdf_train 28.0\n",
      "                 Counter({'rec.autos': 1, 'sci.space': 1})\n",
      "                   9. wdf_train 0.0\n",
      "                   Counter({'rec.autos': 1})\n",
      "                   Counter({'sci.space': 1})\n",
      "                 Counter({'sci.space': 1})\n",
      "           Counter({'sci.space': 4, 'rec.autos': 3, 'talk.politics.mideast': 2, 'alt.atheism': 2})\n",
      "             6. wdf_train 317.6000000000003\n",
      "             Counter({'sci.space': 4, 'rec.autos': 3, 'talk.politics.mideast': 2, 'alt.atheism': 1})\n",
      "               7. wdf_train 274.6666666666666\n",
      "               Counter({'sci.space': 3, 'talk.politics.mideast': 2, 'rec.autos': 1, 'alt.atheism': 1})\n",
      "                 8. wdf_train 170.3333333333335\n",
      "                 Counter({'alt.atheism': 1})\n",
      "                 Counter({'sci.space': 3, 'talk.politics.mideast': 2, 'rec.autos': 1})\n",
      "                   9. wdf_train 129.19999999999982\n",
      "                   Counter({'sci.space': 1})\n",
      "                   Counter({'sci.space': 2, 'talk.politics.mideast': 2, 'rec.autos': 1})\n",
      "                     10. wdf_train 91.0\n",
      "                     Counter({'talk.politics.mideast': 1})\n",
      "                     Counter({'sci.space': 2, 'talk.politics.mideast': 1, 'rec.autos': 1})\n",
      "                       11. wdf_train 55.99999999999996\n",
      "                       Counter({'sci.space': 1})\n",
      "                       Counter({'sci.space': 1, 'talk.politics.mideast': 1, 'rec.autos': 1})\n",
      "                         12. wdf_train 27.0\n",
      "                         Counter({'sci.space': 1})\n",
      "                         Counter({'talk.politics.mideast': 1, 'rec.autos': 1})\n",
      "                           13. wdf_train 0.0\n",
      "                           Counter({'talk.politics.mideast': 1})\n",
      "                           Counter({'rec.autos': 1})\n",
      "               Counter({'rec.autos': 2, 'sci.space': 1})\n",
      "                 8. wdf_train 29.0\n",
      "                 Counter({'rec.autos': 1})\n",
      "                 Counter({'rec.autos': 1, 'sci.space': 1})\n",
      "                   9. wdf_train 0.0\n",
      "                   Counter({'rec.autos': 1})\n",
      "                   Counter({'sci.space': 1})\n",
      "             Counter({'alt.atheism': 1})\n",
      "         Counter({'talk.politics.mideast': 1})\n",
      "     Counter({'alt.atheism': 6, 'talk.politics.mideast': 5, 'rec.autos': 4, 'sci.space': 1})\n",
      "       3. wdf_train 554.4000000000007\n",
      "       Counter({'alt.atheism': 1})\n",
      "       Counter({'talk.politics.mideast': 5, 'alt.atheism': 5, 'rec.autos': 4, 'sci.space': 1})\n",
      "         4. wdf_train 503.85714285714266\n",
      "         Counter({'alt.atheism': 5, 'talk.politics.mideast': 4, 'rec.autos': 4, 'sci.space': 1})\n",
      "           5. wdf_train 453.69230769230813\n",
      "           Counter({'sci.space': 1})\n",
      "           Counter({'alt.atheism': 5, 'talk.politics.mideast': 4, 'rec.autos': 4})\n"
     ]
    },
    {
     "name": "stdout",
     "output_type": "stream",
     "text": [
      "             6. wdf_train 407.16666666666606\n",
      "             Counter({'alt.atheism': 5, 'talk.politics.mideast': 4, 'rec.autos': 3})\n",
      "               7. wdf_train 362.75\n",
      "               Counter({'alt.atheism': 2, 'rec.autos': 2})\n",
      "                 8. wdf_train 72.66666666666661\n",
      "                 Counter({'rec.autos': 1})\n",
      "                 Counter({'alt.atheism': 2, 'rec.autos': 1})\n",
      "                   9. wdf_train 34.5\n",
      "                   Counter({'alt.atheism': 2})\n",
      "                     10. wdf_train 0.0\n",
      "                     Counter({'alt.atheism': 1})\n",
      "                     Counter({'alt.atheism': 1})\n",
      "                   Counter({'rec.autos': 1})\n",
      "               Counter({'talk.politics.mideast': 4, 'alt.atheism': 3, 'rec.autos': 1})\n",
      "                 8. wdf_train 206.00000000000014\n",
      "                 Counter({'alt.atheism': 3, 'talk.politics.mideast': 2, 'rec.autos': 1})\n",
      "                   9. wdf_train 127.59999999999987\n",
      "                   Counter({'alt.atheism': 3, 'talk.politics.mideast': 2})\n",
      "                     10. wdf_train 88.49999999999999\n",
      "                     Counter({'alt.atheism': 3})\n",
      "                       11. wdf_train 23.0\n",
      "                       Counter({'alt.atheism': 2})\n",
      "                         12. wdf_train 0.0\n",
      "                         Counter({'alt.atheism': 1})\n",
      "                         Counter({'alt.atheism': 1})\n",
      "                       Counter({'alt.atheism': 1})\n",
      "                     Counter({'talk.politics.mideast': 2})\n",
      "                       11. wdf_train 0.0\n",
      "                       Counter({'talk.politics.mideast': 1})\n",
      "                       Counter({'talk.politics.mideast': 1})\n",
      "                   Counter({'rec.autos': 1})\n",
      "                 Counter({'talk.politics.mideast': 2})\n",
      "                   9. wdf_train 0.0\n",
      "                   Counter({'talk.politics.mideast': 1})\n",
      "                   Counter({'talk.politics.mideast': 1})\n",
      "             Counter({'rec.autos': 1})\n",
      "         Counter({'talk.politics.mideast': 1})\n",
      "   Counter({'alt.atheism': 10, 'talk.politics.mideast': 6, 'sci.space': 5, 'rec.autos': 3})\n",
      "     2. wdf_train 874.875\n",
      "     Counter({'alt.atheism': 5, 'sci.space': 2, 'rec.autos': 1})\n",
      "       3. wdf_train 232.28571428571422\n",
      "       Counter({'alt.atheism': 5, 'sci.space': 2})\n",
      "         4. wdf_train 181.33333333333348\n",
      "         Counter({'alt.atheism': 4, 'sci.space': 2})\n",
      "           5. wdf_train 133.99999999999991\n",
      "           Counter({'sci.space': 2, 'alt.atheism': 1})\n",
      "             6. wdf_train 29.5\n",
      "             Counter({'sci.space': 1})\n",
      "             Counter({'sci.space': 1, 'alt.atheism': 1})\n",
      "               7. wdf_train 0.0\n",
      "               Counter({'sci.space': 1})\n",
      "               Counter({'alt.atheism': 1})\n",
      "           Counter({'alt.atheism': 3})\n",
      "             6. wdf_train 32.5\n",
      "             Counter({'alt.atheism': 1})\n",
      "             Counter({'alt.atheism': 2})\n",
      "               7. wdf_train 0.0\n",
      "               Counter({'alt.atheism': 1})\n",
      "               Counter({'alt.atheism': 1})\n",
      "         Counter({'alt.atheism': 1})\n",
      "       Counter({'rec.autos': 1})\n",
      "     Counter({'talk.politics.mideast': 6, 'alt.atheism': 5, 'sci.space': 3, 'rec.autos': 2})\n",
      "       3. wdf_train 533.6000000000009\n",
      "       Counter({'talk.politics.mideast': 1})\n",
      "       Counter({'alt.atheism': 5, 'talk.politics.mideast': 5, 'sci.space': 3, 'rec.autos': 2})\n",
      "         4. wdf_train 481.2142857142853\n",
      "         Counter({'alt.atheism': 1})\n",
      "         Counter({'talk.politics.mideast': 5, 'alt.atheism': 4, 'sci.space': 3, 'rec.autos': 2})\n",
      "           5. wdf_train 428.91666666666686\n",
      "           Counter({'talk.politics.mideast': 4, 'alt.atheism': 3, 'rec.autos': 1})\n",
      "             6. wdf_train 209.7142857142855\n",
      "             Counter({'rec.autos': 1})\n",
      "             Counter({'talk.politics.mideast': 4, 'alt.atheism': 3})\n",
      "               7. wdf_train 165.50000000000017\n",
      "               Counter({'talk.politics.mideast': 1})\n",
      "               Counter({'alt.atheism': 3, 'talk.politics.mideast': 3})\n",
      "                 8. wdf_train 126.25\n",
      "                 Counter({'talk.politics.mideast': 1, 'alt.atheism': 1})\n",
      "                   9. wdf_train 0.0\n",
      "                   Counter({'talk.politics.mideast': 1})\n",
      "                   Counter({'alt.atheism': 1})\n",
      "                 Counter({'alt.atheism': 2, 'talk.politics.mideast': 2})\n",
      "                   9. wdf_train 55.99999999999996\n",
      "                   Counter({'talk.politics.mideast': 1})\n",
      "                   Counter({'alt.atheism': 2, 'talk.politics.mideast': 1})\n",
      "                     10. wdf_train 28.0\n",
      "                     Counter({'alt.atheism': 1, 'talk.politics.mideast': 1})\n",
      "                       11. wdf_train 0.0\n",
      "                       Counter({'alt.atheism': 1})\n",
      "                       Counter({'talk.politics.mideast': 1})\n",
      "                     Counter({'alt.atheism': 1})\n",
      "           Counter({'sci.space': 3, 'talk.politics.mideast': 1, 'rec.autos': 1, 'alt.atheism': 1})\n",
      "             6. wdf_train 130.39999999999984\n",
      "             Counter({'rec.autos': 1})\n",
      "             Counter({'sci.space': 3, 'talk.politics.mideast': 1, 'alt.atheism': 1})\n",
      "               7. wdf_train 91.16666666666663\n",
      "               Counter({'talk.politics.mideast': 1, 'alt.atheism': 1})\n",
      "                 8. wdf_train 0.0\n",
      "                 Counter({'talk.politics.mideast': 1})\n",
      "                 Counter({'alt.atheism': 1})\n",
      "               Counter({'sci.space': 3})\n",
      "                 8. wdf_train 29.0\n",
      "                 Counter({'sci.space': 2})\n",
      "                   9. wdf_train 0.0\n",
      "                   Counter({'sci.space': 1})\n",
      "                   Counter({'sci.space': 1})\n",
      "                 Counter({'sci.space': 1})\n",
      " Counter({'rec.autos': 8, 'talk.politics.mideast': 7, 'sci.space': 6, 'alt.atheism': 2})\n",
      "   1. wdf_train 820.8571428571414\n",
      "   Counter({'rec.autos': 8, 'talk.politics.mideast': 6, 'sci.space': 5, 'alt.atheism': 2})\n",
      "     2. wdf_train 704.3888888888888\n",
      "     Counter({'rec.autos': 2, 'alt.atheism': 1})\n",
      "       3. wdf_train 38.0\n",
      "       Counter({'rec.autos': 2})\n",
      "         4. wdf_train 0.0\n",
      "         Counter({'rec.autos': 1})\n",
      "         Counter({'rec.autos': 1})\n",
      "       Counter({'alt.atheism': 1})\n",
      "     Counter({'rec.autos': 6, 'talk.politics.mideast': 6, 'sci.space': 5, 'alt.atheism': 1})\n",
      "       3. wdf_train 565.625\n",
      "       Counter({'rec.autos': 1, 'talk.politics.mideast': 1})\n",
      "         4. wdf_train 0.0\n",
      "         Counter({'rec.autos': 1})\n",
      "         Counter({'talk.politics.mideast': 1})\n",
      "       Counter({'rec.autos': 5, 'sci.space': 5, 'talk.politics.mideast': 5, 'alt.atheism': 1})\n",
      "         4. wdf_train 467.8571428571424\n",
      "         Counter({'talk.politics.mideast': 2})\n",
      "           5. wdf_train 0.0\n",
      "           Counter({'talk.politics.mideast': 1})\n",
      "           Counter({'talk.politics.mideast': 1})\n",
      "         Counter({'rec.autos': 5, 'sci.space': 5, 'talk.politics.mideast': 3, 'alt.atheism': 1})\n",
      "           5. wdf_train 389.5500000000004\n",
      "           Counter({'rec.autos': 4, 'sci.space': 4, 'talk.politics.mideast': 2})\n",
      "             6. wdf_train 259.5999999999996\n",
      "             Counter({'sci.space': 3, 'rec.autos': 1, 'talk.politics.mideast': 1})\n",
      "               7. wdf_train 75.0\n",
      "               Counter({'sci.space': 3, 'talk.politics.mideast': 1})\n",
      "                 8. wdf_train 47.99999999999997\n",
      "                 Counter({'sci.space': 1})\n",
      "                 Counter({'sci.space': 2, 'talk.politics.mideast': 1})\n",
      "                   9. wdf_train 24.0\n",
      "                   Counter({'talk.politics.mideast': 1, 'sci.space': 1})\n",
      "                     10. wdf_train 0.0\n",
      "                     Counter({'talk.politics.mideast': 1})\n",
      "                     Counter({'sci.space': 1})\n",
      "                   Counter({'sci.space': 1})\n",
      "               Counter({'rec.autos': 1})\n",
      "             Counter({'rec.autos': 3, 'talk.politics.mideast': 1, 'sci.space': 1})\n",
      "               7. wdf_train 107.0\n",
      "               Counter({'rec.autos': 2, 'talk.politics.mideast': 1, 'sci.space': 1})\n",
      "                 8. wdf_train 65.33333333333327\n",
      "                 Counter({'rec.autos': 1})\n",
      "                 Counter({'talk.politics.mideast': 1, 'sci.space': 1, 'rec.autos': 1})\n",
      "                   9. wdf_train 30.5\n",
      "                   Counter({'talk.politics.mideast': 1, 'rec.autos': 1})\n",
      "                     10. wdf_train 0.0\n",
      "                     Counter({'talk.politics.mideast': 1})\n",
      "                     Counter({'rec.autos': 1})\n",
      "                   Counter({'sci.space': 1})\n",
      "               Counter({'rec.autos': 1})\n",
      "           Counter({'sci.space': 1, 'rec.autos': 1, 'alt.atheism': 1, 'talk.politics.mideast': 1})\n"
     ]
    },
    {
     "name": "stdout",
     "output_type": "stream",
     "text": [
      "             6. wdf_train 57.33333333333329\n",
      "             Counter({'sci.space': 1, 'rec.autos': 1, 'talk.politics.mideast': 1})\n",
      "               7. wdf_train 28.0\n",
      "               Counter({'sci.space': 1})\n",
      "               Counter({'rec.autos': 1, 'talk.politics.mideast': 1})\n",
      "                 8. wdf_train 0.0\n",
      "                 Counter({'rec.autos': 1})\n",
      "                 Counter({'talk.politics.mideast': 1})\n",
      "             Counter({'alt.atheism': 1})\n",
      "   Counter({'talk.politics.mideast': 1, 'sci.space': 1})\n",
      "     2. wdf_train 0.0\n",
      "     Counter({'talk.politics.mideast': 1})\n",
      "     Counter({'sci.space': 1})\n",
      "\n",
      " 0. wdf_train_prime 1285.3436800481868\n",
      " Counter({'alt.atheism': 17, 'rec.autos': 16, 'talk.politics.mideast': 15, 'sci.space': 14})\n",
      "   1. wdf_train_prime 579.8632133657665\n",
      "   Counter({'rec.autos': 5, 'talk.politics.mideast': 4, 'sci.space': 4, 'alt.atheism': 3})\n",
      "     2. wdf_train_prime 117.88688632393489\n",
      "     Counter({'talk.politics.mideast': 4, 'rec.autos': 3, 'sci.space': 2, 'alt.atheism': 1})\n",
      "       3. wdf_train_prime 62.115943638825186\n",
      "       Counter({'talk.politics.mideast': 1, 'alt.atheism': 1})\n",
      "         4. wdf_train_prime 0.0\n",
      "         Counter({'talk.politics.mideast': 1})\n",
      "         Counter({'alt.atheism': 1})\n",
      "       Counter({'talk.politics.mideast': 3, 'rec.autos': 3, 'sci.space': 2})\n",
      "         4. wdf_train_prime 42.71076830291657\n",
      "         Counter({'talk.politics.mideast': 3, 'sci.space': 2, 'rec.autos': 2})\n",
      "           5. wdf_train_prime 33.71839361814463\n",
      "           Counter({'rec.autos': 2, 'sci.space': 1, 'talk.politics.mideast': 1})\n",
      "             6. wdf_train_prime 12.517523687690222\n",
      "             Counter({'sci.space': 1, 'talk.politics.mideast': 1, 'rec.autos': 1})\n",
      "               7. wdf_train_prime 6.023851055198142\n",
      "               Counter({'sci.space': 1, 'rec.autos': 1})\n",
      "                 8. wdf_train_prime 0.0\n",
      "                 Counter({'sci.space': 1})\n",
      "                 Counter({'rec.autos': 1})\n",
      "               Counter({'talk.politics.mideast': 1})\n",
      "             Counter({'rec.autos': 1})\n",
      "           Counter({'talk.politics.mideast': 2, 'sci.space': 1})\n",
      "             6. wdf_train_prime 5.842346360154878\n",
      "             Counter({'talk.politics.mideast': 1})\n",
      "             Counter({'talk.politics.mideast': 1, 'sci.space': 1})\n",
      "               7. wdf_train_prime 0.0\n",
      "               Counter({'talk.politics.mideast': 1})\n",
      "               Counter({'sci.space': 1})\n",
      "         Counter({'rec.autos': 1})\n",
      "     Counter({'rec.autos': 2, 'alt.atheism': 2, 'sci.space': 2})\n",
      "       3. wdf_train_prime 32.521129055780705\n",
      "       Counter({'alt.atheism': 1, 'sci.space': 1, 'rec.autos': 1})\n",
      "         4. wdf_train_prime 8.021526289642805\n",
      "         Counter({'alt.atheism': 1, 'rec.autos': 1})\n",
      "           5. wdf_train_prime 0.0\n",
      "           Counter({'alt.atheism': 1})\n",
      "           Counter({'rec.autos': 1})\n",
      "         Counter({'sci.space': 1})\n",
      "       Counter({'rec.autos': 1, 'alt.atheism': 1, 'sci.space': 1})\n",
      "         4. wdf_train_prime 6.620925254702444\n",
      "         Counter({'rec.autos': 1, 'sci.space': 1})\n",
      "           5. wdf_train_prime 0.0\n",
      "           Counter({'rec.autos': 1})\n",
      "           Counter({'sci.space': 1})\n",
      "         Counter({'alt.atheism': 1})\n",
      "   Counter({'alt.atheism': 14, 'rec.autos': 11, 'talk.politics.mideast': 11, 'sci.space': 10})\n",
      "     2. wdf_train_prime 402.49421811572114\n",
      "     Counter({'rec.autos': 9, 'talk.politics.mideast': 7, 'sci.space': 5, 'alt.atheism': 1})\n",
      "       3. wdf_train_prime 176.70205985800274\n",
      "       Counter({'sci.space': 4, 'rec.autos': 2})\n",
      "         4. wdf_train_prime 31.37345924959058\n",
      "         Counter({'sci.space': 2, 'rec.autos': 2})\n",
      "           5. wdf_train_prime 14.805125585580988\n",
      "           Counter({'sci.space': 1})\n",
      "           Counter({'rec.autos': 2, 'sci.space': 1})\n",
      "             6. wdf_train_prime 6.697492516305071\n",
      "             Counter({'rec.autos': 1, 'sci.space': 1})\n",
      "               7. wdf_train_prime 0.0\n",
      "               Counter({'rec.autos': 1})\n",
      "               Counter({'sci.space': 1})\n",
      "             Counter({'rec.autos': 1})\n",
      "         Counter({'sci.space': 2})\n",
      "           5. wdf_train_prime 0.0\n",
      "           Counter({'sci.space': 1})\n",
      "           Counter({'sci.space': 1})\n",
      "       Counter({'rec.autos': 7, 'talk.politics.mideast': 7, 'alt.atheism': 1, 'sci.space': 1})\n",
      "         4. wdf_train_prime 113.82776541686977\n",
      "         Counter({'rec.autos': 7, 'talk.politics.mideast': 5, 'alt.atheism': 1, 'sci.space': 1})\n",
      "           5. wdf_train_prime 96.7035990935801\n",
      "           Counter({'rec.autos': 5, 'talk.politics.mideast': 3})\n",
      "             6. wdf_train_prime 47.097154916922996\n",
      "             Counter({'rec.autos': 4})\n",
      "               7. wdf_train_prime 13.67789173418177\n",
      "               Counter({'rec.autos': 3})\n",
      "                 8. wdf_train_prime 6.104759649286962\n",
      "                 Counter({'rec.autos': 1})\n",
      "                 Counter({'rec.autos': 2})\n",
      "                   9. wdf_train_prime 0.0\n",
      "                   Counter({'rec.autos': 1})\n",
      "                   Counter({'rec.autos': 1})\n",
      "               Counter({'rec.autos': 1})\n",
      "             Counter({'talk.politics.mideast': 3, 'rec.autos': 1})\n",
      "               7. wdf_train_prime 13.333179640670133\n",
      "               Counter({'rec.autos': 1})\n",
      "               Counter({'talk.politics.mideast': 3})\n",
      "                 8. wdf_train_prime 5.833581864001727\n",
      "                 Counter({'talk.politics.mideast': 2})\n",
      "                   9. wdf_train_prime 0.0\n",
      "                   Counter({'talk.politics.mideast': 1})\n",
      "                   Counter({'talk.politics.mideast': 1})\n",
      "                 Counter({'talk.politics.mideast': 1})\n",
      "           Counter({'talk.politics.mideast': 2, 'rec.autos': 2, 'alt.atheism': 1, 'sci.space': 1})\n",
      "             6. wdf_train_prime 27.572423195838873\n",
      "             Counter({'alt.atheism': 1, 'talk.politics.mideast': 1, 'sci.space': 1, 'rec.autos': 1})\n",
      "               7. wdf_train_prime 11.770795153666837\n",
      "               Counter({'alt.atheism': 1, 'talk.politics.mideast': 1})\n",
      "                 8. wdf_train_prime 0.0\n",
      "                 Counter({'alt.atheism': 1})\n",
      "                 Counter({'talk.politics.mideast': 1})\n",
      "               Counter({'sci.space': 1, 'rec.autos': 1})\n",
      "                 8. wdf_train_prime 0.0\n",
      "                 Counter({'sci.space': 1})\n",
      "                 Counter({'rec.autos': 1})\n",
      "             Counter({'talk.politics.mideast': 1, 'rec.autos': 1})\n",
      "               7. wdf_train_prime 0.0\n",
      "               Counter({'talk.politics.mideast': 1})\n",
      "               Counter({'rec.autos': 1})\n",
      "         Counter({'talk.politics.mideast': 2})\n",
      "           5. wdf_train_prime 0.0\n",
      "           Counter({'talk.politics.mideast': 1})\n",
      "           Counter({'talk.politics.mideast': 1})\n",
      "     Counter({'alt.atheism': 13, 'sci.space': 5, 'talk.politics.mideast': 4, 'rec.autos': 2})\n",
      "       3. wdf_train_prime 183.27139648441494\n",
      "       Counter({'alt.atheism': 9, 'sci.space': 3, 'rec.autos': 2, 'talk.politics.mideast': 2})\n",
      "         4. wdf_train_prime 107.30636855798268\n",
      "         Counter({'alt.atheism': 5, 'rec.autos': 2, 'sci.space': 1})\n",
      "           5. wdf_train_prime 41.24840420625015\n",
      "           Counter({'alt.atheism': 2, 'rec.autos': 1, 'sci.space': 1})\n",
      "             6. wdf_train_prime 13.051676174445172\n",
      "             Counter({'alt.atheism': 1, 'rec.autos': 1, 'sci.space': 1})\n",
      "               7. wdf_train_prime 5.3007502207354245\n",
      "               Counter({'alt.atheism': 1})\n",
      "               Counter({'rec.autos': 1, 'sci.space': 1})\n",
      "                 8. wdf_train_prime 0.0\n",
      "                 Counter({'rec.autos': 1})\n",
      "                 Counter({'sci.space': 1})\n",
      "             Counter({'alt.atheism': 1})\n",
      "           Counter({'alt.atheism': 3, 'rec.autos': 1})\n",
      "             6. wdf_train_prime 11.52566003064237\n",
      "             Counter({'rec.autos': 1})\n",
      "             Counter({'alt.atheism': 3})\n",
      "               7. wdf_train_prime 5.11916215294299\n",
      "               Counter({'alt.atheism': 1})\n",
      "               Counter({'alt.atheism': 2})\n",
      "                 8. wdf_train_prime 0.0\n",
      "                 Counter({'alt.atheism': 1})\n",
      "                 Counter({'alt.atheism': 1})\n",
      "         Counter({'alt.atheism': 4, 'sci.space': 2, 'talk.politics.mideast': 2})\n",
      "           5. wdf_train_prime 42.091620971280136\n",
      "           Counter({'alt.atheism': 3, 'talk.politics.mideast': 2})\n",
      "             6. wdf_train_prime 18.841684053852372\n",
      "             Counter({'alt.atheism': 2})\n"
     ]
    },
    {
     "name": "stdout",
     "output_type": "stream",
     "text": [
      "               7. wdf_train_prime 0.0\n",
      "               Counter({'alt.atheism': 1})\n",
      "               Counter({'alt.atheism': 1})\n",
      "             Counter({'talk.politics.mideast': 2, 'alt.atheism': 1})\n",
      "               7. wdf_train_prime 5.53920622072501\n",
      "               Counter({'talk.politics.mideast': 2})\n",
      "                 8. wdf_train_prime 0.0\n",
      "                 Counter({'talk.politics.mideast': 1})\n",
      "                 Counter({'talk.politics.mideast': 1})\n",
      "               Counter({'alt.atheism': 1})\n",
      "           Counter({'sci.space': 2, 'alt.atheism': 1})\n",
      "             6. wdf_train_prime 6.591370045383255\n",
      "             Counter({'sci.space': 1, 'alt.atheism': 1})\n",
      "               7. wdf_train_prime 0.0\n",
      "               Counter({'sci.space': 1})\n",
      "               Counter({'alt.atheism': 1})\n",
      "             Counter({'sci.space': 1})\n",
      "       Counter({'alt.atheism': 4, 'sci.space': 2, 'talk.politics.mideast': 2})\n",
      "         4. wdf_train_prime 48.31553671863947\n",
      "         Counter({'alt.atheism': 4, 'sci.space': 2})\n",
      "           5. wdf_train_prime 28.438031236078636\n",
      "           Counter({'sci.space': 2, 'alt.atheism': 2})\n",
      "             6. wdf_train_prime 13.006071312614402\n",
      "             Counter({'sci.space': 1})\n",
      "             Counter({'alt.atheism': 2, 'sci.space': 1})\n",
      "               7. wdf_train_prime 6.1550630023239705\n",
      "               Counter({'alt.atheism': 1, 'sci.space': 1})\n",
      "                 8. wdf_train_prime 0.0\n",
      "                 Counter({'alt.atheism': 1})\n",
      "                 Counter({'sci.space': 1})\n",
      "               Counter({'alt.atheism': 1})\n",
      "           Counter({'alt.atheism': 2})\n",
      "             6. wdf_train_prime 0.0\n",
      "             Counter({'alt.atheism': 1})\n",
      "             Counter({'alt.atheism': 1})\n",
      "         Counter({'talk.politics.mideast': 2})\n",
      "           5. wdf_train_prime 0.0\n",
      "           Counter({'talk.politics.mideast': 1})\n",
      "           Counter({'talk.politics.mideast': 1})\n",
      " Counter({'alt.atheism': 14, 'talk.politics.mideast': 13, 'sci.space': 12, 'rec.autos': 11})\n",
      "   1. wdf_train_prime 597.6892115512637\n",
      "   Counter({'sci.space': 6, 'alt.atheism': 4, 'rec.autos': 3, 'talk.politics.mideast': 2})\n",
      "     2. wdf_train_prime 188.1301748093643\n",
      "     Counter({'sci.space': 6, 'alt.atheism': 4, 'rec.autos': 2, 'talk.politics.mideast': 1})\n",
      "       3. wdf_train_prime 149.12768058769055\n",
      "       Counter({'sci.space': 4, 'alt.atheism': 2, 'talk.politics.mideast': 1, 'rec.autos': 1})\n",
      "         4. wdf_train_prime 69.72224351506097\n",
      "         Counter({'sci.space': 1, 'alt.atheism': 1})\n",
      "           5. wdf_train_prime 0.0\n",
      "           Counter({'sci.space': 1})\n",
      "           Counter({'alt.atheism': 1})\n",
      "         Counter({'sci.space': 3, 'talk.politics.mideast': 1, 'rec.autos': 1, 'alt.atheism': 1})\n",
      "           5. wdf_train_prime 43.32731310146626\n",
      "           Counter({'sci.space': 2, 'talk.politics.mideast': 1, 'rec.autos': 1, 'alt.atheism': 1})\n",
      "             6. wdf_train_prime 30.3166633339562\n",
      "             Counter({'sci.space': 2, 'talk.politics.mideast': 1, 'alt.atheism': 1})\n",
      "               7. wdf_train_prime 18.95429000790047\n",
      "               Counter({'talk.politics.mideast': 1, 'alt.atheism': 1})\n",
      "                 8. wdf_train_prime 0.0\n",
      "                 Counter({'talk.politics.mideast': 1})\n",
      "                 Counter({'alt.atheism': 1})\n",
      "               Counter({'sci.space': 2})\n",
      "                 8. wdf_train_prime 0.0\n",
      "                 Counter({'sci.space': 1})\n",
      "                 Counter({'sci.space': 1})\n",
      "             Counter({'rec.autos': 1})\n",
      "           Counter({'sci.space': 1})\n",
      "       Counter({'sci.space': 2, 'alt.atheism': 2, 'rec.autos': 1})\n",
      "         4. wdf_train_prime 43.49776913717533\n",
      "         Counter({'sci.space': 2, 'alt.atheism': 1, 'rec.autos': 1})\n",
      "           5. wdf_train_prime 27.217947141835626\n",
      "           Counter({'sci.space': 2})\n",
      "             6. wdf_train_prime 0.0\n",
      "             Counter({'sci.space': 1})\n",
      "             Counter({'sci.space': 1})\n",
      "           Counter({'alt.atheism': 1, 'rec.autos': 1})\n",
      "             6. wdf_train_prime 0.0\n",
      "             Counter({'alt.atheism': 1})\n",
      "             Counter({'rec.autos': 1})\n",
      "         Counter({'alt.atheism': 1})\n",
      "     Counter({'rec.autos': 1, 'talk.politics.mideast': 1})\n",
      "       3. wdf_train_prime 0.0\n",
      "       Counter({'rec.autos': 1})\n",
      "       Counter({'talk.politics.mideast': 1})\n",
      "   Counter({'talk.politics.mideast': 11, 'alt.atheism': 10, 'rec.autos': 8, 'sci.space': 6})\n",
      "     2. wdf_train_prime 353.6364518946691\n",
      "     Counter({'talk.politics.mideast': 10, 'alt.atheism': 9, 'sci.space': 4, 'rec.autos': 3})\n",
      "       3. wdf_train_prime 238.2551488203847\n",
      "       Counter({'talk.politics.mideast': 3, 'alt.atheism': 2, 'rec.autos': 1})\n",
      "         4. wdf_train_prime 36.02975914275332\n",
      "         Counter({'talk.politics.mideast': 3, 'alt.atheism': 1})\n",
      "           5. wdf_train_prime 16.63301889907165\n",
      "           Counter({'talk.politics.mideast': 2, 'alt.atheism': 1})\n",
      "             6. wdf_train_prime 7.739419069388631\n",
      "             Counter({'talk.politics.mideast': 2})\n",
      "               7. wdf_train_prime 0.0\n",
      "               Counter({'talk.politics.mideast': 1})\n",
      "               Counter({'talk.politics.mideast': 1})\n",
      "             Counter({'alt.atheism': 1})\n",
      "           Counter({'talk.politics.mideast': 1})\n",
      "         Counter({'alt.atheism': 1, 'rec.autos': 1})\n",
      "           5. wdf_train_prime 0.0\n",
      "           Counter({'alt.atheism': 1})\n",
      "           Counter({'rec.autos': 1})\n",
      "       Counter({'alt.atheism': 7, 'talk.politics.mideast': 7, 'sci.space': 4, 'rec.autos': 2})\n",
      "         4. wdf_train_prime 172.86378321736942\n",
      "         Counter({'alt.atheism': 3, 'sci.space': 3, 'talk.politics.mideast': 3, 'rec.autos': 1})\n",
      "           5. wdf_train_prime 67.90968979804695\n",
      "           Counter({'sci.space': 3, 'talk.politics.mideast': 3, 'alt.atheism': 2})\n",
      "             6. wdf_train_prime 46.53930689408501\n",
      "             Counter({'talk.politics.mideast': 2, 'alt.atheism': 1})\n",
      "               7. wdf_train_prime 7.491964847018372\n",
      "               Counter({'talk.politics.mideast': 1})\n",
      "               Counter({'talk.politics.mideast': 1, 'alt.atheism': 1})\n",
      "                 8. wdf_train_prime 0.0\n",
      "                 Counter({'talk.politics.mideast': 1})\n",
      "                 Counter({'alt.atheism': 1})\n",
      "             Counter({'sci.space': 3, 'talk.politics.mideast': 1, 'alt.atheism': 1})\n",
      "               7. wdf_train_prime 21.277965930493735\n",
      "               Counter({'talk.politics.mideast': 1})\n",
      "               Counter({'sci.space': 3, 'alt.atheism': 1})\n",
      "                 8. wdf_train_prime 12.53167643963667\n",
      "                 Counter({'sci.space': 2})\n",
      "                   9. wdf_train_prime 0.0\n",
      "                   Counter({'sci.space': 1})\n",
      "                   Counter({'sci.space': 1})\n",
      "                 Counter({'sci.space': 1, 'alt.atheism': 1})\n",
      "                   9. wdf_train_prime 0.0\n",
      "                   Counter({'sci.space': 1})\n",
      "                   Counter({'alt.atheism': 1})\n",
      "           Counter({'alt.atheism': 1, 'rec.autos': 1})\n",
      "             6. wdf_train_prime 0.0\n",
      "             Counter({'alt.atheism': 1})\n",
      "             Counter({'rec.autos': 1})\n",
      "         Counter({'alt.atheism': 4, 'talk.politics.mideast': 4, 'sci.space': 1, 'rec.autos': 1})\n",
      "           5. wdf_train_prime 77.08381600770903\n",
      "           Counter({'alt.atheism': 4, 'talk.politics.mideast': 3})\n",
      "             6. wdf_train_prime 44.74875277543341\n",
      "             Counter({'alt.atheism': 4, 'talk.politics.mideast': 1})\n",
      "               7. wdf_train_prime 25.83155508481236\n",
      "               Counter({'alt.atheism': 3, 'talk.politics.mideast': 1})\n",
      "                 8. wdf_train_prime 16.00142223585184\n",
      "                 Counter({'alt.atheism': 1})\n",
      "                 Counter({'alt.atheism': 2, 'talk.politics.mideast': 1})\n",
      "                   9. wdf_train_prime 6.993470573472511\n",
      "                   Counter({'talk.politics.mideast': 1})\n",
      "                   Counter({'alt.atheism': 2})\n",
      "                     10. wdf_train_prime 0.0\n",
      "                     Counter({'alt.atheism': 1})\n",
      "                     Counter({'alt.atheism': 1})\n",
      "               Counter({'alt.atheism': 1})\n",
      "             Counter({'talk.politics.mideast': 2})\n",
      "               7. wdf_train_prime 0.0\n",
      "               Counter({'talk.politics.mideast': 1})\n",
      "               Counter({'talk.politics.mideast': 1})\n",
      "           Counter({'sci.space': 1, 'talk.politics.mideast': 1, 'rec.autos': 1})\n",
      "             6. wdf_train_prime 8.465426700941347\n",
      "             Counter({'sci.space': 1})\n",
      "             Counter({'talk.politics.mideast': 1, 'rec.autos': 1})\n"
     ]
    },
    {
     "name": "stdout",
     "output_type": "stream",
     "text": [
      "               7. wdf_train_prime 0.0\n",
      "               Counter({'talk.politics.mideast': 1})\n",
      "               Counter({'rec.autos': 1})\n",
      "     Counter({'rec.autos': 5, 'sci.space': 2, 'alt.atheism': 1, 'talk.politics.mideast': 1})\n",
      "       3. wdf_train_prime 76.27839403151668\n",
      "       Counter({'rec.autos': 2, 'sci.space': 1, 'talk.politics.mideast': 1})\n",
      "         4. wdf_train_prime 18.343247417014297\n",
      "         Counter({'sci.space': 1, 'rec.autos': 1})\n",
      "           5. wdf_train_prime 0.0\n",
      "           Counter({'sci.space': 1})\n",
      "           Counter({'rec.autos': 1})\n",
      "         Counter({'rec.autos': 1, 'talk.politics.mideast': 1})\n",
      "           5. wdf_train_prime 0.0\n",
      "           Counter({'rec.autos': 1})\n",
      "           Counter({'talk.politics.mideast': 1})\n",
      "       Counter({'rec.autos': 3, 'alt.atheism': 1, 'sci.space': 1})\n",
      "         4. wdf_train_prime 31.019760902999742\n",
      "         Counter({'rec.autos': 2, 'alt.atheism': 1, 'sci.space': 1})\n",
      "           5. wdf_train_prime 19.790312100576813\n",
      "           Counter({'alt.atheism': 1, 'rec.autos': 1})\n",
      "             6. wdf_train_prime 0.0\n",
      "             Counter({'alt.atheism': 1})\n",
      "             Counter({'rec.autos': 1})\n",
      "           Counter({'rec.autos': 1, 'sci.space': 1})\n",
      "             6. wdf_train_prime 0.0\n",
      "             Counter({'rec.autos': 1})\n",
      "             Counter({'sci.space': 1})\n",
      "         Counter({'rec.autos': 1})\n",
      "\n"
     ]
    }
   ],
   "source": [
    "depth = 16\n",
    "n_clusters = 2\n",
    "sample_ratio = 1\n",
    "random_state = 0\n",
    "num_of_iterations = 1\n",
    "\n",
    "tree = np.full((depth, len(y_train)), 0, dtype=float)\n",
    "tree_prime = np.full((depth, len(y_train)), 0, dtype=float)\n",
    "\n",
    "wxs = [\n",
    "    (\"wdf_train\", wdf_train, tree),\n",
    "    (\"wdf_train_prime\", wdf_train_prime, tree_prime)\n",
    "]\n",
    "\n",
    "for title, wx, tr in wxs:\n",
    "    tr = run_partition_kmeans(\n",
    "        title, \n",
    "        wx, \n",
    "        y_train,\n",
    "        tree=tr,\n",
    "        keys=np.array(list(range(len(y_train)))),\n",
    "        n_clusters=n_clusters, \n",
    "        sample_ratio=sample_ratio, \n",
    "        num_of_iterations=num_of_iterations,\n",
    "        random_state=random_state, \n",
    "        level=0, \n",
    "        depth=depth\n",
    "    )\n",
    "    print()\n",
    "    \n",
    "tree = tree.T\n",
    "tree_prime = tree_prime.T\n",
    "\n",
    "tree = tree[:, tree.sum(0) != 0]\n",
    "tree_prime = tree_prime[:, tree_prime.sum(0) != 0]"
   ]
  },
  {
   "cell_type": "code",
   "execution_count": 138,
   "metadata": {},
   "outputs": [
    {
     "name": "stdout",
     "output_type": "stream",
     "text": [
      " 0. tree 228.65204678362576\n",
      " Counter({'sci.space': 12, 'talk.politics.mideast': 10, 'alt.atheism': 7, 'rec.autos': 7})\n",
      "   1. tree 42.419047619047625\n",
      "   Counter({'alt.atheism': 4, 'talk.politics.mideast': 4, 'rec.autos': 4, 'sci.space': 3})\n",
      "     2. tree 5.055555555555555\n",
      "     Counter({'talk.politics.mideast': 3, 'rec.autos': 3, 'alt.atheism': 2, 'sci.space': 1})\n",
      "       3. tree 2.375\n",
      "       Counter({'talk.politics.mideast': 3, 'alt.atheism': 2, 'rec.autos': 2, 'sci.space': 1})\n",
      "         4. tree 0.8333333333333335\n",
      "         Counter({'alt.atheism': 2, 'talk.politics.mideast': 2, 'sci.space': 1, 'rec.autos': 1})\n",
      "           5. tree 0.0\n",
      "           Counter({'talk.politics.mideast': 2, 'sci.space': 1, 'rec.autos': 1, 'alt.atheism': 1})\n"
     ]
    },
    {
     "name": "stderr",
     "output_type": "stream",
     "text": [
      "C:\\Program Files\\Python37\\lib\\site-packages\\ipykernel_launcher.py:15: ConvergenceWarning: Number of distinct clusters (1) found smaller than n_clusters (2). Possibly due to duplicate points in X.\n",
      "  from ipykernel import kernelapp as app\n"
     ]
    },
    {
     "name": "stdout",
     "output_type": "stream",
     "text": [
      "             6. tree 0.0\n",
      "             Counter({'talk.politics.mideast': 2, 'sci.space': 1, 'rec.autos': 1, 'alt.atheism': 1})\n"
     ]
    },
    {
     "name": "stderr",
     "output_type": "stream",
     "text": [
      "C:\\Program Files\\Python37\\lib\\site-packages\\ipykernel_launcher.py:15: ConvergenceWarning: Number of distinct clusters (1) found smaller than n_clusters (2). Possibly due to duplicate points in X.\n",
      "  from ipykernel import kernelapp as app\n"
     ]
    },
    {
     "name": "stdout",
     "output_type": "stream",
     "text": [
      "               7. tree 0.0\n",
      "               Counter({'talk.politics.mideast': 2, 'sci.space': 1, 'rec.autos': 1, 'alt.atheism': 1})\n"
     ]
    },
    {
     "name": "stderr",
     "output_type": "stream",
     "text": [
      "C:\\Program Files\\Python37\\lib\\site-packages\\ipykernel_launcher.py:15: ConvergenceWarning: Number of distinct clusters (1) found smaller than n_clusters (2). Possibly due to duplicate points in X.\n",
      "  from ipykernel import kernelapp as app\n"
     ]
    },
    {
     "name": "stdout",
     "output_type": "stream",
     "text": [
      "                 8. tree 0.0\n",
      "                 Counter({'talk.politics.mideast': 2, 'sci.space': 1, 'rec.autos': 1, 'alt.atheism': 1})\n"
     ]
    },
    {
     "name": "stderr",
     "output_type": "stream",
     "text": [
      "C:\\Program Files\\Python37\\lib\\site-packages\\ipykernel_launcher.py:15: ConvergenceWarning: Number of distinct clusters (1) found smaller than n_clusters (2). Possibly due to duplicate points in X.\n",
      "  from ipykernel import kernelapp as app\n"
     ]
    },
    {
     "name": "stdout",
     "output_type": "stream",
     "text": [
      "                   9. tree 0.0\n",
      "                   Counter({'talk.politics.mideast': 2, 'sci.space': 1, 'rec.autos': 1, 'alt.atheism': 1})\n"
     ]
    },
    {
     "name": "stderr",
     "output_type": "stream",
     "text": [
      "C:\\Program Files\\Python37\\lib\\site-packages\\ipykernel_launcher.py:15: ConvergenceWarning: Number of distinct clusters (1) found smaller than n_clusters (2). Possibly due to duplicate points in X.\n",
      "  from ipykernel import kernelapp as app\n"
     ]
    },
    {
     "name": "stdout",
     "output_type": "stream",
     "text": [
      "                     10. tree 0.0\n",
      "                     Counter({'talk.politics.mideast': 2, 'sci.space': 1, 'rec.autos': 1, 'alt.atheism': 1})\n"
     ]
    },
    {
     "name": "stderr",
     "output_type": "stream",
     "text": [
      "C:\\Program Files\\Python37\\lib\\site-packages\\ipykernel_launcher.py:15: ConvergenceWarning: Number of distinct clusters (1) found smaller than n_clusters (2). Possibly due to duplicate points in X.\n",
      "  from ipykernel import kernelapp as app\n"
     ]
    },
    {
     "name": "stdout",
     "output_type": "stream",
     "text": [
      "                       11. tree 0.0\n",
      "                       Counter({'talk.politics.mideast': 2, 'sci.space': 1, 'rec.autos': 1, 'alt.atheism': 1})\n"
     ]
    },
    {
     "name": "stderr",
     "output_type": "stream",
     "text": [
      "C:\\Program Files\\Python37\\lib\\site-packages\\ipykernel_launcher.py:15: ConvergenceWarning: Number of distinct clusters (1) found smaller than n_clusters (2). Possibly due to duplicate points in X.\n",
      "  from ipykernel import kernelapp as app\n"
     ]
    },
    {
     "name": "stdout",
     "output_type": "stream",
     "text": [
      "                         12. tree 0.0\n",
      "                         Counter({'talk.politics.mideast': 2, 'sci.space': 1, 'rec.autos': 1, 'alt.atheism': 1})\n"
     ]
    },
    {
     "name": "stderr",
     "output_type": "stream",
     "text": [
      "C:\\Program Files\\Python37\\lib\\site-packages\\ipykernel_launcher.py:15: ConvergenceWarning: Number of distinct clusters (1) found smaller than n_clusters (2). Possibly due to duplicate points in X.\n",
      "  from ipykernel import kernelapp as app\n"
     ]
    },
    {
     "name": "stdout",
     "output_type": "stream",
     "text": [
      "                           13. tree 0.0\n",
      "                           Counter({'talk.politics.mideast': 2, 'sci.space': 1, 'rec.autos': 1, 'alt.atheism': 1})\n"
     ]
    },
    {
     "name": "stderr",
     "output_type": "stream",
     "text": [
      "C:\\Program Files\\Python37\\lib\\site-packages\\ipykernel_launcher.py:15: ConvergenceWarning: Number of distinct clusters (1) found smaller than n_clusters (2). Possibly due to duplicate points in X.\n",
      "  from ipykernel import kernelapp as app\n"
     ]
    },
    {
     "name": "stdout",
     "output_type": "stream",
     "text": [
      "                             14. tree 0.0\n",
      "                             Counter({'talk.politics.mideast': 2, 'sci.space': 1, 'rec.autos': 1, 'alt.atheism': 1})\n"
     ]
    },
    {
     "name": "stderr",
     "output_type": "stream",
     "text": [
      "C:\\Program Files\\Python37\\lib\\site-packages\\ipykernel_launcher.py:15: ConvergenceWarning: Number of distinct clusters (1) found smaller than n_clusters (2). Possibly due to duplicate points in X.\n",
      "  from ipykernel import kernelapp as app\n"
     ]
    },
    {
     "name": "stdout",
     "output_type": "stream",
     "text": [
      "                               15. tree 0.0\n",
      "                               Counter({'talk.politics.mideast': 2, 'sci.space': 1, 'rec.autos': 1, 'alt.atheism': 1})\n",
      "                               Counter()\n",
      "                             Counter()\n",
      "                           Counter()\n",
      "                         Counter()\n",
      "                       Counter()\n",
      "                     Counter()\n",
      "                   Counter()\n",
      "                 Counter()\n",
      "               Counter()\n",
      "             Counter()\n",
      "           Counter({'alt.atheism': 1})\n",
      "         Counter({'talk.politics.mideast': 1, 'rec.autos': 1})\n"
     ]
    },
    {
     "name": "stderr",
     "output_type": "stream",
     "text": [
      "C:\\Program Files\\Python37\\lib\\site-packages\\ipykernel_launcher.py:15: ConvergenceWarning: Number of distinct clusters (1) found smaller than n_clusters (2). Possibly due to duplicate points in X.\n",
      "  from ipykernel import kernelapp as app\n"
     ]
    },
    {
     "name": "stdout",
     "output_type": "stream",
     "text": [
      "           5. tree 0.0\n",
      "           Counter({'talk.politics.mideast': 1, 'rec.autos': 1})\n"
     ]
    },
    {
     "name": "stderr",
     "output_type": "stream",
     "text": [
      "C:\\Program Files\\Python37\\lib\\site-packages\\ipykernel_launcher.py:15: ConvergenceWarning: Number of distinct clusters (1) found smaller than n_clusters (2). Possibly due to duplicate points in X.\n",
      "  from ipykernel import kernelapp as app\n"
     ]
    },
    {
     "name": "stdout",
     "output_type": "stream",
     "text": [
      "             6. tree 0.0\n",
      "             Counter({'talk.politics.mideast': 1, 'rec.autos': 1})\n"
     ]
    },
    {
     "name": "stderr",
     "output_type": "stream",
     "text": [
      "C:\\Program Files\\Python37\\lib\\site-packages\\ipykernel_launcher.py:15: ConvergenceWarning: Number of distinct clusters (1) found smaller than n_clusters (2). Possibly due to duplicate points in X.\n",
      "  from ipykernel import kernelapp as app\n"
     ]
    },
    {
     "name": "stdout",
     "output_type": "stream",
     "text": [
      "               7. tree 0.0\n",
      "               Counter({'talk.politics.mideast': 1, 'rec.autos': 1})\n"
     ]
    },
    {
     "name": "stderr",
     "output_type": "stream",
     "text": [
      "C:\\Program Files\\Python37\\lib\\site-packages\\ipykernel_launcher.py:15: ConvergenceWarning: Number of distinct clusters (1) found smaller than n_clusters (2). Possibly due to duplicate points in X.\n",
      "  from ipykernel import kernelapp as app\n"
     ]
    },
    {
     "name": "stdout",
     "output_type": "stream",
     "text": [
      "                 8. tree 0.0\n",
      "                 Counter({'talk.politics.mideast': 1, 'rec.autos': 1})\n"
     ]
    },
    {
     "name": "stderr",
     "output_type": "stream",
     "text": [
      "C:\\Program Files\\Python37\\lib\\site-packages\\ipykernel_launcher.py:15: ConvergenceWarning: Number of distinct clusters (1) found smaller than n_clusters (2). Possibly due to duplicate points in X.\n",
      "  from ipykernel import kernelapp as app\n"
     ]
    },
    {
     "name": "stdout",
     "output_type": "stream",
     "text": [
      "                   9. tree 0.0\n",
      "                   Counter({'talk.politics.mideast': 1, 'rec.autos': 1})\n"
     ]
    },
    {
     "name": "stderr",
     "output_type": "stream",
     "text": [
      "C:\\Program Files\\Python37\\lib\\site-packages\\ipykernel_launcher.py:15: ConvergenceWarning: Number of distinct clusters (1) found smaller than n_clusters (2). Possibly due to duplicate points in X.\n",
      "  from ipykernel import kernelapp as app\n"
     ]
    },
    {
     "name": "stdout",
     "output_type": "stream",
     "text": [
      "                     10. tree 0.0\n",
      "                     Counter({'talk.politics.mideast': 1, 'rec.autos': 1})\n"
     ]
    },
    {
     "name": "stderr",
     "output_type": "stream",
     "text": [
      "C:\\Program Files\\Python37\\lib\\site-packages\\ipykernel_launcher.py:15: ConvergenceWarning: Number of distinct clusters (1) found smaller than n_clusters (2). Possibly due to duplicate points in X.\n",
      "  from ipykernel import kernelapp as app\n"
     ]
    },
    {
     "name": "stdout",
     "output_type": "stream",
     "text": [
      "                       11. tree 0.0\n",
      "                       Counter({'talk.politics.mideast': 1, 'rec.autos': 1})\n"
     ]
    },
    {
     "name": "stderr",
     "output_type": "stream",
     "text": [
      "C:\\Program Files\\Python37\\lib\\site-packages\\ipykernel_launcher.py:15: ConvergenceWarning: Number of distinct clusters (1) found smaller than n_clusters (2). Possibly due to duplicate points in X.\n",
      "  from ipykernel import kernelapp as app\n"
     ]
    },
    {
     "name": "stdout",
     "output_type": "stream",
     "text": [
      "                         12. tree 0.0\n",
      "                         Counter({'talk.politics.mideast': 1, 'rec.autos': 1})\n"
     ]
    },
    {
     "name": "stderr",
     "output_type": "stream",
     "text": [
      "C:\\Program Files\\Python37\\lib\\site-packages\\ipykernel_launcher.py:15: ConvergenceWarning: Number of distinct clusters (1) found smaller than n_clusters (2). Possibly due to duplicate points in X.\n",
      "  from ipykernel import kernelapp as app\n"
     ]
    },
    {
     "name": "stdout",
     "output_type": "stream",
     "text": [
      "                           13. tree 0.0\n",
      "                           Counter({'talk.politics.mideast': 1, 'rec.autos': 1})\n"
     ]
    },
    {
     "name": "stderr",
     "output_type": "stream",
     "text": [
      "C:\\Program Files\\Python37\\lib\\site-packages\\ipykernel_launcher.py:15: ConvergenceWarning: Number of distinct clusters (1) found smaller than n_clusters (2). Possibly due to duplicate points in X.\n",
      "  from ipykernel import kernelapp as app\n"
     ]
    },
    {
     "name": "stdout",
     "output_type": "stream",
     "text": [
      "                             14. tree 0.0\n",
      "                             Counter({'talk.politics.mideast': 1, 'rec.autos': 1})\n"
     ]
    },
    {
     "name": "stderr",
     "output_type": "stream",
     "text": [
      "C:\\Program Files\\Python37\\lib\\site-packages\\ipykernel_launcher.py:15: ConvergenceWarning: Number of distinct clusters (1) found smaller than n_clusters (2). Possibly due to duplicate points in X.\n",
      "  from ipykernel import kernelapp as app\n"
     ]
    },
    {
     "name": "stdout",
     "output_type": "stream",
     "text": [
      "                               15. tree 0.0\n",
      "                               Counter({'talk.politics.mideast': 1, 'rec.autos': 1})\n",
      "                               Counter()\n",
      "                             Counter()\n",
      "                           Counter()\n",
      "                         Counter()\n",
      "                       Counter()\n",
      "                     Counter()\n",
      "                   Counter()\n",
      "                 Counter()\n",
      "               Counter()\n",
      "             Counter()\n",
      "           Counter()\n",
      "       Counter({'rec.autos': 1})\n",
      "     Counter({'alt.atheism': 2, 'sci.space': 2, 'talk.politics.mideast': 1, 'rec.autos': 1})\n",
      "       3. tree 0.0\n",
      "       Counter({'sci.space': 2, 'alt.atheism': 1, 'talk.politics.mideast': 1, 'rec.autos': 1})\n"
     ]
    },
    {
     "name": "stderr",
     "output_type": "stream",
     "text": [
      "C:\\Program Files\\Python37\\lib\\site-packages\\ipykernel_launcher.py:15: ConvergenceWarning: Number of distinct clusters (1) found smaller than n_clusters (2). Possibly due to duplicate points in X.\n",
      "  from ipykernel import kernelapp as app\n"
     ]
    },
    {
     "name": "stdout",
     "output_type": "stream",
     "text": [
      "         4. tree 0.0\n",
      "         Counter({'sci.space': 2, 'alt.atheism': 1, 'talk.politics.mideast': 1, 'rec.autos': 1})\n"
     ]
    },
    {
     "name": "stderr",
     "output_type": "stream",
     "text": [
      "C:\\Program Files\\Python37\\lib\\site-packages\\ipykernel_launcher.py:15: ConvergenceWarning: Number of distinct clusters (1) found smaller than n_clusters (2). Possibly due to duplicate points in X.\n",
      "  from ipykernel import kernelapp as app\n"
     ]
    },
    {
     "name": "stdout",
     "output_type": "stream",
     "text": [
      "           5. tree 0.0\n",
      "           Counter({'sci.space': 2, 'alt.atheism': 1, 'talk.politics.mideast': 1, 'rec.autos': 1})\n"
     ]
    },
    {
     "name": "stderr",
     "output_type": "stream",
     "text": [
      "C:\\Program Files\\Python37\\lib\\site-packages\\ipykernel_launcher.py:15: ConvergenceWarning: Number of distinct clusters (1) found smaller than n_clusters (2). Possibly due to duplicate points in X.\n",
      "  from ipykernel import kernelapp as app\n"
     ]
    },
    {
     "name": "stdout",
     "output_type": "stream",
     "text": [
      "             6. tree 0.0\n",
      "             Counter({'sci.space': 2, 'alt.atheism': 1, 'talk.politics.mideast': 1, 'rec.autos': 1})\n"
     ]
    },
    {
     "name": "stderr",
     "output_type": "stream",
     "text": [
      "C:\\Program Files\\Python37\\lib\\site-packages\\ipykernel_launcher.py:15: ConvergenceWarning: Number of distinct clusters (1) found smaller than n_clusters (2). Possibly due to duplicate points in X.\n",
      "  from ipykernel import kernelapp as app\n"
     ]
    },
    {
     "name": "stdout",
     "output_type": "stream",
     "text": [
      "               7. tree 0.0\n",
      "               Counter({'sci.space': 2, 'alt.atheism': 1, 'talk.politics.mideast': 1, 'rec.autos': 1})\n"
     ]
    },
    {
     "name": "stderr",
     "output_type": "stream",
     "text": [
      "C:\\Program Files\\Python37\\lib\\site-packages\\ipykernel_launcher.py:15: ConvergenceWarning: Number of distinct clusters (1) found smaller than n_clusters (2). Possibly due to duplicate points in X.\n",
      "  from ipykernel import kernelapp as app\n"
     ]
    },
    {
     "name": "stdout",
     "output_type": "stream",
     "text": [
      "                 8. tree 0.0\n",
      "                 Counter({'sci.space': 2, 'alt.atheism': 1, 'talk.politics.mideast': 1, 'rec.autos': 1})\n"
     ]
    },
    {
     "name": "stderr",
     "output_type": "stream",
     "text": [
      "C:\\Program Files\\Python37\\lib\\site-packages\\ipykernel_launcher.py:15: ConvergenceWarning: Number of distinct clusters (1) found smaller than n_clusters (2). Possibly due to duplicate points in X.\n",
      "  from ipykernel import kernelapp as app\n"
     ]
    },
    {
     "name": "stdout",
     "output_type": "stream",
     "text": [
      "                   9. tree 0.0\n",
      "                   Counter({'sci.space': 2, 'alt.atheism': 1, 'talk.politics.mideast': 1, 'rec.autos': 1})\n"
     ]
    },
    {
     "name": "stderr",
     "output_type": "stream",
     "text": [
      "C:\\Program Files\\Python37\\lib\\site-packages\\ipykernel_launcher.py:15: ConvergenceWarning: Number of distinct clusters (1) found smaller than n_clusters (2). Possibly due to duplicate points in X.\n",
      "  from ipykernel import kernelapp as app\n"
     ]
    },
    {
     "name": "stdout",
     "output_type": "stream",
     "text": [
      "                     10. tree 0.0\n",
      "                     Counter({'sci.space': 2, 'alt.atheism': 1, 'talk.politics.mideast': 1, 'rec.autos': 1})\n"
     ]
    },
    {
     "name": "stderr",
     "output_type": "stream",
     "text": [
      "C:\\Program Files\\Python37\\lib\\site-packages\\ipykernel_launcher.py:15: ConvergenceWarning: Number of distinct clusters (1) found smaller than n_clusters (2). Possibly due to duplicate points in X.\n",
      "  from ipykernel import kernelapp as app\n"
     ]
    },
    {
     "name": "stdout",
     "output_type": "stream",
     "text": [
      "                       11. tree 0.0\n",
      "                       Counter({'sci.space': 2, 'alt.atheism': 1, 'talk.politics.mideast': 1, 'rec.autos': 1})\n"
     ]
    },
    {
     "name": "stderr",
     "output_type": "stream",
     "text": [
      "C:\\Program Files\\Python37\\lib\\site-packages\\ipykernel_launcher.py:15: ConvergenceWarning: Number of distinct clusters (1) found smaller than n_clusters (2). Possibly due to duplicate points in X.\n",
      "  from ipykernel import kernelapp as app\n"
     ]
    },
    {
     "name": "stdout",
     "output_type": "stream",
     "text": [
      "                         12. tree 0.0\n",
      "                         Counter({'sci.space': 2, 'alt.atheism': 1, 'talk.politics.mideast': 1, 'rec.autos': 1})\n"
     ]
    },
    {
     "name": "stderr",
     "output_type": "stream",
     "text": [
      "C:\\Program Files\\Python37\\lib\\site-packages\\ipykernel_launcher.py:15: ConvergenceWarning: Number of distinct clusters (1) found smaller than n_clusters (2). Possibly due to duplicate points in X.\n",
      "  from ipykernel import kernelapp as app\n"
     ]
    },
    {
     "name": "stdout",
     "output_type": "stream",
     "text": [
      "                           13. tree 0.0\n",
      "                           Counter({'sci.space': 2, 'alt.atheism': 1, 'talk.politics.mideast': 1, 'rec.autos': 1})\n"
     ]
    },
    {
     "name": "stderr",
     "output_type": "stream",
     "text": [
      "C:\\Program Files\\Python37\\lib\\site-packages\\ipykernel_launcher.py:15: ConvergenceWarning: Number of distinct clusters (1) found smaller than n_clusters (2). Possibly due to duplicate points in X.\n",
      "  from ipykernel import kernelapp as app\n"
     ]
    },
    {
     "name": "stdout",
     "output_type": "stream",
     "text": [
      "                             14. tree 0.0\n",
      "                             Counter({'sci.space': 2, 'alt.atheism': 1, 'talk.politics.mideast': 1, 'rec.autos': 1})\n"
     ]
    },
    {
     "name": "stderr",
     "output_type": "stream",
     "text": [
      "C:\\Program Files\\Python37\\lib\\site-packages\\ipykernel_launcher.py:15: ConvergenceWarning: Number of distinct clusters (1) found smaller than n_clusters (2). Possibly due to duplicate points in X.\n",
      "  from ipykernel import kernelapp as app\n"
     ]
    },
    {
     "name": "stdout",
     "output_type": "stream",
     "text": [
      "                               15. tree 0.0\n",
      "                               Counter({'sci.space': 2, 'alt.atheism': 1, 'talk.politics.mideast': 1, 'rec.autos': 1})\n",
      "                               Counter()\n",
      "                             Counter()\n",
      "                           Counter()\n",
      "                         Counter()\n",
      "                       Counter()\n",
      "                     Counter()\n",
      "                   Counter()\n",
      "                 Counter()\n",
      "               Counter()\n",
      "             Counter()\n",
      "           Counter()\n",
      "         Counter()\n",
      "       Counter({'alt.atheism': 1})\n",
      "   Counter({'sci.space': 9, 'talk.politics.mideast': 6, 'rec.autos': 3, 'alt.atheism': 3})\n",
      "     2. tree 24.937499999999996\n",
      "     Counter({'sci.space': 2, 'talk.politics.mideast': 2, 'rec.autos': 1})\n",
      "       3. tree 1.8333333333333335\n",
      "       Counter({'sci.space': 1, 'talk.politics.mideast': 1})\n",
      "         4. tree 0.0\n",
      "         Counter({'sci.space': 1})\n",
      "         Counter({'talk.politics.mideast': 1})\n",
      "       Counter({'sci.space': 1, 'talk.politics.mideast': 1, 'rec.autos': 1})\n",
      "         4. tree 0.5\n",
      "         Counter({'sci.space': 1})\n",
      "         Counter({'talk.politics.mideast': 1, 'rec.autos': 1})\n",
      "           5. tree 0.0\n",
      "           Counter({'talk.politics.mideast': 1})\n",
      "           Counter({'rec.autos': 1})\n",
      "     Counter({'sci.space': 7, 'talk.politics.mideast': 4, 'alt.atheism': 3, 'rec.autos': 2})\n",
      "       3. tree 15.766666666666666\n",
      "       Counter({'sci.space': 6, 'talk.politics.mideast': 2, 'rec.autos': 1, 'alt.atheism': 1})\n",
      "         4. tree 6.916666666666667\n",
      "         Counter({'sci.space': 3, 'talk.politics.mideast': 1})\n",
      "           5. tree 1.3333333333333335\n",
      "           Counter({'sci.space': 2, 'talk.politics.mideast': 1})\n",
      "             6. tree 0.5\n",
      "             Counter({'sci.space': 1, 'talk.politics.mideast': 1})\n",
      "               7. tree 0.0\n",
      "               Counter({'sci.space': 1})\n",
      "               Counter({'talk.politics.mideast': 1})\n",
      "             Counter({'sci.space': 1})\n",
      "           Counter({'sci.space': 1})\n",
      "         Counter({'sci.space': 3, 'rec.autos': 1, 'alt.atheism': 1, 'talk.politics.mideast': 1})\n",
      "           5. tree 2.6666666666666674\n",
      "           Counter({'rec.autos': 1, 'talk.politics.mideast': 1, 'sci.space': 1})\n",
      "             6. tree 0.5\n",
      "             Counter({'rec.autos': 1, 'sci.space': 1})\n",
      "               7. tree 0.0\n",
      "               Counter({'rec.autos': 1})\n",
      "               Counter({'sci.space': 1})\n",
      "             Counter({'talk.politics.mideast': 1})\n",
      "           Counter({'sci.space': 2, 'alt.atheism': 1})\n",
      "             6. tree 0.5\n",
      "             Counter({'sci.space': 1, 'alt.atheism': 1})\n",
      "               7. tree 0.0\n",
      "               Counter({'sci.space': 1})\n",
      "               Counter({'alt.atheism': 1})\n",
      "             Counter({'sci.space': 1})\n",
      "       Counter({'talk.politics.mideast': 2, 'alt.atheism': 2, 'sci.space': 1, 'rec.autos': 1})\n",
      "         4. tree 2.75\n",
      "         Counter({'alt.atheism': 2, 'talk.politics.mideast': 1, 'rec.autos': 1})\n",
      "           5. tree 1.3333333333333335\n",
      "           Counter({'talk.politics.mideast': 1, 'rec.autos': 1, 'alt.atheism': 1})\n",
      "             6. tree 0.5\n",
      "             Counter({'talk.politics.mideast': 1, 'alt.atheism': 1})\n",
      "               7. tree 0.0\n",
      "               Counter({'talk.politics.mideast': 1})\n",
      "               Counter({'alt.atheism': 1})\n",
      "             Counter({'rec.autos': 1})\n",
      "           Counter({'alt.atheism': 1})\n",
      "         Counter({'sci.space': 1, 'talk.politics.mideast': 1})\n",
      "           5. tree 0.0\n",
      "           Counter({'sci.space': 1})\n",
      "           Counter({'talk.politics.mideast': 1})\n",
      " Counter({'alt.atheism': 24, 'rec.autos': 20, 'talk.politics.mideast': 18, 'sci.space': 14})\n",
      "   1. tree 136.08840579710144\n",
      "   Counter({'talk.politics.mideast': 10, 'sci.space': 8, 'rec.autos': 7, 'alt.atheism': 5})\n",
      "     2. tree 35.91964285714286\n",
      "     Counter({'rec.autos': 5, 'talk.politics.mideast': 5, 'sci.space': 5, 'alt.atheism': 1})\n",
      "       3. tree 13.766666666666666\n",
      "       Counter({'sci.space': 3, 'talk.politics.mideast': 2, 'rec.autos': 1})\n",
      "         4. tree 2.5\n",
      "         Counter({'sci.space': 2})\n",
      "           5. tree 0.0\n",
      "           Counter({'sci.space': 1})\n",
      "           Counter({'sci.space': 1})\n",
      "         Counter({'talk.politics.mideast': 2, 'rec.autos': 1, 'sci.space': 1})\n",
      "           5. tree 1.0\n",
      "           Counter({'talk.politics.mideast': 2})\n",
      "             6. tree 0.0\n",
      "             Counter({'talk.politics.mideast': 1})\n",
      "             Counter({'talk.politics.mideast': 1})\n",
      "           Counter({'rec.autos': 1, 'sci.space': 1})\n",
      "             6. tree 0.0\n",
      "             Counter({'rec.autos': 1})\n",
      "             Counter({'sci.space': 1})\n",
      "       Counter({'rec.autos': 4, 'talk.politics.mideast': 3, 'sci.space': 2, 'alt.atheism': 1})\n",
      "         4. tree 6.833333333333334\n",
      "         Counter({'talk.politics.mideast': 2, 'sci.space': 2, 'alt.atheism': 1, 'rec.autos': 1})\n",
      "           5. tree 2.6666666666666674\n",
      "           Counter({'sci.space': 1, 'alt.atheism': 1, 'rec.autos': 1})\n",
      "             6. tree 0.5\n",
      "             Counter({'sci.space': 1, 'alt.atheism': 1})\n",
      "               7. tree 0.0\n",
      "               Counter({'sci.space': 1})\n",
      "               Counter({'alt.atheism': 1})\n",
      "             Counter({'rec.autos': 1})\n",
      "           Counter({'talk.politics.mideast': 2, 'sci.space': 1})\n",
      "             6. tree 0.5\n",
      "             Counter({'talk.politics.mideast': 1, 'sci.space': 1})\n",
      "               7. tree 0.0\n",
      "               Counter({'talk.politics.mideast': 1})\n",
      "               Counter({'sci.space': 1})\n",
      "             Counter({'talk.politics.mideast': 1})\n",
      "         Counter({'rec.autos': 3, 'talk.politics.mideast': 1})\n",
      "           5. tree 1.0\n",
      "           Counter({'rec.autos': 2})\n",
      "             6. tree 0.0\n",
      "             Counter({'rec.autos': 1})\n",
      "             Counter({'rec.autos': 1})\n",
      "           Counter({'rec.autos': 1, 'talk.politics.mideast': 1})\n",
      "             6. tree 0.0\n",
      "             Counter({'rec.autos': 1})\n",
      "             Counter({'talk.politics.mideast': 1})\n",
      "     Counter({'talk.politics.mideast': 5, 'alt.atheism': 4, 'sci.space': 3, 'rec.autos': 2})\n",
      "       3. tree 11.42222222222222\n",
      "       Counter({'rec.autos': 2, 'talk.politics.mideast': 2, 'alt.atheism': 1})\n",
      "         4. tree 1.8333333333333335\n",
      "         Counter({'talk.politics.mideast': 1, 'alt.atheism': 1})\n",
      "           5. tree 0.0\n",
      "           Counter({'talk.politics.mideast': 1})\n",
      "           Counter({'alt.atheism': 1})\n",
      "         Counter({'rec.autos': 2, 'talk.politics.mideast': 1})\n",
      "           5. tree 0.5\n",
      "           Counter({'rec.autos': 2})\n",
      "             6. tree 0.0\n",
      "             Counter({'rec.autos': 1})\n",
      "             Counter({'rec.autos': 1})\n",
      "           Counter({'talk.politics.mideast': 1})\n",
      "       Counter({'alt.atheism': 3, 'talk.politics.mideast': 3, 'sci.space': 3})\n",
      "         4. tree 5.45\n",
      "         Counter({'sci.space': 3, 'talk.politics.mideast': 1, 'alt.atheism': 1})\n",
      "           5. tree 1.8333333333333335\n",
      "           Counter({'talk.politics.mideast': 1, 'sci.space': 1, 'alt.atheism': 1})\n",
      "             6. tree 0.5\n",
      "             Counter({'talk.politics.mideast': 1, 'alt.atheism': 1})\n",
      "               7. tree 0.0\n",
      "               Counter({'talk.politics.mideast': 1})\n",
      "               Counter({'alt.atheism': 1})\n",
      "             Counter({'sci.space': 1})\n",
      "           Counter({'sci.space': 2})\n",
      "             6. tree 0.0\n",
      "             Counter({'sci.space': 1})\n",
      "             Counter({'sci.space': 1})\n",
      "         Counter({'alt.atheism': 2, 'talk.politics.mideast': 2})\n",
      "           5. tree 1.3333333333333335\n",
      "           Counter({'alt.atheism': 2, 'talk.politics.mideast': 1})\n",
      "             6. tree 0.5\n",
      "             Counter({'alt.atheism': 1, 'talk.politics.mideast': 1})\n",
      "               7. tree 0.0\n",
      "               Counter({'alt.atheism': 1})\n",
      "               Counter({'talk.politics.mideast': 1})\n",
      "             Counter({'alt.atheism': 1})\n",
      "           Counter({'talk.politics.mideast': 1})\n",
      "   Counter({'alt.atheism': 19, 'rec.autos': 13, 'talk.politics.mideast': 8, 'sci.space': 6})\n",
      "     2. tree 62.939393939393916\n",
      "     Counter({'alt.atheism': 11, 'rec.autos': 6, 'sci.space': 4, 'talk.politics.mideast': 3})\n",
      "       3. tree 25.333333333333336\n",
      "       Counter({'alt.atheism': 6, 'sci.space': 3, 'talk.politics.mideast': 2, 'rec.autos': 1})\n",
      "         4. tree 8.625\n",
      "         Counter({'alt.atheism': 3, 'talk.politics.mideast': 2, 'sci.space': 2, 'rec.autos': 1})\n",
      "           5. tree 4.533333333333335\n",
      "           Counter({'alt.atheism': 2, 'talk.politics.mideast': 1, 'sci.space': 1, 'rec.autos': 1})\n"
     ]
    },
    {
     "name": "stdout",
     "output_type": "stream",
     "text": [
      "             6. tree 2.25\n",
      "             Counter({'rec.autos': 1})\n",
      "             Counter({'alt.atheism': 2, 'talk.politics.mideast': 1, 'sci.space': 1})\n",
      "               7. tree 1.3333333333333335\n",
      "               Counter({'talk.politics.mideast': 1, 'sci.space': 1, 'alt.atheism': 1})\n",
      "                 8. tree 0.5\n",
      "                 Counter({'talk.politics.mideast': 1, 'sci.space': 1})\n",
      "                   9. tree 0.0\n",
      "                   Counter({'talk.politics.mideast': 1})\n",
      "                   Counter({'sci.space': 1})\n",
      "                 Counter({'alt.atheism': 1})\n",
      "               Counter({'alt.atheism': 1})\n",
      "           Counter({'sci.space': 1, 'talk.politics.mideast': 1, 'alt.atheism': 1})\n",
      "             6. tree 0.5\n",
      "             Counter({'sci.space': 1, 'talk.politics.mideast': 1})\n",
      "               7. tree 0.0\n",
      "               Counter({'sci.space': 1})\n",
      "               Counter({'talk.politics.mideast': 1})\n",
      "             Counter({'alt.atheism': 1})\n",
      "         Counter({'alt.atheism': 3, 'sci.space': 1})\n",
      "           5. tree 1.0\n",
      "           Counter({'alt.atheism': 2})\n",
      "             6. tree 0.0\n",
      "             Counter({'alt.atheism': 1})\n",
      "             Counter({'alt.atheism': 1})\n",
      "           Counter({'sci.space': 1, 'alt.atheism': 1})\n",
      "             6. tree 0.0\n",
      "             Counter({'sci.space': 1})\n",
      "             Counter({'alt.atheism': 1})\n",
      "       Counter({'rec.autos': 5, 'alt.atheism': 5, 'talk.politics.mideast': 1, 'sci.space': 1})\n",
      "         4. tree 9.0\n",
      "         Counter({'rec.autos': 4, 'alt.atheism': 3, 'sci.space': 1})\n",
      "           5. tree 4.5\n",
      "           Counter({'alt.atheism': 2, 'sci.space': 1, 'rec.autos': 1})\n",
      "             6. tree 1.0\n",
      "             Counter({'alt.atheism': 1, 'rec.autos': 1})\n",
      "               7. tree 0.0\n",
      "               Counter({'alt.atheism': 1})\n",
      "               Counter({'rec.autos': 1})\n",
      "             Counter({'alt.atheism': 1, 'sci.space': 1})\n",
      "               7. tree 0.0\n",
      "               Counter({'alt.atheism': 1})\n",
      "               Counter({'sci.space': 1})\n",
      "           Counter({'rec.autos': 3, 'alt.atheism': 1})\n",
      "             6. tree 1.0\n",
      "             Counter({'rec.autos': 2})\n",
      "               7. tree 0.0\n",
      "               Counter({'rec.autos': 1})\n",
      "               Counter({'rec.autos': 1})\n",
      "             Counter({'rec.autos': 1, 'alt.atheism': 1})\n",
      "               7. tree 0.0\n",
      "               Counter({'rec.autos': 1})\n",
      "               Counter({'alt.atheism': 1})\n",
      "         Counter({'alt.atheism': 2, 'talk.politics.mideast': 1, 'rec.autos': 1})\n",
      "           5. tree 1.3333333333333335\n",
      "           Counter({'talk.politics.mideast': 1, 'alt.atheism': 1, 'rec.autos': 1})\n",
      "             6. tree 0.5\n",
      "             Counter({'talk.politics.mideast': 1, 'alt.atheism': 1})\n",
      "               7. tree 0.0\n",
      "               Counter({'talk.politics.mideast': 1})\n",
      "               Counter({'alt.atheism': 1})\n",
      "             Counter({'rec.autos': 1})\n",
      "           Counter({'alt.atheism': 1})\n",
      "     Counter({'alt.atheism': 8, 'rec.autos': 7, 'talk.politics.mideast': 5, 'sci.space': 2})\n",
      "       3. tree 23.636363636363633\n",
      "       Counter({'alt.atheism': 4, 'rec.autos': 4, 'talk.politics.mideast': 3})\n",
      "         4. tree 7.678571428571428\n",
      "         Counter({'talk.politics.mideast': 3, 'alt.atheism': 3, 'rec.autos': 1})\n",
      "           5. tree 3.583333333333333\n",
      "           Counter({'talk.politics.mideast': 2, 'alt.atheism': 1})\n",
      "             6. tree 0.5\n",
      "             Counter({'talk.politics.mideast': 2})\n",
      "               7. tree 0.0\n",
      "               Counter({'talk.politics.mideast': 1})\n",
      "               Counter({'talk.politics.mideast': 1})\n",
      "             Counter({'alt.atheism': 1})\n",
      "           Counter({'alt.atheism': 2, 'talk.politics.mideast': 1, 'rec.autos': 1})\n",
      "             6. tree 1.3333333333333335\n",
      "             Counter({'alt.atheism': 2, 'talk.politics.mideast': 1})\n",
      "               7. tree 0.5\n",
      "               Counter({'talk.politics.mideast': 1, 'alt.atheism': 1})\n",
      "                 8. tree 0.0\n",
      "                 Counter({'talk.politics.mideast': 1})\n",
      "                 Counter({'alt.atheism': 1})\n",
      "               Counter({'alt.atheism': 1})\n",
      "             Counter({'rec.autos': 1})\n",
      "         Counter({'rec.autos': 3, 'alt.atheism': 1})\n",
      "           5. tree 1.3333333333333335\n",
      "           Counter({'rec.autos': 2, 'alt.atheism': 1})\n",
      "             6. tree 0.5\n",
      "             Counter({'alt.atheism': 1, 'rec.autos': 1})\n",
      "               7. tree 0.0\n",
      "               Counter({'alt.atheism': 1})\n",
      "               Counter({'rec.autos': 1})\n",
      "             Counter({'rec.autos': 1})\n",
      "           Counter({'rec.autos': 1})\n",
      "       Counter({'alt.atheism': 4, 'rec.autos': 3, 'talk.politics.mideast': 2, 'sci.space': 2})\n",
      "         4. tree 7.9642857142857135\n",
      "         Counter({'alt.atheism': 2, 'rec.autos': 1, 'sci.space': 1})\n",
      "           5. tree 1.3333333333333335\n",
      "           Counter({'alt.atheism': 2, 'sci.space': 1})\n",
      "             6. tree 0.5\n",
      "             Counter({'alt.atheism': 1, 'sci.space': 1})\n",
      "               7. tree 0.0\n",
      "               Counter({'alt.atheism': 1})\n",
      "               Counter({'sci.space': 1})\n",
      "             Counter({'alt.atheism': 1})\n",
      "           Counter({'rec.autos': 1})\n",
      "         Counter({'alt.atheism': 2, 'talk.politics.mideast': 2, 'rec.autos': 2, 'sci.space': 1})\n",
      "           5. tree 3.333333333333333\n",
      "           Counter({'alt.atheism': 2, 'rec.autos': 2})\n",
      "             6. tree 1.0\n",
      "             Counter({'alt.atheism': 2})\n",
      "               7. tree 0.0\n",
      "               Counter({'alt.atheism': 1})\n",
      "               Counter({'alt.atheism': 1})\n",
      "             Counter({'rec.autos': 2})\n",
      "               7. tree 0.0\n",
      "               Counter({'rec.autos': 1})\n",
      "               Counter({'rec.autos': 1})\n",
      "           Counter({'talk.politics.mideast': 2, 'sci.space': 1})\n",
      "             6. tree 0.5\n",
      "             Counter({'talk.politics.mideast': 1, 'sci.space': 1})\n",
      "               7. tree 0.0\n",
      "               Counter({'talk.politics.mideast': 1})\n",
      "               Counter({'sci.space': 1})\n",
      "             Counter({'talk.politics.mideast': 1})\n",
      "\n",
      " 0. tree_prime 192.4230151076824\n",
      " Counter({'talk.politics.mideast': 18, 'alt.atheism': 16, 'rec.autos': 15, 'sci.space': 12})\n",
      "   1. tree_prime 88.73655913978496\n",
      "   Counter({'alt.atheism': 11, 'talk.politics.mideast': 8, 'sci.space': 7, 'rec.autos': 5})\n",
      "     2. tree_prime 37.57983193277311\n",
      "     Counter({'alt.atheism': 6, 'talk.politics.mideast': 4, 'sci.space': 3, 'rec.autos': 1})\n",
      "       3. tree_prime 12.444444444444445\n",
      "       Counter({'alt.atheism': 3, 'sci.space': 3, 'talk.politics.mideast': 2, 'rec.autos': 1})\n",
      "         4. tree_prime 5.499999999999999\n",
      "         Counter({'sci.space': 3, 'alt.atheism': 2, 'talk.politics.mideast': 1})\n",
      "           5. tree_prime 2.666666666666667\n",
      "           Counter({'sci.space': 2, 'alt.atheism': 1})\n",
      "             6. tree_prime 0.5\n",
      "             Counter({'sci.space': 1, 'alt.atheism': 1})\n",
      "               7. tree_prime 0.0\n",
      "               Counter({'sci.space': 1})\n",
      "               Counter({'alt.atheism': 1})\n",
      "             Counter({'sci.space': 1})\n",
      "           Counter({'sci.space': 1, 'talk.politics.mideast': 1, 'alt.atheism': 1})\n",
      "             6. tree_prime 0.5\n",
      "             Counter({'sci.space': 1, 'talk.politics.mideast': 1})\n",
      "               7. tree_prime 0.0\n",
      "               Counter({'sci.space': 1})\n",
      "               Counter({'talk.politics.mideast': 1})\n",
      "             Counter({'alt.atheism': 1})\n",
      "         Counter({'alt.atheism': 1, 'rec.autos': 1, 'talk.politics.mideast': 1})\n",
      "           5. tree_prime 0.5\n",
      "           Counter({'alt.atheism': 1, 'talk.politics.mideast': 1})\n",
      "             6. tree_prime 0.0\n",
      "             Counter({'alt.atheism': 1})\n",
      "             Counter({'talk.politics.mideast': 1})\n",
      "           Counter({'rec.autos': 1})\n",
      "       Counter({'alt.atheism': 3, 'talk.politics.mideast': 2})\n",
      "         4. tree_prime 1.8333333333333335\n",
      "         Counter({'talk.politics.mideast': 2, 'alt.atheism': 1})\n",
      "           5. tree_prime 0.5\n",
      "           Counter({'talk.politics.mideast': 1, 'alt.atheism': 1})\n",
      "             6. tree_prime 0.0\n",
      "             Counter({'talk.politics.mideast': 1})\n",
      "             Counter({'alt.atheism': 1})\n",
      "           Counter({'talk.politics.mideast': 1})\n",
      "         Counter({'alt.atheism': 2})\n",
      "           5. tree_prime 0.0\n",
      "           Counter({'alt.atheism': 1})\n",
      "           Counter({'alt.atheism': 1})\n",
      "     Counter({'alt.atheism': 5, 'sci.space': 4, 'rec.autos': 4, 'talk.politics.mideast': 4})\n"
     ]
    },
    {
     "name": "stdout",
     "output_type": "stream",
     "text": [
      "       3. tree_prime 14.722222222222223\n",
      "       Counter({'rec.autos': 3, 'alt.atheism': 2, 'sci.space': 2, 'talk.politics.mideast': 1})\n",
      "         4. tree_prime 4.5\n",
      "         Counter({'alt.atheism': 2, 'sci.space': 1, 'rec.autos': 1})\n",
      "           5. tree_prime 1.3333333333333335\n",
      "           Counter({'alt.atheism': 2, 'sci.space': 1})\n",
      "             6. tree_prime 0.5\n",
      "             Counter({'alt.atheism': 2})\n",
      "               7. tree_prime 0.0\n",
      "               Counter({'alt.atheism': 1})\n",
      "               Counter({'alt.atheism': 1})\n",
      "             Counter({'sci.space': 1})\n",
      "           Counter({'rec.autos': 1})\n",
      "         Counter({'rec.autos': 2, 'talk.politics.mideast': 1, 'sci.space': 1})\n",
      "           5. tree_prime 1.3333333333333335\n",
      "           Counter({'talk.politics.mideast': 1, 'rec.autos': 1, 'sci.space': 1})\n",
      "             6. tree_prime 0.5\n",
      "             Counter({'talk.politics.mideast': 1, 'rec.autos': 1})\n",
      "               7. tree_prime 0.0\n",
      "               Counter({'talk.politics.mideast': 1})\n",
      "               Counter({'rec.autos': 1})\n",
      "             Counter({'sci.space': 1})\n",
      "           Counter({'rec.autos': 1})\n",
      "       Counter({'alt.atheism': 3, 'talk.politics.mideast': 3, 'sci.space': 2, 'rec.autos': 1})\n",
      "         4. tree_prime 5.450000000000001\n",
      "         Counter({'alt.atheism': 2, 'talk.politics.mideast': 2, 'sci.space': 1})\n",
      "           5. tree_prime 1.8333333333333335\n",
      "           Counter({'sci.space': 1, 'talk.politics.mideast': 1, 'alt.atheism': 1})\n",
      "             6. tree_prime 0.5\n",
      "             Counter({'sci.space': 1, 'alt.atheism': 1})\n",
      "               7. tree_prime 0.0\n",
      "               Counter({'sci.space': 1})\n",
      "               Counter({'alt.atheism': 1})\n",
      "             Counter({'talk.politics.mideast': 1})\n",
      "           Counter({'alt.atheism': 1, 'talk.politics.mideast': 1})\n",
      "             6. tree_prime 0.0\n",
      "             Counter({'alt.atheism': 1})\n",
      "             Counter({'talk.politics.mideast': 1})\n",
      "         Counter({'alt.atheism': 1, 'rec.autos': 1, 'sci.space': 1, 'talk.politics.mideast': 1})\n",
      "           5. tree_prime 1.3333333333333335\n",
      "           Counter({'alt.atheism': 1, 'sci.space': 1, 'talk.politics.mideast': 1})\n",
      "             6. tree_prime 0.5\n",
      "             Counter({'alt.atheism': 1, 'talk.politics.mideast': 1})\n",
      "               7. tree_prime 0.0\n",
      "               Counter({'alt.atheism': 1})\n",
      "               Counter({'talk.politics.mideast': 1})\n",
      "             Counter({'sci.space': 1})\n",
      "           Counter({'rec.autos': 1})\n",
      "   Counter({'rec.autos': 10, 'talk.politics.mideast': 10, 'alt.atheism': 5, 'sci.space': 5})\n",
      "     2. tree_prime 33.411764705882355\n",
      "     Counter({'rec.autos': 7, 'talk.politics.mideast': 5, 'sci.space': 3, 'alt.atheism': 2})\n",
      "       3. tree_prime 14.92857142857143\n",
      "       Counter({'talk.politics.mideast': 3, 'alt.atheism': 2, 'sci.space': 1, 'rec.autos': 1})\n",
      "         4. tree_prime 3.5833333333333335\n",
      "         Counter({'alt.atheism': 2, 'talk.politics.mideast': 2})\n",
      "           5. tree_prime 1.3333333333333335\n",
      "           Counter({'talk.politics.mideast': 2, 'alt.atheism': 1})\n",
      "             6. tree_prime 0.5\n",
      "             Counter({'alt.atheism': 1, 'talk.politics.mideast': 1})\n",
      "               7. tree_prime 0.0\n",
      "               Counter({'alt.atheism': 1})\n",
      "               Counter({'talk.politics.mideast': 1})\n",
      "             Counter({'talk.politics.mideast': 1})\n",
      "           Counter({'alt.atheism': 1})\n",
      "         Counter({'talk.politics.mideast': 1, 'sci.space': 1, 'rec.autos': 1})\n",
      "           5. tree_prime 0.5\n",
      "           Counter({'talk.politics.mideast': 1, 'rec.autos': 1})\n",
      "             6. tree_prime 0.0\n",
      "             Counter({'talk.politics.mideast': 1})\n",
      "             Counter({'rec.autos': 1})\n",
      "           Counter({'sci.space': 1})\n",
      "       Counter({'rec.autos': 6, 'sci.space': 2, 'talk.politics.mideast': 2})\n",
      "         4. tree_prime 7.2\n",
      "         Counter({'talk.politics.mideast': 2, 'rec.autos': 2, 'sci.space': 1})\n",
      "           5. tree_prime 1.833333333333334\n",
      "           Counter({'sci.space': 1, 'talk.politics.mideast': 1, 'rec.autos': 1})\n",
      "             6. tree_prime 0.5\n",
      "             Counter({'sci.space': 1, 'rec.autos': 1})\n",
      "               7. tree_prime 0.0\n",
      "               Counter({'sci.space': 1})\n",
      "               Counter({'rec.autos': 1})\n",
      "             Counter({'talk.politics.mideast': 1})\n",
      "           Counter({'talk.politics.mideast': 1, 'rec.autos': 1})\n",
      "             6. tree_prime 0.0\n",
      "             Counter({'talk.politics.mideast': 1})\n",
      "             Counter({'rec.autos': 1})\n",
      "         Counter({'rec.autos': 4, 'sci.space': 1})\n",
      "           5. tree_prime 1.8333333333333335\n",
      "           Counter({'rec.autos': 2})\n",
      "             6. tree_prime 0.0\n",
      "             Counter({'rec.autos': 1})\n",
      "             Counter({'rec.autos': 1})\n",
      "           Counter({'rec.autos': 2, 'sci.space': 1})\n",
      "             6. tree_prime 0.5\n",
      "             Counter({'rec.autos': 2})\n",
      "               7. tree_prime 0.0\n",
      "               Counter({'rec.autos': 1})\n",
      "               Counter({'rec.autos': 1})\n",
      "             Counter({'sci.space': 1})\n",
      "     Counter({'talk.politics.mideast': 5, 'rec.autos': 3, 'alt.atheism': 3, 'sci.space': 2})\n",
      "       3. tree_prime 10.214285714285715\n",
      "       Counter({'talk.politics.mideast': 3, 'alt.atheism': 2, 'rec.autos': 1, 'sci.space': 1})\n",
      "         4. tree_prime 3.583333333333333\n",
      "         Counter({'alt.atheism': 2, 'rec.autos': 1, 'sci.space': 1})\n",
      "           5. tree_prime 1.3333333333333335\n",
      "           Counter({'rec.autos': 1, 'alt.atheism': 1, 'sci.space': 1})\n",
      "             6. tree_prime 0.5\n",
      "             Counter({'rec.autos': 1})\n",
      "             Counter({'alt.atheism': 1, 'sci.space': 1})\n",
      "               7. tree_prime 0.0\n",
      "               Counter({'alt.atheism': 1})\n",
      "               Counter({'sci.space': 1})\n",
      "           Counter({'alt.atheism': 1})\n",
      "         Counter({'talk.politics.mideast': 3})\n",
      "           5. tree_prime 0.5\n",
      "           Counter({'talk.politics.mideast': 2})\n",
      "             6. tree_prime 0.0\n",
      "             Counter({'talk.politics.mideast': 1})\n",
      "             Counter({'talk.politics.mideast': 1})\n",
      "           Counter({'talk.politics.mideast': 1})\n",
      "       Counter({'talk.politics.mideast': 2, 'rec.autos': 2, 'alt.atheism': 1, 'sci.space': 1})\n",
      "         4. tree_prime 2.666666666666667\n",
      "         Counter({'talk.politics.mideast': 1, 'rec.autos': 1, 'alt.atheism': 1})\n",
      "           5. tree_prime 0.5\n",
      "           Counter({'talk.politics.mideast': 1, 'alt.atheism': 1})\n",
      "             6. tree_prime 0.0\n",
      "             Counter({'talk.politics.mideast': 1})\n",
      "             Counter({'alt.atheism': 1})\n",
      "           Counter({'rec.autos': 1})\n",
      "         Counter({'rec.autos': 1, 'talk.politics.mideast': 1, 'sci.space': 1})\n",
      "           5. tree_prime 0.5\n",
      "           Counter({'rec.autos': 1})\n",
      "           Counter({'talk.politics.mideast': 1, 'sci.space': 1})\n",
      "             6. tree_prime 0.0\n",
      "             Counter({'talk.politics.mideast': 1})\n",
      "             Counter({'sci.space': 1})\n",
      " Counter({'alt.atheism': 15, 'sci.space': 14, 'rec.autos': 12, 'talk.politics.mideast': 10})\n",
      "   1. tree_prime 70.61428571428573\n",
      "   Counter({'alt.atheism': 11, 'sci.space': 9, 'rec.autos': 6, 'talk.politics.mideast': 4})\n",
      "     2. tree_prime 35.93650793650795\n",
      "     Counter({'sci.space': 8, 'alt.atheism': 6, 'rec.autos': 5, 'talk.politics.mideast': 2})\n",
      "       3. tree_prime 20.78846153846154\n",
      "       Counter({'rec.autos': 2, 'alt.atheism': 2, 'talk.politics.mideast': 2, 'sci.space': 2})\n",
      "         4. tree_prime 4.5\n",
      "         Counter({'rec.autos': 2, 'alt.atheism': 1, 'sci.space': 1})\n",
      "           5. tree_prime 1.0\n",
      "           Counter({'rec.autos': 1, 'alt.atheism': 1})\n",
      "             6. tree_prime 0.0\n",
      "             Counter({'rec.autos': 1})\n",
      "             Counter({'alt.atheism': 1})\n",
      "           Counter({'sci.space': 1, 'rec.autos': 1})\n",
      "             6. tree_prime 0.0\n",
      "             Counter({'sci.space': 1})\n",
      "             Counter({'rec.autos': 1})\n",
      "         Counter({'talk.politics.mideast': 2, 'alt.atheism': 1, 'sci.space': 1})\n",
      "           5. tree_prime 1.0\n",
      "           Counter({'alt.atheism': 1, 'sci.space': 1})\n",
      "             6. tree_prime 0.0\n",
      "             Counter({'alt.atheism': 1})\n",
      "             Counter({'sci.space': 1})\n",
      "           Counter({'talk.politics.mideast': 2})\n",
      "             6. tree_prime 0.0\n",
      "             Counter({'talk.politics.mideast': 1})\n",
      "             Counter({'talk.politics.mideast': 1})\n",
      "       Counter({'sci.space': 6, 'alt.atheism': 4, 'rec.autos': 3})\n"
     ]
    },
    {
     "name": "stdout",
     "output_type": "stream",
     "text": [
      "         4. tree_prime 10.1\n",
      "         Counter({'sci.space': 5, 'rec.autos': 2, 'alt.atheism': 1})\n",
      "           5. tree_prime 4.533333333333333\n",
      "           Counter({'sci.space': 2, 'rec.autos': 2, 'alt.atheism': 1})\n",
      "             6. tree_prime 1.8333333333333335\n",
      "             Counter({'rec.autos': 1, 'sci.space': 1})\n",
      "               7. tree_prime 0.0\n",
      "               Counter({'rec.autos': 1})\n",
      "               Counter({'sci.space': 1})\n",
      "             Counter({'sci.space': 1, 'alt.atheism': 1, 'rec.autos': 1})\n",
      "               7. tree_prime 0.5\n",
      "               Counter({'sci.space': 1})\n",
      "               Counter({'alt.atheism': 1, 'rec.autos': 1})\n",
      "                 8. tree_prime 0.0\n",
      "                 Counter({'alt.atheism': 1})\n",
      "                 Counter({'rec.autos': 1})\n",
      "           Counter({'sci.space': 3})\n",
      "             6. tree_prime 0.5\n",
      "             Counter({'sci.space': 2})\n",
      "               7. tree_prime 0.0\n",
      "               Counter({'sci.space': 1})\n",
      "               Counter({'sci.space': 1})\n",
      "             Counter({'sci.space': 1})\n",
      "         Counter({'alt.atheism': 3, 'rec.autos': 1, 'sci.space': 1})\n",
      "           5. tree_prime 1.8333333333333335\n",
      "           Counter({'alt.atheism': 3})\n",
      "             6. tree_prime 0.5\n",
      "             Counter({'alt.atheism': 2})\n",
      "               7. tree_prime 0.0\n",
      "               Counter({'alt.atheism': 1})\n",
      "               Counter({'alt.atheism': 1})\n",
      "             Counter({'alt.atheism': 1})\n",
      "           Counter({'rec.autos': 1, 'sci.space': 1})\n",
      "             6. tree_prime 0.0\n",
      "             Counter({'rec.autos': 1})\n",
      "             Counter({'sci.space': 1})\n",
      "     Counter({'alt.atheism': 5, 'talk.politics.mideast': 2, 'rec.autos': 1, 'sci.space': 1})\n",
      "       3. tree_prime 5.699999999999999\n",
      "       Counter({'alt.atheism': 3, 'rec.autos': 1})\n",
      "         4. tree_prime 1.0\n",
      "         Counter({'rec.autos': 1, 'alt.atheism': 1})\n",
      "           5. tree_prime 0.0\n",
      "           Counter({'rec.autos': 1})\n",
      "           Counter({'alt.atheism': 1})\n",
      "         Counter({'alt.atheism': 2})\n",
      "           5. tree_prime 0.0\n",
      "           Counter({'alt.atheism': 1})\n",
      "           Counter({'alt.atheism': 1})\n",
      "       Counter({'talk.politics.mideast': 2, 'alt.atheism': 2, 'sci.space': 1})\n",
      "         4. tree_prime 2.25\n",
      "         Counter({'talk.politics.mideast': 2, 'sci.space': 1, 'alt.atheism': 1})\n",
      "           5. tree_prime 1.3333333333333335\n",
      "           Counter({'talk.politics.mideast': 2, 'alt.atheism': 1})\n",
      "             6. tree_prime 0.5\n",
      "             Counter({'talk.politics.mideast': 1, 'alt.atheism': 1})\n",
      "               7. tree_prime 0.0\n",
      "               Counter({'talk.politics.mideast': 1})\n",
      "               Counter({'alt.atheism': 1})\n",
      "             Counter({'talk.politics.mideast': 1})\n",
      "           Counter({'sci.space': 1})\n",
      "         Counter({'alt.atheism': 1})\n",
      "   Counter({'rec.autos': 6, 'talk.politics.mideast': 6, 'sci.space': 5, 'alt.atheism': 4})\n",
      "     2. tree_prime 20.109090909090906\n",
      "     Counter({'sci.space': 4, 'alt.atheism': 3, 'talk.politics.mideast': 2, 'rec.autos': 2})\n",
      "       3. tree_prime 7.678571428571428\n",
      "       Counter({'sci.space': 3, 'alt.atheism': 2, 'talk.politics.mideast': 1, 'rec.autos': 1})\n",
      "         4. tree_prime 3.583333333333333\n",
      "         Counter({'sci.space': 1, 'talk.politics.mideast': 1, 'rec.autos': 1, 'alt.atheism': 1})\n",
      "           5. tree_prime 1.3333333333333335\n",
      "           Counter({'sci.space': 1, 'talk.politics.mideast': 1, 'alt.atheism': 1})\n",
      "             6. tree_prime 0.5\n",
      "             Counter({'sci.space': 1})\n",
      "             Counter({'talk.politics.mideast': 1, 'alt.atheism': 1})\n",
      "               7. tree_prime 0.0\n",
      "               Counter({'talk.politics.mideast': 1})\n",
      "               Counter({'alt.atheism': 1})\n",
      "           Counter({'rec.autos': 1})\n",
      "         Counter({'sci.space': 2, 'alt.atheism': 1})\n",
      "           5. tree_prime 0.5\n",
      "           Counter({'sci.space': 2})\n",
      "             6. tree_prime 0.0\n",
      "             Counter({'sci.space': 1})\n",
      "             Counter({'sci.space': 1})\n",
      "           Counter({'alt.atheism': 1})\n",
      "       Counter({'sci.space': 1, 'talk.politics.mideast': 1, 'rec.autos': 1, 'alt.atheism': 1})\n",
      "         4. tree_prime 1.3333333333333335\n",
      "         Counter({'sci.space': 1, 'talk.politics.mideast': 1, 'alt.atheism': 1})\n",
      "           5. tree_prime 0.5\n",
      "           Counter({'sci.space': 1, 'alt.atheism': 1})\n",
      "             6. tree_prime 0.0\n",
      "             Counter({'sci.space': 1})\n",
      "             Counter({'alt.atheism': 1})\n",
      "           Counter({'talk.politics.mideast': 1})\n",
      "         Counter({'rec.autos': 1})\n",
      "     Counter({'rec.autos': 4, 'talk.politics.mideast': 4, 'alt.atheism': 1, 'sci.space': 1})\n",
      "       3. tree_prime 6.4\n",
      "       Counter({'rec.autos': 3, 'sci.space': 1, 'talk.politics.mideast': 1})\n",
      "         4. tree_prime 1.8333333333333335\n",
      "         Counter({'sci.space': 1, 'talk.politics.mideast': 1, 'rec.autos': 1})\n",
      "           5. tree_prime 0.5\n",
      "           Counter({'sci.space': 1, 'rec.autos': 1})\n",
      "             6. tree_prime 0.0\n",
      "             Counter({'sci.space': 1})\n",
      "             Counter({'rec.autos': 1})\n",
      "           Counter({'talk.politics.mideast': 1})\n",
      "         Counter({'rec.autos': 2})\n",
      "           5. tree_prime 0.0\n",
      "           Counter({'rec.autos': 1})\n",
      "           Counter({'rec.autos': 1})\n",
      "       Counter({'talk.politics.mideast': 3, 'alt.atheism': 1, 'rec.autos': 1})\n",
      "         4. tree_prime 1.8333333333333335\n",
      "         Counter({'talk.politics.mideast': 2})\n",
      "           5. tree_prime 0.0\n",
      "           Counter({'talk.politics.mideast': 1})\n",
      "           Counter({'talk.politics.mideast': 1})\n",
      "         Counter({'alt.atheism': 1, 'rec.autos': 1, 'talk.politics.mideast': 1})\n",
      "           5. tree_prime 0.5\n",
      "           Counter({'alt.atheism': 1, 'rec.autos': 1})\n",
      "             6. tree_prime 0.0\n",
      "             Counter({'alt.atheism': 1})\n",
      "             Counter({'rec.autos': 1})\n",
      "           Counter({'talk.politics.mideast': 1})\n",
      "\n"
     ]
    }
   ],
   "source": [
    "depth = 16\n",
    "n_clusters = 2\n",
    "sample_ratio = 1\n",
    "random_state = 0\n",
    "num_of_iterations = 1\n",
    "\n",
    "tree_x = np.full((depth, len(y_train)), 0, dtype=float)\n",
    "tree_prime_x = np.full((depth, len(y_train)), 0, dtype=float)\n",
    "\n",
    "wxs = [\n",
    "    (\"tree\", tree, tree_x),\n",
    "    (\"tree_prime\", tree_prime, tree_prime_x)\n",
    "]\n",
    "\n",
    "for title, wx, tr in wxs:\n",
    "    tr = run_partition_kmeans(\n",
    "        title, \n",
    "        wx, \n",
    "        y_train,\n",
    "        tree=tr,\n",
    "        keys=np.array(list(range(len(y_train)))),\n",
    "        n_clusters=n_clusters, \n",
    "        sample_ratio=sample_ratio, \n",
    "        num_of_iterations=num_of_iterations,\n",
    "        random_state=random_state, \n",
    "        level=0, \n",
    "        depth=depth\n",
    "    )\n",
    "    print()\n",
    "    \n",
    "tree_x = tree_x.T\n",
    "tree_prime_x = tree_prime_x.T\n",
    "\n",
    "tree_x = tree_x[:, tree_x.sum(0) != 0]\n",
    "tree_prime_x = tree_prime_x[:, tree_prime_x.sum(0) != 0]"
   ]
  },
  {
   "cell_type": "code",
   "execution_count": 139,
   "metadata": {},
   "outputs": [
    {
     "name": "stdout",
     "output_type": "stream",
     "text": [
      "using 4 classes\n",
      "wdf_train 4301.3814041745745\n",
      "Counter({'alt.atheism': 5, 'talk.politics.mideast': 4, 'sci.space': 3, 'rec.autos': 1})\n",
      "Counter({'alt.atheism': 12, 'talk.politics.mideast': 9, 'rec.autos': 9, 'sci.space': 4})\n",
      "Counter({'sci.space': 10, 'alt.atheism': 7, 'talk.politics.mideast': 7, 'rec.autos': 7})\n",
      "Counter({'rec.autos': 10, 'sci.space': 9, 'talk.politics.mideast': 8, 'alt.atheism': 7})\n",
      "\n",
      "tree 173.9456472800465\n",
      "Counter({'talk.politics.mideast': 9, 'sci.space': 8, 'rec.autos': 7, 'alt.atheism': 5})\n",
      "Counter({'alt.atheism': 13, 'rec.autos': 8, 'talk.politics.mideast': 5, 'sci.space': 5})\n",
      "Counter({'sci.space': 9, 'alt.atheism': 7, 'talk.politics.mideast': 7, 'rec.autos': 5})\n",
      "Counter({'rec.autos': 7, 'talk.politics.mideast': 7, 'alt.atheism': 6, 'sci.space': 4})\n",
      "\n",
      "tree_x 139.9627759627759\n",
      "Counter({'sci.space': 7, 'talk.politics.mideast': 6, 'alt.atheism': 4, 'rec.autos': 4})\n",
      "Counter({'talk.politics.mideast': 9, 'rec.autos': 7, 'sci.space': 7, 'alt.atheism': 5})\n",
      "Counter({'alt.atheism': 11, 'rec.autos': 9, 'talk.politics.mideast': 9, 'sci.space': 8})\n",
      "Counter({'alt.atheism': 11, 'rec.autos': 7, 'talk.politics.mideast': 4, 'sci.space': 4})\n",
      "\n",
      "wdf_train_prime 1172.493433672872\n",
      "Counter({'sci.space': 5, 'talk.politics.mideast': 3, 'rec.autos': 3, 'alt.atheism': 3})\n",
      "Counter({'sci.space': 6, 'alt.atheism': 6, 'rec.autos': 5, 'talk.politics.mideast': 5})\n",
      "Counter({'rec.autos': 13, 'alt.atheism': 12, 'talk.politics.mideast': 11, 'sci.space': 9})\n",
      "Counter({'alt.atheism': 10, 'talk.politics.mideast': 9, 'rec.autos': 6, 'sci.space': 6})\n",
      "\n",
      "tree_prime 157.88657039001862\n",
      "Counter({'alt.atheism': 10, 'sci.space': 8, 'rec.autos': 7, 'talk.politics.mideast': 5})\n",
      "Counter({'rec.autos': 8, 'talk.politics.mideast': 7, 'alt.atheism': 6, 'sci.space': 6})\n",
      "Counter({'alt.atheism': 9, 'talk.politics.mideast': 7, 'sci.space': 6, 'rec.autos': 4})\n",
      "Counter({'talk.politics.mideast': 9, 'rec.autos': 8, 'sci.space': 6, 'alt.atheism': 6})\n",
      "\n",
      "tree_prime_x 148.36162073220893\n",
      "Counter({'alt.atheism': 11, 'sci.space': 11, 'rec.autos': 6, 'talk.politics.mideast': 6})\n",
      "Counter({'rec.autos': 10, 'talk.politics.mideast': 6, 'alt.atheism': 3, 'sci.space': 3})\n",
      "Counter({'talk.politics.mideast': 10, 'sci.space': 7, 'alt.atheism': 7, 'rec.autos': 6})\n",
      "Counter({'alt.atheism': 10, 'talk.politics.mideast': 6, 'sci.space': 5, 'rec.autos': 5})\n",
      "\n"
     ]
    }
   ],
   "source": [
    "wxs = [\n",
    "    (\"wdf_train\", wdf_train),\n",
    "    (\"tree\", tree),\n",
    "    (\"tree_x\", tree_x),\n",
    "    (\"wdf_train_prime\", wdf_train_prime),\n",
    "    (\"tree_prime\", tree_prime),\n",
    "    (\"tree_prime_x\", tree_prime_x),\n",
    "]\n",
    "\n",
    "for i in range(4, 5):\n",
    "    print(f\"using {i} classes\")\n",
    "    \n",
    "    for title, wx in wxs:\n",
    "        kmeans = KMeans(n_clusters=i, random_state=0).fit(wx)\n",
    "        \n",
    "        print(title, kmeans.inertia_)\n",
    "        predicted_labels = kmeans.predict(wx)\n",
    "        for ii in range(i):\n",
    "            print(Counter(y_train[predicted_labels == ii]))\n",
    "            \n",
    "        print()"
   ]
  },
  {
   "cell_type": "code",
   "execution_count": 140,
   "metadata": {},
   "outputs": [
    {
     "data": {
      "text/plain": [
       "array([51., 51., 49., 57., 48., 42., 37., 17.,  1.])"
      ]
     },
     "execution_count": 140,
     "metadata": {},
     "output_type": "execute_result"
    }
   ],
   "source": [
    "tree_prime_x.sum(0)"
   ]
  },
  {
   "cell_type": "code",
   "execution_count": null,
   "metadata": {},
   "outputs": [],
   "source": []
  },
  {
   "cell_type": "code",
   "execution_count": null,
   "metadata": {},
   "outputs": [],
   "source": []
  },
  {
   "cell_type": "code",
   "execution_count": null,
   "metadata": {},
   "outputs": [],
   "source": []
  },
  {
   "cell_type": "code",
   "execution_count": null,
   "metadata": {},
   "outputs": [],
   "source": []
  },
  {
   "cell_type": "code",
   "execution_count": null,
   "metadata": {},
   "outputs": [],
   "source": []
  },
  {
   "cell_type": "code",
   "execution_count": null,
   "metadata": {},
   "outputs": [],
   "source": []
  }
 ],
 "metadata": {
  "colab": {
   "name": "topic_modeler.ipynb",
   "provenance": [],
   "toc_visible": true
  },
  "kernelspec": {
   "display_name": "Python 3.7.2 64-bit",
   "language": "python",
   "name": "python37264bit1e47c484c81847018c6f6fa7221b75f5"
  },
  "language_info": {
   "codemirror_mode": {
    "name": "ipython",
    "version": 3
   },
   "file_extension": ".py",
   "mimetype": "text/x-python",
   "name": "python",
   "nbconvert_exporter": "python",
   "pygments_lexer": "ipython3",
   "version": "3.7.2"
  },
  "widgets": {
   "application/vnd.jupyter.widget-state+json": {
    "1029c3cb5c264802a7bd45639c1a7c20": {
     "model_module": "@jupyter-widgets/base",
     "model_name": "LayoutModel",
     "state": {
      "_model_module": "@jupyter-widgets/base",
      "_model_module_version": "1.2.0",
      "_model_name": "LayoutModel",
      "_view_count": null,
      "_view_module": "@jupyter-widgets/base",
      "_view_module_version": "1.2.0",
      "_view_name": "LayoutView",
      "align_content": null,
      "align_items": null,
      "align_self": null,
      "border": null,
      "bottom": null,
      "display": null,
      "flex": null,
      "flex_flow": null,
      "grid_area": null,
      "grid_auto_columns": null,
      "grid_auto_flow": null,
      "grid_auto_rows": null,
      "grid_column": null,
      "grid_gap": null,
      "grid_row": null,
      "grid_template_areas": null,
      "grid_template_columns": null,
      "grid_template_rows": null,
      "height": null,
      "justify_content": null,
      "justify_items": null,
      "left": null,
      "margin": null,
      "max_height": null,
      "max_width": null,
      "min_height": null,
      "min_width": null,
      "object_fit": null,
      "object_position": null,
      "order": null,
      "overflow": null,
      "overflow_x": null,
      "overflow_y": null,
      "padding": null,
      "right": null,
      "top": null,
      "visibility": null,
      "width": null
     }
    },
    "2e8643a34a7143e284ed8e94aaca32d7": {
     "model_module": "@jupyter-widgets/controls",
     "model_name": "ProgressStyleModel",
     "state": {
      "_model_module": "@jupyter-widgets/controls",
      "_model_module_version": "1.5.0",
      "_model_name": "ProgressStyleModel",
      "_view_count": null,
      "_view_module": "@jupyter-widgets/base",
      "_view_module_version": "1.2.0",
      "_view_name": "StyleView",
      "bar_color": null,
      "description_width": "initial"
     }
    },
    "44bf4a5432b34d269a82bce24d4e46b3": {
     "model_module": "@jupyter-widgets/controls",
     "model_name": "ProgressStyleModel",
     "state": {
      "_model_module": "@jupyter-widgets/controls",
      "_model_module_version": "1.5.0",
      "_model_name": "ProgressStyleModel",
      "_view_count": null,
      "_view_module": "@jupyter-widgets/base",
      "_view_module_version": "1.2.0",
      "_view_name": "StyleView",
      "bar_color": null,
      "description_width": "initial"
     }
    },
    "4dcd4b491d694b0aa25514b8486cf3f8": {
     "model_module": "@jupyter-widgets/base",
     "model_name": "LayoutModel",
     "state": {
      "_model_module": "@jupyter-widgets/base",
      "_model_module_version": "1.2.0",
      "_model_name": "LayoutModel",
      "_view_count": null,
      "_view_module": "@jupyter-widgets/base",
      "_view_module_version": "1.2.0",
      "_view_name": "LayoutView",
      "align_content": null,
      "align_items": null,
      "align_self": null,
      "border": null,
      "bottom": null,
      "display": null,
      "flex": null,
      "flex_flow": null,
      "grid_area": null,
      "grid_auto_columns": null,
      "grid_auto_flow": null,
      "grid_auto_rows": null,
      "grid_column": null,
      "grid_gap": null,
      "grid_row": null,
      "grid_template_areas": null,
      "grid_template_columns": null,
      "grid_template_rows": null,
      "height": null,
      "justify_content": null,
      "justify_items": null,
      "left": null,
      "margin": null,
      "max_height": null,
      "max_width": null,
      "min_height": null,
      "min_width": null,
      "object_fit": null,
      "object_position": null,
      "order": null,
      "overflow": null,
      "overflow_x": null,
      "overflow_y": null,
      "padding": null,
      "right": null,
      "top": null,
      "visibility": null,
      "width": null
     }
    },
    "51dd1aa22f7d45ccbd3ba766bb232b57": {
     "model_module": "@jupyter-widgets/base",
     "model_name": "LayoutModel",
     "state": {
      "_model_module": "@jupyter-widgets/base",
      "_model_module_version": "1.2.0",
      "_model_name": "LayoutModel",
      "_view_count": null,
      "_view_module": "@jupyter-widgets/base",
      "_view_module_version": "1.2.0",
      "_view_name": "LayoutView",
      "align_content": null,
      "align_items": null,
      "align_self": null,
      "border": null,
      "bottom": null,
      "display": null,
      "flex": null,
      "flex_flow": null,
      "grid_area": null,
      "grid_auto_columns": null,
      "grid_auto_flow": null,
      "grid_auto_rows": null,
      "grid_column": null,
      "grid_gap": null,
      "grid_row": null,
      "grid_template_areas": null,
      "grid_template_columns": null,
      "grid_template_rows": null,
      "height": null,
      "justify_content": null,
      "justify_items": null,
      "left": null,
      "margin": null,
      "max_height": null,
      "max_width": null,
      "min_height": null,
      "min_width": null,
      "object_fit": null,
      "object_position": null,
      "order": null,
      "overflow": null,
      "overflow_x": null,
      "overflow_y": null,
      "padding": null,
      "right": null,
      "top": null,
      "visibility": null,
      "width": null
     }
    },
    "5369f73e7d934a68a3478189b5a136b6": {
     "model_module": "@jupyter-widgets/controls",
     "model_name": "FloatProgressModel",
     "state": {
      "_dom_classes": [],
      "_model_module": "@jupyter-widgets/controls",
      "_model_module_version": "1.5.0",
      "_model_name": "FloatProgressModel",
      "_view_count": null,
      "_view_module": "@jupyter-widgets/controls",
      "_view_module_version": "1.5.0",
      "_view_name": "ProgressView",
      "bar_style": "",
      "description": " 14%",
      "description_tooltip": null,
      "layout": "IPY_MODEL_4dcd4b491d694b0aa25514b8486cf3f8",
      "max": 37408,
      "min": 0,
      "orientation": "horizontal",
      "style": "IPY_MODEL_44bf4a5432b34d269a82bce24d4e46b3",
      "value": 5274
     }
    },
    "5c20409065a347d18e1ab6bde4c5a0ba": {
     "model_module": "@jupyter-widgets/base",
     "model_name": "LayoutModel",
     "state": {
      "_model_module": "@jupyter-widgets/base",
      "_model_module_version": "1.2.0",
      "_model_name": "LayoutModel",
      "_view_count": null,
      "_view_module": "@jupyter-widgets/base",
      "_view_module_version": "1.2.0",
      "_view_name": "LayoutView",
      "align_content": null,
      "align_items": null,
      "align_self": null,
      "border": null,
      "bottom": null,
      "display": null,
      "flex": null,
      "flex_flow": null,
      "grid_area": null,
      "grid_auto_columns": null,
      "grid_auto_flow": null,
      "grid_auto_rows": null,
      "grid_column": null,
      "grid_gap": null,
      "grid_row": null,
      "grid_template_areas": null,
      "grid_template_columns": null,
      "grid_template_rows": null,
      "height": null,
      "justify_content": null,
      "justify_items": null,
      "left": null,
      "margin": null,
      "max_height": null,
      "max_width": null,
      "min_height": null,
      "min_width": null,
      "object_fit": null,
      "object_position": null,
      "order": null,
      "overflow": null,
      "overflow_x": null,
      "overflow_y": null,
      "padding": null,
      "right": null,
      "top": null,
      "visibility": null,
      "width": null
     }
    },
    "846b5c7701bc49e4be2a7681d5361dd8": {
     "model_module": "@jupyter-widgets/controls",
     "model_name": "HTMLModel",
     "state": {
      "_dom_classes": [],
      "_model_module": "@jupyter-widgets/controls",
      "_model_module_version": "1.5.0",
      "_model_name": "HTMLModel",
      "_view_count": null,
      "_view_module": "@jupyter-widgets/controls",
      "_view_module_version": "1.5.0",
      "_view_name": "HTMLView",
      "description": "",
      "description_tooltip": null,
      "layout": "IPY_MODEL_5c20409065a347d18e1ab6bde4c5a0ba",
      "placeholder": "​",
      "style": "IPY_MODEL_cee50571766e465b81cd2d06ac0a4d31",
      "value": " 200/200 [00:52&lt;00:00,  3.85it/s]"
     }
    },
    "94d411d6977f493894ec3c8b5975f693": {
     "model_module": "@jupyter-widgets/controls",
     "model_name": "FloatProgressModel",
     "state": {
      "_dom_classes": [],
      "_model_module": "@jupyter-widgets/controls",
      "_model_module_version": "1.5.0",
      "_model_name": "FloatProgressModel",
      "_view_count": null,
      "_view_module": "@jupyter-widgets/controls",
      "_view_module_version": "1.5.0",
      "_view_name": "ProgressView",
      "bar_style": "success",
      "description": "100%",
      "description_tooltip": null,
      "layout": "IPY_MODEL_b8ce72deb0c34c35a99b91bbc9b5504c",
      "max": 200,
      "min": 0,
      "orientation": "horizontal",
      "style": "IPY_MODEL_2e8643a34a7143e284ed8e94aaca32d7",
      "value": 200
     }
    },
    "b8ce72deb0c34c35a99b91bbc9b5504c": {
     "model_module": "@jupyter-widgets/base",
     "model_name": "LayoutModel",
     "state": {
      "_model_module": "@jupyter-widgets/base",
      "_model_module_version": "1.2.0",
      "_model_name": "LayoutModel",
      "_view_count": null,
      "_view_module": "@jupyter-widgets/base",
      "_view_module_version": "1.2.0",
      "_view_name": "LayoutView",
      "align_content": null,
      "align_items": null,
      "align_self": null,
      "border": null,
      "bottom": null,
      "display": null,
      "flex": null,
      "flex_flow": null,
      "grid_area": null,
      "grid_auto_columns": null,
      "grid_auto_flow": null,
      "grid_auto_rows": null,
      "grid_column": null,
      "grid_gap": null,
      "grid_row": null,
      "grid_template_areas": null,
      "grid_template_columns": null,
      "grid_template_rows": null,
      "height": null,
      "justify_content": null,
      "justify_items": null,
      "left": null,
      "margin": null,
      "max_height": null,
      "max_width": null,
      "min_height": null,
      "min_width": null,
      "object_fit": null,
      "object_position": null,
      "order": null,
      "overflow": null,
      "overflow_x": null,
      "overflow_y": null,
      "padding": null,
      "right": null,
      "top": null,
      "visibility": null,
      "width": null
     }
    },
    "b8ee6c0914474dab8186285123c3c25a": {
     "model_module": "@jupyter-widgets/controls",
     "model_name": "HBoxModel",
     "state": {
      "_dom_classes": [],
      "_model_module": "@jupyter-widgets/controls",
      "_model_module_version": "1.5.0",
      "_model_name": "HBoxModel",
      "_view_count": null,
      "_view_module": "@jupyter-widgets/controls",
      "_view_module_version": "1.5.0",
      "_view_name": "HBoxView",
      "box_style": "",
      "children": [
       "IPY_MODEL_94d411d6977f493894ec3c8b5975f693",
       "IPY_MODEL_846b5c7701bc49e4be2a7681d5361dd8"
      ],
      "layout": "IPY_MODEL_1029c3cb5c264802a7bd45639c1a7c20"
     }
    },
    "c3f9b287331c4447a3858c3fed906a66": {
     "model_module": "@jupyter-widgets/controls",
     "model_name": "HBoxModel",
     "state": {
      "_dom_classes": [],
      "_model_module": "@jupyter-widgets/controls",
      "_model_module_version": "1.5.0",
      "_model_name": "HBoxModel",
      "_view_count": null,
      "_view_module": "@jupyter-widgets/controls",
      "_view_module_version": "1.5.0",
      "_view_name": "HBoxView",
      "box_style": "",
      "children": [
       "IPY_MODEL_5369f73e7d934a68a3478189b5a136b6",
       "IPY_MODEL_f02ad7bad6f74da69de3557e8b7e3b92"
      ],
      "layout": "IPY_MODEL_dc810a1b5ae545a09ef4b77e92695a36"
     }
    },
    "cee50571766e465b81cd2d06ac0a4d31": {
     "model_module": "@jupyter-widgets/controls",
     "model_name": "DescriptionStyleModel",
     "state": {
      "_model_module": "@jupyter-widgets/controls",
      "_model_module_version": "1.5.0",
      "_model_name": "DescriptionStyleModel",
      "_view_count": null,
      "_view_module": "@jupyter-widgets/base",
      "_view_module_version": "1.2.0",
      "_view_name": "StyleView",
      "description_width": ""
     }
    },
    "dc810a1b5ae545a09ef4b77e92695a36": {
     "model_module": "@jupyter-widgets/base",
     "model_name": "LayoutModel",
     "state": {
      "_model_module": "@jupyter-widgets/base",
      "_model_module_version": "1.2.0",
      "_model_name": "LayoutModel",
      "_view_count": null,
      "_view_module": "@jupyter-widgets/base",
      "_view_module_version": "1.2.0",
      "_view_name": "LayoutView",
      "align_content": null,
      "align_items": null,
      "align_self": null,
      "border": null,
      "bottom": null,
      "display": null,
      "flex": null,
      "flex_flow": null,
      "grid_area": null,
      "grid_auto_columns": null,
      "grid_auto_flow": null,
      "grid_auto_rows": null,
      "grid_column": null,
      "grid_gap": null,
      "grid_row": null,
      "grid_template_areas": null,
      "grid_template_columns": null,
      "grid_template_rows": null,
      "height": null,
      "justify_content": null,
      "justify_items": null,
      "left": null,
      "margin": null,
      "max_height": null,
      "max_width": null,
      "min_height": null,
      "min_width": null,
      "object_fit": null,
      "object_position": null,
      "order": null,
      "overflow": null,
      "overflow_x": null,
      "overflow_y": null,
      "padding": null,
      "right": null,
      "top": null,
      "visibility": null,
      "width": null
     }
    },
    "eb223b5836d04aaea284e26e6a3a6a1a": {
     "model_module": "@jupyter-widgets/controls",
     "model_name": "DescriptionStyleModel",
     "state": {
      "_model_module": "@jupyter-widgets/controls",
      "_model_module_version": "1.5.0",
      "_model_name": "DescriptionStyleModel",
      "_view_count": null,
      "_view_module": "@jupyter-widgets/base",
      "_view_module_version": "1.2.0",
      "_view_name": "StyleView",
      "description_width": ""
     }
    },
    "f02ad7bad6f74da69de3557e8b7e3b92": {
     "model_module": "@jupyter-widgets/controls",
     "model_name": "HTMLModel",
     "state": {
      "_dom_classes": [],
      "_model_module": "@jupyter-widgets/controls",
      "_model_module_version": "1.5.0",
      "_model_name": "HTMLModel",
      "_view_count": null,
      "_view_module": "@jupyter-widgets/controls",
      "_view_module_version": "1.5.0",
      "_view_name": "HTMLView",
      "description": "",
      "description_tooltip": null,
      "layout": "IPY_MODEL_51dd1aa22f7d45ccbd3ba766bb232b57",
      "placeholder": "​",
      "style": "IPY_MODEL_eb223b5836d04aaea284e26e6a3a6a1a",
      "value": " 5274/37408 [06:38&lt;40:12, 13.32it/s]"
     }
    }
   }
  }
 },
 "nbformat": 4,
 "nbformat_minor": 1
}

{
 "cells": [
  {
   "cell_type": "code",
   "execution_count": 1,
   "metadata": {
    "colab": {},
    "colab_type": "code",
    "id": "QfWTxubYcMxR"
   },
   "outputs": [],
   "source": [
    "%load_ext autoreload\n",
    "%autoreload 2"
   ]
  },
  {
   "cell_type": "markdown",
   "metadata": {
    "colab_type": "text",
    "id": "zS4cUkmGcMxd"
   },
   "source": [
    "### imports and utilities"
   ]
  },
  {
   "cell_type": "code",
   "execution_count": 2,
   "metadata": {
    "colab": {
     "base_uri": "https://localhost:8080/",
     "height": 224
    },
    "colab_type": "code",
    "id": "y8zAmrhTcMxe",
    "outputId": "c6f3bac6-21a3-449f-b17e-4d7d1c8a51b1"
   },
   "outputs": [],
   "source": [
    "!pip install nltk scikit-learn matplotlib scipy -q"
   ]
  },
  {
   "cell_type": "code",
   "execution_count": 3,
   "metadata": {
    "colab": {
     "base_uri": "https://localhost:8080/",
     "height": 153
    },
    "colab_type": "code",
    "id": "qOriDeG8cMxl",
    "outputId": "a4b003fc-c8fb-4937-e900-b5807b0d6d53"
   },
   "outputs": [
    {
     "name": "stderr",
     "output_type": "stream",
     "text": [
      "[nltk_data] Error loading punkt: <urlopen error [Errno 11001]\n",
      "[nltk_data]     getaddrinfo failed>\n",
      "[nltk_data] Error loading wordnet: <urlopen error [Errno 11001]\n",
      "[nltk_data]     getaddrinfo failed>\n",
      "[nltk_data] Error loading averaged_perceptron_tagger: <urlopen error\n",
      "[nltk_data]     [Errno 11001] getaddrinfo failed>\n"
     ]
    },
    {
     "data": {
      "text/plain": [
       "False"
      ]
     },
     "execution_count": 3,
     "metadata": {},
     "output_type": "execute_result"
    }
   ],
   "source": [
    "import nltk\n",
    "nltk.download('punkt')\n",
    "nltk.download('wordnet')\n",
    "nltk.download('averaged_perceptron_tagger')"
   ]
  },
  {
   "cell_type": "code",
   "execution_count": 4,
   "metadata": {
    "colab": {},
    "colab_type": "code",
    "id": "3liQaMKccMxs"
   },
   "outputs": [],
   "source": [
    "from collections import Counter\n",
    "from utils import *\n",
    "\n",
    "import numpy as np\n",
    "import pandas as pd\n",
    "import matplotlib.pyplot as plt\n",
    "\n",
    "import joblib\n",
    "from tqdm.notebook import tqdm\n",
    "from scipy.special import softmax\n",
    "from scipy.stats import norm\n",
    "from scipy.stats import entropy as calculate_entropy\n",
    "\n",
    "from sklearn.naive_bayes import GaussianNB, MultinomialNB\n",
    "\n",
    "from sklearn.model_selection import train_test_split\n",
    "from sklearn.decomposition import PCA\n",
    "from sklearn.preprocessing import normalize\n",
    "from sklearn.datasets import fetch_20newsgroups\n",
    "from sklearn.cluster import KMeans, MiniBatchKMeans\n",
    "from sklearn.metrics.pairwise import cosine_similarity\n",
    "from sklearn.feature_extraction.text import CountVectorizer, TfidfVectorizer"
   ]
  },
  {
   "cell_type": "markdown",
   "metadata": {
    "colab_type": "text",
    "id": "gQtq2JhkcMxz"
   },
   "source": [
    "### load dataset"
   ]
  },
  {
   "cell_type": "code",
   "execution_count": 5,
   "metadata": {
    "colab": {
     "base_uri": "https://localhost:8080/",
     "height": 51
    },
    "colab_type": "code",
    "id": "vR1db5rUcMx0",
    "outputId": "8498f3d2-9ac1-4952-8ad6-85b2c076f94a"
   },
   "outputs": [],
   "source": [
    "dataset = \"newsgroup\"\n",
    "\n",
    "# total number of samples needed\n",
    "randomize = False\n",
    "\n",
    "# retrieve dataset\n",
    "categories = ['rec.autos', 'talk.politics.mideast', 'alt.atheism', 'sci.space']\n",
    "\n",
    "all_docs = fetch_20newsgroups(subset='train', shuffle=randomize, remove=('headers', 'footers', 'quotes'), categories=categories)\n",
    "all_docs, old_labels, categories = all_docs.data, all_docs.target, all_docs.target_names"
   ]
  },
  {
   "cell_type": "code",
   "execution_count": 6,
   "metadata": {
    "colab": {},
    "colab_type": "code",
    "id": "xd-imY-icMx8"
   },
   "outputs": [],
   "source": [
    "# dataset = \"bbc\"\n",
    "\n",
    "# data = pd.read_csv('bbcsport.csv')\n",
    "\n",
    "# all_docs = data[\"text\"].to_list()\n",
    "# old_labels = data[\"topic\"].to_list()\n",
    "# categories = classes = np.unique(data[\"topic\"]).tolist()"
   ]
  },
  {
   "cell_type": "markdown",
   "metadata": {
    "colab_type": "text",
    "id": "WYe4XYDfcMyI"
   },
   "source": [
    "### clean dataset"
   ]
  },
  {
   "cell_type": "code",
   "execution_count": 7,
   "metadata": {
    "colab": {
     "base_uri": "https://localhost:8080/",
     "height": 66,
     "referenced_widgets": [
      "b8ee6c0914474dab8186285123c3c25a",
      "1029c3cb5c264802a7bd45639c1a7c20",
      "94d411d6977f493894ec3c8b5975f693",
      "846b5c7701bc49e4be2a7681d5361dd8",
      "2e8643a34a7143e284ed8e94aaca32d7",
      "b8ce72deb0c34c35a99b91bbc9b5504c",
      "cee50571766e465b81cd2d06ac0a4d31",
      "5c20409065a347d18e1ab6bde4c5a0ba"
     ]
    },
    "colab_type": "code",
    "id": "RgG4w-qpcMyJ",
    "outputId": "142478ec-50d6-4c3a-f6fb-db0ee38fcb1a"
   },
   "outputs": [
    {
     "data": {
      "application/vnd.jupyter.widget-view+json": {
       "model_id": "646089cb7c21412aa8085afbccaa70c1",
       "version_major": 2,
       "version_minor": 0
      },
      "text/plain": [
       "HBox(children=(HTML(value=''), FloatProgress(value=0.0, max=160.0), HTML(value='')))"
      ]
     },
     "metadata": {},
     "output_type": "display_data"
    },
    {
     "name": "stdout",
     "output_type": "stream",
     "text": [
      "\n"
     ]
    }
   ],
   "source": [
    "datasize = 40\n",
    "min_document_length = 160\n",
    "max_document_length = 256\n",
    "\n",
    "\n",
    "index = -1\n",
    "docs, labels, label_indices = [], [], []\n",
    "\n",
    "sizes = [0]*len(categories)\n",
    "\n",
    "with tqdm(total=len(categories)*datasize) as pbar:\n",
    "    while sum(sizes) < len(categories)*datasize:\n",
    "        index += 1\n",
    "        label_index = old_labels[index]\n",
    "            \n",
    "        if sizes[label_index] == datasize:\n",
    "            continue\n",
    "        \n",
    "        doc = all_docs[index]\n",
    "        status, doc, word_count = clean_doc(doc, True)\n",
    "        \n",
    "        if not status:\n",
    "            continue\n",
    "            \n",
    "        if min_document_length is not None and len(doc) < min_document_length:\n",
    "            continue\n",
    "            \n",
    "        if max_document_length is not None and len(doc) > max_document_length:\n",
    "            continue\n",
    "        \n",
    "        label_indices.append(label_index)\n",
    "        labels.append(categories[label_index])\n",
    "        \n",
    "        docs.append(doc)\n",
    "        sizes[label_index] += 1\n",
    "        pbar.update(1)\n",
    "\n",
    "labels = np.array(labels)\n",
    "label_indices = np.array(label_indices)"
   ]
  },
  {
   "cell_type": "code",
   "execution_count": 8,
   "metadata": {
    "colab": {
     "base_uri": "https://localhost:8080/",
     "height": 88
    },
    "colab_type": "code",
    "id": "_eBXjBUecMyU",
    "outputId": "12f081a4-fab6-4de7-f36f-62399abaa5b8"
   },
   "outputs": [
    {
     "name": "stdout",
     "output_type": "stream",
     "text": [
      "Topic: rec.autos\n",
      "==================================================\n",
      "not to mention my friend s 54 citroen traction avant with the light switch and dimmer integrate in a single stalk off the steer column those dumb french be apparently copying the japanese before the german\n"
     ]
    }
   ],
   "source": [
    "doc_index = 3\n",
    "print(f\"Topic: {labels[doc_index]}\\n{'='*50}\\n{docs[doc_index][:512]}\")"
   ]
  },
  {
   "cell_type": "code",
   "execution_count": 9,
   "metadata": {
    "colab": {
     "base_uri": "https://localhost:8080/",
     "height": 34
    },
    "colab_type": "code",
    "id": "KS5PW7qHcMyb",
    "outputId": "d83a2010-8955-4c8f-f2d6-be15ecad2198",
    "scrolled": true
   },
   "outputs": [
    {
     "name": "stdout",
     "output_type": "stream",
     "text": [
      "[40, 40, 40, 40]\n"
     ]
    }
   ],
   "source": [
    "print(sizes)\n",
    "assert min(sizes) == max(sizes) == datasize"
   ]
  },
  {
   "cell_type": "markdown",
   "metadata": {},
   "source": [
    "### Split data"
   ]
  },
  {
   "cell_type": "code",
   "execution_count": 10,
   "metadata": {},
   "outputs": [],
   "source": [
    "x_train, x_test, y_train, y_test = train_test_split(docs, labels, test_size =.3)"
   ]
  },
  {
   "cell_type": "code",
   "execution_count": 11,
   "metadata": {
    "colab": {
     "base_uri": "https://localhost:8080/",
     "height": 34
    },
    "colab_type": "code",
    "id": "s8R3CeUBcMyg",
    "outputId": "adcba1c9-85ae-428d-ff5f-ba33bd7beef8"
   },
   "outputs": [
    {
     "name": "stdout",
     "output_type": "stream",
     "text": [
      "there are 160 total docs, 112 train and 48 test\n"
     ]
    }
   ],
   "source": [
    "print(f\"there are {len(docs)} total docs, {len(y_train)} train and {len(y_test)} test\")"
   ]
  },
  {
   "cell_type": "markdown",
   "metadata": {
    "colab_type": "text",
    "id": "-OUac83RcMyl"
   },
   "source": [
    "### Initialize Vectorizer"
   ]
  },
  {
   "cell_type": "code",
   "execution_count": 12,
   "metadata": {
    "colab": {
     "base_uri": "https://localhost:8080/",
     "height": 34
    },
    "colab_type": "code",
    "id": "ZCBHEIyEcMyn",
    "outputId": "18cbf825-2576-4937-908b-ce0cc5a29150"
   },
   "outputs": [
    {
     "name": "stdout",
     "output_type": "stream",
     "text": [
      "word_count is 1474\n"
     ]
    }
   ],
   "source": [
    "vectorizer_type = \"not-tfidf\"\n",
    "\n",
    "# initialize the count vectorizer\n",
    "if vectorizer_type == \"tfidf\":\n",
    "    vectorizer = TfidfVectorizer\n",
    "else:\n",
    "    vectorizer = CountVectorizer()\n",
    "\n",
    "# fit it to dataset\n",
    "vectorizer.fit(x_train)\n",
    "\n",
    "vocabulary = np.array(vectorizer.get_feature_names())\n",
    "print(\"word_count is\", len(vocabulary))"
   ]
  },
  {
   "cell_type": "markdown",
   "metadata": {
    "colab_type": "text",
    "id": "UKomwY7acMyz"
   },
   "source": [
    "### Prepare Datatset"
   ]
  },
  {
   "cell_type": "code",
   "execution_count": 13,
   "metadata": {
    "colab": {
     "base_uri": "https://localhost:8080/",
     "height": 34
    },
    "colab_type": "code",
    "id": "IIYeZA4EcMy0",
    "outputId": "da04274f-82f4-49a5-8be6-d1c9230aa835"
   },
   "outputs": [],
   "source": [
    "# create doc count vectors\n",
    "train_doc_vectors = vectorizer.transform(x_train).toarray()\n",
    "test_doc_vectors = vectorizer.transform(x_test).toarray()\n",
    "\n",
    "wdf_train = pd.DataFrame(train_doc_vectors, columns=vocabulary)\n",
    "wdf_test = pd.DataFrame(test_doc_vectors, columns=vocabulary)"
   ]
  },
  {
   "cell_type": "markdown",
   "metadata": {},
   "source": [
    "### some new method"
   ]
  },
  {
   "cell_type": "code",
   "execution_count": 14,
   "metadata": {},
   "outputs": [
    {
     "data": {
      "text/html": [
       "<div>\n",
       "<style scoped>\n",
       "    .dataframe tbody tr th:only-of-type {\n",
       "        vertical-align: middle;\n",
       "    }\n",
       "\n",
       "    .dataframe tbody tr th {\n",
       "        vertical-align: top;\n",
       "    }\n",
       "\n",
       "    .dataframe thead th {\n",
       "        text-align: right;\n",
       "    }\n",
       "</style>\n",
       "<table border=\"1\" class=\"dataframe\">\n",
       "  <thead>\n",
       "    <tr style=\"text-align: right;\">\n",
       "      <th></th>\n",
       "      <th>000</th>\n",
       "      <th>10</th>\n",
       "      <th>1000</th>\n",
       "      <th>12</th>\n",
       "      <th>16th</th>\n",
       "      <th>1940</th>\n",
       "      <th>1982</th>\n",
       "      <th>1984</th>\n",
       "      <th>1987</th>\n",
       "      <th>1990</th>\n",
       "      <th>...</th>\n",
       "      <th>yahud</th>\n",
       "      <th>yeah</th>\n",
       "      <th>year</th>\n",
       "      <th>yes</th>\n",
       "      <th>yo</th>\n",
       "      <th>yorker</th>\n",
       "      <th>you</th>\n",
       "      <th>your</th>\n",
       "      <th>yourself</th>\n",
       "      <th>zuma</th>\n",
       "    </tr>\n",
       "  </thead>\n",
       "  <tbody>\n",
       "    <tr>\n",
       "      <th>0</th>\n",
       "      <td>0</td>\n",
       "      <td>0</td>\n",
       "      <td>0</td>\n",
       "      <td>0</td>\n",
       "      <td>0</td>\n",
       "      <td>0</td>\n",
       "      <td>0</td>\n",
       "      <td>0</td>\n",
       "      <td>0</td>\n",
       "      <td>0</td>\n",
       "      <td>...</td>\n",
       "      <td>0</td>\n",
       "      <td>0</td>\n",
       "      <td>0</td>\n",
       "      <td>0</td>\n",
       "      <td>0</td>\n",
       "      <td>0</td>\n",
       "      <td>0</td>\n",
       "      <td>0</td>\n",
       "      <td>0</td>\n",
       "      <td>0</td>\n",
       "    </tr>\n",
       "    <tr>\n",
       "      <th>1</th>\n",
       "      <td>0</td>\n",
       "      <td>0</td>\n",
       "      <td>1</td>\n",
       "      <td>0</td>\n",
       "      <td>0</td>\n",
       "      <td>0</td>\n",
       "      <td>0</td>\n",
       "      <td>0</td>\n",
       "      <td>0</td>\n",
       "      <td>0</td>\n",
       "      <td>...</td>\n",
       "      <td>0</td>\n",
       "      <td>0</td>\n",
       "      <td>1</td>\n",
       "      <td>1</td>\n",
       "      <td>0</td>\n",
       "      <td>0</td>\n",
       "      <td>1</td>\n",
       "      <td>0</td>\n",
       "      <td>0</td>\n",
       "      <td>0</td>\n",
       "    </tr>\n",
       "    <tr>\n",
       "      <th>2</th>\n",
       "      <td>0</td>\n",
       "      <td>0</td>\n",
       "      <td>0</td>\n",
       "      <td>0</td>\n",
       "      <td>0</td>\n",
       "      <td>0</td>\n",
       "      <td>0</td>\n",
       "      <td>0</td>\n",
       "      <td>0</td>\n",
       "      <td>0</td>\n",
       "      <td>...</td>\n",
       "      <td>0</td>\n",
       "      <td>0</td>\n",
       "      <td>0</td>\n",
       "      <td>0</td>\n",
       "      <td>0</td>\n",
       "      <td>0</td>\n",
       "      <td>1</td>\n",
       "      <td>0</td>\n",
       "      <td>0</td>\n",
       "      <td>0</td>\n",
       "    </tr>\n",
       "    <tr>\n",
       "      <th>3</th>\n",
       "      <td>0</td>\n",
       "      <td>0</td>\n",
       "      <td>0</td>\n",
       "      <td>0</td>\n",
       "      <td>0</td>\n",
       "      <td>0</td>\n",
       "      <td>0</td>\n",
       "      <td>0</td>\n",
       "      <td>0</td>\n",
       "      <td>0</td>\n",
       "      <td>...</td>\n",
       "      <td>0</td>\n",
       "      <td>0</td>\n",
       "      <td>0</td>\n",
       "      <td>0</td>\n",
       "      <td>0</td>\n",
       "      <td>0</td>\n",
       "      <td>2</td>\n",
       "      <td>0</td>\n",
       "      <td>0</td>\n",
       "      <td>0</td>\n",
       "    </tr>\n",
       "    <tr>\n",
       "      <th>4</th>\n",
       "      <td>0</td>\n",
       "      <td>0</td>\n",
       "      <td>0</td>\n",
       "      <td>0</td>\n",
       "      <td>0</td>\n",
       "      <td>0</td>\n",
       "      <td>0</td>\n",
       "      <td>0</td>\n",
       "      <td>0</td>\n",
       "      <td>0</td>\n",
       "      <td>...</td>\n",
       "      <td>0</td>\n",
       "      <td>0</td>\n",
       "      <td>0</td>\n",
       "      <td>0</td>\n",
       "      <td>0</td>\n",
       "      <td>0</td>\n",
       "      <td>0</td>\n",
       "      <td>1</td>\n",
       "      <td>0</td>\n",
       "      <td>0</td>\n",
       "    </tr>\n",
       "  </tbody>\n",
       "</table>\n",
       "<p>5 rows × 1474 columns</p>\n",
       "</div>"
      ],
      "text/plain": [
       "   000  10  1000  12  16th  1940  1982  1984  1987  1990  ...  yahud  yeah  \\\n",
       "0    0   0     0   0     0     0     0     0     0     0  ...      0     0   \n",
       "1    0   0     1   0     0     0     0     0     0     0  ...      0     0   \n",
       "2    0   0     0   0     0     0     0     0     0     0  ...      0     0   \n",
       "3    0   0     0   0     0     0     0     0     0     0  ...      0     0   \n",
       "4    0   0     0   0     0     0     0     0     0     0  ...      0     0   \n",
       "\n",
       "   year  yes  yo  yorker  you  your  yourself  zuma  \n",
       "0     0    0   0       0    0     0         0     0  \n",
       "1     1    1   0       0    1     0         0     0  \n",
       "2     0    0   0       0    1     0         0     0  \n",
       "3     0    0   0       0    2     0         0     0  \n",
       "4     0    0   0       0    0     1         0     0  \n",
       "\n",
       "[5 rows x 1474 columns]"
      ]
     },
     "execution_count": 14,
     "metadata": {},
     "output_type": "execute_result"
    }
   ],
   "source": [
    "wdf_train.head()"
   ]
  },
  {
   "cell_type": "code",
   "execution_count": 15,
   "metadata": {},
   "outputs": [],
   "source": [
    "# joblib.load(\"word_word_co_nb.joblib\")"
   ]
  },
  {
   "cell_type": "code",
   "execution_count": null,
   "metadata": {},
   "outputs": [
    {
     "data": {
      "application/vnd.jupyter.widget-view+json": {
       "model_id": "421133034eb94e5398621046c7f97ced",
       "version_major": 2,
       "version_minor": 0
      },
      "text/plain": [
       "HBox(children=(HTML(value=''), FloatProgress(value=0.0, max=1474.0), HTML(value='')))"
      ]
     },
     "metadata": {},
     "output_type": "display_data"
    }
   ],
   "source": [
    "word_word_co_nb = {}\n",
    "\n",
    "for word in tqdm(vocabulary):\n",
    "    word_word_co_nb[word] = {}\n",
    "    \n",
    "    for given_word in (vocabulary):\n",
    "        word_word_co_nb[word][given_word] = MultinomialNB()\n",
    "\n",
    "        X = wdf_train[given_word].to_numpy(dtype=float).reshape((-1, 1))\n",
    "        y = (wdf_train[word] > 0).astype(float)\n",
    "        word_word_co_nb[word][given_word].fit(X, y)"
   ]
  },
  {
   "cell_type": "code",
   "execution_count": null,
   "metadata": {},
   "outputs": [],
   "source": [
    "# joblib.dump(word_word_co_nb, \"word_word_co_nb.joblib\")"
   ]
  },
  {
   "cell_type": "code",
   "execution_count": 18,
   "metadata": {
    "scrolled": true
   },
   "outputs": [
    {
     "name": "stderr",
     "output_type": "stream",
     "text": [
      "100%|██████████████████████████████████████████████████████████████████████████████████████████████████████████| 1443/1443 [00:07<00:00, 187.04it/s]"
     ]
    },
    {
     "name": "stdout",
     "output_type": "stream",
     "text": [
      "word_word_pr_distr shape = (1443, 1443)\n"
     ]
    },
    {
     "name": "stderr",
     "output_type": "stream",
     "text": [
      "\n"
     ]
    }
   ],
   "source": [
    "alpha = 0\n",
    "wdf_train_prime = wdf_train.copy()\n",
    "\n",
    "wdt_train = wdf_train_prime.copy()\n",
    "wdt_train[\"__labels__\"] = y_train\n",
    "\n",
    "word_doc_count = wdf_train_prime.sum(0)\n",
    "word_word_pr_distr = pd.DataFrame(data=0.0, columns=vocabulary, index=vocabulary)\n",
    "\n",
    "for word in tqdm(vocabulary):\n",
    "    pxy = (wdf_train_prime[wdf_train_prime[word] > 0].sum(0) + alpha) / (word_doc_count[word] + alpha)\n",
    "    word_word_pr_distr[word] = pxy * (word_doc_count[word] / word_doc_count)\n",
    "\n",
    "print(f\"word_word_pr_distr shape = {word_word_pr_distr.shape}\")"
   ]
  },
  {
   "cell_type": "code",
   "execution_count": 28,
   "metadata": {},
   "outputs": [],
   "source": [
    "word = \"space\""
   ]
  },
  {
   "cell_type": "code",
   "execution_count": 29,
   "metadata": {},
   "outputs": [
    {
     "data": {
      "text/html": [
       "<div>\n",
       "<style scoped>\n",
       "    .dataframe tbody tr th:only-of-type {\n",
       "        vertical-align: middle;\n",
       "    }\n",
       "\n",
       "    .dataframe tbody tr th {\n",
       "        vertical-align: top;\n",
       "    }\n",
       "\n",
       "    .dataframe thead th {\n",
       "        text-align: right;\n",
       "    }\n",
       "</style>\n",
       "<table border=\"1\" class=\"dataframe\">\n",
       "  <thead>\n",
       "    <tr style=\"text-align: right;\">\n",
       "      <th></th>\n",
       "      <th>space</th>\n",
       "    </tr>\n",
       "  </thead>\n",
       "  <tbody>\n",
       "    <tr>\n",
       "      <th>0</th>\n",
       "      <td>0</td>\n",
       "    </tr>\n",
       "    <tr>\n",
       "      <th>1</th>\n",
       "      <td>0</td>\n",
       "    </tr>\n",
       "    <tr>\n",
       "      <th>2</th>\n",
       "      <td>0</td>\n",
       "    </tr>\n",
       "    <tr>\n",
       "      <th>3</th>\n",
       "      <td>0</td>\n",
       "    </tr>\n",
       "    <tr>\n",
       "      <th>4</th>\n",
       "      <td>0</td>\n",
       "    </tr>\n",
       "    <tr>\n",
       "      <th>...</th>\n",
       "      <td>...</td>\n",
       "    </tr>\n",
       "    <tr>\n",
       "      <th>107</th>\n",
       "      <td>0</td>\n",
       "    </tr>\n",
       "    <tr>\n",
       "      <th>108</th>\n",
       "      <td>0</td>\n",
       "    </tr>\n",
       "    <tr>\n",
       "      <th>109</th>\n",
       "      <td>0</td>\n",
       "    </tr>\n",
       "    <tr>\n",
       "      <th>110</th>\n",
       "      <td>0</td>\n",
       "    </tr>\n",
       "    <tr>\n",
       "      <th>111</th>\n",
       "      <td>0</td>\n",
       "    </tr>\n",
       "  </tbody>\n",
       "</table>\n",
       "<p>112 rows × 1 columns</p>\n",
       "</div>"
      ],
      "text/plain": [
       "     space\n",
       "0        0\n",
       "1        0\n",
       "2        0\n",
       "3        0\n",
       "4        0\n",
       "..     ...\n",
       "107      0\n",
       "108      0\n",
       "109      0\n",
       "110      0\n",
       "111      0\n",
       "\n",
       "[112 rows x 1 columns]"
      ]
     },
     "execution_count": 29,
     "metadata": {},
     "output_type": "execute_result"
    }
   ],
   "source": [
    "wdf_train[[word]]#[wdf_train[word] > 0]"
   ]
  },
  {
   "cell_type": "code",
   "execution_count": 530,
   "metadata": {},
   "outputs": [
    {
     "data": {
      "text/html": [
       "<div>\n",
       "<style scoped>\n",
       "    .dataframe tbody tr th:only-of-type {\n",
       "        vertical-align: middle;\n",
       "    }\n",
       "\n",
       "    .dataframe tbody tr th {\n",
       "        vertical-align: top;\n",
       "    }\n",
       "\n",
       "    .dataframe thead th {\n",
       "        text-align: right;\n",
       "    }\n",
       "</style>\n",
       "<table border=\"1\" class=\"dataframe\">\n",
       "  <thead>\n",
       "    <tr style=\"text-align: right;\">\n",
       "      <th></th>\n",
       "      <th>000</th>\n",
       "      <th>031349</th>\n",
       "      <th>10</th>\n",
       "      <th>1000</th>\n",
       "      <th>11</th>\n",
       "      <th>14</th>\n",
       "      <th>16th</th>\n",
       "      <th>1900</th>\n",
       "      <th>1940</th>\n",
       "      <th>1982</th>\n",
       "      <th>...</th>\n",
       "      <th>yahud</th>\n",
       "      <th>yeah</th>\n",
       "      <th>year</th>\n",
       "      <th>yes</th>\n",
       "      <th>yo</th>\n",
       "      <th>yorker</th>\n",
       "      <th>you</th>\n",
       "      <th>your</th>\n",
       "      <th>yourself</th>\n",
       "      <th>zeuge</th>\n",
       "    </tr>\n",
       "  </thead>\n",
       "  <tbody>\n",
       "    <tr>\n",
       "      <th>000</th>\n",
       "      <td>1.0</td>\n",
       "      <td>0.0</td>\n",
       "      <td>0.5</td>\n",
       "      <td>0.0</td>\n",
       "      <td>0.0</td>\n",
       "      <td>0.0</td>\n",
       "      <td>0.0</td>\n",
       "      <td>0.0</td>\n",
       "      <td>0.0</td>\n",
       "      <td>0.0</td>\n",
       "      <td>...</td>\n",
       "      <td>0.0</td>\n",
       "      <td>0.0</td>\n",
       "      <td>0.0</td>\n",
       "      <td>0.0</td>\n",
       "      <td>0.0</td>\n",
       "      <td>0.0</td>\n",
       "      <td>0.5</td>\n",
       "      <td>0.5</td>\n",
       "      <td>0.0</td>\n",
       "      <td>0.0</td>\n",
       "    </tr>\n",
       "    <tr>\n",
       "      <th>031349</th>\n",
       "      <td>0.0</td>\n",
       "      <td>1.0</td>\n",
       "      <td>0.0</td>\n",
       "      <td>0.0</td>\n",
       "      <td>0.0</td>\n",
       "      <td>0.0</td>\n",
       "      <td>0.0</td>\n",
       "      <td>0.0</td>\n",
       "      <td>0.0</td>\n",
       "      <td>0.0</td>\n",
       "      <td>...</td>\n",
       "      <td>0.0</td>\n",
       "      <td>0.0</td>\n",
       "      <td>0.0</td>\n",
       "      <td>0.0</td>\n",
       "      <td>0.0</td>\n",
       "      <td>0.0</td>\n",
       "      <td>1.0</td>\n",
       "      <td>1.0</td>\n",
       "      <td>0.0</td>\n",
       "      <td>0.0</td>\n",
       "    </tr>\n",
       "    <tr>\n",
       "      <th>10</th>\n",
       "      <td>1.0</td>\n",
       "      <td>0.0</td>\n",
       "      <td>1.0</td>\n",
       "      <td>0.0</td>\n",
       "      <td>0.0</td>\n",
       "      <td>0.0</td>\n",
       "      <td>0.0</td>\n",
       "      <td>0.0</td>\n",
       "      <td>0.0</td>\n",
       "      <td>0.0</td>\n",
       "      <td>...</td>\n",
       "      <td>0.0</td>\n",
       "      <td>0.0</td>\n",
       "      <td>0.0</td>\n",
       "      <td>0.0</td>\n",
       "      <td>0.0</td>\n",
       "      <td>0.0</td>\n",
       "      <td>1.0</td>\n",
       "      <td>1.0</td>\n",
       "      <td>0.0</td>\n",
       "      <td>0.0</td>\n",
       "    </tr>\n",
       "    <tr>\n",
       "      <th>1000</th>\n",
       "      <td>0.0</td>\n",
       "      <td>0.0</td>\n",
       "      <td>0.0</td>\n",
       "      <td>1.0</td>\n",
       "      <td>0.0</td>\n",
       "      <td>0.0</td>\n",
       "      <td>0.0</td>\n",
       "      <td>0.0</td>\n",
       "      <td>0.0</td>\n",
       "      <td>0.0</td>\n",
       "      <td>...</td>\n",
       "      <td>0.0</td>\n",
       "      <td>0.0</td>\n",
       "      <td>1.0</td>\n",
       "      <td>1.0</td>\n",
       "      <td>0.0</td>\n",
       "      <td>0.0</td>\n",
       "      <td>1.0</td>\n",
       "      <td>0.0</td>\n",
       "      <td>0.0</td>\n",
       "      <td>0.0</td>\n",
       "    </tr>\n",
       "    <tr>\n",
       "      <th>11</th>\n",
       "      <td>0.0</td>\n",
       "      <td>0.0</td>\n",
       "      <td>0.0</td>\n",
       "      <td>0.0</td>\n",
       "      <td>1.0</td>\n",
       "      <td>0.0</td>\n",
       "      <td>0.0</td>\n",
       "      <td>0.0</td>\n",
       "      <td>0.0</td>\n",
       "      <td>0.0</td>\n",
       "      <td>...</td>\n",
       "      <td>0.0</td>\n",
       "      <td>0.0</td>\n",
       "      <td>0.0</td>\n",
       "      <td>0.0</td>\n",
       "      <td>0.0</td>\n",
       "      <td>0.0</td>\n",
       "      <td>0.0</td>\n",
       "      <td>0.0</td>\n",
       "      <td>0.0</td>\n",
       "      <td>0.0</td>\n",
       "    </tr>\n",
       "  </tbody>\n",
       "</table>\n",
       "<p>5 rows × 1467 columns</p>\n",
       "</div>"
      ],
      "text/plain": [
       "        000  031349   10  1000   11   14  16th  1900  1940  1982  ...  yahud  \\\n",
       "000     1.0     0.0  0.5   0.0  0.0  0.0   0.0   0.0   0.0   0.0  ...    0.0   \n",
       "031349  0.0     1.0  0.0   0.0  0.0  0.0   0.0   0.0   0.0   0.0  ...    0.0   \n",
       "10      1.0     0.0  1.0   0.0  0.0  0.0   0.0   0.0   0.0   0.0  ...    0.0   \n",
       "1000    0.0     0.0  0.0   1.0  0.0  0.0   0.0   0.0   0.0   0.0  ...    0.0   \n",
       "11      0.0     0.0  0.0   0.0  1.0  0.0   0.0   0.0   0.0   0.0  ...    0.0   \n",
       "\n",
       "        yeah  year  yes   yo  yorker  you  your  yourself  zeuge  \n",
       "000      0.0   0.0  0.0  0.0     0.0  0.5   0.5       0.0    0.0  \n",
       "031349   0.0   0.0  0.0  0.0     0.0  1.0   1.0       0.0    0.0  \n",
       "10       0.0   0.0  0.0  0.0     0.0  1.0   1.0       0.0    0.0  \n",
       "1000     0.0   1.0  1.0  0.0     0.0  1.0   0.0       0.0    0.0  \n",
       "11       0.0   0.0  0.0  0.0     0.0  0.0   0.0       0.0    0.0  \n",
       "\n",
       "[5 rows x 1467 columns]"
      ]
     },
     "execution_count": 530,
     "metadata": {},
     "output_type": "execute_result"
    }
   ],
   "source": [
    "word_word_pr_distr.head()"
   ]
  },
  {
   "cell_type": "code",
   "execution_count": 534,
   "metadata": {
    "scrolled": true
   },
   "outputs": [
    {
     "data": {
      "text/plain": [
       "000       0.658496\n",
       "031349    0.762590\n",
       "10        0.773685\n",
       "1000      0.739970\n",
       "11        0.688549\n",
       "Name: 0, dtype: float64"
      ]
     },
     "execution_count": 534,
     "metadata": {},
     "output_type": "execute_result"
    }
   ],
   "source": [
    "entropy_values = calculate_entropy(word_word_pr_distr, axis=0) * calculate_entropy(word_word_pr_distr, axis=1)\n",
    "# entropy_values_norm = entropy_values / entropy_values.max()\n",
    "entropy_values_norm = (entropy_values.max() - entropy_values) / entropy_values.max()\n",
    "entropy_values_norm = pd.DataFrame(data=entropy_values_norm, index=word_word_pr_distr.columns)[0]\n",
    "entropy_values_norm.head()"
   ]
  },
  {
   "cell_type": "code",
   "execution_count": 535,
   "metadata": {},
   "outputs": [
    {
     "data": {
      "text/plain": [
       "(0.0, 0.6279044392802534)"
      ]
     },
     "execution_count": 535,
     "metadata": {},
     "output_type": "execute_result"
    }
   ],
   "source": [
    "entropy_values_norm.loc[\"the\"], entropy_values_norm.loc[\"east\"]"
   ]
  },
  {
   "cell_type": "code",
   "execution_count": 536,
   "metadata": {},
   "outputs": [
    {
     "data": {
      "text/plain": [
       "array(['rec.autos', 'talk.politics.mideast', 'talk.politics.mideast',\n",
       "       'rec.autos', 'rec.autos', 'sci.space', 'alt.atheism', 'rec.autos',\n",
       "       'alt.atheism', 'sci.space'], dtype='<U21')"
      ]
     },
     "execution_count": 536,
     "metadata": {},
     "output_type": "execute_result"
    }
   ],
   "source": [
    "y_train[:10]"
   ]
  },
  {
   "cell_type": "code",
   "execution_count": 686,
   "metadata": {},
   "outputs": [
    {
     "name": "stdout",
     "output_type": "stream",
     "text": [
      "Topic: rec.autos\n",
      "==================================================\n",
      "not to mention my friend s 54 citroen traction avant with the light switch and dimmer integrate in a single stalk off the steer column those dumb french be apparently copying the japanese before the german\n",
      "\n",
      "Topic: rec.autos\n",
      "==================================================\n",
      "right in the thirty both buick and packard have two spare mount in well in the front fender of course that be back when the front fender be long enough to provide room there be a couple of other marque that do this a well but memory fade\n",
      "\n",
      "Topic: talk.politics.mideast\n",
      "==================================================\n",
      "to my fellow columbian i must ask why do you say that i engage in fantasy arafat be a terrorist who happens to have a lot of pull among palestinian can we ignore the two fact i doubt it\n",
      "\n"
     ]
    }
   ],
   "source": [
    "# doc_indices = np.arange(len(y_train))\n",
    "# np.random.shuffle(doc_indices)\n",
    "\n",
    "# doc_indices = doc_indices[:30]\n",
    "doc_indices = [0, 3, 1, 2, 5, 9, 6, 8]\n",
    "for doc_index in doc_indices[:3]:\n",
    "    print(f\"Topic: {y_train[doc_index]}\\n{'='*50}\\n{x_train[doc_index][:512]}\")\n",
    "    print()"
   ]
  },
  {
   "cell_type": "code",
   "execution_count": 687,
   "metadata": {},
   "outputs": [
    {
     "name": "stdout",
     "output_type": "stream",
     "text": [
      "['54', 'and', 'apparently', 'avant', 'be', 'before', 'citroen', 'column', 'copying', 'dimmer', 'dumb', 'french', 'friend', 'german', 'in', 'integrate', 'japanese', 'light', 'mention', 'my', 'not', 'off', 'single', 'stalk', 'steer', 'switch', 'the', 'those', 'to', 'traction', 'with'] \n",
      "\n",
      "['among', 'arafat', 'ask', 'be', 'can', 'columbian', 'do', 'doubt', 'engage', 'fact', 'fantasy', 'fellow', 'happens', 'have', 'ignore', 'in', 'it', 'lot', 'must', 'my', 'of', 'palestinian', 'pull', 'say', 'terrorist', 'that', 'the', 'to', 'two', 'we', 'who', 'why', 'you'] \n",
      "\n",
      "['above', 'anyone', 'be', 'conception', 'concern', 'concrete', 'creation', 'detail', 'differ', 'do', 'during', 'fit', 'force', 'have', 'how', 'idea', 'it', 'know', 'list', 'next', 'of', 'palestinian', 'police', 'proposal', 'read', 'some', 'stage', 'talk', 'that', 'the', 'there', 'this', 'will', 'with'] \n",
      "\n"
     ]
    }
   ],
   "source": [
    "doc_words_li = []\n",
    "\n",
    "counter = 0\n",
    "for index, doc_index in enumerate(range(len(y_train))):\n",
    "    doc_words_li.append(wdf_train.iloc[doc_index][wdf_train.iloc[doc_index] > 0].index.tolist())\n",
    "    \n",
    "    if counter < 3 and doc_index in doc_indices:\n",
    "        counter += 1\n",
    "        print(doc_words_li[-1], \"\\n\")"
   ]
  },
  {
   "cell_type": "code",
   "execution_count": 688,
   "metadata": {},
   "outputs": [
    {
     "data": {
      "application/vnd.jupyter.widget-view+json": {
       "model_id": "5e94985cad844c119b797397439e0752",
       "version_major": 2,
       "version_minor": 0
      },
      "text/plain": [
       "HBox(children=(FloatProgress(value=0.0, max=112.0), HTML(value='')))"
      ]
     },
     "metadata": {},
     "output_type": "display_data"
    },
    {
     "name": "stdout",
     "output_type": "stream",
     "text": [
      "\n"
     ]
    },
    {
     "data": {
      "text/html": [
       "<div>\n",
       "<style scoped>\n",
       "    .dataframe tbody tr th:only-of-type {\n",
       "        vertical-align: middle;\n",
       "    }\n",
       "\n",
       "    .dataframe tbody tr th {\n",
       "        vertical-align: top;\n",
       "    }\n",
       "\n",
       "    .dataframe thead th {\n",
       "        text-align: right;\n",
       "    }\n",
       "</style>\n",
       "<table border=\"1\" class=\"dataframe\">\n",
       "  <thead>\n",
       "    <tr style=\"text-align: right;\">\n",
       "      <th></th>\n",
       "      <th>and</th>\n",
       "      <th>bastard</th>\n",
       "      <th>be</th>\n",
       "      <th>definitely</th>\n",
       "      <th>for</th>\n",
       "      <th>ghod</th>\n",
       "      <th>have</th>\n",
       "      <th>just</th>\n",
       "      <th>nls</th>\n",
       "      <th>of</th>\n",
       "      <th>...</th>\n",
       "      <th>sub</th>\n",
       "      <th>suitable</th>\n",
       "      <th>thank</th>\n",
       "      <th>that</th>\n",
       "      <th>the</th>\n",
       "      <th>thought</th>\n",
       "      <th>use</th>\n",
       "      <th>version</th>\n",
       "      <th>will</th>\n",
       "      <th>would</th>\n",
       "    </tr>\n",
       "  </thead>\n",
       "  <tbody>\n",
       "    <tr>\n",
       "      <th>be</th>\n",
       "      <td>0.443243</td>\n",
       "      <td>0.021622</td>\n",
       "      <td>1.0000</td>\n",
       "      <td>0.021622</td>\n",
       "      <td>0.210811</td>\n",
       "      <td>0.021622</td>\n",
       "      <td>0.340541</td>\n",
       "      <td>0.124324</td>\n",
       "      <td>0.021622</td>\n",
       "      <td>0.545946</td>\n",
       "      <td>...</td>\n",
       "      <td>0.021622</td>\n",
       "      <td>0.021622</td>\n",
       "      <td>0.021622</td>\n",
       "      <td>0.491892</td>\n",
       "      <td>0.713514</td>\n",
       "      <td>0.043243</td>\n",
       "      <td>0.07027</td>\n",
       "      <td>0.021622</td>\n",
       "      <td>0.151351</td>\n",
       "      <td>0.32973</td>\n",
       "    </tr>\n",
       "    <tr>\n",
       "      <th>engineering</th>\n",
       "      <td>0.000000</td>\n",
       "      <td>0.000000</td>\n",
       "      <td>1.0000</td>\n",
       "      <td>0.000000</td>\n",
       "      <td>0.000000</td>\n",
       "      <td>0.000000</td>\n",
       "      <td>0.000000</td>\n",
       "      <td>0.000000</td>\n",
       "      <td>0.000000</td>\n",
       "      <td>0.500000</td>\n",
       "      <td>...</td>\n",
       "      <td>0.000000</td>\n",
       "      <td>0.000000</td>\n",
       "      <td>0.000000</td>\n",
       "      <td>0.000000</td>\n",
       "      <td>0.500000</td>\n",
       "      <td>0.000000</td>\n",
       "      <td>0.00000</td>\n",
       "      <td>0.000000</td>\n",
       "      <td>0.000000</td>\n",
       "      <td>0.50000</td>\n",
       "    </tr>\n",
       "    <tr>\n",
       "      <th>get</th>\n",
       "      <td>0.375000</td>\n",
       "      <td>0.000000</td>\n",
       "      <td>0.8125</td>\n",
       "      <td>0.000000</td>\n",
       "      <td>0.375000</td>\n",
       "      <td>0.000000</td>\n",
       "      <td>0.125000</td>\n",
       "      <td>0.125000</td>\n",
       "      <td>0.000000</td>\n",
       "      <td>0.687500</td>\n",
       "      <td>...</td>\n",
       "      <td>0.000000</td>\n",
       "      <td>0.000000</td>\n",
       "      <td>0.000000</td>\n",
       "      <td>0.562500</td>\n",
       "      <td>0.687500</td>\n",
       "      <td>0.000000</td>\n",
       "      <td>0.12500</td>\n",
       "      <td>0.000000</td>\n",
       "      <td>0.250000</td>\n",
       "      <td>0.18750</td>\n",
       "    </tr>\n",
       "    <tr>\n",
       "      <th>glad</th>\n",
       "      <td>0.000000</td>\n",
       "      <td>0.000000</td>\n",
       "      <td>1.0000</td>\n",
       "      <td>0.000000</td>\n",
       "      <td>0.000000</td>\n",
       "      <td>0.000000</td>\n",
       "      <td>0.000000</td>\n",
       "      <td>0.000000</td>\n",
       "      <td>0.000000</td>\n",
       "      <td>1.000000</td>\n",
       "      <td>...</td>\n",
       "      <td>0.000000</td>\n",
       "      <td>0.000000</td>\n",
       "      <td>0.000000</td>\n",
       "      <td>0.000000</td>\n",
       "      <td>1.000000</td>\n",
       "      <td>0.000000</td>\n",
       "      <td>0.00000</td>\n",
       "      <td>0.000000</td>\n",
       "      <td>0.000000</td>\n",
       "      <td>0.00000</td>\n",
       "    </tr>\n",
       "    <tr>\n",
       "      <th>griffin</th>\n",
       "      <td>0.000000</td>\n",
       "      <td>0.000000</td>\n",
       "      <td>1.0000</td>\n",
       "      <td>0.000000</td>\n",
       "      <td>0.000000</td>\n",
       "      <td>0.000000</td>\n",
       "      <td>0.000000</td>\n",
       "      <td>0.000000</td>\n",
       "      <td>0.000000</td>\n",
       "      <td>1.000000</td>\n",
       "      <td>...</td>\n",
       "      <td>0.000000</td>\n",
       "      <td>0.000000</td>\n",
       "      <td>0.000000</td>\n",
       "      <td>0.000000</td>\n",
       "      <td>1.000000</td>\n",
       "      <td>0.000000</td>\n",
       "      <td>0.00000</td>\n",
       "      <td>0.000000</td>\n",
       "      <td>0.000000</td>\n",
       "      <td>0.00000</td>\n",
       "    </tr>\n",
       "  </tbody>\n",
       "</table>\n",
       "<p>5 rows × 28 columns</p>\n",
       "</div>"
      ],
      "text/plain": [
       "                  and   bastard      be  definitely       for      ghod  \\\n",
       "be           0.443243  0.021622  1.0000    0.021622  0.210811  0.021622   \n",
       "engineering  0.000000  0.000000  1.0000    0.000000  0.000000  0.000000   \n",
       "get          0.375000  0.000000  0.8125    0.000000  0.375000  0.000000   \n",
       "glad         0.000000  0.000000  1.0000    0.000000  0.000000  0.000000   \n",
       "griffin      0.000000  0.000000  1.0000    0.000000  0.000000  0.000000   \n",
       "\n",
       "                 have      just       nls        of  ...       sub  suitable  \\\n",
       "be           0.340541  0.124324  0.021622  0.545946  ...  0.021622  0.021622   \n",
       "engineering  0.000000  0.000000  0.000000  0.500000  ...  0.000000  0.000000   \n",
       "get          0.125000  0.125000  0.000000  0.687500  ...  0.000000  0.000000   \n",
       "glad         0.000000  0.000000  0.000000  1.000000  ...  0.000000  0.000000   \n",
       "griffin      0.000000  0.000000  0.000000  1.000000  ...  0.000000  0.000000   \n",
       "\n",
       "                thank      that       the   thought      use   version  \\\n",
       "be           0.021622  0.491892  0.713514  0.043243  0.07027  0.021622   \n",
       "engineering  0.000000  0.000000  0.500000  0.000000  0.00000  0.000000   \n",
       "get          0.000000  0.562500  0.687500  0.000000  0.12500  0.000000   \n",
       "glad         0.000000  0.000000  1.000000  0.000000  0.00000  0.000000   \n",
       "griffin      0.000000  0.000000  1.000000  0.000000  0.00000  0.000000   \n",
       "\n",
       "                 will    would  \n",
       "be           0.151351  0.32973  \n",
       "engineering  0.000000  0.50000  \n",
       "get          0.250000  0.18750  \n",
       "glad         0.000000  0.00000  \n",
       "griffin      0.000000  0.00000  \n",
       "\n",
       "[5 rows x 28 columns]"
      ]
     },
     "execution_count": 688,
     "metadata": {},
     "output_type": "execute_result"
    }
   ],
   "source": [
    "dfx_li = []\n",
    "\n",
    "for doc_index1 in tqdm(range(len(y_train))):\n",
    "    dfx_li.append([])\n",
    "    \n",
    "    if doc_index1 not in doc_indices:\n",
    "        continue\n",
    "        \n",
    "    for doc_index2 in range(len(y_train)):\n",
    "        dfx = pd.DataFrame(data=0.0, index=doc_words_li[doc_index1], columns=doc_words_li[doc_index2])\n",
    "\n",
    "        for word in doc_words_li[doc_index1]:\n",
    "            for other_word in doc_words_li[doc_index2]:\n",
    "                dfx[other_word][word] =  word_word_pr_distr[other_word][word]\n",
    "        \n",
    "        dfx_li[-1].append(dfx)\n",
    "dfx.head()"
   ]
  },
  {
   "cell_type": "code",
   "execution_count": 689,
   "metadata": {},
   "outputs": [
    {
     "name": "stdout",
     "output_type": "stream",
     "text": [
      "rec.autos\n",
      "                    topic     score\n",
      "0               rec.autos  1.000000\n",
      "27              rec.autos  0.626777\n",
      "65            alt.atheism  0.614294\n",
      "94              rec.autos  0.604420\n",
      "98            alt.atheism  0.591789\n",
      "29              sci.space  0.581703\n",
      "44  talk.politics.mideast  0.566667\n",
      "52  talk.politics.mideast  0.505164\n",
      "22              rec.autos  0.489391\n",
      "35              rec.autos  0.467949\n",
      "\n",
      "talk.politics.mideast\n",
      "                     topic     score\n",
      "1    talk.politics.mideast  1.000000\n",
      "102  talk.politics.mideast  0.693548\n",
      "106  talk.politics.mideast  0.660256\n",
      "2    talk.politics.mideast  0.627451\n",
      "105            alt.atheism  0.614286\n",
      "11               rec.autos  0.611765\n",
      "53             alt.atheism  0.586420\n",
      "70               rec.autos  0.580645\n",
      "84             alt.atheism  0.563333\n",
      "3                rec.autos  0.556190\n",
      "\n",
      "talk.politics.mideast\n",
      "                     topic     score\n",
      "2    talk.politics.mideast  1.000000\n",
      "1    talk.politics.mideast  0.639394\n",
      "41               rec.autos  0.600000\n",
      "29               sci.space  0.568687\n",
      "58               sci.space  0.528889\n",
      "110  talk.politics.mideast  0.524117\n",
      "45             alt.atheism  0.505049\n",
      "57             alt.atheism  0.503810\n",
      "68   talk.politics.mideast  0.498889\n",
      "103              sci.space  0.481250\n",
      "\n",
      "rec.autos\n",
      "                    topic     score\n",
      "3               rec.autos  1.000000\n",
      "99              rec.autos  0.835938\n",
      "70              rec.autos  0.624194\n",
      "1   talk.politics.mideast  0.563805\n",
      "18              sci.space  0.537302\n",
      "69              sci.space  0.535331\n",
      "42  talk.politics.mideast  0.522764\n",
      "46              rec.autos  0.521667\n",
      "14              sci.space  0.520476\n",
      "86  talk.politics.mideast  0.517460\n",
      "\n",
      "sci.space\n",
      "                     topic     score\n",
      "5                sci.space  1.000000\n",
      "28               sci.space  0.633832\n",
      "110  talk.politics.mideast  0.613337\n",
      "58               sci.space  0.605449\n",
      "17   talk.politics.mideast  0.605337\n",
      "41               rec.autos  0.599206\n",
      "32               sci.space  0.596774\n",
      "92             alt.atheism  0.575765\n",
      "60               sci.space  0.564121\n",
      "48               sci.space  0.561480\n",
      "\n",
      "alt.atheism\n",
      "                    topic     score\n",
      "6             alt.atheism  1.000000\n",
      "76            alt.atheism  0.841801\n",
      "86  talk.politics.mideast  0.656984\n",
      "33              rec.autos  0.606281\n",
      "15              rec.autos  0.511347\n",
      "99              rec.autos  0.506620\n",
      "43              sci.space  0.504414\n",
      "79              rec.autos  0.501934\n",
      "65            alt.atheism  0.491523\n",
      "73              rec.autos  0.490114\n",
      "\n",
      "alt.atheism\n",
      "                     topic     score\n",
      "8              alt.atheism  1.000000\n",
      "16             alt.atheism  0.593074\n",
      "101              rec.autos  0.587912\n",
      "32               sci.space  0.571429\n",
      "34             alt.atheism  0.560043\n",
      "53             alt.atheism  0.544974\n",
      "44   talk.politics.mideast  0.530303\n",
      "57             alt.atheism  0.525602\n",
      "95               rec.autos  0.518155\n",
      "86   talk.politics.mideast  0.500000\n",
      "\n",
      "sci.space\n",
      "                     topic     score\n",
      "9                sci.space  1.000000\n",
      "88               sci.space  0.596939\n",
      "73               rec.autos  0.583325\n",
      "77   talk.politics.mideast  0.579527\n",
      "79               rec.autos  0.485958\n",
      "69               sci.space  0.467233\n",
      "106  talk.politics.mideast  0.412304\n",
      "92             alt.atheism  0.407841\n",
      "27               rec.autos  0.398973\n",
      "80   talk.politics.mideast  0.394383\n",
      "\n"
     ]
    }
   ],
   "source": [
    "latent_vector = []\n",
    "counter = 0\n",
    "\n",
    "for doc_index1 in range(len(y_train)):\n",
    "    latent_vector.append([])\n",
    "    \n",
    "    if doc_index1 not in doc_indices:\n",
    "        continue\n",
    "        \n",
    "    values = []\n",
    "    \n",
    "    for doc_index2 in range(len(y_train)):\n",
    "        score = dfx_li[doc_index1][doc_index2].max(0).mean()\n",
    "        \n",
    "        latent_vector[-1].append(score)\n",
    "        values.append([y_train[doc_index2], score])\n",
    "    \n",
    "    \n",
    "    if counter < 10:\n",
    "        counter += 1\n",
    "        print(y_train[doc_index1])\n",
    "        print(pd.DataFrame(values, columns=[\"topic\", \"score\"]).sort_values(ascending=False, by=\"score\").head(10))\n",
    "        print()\n",
    "    \n",
    "latent_vector = pd.DataFrame(data=latent_vector, index=wdf_train.index, columns=wdf_train.index).fillna(0)"
   ]
  },
  {
   "cell_type": "code",
   "execution_count": 690,
   "metadata": {},
   "outputs": [
    {
     "data": {
      "text/html": [
       "<div>\n",
       "<style scoped>\n",
       "    .dataframe tbody tr th:only-of-type {\n",
       "        vertical-align: middle;\n",
       "    }\n",
       "\n",
       "    .dataframe tbody tr th {\n",
       "        vertical-align: top;\n",
       "    }\n",
       "\n",
       "    .dataframe thead th {\n",
       "        text-align: right;\n",
       "    }\n",
       "</style>\n",
       "<table border=\"1\" class=\"dataframe\">\n",
       "  <thead>\n",
       "    <tr style=\"text-align: right;\">\n",
       "      <th></th>\n",
       "      <th>0</th>\n",
       "      <th>1</th>\n",
       "      <th>2</th>\n",
       "      <th>3</th>\n",
       "      <th>4</th>\n",
       "      <th>5</th>\n",
       "      <th>6</th>\n",
       "      <th>7</th>\n",
       "      <th>8</th>\n",
       "      <th>9</th>\n",
       "      <th>...</th>\n",
       "      <th>102</th>\n",
       "      <th>103</th>\n",
       "      <th>104</th>\n",
       "      <th>105</th>\n",
       "      <th>106</th>\n",
       "      <th>107</th>\n",
       "      <th>108</th>\n",
       "      <th>109</th>\n",
       "      <th>110</th>\n",
       "      <th>111</th>\n",
       "    </tr>\n",
       "  </thead>\n",
       "  <tbody>\n",
       "    <tr>\n",
       "      <th>0</th>\n",
       "      <td>1.000000</td>\n",
       "      <td>0.368306</td>\n",
       "      <td>0.274299</td>\n",
       "      <td>0.359069</td>\n",
       "      <td>0.226014</td>\n",
       "      <td>0.231615</td>\n",
       "      <td>0.266385</td>\n",
       "      <td>0.329110</td>\n",
       "      <td>0.352957</td>\n",
       "      <td>0.307603</td>\n",
       "      <td>...</td>\n",
       "      <td>0.386643</td>\n",
       "      <td>0.319239</td>\n",
       "      <td>0.269104</td>\n",
       "      <td>0.277672</td>\n",
       "      <td>0.343275</td>\n",
       "      <td>0.359354</td>\n",
       "      <td>0.248500</td>\n",
       "      <td>0.245263</td>\n",
       "      <td>0.355845</td>\n",
       "      <td>0.301125</td>\n",
       "    </tr>\n",
       "    <tr>\n",
       "      <th>1</th>\n",
       "      <td>0.296448</td>\n",
       "      <td>1.000000</td>\n",
       "      <td>0.627451</td>\n",
       "      <td>0.556190</td>\n",
       "      <td>0.236089</td>\n",
       "      <td>0.280072</td>\n",
       "      <td>0.316499</td>\n",
       "      <td>0.418141</td>\n",
       "      <td>0.447408</td>\n",
       "      <td>0.340092</td>\n",
       "      <td>...</td>\n",
       "      <td>0.693548</td>\n",
       "      <td>0.367808</td>\n",
       "      <td>0.441667</td>\n",
       "      <td>0.614286</td>\n",
       "      <td>0.660256</td>\n",
       "      <td>0.444680</td>\n",
       "      <td>0.350826</td>\n",
       "      <td>0.415857</td>\n",
       "      <td>0.464619</td>\n",
       "      <td>0.333368</td>\n",
       "    </tr>\n",
       "    <tr>\n",
       "      <th>2</th>\n",
       "      <td>0.268172</td>\n",
       "      <td>0.639394</td>\n",
       "      <td>1.000000</td>\n",
       "      <td>0.415045</td>\n",
       "      <td>0.245254</td>\n",
       "      <td>0.281533</td>\n",
       "      <td>0.254417</td>\n",
       "      <td>0.438095</td>\n",
       "      <td>0.438683</td>\n",
       "      <td>0.310165</td>\n",
       "      <td>...</td>\n",
       "      <td>0.443944</td>\n",
       "      <td>0.481250</td>\n",
       "      <td>0.372959</td>\n",
       "      <td>0.352914</td>\n",
       "      <td>0.425705</td>\n",
       "      <td>0.456583</td>\n",
       "      <td>0.359111</td>\n",
       "      <td>0.309526</td>\n",
       "      <td>0.524117</td>\n",
       "      <td>0.360994</td>\n",
       "    </tr>\n",
       "    <tr>\n",
       "      <th>3</th>\n",
       "      <td>0.253981</td>\n",
       "      <td>0.563805</td>\n",
       "      <td>0.407353</td>\n",
       "      <td>1.000000</td>\n",
       "      <td>0.268570</td>\n",
       "      <td>0.278730</td>\n",
       "      <td>0.306323</td>\n",
       "      <td>0.422063</td>\n",
       "      <td>0.435156</td>\n",
       "      <td>0.344533</td>\n",
       "      <td>...</td>\n",
       "      <td>0.444087</td>\n",
       "      <td>0.356200</td>\n",
       "      <td>0.373848</td>\n",
       "      <td>0.325352</td>\n",
       "      <td>0.422285</td>\n",
       "      <td>0.416794</td>\n",
       "      <td>0.360159</td>\n",
       "      <td>0.304796</td>\n",
       "      <td>0.505376</td>\n",
       "      <td>0.344444</td>\n",
       "    </tr>\n",
       "    <tr>\n",
       "      <th>4</th>\n",
       "      <td>0.000000</td>\n",
       "      <td>0.000000</td>\n",
       "      <td>0.000000</td>\n",
       "      <td>0.000000</td>\n",
       "      <td>0.000000</td>\n",
       "      <td>0.000000</td>\n",
       "      <td>0.000000</td>\n",
       "      <td>0.000000</td>\n",
       "      <td>0.000000</td>\n",
       "      <td>0.000000</td>\n",
       "      <td>...</td>\n",
       "      <td>0.000000</td>\n",
       "      <td>0.000000</td>\n",
       "      <td>0.000000</td>\n",
       "      <td>0.000000</td>\n",
       "      <td>0.000000</td>\n",
       "      <td>0.000000</td>\n",
       "      <td>0.000000</td>\n",
       "      <td>0.000000</td>\n",
       "      <td>0.000000</td>\n",
       "      <td>0.000000</td>\n",
       "    </tr>\n",
       "  </tbody>\n",
       "</table>\n",
       "<p>5 rows × 112 columns</p>\n",
       "</div>"
      ],
      "text/plain": [
       "        0         1         2         3         4         5         6    \\\n",
       "0  1.000000  0.368306  0.274299  0.359069  0.226014  0.231615  0.266385   \n",
       "1  0.296448  1.000000  0.627451  0.556190  0.236089  0.280072  0.316499   \n",
       "2  0.268172  0.639394  1.000000  0.415045  0.245254  0.281533  0.254417   \n",
       "3  0.253981  0.563805  0.407353  1.000000  0.268570  0.278730  0.306323   \n",
       "4  0.000000  0.000000  0.000000  0.000000  0.000000  0.000000  0.000000   \n",
       "\n",
       "        7         8         9    ...       102       103       104       105  \\\n",
       "0  0.329110  0.352957  0.307603  ...  0.386643  0.319239  0.269104  0.277672   \n",
       "1  0.418141  0.447408  0.340092  ...  0.693548  0.367808  0.441667  0.614286   \n",
       "2  0.438095  0.438683  0.310165  ...  0.443944  0.481250  0.372959  0.352914   \n",
       "3  0.422063  0.435156  0.344533  ...  0.444087  0.356200  0.373848  0.325352   \n",
       "4  0.000000  0.000000  0.000000  ...  0.000000  0.000000  0.000000  0.000000   \n",
       "\n",
       "        106       107       108       109       110       111  \n",
       "0  0.343275  0.359354  0.248500  0.245263  0.355845  0.301125  \n",
       "1  0.660256  0.444680  0.350826  0.415857  0.464619  0.333368  \n",
       "2  0.425705  0.456583  0.359111  0.309526  0.524117  0.360994  \n",
       "3  0.422285  0.416794  0.360159  0.304796  0.505376  0.344444  \n",
       "4  0.000000  0.000000  0.000000  0.000000  0.000000  0.000000  \n",
       "\n",
       "[5 rows x 112 columns]"
      ]
     },
     "execution_count": 690,
     "metadata": {},
     "output_type": "execute_result"
    }
   ],
   "source": [
    "latent_vector.head()"
   ]
  },
  {
   "cell_type": "code",
   "execution_count": 691,
   "metadata": {},
   "outputs": [
    {
     "name": "stdout",
     "output_type": "stream",
     "text": [
      "latent_vector, kmeans_inertia =  3.6781928368289742\n",
      "Counter({'talk.politics.mideast': 2, 'rec.autos': 1})\n",
      "Counter({'sci.space': 1})\n",
      "Counter({'rec.autos': 1})\n",
      "Counter({'alt.atheism': 2, 'sci.space': 1})\n",
      "\n"
     ]
    }
   ],
   "source": [
    "n_clusters = 4\n",
    "\n",
    "# cluster the topics\n",
    "kmeans = KMeans(n_clusters=n_clusters, random_state=0).fit(latent_vector.loc[doc_indices])\n",
    "print(\"latent_vector, kmeans_inertia = \", kmeans.inertia_)\n",
    "\n",
    "for ii in range(n_clusters):\n",
    "    print(Counter(y_train[doc_indices][kmeans.labels_ == ii]))\n",
    "\n",
    "print()"
   ]
  },
  {
   "cell_type": "code",
   "execution_count": 692,
   "metadata": {},
   "outputs": [
    {
     "name": "stdout",
     "output_type": "stream",
     "text": [
      "wdf_train, kmeans_inertia =  4230.109369977496\n",
      "Counter({'sci.space': 17, 'talk.politics.mideast': 16, 'rec.autos': 16, 'alt.atheism': 12})\n",
      "Counter({'talk.politics.mideast': 3, 'alt.atheism': 2, 'rec.autos': 1})\n",
      "Counter({'sci.space': 10, 'rec.autos': 8, 'talk.politics.mideast': 6, 'alt.atheism': 4})\n",
      "Counter({'alt.atheism': 7, 'talk.politics.mideast': 4, 'sci.space': 4, 'rec.autos': 2})\n",
      "\n"
     ]
    }
   ],
   "source": [
    "n_clusters = 4\n",
    "\n",
    "wdf_train_prime = wdf_train.copy()\n",
    "wdf_test_prime = wdf_test.copy()\n",
    "    \n",
    "# cluster the topics\n",
    "kmeans = KMeans(n_clusters=n_clusters, random_state=0).fit(wdf_train_prime)\n",
    "print(\"wdf_train, kmeans_inertia = \", kmeans.inertia_)\n",
    "\n",
    "clusters = []\n",
    "categories_prime = list(range(n_clusters))\n",
    "\n",
    "y_train_prime = kmeans.predict(wdf_train_prime)\n",
    "y_test_prime = kmeans.predict(wdf_test_prime)\n",
    "\n",
    "for ii in range(n_clusters):\n",
    "    clusters.append(Counter(y_train[y_train_prime == ii]))\n",
    "    print(clusters[-1])\n",
    "\n",
    "print()"
   ]
  },
  {
   "cell_type": "code",
   "execution_count": 693,
   "metadata": {
    "scrolled": true
   },
   "outputs": [],
   "source": [
    "# y_train[doc_indices]"
   ]
  },
  {
   "cell_type": "code",
   "execution_count": 694,
   "metadata": {
    "scrolled": true
   },
   "outputs": [
    {
     "name": "stdout",
     "output_type": "stream",
     "text": [
      "Topic: rec.autos\n",
      "==================================================\n",
      "not to mention my friend s 54 citroen traction avant with the light switch and dimmer integrate in a single stalk off the steer column those dumb french be apparently copying the japanese before the german\n",
      "\n",
      "Topic: rec.autos\n",
      "==================================================\n",
      "right in the thirty both buick and packard have two spare mount in well in the front fender of course that be back when the front fender be long enough to provide room there be a couple of other marque that do this a well but memory fade\n"
     ]
    }
   ],
   "source": [
    "doc_index1 = 0\n",
    "print(f\"Topic: {y_train[doc_index1]}\\n{'='*50}\\n{x_train[doc_index1][:512]}\")\n",
    "print()\n",
    "\n",
    "doc_index2 = 3\n",
    "print(f\"Topic: {y_train[doc_index2]}\\n{'='*50}\\n{x_train[doc_index2][:512]}\")"
   ]
  },
  {
   "cell_type": "code",
   "execution_count": 695,
   "metadata": {
    "scrolled": true
   },
   "outputs": [
    {
     "data": {
      "text/plain": [
       "integrate     1.0\n",
       "in            1.0\n",
       "and           1.0\n",
       "apparently    1.0\n",
       "avant         1.0\n",
       "be            1.0\n",
       "before        1.0\n",
       "citroen       1.0\n",
       "column        1.0\n",
       "copying       1.0\n",
       "dtype: float64"
      ]
     },
     "execution_count": 695,
     "metadata": {},
     "output_type": "execute_result"
    }
   ],
   "source": [
    "dfx_li[doc_index1][doc_index2].max(1).sort_values(ascending=False).head(10)"
   ]
  },
  {
   "cell_type": "code",
   "execution_count": 696,
   "metadata": {
    "scrolled": true
   },
   "outputs": [
    {
     "data": {
      "text/plain": [
       "in         0.216949\n",
       "the        0.187317\n",
       "be         0.187181\n",
       "light      0.185714\n",
       "to         0.184783\n",
       "and        0.181193\n",
       "mention    0.171429\n",
       "steer      0.171429\n",
       "single     0.171429\n",
       "off        0.171429\n",
       "dtype: float64"
      ]
     },
     "execution_count": 696,
     "metadata": {},
     "output_type": "execute_result"
    }
   ],
   "source": [
    "dfx_li[doc_index1][doc_index2].mean(1).sort_values(ascending=False).head(10)"
   ]
  },
  {
   "cell_type": "code",
   "execution_count": 697,
   "metadata": {},
   "outputs": [
    {
     "name": "stdout",
     "output_type": "stream",
     "text": [
      "-0.5468186228727564\n"
     ]
    },
    {
     "data": {
      "text/plain": [
       "reuseable     -0.328365\n",
       "reminder      -0.328365\n",
       "version       -0.328365\n",
       "nls           -0.328365\n",
       "bastard       -0.328365\n",
       "definitely    -0.328365\n",
       "thank         -0.328365\n",
       "suitable      -0.328365\n",
       "sub           -0.328365\n",
       "spacelifter   -0.328365\n",
       "dtype: float64"
      ]
     },
     "execution_count": 697,
     "metadata": {},
     "output_type": "execute_result"
    }
   ],
   "source": [
    "print(xv[xv < 0].mean(0).mean())\n",
    "xv[xv < 0].mean(0).sort_values(ascending=False).head(10)"
   ]
  },
  {
   "cell_type": "code",
   "execution_count": 549,
   "metadata": {},
   "outputs": [
    {
     "data": {
      "text/plain": [
       "that         1.0\n",
       "be           1.0\n",
       "have         1.0\n",
       "the          1.0\n",
       "police       1.0\n",
       "will         1.0\n",
       "with         1.0\n",
       "you          0.6\n",
       "believe      0.5\n",
       "close        0.5\n",
       "detection    0.5\n",
       "detector     0.5\n",
       "off          0.5\n",
       "enough       0.5\n",
       "forget       0.5\n",
       "frequency    0.5\n",
       "dtype: float64"
      ]
     },
     "execution_count": 549,
     "metadata": {},
     "output_type": "execute_result"
    }
   ],
   "source": [
    "dfx_li[doc_index1][doc_index2].max(0).sort_values(ascending=False).head(16)"
   ]
  },
  {
   "cell_type": "code",
   "execution_count": 550,
   "metadata": {},
   "outputs": [
    {
     "data": {
      "text/plain": [
       "read          1.0\n",
       "with          1.0\n",
       "will          1.0\n",
       "be            1.0\n",
       "conception    1.0\n",
       "concern       1.0\n",
       "concrete      1.0\n",
       "creation      1.0\n",
       "detail        1.0\n",
       "differ        1.0\n",
       "during        1.0\n",
       "fit           1.0\n",
       "force         1.0\n",
       "have          1.0\n",
       "idea          1.0\n",
       "above         1.0\n",
       "dtype: float64"
      ]
     },
     "execution_count": 550,
     "metadata": {},
     "output_type": "execute_result"
    }
   ],
   "source": [
    "dfx_li[doc_index1][doc_index2].max(1).sort_values(ascending=False).head(16)"
   ]
  },
  {
   "cell_type": "code",
   "execution_count": 210,
   "metadata": {
    "scrolled": true
   },
   "outputs": [
    {
     "data": {
      "text/plain": [
       "000         0\n",
       "pity        0\n",
       "pimentel    0\n",
       "pilot       0\n",
       "piece       0\n",
       "           ..\n",
       "to          2\n",
       "fuel        2\n",
       "how         2\n",
       "the         2\n",
       "be          3\n",
       "Name: 7, Length: 1467, dtype: int64"
      ]
     },
     "execution_count": 210,
     "metadata": {},
     "output_type": "execute_result"
    }
   ],
   "source": [
    "wdf_train.iloc[idx2].sort_values(ascending=True)"
   ]
  },
  {
   "cell_type": "code",
   "execution_count": 186,
   "metadata": {
    "scrolled": true
   },
   "outputs": [
    {
     "data": {
      "text/plain": [
       "memory     0.050847\n",
       "thirty     0.050847\n",
       "buick      0.050847\n",
       "room       0.050847\n",
       "packard    0.050847\n",
       "fade       0.050847\n",
       "fender     0.050847\n",
       "marque     0.050847\n",
       "spare      0.067797\n",
       "course     0.067797\n",
       "mount      0.067797\n",
       "front      0.067797\n",
       "two        0.080000\n",
       "both       0.107317\n",
       "when       0.120000\n",
       "dtype: float64"
      ]
     },
     "execution_count": 186,
     "metadata": {},
     "output_type": "execute_result"
    }
   ],
   "source": [
    "dfx.max(0).sort_values(ascending=True).head(15)"
   ]
  },
  {
   "cell_type": "code",
   "execution_count": 183,
   "metadata": {},
   "outputs": [
    {
     "data": {
      "text/plain": [
       "the       4.303757\n",
       "be        3.994595\n",
       "to        3.977974\n",
       "and       3.803540\n",
       "in        3.734835\n",
       "of        3.445151\n",
       "that      2.753275\n",
       "have      2.407538\n",
       "do        2.102149\n",
       "this      2.010799\n",
       "but       1.688663\n",
       "there     1.236046\n",
       "well      0.891024\n",
       "couple    0.836783\n",
       "long      0.835313\n",
       "dtype: float64"
      ]
     },
     "execution_count": 183,
     "metadata": {},
     "output_type": "execute_result"
    }
   ],
   "source": [
    "dfx.sum(0).sort_values(ascending=False).head(15)"
   ]
  },
  {
   "cell_type": "code",
   "execution_count": 129,
   "metadata": {},
   "outputs": [
    {
     "name": "stdout",
     "output_type": "stream",
     "text": [
      "Topic: rec.autos\n",
      "==================================================\n",
      "not to mention my friend s 54 citroen traction avant with the light switch and dimmer integrate in a single stalk off the steer column those dumb french be apparently copying the japanese before the german\n"
     ]
    }
   ],
   "source": [
    "result = []\n",
    "doc_index = 3\n",
    "print(f\"Topic: {labels[doc_index]}\\n{'='*50}\\n{docs[doc_index][:512]}\")\n",
    "\n",
    "width = 0\n",
    "for i, word in enumerate(wdf_train.columns):\n",
    "    result.append(gnbs[word].predict_log_proba(wdf_test.loc[[doc_index]])[0])\n",
    "    if len(result) > width:\n",
    "        width = len(result)\n",
    "\n",
    "res = pd.DataFrame(data=result, index=wdf_train.columns).fillna(0)"
   ]
  },
  {
   "cell_type": "code",
   "execution_count": 134,
   "metadata": {},
   "outputs": [
    {
     "data": {
      "text/plain": [
       "and     -5.121664e+10\n",
       "the     -5.065995e+10\n",
       "mount   -3.989702e+10\n",
       "spare   -3.989702e+10\n",
       "issue   -3.711350e+10\n",
       "             ...     \n",
       "make    -1.855667e+09\n",
       "we      -1.855666e+09\n",
       "at      -1.670100e+09\n",
       "me      -1.670099e+09\n",
       "get     -1.113398e+09\n",
       "Length: 1467, dtype: float64"
      ]
     },
     "execution_count": 134,
     "metadata": {},
     "output_type": "execute_result"
    }
   ],
   "source": [
    "res.sum(1).sort_values()"
   ]
  },
  {
   "cell_type": "code",
   "execution_count": 113,
   "metadata": {
    "scrolled": true
   },
   "outputs": [
    {
     "data": {
      "text/plain": [
       "be          -4.082481e+09\n",
       "the         -7.422644e+08\n",
       "that        -5.567038e+08\n",
       "you         -3.711371e+08\n",
       "of          -1.855654e+08\n",
       "not         -4.879017e+03\n",
       "play         0.000000e+00\n",
       "planetary    0.000000e+00\n",
       "plane        0.000000e+00\n",
       "placement    0.000000e+00\n",
       "place        0.000000e+00\n",
       "pity         0.000000e+00\n",
       "pimentel     0.000000e+00\n",
       "pilot        0.000000e+00\n",
       "piece        0.000000e+00\n",
       "pickup       0.000000e+00\n",
       "phone        0.000000e+00\n",
       "phobos       0.000000e+00\n",
       "peter        0.000000e+00\n",
       "pertains     0.000000e+00\n",
       "Name: 0, dtype: float64"
      ]
     },
     "execution_count": 113,
     "metadata": {},
     "output_type": "execute_result"
    }
   ],
   "source": [
    "res[1].sort_values(ascending=True).head(20)"
   ]
  },
  {
   "cell_type": "code",
   "execution_count": 99,
   "metadata": {
    "scrolled": true
   },
   "outputs": [
    {
     "name": "stderr",
     "output_type": "stream",
     "text": [
      "C:\\Program Files\\Python37\\lib\\site-packages\\ipykernel_launcher.py:1: RuntimeWarning: divide by zero encountered in log\n",
      "  \"\"\"Entry point for launching an IPython kernel.\n"
     ]
    },
    {
     "data": {
      "text/plain": [
       "-inf"
      ]
     },
     "execution_count": 99,
     "metadata": {},
     "output_type": "execute_result"
    }
   ],
   "source": [
    "np.log(0)"
   ]
  },
  {
   "cell_type": "code",
   "execution_count": 27,
   "metadata": {},
   "outputs": [
    {
     "data": {
      "text/html": [
       "<div>\n",
       "<style scoped>\n",
       "    .dataframe tbody tr th:only-of-type {\n",
       "        vertical-align: middle;\n",
       "    }\n",
       "\n",
       "    .dataframe tbody tr th {\n",
       "        vertical-align: top;\n",
       "    }\n",
       "\n",
       "    .dataframe thead th {\n",
       "        text-align: right;\n",
       "    }\n",
       "</style>\n",
       "<table border=\"1\" class=\"dataframe\">\n",
       "  <thead>\n",
       "    <tr style=\"text-align: right;\">\n",
       "      <th></th>\n",
       "      <th>000</th>\n",
       "      <th>031349</th>\n",
       "      <th>10</th>\n",
       "      <th>1000</th>\n",
       "      <th>11</th>\n",
       "      <th>14</th>\n",
       "      <th>16th</th>\n",
       "      <th>1900</th>\n",
       "      <th>1940</th>\n",
       "      <th>1982</th>\n",
       "      <th>...</th>\n",
       "      <th>yeah</th>\n",
       "      <th>year</th>\n",
       "      <th>yes</th>\n",
       "      <th>yo</th>\n",
       "      <th>yorker</th>\n",
       "      <th>you</th>\n",
       "      <th>your</th>\n",
       "      <th>yourself</th>\n",
       "      <th>zeuge</th>\n",
       "      <th>__labels__</th>\n",
       "    </tr>\n",
       "  </thead>\n",
       "  <tbody>\n",
       "    <tr>\n",
       "      <th>0</th>\n",
       "      <td>0</td>\n",
       "      <td>0</td>\n",
       "      <td>0</td>\n",
       "      <td>0</td>\n",
       "      <td>0</td>\n",
       "      <td>0</td>\n",
       "      <td>0</td>\n",
       "      <td>0</td>\n",
       "      <td>0</td>\n",
       "      <td>0</td>\n",
       "      <td>...</td>\n",
       "      <td>0</td>\n",
       "      <td>0</td>\n",
       "      <td>0</td>\n",
       "      <td>0</td>\n",
       "      <td>0</td>\n",
       "      <td>0</td>\n",
       "      <td>0</td>\n",
       "      <td>0</td>\n",
       "      <td>0</td>\n",
       "      <td>2</td>\n",
       "    </tr>\n",
       "    <tr>\n",
       "      <th>1</th>\n",
       "      <td>0</td>\n",
       "      <td>0</td>\n",
       "      <td>0</td>\n",
       "      <td>0</td>\n",
       "      <td>0</td>\n",
       "      <td>0</td>\n",
       "      <td>0</td>\n",
       "      <td>0</td>\n",
       "      <td>0</td>\n",
       "      <td>0</td>\n",
       "      <td>...</td>\n",
       "      <td>0</td>\n",
       "      <td>0</td>\n",
       "      <td>0</td>\n",
       "      <td>0</td>\n",
       "      <td>0</td>\n",
       "      <td>1</td>\n",
       "      <td>0</td>\n",
       "      <td>0</td>\n",
       "      <td>0</td>\n",
       "      <td>0</td>\n",
       "    </tr>\n",
       "    <tr>\n",
       "      <th>2</th>\n",
       "      <td>0</td>\n",
       "      <td>0</td>\n",
       "      <td>0</td>\n",
       "      <td>0</td>\n",
       "      <td>0</td>\n",
       "      <td>0</td>\n",
       "      <td>0</td>\n",
       "      <td>0</td>\n",
       "      <td>0</td>\n",
       "      <td>0</td>\n",
       "      <td>...</td>\n",
       "      <td>0</td>\n",
       "      <td>0</td>\n",
       "      <td>0</td>\n",
       "      <td>0</td>\n",
       "      <td>0</td>\n",
       "      <td>0</td>\n",
       "      <td>0</td>\n",
       "      <td>0</td>\n",
       "      <td>0</td>\n",
       "      <td>2</td>\n",
       "    </tr>\n",
       "    <tr>\n",
       "      <th>3</th>\n",
       "      <td>0</td>\n",
       "      <td>0</td>\n",
       "      <td>0</td>\n",
       "      <td>0</td>\n",
       "      <td>0</td>\n",
       "      <td>0</td>\n",
       "      <td>0</td>\n",
       "      <td>0</td>\n",
       "      <td>0</td>\n",
       "      <td>0</td>\n",
       "      <td>...</td>\n",
       "      <td>0</td>\n",
       "      <td>0</td>\n",
       "      <td>0</td>\n",
       "      <td>0</td>\n",
       "      <td>0</td>\n",
       "      <td>0</td>\n",
       "      <td>0</td>\n",
       "      <td>0</td>\n",
       "      <td>0</td>\n",
       "      <td>2</td>\n",
       "    </tr>\n",
       "    <tr>\n",
       "      <th>4</th>\n",
       "      <td>0</td>\n",
       "      <td>0</td>\n",
       "      <td>0</td>\n",
       "      <td>0</td>\n",
       "      <td>0</td>\n",
       "      <td>0</td>\n",
       "      <td>0</td>\n",
       "      <td>0</td>\n",
       "      <td>0</td>\n",
       "      <td>0</td>\n",
       "      <td>...</td>\n",
       "      <td>0</td>\n",
       "      <td>0</td>\n",
       "      <td>0</td>\n",
       "      <td>0</td>\n",
       "      <td>0</td>\n",
       "      <td>0</td>\n",
       "      <td>0</td>\n",
       "      <td>0</td>\n",
       "      <td>0</td>\n",
       "      <td>2</td>\n",
       "    </tr>\n",
       "  </tbody>\n",
       "</table>\n",
       "<p>5 rows × 1468 columns</p>\n",
       "</div>"
      ],
      "text/plain": [
       "   000  031349  10  1000  11  14  16th  1900  1940  1982  ...  yeah  year  \\\n",
       "0    0       0   0     0   0   0     0     0     0     0  ...     0     0   \n",
       "1    0       0   0     0   0   0     0     0     0     0  ...     0     0   \n",
       "2    0       0   0     0   0   0     0     0     0     0  ...     0     0   \n",
       "3    0       0   0     0   0   0     0     0     0     0  ...     0     0   \n",
       "4    0       0   0     0   0   0     0     0     0     0  ...     0     0   \n",
       "\n",
       "   yes  yo  yorker  you  your  yourself  zeuge  __labels__  \n",
       "0    0   0       0    0     0         0      0           2  \n",
       "1    0   0       0    1     0         0      0           0  \n",
       "2    0   0       0    0     0         0      0           2  \n",
       "3    0   0       0    0     0         0      0           2  \n",
       "4    0   0       0    0     0         0      0           2  \n",
       "\n",
       "[5 rows x 1468 columns]"
      ]
     },
     "execution_count": 27,
     "metadata": {},
     "output_type": "execute_result"
    }
   ],
   "source": [
    "wdf_train_prime.head()"
   ]
  },
  {
   "cell_type": "code",
   "execution_count": 64,
   "metadata": {},
   "outputs": [
    {
     "data": {
      "text/plain": [
       "array([2, 0, 2, 2, 2, 0, 0, 3, 1, 2, 0, 0, 0, 0, 2, 2, 0, 2, 2, 0, 3, 0,\n",
       "       0, 0, 3, 3, 2, 0, 2, 2, 2, 3, 0, 0, 2, 0, 2, 2, 2, 0, 0, 0, 0, 0,\n",
       "       0, 1, 0, 3, 0, 3, 3, 2, 2, 3, 0, 0, 0, 0, 0, 0, 0, 0, 0, 0, 0, 0,\n",
       "       3, 0, 0, 3, 2, 0, 2, 2, 0, 0, 0, 0, 2, 0, 1, 2, 0, 0, 3, 3, 0, 0,\n",
       "       0, 0, 3, 2, 3, 0, 0, 1, 0, 2, 0, 2, 1, 0, 1, 0, 0, 0, 0, 3, 0, 2,\n",
       "       0, 3])"
      ]
     },
     "execution_count": 64,
     "metadata": {},
     "output_type": "execute_result"
    }
   ],
   "source": [
    "kmeans.predict(wdf_train_prime)"
   ]
  },
  {
   "cell_type": "code",
   "execution_count": 18,
   "metadata": {},
   "outputs": [
    {
     "data": {
      "application/vnd.jupyter.widget-view+json": {
       "model_id": "6d214b79e166471980f6cedb44e886b2",
       "version_major": 2,
       "version_minor": 0
      },
      "text/plain": [
       "HBox(children=(FloatProgress(value=0.0, max=4.0), HTML(value='')))"
      ]
     },
     "metadata": {},
     "output_type": "display_data"
    },
    {
     "name": "stdout",
     "output_type": "stream",
     "text": [
      "\n",
      "word_topic_pr_distr shape = (1467, 4)\n"
     ]
    }
   ],
   "source": [
    "# the word topic distr\n",
    "wdt_train = wdf_train_prime.copy()\n",
    "wdt_test = wdf_test_prime.copy()\n",
    "\n",
    "wdt_test[\"__labels__\"] = y_test_prime\n",
    "wdt_train[\"__labels__\"] = y_train_prime\n",
    "\n",
    "word_doc_count = wdf_train_prime.sum(0)\n",
    "topic_doc_count = pd.DataFrame(Counter(y_train_prime), index=[0]).T[0]\n",
    "word_topic_pr_distr = pd.DataFrame(data=0.0, columns=categories_prime, index=vocabulary)\n",
    "\n",
    "for category in tqdm(categories_prime):\n",
    "    pxy = wdf_train_prime[wdt_train[\"__labels__\"] == category].sum(0) / topic_doc_count[category]\n",
    "    word_topic_pr_distr[category] = pxy * (topic_doc_count[category] / word_doc_count)\n",
    "\n",
    "print(f\"word_topic_pr_distr shape = {word_topic_pr_distr.shape}\")"
   ]
  },
  {
   "cell_type": "code",
   "execution_count": 19,
   "metadata": {},
   "outputs": [
    {
     "data": {
      "text/html": [
       "<div>\n",
       "<style scoped>\n",
       "    .dataframe tbody tr th:only-of-type {\n",
       "        vertical-align: middle;\n",
       "    }\n",
       "\n",
       "    .dataframe tbody tr th {\n",
       "        vertical-align: top;\n",
       "    }\n",
       "\n",
       "    .dataframe thead th {\n",
       "        text-align: right;\n",
       "    }\n",
       "</style>\n",
       "<table border=\"1\" class=\"dataframe\">\n",
       "  <thead>\n",
       "    <tr style=\"text-align: right;\">\n",
       "      <th></th>\n",
       "      <th>0</th>\n",
       "      <th>1</th>\n",
       "      <th>2</th>\n",
       "      <th>3</th>\n",
       "    </tr>\n",
       "  </thead>\n",
       "  <tbody>\n",
       "    <tr>\n",
       "      <th>000</th>\n",
       "      <td>1.0</td>\n",
       "      <td>0.0</td>\n",
       "      <td>0.0</td>\n",
       "      <td>0.0</td>\n",
       "    </tr>\n",
       "    <tr>\n",
       "      <th>031349</th>\n",
       "      <td>1.0</td>\n",
       "      <td>0.0</td>\n",
       "      <td>0.0</td>\n",
       "      <td>0.0</td>\n",
       "    </tr>\n",
       "    <tr>\n",
       "      <th>10</th>\n",
       "      <td>1.0</td>\n",
       "      <td>0.0</td>\n",
       "      <td>0.0</td>\n",
       "      <td>0.0</td>\n",
       "    </tr>\n",
       "    <tr>\n",
       "      <th>1000</th>\n",
       "      <td>1.0</td>\n",
       "      <td>0.0</td>\n",
       "      <td>0.0</td>\n",
       "      <td>0.0</td>\n",
       "    </tr>\n",
       "    <tr>\n",
       "      <th>11</th>\n",
       "      <td>0.0</td>\n",
       "      <td>0.0</td>\n",
       "      <td>1.0</td>\n",
       "      <td>0.0</td>\n",
       "    </tr>\n",
       "  </tbody>\n",
       "</table>\n",
       "</div>"
      ],
      "text/plain": [
       "          0    1    2    3\n",
       "000     1.0  0.0  0.0  0.0\n",
       "031349  1.0  0.0  0.0  0.0\n",
       "10      1.0  0.0  0.0  0.0\n",
       "1000    1.0  0.0  0.0  0.0\n",
       "11      0.0  0.0  1.0  0.0"
      ]
     },
     "execution_count": 19,
     "metadata": {},
     "output_type": "execute_result"
    }
   ],
   "source": [
    "word_topic_pr_distr.head()"
   ]
  },
  {
   "cell_type": "code",
   "execution_count": 62,
   "metadata": {
    "scrolled": true
   },
   "outputs": [
    {
     "data": {
      "text/html": [
       "<div>\n",
       "<style scoped>\n",
       "    .dataframe tbody tr th:only-of-type {\n",
       "        vertical-align: middle;\n",
       "    }\n",
       "\n",
       "    .dataframe tbody tr th {\n",
       "        vertical-align: top;\n",
       "    }\n",
       "\n",
       "    .dataframe thead th {\n",
       "        text-align: right;\n",
       "    }\n",
       "</style>\n",
       "<table border=\"1\" class=\"dataframe\">\n",
       "  <thead>\n",
       "    <tr style=\"text-align: right;\">\n",
       "      <th></th>\n",
       "      <th>0</th>\n",
       "      <th>1</th>\n",
       "      <th>2</th>\n",
       "      <th>3</th>\n",
       "    </tr>\n",
       "  </thead>\n",
       "  <tbody>\n",
       "    <tr>\n",
       "      <th>zeuge</th>\n",
       "      <td>1.0</td>\n",
       "      <td>0.0</td>\n",
       "      <td>0.0</td>\n",
       "      <td>0.0</td>\n",
       "    </tr>\n",
       "    <tr>\n",
       "      <th>ftp</th>\n",
       "      <td>0.0</td>\n",
       "      <td>0.0</td>\n",
       "      <td>1.0</td>\n",
       "      <td>0.0</td>\n",
       "    </tr>\n",
       "    <tr>\n",
       "      <th>full</th>\n",
       "      <td>0.0</td>\n",
       "      <td>1.0</td>\n",
       "      <td>0.0</td>\n",
       "      <td>0.0</td>\n",
       "    </tr>\n",
       "    <tr>\n",
       "      <th>fundraise</th>\n",
       "      <td>0.0</td>\n",
       "      <td>0.0</td>\n",
       "      <td>1.0</td>\n",
       "      <td>0.0</td>\n",
       "    </tr>\n",
       "    <tr>\n",
       "      <th>funny</th>\n",
       "      <td>1.0</td>\n",
       "      <td>0.0</td>\n",
       "      <td>0.0</td>\n",
       "      <td>0.0</td>\n",
       "    </tr>\n",
       "    <tr>\n",
       "      <th>further</th>\n",
       "      <td>1.0</td>\n",
       "      <td>0.0</td>\n",
       "      <td>0.0</td>\n",
       "      <td>0.0</td>\n",
       "    </tr>\n",
       "    <tr>\n",
       "      <th>fusi</th>\n",
       "      <td>1.0</td>\n",
       "      <td>0.0</td>\n",
       "      <td>0.0</td>\n",
       "      <td>0.0</td>\n",
       "    </tr>\n",
       "    <tr>\n",
       "      <th>gain</th>\n",
       "      <td>1.0</td>\n",
       "      <td>0.0</td>\n",
       "      <td>0.0</td>\n",
       "      <td>0.0</td>\n",
       "    </tr>\n",
       "    <tr>\n",
       "      <th>gallon</th>\n",
       "      <td>0.0</td>\n",
       "      <td>0.0</td>\n",
       "      <td>0.0</td>\n",
       "      <td>1.0</td>\n",
       "    </tr>\n",
       "    <tr>\n",
       "      <th>game</th>\n",
       "      <td>0.0</td>\n",
       "      <td>1.0</td>\n",
       "      <td>0.0</td>\n",
       "      <td>0.0</td>\n",
       "    </tr>\n",
       "  </tbody>\n",
       "</table>\n",
       "</div>"
      ],
      "text/plain": [
       "             0    1    2    3\n",
       "zeuge      1.0  0.0  0.0  0.0\n",
       "ftp        0.0  0.0  1.0  0.0\n",
       "full       0.0  1.0  0.0  0.0\n",
       "fundraise  0.0  0.0  1.0  0.0\n",
       "funny      1.0  0.0  0.0  0.0\n",
       "further    1.0  0.0  0.0  0.0\n",
       "fusi       1.0  0.0  0.0  0.0\n",
       "gain       1.0  0.0  0.0  0.0\n",
       "gallon     0.0  0.0  0.0  1.0\n",
       "game       0.0  1.0  0.0  0.0"
      ]
     },
     "execution_count": 62,
     "metadata": {},
     "output_type": "execute_result"
    }
   ],
   "source": [
    "word_topic_entropy = calculate_entropy(word_topic_pr_distr, axis=1)\n",
    "word_topic_entropy_norm = (word_topic_entropy.max() - word_topic_entropy) / word_topic_entropy.max()\n",
    "\n",
    "order_factor = word_topic_entropy_norm #* (word_doc_count / word_doc_count.max())\n",
    "\n",
    "order_indices = order_factor.argsort()[::-1]\n",
    "word_topic_pr_distr.iloc[order_indices].head(10)"
   ]
  },
  {
   "cell_type": "code",
   "execution_count": null,
   "metadata": {},
   "outputs": [],
   "source": []
  },
  {
   "cell_type": "code",
   "execution_count": 61,
   "metadata": {},
   "outputs": [
    {
     "data": {
      "text/plain": [
       "(0.6730116670092565, 5)"
      ]
     },
     "execution_count": 61,
     "metadata": {},
     "output_type": "execute_result"
    }
   ],
   "source": [
    "word = \"space\"\n",
    "calculate_entropy(word_topic_pr_distr.loc[word]), npword_doc_count[word]"
   ]
  },
  {
   "cell_type": "code",
   "execution_count": 60,
   "metadata": {
    "scrolled": true
   },
   "outputs": [
    {
     "data": {
      "text/plain": [
       "<bound method Series.mean of 000          2\n",
       "031349       1\n",
       "10           1\n",
       "1000         1\n",
       "11           2\n",
       "            ..\n",
       "yorker       1\n",
       "you         87\n",
       "your        23\n",
       "yourself     1\n",
       "zeuge        1\n",
       "Length: 1467, dtype: int64>"
      ]
     },
     "execution_count": 60,
     "metadata": {},
     "output_type": "execute_result"
    }
   ],
   "source": [
    "word_doc_count.mean"
   ]
  },
  {
   "cell_type": "code",
   "execution_count": 20,
   "metadata": {},
   "outputs": [],
   "source": [
    "# the entropy and softma for reducing relation\n",
    "word_topic_pr_entropy = calculate_entropy(word_topic_pr_distr, axis=1)\n",
    "\n",
    "# the norm freq of the word in topic\n",
    "word_topic_pr_freq_weight = word_topic_pr_distr.sum(1)\n",
    "\n",
    "\n",
    "# word_topic_pr_infl = 1 - softmax(word_topic_pr_entropy)\n",
    "\n",
    "# influence\n",
    "# wdf_train_prime *= word_topic_pr_infl"
   ]
  },
  {
   "cell_type": "code",
   "execution_count": 21,
   "metadata": {},
   "outputs": [
    {
     "data": {
      "text/plain": [
       "7"
      ]
     },
     "execution_count": 21,
     "metadata": {},
     "output_type": "execute_result"
    }
   ],
   "source": [
    "wdf_train_prime.max().max()"
   ]
  },
  {
   "cell_type": "code",
   "execution_count": 22,
   "metadata": {},
   "outputs": [
    {
     "data": {
      "text/plain": [
       "1.0"
      ]
     },
     "execution_count": 22,
     "metadata": {},
     "output_type": "execute_result"
    }
   ],
   "source": [
    "word_topic_pr_freq_weight.max()"
   ]
  },
  {
   "cell_type": "code",
   "execution_count": 23,
   "metadata": {
    "scrolled": true
   },
   "outputs": [
    {
     "data": {
      "text/plain": [
       "array([0.       , 0.       , 0.       , ..., 1.0554635, 0.       ,\n",
       "       0.       ])"
      ]
     },
     "execution_count": 23,
     "metadata": {},
     "output_type": "execute_result"
    }
   ],
   "source": [
    "word_topic_pr_entropy"
   ]
  },
  {
   "cell_type": "code",
   "execution_count": null,
   "metadata": {},
   "outputs": [],
   "source": []
  }
 ],
 "metadata": {
  "colab": {
   "name": "topic_modeler.ipynb",
   "provenance": [],
   "toc_visible": true
  },
  "kernelspec": {
   "display_name": "Python 3",
   "language": "python",
   "name": "python3"
  },
  "language_info": {
   "codemirror_mode": {
    "name": "ipython",
    "version": 3
   },
   "file_extension": ".py",
   "mimetype": "text/x-python",
   "name": "python",
   "nbconvert_exporter": "python",
   "pygments_lexer": "ipython3",
   "version": "3.8.5"
  },
  "widgets": {
   "application/vnd.jupyter.widget-state+json": {
    "1029c3cb5c264802a7bd45639c1a7c20": {
     "model_module": "@jupyter-widgets/base",
     "model_name": "LayoutModel",
     "state": {
      "_model_module": "@jupyter-widgets/base",
      "_model_module_version": "1.2.0",
      "_model_name": "LayoutModel",
      "_view_count": null,
      "_view_module": "@jupyter-widgets/base",
      "_view_module_version": "1.2.0",
      "_view_name": "LayoutView",
      "align_content": null,
      "align_items": null,
      "align_self": null,
      "border": null,
      "bottom": null,
      "display": null,
      "flex": null,
      "flex_flow": null,
      "grid_area": null,
      "grid_auto_columns": null,
      "grid_auto_flow": null,
      "grid_auto_rows": null,
      "grid_column": null,
      "grid_gap": null,
      "grid_row": null,
      "grid_template_areas": null,
      "grid_template_columns": null,
      "grid_template_rows": null,
      "height": null,
      "justify_content": null,
      "justify_items": null,
      "left": null,
      "margin": null,
      "max_height": null,
      "max_width": null,
      "min_height": null,
      "min_width": null,
      "object_fit": null,
      "object_position": null,
      "order": null,
      "overflow": null,
      "overflow_x": null,
      "overflow_y": null,
      "padding": null,
      "right": null,
      "top": null,
      "visibility": null,
      "width": null
     }
    },
    "2e8643a34a7143e284ed8e94aaca32d7": {
     "model_module": "@jupyter-widgets/controls",
     "model_name": "ProgressStyleModel",
     "state": {
      "_model_module": "@jupyter-widgets/controls",
      "_model_module_version": "1.5.0",
      "_model_name": "ProgressStyleModel",
      "_view_count": null,
      "_view_module": "@jupyter-widgets/base",
      "_view_module_version": "1.2.0",
      "_view_name": "StyleView",
      "bar_color": null,
      "description_width": "initial"
     }
    },
    "44bf4a5432b34d269a82bce24d4e46b3": {
     "model_module": "@jupyter-widgets/controls",
     "model_name": "ProgressStyleModel",
     "state": {
      "_model_module": "@jupyter-widgets/controls",
      "_model_module_version": "1.5.0",
      "_model_name": "ProgressStyleModel",
      "_view_count": null,
      "_view_module": "@jupyter-widgets/base",
      "_view_module_version": "1.2.0",
      "_view_name": "StyleView",
      "bar_color": null,
      "description_width": "initial"
     }
    },
    "4dcd4b491d694b0aa25514b8486cf3f8": {
     "model_module": "@jupyter-widgets/base",
     "model_name": "LayoutModel",
     "state": {
      "_model_module": "@jupyter-widgets/base",
      "_model_module_version": "1.2.0",
      "_model_name": "LayoutModel",
      "_view_count": null,
      "_view_module": "@jupyter-widgets/base",
      "_view_module_version": "1.2.0",
      "_view_name": "LayoutView",
      "align_content": null,
      "align_items": null,
      "align_self": null,
      "border": null,
      "bottom": null,
      "display": null,
      "flex": null,
      "flex_flow": null,
      "grid_area": null,
      "grid_auto_columns": null,
      "grid_auto_flow": null,
      "grid_auto_rows": null,
      "grid_column": null,
      "grid_gap": null,
      "grid_row": null,
      "grid_template_areas": null,
      "grid_template_columns": null,
      "grid_template_rows": null,
      "height": null,
      "justify_content": null,
      "justify_items": null,
      "left": null,
      "margin": null,
      "max_height": null,
      "max_width": null,
      "min_height": null,
      "min_width": null,
      "object_fit": null,
      "object_position": null,
      "order": null,
      "overflow": null,
      "overflow_x": null,
      "overflow_y": null,
      "padding": null,
      "right": null,
      "top": null,
      "visibility": null,
      "width": null
     }
    },
    "51dd1aa22f7d45ccbd3ba766bb232b57": {
     "model_module": "@jupyter-widgets/base",
     "model_name": "LayoutModel",
     "state": {
      "_model_module": "@jupyter-widgets/base",
      "_model_module_version": "1.2.0",
      "_model_name": "LayoutModel",
      "_view_count": null,
      "_view_module": "@jupyter-widgets/base",
      "_view_module_version": "1.2.0",
      "_view_name": "LayoutView",
      "align_content": null,
      "align_items": null,
      "align_self": null,
      "border": null,
      "bottom": null,
      "display": null,
      "flex": null,
      "flex_flow": null,
      "grid_area": null,
      "grid_auto_columns": null,
      "grid_auto_flow": null,
      "grid_auto_rows": null,
      "grid_column": null,
      "grid_gap": null,
      "grid_row": null,
      "grid_template_areas": null,
      "grid_template_columns": null,
      "grid_template_rows": null,
      "height": null,
      "justify_content": null,
      "justify_items": null,
      "left": null,
      "margin": null,
      "max_height": null,
      "max_width": null,
      "min_height": null,
      "min_width": null,
      "object_fit": null,
      "object_position": null,
      "order": null,
      "overflow": null,
      "overflow_x": null,
      "overflow_y": null,
      "padding": null,
      "right": null,
      "top": null,
      "visibility": null,
      "width": null
     }
    },
    "5369f73e7d934a68a3478189b5a136b6": {
     "model_module": "@jupyter-widgets/controls",
     "model_name": "FloatProgressModel",
     "state": {
      "_dom_classes": [],
      "_model_module": "@jupyter-widgets/controls",
      "_model_module_version": "1.5.0",
      "_model_name": "FloatProgressModel",
      "_view_count": null,
      "_view_module": "@jupyter-widgets/controls",
      "_view_module_version": "1.5.0",
      "_view_name": "ProgressView",
      "bar_style": "",
      "description": " 14%",
      "description_tooltip": null,
      "layout": "IPY_MODEL_4dcd4b491d694b0aa25514b8486cf3f8",
      "max": 37408,
      "min": 0,
      "orientation": "horizontal",
      "style": "IPY_MODEL_44bf4a5432b34d269a82bce24d4e46b3",
      "value": 5274
     }
    },
    "5c20409065a347d18e1ab6bde4c5a0ba": {
     "model_module": "@jupyter-widgets/base",
     "model_name": "LayoutModel",
     "state": {
      "_model_module": "@jupyter-widgets/base",
      "_model_module_version": "1.2.0",
      "_model_name": "LayoutModel",
      "_view_count": null,
      "_view_module": "@jupyter-widgets/base",
      "_view_module_version": "1.2.0",
      "_view_name": "LayoutView",
      "align_content": null,
      "align_items": null,
      "align_self": null,
      "border": null,
      "bottom": null,
      "display": null,
      "flex": null,
      "flex_flow": null,
      "grid_area": null,
      "grid_auto_columns": null,
      "grid_auto_flow": null,
      "grid_auto_rows": null,
      "grid_column": null,
      "grid_gap": null,
      "grid_row": null,
      "grid_template_areas": null,
      "grid_template_columns": null,
      "grid_template_rows": null,
      "height": null,
      "justify_content": null,
      "justify_items": null,
      "left": null,
      "margin": null,
      "max_height": null,
      "max_width": null,
      "min_height": null,
      "min_width": null,
      "object_fit": null,
      "object_position": null,
      "order": null,
      "overflow": null,
      "overflow_x": null,
      "overflow_y": null,
      "padding": null,
      "right": null,
      "top": null,
      "visibility": null,
      "width": null
     }
    },
    "846b5c7701bc49e4be2a7681d5361dd8": {
     "model_module": "@jupyter-widgets/controls",
     "model_name": "HTMLModel",
     "state": {
      "_dom_classes": [],
      "_model_module": "@jupyter-widgets/controls",
      "_model_module_version": "1.5.0",
      "_model_name": "HTMLModel",
      "_view_count": null,
      "_view_module": "@jupyter-widgets/controls",
      "_view_module_version": "1.5.0",
      "_view_name": "HTMLView",
      "description": "",
      "description_tooltip": null,
      "layout": "IPY_MODEL_5c20409065a347d18e1ab6bde4c5a0ba",
      "placeholder": "​",
      "style": "IPY_MODEL_cee50571766e465b81cd2d06ac0a4d31",
      "value": " 200/200 [00:52&lt;00:00,  3.85it/s]"
     }
    },
    "94d411d6977f493894ec3c8b5975f693": {
     "model_module": "@jupyter-widgets/controls",
     "model_name": "FloatProgressModel",
     "state": {
      "_dom_classes": [],
      "_model_module": "@jupyter-widgets/controls",
      "_model_module_version": "1.5.0",
      "_model_name": "FloatProgressModel",
      "_view_count": null,
      "_view_module": "@jupyter-widgets/controls",
      "_view_module_version": "1.5.0",
      "_view_name": "ProgressView",
      "bar_style": "success",
      "description": "100%",
      "description_tooltip": null,
      "layout": "IPY_MODEL_b8ce72deb0c34c35a99b91bbc9b5504c",
      "max": 200,
      "min": 0,
      "orientation": "horizontal",
      "style": "IPY_MODEL_2e8643a34a7143e284ed8e94aaca32d7",
      "value": 200
     }
    },
    "b8ce72deb0c34c35a99b91bbc9b5504c": {
     "model_module": "@jupyter-widgets/base",
     "model_name": "LayoutModel",
     "state": {
      "_model_module": "@jupyter-widgets/base",
      "_model_module_version": "1.2.0",
      "_model_name": "LayoutModel",
      "_view_count": null,
      "_view_module": "@jupyter-widgets/base",
      "_view_module_version": "1.2.0",
      "_view_name": "LayoutView",
      "align_content": null,
      "align_items": null,
      "align_self": null,
      "border": null,
      "bottom": null,
      "display": null,
      "flex": null,
      "flex_flow": null,
      "grid_area": null,
      "grid_auto_columns": null,
      "grid_auto_flow": null,
      "grid_auto_rows": null,
      "grid_column": null,
      "grid_gap": null,
      "grid_row": null,
      "grid_template_areas": null,
      "grid_template_columns": null,
      "grid_template_rows": null,
      "height": null,
      "justify_content": null,
      "justify_items": null,
      "left": null,
      "margin": null,
      "max_height": null,
      "max_width": null,
      "min_height": null,
      "min_width": null,
      "object_fit": null,
      "object_position": null,
      "order": null,
      "overflow": null,
      "overflow_x": null,
      "overflow_y": null,
      "padding": null,
      "right": null,
      "top": null,
      "visibility": null,
      "width": null
     }
    },
    "b8ee6c0914474dab8186285123c3c25a": {
     "model_module": "@jupyter-widgets/controls",
     "model_name": "HBoxModel",
     "state": {
      "_dom_classes": [],
      "_model_module": "@jupyter-widgets/controls",
      "_model_module_version": "1.5.0",
      "_model_name": "HBoxModel",
      "_view_count": null,
      "_view_module": "@jupyter-widgets/controls",
      "_view_module_version": "1.5.0",
      "_view_name": "HBoxView",
      "box_style": "",
      "children": [
       "IPY_MODEL_94d411d6977f493894ec3c8b5975f693",
       "IPY_MODEL_846b5c7701bc49e4be2a7681d5361dd8"
      ],
      "layout": "IPY_MODEL_1029c3cb5c264802a7bd45639c1a7c20"
     }
    },
    "c3f9b287331c4447a3858c3fed906a66": {
     "model_module": "@jupyter-widgets/controls",
     "model_name": "HBoxModel",
     "state": {
      "_dom_classes": [],
      "_model_module": "@jupyter-widgets/controls",
      "_model_module_version": "1.5.0",
      "_model_name": "HBoxModel",
      "_view_count": null,
      "_view_module": "@jupyter-widgets/controls",
      "_view_module_version": "1.5.0",
      "_view_name": "HBoxView",
      "box_style": "",
      "children": [
       "IPY_MODEL_5369f73e7d934a68a3478189b5a136b6",
       "IPY_MODEL_f02ad7bad6f74da69de3557e8b7e3b92"
      ],
      "layout": "IPY_MODEL_dc810a1b5ae545a09ef4b77e92695a36"
     }
    },
    "cee50571766e465b81cd2d06ac0a4d31": {
     "model_module": "@jupyter-widgets/controls",
     "model_name": "DescriptionStyleModel",
     "state": {
      "_model_module": "@jupyter-widgets/controls",
      "_model_module_version": "1.5.0",
      "_model_name": "DescriptionStyleModel",
      "_view_count": null,
      "_view_module": "@jupyter-widgets/base",
      "_view_module_version": "1.2.0",
      "_view_name": "StyleView",
      "description_width": ""
     }
    },
    "dc810a1b5ae545a09ef4b77e92695a36": {
     "model_module": "@jupyter-widgets/base",
     "model_name": "LayoutModel",
     "state": {
      "_model_module": "@jupyter-widgets/base",
      "_model_module_version": "1.2.0",
      "_model_name": "LayoutModel",
      "_view_count": null,
      "_view_module": "@jupyter-widgets/base",
      "_view_module_version": "1.2.0",
      "_view_name": "LayoutView",
      "align_content": null,
      "align_items": null,
      "align_self": null,
      "border": null,
      "bottom": null,
      "display": null,
      "flex": null,
      "flex_flow": null,
      "grid_area": null,
      "grid_auto_columns": null,
      "grid_auto_flow": null,
      "grid_auto_rows": null,
      "grid_column": null,
      "grid_gap": null,
      "grid_row": null,
      "grid_template_areas": null,
      "grid_template_columns": null,
      "grid_template_rows": null,
      "height": null,
      "justify_content": null,
      "justify_items": null,
      "left": null,
      "margin": null,
      "max_height": null,
      "max_width": null,
      "min_height": null,
      "min_width": null,
      "object_fit": null,
      "object_position": null,
      "order": null,
      "overflow": null,
      "overflow_x": null,
      "overflow_y": null,
      "padding": null,
      "right": null,
      "top": null,
      "visibility": null,
      "width": null
     }
    },
    "eb223b5836d04aaea284e26e6a3a6a1a": {
     "model_module": "@jupyter-widgets/controls",
     "model_name": "DescriptionStyleModel",
     "state": {
      "_model_module": "@jupyter-widgets/controls",
      "_model_module_version": "1.5.0",
      "_model_name": "DescriptionStyleModel",
      "_view_count": null,
      "_view_module": "@jupyter-widgets/base",
      "_view_module_version": "1.2.0",
      "_view_name": "StyleView",
      "description_width": ""
     }
    },
    "f02ad7bad6f74da69de3557e8b7e3b92": {
     "model_module": "@jupyter-widgets/controls",
     "model_name": "HTMLModel",
     "state": {
      "_dom_classes": [],
      "_model_module": "@jupyter-widgets/controls",
      "_model_module_version": "1.5.0",
      "_model_name": "HTMLModel",
      "_view_count": null,
      "_view_module": "@jupyter-widgets/controls",
      "_view_module_version": "1.5.0",
      "_view_name": "HTMLView",
      "description": "",
      "description_tooltip": null,
      "layout": "IPY_MODEL_51dd1aa22f7d45ccbd3ba766bb232b57",
      "placeholder": "​",
      "style": "IPY_MODEL_eb223b5836d04aaea284e26e6a3a6a1a",
      "value": " 5274/37408 [06:38&lt;40:12, 13.32it/s]"
     }
    }
   }
  }
 },
 "nbformat": 4,
 "nbformat_minor": 4
}

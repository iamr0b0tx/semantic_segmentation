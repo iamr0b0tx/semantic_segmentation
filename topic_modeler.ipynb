{
 "cells": [
  {
   "cell_type": "code",
   "execution_count": 1,
   "metadata": {
    "colab": {},
    "colab_type": "code",
    "id": "QfWTxubYcMxR"
   },
   "outputs": [],
   "source": [
    "%load_ext autoreload\n",
    "%autoreload 2"
   ]
  },
  {
   "cell_type": "markdown",
   "metadata": {
    "colab_type": "text",
    "id": "zS4cUkmGcMxd"
   },
   "source": [
    "### imports and utilities"
   ]
  },
  {
   "cell_type": "code",
   "execution_count": 2,
   "metadata": {
    "colab": {
     "base_uri": "https://localhost:8080/",
     "height": 224
    },
    "colab_type": "code",
    "id": "y8zAmrhTcMxe",
    "outputId": "c6f3bac6-21a3-449f-b17e-4d7d1c8a51b1"
   },
   "outputs": [],
   "source": [
    "!pip install nltk scikit-learn matplotlib scipy -q"
   ]
  },
  {
   "cell_type": "code",
   "execution_count": 3,
   "metadata": {
    "colab": {
     "base_uri": "https://localhost:8080/",
     "height": 153
    },
    "colab_type": "code",
    "id": "qOriDeG8cMxl",
    "outputId": "a4b003fc-c8fb-4937-e900-b5807b0d6d53"
   },
   "outputs": [
    {
     "name": "stderr",
     "output_type": "stream",
     "text": [
      "[nltk_data] Error loading punkt: <urlopen error [Errno 11001]\n",
      "[nltk_data]     getaddrinfo failed>\n",
      "[nltk_data] Error loading wordnet: <urlopen error [Errno 11001]\n",
      "[nltk_data]     getaddrinfo failed>\n",
      "[nltk_data] Error loading averaged_perceptron_tagger: <urlopen error\n",
      "[nltk_data]     [Errno 11001] getaddrinfo failed>\n"
     ]
    },
    {
     "data": {
      "text/plain": [
       "False"
      ]
     },
     "execution_count": 3,
     "metadata": {},
     "output_type": "execute_result"
    }
   ],
   "source": [
    "import nltk\n",
    "nltk.download('punkt')\n",
    "nltk.download('wordnet')\n",
    "nltk.download('averaged_perceptron_tagger')"
   ]
  },
  {
   "cell_type": "code",
   "execution_count": 4,
   "metadata": {
    "colab": {},
    "colab_type": "code",
    "id": "3liQaMKccMxs"
   },
   "outputs": [
    {
     "name": "stderr",
     "output_type": "stream",
     "text": [
      "In C:\\Program Files\\Python37\\lib\\site-packages\\matplotlib\\mpl-data\\stylelib\\_classic_test.mplstyle: \n",
      "The savefig.frameon rcparam was deprecated in Matplotlib 3.1 and will be removed in 3.3.\n",
      "In C:\\Program Files\\Python37\\lib\\site-packages\\matplotlib\\mpl-data\\stylelib\\_classic_test.mplstyle: \n",
      "The verbose.level rcparam was deprecated in Matplotlib 3.1 and will be removed in 3.3.\n",
      "In C:\\Program Files\\Python37\\lib\\site-packages\\matplotlib\\mpl-data\\stylelib\\_classic_test.mplstyle: \n",
      "The verbose.fileo rcparam was deprecated in Matplotlib 3.1 and will be removed in 3.3.\n"
     ]
    }
   ],
   "source": [
    "from collections import Counter\n",
    "from utils import *\n",
    "\n",
    "import numpy as np\n",
    "import pandas as pd\n",
    "import matplotlib.pyplot as plt\n",
    "\n",
    "from tqdm.notebook import tqdm\n",
    "from scipy.special import softmax\n",
    "from scipy.stats import norm\n",
    "from scipy.stats import entropy as calculate_entropy\n",
    "\n",
    "from sklearn.model_selection import train_test_split\n",
    "from sklearn.decomposition import PCA\n",
    "from sklearn.preprocessing import normalize\n",
    "from sklearn.datasets import fetch_20newsgroups\n",
    "from sklearn.cluster import KMeans, MiniBatchKMeans\n",
    "from sklearn.metrics.pairwise import cosine_similarity\n",
    "from sklearn.feature_extraction.text import CountVectorizer, TfidfVectorizer"
   ]
  },
  {
   "cell_type": "markdown",
   "metadata": {
    "colab_type": "text",
    "id": "gQtq2JhkcMxz"
   },
   "source": [
    "### load dataset"
   ]
  },
  {
   "cell_type": "code",
   "execution_count": 72,
   "metadata": {
    "colab": {
     "base_uri": "https://localhost:8080/",
     "height": 51
    },
    "colab_type": "code",
    "id": "vR1db5rUcMx0",
    "outputId": "8498f3d2-9ac1-4952-8ad6-85b2c076f94a"
   },
   "outputs": [],
   "source": [
    "dataset = \"newsgroup\"\n",
    "\n",
    "# total number of samples needed\n",
    "randomize = False\n",
    "\n",
    "# retrieve dataset\n",
    "categories = ['rec.autos', 'talk.politics.mideast', 'alt.atheism', 'sci.space']\n",
    "\n",
    "all_docs = fetch_20newsgroups(subset='train', shuffle=randomize, remove=('headers', 'footers', 'quotes'), categories=categories)\n",
    "all_docs, old_labels, categories = all_docs.data, all_docs.target, all_docs.target_names"
   ]
  },
  {
   "cell_type": "code",
   "execution_count": 6,
   "metadata": {
    "colab": {},
    "colab_type": "code",
    "id": "xd-imY-icMx8"
   },
   "outputs": [],
   "source": [
    "# dataset = \"bbc\"\n",
    "\n",
    "# data = pd.read_csv('bbcsport.csv')\n",
    "\n",
    "# all_docs = data[\"text\"].to_list()\n",
    "# old_labels = data[\"topic\"].to_list()\n",
    "# categories = classes = np.unique(data[\"topic\"]).tolist()"
   ]
  },
  {
   "cell_type": "markdown",
   "metadata": {
    "colab_type": "text",
    "id": "WYe4XYDfcMyI"
   },
   "source": [
    "### clean dataset"
   ]
  },
  {
   "cell_type": "code",
   "execution_count": 74,
   "metadata": {
    "colab": {
     "base_uri": "https://localhost:8080/",
     "height": 66,
     "referenced_widgets": [
      "b8ee6c0914474dab8186285123c3c25a",
      "1029c3cb5c264802a7bd45639c1a7c20",
      "94d411d6977f493894ec3c8b5975f693",
      "846b5c7701bc49e4be2a7681d5361dd8",
      "2e8643a34a7143e284ed8e94aaca32d7",
      "b8ce72deb0c34c35a99b91bbc9b5504c",
      "cee50571766e465b81cd2d06ac0a4d31",
      "5c20409065a347d18e1ab6bde4c5a0ba"
     ]
    },
    "colab_type": "code",
    "id": "RgG4w-qpcMyJ",
    "outputId": "142478ec-50d6-4c3a-f6fb-db0ee38fcb1a"
   },
   "outputs": [
    {
     "data": {
      "application/vnd.jupyter.widget-view+json": {
       "model_id": "cd68444af1aa4b588e82f12e60579d49",
       "version_major": 2,
       "version_minor": 0
      },
      "text/plain": [
       "HBox(children=(FloatProgress(value=0.0, max=360.0), HTML(value='')))"
      ]
     },
     "metadata": {},
     "output_type": "display_data"
    },
    {
     "name": "stdout",
     "output_type": "stream",
     "text": [
      "\n"
     ]
    }
   ],
   "source": [
    "datasize = 90\n",
    "min_document_length = 256\n",
    "max_document_length = 512\n",
    "\n",
    "\n",
    "index = -1\n",
    "docs, labels, label_indices = [], [], []\n",
    "\n",
    "sizes = [0]*len(categories)\n",
    "\n",
    "with tqdm(total=len(categories)*datasize) as pbar:\n",
    "    while sum(sizes) != len(categories)*datasize:\n",
    "        index += 1\n",
    "        label_index = old_labels[index]\n",
    "            \n",
    "        if sizes[label_index] == datasize:\n",
    "            continue\n",
    "        \n",
    "        doc = all_docs[index]\n",
    "        status, doc, word_count = clean_doc(doc, True)\n",
    "        \n",
    "        if not status:\n",
    "            continue\n",
    "            \n",
    "        if min_document_length is not None and len(doc) < min_document_length:\n",
    "            continue\n",
    "            \n",
    "        if max_document_length is not None and len(doc) > max_document_length:\n",
    "            continue\n",
    "        \n",
    "        label_indices.append(label_index)\n",
    "        labels.append(categories[label_index])\n",
    "        \n",
    "        docs.append(doc)\n",
    "        sizes[label_index] += 1\n",
    "        pbar.update(1)\n",
    "\n",
    "labels = np.array(labels)\n",
    "label_indices = np.array(label_indices)"
   ]
  },
  {
   "cell_type": "code",
   "execution_count": 75,
   "metadata": {
    "colab": {
     "base_uri": "https://localhost:8080/",
     "height": 88
    },
    "colab_type": "code",
    "id": "_eBXjBUecMyU",
    "outputId": "12f081a4-fab6-4de7-f36f-62399abaa5b8"
   },
   "outputs": [
    {
     "name": "stdout",
     "output_type": "stream",
     "text": [
      "Topic: sci.space\n",
      "==================================================\n",
      "sorry folk i should have do this and meant to just after i hit the send key orbital element of comet 1977vii from dance file p au 3 424346 e 0 151899 i 1 0988 cap omega 0 243 5652 w 0 231 1607 epoch 1977 04110 also perihelion of gehrels3 be april 1973 83 jupiter radius august 1970 3 jupiter radius hope this help i m even le of an orbital mechanic than i be an artist\n"
     ]
    }
   ],
   "source": [
    "index = 3\n",
    "print(f\"Topic: {labels[index]}\\n{'='*50}\\n{docs[index][:512]}\")"
   ]
  },
  {
   "cell_type": "code",
   "execution_count": 76,
   "metadata": {
    "colab": {
     "base_uri": "https://localhost:8080/",
     "height": 34
    },
    "colab_type": "code",
    "id": "KS5PW7qHcMyb",
    "outputId": "d83a2010-8955-4c8f-f2d6-be15ecad2198"
   },
   "outputs": [
    {
     "name": "stdout",
     "output_type": "stream",
     "text": [
      "[90, 90, 90, 90]\n"
     ]
    }
   ],
   "source": [
    "print(sizes)\n",
    "assert min(sizes) == max(sizes) == datasize"
   ]
  },
  {
   "cell_type": "markdown",
   "metadata": {},
   "source": [
    "## Split data"
   ]
  },
  {
   "cell_type": "code",
   "execution_count": 77,
   "metadata": {},
   "outputs": [],
   "source": [
    "x_train, x_test, y_train, y_test = train_test_split(docs, labels, test_size =.3)"
   ]
  },
  {
   "cell_type": "code",
   "execution_count": 78,
   "metadata": {
    "colab": {
     "base_uri": "https://localhost:8080/",
     "height": 34
    },
    "colab_type": "code",
    "id": "s8R3CeUBcMyg",
    "outputId": "adcba1c9-85ae-428d-ff5f-ba33bd7beef8",
    "scrolled": false
   },
   "outputs": [
    {
     "name": "stdout",
     "output_type": "stream",
     "text": [
      "there are 360 total docs, 252 train and 108 test\n"
     ]
    }
   ],
   "source": [
    "print(f\"there are {len(docs)} total docs, {len(y_train)} train and {len(y_test)} test\")"
   ]
  },
  {
   "cell_type": "markdown",
   "metadata": {
    "colab_type": "text",
    "id": "-OUac83RcMyl"
   },
   "source": [
    "### Initialize Vectorizer"
   ]
  },
  {
   "cell_type": "code",
   "execution_count": 79,
   "metadata": {
    "colab": {
     "base_uri": "https://localhost:8080/",
     "height": 34
    },
    "colab_type": "code",
    "id": "ZCBHEIyEcMyn",
    "outputId": "18cbf825-2576-4937-908b-ce0cc5a29150"
   },
   "outputs": [
    {
     "name": "stdout",
     "output_type": "stream",
     "text": [
      "word_count is 3642\n"
     ]
    }
   ],
   "source": [
    "# initialize the count vectorizer\n",
    "vectorizer = CountVectorizer()\n",
    "\n",
    "# fit it to dataset\n",
    "vectorizer.fit(x_train)\n",
    "\n",
    "vocabulary = np.array(vectorizer.get_feature_names())\n",
    "print(\"word_count is\", len(vocabulary))"
   ]
  },
  {
   "cell_type": "markdown",
   "metadata": {
    "colab_type": "text",
    "id": "UKomwY7acMyz"
   },
   "source": [
    "### Prepare Datatset"
   ]
  },
  {
   "cell_type": "code",
   "execution_count": 362,
   "metadata": {
    "colab": {
     "base_uri": "https://localhost:8080/",
     "height": 34
    },
    "colab_type": "code",
    "id": "IIYeZA4EcMy0",
    "outputId": "da04274f-82f4-49a5-8be6-d1c9230aa835"
   },
   "outputs": [],
   "source": [
    "# create doc count vectors\n",
    "train_doc_vectors = vectorizer.transform(x_train).toarray()\n",
    "test_doc_vectors = vectorizer.transform(x_test).toarray()"
   ]
  },
  {
   "cell_type": "code",
   "execution_count": 383,
   "metadata": {},
   "outputs": [],
   "source": [
    "# reduce freq in doc to bin value of 1 or 0\n",
    "binary = False\n",
    "\n",
    "word_freq_in_doc_train = pd.DataFrame(train_doc_vectors, columns=vocabulary)\n",
    "word_freq_in_doc_test = pd.DataFrame(test_doc_vectors, columns=vocabulary)\n",
    "\n",
    "word_doc_frequency_norm_train = (word_freq_in_doc_train.T / word_freq_in_doc_train.sum(1)).T\n",
    "word_doc_frequency_norm_test = (word_freq_in_doc_test.T / word_freq_in_doc_test.sum(1)).T\n",
    "\n",
    "if binary:\n",
    "    wdf_train = (word_doc_frequency_norm_train > 0).astype(int)\n",
    "    wdf_test = (word_doc_frequency_norm_test > 0).astype(int)\n",
    "    \n",
    "else:    \n",
    "    wdf_train = word_doc_frequency_norm_train.copy()\n",
    "    wdf_test = word_doc_frequency_norm_test.copy()"
   ]
  },
  {
   "cell_type": "markdown",
   "metadata": {},
   "source": [
    "## Word Topic Probability Distr"
   ]
  },
  {
   "cell_type": "code",
   "execution_count": 384,
   "metadata": {},
   "outputs": [
    {
     "data": {
      "application/vnd.jupyter.widget-view+json": {
       "model_id": "97e0dc4b82ad4b81bf75afd16006b987",
       "version_major": 2,
       "version_minor": 0
      },
      "text/plain": [
       "HBox(children=(FloatProgress(value=0.0, max=4.0), HTML(value='')))"
      ]
     },
     "metadata": {},
     "output_type": "display_data"
    },
    {
     "name": "stdout",
     "output_type": "stream",
     "text": [
      "\n",
      "word_topic_pr_distr shape = (3642, 4)\n"
     ]
    }
   ],
   "source": [
    "wdt_train = wdf_train.copy()\n",
    "wdt_test = wdf_test.copy()\n",
    "\n",
    "wdt_test[\"__labels__\"] = y_test\n",
    "wdt_train[\"__labels__\"] = y_train\n",
    "\n",
    "word_doc_count = wdf_train.sum(0)\n",
    "topic_doc_count = pd.DataFrame(Counter(y_train), index=[0]).T[0]\n",
    "word_topic_pr_distr = pd.DataFrame(data=0.0, columns=categories, index=vocabulary)\n",
    "\n",
    "for category in tqdm(categories):\n",
    "    pxy = wdf_train[wdt_train[\"__labels__\"] == category].sum(0) / topic_doc_count[category]\n",
    "    word_topic_pr_distr[category] = pxy * (topic_doc_count[category] / word_doc_count)\n",
    "\n",
    "print(f\"word_topic_pr_distr shape = {word_topic_pr_distr.shape}\")"
   ]
  },
  {
   "cell_type": "code",
   "execution_count": 385,
   "metadata": {
    "scrolled": false
   },
   "outputs": [
    {
     "data": {
      "text/html": [
       "<div>\n",
       "<style scoped>\n",
       "    .dataframe tbody tr th:only-of-type {\n",
       "        vertical-align: middle;\n",
       "    }\n",
       "\n",
       "    .dataframe tbody tr th {\n",
       "        vertical-align: top;\n",
       "    }\n",
       "\n",
       "    .dataframe thead th {\n",
       "        text-align: right;\n",
       "    }\n",
       "</style>\n",
       "<table border=\"1\" class=\"dataframe\">\n",
       "  <thead>\n",
       "    <tr style=\"text-align: right;\">\n",
       "      <th></th>\n",
       "      <th>alt.atheism</th>\n",
       "      <th>rec.autos</th>\n",
       "      <th>sci.space</th>\n",
       "      <th>talk.politics.mideast</th>\n",
       "    </tr>\n",
       "  </thead>\n",
       "  <tbody>\n",
       "    <tr>\n",
       "      <th>00</th>\n",
       "      <td>0.000000</td>\n",
       "      <td>0.411765</td>\n",
       "      <td>0.588235</td>\n",
       "      <td>0.000000</td>\n",
       "    </tr>\n",
       "    <tr>\n",
       "      <th>000</th>\n",
       "      <td>0.868217</td>\n",
       "      <td>0.000000</td>\n",
       "      <td>0.000000</td>\n",
       "      <td>0.131783</td>\n",
       "    </tr>\n",
       "    <tr>\n",
       "      <th>000mi</th>\n",
       "      <td>0.000000</td>\n",
       "      <td>1.000000</td>\n",
       "      <td>0.000000</td>\n",
       "      <td>0.000000</td>\n",
       "    </tr>\n",
       "    <tr>\n",
       "      <th>02</th>\n",
       "      <td>0.000000</td>\n",
       "      <td>1.000000</td>\n",
       "      <td>0.000000</td>\n",
       "      <td>0.000000</td>\n",
       "    </tr>\n",
       "    <tr>\n",
       "      <th>034101</th>\n",
       "      <td>0.000000</td>\n",
       "      <td>0.000000</td>\n",
       "      <td>1.000000</td>\n",
       "      <td>0.000000</td>\n",
       "    </tr>\n",
       "  </tbody>\n",
       "</table>\n",
       "</div>"
      ],
      "text/plain": [
       "        alt.atheism  rec.autos  sci.space  talk.politics.mideast\n",
       "00         0.000000   0.411765   0.588235               0.000000\n",
       "000        0.868217   0.000000   0.000000               0.131783\n",
       "000mi      0.000000   1.000000   0.000000               0.000000\n",
       "02         0.000000   1.000000   0.000000               0.000000\n",
       "034101     0.000000   0.000000   1.000000               0.000000"
      ]
     },
     "execution_count": 385,
     "metadata": {},
     "output_type": "execute_result"
    }
   ],
   "source": [
    "word_topic_pr_distr.head()"
   ]
  },
  {
   "cell_type": "code",
   "execution_count": 386,
   "metadata": {},
   "outputs": [
    {
     "name": "stdout",
     "output_type": "stream",
     "text": [
      "Topwords: Topic - talk.politics.mideast\n",
      "==================================================\n"
     ]
    },
    {
     "data": {
      "text/plain": [
       "discriminatory    1.0\n",
       "eece              1.0\n",
       "2300              1.0\n",
       "whoever           1.0\n",
       "tesiel            1.0\n",
       "affirmative       1.0\n",
       "finding           1.0\n",
       "text              1.0\n",
       "1948              1.0\n",
       "moron             1.0\n",
       "Name: talk.politics.mideast, dtype: float64"
      ]
     },
     "execution_count": 386,
     "metadata": {},
     "output_type": "execute_result"
    }
   ],
   "source": [
    "topic_index = 3\n",
    "topic = categories[topic_index]\n",
    "\n",
    "print(f\"Topwords: Topic - {topic}\\n{'='*50}\")\n",
    "word_topic_pr_distr[topic].sort_values(ascending=False).head(10)"
   ]
  },
  {
   "cell_type": "code",
   "execution_count": 387,
   "metadata": {
    "scrolled": true
   },
   "outputs": [
    {
     "data": {
      "image/png": "[encoded data removed]",
      "text/plain": [
       "<Figure size 1080x360 with 2 Axes>"
      ]
     },
     "metadata": {
      "needs_background": "light"
     },
     "output_type": "display_data"
    }
   ],
   "source": [
    "word = \"space\"\n",
    "\n",
    "fig = plt.figure(figsize=(15, 5), tight_layout=True)\n",
    "ax11 = fig.add_subplot(121)\n",
    "ax12 = fig.add_subplot(122)\n",
    "\n",
    "ax11.set_title(f\"{word} against TOPICS relation\")\n",
    "ax11.bar(word_topic_pr_distr.columns, word_topic_pr_distr.loc[word])\n",
    "\n",
    "word_topic_freq = Counter(wdt_train[\"__labels__\"][wdt_train[word] > 0])\n",
    "freqs = []\n",
    "for topic in word_topic_pr_distr.columns:\n",
    "#     freqs.append(word_topic_freq[topic])\n",
    "    freqs.append(word_topic_freq[topic] / topic_doc_count[topic])\n",
    "\n",
    "ax12.set_title(f\"{word} against Words Frequency\")\n",
    "ax12.bar(word_topic_pr_distr.columns, freqs)\n",
    "\n",
    "plt.show()"
   ]
  },
  {
   "cell_type": "markdown",
   "metadata": {},
   "source": [
    "### Quick Topic Inference"
   ]
  },
  {
   "cell_type": "code",
   "execution_count": 388,
   "metadata": {},
   "outputs": [
    {
     "name": "stdout",
     "output_type": "stream",
     "text": [
      "Document: 6, Topic: alt.atheism\n",
      "==================================================\n",
      "no that s pray on the young prey on the young come later when the bright eyed little altar boy find out what the priest really wear under that chasible bob beauchaine bobbe vice ico tek com they say that queen could stay they blew the bronx away and sank manhattan out at sea\n",
      "\n"
     ]
    }
   ],
   "source": [
    "doc_index = 0\n",
    "num_of_topwords = 8\n",
    "\n",
    "doc_index = 6\n",
    "print(f\"Document: {doc_index}, Topic: {y_train[doc_index]}\\n{'='*50}\\n{x_train[doc_index][:512]}\\n\")"
   ]
  },
  {
   "cell_type": "code",
   "execution_count": 389,
   "metadata": {},
   "outputs": [
    {
     "name": "stdout",
     "output_type": "stream",
     "text": [
      "Inference: Document 6\n",
      "==================================================\n",
      "actual = alt.atheism, predicted = alt.atheism\n",
      "\n"
     ]
    }
   ],
   "source": [
    "doc_vector = wdf_train.loc[doc_index]\n",
    "doc_word_topic_pr_distr, predicted_doc_topic = infer_topic(categories, doc_vector, word_topic_pr_distr)\n",
    "\n",
    "print(f\"Inference: Document {doc_index}\\n{'='*50}\")\n",
    "print(f\"actual = {wdt_train.loc[doc_index]['__labels__']}, predicted = {predicted_doc_topic}\\n\")"
   ]
  },
  {
   "cell_type": "code",
   "execution_count": 390,
   "metadata": {},
   "outputs": [
    {
     "name": "stdout",
     "output_type": "stream",
     "text": [
      "Topwords: Document 6\n",
      "==================================================\n",
      "the      0.094340\n",
      "that     0.056604\n",
      "on       0.037736\n",
      "out      0.037736\n",
      "they     0.037736\n",
      "young    0.037736\n",
      "and      0.018868\n",
      "boy      0.018868\n",
      "Name: 6, dtype: float64\n"
     ]
    }
   ],
   "source": [
    "print(f\"Topwords: Document {doc_index}\\n{'='*50}\")\n",
    "print(wdf_train.loc[doc_index].sort_values(ascending=False).head(num_of_topwords))"
   ]
  },
  {
   "cell_type": "code",
   "execution_count": 391,
   "metadata": {},
   "outputs": [
    {
     "data": {
      "image/png": "[encoded data removed]",
      "text/plain": [
       "<Figure size 432x288 with 1 Axes>"
      ]
     },
     "metadata": {
      "needs_background": "light"
     },
     "output_type": "display_data"
    }
   ],
   "source": [
    "plt.title(f\"Document {doc_index} against WORDS-TOPICS\")\n",
    "plt.bar(categories, doc_word_topic_pr_distr.sum(0))\n",
    "plt.show()"
   ]
  },
  {
   "cell_type": "markdown",
   "metadata": {},
   "source": [
    "### Topic Word Distr - Train Accuracy"
   ]
  },
  {
   "cell_type": "code",
   "execution_count": 392,
   "metadata": {},
   "outputs": [
    {
     "data": {
      "application/vnd.jupyter.widget-view+json": {
       "model_id": "a828c381e65a47dcbf6b9ec76b06ab55",
       "version_major": 2,
       "version_minor": 0
      },
      "text/plain": [
       "HBox(children=(FloatProgress(value=0.0, max=252.0), HTML(value='')))"
      ]
     },
     "metadata": {},
     "output_type": "display_data"
    },
    {
     "name": "stdout",
     "output_type": "stream",
     "text": [
      "\n",
      "train accuracy =  100.00%\n"
     ]
    }
   ],
   "source": [
    "score_train = 0\n",
    "for doc_index in tqdm(range(len(y_train))):\n",
    "    doc_vector = wdf_train.loc[doc_index]\n",
    "    _, predicted_doc_topic = infer_topic(categories, doc_vector, word_topic_pr_distr)\n",
    "    \n",
    "    mark = wdt_train.loc[doc_index]['__labels__'] == predicted_doc_topic\n",
    "    score_train += mark\n",
    "\n",
    "train_accuracy = score_train * 100 / len(y_train)\n",
    "print(f\"train accuracy = {train_accuracy: .2f}%\")"
   ]
  },
  {
   "cell_type": "markdown",
   "metadata": {},
   "source": [
    "### Topic Word Distr - Test Accuracy"
   ]
  },
  {
   "cell_type": "code",
   "execution_count": 393,
   "metadata": {
    "scrolled": true
   },
   "outputs": [
    {
     "data": {
      "application/vnd.jupyter.widget-view+json": {
       "model_id": "5603aea517a74639b65de5c2d4aa3373",
       "version_major": 2,
       "version_minor": 0
      },
      "text/plain": [
       "HBox(children=(FloatProgress(value=0.0, max=108.0), HTML(value='')))"
      ]
     },
     "metadata": {},
     "output_type": "display_data"
    },
    {
     "name": "stdout",
     "output_type": "stream",
     "text": [
      "\n",
      "test accuracy =  75.00%\n"
     ]
    }
   ],
   "source": [
    "score_test = 0\n",
    "for doc_index in tqdm(range(len(y_test))):\n",
    "    doc_vector = wdf_test.loc[doc_index]\n",
    "    _, predicted_doc_topic = infer_topic(categories, doc_vector, word_topic_pr_distr)\n",
    "    \n",
    "    mark = wdt_test.loc[doc_index]['__labels__'] == predicted_doc_topic\n",
    "    score_test += mark\n",
    "\n",
    "test_accuracy = score_test * 100 / len(y_test)\n",
    "print(f\"test accuracy = {test_accuracy: .2f}%\")"
   ]
  },
  {
   "cell_type": "markdown",
   "metadata": {},
   "source": [
    "### Overrall Accuracy"
   ]
  },
  {
   "cell_type": "code",
   "execution_count": 394,
   "metadata": {},
   "outputs": [
    {
     "name": "stdout",
     "output_type": "stream",
     "text": [
      "overall_accuracy =  87.50%\n"
     ]
    }
   ],
   "source": [
    "overall_accuracy = (train_accuracy + test_accuracy)/2\n",
    "print(f\"overall_accuracy = {overall_accuracy: .2f}%\")"
   ]
  },
  {
   "cell_type": "markdown",
   "metadata": {
    "colab_type": "text",
    "id": "SvE2EPU-cMy5"
   },
   "source": [
    "## Word Word Probability Distr"
   ]
  },
  {
   "cell_type": "code",
   "execution_count": 395,
   "metadata": {
    "colab": {
     "base_uri": "https://localhost:8080/",
     "height": 359,
     "referenced_widgets": [
      "c3f9b287331c4447a3858c3fed906a66",
      "dc810a1b5ae545a09ef4b77e92695a36",
      "5369f73e7d934a68a3478189b5a136b6",
      "f02ad7bad6f74da69de3557e8b7e3b92",
      "44bf4a5432b34d269a82bce24d4e46b3",
      "4dcd4b491d694b0aa25514b8486cf3f8",
      "eb223b5836d04aaea284e26e6a3a6a1a",
      "51dd1aa22f7d45ccbd3ba766bb232b57"
     ]
    },
    "colab_type": "code",
    "id": "uDugwezLcMzA",
    "outputId": "32a3e924-89bf-4247-a239-66bdc3f73c08",
    "scrolled": false
   },
   "outputs": [
    {
     "data": {
      "application/vnd.jupyter.widget-view+json": {
       "model_id": "82ac2d349c3b46ec99302d0f46db3129",
       "version_major": 2,
       "version_minor": 0
      },
      "text/plain": [
       "HBox(children=(FloatProgress(value=0.0, max=3642.0), HTML(value='')))"
      ]
     },
     "metadata": {},
     "output_type": "display_data"
    },
    {
     "name": "stdout",
     "output_type": "stream",
     "text": [
      "\n",
      "word_word_pr_distr shape = (3642, 3642)\n"
     ]
    }
   ],
   "source": [
    "word_word_pr_distr = pd.DataFrame(data=0.0, columns=vocabulary, index=vocabulary)\n",
    "\n",
    "for word in tqdm(vocabulary):\n",
    "    pxy = wdf_train[wdf_train[word] > 0].sum(0) / word_doc_count[word]\n",
    "#     pxy = (wdf_train.T * wdf_train[word]).sum(1)/ word_doc_count[word]\n",
    "    word_word_pr_distr[word] = pxy * (word_doc_count[word] / word_doc_count)\n",
    "\n",
    "print(f\"word_word_pr_distr shape = {word_word_pr_distr.shape}\")"
   ]
  },
  {
   "cell_type": "code",
   "execution_count": 396,
   "metadata": {
    "scrolled": false
   },
   "outputs": [
    {
     "data": {
      "text/html": [
       "<div>\n",
       "<style scoped>\n",
       "    .dataframe tbody tr th:only-of-type {\n",
       "        vertical-align: middle;\n",
       "    }\n",
       "\n",
       "    .dataframe tbody tr th {\n",
       "        vertical-align: top;\n",
       "    }\n",
       "\n",
       "    .dataframe thead th {\n",
       "        text-align: right;\n",
       "    }\n",
       "</style>\n",
       "<table border=\"1\" class=\"dataframe\">\n",
       "  <thead>\n",
       "    <tr style=\"text-align: right;\">\n",
       "      <th></th>\n",
       "      <th>00</th>\n",
       "      <th>000</th>\n",
       "      <th>000mi</th>\n",
       "      <th>02</th>\n",
       "      <th>034101</th>\n",
       "      <th>0565</th>\n",
       "      <th>09</th>\n",
       "      <th>10</th>\n",
       "      <th>100</th>\n",
       "      <th>1000</th>\n",
       "      <th>...</th>\n",
       "      <th>yuru</th>\n",
       "      <th>zealand</th>\n",
       "      <th>zeitgeist</th>\n",
       "      <th>zillion</th>\n",
       "      <th>zion</th>\n",
       "      <th>zionism</th>\n",
       "      <th>zionist</th>\n",
       "      <th>zip</th>\n",
       "      <th>zlumber</th>\n",
       "      <th>zu</th>\n",
       "    </tr>\n",
       "  </thead>\n",
       "  <tbody>\n",
       "    <tr>\n",
       "      <th>00</th>\n",
       "      <td>1.0</td>\n",
       "      <td>0.0</td>\n",
       "      <td>0.411765</td>\n",
       "      <td>0.0</td>\n",
       "      <td>0.0</td>\n",
       "      <td>0.0</td>\n",
       "      <td>0.0</td>\n",
       "      <td>0.588235</td>\n",
       "      <td>0.0</td>\n",
       "      <td>0.0</td>\n",
       "      <td>...</td>\n",
       "      <td>0.0</td>\n",
       "      <td>0.0</td>\n",
       "      <td>0.0</td>\n",
       "      <td>0.0</td>\n",
       "      <td>0.0</td>\n",
       "      <td>0.0</td>\n",
       "      <td>0.0</td>\n",
       "      <td>0.0</td>\n",
       "      <td>0.0</td>\n",
       "      <td>0.0</td>\n",
       "    </tr>\n",
       "    <tr>\n",
       "      <th>000</th>\n",
       "      <td>0.0</td>\n",
       "      <td>1.0</td>\n",
       "      <td>0.000000</td>\n",
       "      <td>0.0</td>\n",
       "      <td>0.0</td>\n",
       "      <td>0.0</td>\n",
       "      <td>0.0</td>\n",
       "      <td>0.000000</td>\n",
       "      <td>0.0</td>\n",
       "      <td>0.0</td>\n",
       "      <td>...</td>\n",
       "      <td>0.0</td>\n",
       "      <td>0.0</td>\n",
       "      <td>0.0</td>\n",
       "      <td>0.0</td>\n",
       "      <td>0.0</td>\n",
       "      <td>0.0</td>\n",
       "      <td>0.0</td>\n",
       "      <td>0.0</td>\n",
       "      <td>0.0</td>\n",
       "      <td>0.0</td>\n",
       "    </tr>\n",
       "    <tr>\n",
       "      <th>000mi</th>\n",
       "      <td>1.0</td>\n",
       "      <td>0.0</td>\n",
       "      <td>1.000000</td>\n",
       "      <td>0.0</td>\n",
       "      <td>0.0</td>\n",
       "      <td>0.0</td>\n",
       "      <td>0.0</td>\n",
       "      <td>0.000000</td>\n",
       "      <td>0.0</td>\n",
       "      <td>0.0</td>\n",
       "      <td>...</td>\n",
       "      <td>0.0</td>\n",
       "      <td>0.0</td>\n",
       "      <td>0.0</td>\n",
       "      <td>0.0</td>\n",
       "      <td>0.0</td>\n",
       "      <td>0.0</td>\n",
       "      <td>0.0</td>\n",
       "      <td>0.0</td>\n",
       "      <td>0.0</td>\n",
       "      <td>0.0</td>\n",
       "    </tr>\n",
       "    <tr>\n",
       "      <th>02</th>\n",
       "      <td>0.0</td>\n",
       "      <td>0.0</td>\n",
       "      <td>0.000000</td>\n",
       "      <td>1.0</td>\n",
       "      <td>0.0</td>\n",
       "      <td>0.0</td>\n",
       "      <td>0.0</td>\n",
       "      <td>0.000000</td>\n",
       "      <td>0.0</td>\n",
       "      <td>0.0</td>\n",
       "      <td>...</td>\n",
       "      <td>0.0</td>\n",
       "      <td>0.0</td>\n",
       "      <td>0.0</td>\n",
       "      <td>0.0</td>\n",
       "      <td>0.0</td>\n",
       "      <td>0.0</td>\n",
       "      <td>0.0</td>\n",
       "      <td>0.0</td>\n",
       "      <td>0.0</td>\n",
       "      <td>0.0</td>\n",
       "    </tr>\n",
       "    <tr>\n",
       "      <th>034101</th>\n",
       "      <td>0.0</td>\n",
       "      <td>0.0</td>\n",
       "      <td>0.000000</td>\n",
       "      <td>0.0</td>\n",
       "      <td>1.0</td>\n",
       "      <td>0.0</td>\n",
       "      <td>0.0</td>\n",
       "      <td>0.000000</td>\n",
       "      <td>0.0</td>\n",
       "      <td>0.0</td>\n",
       "      <td>...</td>\n",
       "      <td>0.0</td>\n",
       "      <td>0.0</td>\n",
       "      <td>0.0</td>\n",
       "      <td>1.0</td>\n",
       "      <td>0.0</td>\n",
       "      <td>0.0</td>\n",
       "      <td>0.0</td>\n",
       "      <td>0.0</td>\n",
       "      <td>0.0</td>\n",
       "      <td>0.0</td>\n",
       "    </tr>\n",
       "  </tbody>\n",
       "</table>\n",
       "<p>5 rows × 3642 columns</p>\n",
       "</div>"
      ],
      "text/plain": [
       "         00  000     000mi   02  034101  0565   09        10  100  1000  ...  \\\n",
       "00      1.0  0.0  0.411765  0.0     0.0   0.0  0.0  0.588235  0.0   0.0  ...   \n",
       "000     0.0  1.0  0.000000  0.0     0.0   0.0  0.0  0.000000  0.0   0.0  ...   \n",
       "000mi   1.0  0.0  1.000000  0.0     0.0   0.0  0.0  0.000000  0.0   0.0  ...   \n",
       "02      0.0  0.0  0.000000  1.0     0.0   0.0  0.0  0.000000  0.0   0.0  ...   \n",
       "034101  0.0  0.0  0.000000  0.0     1.0   0.0  0.0  0.000000  0.0   0.0  ...   \n",
       "\n",
       "        yuru  zealand  zeitgeist  zillion  zion  zionism  zionist  zip  \\\n",
       "00       0.0      0.0        0.0      0.0   0.0      0.0      0.0  0.0   \n",
       "000      0.0      0.0        0.0      0.0   0.0      0.0      0.0  0.0   \n",
       "000mi    0.0      0.0        0.0      0.0   0.0      0.0      0.0  0.0   \n",
       "02       0.0      0.0        0.0      0.0   0.0      0.0      0.0  0.0   \n",
       "034101   0.0      0.0        0.0      1.0   0.0      0.0      0.0  0.0   \n",
       "\n",
       "        zlumber   zu  \n",
       "00          0.0  0.0  \n",
       "000         0.0  0.0  \n",
       "000mi       0.0  0.0  \n",
       "02          0.0  0.0  \n",
       "034101      0.0  0.0  \n",
       "\n",
       "[5 rows x 3642 columns]"
      ]
     },
     "execution_count": 396,
     "metadata": {},
     "output_type": "execute_result"
    }
   ],
   "source": [
    "word_word_pr_distr.head()"
   ]
  },
  {
   "cell_type": "code",
   "execution_count": 397,
   "metadata": {
    "scrolled": true
   },
   "outputs": [
    {
     "name": "stdout",
     "output_type": "stream",
     "text": [
      "Topwords: Word - belongs\n",
      "==================================================\n"
     ]
    },
    {
     "data": {
      "text/plain": [
       "therefore         1.000000\n",
       "subset            1.000000\n",
       "mercedes          1.000000\n",
       "logically         1.000000\n",
       "logical           1.000000\n",
       "eternal           1.000000\n",
       "mathematically    1.000000\n",
       "belongs           1.000000\n",
       "jesus             0.837466\n",
       "girl              0.681081\n",
       "Name: belongs, dtype: float64"
      ]
     },
     "execution_count": 397,
     "metadata": {},
     "output_type": "execute_result"
    }
   ],
   "source": [
    "word = \"belongs\"\n",
    "\n",
    "print(f\"Topwords: Word - {word}\\n{'='*50}\")\n",
    "word_word_pr_distr[word].sort_values(ascending=False).head(10)"
   ]
  },
  {
   "cell_type": "code",
   "execution_count": 500,
   "metadata": {
    "scrolled": false
   },
   "outputs": [
    {
     "data": {
      "image/png": "[encoded data removed]",
      "text/plain": [
       "<Figure size 1080x360 with 3 Axes>"
      ]
     },
     "metadata": {
      "needs_background": "light"
     },
     "output_type": "display_data"
    }
   ],
   "source": [
    "word = \"space\"\n",
    "base_words = [\"space\", \"the\", \"war\", \"science\"]\n",
    "\n",
    "fig = plt.figure(figsize=(15, 5), tight_layout=True)\n",
    "ax11 = fig.add_subplot(131)\n",
    "ax12 = fig.add_subplot(132)\n",
    "ax13 = fig.add_subplot(133)\n",
    "\n",
    "ax11.set_title(f\"{word} against BASE_WORDS relation\")\n",
    "ax11.bar(base_words, word_word_pr_distr.loc[word][base_words])\n",
    "\n",
    "freqs, norm_freqs = [], []\n",
    "wdc = (wdt_train[base_words] > 0).sum(0)\n",
    "word_word_freq = (wdt_train[base_words][wdt_train[word] > 0] > 0).sum(0)\n",
    "\n",
    "for w in base_words:\n",
    "    freqs.append(word_word_freq[w])\n",
    "    norm_freqs.append(word_word_freq[w] / wdc[w])\n",
    "\n",
    "ax12.set_title(f\"{word} against BASE_WORDS Frequency\")\n",
    "ax12.bar(base_words, freqs)\n",
    "\n",
    "ax13.set_title(f\"{word} against BASE_WORDS Normalized Frequency\")\n",
    "ax13.bar(base_words, norm_freqs)\n",
    "\n",
    "plt.show()"
   ]
  },
  {
   "cell_type": "markdown",
   "metadata": {},
   "source": [
    "## Word-Doc Distr"
   ]
  },
  {
   "cell_type": "code",
   "execution_count": 469,
   "metadata": {},
   "outputs": [
    {
     "data": {
      "application/vnd.jupyter.widget-view+json": {
       "model_id": "8e7d1f467e224c42b2fa72d2493119d8",
       "version_major": 2,
       "version_minor": 0
      },
      "text/plain": [
       "HBox(children=(FloatProgress(value=0.0, max=252.0), HTML(value='')))"
      ]
     },
     "metadata": {},
     "output_type": "display_data"
    },
    {
     "name": "stdout",
     "output_type": "stream",
     "text": [
      "\n"
     ]
    },
    {
     "data": {
      "application/vnd.jupyter.widget-view+json": {
       "model_id": "748bcab12b2c4ff88ba56a5a15332cc2",
       "version_major": 2,
       "version_minor": 0
      },
      "text/plain": [
       "HBox(children=(FloatProgress(value=0.0, max=108.0), HTML(value='')))"
      ]
     },
     "metadata": {},
     "output_type": "display_data"
    },
    {
     "name": "stdout",
     "output_type": "stream",
     "text": [
      "\n"
     ]
    }
   ],
   "source": [
    "train_doc_vectors_prime = train_doc_vectors.copy().astype(float)\n",
    "test_doc_vectors_prime = test_doc_vectors.copy().astype(float)\n",
    "\n",
    "vectors = zip([train_doc_vectors, test_doc_vectors], [train_doc_vectors_prime, test_doc_vectors_prime])\n",
    "\n",
    "for tdoc_vectors, tdoc_vectors_prime in vectors:\n",
    "    for doc_index in tqdm(range(len(tdoc_vectors))):\n",
    "        doc_vector = tdoc_vectors[doc_index]\n",
    "        words = vocabulary[doc_vector > 0]\n",
    "        word_freq_vector = doc_vector[doc_vector > 0]\n",
    "\n",
    "        for word, freq in zip(words, word_freq_vector):\n",
    "            nv = freq*word_word_pr_distr.loc[word]\n",
    "#             tdoc_vectors_prime[doc_index][nv > tdoc_vectors_prime[doc_index]] = nv[nv > tdoc_vectors_prime[doc_index]]\n",
    "            tdoc_vectors_prime[doc_index] += nv\n",
    "#         tdoc_vectors_prime[doc_index] /= len(words)"
   ]
  },
  {
   "cell_type": "code",
   "execution_count": 470,
   "metadata": {},
   "outputs": [],
   "source": [
    "# reduce freq in doc to bin value of 1 or 0\n",
    "binary = False\n",
    "\n",
    "word_freq_in_doc_train = pd.DataFrame(train_doc_vectors_prime, columns=vocabulary)\n",
    "word_freq_in_doc_test = pd.DataFrame(test_doc_vectors_prime, columns=vocabulary)\n",
    "\n",
    "word_doc_frequency_norm_train = (word_freq_in_doc_train.T / word_freq_in_doc_train.sum(1)).T\n",
    "word_doc_frequency_norm_test = (word_freq_in_doc_test.T / word_freq_in_doc_test.sum(1)).T\n",
    "\n",
    "if binary:\n",
    "    wdf_train = (word_doc_frequency_norm_train > 0).astype(int)\n",
    "    wdf_test = (word_doc_frequency_norm_test > 0).astype(int)\n",
    "    \n",
    "else:    \n",
    "    wdf_train = word_doc_frequency_norm_train.copy()\n",
    "    wdf_test = word_doc_frequency_norm_test.copy()"
   ]
  },
  {
   "cell_type": "code",
   "execution_count": 471,
   "metadata": {},
   "outputs": [
    {
     "data": {
      "text/html": [
       "<div>\n",
       "<style scoped>\n",
       "    .dataframe tbody tr th:only-of-type {\n",
       "        vertical-align: middle;\n",
       "    }\n",
       "\n",
       "    .dataframe tbody tr th {\n",
       "        vertical-align: top;\n",
       "    }\n",
       "\n",
       "    .dataframe thead th {\n",
       "        text-align: right;\n",
       "    }\n",
       "</style>\n",
       "<table border=\"1\" class=\"dataframe\">\n",
       "  <thead>\n",
       "    <tr style=\"text-align: right;\">\n",
       "      <th></th>\n",
       "      <th>00</th>\n",
       "      <th>000</th>\n",
       "      <th>000mi</th>\n",
       "      <th>02</th>\n",
       "      <th>034101</th>\n",
       "      <th>0565</th>\n",
       "      <th>09</th>\n",
       "      <th>10</th>\n",
       "      <th>100</th>\n",
       "      <th>1000</th>\n",
       "      <th>...</th>\n",
       "      <th>yuru</th>\n",
       "      <th>zealand</th>\n",
       "      <th>zeitgeist</th>\n",
       "      <th>zillion</th>\n",
       "      <th>zion</th>\n",
       "      <th>zionism</th>\n",
       "      <th>zionist</th>\n",
       "      <th>zip</th>\n",
       "      <th>zlumber</th>\n",
       "      <th>zu</th>\n",
       "    </tr>\n",
       "  </thead>\n",
       "  <tbody>\n",
       "    <tr>\n",
       "      <th>0</th>\n",
       "      <td>0.000136</td>\n",
       "      <td>0.000108</td>\n",
       "      <td>0.000135</td>\n",
       "      <td>0.000071</td>\n",
       "      <td>0.000023</td>\n",
       "      <td>0.000030</td>\n",
       "      <td>0.000008</td>\n",
       "      <td>0.000124</td>\n",
       "      <td>0.000075</td>\n",
       "      <td>0.000028</td>\n",
       "      <td>...</td>\n",
       "      <td>0.000007</td>\n",
       "      <td>0.000049</td>\n",
       "      <td>0.000016</td>\n",
       "      <td>0.000023</td>\n",
       "      <td>0.000016</td>\n",
       "      <td>0.000064</td>\n",
       "      <td>0.000016</td>\n",
       "      <td>0.000026</td>\n",
       "      <td>0.000012</td>\n",
       "      <td>0.000047</td>\n",
       "    </tr>\n",
       "    <tr>\n",
       "      <th>1</th>\n",
       "      <td>0.000108</td>\n",
       "      <td>0.000063</td>\n",
       "      <td>0.000020</td>\n",
       "      <td>0.000029</td>\n",
       "      <td>0.000040</td>\n",
       "      <td>0.000018</td>\n",
       "      <td>0.000014</td>\n",
       "      <td>0.005210</td>\n",
       "      <td>0.000082</td>\n",
       "      <td>0.000031</td>\n",
       "      <td>...</td>\n",
       "      <td>0.000024</td>\n",
       "      <td>0.000041</td>\n",
       "      <td>0.000017</td>\n",
       "      <td>0.000040</td>\n",
       "      <td>0.000017</td>\n",
       "      <td>0.000070</td>\n",
       "      <td>0.000017</td>\n",
       "      <td>0.000020</td>\n",
       "      <td>0.000083</td>\n",
       "      <td>0.000053</td>\n",
       "    </tr>\n",
       "    <tr>\n",
       "      <th>2</th>\n",
       "      <td>0.000194</td>\n",
       "      <td>0.000081</td>\n",
       "      <td>0.000151</td>\n",
       "      <td>0.000100</td>\n",
       "      <td>0.000035</td>\n",
       "      <td>0.000059</td>\n",
       "      <td>0.000055</td>\n",
       "      <td>0.000220</td>\n",
       "      <td>0.000073</td>\n",
       "      <td>0.000038</td>\n",
       "      <td>...</td>\n",
       "      <td>0.000009</td>\n",
       "      <td>0.000019</td>\n",
       "      <td>0.000024</td>\n",
       "      <td>0.000035</td>\n",
       "      <td>0.000044</td>\n",
       "      <td>0.000067</td>\n",
       "      <td>0.000044</td>\n",
       "      <td>0.000023</td>\n",
       "      <td>0.000033</td>\n",
       "      <td>0.000032</td>\n",
       "    </tr>\n",
       "    <tr>\n",
       "      <th>3</th>\n",
       "      <td>0.000011</td>\n",
       "      <td>0.000044</td>\n",
       "      <td>0.000009</td>\n",
       "      <td>0.000023</td>\n",
       "      <td>0.000056</td>\n",
       "      <td>0.000038</td>\n",
       "      <td>0.000007</td>\n",
       "      <td>0.000216</td>\n",
       "      <td>0.000108</td>\n",
       "      <td>0.000027</td>\n",
       "      <td>...</td>\n",
       "      <td>0.000015</td>\n",
       "      <td>0.000029</td>\n",
       "      <td>0.000026</td>\n",
       "      <td>0.000056</td>\n",
       "      <td>0.000045</td>\n",
       "      <td>0.000086</td>\n",
       "      <td>0.000045</td>\n",
       "      <td>0.000143</td>\n",
       "      <td>0.000025</td>\n",
       "      <td>0.000123</td>\n",
       "    </tr>\n",
       "    <tr>\n",
       "      <th>4</th>\n",
       "      <td>0.000038</td>\n",
       "      <td>0.000096</td>\n",
       "      <td>0.000037</td>\n",
       "      <td>0.000084</td>\n",
       "      <td>0.000067</td>\n",
       "      <td>0.000179</td>\n",
       "      <td>0.000023</td>\n",
       "      <td>0.000113</td>\n",
       "      <td>0.000083</td>\n",
       "      <td>0.000047</td>\n",
       "      <td>...</td>\n",
       "      <td>0.000029</td>\n",
       "      <td>0.000041</td>\n",
       "      <td>0.000031</td>\n",
       "      <td>0.000067</td>\n",
       "      <td>0.000036</td>\n",
       "      <td>0.000084</td>\n",
       "      <td>0.000036</td>\n",
       "      <td>0.000064</td>\n",
       "      <td>0.000102</td>\n",
       "      <td>0.000139</td>\n",
       "    </tr>\n",
       "  </tbody>\n",
       "</table>\n",
       "<p>5 rows × 3642 columns</p>\n",
       "</div>"
      ],
      "text/plain": [
       "         00       000     000mi        02    034101      0565        09  \\\n",
       "0  0.000136  0.000108  0.000135  0.000071  0.000023  0.000030  0.000008   \n",
       "1  0.000108  0.000063  0.000020  0.000029  0.000040  0.000018  0.000014   \n",
       "2  0.000194  0.000081  0.000151  0.000100  0.000035  0.000059  0.000055   \n",
       "3  0.000011  0.000044  0.000009  0.000023  0.000056  0.000038  0.000007   \n",
       "4  0.000038  0.000096  0.000037  0.000084  0.000067  0.000179  0.000023   \n",
       "\n",
       "         10       100      1000  ...      yuru   zealand  zeitgeist   zillion  \\\n",
       "0  0.000124  0.000075  0.000028  ...  0.000007  0.000049   0.000016  0.000023   \n",
       "1  0.005210  0.000082  0.000031  ...  0.000024  0.000041   0.000017  0.000040   \n",
       "2  0.000220  0.000073  0.000038  ...  0.000009  0.000019   0.000024  0.000035   \n",
       "3  0.000216  0.000108  0.000027  ...  0.000015  0.000029   0.000026  0.000056   \n",
       "4  0.000113  0.000083  0.000047  ...  0.000029  0.000041   0.000031  0.000067   \n",
       "\n",
       "       zion   zionism   zionist       zip   zlumber        zu  \n",
       "0  0.000016  0.000064  0.000016  0.000026  0.000012  0.000047  \n",
       "1  0.000017  0.000070  0.000017  0.000020  0.000083  0.000053  \n",
       "2  0.000044  0.000067  0.000044  0.000023  0.000033  0.000032  \n",
       "3  0.000045  0.000086  0.000045  0.000143  0.000025  0.000123  \n",
       "4  0.000036  0.000084  0.000036  0.000064  0.000102  0.000139  \n",
       "\n",
       "[5 rows x 3642 columns]"
      ]
     },
     "execution_count": 471,
     "metadata": {},
     "output_type": "execute_result"
    }
   ],
   "source": [
    "wdf_train.head()"
   ]
  },
  {
   "cell_type": "code",
   "execution_count": 494,
   "metadata": {},
   "outputs": [],
   "source": [
    "batch_size = 128\n",
    "num_of_iterations = 128"
   ]
  },
  {
   "cell_type": "code",
   "execution_count": 495,
   "metadata": {},
   "outputs": [],
   "source": [
    "X = wdf_train.copy()\n",
    "Y = y_train.copy()"
   ]
  },
  {
   "cell_type": "code",
   "execution_count": 497,
   "metadata": {},
   "outputs": [
    {
     "data": {
      "application/vnd.jupyter.widget-view+json": {
       "model_id": "f380793e69b740bb87367214d41bec54",
       "version_major": 2,
       "version_minor": 0
      },
      "text/plain": [
       "HBox(children=(FloatProgress(value=0.0, max=128.0), HTML(value='')))"
      ]
     },
     "metadata": {},
     "output_type": "display_data"
    },
    {
     "name": "stdout",
     "output_type": "stream",
     "text": [
      "\n"
     ]
    }
   ],
   "source": [
    "kmeans = MiniBatchKMeans(n_clusters=2, random_state=0, batch_size=batch_size)\n",
    "\n",
    "for n_iter in tqdm(range(num_of_iterations)):\n",
    "    kmeans = kmeans.partial_fit(X.loc[np.random.randint(len(Y), size=batch_size)])\n",
    "\n",
    "indices0 = (kmeans.predict(X) == 0)\n",
    "indices1 = (kmeans.predict(X) == 1)"
   ]
  },
  {
   "cell_type": "code",
   "execution_count": 498,
   "metadata": {
    "scrolled": false
   },
   "outputs": [
    {
     "data": {
      "text/plain": [
       "[('talk.politics.mideast', 3)]"
      ]
     },
     "execution_count": 498,
     "metadata": {},
     "output_type": "execute_result"
    }
   ],
   "source": [
    "Counter(Y[indices0]).most_common(4)"
   ]
  },
  {
   "cell_type": "code",
   "execution_count": 499,
   "metadata": {},
   "outputs": [
    {
     "data": {
      "text/plain": [
       "[('rec.autos', 65),\n",
       " ('sci.space', 65),\n",
       " ('alt.atheism', 61),\n",
       " ('talk.politics.mideast', 58)]"
      ]
     },
     "execution_count": 499,
     "metadata": {},
     "output_type": "execute_result"
    }
   ],
   "source": [
    "Counter(Y[indices1]).most_common(4)"
   ]
  },
  {
   "cell_type": "code",
   "execution_count": 449,
   "metadata": {},
   "outputs": [
    {
     "data": {
      "text/plain": [
       "(31, 221)"
      ]
     },
     "execution_count": 449,
     "metadata": {},
     "output_type": "execute_result"
    }
   ],
   "source": [
    "len(Y[indices0]), len(Y[indices1])"
   ]
  },
  {
   "cell_type": "code",
   "execution_count": 450,
   "metadata": {},
   "outputs": [],
   "source": [
    "X0 = X[indices0]\n",
    "Y0 = Y[indices0]"
   ]
  },
  {
   "cell_type": "code",
   "execution_count": 451,
   "metadata": {},
   "outputs": [],
   "source": [
    "kmeans0 = KMeans(n_clusters=2, random_state=0).fit(X0)\n",
    "indices00 = (kmeans0.labels_== 0)\n",
    "indices01 = (kmeans0.labels_ == 1)"
   ]
  },
  {
   "cell_type": "code",
   "execution_count": 452,
   "metadata": {
    "scrolled": false
   },
   "outputs": [
    {
     "data": {
      "text/plain": [
       "[('talk.politics.mideast', 1)]"
      ]
     },
     "execution_count": 452,
     "metadata": {},
     "output_type": "execute_result"
    }
   ],
   "source": [
    "Counter(Y0[indices00]).most_common(4)"
   ]
  },
  {
   "cell_type": "code",
   "execution_count": 453,
   "metadata": {},
   "outputs": [
    {
     "data": {
      "text/plain": [
       "[('sci.space', 14),\n",
       " ('talk.politics.mideast', 7),\n",
       " ('rec.autos', 5),\n",
       " ('alt.atheism', 4)]"
      ]
     },
     "execution_count": 453,
     "metadata": {},
     "output_type": "execute_result"
    }
   ],
   "source": [
    "Counter(Y0[indices01]).most_common(4)"
   ]
  },
  {
   "cell_type": "code",
   "execution_count": 454,
   "metadata": {},
   "outputs": [
    {
     "data": {
      "text/plain": [
       "(1, 30)"
      ]
     },
     "execution_count": 454,
     "metadata": {},
     "output_type": "execute_result"
    }
   ],
   "source": [
    "len(Y0[indices00]), len(Y0[indices01])"
   ]
  },
  {
   "cell_type": "code",
   "execution_count": 455,
   "metadata": {},
   "outputs": [],
   "source": [
    "X1 = X[indices1]\n",
    "Y1 = Y[indices1]"
   ]
  },
  {
   "cell_type": "code",
   "execution_count": 456,
   "metadata": {},
   "outputs": [],
   "source": [
    "kmeans1 = KMeans(n_clusters=2, random_state=0).fit(X1)\n",
    "indices10 = (kmeans1.labels_== 0)\n",
    "indices11 = (kmeans1.labels_ == 1)"
   ]
  },
  {
   "cell_type": "code",
   "execution_count": 457,
   "metadata": {
    "scrolled": false
   },
   "outputs": [
    {
     "data": {
      "text/plain": [
       "[('alt.atheism', 4),\n",
       " ('sci.space', 3),\n",
       " ('talk.politics.mideast', 1),\n",
       " ('rec.autos', 1)]"
      ]
     },
     "execution_count": 457,
     "metadata": {},
     "output_type": "execute_result"
    }
   ],
   "source": [
    "Counter(Y1[indices10]).most_common(4)"
   ]
  },
  {
   "cell_type": "code",
   "execution_count": 458,
   "metadata": {},
   "outputs": [
    {
     "data": {
      "text/plain": [
       "[('rec.autos', 59),\n",
       " ('alt.atheism', 53),\n",
       " ('talk.politics.mideast', 52),\n",
       " ('sci.space', 48)]"
      ]
     },
     "execution_count": 458,
     "metadata": {},
     "output_type": "execute_result"
    }
   ],
   "source": [
    "Counter(Y1[indices11]).most_common(4)"
   ]
  },
  {
   "cell_type": "code",
   "execution_count": 459,
   "metadata": {},
   "outputs": [
    {
     "data": {
      "text/plain": [
       "(9, 212)"
      ]
     },
     "execution_count": 459,
     "metadata": {},
     "output_type": "execute_result"
    }
   ],
   "source": [
    "len(Y1[indices10]), len(Y1[indices11])"
   ]
  },
  {
   "cell_type": "code",
   "execution_count": null,
   "metadata": {},
   "outputs": [],
   "source": []
  }
 ],
 "metadata": {
  "colab": {
   "name": "topic_modeler.ipynb",
   "provenance": [],
   "toc_visible": true
  },
  "kernelspec": {
   "display_name": "Python 3.7.2 64-bit",
   "language": "python",
   "name": "python37264bit1e47c484c81847018c6f6fa7221b75f5"
  },
  "language_info": {
   "codemirror_mode": {
    "name": "ipython",
    "version": 3
   },
   "file_extension": ".py",
   "mimetype": "text/x-python",
   "name": "python",
   "nbconvert_exporter": "python",
   "pygments_lexer": "ipython3",
   "version": "3.7.2"
  },
  "widgets": {
   "application/vnd.jupyter.widget-state+json": {
    "1029c3cb5c264802a7bd45639c1a7c20": {
     "model_module": "@jupyter-widgets/base",
     "model_name": "LayoutModel",
     "state": {
      "_model_module": "@jupyter-widgets/base",
      "_model_module_version": "1.2.0",
      "_model_name": "LayoutModel",
      "_view_count": null,
      "_view_module": "@jupyter-widgets/base",
      "_view_module_version": "1.2.0",
      "_view_name": "LayoutView",
      "align_content": null,
      "align_items": null,
      "align_self": null,
      "border": null,
      "bottom": null,
      "display": null,
      "flex": null,
      "flex_flow": null,
      "grid_area": null,
      "grid_auto_columns": null,
      "grid_auto_flow": null,
      "grid_auto_rows": null,
      "grid_column": null,
      "grid_gap": null,
      "grid_row": null,
      "grid_template_areas": null,
      "grid_template_columns": null,
      "grid_template_rows": null,
      "height": null,
      "justify_content": null,
      "justify_items": null,
      "left": null,
      "margin": null,
      "max_height": null,
      "max_width": null,
      "min_height": null,
      "min_width": null,
      "object_fit": null,
      "object_position": null,
      "order": null,
      "overflow": null,
      "overflow_x": null,
      "overflow_y": null,
      "padding": null,
      "right": null,
      "top": null,
      "visibility": null,
      "width": null
     }
    },
    "2e8643a34a7143e284ed8e94aaca32d7": {
     "model_module": "@jupyter-widgets/controls",
     "model_name": "ProgressStyleModel",
     "state": {
      "_model_module": "@jupyter-widgets/controls",
      "_model_module_version": "1.5.0",
      "_model_name": "ProgressStyleModel",
      "_view_count": null,
      "_view_module": "@jupyter-widgets/base",
      "_view_module_version": "1.2.0",
      "_view_name": "StyleView",
      "bar_color": null,
      "description_width": "initial"
     }
    },
    "44bf4a5432b34d269a82bce24d4e46b3": {
     "model_module": "@jupyter-widgets/controls",
     "model_name": "ProgressStyleModel",
     "state": {
      "_model_module": "@jupyter-widgets/controls",
      "_model_module_version": "1.5.0",
      "_model_name": "ProgressStyleModel",
      "_view_count": null,
      "_view_module": "@jupyter-widgets/base",
      "_view_module_version": "1.2.0",
      "_view_name": "StyleView",
      "bar_color": null,
      "description_width": "initial"
     }
    },
    "4dcd4b491d694b0aa25514b8486cf3f8": {
     "model_module": "@jupyter-widgets/base",
     "model_name": "LayoutModel",
     "state": {
      "_model_module": "@jupyter-widgets/base",
      "_model_module_version": "1.2.0",
      "_model_name": "LayoutModel",
      "_view_count": null,
      "_view_module": "@jupyter-widgets/base",
      "_view_module_version": "1.2.0",
      "_view_name": "LayoutView",
      "align_content": null,
      "align_items": null,
      "align_self": null,
      "border": null,
      "bottom": null,
      "display": null,
      "flex": null,
      "flex_flow": null,
      "grid_area": null,
      "grid_auto_columns": null,
      "grid_auto_flow": null,
      "grid_auto_rows": null,
      "grid_column": null,
      "grid_gap": null,
      "grid_row": null,
      "grid_template_areas": null,
      "grid_template_columns": null,
      "grid_template_rows": null,
      "height": null,
      "justify_content": null,
      "justify_items": null,
      "left": null,
      "margin": null,
      "max_height": null,
      "max_width": null,
      "min_height": null,
      "min_width": null,
      "object_fit": null,
      "object_position": null,
      "order": null,
      "overflow": null,
      "overflow_x": null,
      "overflow_y": null,
      "padding": null,
      "right": null,
      "top": null,
      "visibility": null,
      "width": null
     }
    },
    "51dd1aa22f7d45ccbd3ba766bb232b57": {
     "model_module": "@jupyter-widgets/base",
     "model_name": "LayoutModel",
     "state": {
      "_model_module": "@jupyter-widgets/base",
      "_model_module_version": "1.2.0",
      "_model_name": "LayoutModel",
      "_view_count": null,
      "_view_module": "@jupyter-widgets/base",
      "_view_module_version": "1.2.0",
      "_view_name": "LayoutView",
      "align_content": null,
      "align_items": null,
      "align_self": null,
      "border": null,
      "bottom": null,
      "display": null,
      "flex": null,
      "flex_flow": null,
      "grid_area": null,
      "grid_auto_columns": null,
      "grid_auto_flow": null,
      "grid_auto_rows": null,
      "grid_column": null,
      "grid_gap": null,
      "grid_row": null,
      "grid_template_areas": null,
      "grid_template_columns": null,
      "grid_template_rows": null,
      "height": null,
      "justify_content": null,
      "justify_items": null,
      "left": null,
      "margin": null,
      "max_height": null,
      "max_width": null,
      "min_height": null,
      "min_width": null,
      "object_fit": null,
      "object_position": null,
      "order": null,
      "overflow": null,
      "overflow_x": null,
      "overflow_y": null,
      "padding": null,
      "right": null,
      "top": null,
      "visibility": null,
      "width": null
     }
    },
    "5369f73e7d934a68a3478189b5a136b6": {
     "model_module": "@jupyter-widgets/controls",
     "model_name": "FloatProgressModel",
     "state": {
      "_dom_classes": [],
      "_model_module": "@jupyter-widgets/controls",
      "_model_module_version": "1.5.0",
      "_model_name": "FloatProgressModel",
      "_view_count": null,
      "_view_module": "@jupyter-widgets/controls",
      "_view_module_version": "1.5.0",
      "_view_name": "ProgressView",
      "bar_style": "",
      "description": " 14%",
      "description_tooltip": null,
      "layout": "IPY_MODEL_4dcd4b491d694b0aa25514b8486cf3f8",
      "max": 37408,
      "min": 0,
      "orientation": "horizontal",
      "style": "IPY_MODEL_44bf4a5432b34d269a82bce24d4e46b3",
      "value": 5274
     }
    },
    "5c20409065a347d18e1ab6bde4c5a0ba": {
     "model_module": "@jupyter-widgets/base",
     "model_name": "LayoutModel",
     "state": {
      "_model_module": "@jupyter-widgets/base",
      "_model_module_version": "1.2.0",
      "_model_name": "LayoutModel",
      "_view_count": null,
      "_view_module": "@jupyter-widgets/base",
      "_view_module_version": "1.2.0",
      "_view_name": "LayoutView",
      "align_content": null,
      "align_items": null,
      "align_self": null,
      "border": null,
      "bottom": null,
      "display": null,
      "flex": null,
      "flex_flow": null,
      "grid_area": null,
      "grid_auto_columns": null,
      "grid_auto_flow": null,
      "grid_auto_rows": null,
      "grid_column": null,
      "grid_gap": null,
      "grid_row": null,
      "grid_template_areas": null,
      "grid_template_columns": null,
      "grid_template_rows": null,
      "height": null,
      "justify_content": null,
      "justify_items": null,
      "left": null,
      "margin": null,
      "max_height": null,
      "max_width": null,
      "min_height": null,
      "min_width": null,
      "object_fit": null,
      "object_position": null,
      "order": null,
      "overflow": null,
      "overflow_x": null,
      "overflow_y": null,
      "padding": null,
      "right": null,
      "top": null,
      "visibility": null,
      "width": null
     }
    },
    "846b5c7701bc49e4be2a7681d5361dd8": {
     "model_module": "@jupyter-widgets/controls",
     "model_name": "HTMLModel",
     "state": {
      "_dom_classes": [],
      "_model_module": "@jupyter-widgets/controls",
      "_model_module_version": "1.5.0",
      "_model_name": "HTMLModel",
      "_view_count": null,
      "_view_module": "@jupyter-widgets/controls",
      "_view_module_version": "1.5.0",
      "_view_name": "HTMLView",
      "description": "",
      "description_tooltip": null,
      "layout": "IPY_MODEL_5c20409065a347d18e1ab6bde4c5a0ba",
      "placeholder": "​",
      "style": "IPY_MODEL_cee50571766e465b81cd2d06ac0a4d31",
      "value": " 200/200 [00:52&lt;00:00,  3.85it/s]"
     }
    },
    "94d411d6977f493894ec3c8b5975f693": {
     "model_module": "@jupyter-widgets/controls",
     "model_name": "FloatProgressModel",
     "state": {
      "_dom_classes": [],
      "_model_module": "@jupyter-widgets/controls",
      "_model_module_version": "1.5.0",
      "_model_name": "FloatProgressModel",
      "_view_count": null,
      "_view_module": "@jupyter-widgets/controls",
      "_view_module_version": "1.5.0",
      "_view_name": "ProgressView",
      "bar_style": "success",
      "description": "100%",
      "description_tooltip": null,
      "layout": "IPY_MODEL_b8ce72deb0c34c35a99b91bbc9b5504c",
      "max": 200,
      "min": 0,
      "orientation": "horizontal",
      "style": "IPY_MODEL_2e8643a34a7143e284ed8e94aaca32d7",
      "value": 200
     }
    },
    "b8ce72deb0c34c35a99b91bbc9b5504c": {
     "model_module": "@jupyter-widgets/base",
     "model_name": "LayoutModel",
     "state": {
      "_model_module": "@jupyter-widgets/base",
      "_model_module_version": "1.2.0",
      "_model_name": "LayoutModel",
      "_view_count": null,
      "_view_module": "@jupyter-widgets/base",
      "_view_module_version": "1.2.0",
      "_view_name": "LayoutView",
      "align_content": null,
      "align_items": null,
      "align_self": null,
      "border": null,
      "bottom": null,
      "display": null,
      "flex": null,
      "flex_flow": null,
      "grid_area": null,
      "grid_auto_columns": null,
      "grid_auto_flow": null,
      "grid_auto_rows": null,
      "grid_column": null,
      "grid_gap": null,
      "grid_row": null,
      "grid_template_areas": null,
      "grid_template_columns": null,
      "grid_template_rows": null,
      "height": null,
      "justify_content": null,
      "justify_items": null,
      "left": null,
      "margin": null,
      "max_height": null,
      "max_width": null,
      "min_height": null,
      "min_width": null,
      "object_fit": null,
      "object_position": null,
      "order": null,
      "overflow": null,
      "overflow_x": null,
      "overflow_y": null,
      "padding": null,
      "right": null,
      "top": null,
      "visibility": null,
      "width": null
     }
    },
    "b8ee6c0914474dab8186285123c3c25a": {
     "model_module": "@jupyter-widgets/controls",
     "model_name": "HBoxModel",
     "state": {
      "_dom_classes": [],
      "_model_module": "@jupyter-widgets/controls",
      "_model_module_version": "1.5.0",
      "_model_name": "HBoxModel",
      "_view_count": null,
      "_view_module": "@jupyter-widgets/controls",
      "_view_module_version": "1.5.0",
      "_view_name": "HBoxView",
      "box_style": "",
      "children": [
       "IPY_MODEL_94d411d6977f493894ec3c8b5975f693",
       "IPY_MODEL_846b5c7701bc49e4be2a7681d5361dd8"
      ],
      "layout": "IPY_MODEL_1029c3cb5c264802a7bd45639c1a7c20"
     }
    },
    "c3f9b287331c4447a3858c3fed906a66": {
     "model_module": "@jupyter-widgets/controls",
     "model_name": "HBoxModel",
     "state": {
      "_dom_classes": [],
      "_model_module": "@jupyter-widgets/controls",
      "_model_module_version": "1.5.0",
      "_model_name": "HBoxModel",
      "_view_count": null,
      "_view_module": "@jupyter-widgets/controls",
      "_view_module_version": "1.5.0",
      "_view_name": "HBoxView",
      "box_style": "",
      "children": [
       "IPY_MODEL_5369f73e7d934a68a3478189b5a136b6",
       "IPY_MODEL_f02ad7bad6f74da69de3557e8b7e3b92"
      ],
      "layout": "IPY_MODEL_dc810a1b5ae545a09ef4b77e92695a36"
     }
    },
    "cee50571766e465b81cd2d06ac0a4d31": {
     "model_module": "@jupyter-widgets/controls",
     "model_name": "DescriptionStyleModel",
     "state": {
      "_model_module": "@jupyter-widgets/controls",
      "_model_module_version": "1.5.0",
      "_model_name": "DescriptionStyleModel",
      "_view_count": null,
      "_view_module": "@jupyter-widgets/base",
      "_view_module_version": "1.2.0",
      "_view_name": "StyleView",
      "description_width": ""
     }
    },
    "dc810a1b5ae545a09ef4b77e92695a36": {
     "model_module": "@jupyter-widgets/base",
     "model_name": "LayoutModel",
     "state": {
      "_model_module": "@jupyter-widgets/base",
      "_model_module_version": "1.2.0",
      "_model_name": "LayoutModel",
      "_view_count": null,
      "_view_module": "@jupyter-widgets/base",
      "_view_module_version": "1.2.0",
      "_view_name": "LayoutView",
      "align_content": null,
      "align_items": null,
      "align_self": null,
      "border": null,
      "bottom": null,
      "display": null,
      "flex": null,
      "flex_flow": null,
      "grid_area": null,
      "grid_auto_columns": null,
      "grid_auto_flow": null,
      "grid_auto_rows": null,
      "grid_column": null,
      "grid_gap": null,
      "grid_row": null,
      "grid_template_areas": null,
      "grid_template_columns": null,
      "grid_template_rows": null,
      "height": null,
      "justify_content": null,
      "justify_items": null,
      "left": null,
      "margin": null,
      "max_height": null,
      "max_width": null,
      "min_height": null,
      "min_width": null,
      "object_fit": null,
      "object_position": null,
      "order": null,
      "overflow": null,
      "overflow_x": null,
      "overflow_y": null,
      "padding": null,
      "right": null,
      "top": null,
      "visibility": null,
      "width": null
     }
    },
    "eb223b5836d04aaea284e26e6a3a6a1a": {
     "model_module": "@jupyter-widgets/controls",
     "model_name": "DescriptionStyleModel",
     "state": {
      "_model_module": "@jupyter-widgets/controls",
      "_model_module_version": "1.5.0",
      "_model_name": "DescriptionStyleModel",
      "_view_count": null,
      "_view_module": "@jupyter-widgets/base",
      "_view_module_version": "1.2.0",
      "_view_name": "StyleView",
      "description_width": ""
     }
    },
    "f02ad7bad6f74da69de3557e8b7e3b92": {
     "model_module": "@jupyter-widgets/controls",
     "model_name": "HTMLModel",
     "state": {
      "_dom_classes": [],
      "_model_module": "@jupyter-widgets/controls",
      "_model_module_version": "1.5.0",
      "_model_name": "HTMLModel",
      "_view_count": null,
      "_view_module": "@jupyter-widgets/controls",
      "_view_module_version": "1.5.0",
      "_view_name": "HTMLView",
      "description": "",
      "description_tooltip": null,
      "layout": "IPY_MODEL_51dd1aa22f7d45ccbd3ba766bb232b57",
      "placeholder": "​",
      "style": "IPY_MODEL_eb223b5836d04aaea284e26e6a3a6a1a",
      "value": " 5274/37408 [06:38&lt;40:12, 13.32it/s]"
     }
    }
   }
  }
 },
 "nbformat": 4,
 "nbformat_minor": 1
}

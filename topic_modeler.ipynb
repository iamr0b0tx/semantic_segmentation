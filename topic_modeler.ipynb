{
 "cells": [
  {
   "cell_type": "code",
   "execution_count": 1,
   "metadata": {},
   "outputs": [],
   "source": [
    "%load_ext autoreload\n",
    "%autoreload 2"
   ]
  },
  {
   "cell_type": "markdown",
   "metadata": {},
   "source": [
    "### imports and utilities"
   ]
  },
  {
   "cell_type": "code",
   "execution_count": 2,
   "metadata": {},
   "outputs": [
    {
     "name": "stdout",
     "output_type": "stream",
     "text": [
      "Requirement already satisfied: nltk in c:\\users\\christian\\documents\\christian\\work\\python\\cyberspace\\topic_modeler\\venv\\lib\\site-packages (3.5)\n",
      "Requirement already satisfied: scikit-learn in c:\\users\\christian\\documents\\christian\\work\\python\\cyberspace\\topic_modeler\\venv\\lib\\site-packages (0.23.1)\n",
      "Requirement already satisfied: matplotlib in c:\\users\\christian\\documents\\christian\\work\\python\\cyberspace\\topic_modeler\\venv\\lib\\site-packages (3.2.2)\n",
      "Requirement already satisfied: scipy in c:\\users\\christian\\documents\\christian\\work\\python\\cyberspace\\topic_modeler\\venv\\lib\\site-packages (1.4.1)\n",
      "Requirement already satisfied: tqdm in c:\\users\\christian\\documents\\christian\\work\\python\\cyberspace\\topic_modeler\\venv\\lib\\site-packages (from nltk) (4.47.0)\n",
      "Requirement already satisfied: joblib in c:\\users\\christian\\documents\\christian\\work\\python\\cyberspace\\topic_modeler\\venv\\lib\\site-packages (from nltk) (0.16.0)\n",
      "Requirement already satisfied: regex in c:\\users\\christian\\documents\\christian\\work\\python\\cyberspace\\topic_modeler\\venv\\lib\\site-packages (from nltk) (2020.6.8)\n",
      "Requirement already satisfied: click in c:\\users\\christian\\documents\\christian\\work\\python\\cyberspace\\topic_modeler\\venv\\lib\\site-packages (from nltk) (7.1.2)\n",
      "Requirement already satisfied: numpy>=1.13.3 in c:\\users\\christian\\documents\\christian\\work\\python\\cyberspace\\topic_modeler\\venv\\lib\\site-packages (from scikit-learn) (1.19.0)\n",
      "Requirement already satisfied: threadpoolctl>=2.0.0 in c:\\users\\christian\\documents\\christian\\work\\python\\cyberspace\\topic_modeler\\venv\\lib\\site-packages (from scikit-learn) (2.1.0)\n",
      "Requirement already satisfied: cycler>=0.10 in c:\\users\\christian\\documents\\christian\\work\\python\\cyberspace\\topic_modeler\\venv\\lib\\site-packages (from matplotlib) (0.10.0)\n",
      "Requirement already satisfied: kiwisolver>=1.0.1 in c:\\users\\christian\\documents\\christian\\work\\python\\cyberspace\\topic_modeler\\venv\\lib\\site-packages (from matplotlib) (1.2.0)\n",
      "Requirement already satisfied: python-dateutil>=2.1 in c:\\users\\christian\\documents\\christian\\work\\python\\cyberspace\\topic_modeler\\venv\\lib\\site-packages (from matplotlib) (2.8.1)\n",
      "Requirement already satisfied: pyparsing!=2.0.4,!=2.1.2,!=2.1.6,>=2.0.1 in c:\\users\\christian\\documents\\christian\\work\\python\\cyberspace\\topic_modeler\\venv\\lib\\site-packages (from matplotlib) (2.4.7)\n",
      "Requirement already satisfied: six in c:\\users\\christian\\documents\\christian\\work\\python\\cyberspace\\topic_modeler\\venv\\lib\\site-packages (from cycler>=0.10->matplotlib) (1.15.0)\n"
     ]
    }
   ],
   "source": [
    "!pip install nltk scikit-learn matplotlib scipy"
   ]
  },
  {
   "cell_type": "code",
   "execution_count": 3,
   "metadata": {},
   "outputs": [
    {
     "name": "stderr",
     "output_type": "stream",
     "text": [
      "[nltk_data] Downloading package punkt to\n",
      "[nltk_data]     C:\\Users\\christian\\AppData\\Roaming\\nltk_data...\n",
      "[nltk_data]   Package punkt is already up-to-date!\n",
      "[nltk_data] Downloading package wordnet to\n",
      "[nltk_data]     C:\\Users\\christian\\AppData\\Roaming\\nltk_data...\n",
      "[nltk_data]   Package wordnet is already up-to-date!\n",
      "[nltk_data] Downloading package averaged_perceptron_tagger to\n",
      "[nltk_data]     C:\\Users\\christian\\AppData\\Roaming\\nltk_data...\n",
      "[nltk_data]   Package averaged_perceptron_tagger is already up-to-\n",
      "[nltk_data]       date!\n"
     ]
    },
    {
     "data": {
      "text/plain": [
       "True"
      ]
     },
     "execution_count": 3,
     "metadata": {},
     "output_type": "execute_result"
    }
   ],
   "source": [
    "import nltk\n",
    "nltk.download('punkt')\n",
    "nltk.download('wordnet')\n",
    "nltk.download('averaged_perceptron_tagger')"
   ]
  },
  {
   "cell_type": "code",
   "execution_count": 4,
   "metadata": {},
   "outputs": [],
   "source": [
    "from collections import Counter\n",
    "from utils import *\n",
    "\n",
    "import numpy as np\n",
    "import pandas as pd\n",
    "import matplotlib.pyplot as plt\n",
    "\n",
    "from tqdm.notebook import tqdm\n",
    "from scipy.special import softmax\n",
    "from scipy.stats import norm\n",
    "from scipy.stats import entropy as calculate_entropy\n",
    "\n",
    "\n",
    "from sklearn.decomposition import PCA\n",
    "from sklearn.preprocessing import normalize\n",
    "from sklearn.datasets import fetch_20newsgroups\n",
    "from sklearn.cluster import KMeans, MiniBatchKMeans\n",
    "from sklearn.metrics.pairwise import cosine_similarity\n",
    "from sklearn.feature_extraction.text import CountVectorizer, TfidfVectorizer"
   ]
  },
  {
   "cell_type": "markdown",
   "metadata": {},
   "source": [
    "### load dataset"
   ]
  },
  {
   "cell_type": "code",
   "execution_count": 635,
   "metadata": {},
   "outputs": [],
   "source": [
    "dataset = \"newsgroup\"\n",
    "\n",
    "# total number of samples needed\n",
    "randomize = False\n",
    "\n",
    "# retrieve dataset\n",
    "categories = ['rec.autos', 'talk.politics.mideast', 'alt.atheism', 'sci.space']\n",
    "\n",
    "docs = fetch_20newsgroups(subset='train', shuffle=randomize, remove=('headers', 'footers', 'quotes'), categories=categories)\n",
    "docs, old_labels, classes = docs.data, docs.target, docs.target_names"
   ]
  },
  {
   "cell_type": "code",
   "execution_count": 636,
   "metadata": {},
   "outputs": [],
   "source": [
    "# dataset = \"bbc\"\n",
    "\n",
    "# data = pd.read_csv('bbcsport.csv')\n",
    "\n",
    "# docs = data[\"text\"].to_list()\n",
    "# old_labels = data[\"topic\"].to_list()\n",
    "# categories = classes = np.unique(data[\"topic\"]).tolist()"
   ]
  },
  {
   "cell_type": "markdown",
   "metadata": {},
   "source": [
    "### clean dataset"
   ]
  },
  {
   "cell_type": "code",
   "execution_count": 637,
   "metadata": {},
   "outputs": [
    {
     "data": {
      "application/vnd.jupyter.widget-view+json": {
       "model_id": "50cbd4e97f6840398857af9bb0f763cb",
       "version_major": 2,
       "version_minor": 0
      },
      "text/plain": [
       "HBox(children=(FloatProgress(value=0.0, max=200.0), HTML(value='')))"
      ]
     },
     "metadata": {},
     "output_type": "display_data"
    },
    {
     "name": "stdout",
     "output_type": "stream",
     "text": [
      "\n"
     ]
    }
   ],
   "source": [
    "datasize = 50\n",
    "min_document_length = 128\n",
    "max_document_length = 256\n",
    "\n",
    "\n",
    "index = -1\n",
    "train_docs, labels, label_indices = [], [], []\n",
    "\n",
    "sizes = [0]*len(categories)\n",
    "\n",
    "with tqdm(total=len(categories)*datasize) as pbar:\n",
    "    while sum(sizes) != len(categories)*datasize:\n",
    "        index += 1\n",
    "        \n",
    "        if dataset == \"bbc\":\n",
    "            size_index = categories.index(old_labels[index])\n",
    "            \n",
    "        else:\n",
    "            size_index = categories.index(classes[old_labels[index]])\n",
    "        \n",
    "        if sizes[size_index] == datasize:\n",
    "            continue\n",
    "        \n",
    "        doc = docs[index]\n",
    "        status, doc, word_count = clean_doc(doc, True)\n",
    "        \n",
    "        if not status:\n",
    "            continue\n",
    "            \n",
    "        if min_document_length is not None and len(doc) < min_document_length:\n",
    "            continue\n",
    "            \n",
    "        if max_document_length is not None and len(doc) > max_document_length:\n",
    "            continue\n",
    "        \n",
    "        label_indices.append(size_index)\n",
    "        labels.append(categories[size_index])\n",
    "        train_docs.append(doc)\n",
    "        sizes[size_index] += 1\n",
    "        pbar.update(1)\n",
    "\n",
    "labels = np.array(labels)\n",
    "label_indices = np.array(label_indices)"
   ]
  },
  {
   "cell_type": "code",
   "execution_count": 638,
   "metadata": {},
   "outputs": [
    {
     "name": "stdout",
     "output_type": "stream",
     "text": [
      "Topic: rec.autos\n",
      "==================================================\n",
      "apparently you re not a woman my husband hate the auto door lock feel safer in a car that lock easily in addition to watch around in a seclude spot etc have my key ready to open the door so i m\n"
     ]
    }
   ],
   "source": [
    "index = 0\n",
    "print(f\"Topic: {labels[index]}\\n{'='*50}\\n{train_docs[index]}\")"
   ]
  },
  {
   "cell_type": "code",
   "execution_count": 639,
   "metadata": {},
   "outputs": [
    {
     "name": "stdout",
     "output_type": "stream",
     "text": [
      "[50, 50, 50, 50]\n"
     ]
    }
   ],
   "source": [
    "print(sizes)\n",
    "assert min(sizes) == max(sizes) == datasize"
   ]
  },
  {
   "cell_type": "code",
   "execution_count": 640,
   "metadata": {
    "scrolled": true
   },
   "outputs": [
    {
     "name": "stdout",
     "output_type": "stream",
     "text": [
      "there are 200 docs\n"
     ]
    }
   ],
   "source": [
    "print(f\"there are {len(train_docs)} docs\")"
   ]
  },
  {
   "cell_type": "markdown",
   "metadata": {},
   "source": [
    "### Initialize Vectorizer"
   ]
  },
  {
   "cell_type": "code",
   "execution_count": 641,
   "metadata": {},
   "outputs": [
    {
     "name": "stdout",
     "output_type": "stream",
     "text": [
      "word_count is 2060\n"
     ]
    }
   ],
   "source": [
    "# initialize the count vectorizer\n",
    "vectorizer = CountVectorizer()\n",
    "\n",
    "# fit it to dataset\n",
    "vectorizer.fit(train_docs)\n",
    "\n",
    "vocabulary = vectorizer.get_feature_names()\n",
    "print(\"word_count is\", len(vocabulary))"
   ]
  },
  {
   "cell_type": "markdown",
   "metadata": {},
   "source": [
    "### Prepare Datatset"
   ]
  },
  {
   "cell_type": "code",
   "execution_count": 642,
   "metadata": {},
   "outputs": [
    {
     "name": "stdout",
     "output_type": "stream",
     "text": [
      "200 train_docs\n"
     ]
    }
   ],
   "source": [
    "# create doc count vectors\n",
    "train_doc_vectors = vectorizer.transform(train_docs).toarray()\n",
    "\n",
    "total_num_of_documents = len(train_doc_vectors)\n",
    "print(f\"{total_num_of_documents} train_docs\")"
   ]
  },
  {
   "cell_type": "markdown",
   "metadata": {},
   "source": [
    "### Word-Word Ratio"
   ]
  },
  {
   "cell_type": "code",
   "execution_count": 852,
   "metadata": {
    "scrolled": true
   },
   "outputs": [
    {
     "data": {
      "application/vnd.jupyter.widget-view+json": {
       "model_id": "692847ed5c7c454e9da6fc771ccf3cae",
       "version_major": 2,
       "version_minor": 0
      },
      "text/plain": [
       "HBox(children=(FloatProgress(value=0.0, max=2060.0), HTML(value='')))"
      ]
     },
     "metadata": {},
     "output_type": "display_data"
    },
    {
     "name": "stdout",
     "output_type": "stream",
     "text": [
      "\n",
      "word_word_co has shape (2060, 2060)\n"
     ]
    }
   ],
   "source": [
    "# reduce freq in doc to bin value of 1 or 0\n",
    "word_freq_in_doc = pd.DataFrame(train_doc_vectors, columns=vocabulary)\n",
    "word_word_co = pd.DataFrame(data=0.0, columns=vocabulary, index=vocabulary)\n",
    "\n",
    "word_doc_frequency = (word_freq_in_doc > 0).astype(int)\n",
    "word_doc_frequency_norm = (word_freq_in_doc.T / word_freq_in_doc.sum(1)).T\n",
    "\n",
    "probability = word_doc_frequency.sum(0) / len(train_doc_vectors)\n",
    "\n",
    "for word in tqdm(vocabulary):\n",
    "    pxy = word_doc_frequency[word_doc_frequency[word] == 1].sum(0) / total_num_of_documents\n",
    "#     word_word_co[word] = np.log1p(pxy / (probability[word] * probability))\n",
    "#     word_word_co[word] = pxy / (probability[word] * probability)\n",
    "    word_word_co[word] = pxy / probability[word]\n",
    "\n",
    "word_entropy = calculate_entropy(word_word_co.T, base=2)\n",
    "word_word_co = (word_word_co.T * (word_entropy**-1)).T\n",
    "\n",
    "word_word_co -= word_word_co.min().min()\n",
    "word_word_co /= word_word_co.max().max()\n",
    "\n",
    "word_word_co = word_word_co.fillna(0)\n",
    "print(f\"word_word_co has shape {word_word_co.shape}\")"
   ]
  },
  {
   "cell_type": "code",
   "execution_count": 853,
   "metadata": {},
   "outputs": [
    {
     "data": {
      "text/html": [
       "<div>\n",
       "<style scoped>\n",
       "    .dataframe tbody tr th:only-of-type {\n",
       "        vertical-align: middle;\n",
       "    }\n",
       "\n",
       "    .dataframe tbody tr th {\n",
       "        vertical-align: top;\n",
       "    }\n",
       "\n",
       "    .dataframe thead th {\n",
       "        text-align: right;\n",
       "    }\n",
       "</style>\n",
       "<table border=\"1\" class=\"dataframe\">\n",
       "  <thead>\n",
       "    <tr style=\"text-align: right;\">\n",
       "      <th></th>\n",
       "      <th>000</th>\n",
       "      <th>0098</th>\n",
       "      <th>031349</th>\n",
       "      <th>0878</th>\n",
       "      <th>0b1fatransfer</th>\n",
       "      <th>10</th>\n",
       "      <th>1000</th>\n",
       "      <th>11</th>\n",
       "      <th>12</th>\n",
       "      <th>12cyl</th>\n",
       "      <th>...</th>\n",
       "      <th>yet</th>\n",
       "      <th>yo</th>\n",
       "      <th>york</th>\n",
       "      <th>yorker</th>\n",
       "      <th>you</th>\n",
       "      <th>your</th>\n",
       "      <th>yours</th>\n",
       "      <th>yourself</th>\n",
       "      <th>yourselves</th>\n",
       "      <th>zuma</th>\n",
       "    </tr>\n",
       "  </thead>\n",
       "  <tbody>\n",
       "    <tr>\n",
       "      <th>000</th>\n",
       "      <td>0.585396</td>\n",
       "      <td>0.000000</td>\n",
       "      <td>0.000000</td>\n",
       "      <td>0.000000</td>\n",
       "      <td>0.000000</td>\n",
       "      <td>0.292698</td>\n",
       "      <td>0.0</td>\n",
       "      <td>0.0</td>\n",
       "      <td>0.0</td>\n",
       "      <td>0.0</td>\n",
       "      <td>...</td>\n",
       "      <td>0.0</td>\n",
       "      <td>0.0</td>\n",
       "      <td>0.0</td>\n",
       "      <td>0.0</td>\n",
       "      <td>0.015010</td>\n",
       "      <td>0.018884</td>\n",
       "      <td>0.000000</td>\n",
       "      <td>0.0</td>\n",
       "      <td>0.0</td>\n",
       "      <td>0.0</td>\n",
       "    </tr>\n",
       "    <tr>\n",
       "      <th>0098</th>\n",
       "      <td>0.000000</td>\n",
       "      <td>0.781679</td>\n",
       "      <td>0.000000</td>\n",
       "      <td>0.000000</td>\n",
       "      <td>0.000000</td>\n",
       "      <td>0.000000</td>\n",
       "      <td>0.0</td>\n",
       "      <td>0.0</td>\n",
       "      <td>0.0</td>\n",
       "      <td>0.0</td>\n",
       "      <td>...</td>\n",
       "      <td>0.0</td>\n",
       "      <td>0.0</td>\n",
       "      <td>0.0</td>\n",
       "      <td>0.0</td>\n",
       "      <td>0.000000</td>\n",
       "      <td>0.000000</td>\n",
       "      <td>0.000000</td>\n",
       "      <td>0.0</td>\n",
       "      <td>0.0</td>\n",
       "      <td>0.0</td>\n",
       "    </tr>\n",
       "    <tr>\n",
       "      <th>031349</th>\n",
       "      <td>0.000000</td>\n",
       "      <td>0.000000</td>\n",
       "      <td>0.786005</td>\n",
       "      <td>0.000000</td>\n",
       "      <td>0.000000</td>\n",
       "      <td>0.000000</td>\n",
       "      <td>0.0</td>\n",
       "      <td>0.0</td>\n",
       "      <td>0.0</td>\n",
       "      <td>0.0</td>\n",
       "      <td>...</td>\n",
       "      <td>0.0</td>\n",
       "      <td>0.0</td>\n",
       "      <td>0.0</td>\n",
       "      <td>0.0</td>\n",
       "      <td>0.010077</td>\n",
       "      <td>0.025355</td>\n",
       "      <td>0.000000</td>\n",
       "      <td>0.0</td>\n",
       "      <td>0.0</td>\n",
       "      <td>0.0</td>\n",
       "    </tr>\n",
       "    <tr>\n",
       "      <th>0878</th>\n",
       "      <td>0.000000</td>\n",
       "      <td>0.000000</td>\n",
       "      <td>0.000000</td>\n",
       "      <td>0.710424</td>\n",
       "      <td>0.000000</td>\n",
       "      <td>0.000000</td>\n",
       "      <td>0.0</td>\n",
       "      <td>0.0</td>\n",
       "      <td>0.0</td>\n",
       "      <td>0.0</td>\n",
       "      <td>...</td>\n",
       "      <td>0.0</td>\n",
       "      <td>0.0</td>\n",
       "      <td>0.0</td>\n",
       "      <td>0.0</td>\n",
       "      <td>0.000000</td>\n",
       "      <td>0.000000</td>\n",
       "      <td>0.000000</td>\n",
       "      <td>0.0</td>\n",
       "      <td>0.0</td>\n",
       "      <td>0.0</td>\n",
       "    </tr>\n",
       "    <tr>\n",
       "      <th>0b1fatransfer</th>\n",
       "      <td>0.000000</td>\n",
       "      <td>0.000000</td>\n",
       "      <td>0.000000</td>\n",
       "      <td>0.000000</td>\n",
       "      <td>0.865168</td>\n",
       "      <td>0.000000</td>\n",
       "      <td>0.0</td>\n",
       "      <td>0.0</td>\n",
       "      <td>0.0</td>\n",
       "      <td>0.0</td>\n",
       "      <td>...</td>\n",
       "      <td>0.0</td>\n",
       "      <td>0.0</td>\n",
       "      <td>0.0</td>\n",
       "      <td>0.0</td>\n",
       "      <td>0.011092</td>\n",
       "      <td>0.027909</td>\n",
       "      <td>0.865168</td>\n",
       "      <td>0.0</td>\n",
       "      <td>0.0</td>\n",
       "      <td>0.0</td>\n",
       "    </tr>\n",
       "  </tbody>\n",
       "</table>\n",
       "<p>5 rows × 2060 columns</p>\n",
       "</div>"
      ],
      "text/plain": [
       "                    000      0098    031349      0878  0b1fatransfer  \\\n",
       "000            0.585396  0.000000  0.000000  0.000000       0.000000   \n",
       "0098           0.000000  0.781679  0.000000  0.000000       0.000000   \n",
       "031349         0.000000  0.000000  0.786005  0.000000       0.000000   \n",
       "0878           0.000000  0.000000  0.000000  0.710424       0.000000   \n",
       "0b1fatransfer  0.000000  0.000000  0.000000  0.000000       0.865168   \n",
       "\n",
       "                     10  1000   11   12  12cyl  ...  yet   yo  york  yorker  \\\n",
       "000            0.292698   0.0  0.0  0.0    0.0  ...  0.0  0.0   0.0     0.0   \n",
       "0098           0.000000   0.0  0.0  0.0    0.0  ...  0.0  0.0   0.0     0.0   \n",
       "031349         0.000000   0.0  0.0  0.0    0.0  ...  0.0  0.0   0.0     0.0   \n",
       "0878           0.000000   0.0  0.0  0.0    0.0  ...  0.0  0.0   0.0     0.0   \n",
       "0b1fatransfer  0.000000   0.0  0.0  0.0    0.0  ...  0.0  0.0   0.0     0.0   \n",
       "\n",
       "                    you      your     yours  yourself  yourselves  zuma  \n",
       "000            0.015010  0.018884  0.000000       0.0         0.0   0.0  \n",
       "0098           0.000000  0.000000  0.000000       0.0         0.0   0.0  \n",
       "031349         0.010077  0.025355  0.000000       0.0         0.0   0.0  \n",
       "0878           0.000000  0.000000  0.000000       0.0         0.0   0.0  \n",
       "0b1fatransfer  0.011092  0.027909  0.865168       0.0         0.0   0.0  \n",
       "\n",
       "[5 rows x 2060 columns]"
      ]
     },
     "execution_count": 853,
     "metadata": {},
     "output_type": "execute_result"
    }
   ],
   "source": [
    "word_word_co.head()"
   ]
  },
  {
   "cell_type": "code",
   "execution_count": 857,
   "metadata": {
    "scrolled": true
   },
   "outputs": [
    {
     "data": {
      "image/png": "[encoded data removed]",
      "text/plain": [
       "<Figure size 1080x360 with 3 Axes>"
      ]
     },
     "metadata": {
      "needs_background": "light"
     },
     "output_type": "display_data"
    }
   ],
   "source": [
    "word = \"car\"\n",
    "words = [\"the\", \"religion\", \"car\", \"and\", \"driver\", \"shuttle\"]\n",
    "\n",
    "# words = np.array(vocabulary)[np.random.randint(len(vocabulary), size=5)]\n",
    "# word = words[0]\n",
    "\n",
    "fig = plt.figure(figsize=(15,5), tight_layout=True)\n",
    "ax11 = fig.add_subplot(131)\n",
    "ax12 = fig.add_subplot(132)\n",
    "ax13 = fig.add_subplot(133)\n",
    "\n",
    "ax11.set_title(f\"{word} against Words relation\")\n",
    "ax11.bar(words, word_word_co.loc[word][words])\n",
    "\n",
    "pxy = word_doc_frequency[word_doc_frequency[word] == 1].sum(0)\n",
    "\n",
    "ax12.set_title(f\"{word} against Words Frequency\")\n",
    "ax12.bar(words, pxy[words])\n",
    "\n",
    "pxy /= total_num_of_documents\n",
    "\n",
    "ax13.set_title(f\"{word} against Words Frequency Normalized\")\n",
    "ax13.bar(words, pxy[words])\n",
    "\n",
    "plt.show()"
   ]
  },
  {
   "cell_type": "markdown",
   "metadata": {},
   "source": [
    "### Setup Doc Word Distr"
   ]
  },
  {
   "cell_type": "code",
   "execution_count": 870,
   "metadata": {},
   "outputs": [
    {
     "data": {
      "application/vnd.jupyter.widget-view+json": {
       "model_id": "9d97400457d64a01937141344021ea7d",
       "version_major": 2,
       "version_minor": 0
      },
      "text/plain": [
       "HBox(children=(FloatProgress(value=0.0, max=200.0), HTML(value='')))"
      ]
     },
     "metadata": {},
     "output_type": "display_data"
    },
    {
     "name": "stdout",
     "output_type": "stream",
     "text": [
      "overall probability sum in docs 836.4866580217604\n",
      "\n"
     ]
    }
   ],
   "source": [
    "number_of_iterations = 1\n",
    "doc_word_distr = word_doc_frequency_norm.copy()\n",
    "\n",
    "total_iterations = number_of_iterations * total_num_of_documents\n",
    "\n",
    "with tqdm(total=total_iterations) as pbar:\n",
    "    for n_iter in range(number_of_iterations):\n",
    "        for doc_index in (range(total_num_of_documents)):\n",
    "            \n",
    "            words = selected_best_words[doc_word_distr.loc[doc_index] > 0]\n",
    "            xv = (doc_word_distr.loc[doc_index][words] * word_word_co.loc[words].T).T\n",
    "            doc_word_distr.loc[doc_index] = xv.mean(0)\n",
    "            pbar.update(1)\n",
    "            \n",
    "        print(f\"overall probability sum in docs {doc_word_distr.sum().sum()}\")"
   ]
  },
  {
   "cell_type": "code",
   "execution_count": 871,
   "metadata": {
    "scrolled": true
   },
   "outputs": [
    {
     "data": {
      "text/html": [
       "<div>\n",
       "<style scoped>\n",
       "    .dataframe tbody tr th:only-of-type {\n",
       "        vertical-align: middle;\n",
       "    }\n",
       "\n",
       "    .dataframe tbody tr th {\n",
       "        vertical-align: top;\n",
       "    }\n",
       "\n",
       "    .dataframe thead th {\n",
       "        text-align: right;\n",
       "    }\n",
       "</style>\n",
       "<table border=\"1\" class=\"dataframe\">\n",
       "  <thead>\n",
       "    <tr style=\"text-align: right;\">\n",
       "      <th></th>\n",
       "      <th>000</th>\n",
       "      <th>0098</th>\n",
       "      <th>031349</th>\n",
       "      <th>0878</th>\n",
       "      <th>0b1fatransfer</th>\n",
       "      <th>10</th>\n",
       "      <th>1000</th>\n",
       "      <th>11</th>\n",
       "      <th>12</th>\n",
       "      <th>12cyl</th>\n",
       "      <th>...</th>\n",
       "      <th>yet</th>\n",
       "      <th>yo</th>\n",
       "      <th>york</th>\n",
       "      <th>yorker</th>\n",
       "      <th>you</th>\n",
       "      <th>your</th>\n",
       "      <th>yours</th>\n",
       "      <th>yourself</th>\n",
       "      <th>yourselves</th>\n",
       "      <th>zuma</th>\n",
       "    </tr>\n",
       "  </thead>\n",
       "  <tbody>\n",
       "    <tr>\n",
       "      <th>0</th>\n",
       "      <td>0.002466</td>\n",
       "      <td>0.000874</td>\n",
       "      <td>0.002308</td>\n",
       "      <td>0.000000</td>\n",
       "      <td>0.001172</td>\n",
       "      <td>0.002599</td>\n",
       "      <td>0.001916</td>\n",
       "      <td>0.001113</td>\n",
       "      <td>0.001404</td>\n",
       "      <td>0.000986</td>\n",
       "      <td>...</td>\n",
       "      <td>0.003431</td>\n",
       "      <td>0.001281</td>\n",
       "      <td>0.000844</td>\n",
       "      <td>0.003016</td>\n",
       "      <td>0.002023</td>\n",
       "      <td>0.001655</td>\n",
       "      <td>0.001172</td>\n",
       "      <td>0.001702</td>\n",
       "      <td>0.001395</td>\n",
       "      <td>0.001743</td>\n",
       "    </tr>\n",
       "    <tr>\n",
       "      <th>1</th>\n",
       "      <td>0.003832</td>\n",
       "      <td>0.002003</td>\n",
       "      <td>0.004098</td>\n",
       "      <td>0.000000</td>\n",
       "      <td>0.001465</td>\n",
       "      <td>0.003101</td>\n",
       "      <td>0.001512</td>\n",
       "      <td>0.003006</td>\n",
       "      <td>0.002958</td>\n",
       "      <td>0.001973</td>\n",
       "      <td>...</td>\n",
       "      <td>0.004238</td>\n",
       "      <td>0.002779</td>\n",
       "      <td>0.001497</td>\n",
       "      <td>0.003492</td>\n",
       "      <td>0.002651</td>\n",
       "      <td>0.002608</td>\n",
       "      <td>0.001465</td>\n",
       "      <td>0.002958</td>\n",
       "      <td>0.003049</td>\n",
       "      <td>0.004494</td>\n",
       "    </tr>\n",
       "    <tr>\n",
       "      <th>2</th>\n",
       "      <td>0.002254</td>\n",
       "      <td>0.000408</td>\n",
       "      <td>0.002386</td>\n",
       "      <td>0.000000</td>\n",
       "      <td>0.001059</td>\n",
       "      <td>0.001961</td>\n",
       "      <td>0.000897</td>\n",
       "      <td>0.002180</td>\n",
       "      <td>0.002960</td>\n",
       "      <td>0.001356</td>\n",
       "      <td>...</td>\n",
       "      <td>0.002316</td>\n",
       "      <td>0.001770</td>\n",
       "      <td>0.003072</td>\n",
       "      <td>0.002969</td>\n",
       "      <td>0.002124</td>\n",
       "      <td>0.001876</td>\n",
       "      <td>0.001059</td>\n",
       "      <td>0.002065</td>\n",
       "      <td>0.002088</td>\n",
       "      <td>0.001082</td>\n",
       "    </tr>\n",
       "    <tr>\n",
       "      <th>3</th>\n",
       "      <td>0.001390</td>\n",
       "      <td>0.000000</td>\n",
       "      <td>0.001154</td>\n",
       "      <td>0.000000</td>\n",
       "      <td>0.001490</td>\n",
       "      <td>0.000871</td>\n",
       "      <td>0.001197</td>\n",
       "      <td>0.000679</td>\n",
       "      <td>0.000924</td>\n",
       "      <td>0.001539</td>\n",
       "      <td>...</td>\n",
       "      <td>0.001812</td>\n",
       "      <td>0.000946</td>\n",
       "      <td>0.000924</td>\n",
       "      <td>0.000923</td>\n",
       "      <td>0.001327</td>\n",
       "      <td>0.000879</td>\n",
       "      <td>0.001490</td>\n",
       "      <td>0.000679</td>\n",
       "      <td>0.000694</td>\n",
       "      <td>0.000230</td>\n",
       "    </tr>\n",
       "    <tr>\n",
       "      <th>4</th>\n",
       "      <td>0.002844</td>\n",
       "      <td>0.001374</td>\n",
       "      <td>0.003401</td>\n",
       "      <td>0.000523</td>\n",
       "      <td>0.003703</td>\n",
       "      <td>0.012015</td>\n",
       "      <td>0.003564</td>\n",
       "      <td>0.002406</td>\n",
       "      <td>0.003144</td>\n",
       "      <td>0.001820</td>\n",
       "      <td>...</td>\n",
       "      <td>0.001768</td>\n",
       "      <td>0.002107</td>\n",
       "      <td>0.001851</td>\n",
       "      <td>0.004310</td>\n",
       "      <td>0.002381</td>\n",
       "      <td>0.002437</td>\n",
       "      <td>0.003703</td>\n",
       "      <td>0.004303</td>\n",
       "      <td>0.001722</td>\n",
       "      <td>0.002913</td>\n",
       "    </tr>\n",
       "  </tbody>\n",
       "</table>\n",
       "<p>5 rows × 2060 columns</p>\n",
       "</div>"
      ],
      "text/plain": [
       "        000      0098    031349      0878  0b1fatransfer        10      1000  \\\n",
       "0  0.002466  0.000874  0.002308  0.000000       0.001172  0.002599  0.001916   \n",
       "1  0.003832  0.002003  0.004098  0.000000       0.001465  0.003101  0.001512   \n",
       "2  0.002254  0.000408  0.002386  0.000000       0.001059  0.001961  0.000897   \n",
       "3  0.001390  0.000000  0.001154  0.000000       0.001490  0.000871  0.001197   \n",
       "4  0.002844  0.001374  0.003401  0.000523       0.003703  0.012015  0.003564   \n",
       "\n",
       "         11        12     12cyl  ...       yet        yo      york    yorker  \\\n",
       "0  0.001113  0.001404  0.000986  ...  0.003431  0.001281  0.000844  0.003016   \n",
       "1  0.003006  0.002958  0.001973  ...  0.004238  0.002779  0.001497  0.003492   \n",
       "2  0.002180  0.002960  0.001356  ...  0.002316  0.001770  0.003072  0.002969   \n",
       "3  0.000679  0.000924  0.001539  ...  0.001812  0.000946  0.000924  0.000923   \n",
       "4  0.002406  0.003144  0.001820  ...  0.001768  0.002107  0.001851  0.004310   \n",
       "\n",
       "        you      your     yours  yourself  yourselves      zuma  \n",
       "0  0.002023  0.001655  0.001172  0.001702    0.001395  0.001743  \n",
       "1  0.002651  0.002608  0.001465  0.002958    0.003049  0.004494  \n",
       "2  0.002124  0.001876  0.001059  0.002065    0.002088  0.001082  \n",
       "3  0.001327  0.000879  0.001490  0.000679    0.000694  0.000230  \n",
       "4  0.002381  0.002437  0.003703  0.004303    0.001722  0.002913  \n",
       "\n",
       "[5 rows x 2060 columns]"
      ]
     },
     "execution_count": 871,
     "metadata": {},
     "output_type": "execute_result"
    }
   ],
   "source": [
    "doc_word_distr.head()"
   ]
  },
  {
   "cell_type": "code",
   "execution_count": 872,
   "metadata": {},
   "outputs": [
    {
     "data": {
      "text/plain": [
       "the        0.09375\n",
       "they       0.06250\n",
       "can        0.06250\n",
       "sure       0.03125\n",
       "imagine    0.03125\n",
       "Name: 13, dtype: float64"
      ]
     },
     "execution_count": 872,
     "metadata": {},
     "output_type": "execute_result"
    }
   ],
   "source": [
    "doc_index = 13\n",
    "word_doc_frequency_norm.iloc[doc_index].sort_values(ascending=False).head(5)"
   ]
  },
  {
   "cell_type": "code",
   "execution_count": 873,
   "metadata": {},
   "outputs": [
    {
     "data": {
      "text/plain": [
       "nucleus    0.017078\n",
       "hundred    0.017078\n",
       "coma       0.017078\n",
       "almost     0.017078\n",
       "within     0.010553\n",
       "Name: 13, dtype: float64"
      ]
     },
     "execution_count": 873,
     "metadata": {},
     "output_type": "execute_result"
    }
   ],
   "source": [
    "doc_word_distr.loc[doc_index].sort_values(ascending=False).head(5)"
   ]
  },
  {
   "cell_type": "code",
   "execution_count": 874,
   "metadata": {},
   "outputs": [
    {
     "data": {
      "text/plain": [
       "almost     0.848906\n",
       "hundred    0.848906\n",
       "coma       0.848906\n",
       "nucleus    0.848906\n",
       "figure     0.424453\n",
       "             ...   \n",
       "phobos     0.000000\n",
       "phone      0.000000\n",
       "pickup     0.000000\n",
       "piece      0.000000\n",
       "000        0.000000\n",
       "Name: nucleus, Length: 2060, dtype: float64"
      ]
     },
     "execution_count": 874,
     "metadata": {},
     "output_type": "execute_result"
    }
   ],
   "source": [
    "word_word_co.loc[\"nucleus\"].sort_values(ascending=False)"
   ]
  },
  {
   "cell_type": "code",
   "execution_count": 875,
   "metadata": {
    "scrolled": true
   },
   "outputs": [
    {
     "name": "stdout",
     "output_type": "stream",
     "text": [
      "Topic: sci.space\n",
      "==================================================\n",
      "i m not sure but it almost sound like they can t figure out where the nucleus be within the coma if they re off by a couple hundred mile well you can imagine the rest\n"
     ]
    }
   ],
   "source": [
    "print(f\"Topic: {labels[doc_index]}\\n{'='*50}\\n{train_docs[doc_index]}\")"
   ]
  },
  {
   "cell_type": "markdown",
   "metadata": {},
   "source": [
    "### Define Latent partitions"
   ]
  },
  {
   "cell_type": "code",
   "execution_count": 915,
   "metadata": {},
   "outputs": [
    {
     "name": "stdout",
     "output_type": "stream",
     "text": [
      "distr_params has shape (200, 4)\n"
     ]
    }
   ],
   "source": [
    "# reduction = None\n",
    "reduction = \"pca\"\n",
    "# reduction = \"normal\"\n",
    "\n",
    "if reduction is None:\n",
    "    columns = doc_word_distr.columns\n",
    "    param_values = doc_word_distr.values\n",
    "\n",
    "if reduction == \"pca\":\n",
    "    num_of_components = 4\n",
    "    columns = list(range(num_of_components))\n",
    "    \n",
    "    pca = PCA(n_components=num_of_components, whiten=True)\n",
    "    param_values = pca.fit_transform(doc_word_distr)\n",
    "\n",
    "if reduction == \"normal\":\n",
    "    columns = [\"mean\", \"std\"]\n",
    "    column_values = [doc_word_distr.sum(1), doc_word_distr.mean(1)]\n",
    "    param_values = np.array(column_values).T\n",
    "    \n",
    "distr_params = pd.DataFrame(data=param_values, columns=columns, index=list(range(len(doc_word_distr))))\n",
    "print(f\"distr_params has shape {distr_params.shape}\")"
   ]
  },
  {
   "cell_type": "code",
   "execution_count": 916,
   "metadata": {
    "scrolled": false
   },
   "outputs": [
    {
     "data": {
      "text/html": [
       "<div>\n",
       "<style scoped>\n",
       "    .dataframe tbody tr th:only-of-type {\n",
       "        vertical-align: middle;\n",
       "    }\n",
       "\n",
       "    .dataframe tbody tr th {\n",
       "        vertical-align: top;\n",
       "    }\n",
       "\n",
       "    .dataframe thead th {\n",
       "        text-align: right;\n",
       "    }\n",
       "</style>\n",
       "<table border=\"1\" class=\"dataframe\">\n",
       "  <thead>\n",
       "    <tr style=\"text-align: right;\">\n",
       "      <th></th>\n",
       "      <th>0</th>\n",
       "      <th>1</th>\n",
       "      <th>2</th>\n",
       "      <th>3</th>\n",
       "    </tr>\n",
       "  </thead>\n",
       "  <tbody>\n",
       "    <tr>\n",
       "      <th>0</th>\n",
       "      <td>-0.394550</td>\n",
       "      <td>0.467248</td>\n",
       "      <td>1.156211</td>\n",
       "      <td>-0.156453</td>\n",
       "    </tr>\n",
       "    <tr>\n",
       "      <th>1</th>\n",
       "      <td>1.254347</td>\n",
       "      <td>1.025711</td>\n",
       "      <td>-0.295810</td>\n",
       "      <td>1.334139</td>\n",
       "    </tr>\n",
       "    <tr>\n",
       "      <th>2</th>\n",
       "      <td>0.435612</td>\n",
       "      <td>1.309399</td>\n",
       "      <td>-1.104340</td>\n",
       "      <td>-0.951830</td>\n",
       "    </tr>\n",
       "    <tr>\n",
       "      <th>3</th>\n",
       "      <td>-1.632810</td>\n",
       "      <td>0.726976</td>\n",
       "      <td>1.461383</td>\n",
       "      <td>-1.268605</td>\n",
       "    </tr>\n",
       "    <tr>\n",
       "      <th>4</th>\n",
       "      <td>0.581701</td>\n",
       "      <td>-0.843140</td>\n",
       "      <td>-1.096390</td>\n",
       "      <td>-0.089863</td>\n",
       "    </tr>\n",
       "  </tbody>\n",
       "</table>\n",
       "</div>"
      ],
      "text/plain": [
       "          0         1         2         3\n",
       "0 -0.394550  0.467248  1.156211 -0.156453\n",
       "1  1.254347  1.025711 -0.295810  1.334139\n",
       "2  0.435612  1.309399 -1.104340 -0.951830\n",
       "3 -1.632810  0.726976  1.461383 -1.268605\n",
       "4  0.581701 -0.843140 -1.096390 -0.089863"
      ]
     },
     "execution_count": 916,
     "metadata": {},
     "output_type": "execute_result"
    }
   ],
   "source": [
    "distr_params.head()"
   ]
  },
  {
   "cell_type": "markdown",
   "metadata": {},
   "source": [
    "### Using Kmeans MiniBatch"
   ]
  },
  {
   "cell_type": "code",
   "execution_count": 917,
   "metadata": {},
   "outputs": [],
   "source": [
    "num_of_topics = 4"
   ]
  },
  {
   "cell_type": "code",
   "execution_count": 918,
   "metadata": {},
   "outputs": [],
   "source": [
    "kmeans_model = KMeans(n_clusters=num_of_topics, random_state=0).fit(distr_params)"
   ]
  },
  {
   "cell_type": "code",
   "execution_count": 919,
   "metadata": {},
   "outputs": [
    {
     "name": "stdout",
     "output_type": "stream",
     "text": [
      "dist has shape (200, 4), predicted_labels has shape (200,)\n"
     ]
    }
   ],
   "source": [
    "dist = kmeans_model.transform(distr_params)\n",
    "predicted_labels = kmeans_model.predict(distr_params)\n",
    "wtf = gaussian(normalize(dist, norm=\"l1\", axis=1))\n",
    "\n",
    "print(f\"dist has shape {dist.shape}, predicted_labels has shape {predicted_labels.shape}\")"
   ]
  },
  {
   "cell_type": "code",
   "execution_count": 920,
   "metadata": {},
   "outputs": [
    {
     "data": {
      "text/plain": [
       "Counter({1: 92, 0: 37, 2: 33, 3: 38})"
      ]
     },
     "execution_count": 920,
     "metadata": {},
     "output_type": "execute_result"
    }
   ],
   "source": [
    "Counter(predicted_labels)"
   ]
  },
  {
   "cell_type": "code",
   "execution_count": 921,
   "metadata": {},
   "outputs": [
    {
     "data": {
      "image/png": "[encoded data removed]",
      "text/plain": [
       "<Figure size 1080x360 with 2 Axes>"
      ]
     },
     "metadata": {
      "needs_background": "light"
     },
     "output_type": "display_data"
    }
   ],
   "source": [
    "fig = plt.figure(figsize=(15,5), tight_layout=True)\n",
    "ax1 = fig.add_subplot(121)\n",
    "ax2 = fig.add_subplot(122)\n",
    "\n",
    "ax1.set_title(\"Documents Space\")\n",
    "ax1.scatter(param_values[:, 0], param_values[:,1], c = label_indices)\n",
    "ax1.set_xlabel(columns[0])\n",
    "ax1.set_xlabel(columns[1])\n",
    "\n",
    "ax2.set_title(\"Kmeans Documents Space\")\n",
    "ax2.scatter(param_values[:, 0], param_values[:,1], c = predicted_labels)\n",
    "ax2.set_xlabel(columns[0])\n",
    "ax2.set_xlabel(columns[1])\n",
    "\n",
    "plt.show()"
   ]
  },
  {
   "cell_type": "code",
   "execution_count": 922,
   "metadata": {
    "scrolled": true
   },
   "outputs": [],
   "source": [
    "def get_topwords2(topic):\n",
    "    indices = np.where(predicted_labels == topic)[0]\n",
    "    print(doc_word_distr.iloc[indices].mean(0).sort_values(ascending=False).head(10))\n",
    "\n",
    "def get_topwords(topic):\n",
    "    indices = np.where(predicted_labels == topic)[0]\n",
    "    print((doc_word_distr.T * wtf[:, topic]).T.iloc[indices].mean(0).sort_values(ascending=False).head(10))\n",
    "\n",
    "def get_topwords2(topic):\n",
    "    indices = np.where(predicted_labels == topic)[0]\n",
    "    xv = (doc_word_distr.T * wtf[:, topic]).T.iloc[indices]\n",
    "    xvc = (xv > 0).sum(0)\n",
    "    print((xv.sum(0) * calculate_trust_ratio(xvc) / xvc).sort_values(ascending=False).head(10))\n",
    "\n",
    "def get_top2(topic):\n",
    "    indices = dist[:, topic].argsort()\n",
    "    print(labels[indices[:10]])\n",
    "    get_topwords(topic)\n",
    "    \n",
    "def get_top(topic):\n",
    "    indices = np.where(predicted_labels == topic)[0]\n",
    "    count = Counter()\n",
    "    for index in indices:\n",
    "        count[labels[index]] += wtf[index, topic]\n",
    "        \n",
    "    print(Counter(labels[indices]))\n",
    "    get_topwords(topic)"
   ]
  },
  {
   "cell_type": "code",
   "execution_count": 923,
   "metadata": {
    "scrolled": true
   },
   "outputs": [
    {
     "name": "stdout",
     "output_type": "stream",
     "text": [
      "Counter({'sci.space': 15, 'rec.autos': 11, 'talk.politics.mideast': 9, 'alt.atheism': 2})\n",
      "various        0.003966\n",
      "common         0.003966\n",
      "hardly         0.003966\n",
      "era            0.003966\n",
      "foreign        0.003966\n",
      "quite          0.003697\n",
      "total          0.003689\n",
      "competetors    0.003689\n",
      "purse          0.003689\n",
      "motocycle      0.003689\n",
      "dtype: float64\n"
     ]
    }
   ],
   "source": [
    "get_top(0)"
   ]
  },
  {
   "cell_type": "code",
   "execution_count": 924,
   "metadata": {},
   "outputs": [
    {
     "name": "stdout",
     "output_type": "stream",
     "text": [
      "Counter({'rec.autos': 28, 'alt.atheism': 23, 'talk.politics.mideast': 21, 'sci.space': 20})\n",
      "acknowledge    0.002288\n",
      "ahead          0.002288\n",
      "lane           0.002288\n",
      "extend         0.002288\n",
      "semi           0.002288\n",
      "ssto           0.002230\n",
      "lease          0.002230\n",
      "cheaper        0.002230\n",
      "facility       0.002230\n",
      "pad            0.002230\n",
      "dtype: float64\n"
     ]
    }
   ],
   "source": [
    "get_top(1)"
   ]
  },
  {
   "cell_type": "code",
   "execution_count": 925,
   "metadata": {},
   "outputs": [
    {
     "name": "stdout",
     "output_type": "stream",
     "text": [
      "Counter({'alt.atheism': 16, 'talk.politics.mideast': 8, 'sci.space': 6, 'rec.autos': 3})\n",
      "fabrication    0.004574\n",
      "bedouin        0.004574\n",
      "helpful        0.004574\n",
      "feedback       0.004574\n",
      "assumes        0.004574\n",
      "happy          0.004574\n",
      "accuracy       0.004574\n",
      "danhy          0.004574\n",
      "judge          0.004178\n",
      "chrismas       0.004050\n",
      "dtype: float64\n"
     ]
    }
   ],
   "source": [
    "get_top(2)"
   ]
  },
  {
   "cell_type": "code",
   "execution_count": 926,
   "metadata": {},
   "outputs": [
    {
     "name": "stdout",
     "output_type": "stream",
     "text": [
      "Counter({'talk.politics.mideast': 12, 'alt.atheism': 9, 'sci.space': 9, 'rec.autos': 8})\n",
      "explain      0.003701\n",
      "pertains     0.003701\n",
      "position     0.003489\n",
      "satan        0.003359\n",
      "freewill     0.003359\n",
      "angel        0.003359\n",
      "shift        0.003311\n",
      "funding      0.003311\n",
      "advantage    0.003311\n",
      "federal      0.003311\n",
      "dtype: float64\n"
     ]
    }
   ],
   "source": [
    "get_top(3)"
   ]
  },
  {
   "cell_type": "markdown",
   "metadata": {},
   "source": [
    "### LDA"
   ]
  },
  {
   "cell_type": "code",
   "execution_count": null,
   "metadata": {},
   "outputs": [],
   "source": []
  }
 ],
 "metadata": {
  "kernelspec": {
   "display_name": "Python 3",
   "language": "python",
   "name": "python3"
  },
  "language_info": {
   "codemirror_mode": {
    "name": "ipython",
    "version": 3
   },
   "file_extension": ".py",
   "mimetype": "text/x-python",
   "name": "python",
   "nbconvert_exporter": "python",
   "pygments_lexer": "ipython3",
   "version": "3.7.2"
  }
 },
 "nbformat": 4,
 "nbformat_minor": 2
}

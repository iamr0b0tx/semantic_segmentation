{
 "cells": [
  {
   "cell_type": "code",
   "execution_count": 1,
   "metadata": {},
   "outputs": [],
   "source": [
    "%load_ext autoreload\n",
    "%autoreload 2"
   ]
  },
  {
   "cell_type": "markdown",
   "metadata": {},
   "source": [
    "### imports and utilities"
   ]
  },
  {
   "cell_type": "code",
   "execution_count": 2,
   "metadata": {},
   "outputs": [
    {
     "name": "stdout",
     "output_type": "stream",
     "text": [
      "Requirement already satisfied: nltk in c:\\users\\christian\\documents\\christian\\work\\python\\cyberspace\\topic_modeler\\venv\\lib\\site-packages (3.5)\n",
      "Requirement already satisfied: scikit-learn in c:\\users\\christian\\documents\\christian\\work\\python\\cyberspace\\topic_modeler\\venv\\lib\\site-packages (0.23.1)\n",
      "Requirement already satisfied: matplotlib in c:\\users\\christian\\documents\\christian\\work\\python\\cyberspace\\topic_modeler\\venv\\lib\\site-packages (3.2.2)\n",
      "Requirement already satisfied: scipy in c:\\users\\christian\\documents\\christian\\work\\python\\cyberspace\\topic_modeler\\venv\\lib\\site-packages (1.4.1)\n",
      "Requirement already satisfied: click in c:\\users\\christian\\documents\\christian\\work\\python\\cyberspace\\topic_modeler\\venv\\lib\\site-packages (from nltk) (7.1.2)\n",
      "Requirement already satisfied: joblib in c:\\users\\christian\\documents\\christian\\work\\python\\cyberspace\\topic_modeler\\venv\\lib\\site-packages (from nltk) (0.16.0)\n",
      "Requirement already satisfied: regex in c:\\users\\christian\\documents\\christian\\work\\python\\cyberspace\\topic_modeler\\venv\\lib\\site-packages (from nltk) (2020.6.8)\n",
      "Requirement already satisfied: tqdm in c:\\users\\christian\\documents\\christian\\work\\python\\cyberspace\\topic_modeler\\venv\\lib\\site-packages (from nltk) (4.47.0)\n",
      "Requirement already satisfied: numpy>=1.13.3 in c:\\users\\christian\\documents\\christian\\work\\python\\cyberspace\\topic_modeler\\venv\\lib\\site-packages (from scikit-learn) (1.19.0)\n",
      "Requirement already satisfied: threadpoolctl>=2.0.0 in c:\\users\\christian\\documents\\christian\\work\\python\\cyberspace\\topic_modeler\\venv\\lib\\site-packages (from scikit-learn) (2.1.0)\n",
      "Requirement already satisfied: pyparsing!=2.0.4,!=2.1.2,!=2.1.6,>=2.0.1 in c:\\users\\christian\\documents\\christian\\work\\python\\cyberspace\\topic_modeler\\venv\\lib\\site-packages (from matplotlib) (2.4.7)\n",
      "Requirement already satisfied: cycler>=0.10 in c:\\users\\christian\\documents\\christian\\work\\python\\cyberspace\\topic_modeler\\venv\\lib\\site-packages (from matplotlib) (0.10.0)\n",
      "Requirement already satisfied: kiwisolver>=1.0.1 in c:\\users\\christian\\documents\\christian\\work\\python\\cyberspace\\topic_modeler\\venv\\lib\\site-packages (from matplotlib) (1.2.0)\n",
      "Requirement already satisfied: python-dateutil>=2.1 in c:\\users\\christian\\documents\\christian\\work\\python\\cyberspace\\topic_modeler\\venv\\lib\\site-packages (from matplotlib) (2.8.1)\n",
      "Requirement already satisfied: six in c:\\users\\christian\\documents\\christian\\work\\python\\cyberspace\\topic_modeler\\venv\\lib\\site-packages (from cycler>=0.10->matplotlib) (1.15.0)\n"
     ]
    }
   ],
   "source": [
    "!pip install nltk scikit-learn matplotlib scipy"
   ]
  },
  {
   "cell_type": "code",
   "execution_count": 3,
   "metadata": {},
   "outputs": [
    {
     "name": "stderr",
     "output_type": "stream",
     "text": [
      "[nltk_data] Error loading punkt: <urlopen error [Errno 11001]\n",
      "[nltk_data]     getaddrinfo failed>\n",
      "[nltk_data] Error loading wordnet: <urlopen error [Errno 11001]\n",
      "[nltk_data]     getaddrinfo failed>\n",
      "[nltk_data] Error loading averaged_perceptron_tagger: <urlopen error\n",
      "[nltk_data]     [Errno 11001] getaddrinfo failed>\n"
     ]
    },
    {
     "data": {
      "text/plain": [
       "False"
      ]
     },
     "execution_count": 3,
     "metadata": {},
     "output_type": "execute_result"
    }
   ],
   "source": [
    "import nltk\n",
    "nltk.download('punkt')\n",
    "nltk.download('wordnet')\n",
    "nltk.download('averaged_perceptron_tagger')"
   ]
  },
  {
   "cell_type": "code",
   "execution_count": 4,
   "metadata": {},
   "outputs": [],
   "source": [
    "from collections import Counter\n",
    "from utils import *\n",
    "\n",
    "import numpy as np\n",
    "import pandas as pd\n",
    "import matplotlib.pyplot as plt\n",
    "\n",
    "from tqdm.notebook import tqdm\n",
    "from scipy.special import softmax\n",
    "from scipy.stats import norm\n",
    "from scipy.stats import entropy as calculate_entropy\n",
    "\n",
    "\n",
    "from sklearn.decomposition import PCA\n",
    "from sklearn.preprocessing import normalize\n",
    "from sklearn.datasets import fetch_20newsgroups\n",
    "from sklearn.cluster import KMeans, MiniBatchKMeans\n",
    "from sklearn.metrics.pairwise import cosine_similarity\n",
    "from sklearn.feature_extraction.text import CountVectorizer, TfidfVectorizer"
   ]
  },
  {
   "cell_type": "markdown",
   "metadata": {},
   "source": [
    "### load dataset"
   ]
  },
  {
   "cell_type": "code",
   "execution_count": 88,
   "metadata": {},
   "outputs": [],
   "source": [
    "dataset = \"newsgroup\"\n",
    "\n",
    "# total number of samples needed\n",
    "randomize = False\n",
    "\n",
    "# retrieve dataset\n",
    "categories = ['rec.autos', 'talk.politics.mideast', 'alt.atheism', 'sci.space']\n",
    "\n",
    "docs = fetch_20newsgroups(subset='train', shuffle=randomize, remove=('headers', 'footers', 'quotes'), categories=categories)\n",
    "docs, old_labels, classes = docs.data, docs.target, docs.target_names"
   ]
  },
  {
   "cell_type": "code",
   "execution_count": 89,
   "metadata": {},
   "outputs": [],
   "source": [
    "# dataset = \"bbc\"\n",
    "\n",
    "# data = pd.read_csv('bbcsport.csv')\n",
    "\n",
    "# docs = data[\"text\"].to_list()\n",
    "# old_labels = data[\"topic\"].to_list()\n",
    "# categories = classes = np.unique(data[\"topic\"]).tolist()"
   ]
  },
  {
   "cell_type": "markdown",
   "metadata": {},
   "source": [
    "### clean dataset"
   ]
  },
  {
   "cell_type": "code",
   "execution_count": 90,
   "metadata": {},
   "outputs": [
    {
     "data": {
      "application/vnd.jupyter.widget-view+json": {
       "model_id": "4eda007e5db143fcbab77b5475a59b24",
       "version_major": 2,
       "version_minor": 0
      },
      "text/plain": [
       "HBox(children=(FloatProgress(value=0.0, max=200.0), HTML(value='')))"
      ]
     },
     "metadata": {},
     "output_type": "display_data"
    },
    {
     "name": "stdout",
     "output_type": "stream",
     "text": [
      "\n"
     ]
    }
   ],
   "source": [
    "datasize = 50\n",
    "min_document_length = 512\n",
    "max_document_length = None\n",
    "\n",
    "\n",
    "index = -1\n",
    "train_docs, labels, label_indices = [], [], []\n",
    "\n",
    "sizes = [0]*len(categories)\n",
    "\n",
    "with tqdm(total=len(categories)*datasize) as pbar:\n",
    "    while sum(sizes) != len(categories)*datasize:\n",
    "        index += 1\n",
    "        \n",
    "        if dataset == \"bbc\":\n",
    "            size_index = categories.index(old_labels[index])\n",
    "            \n",
    "        else:\n",
    "            size_index = categories.index(classes[old_labels[index]])\n",
    "        \n",
    "        if sizes[size_index] == datasize:\n",
    "            continue\n",
    "        \n",
    "        doc = docs[index]\n",
    "        status, doc, word_count = clean_doc(doc, True)\n",
    "        \n",
    "        if not status:\n",
    "            continue\n",
    "            \n",
    "        if min_document_length is not None and len(doc) < min_document_length:\n",
    "            continue\n",
    "            \n",
    "        if max_document_length is not None and len(doc) > max_document_length:\n",
    "            continue\n",
    "        \n",
    "        label_indices.append(size_index)\n",
    "        labels.append(categories[size_index])\n",
    "        train_docs.append(doc)\n",
    "        sizes[size_index] += 1\n",
    "        pbar.update(1)\n",
    "\n",
    "labels = np.array(labels)\n",
    "label_indices = np.array(label_indices)"
   ]
  },
  {
   "cell_type": "code",
   "execution_count": 91,
   "metadata": {},
   "outputs": [
    {
     "name": "stdout",
     "output_type": "stream",
     "text": [
      "Topic: rec.autos\n",
      "==================================================\n",
      "while not exactly a service incident i have a similar experience recently when i bought a new truck i have picked out the vehicle i want and after a little haggle we agree on a price i write them a check for the down payment plus tax and license and told them i d be back that even to pick up the truck when i return i have to wait about an hour before the finance guy could get to me when i finally get in there everything go smoothly until he start add up the number he then discover that they have miscalculate the tax license by about 150 he then say he need another 150 from me i say we have already agree on a price and it be their problem i wasn t give them any more money the finance guy then brought in the manager on duty who proceed to give me a hard time i remind him that i be the customer and i didn t think i should be treat like that and that if he didn t back off he could forget the whole deal he make some smart remark so i told him where he could stick it snatch back my check and left needle to say they be not pleased by the turn of event early the next morning i get a call from the general sale manager want to know what happen i related the story and he apologise profusely and ask if there be anything they could do to change my mind i told him that if they give me the truck for free i probably still wouldn t take it that there be other dealer in town i be a repeat customer of theirs and that they should learn how to treat customer etc etc i be still pretty steam about the whole affair he give me the line about hat to lose a customer and they would try to find a solution etc etc i told him not to bother thanks i d go somewhere else a couple hour later the owner of the dealership call me all apologetic etc etc etc and say that they would cover the 150 plus knock another 400 off the price of the truck i told him i d think about it and he give me his private direct phone number his secretary s name and assure me that they value me a a customer etc etc etc i thought about it for a few hour and discuss it with my wife and we decide what the hell that be a pretty decent deal so i call him back and accepted his offer when i go back the next day to pick up the truck i receive the royal treatment everyone seem to know about the incident even the lot boy everything go smoothly and i be out of there in my new truck in about 30 min so i guess i m a reasonably satisfied customer however it should not have happen in the first place i be a bit shock to have a sale person talk to me like that i don t expect them to bow and grovel but i sure don t expect to be give a hard time either esp when it s their mistake anyway i m happy with the truck and it turn out to be a couple hundred dollar under invoice and they paid most of the first year s license fee i m not sure whether i ll go back to that dealer tho\n"
     ]
    }
   ],
   "source": [
    "index = 0\n",
    "print(f\"Topic: {labels[index]}\\n{'='*50}\\n{train_docs[index]}\")"
   ]
  },
  {
   "cell_type": "code",
   "execution_count": 92,
   "metadata": {},
   "outputs": [
    {
     "name": "stdout",
     "output_type": "stream",
     "text": [
      "[50, 50, 50, 50]\n"
     ]
    }
   ],
   "source": [
    "print(sizes)\n",
    "assert min(sizes) == max(sizes) == datasize"
   ]
  },
  {
   "cell_type": "code",
   "execution_count": 93,
   "metadata": {
    "scrolled": true
   },
   "outputs": [
    {
     "name": "stdout",
     "output_type": "stream",
     "text": [
      "there are 200 docs\n"
     ]
    }
   ],
   "source": [
    "print(f\"there are {len(train_docs)} docs\")"
   ]
  },
  {
   "cell_type": "markdown",
   "metadata": {},
   "source": [
    "### Initialize Vectorizer"
   ]
  },
  {
   "cell_type": "code",
   "execution_count": 94,
   "metadata": {},
   "outputs": [
    {
     "name": "stdout",
     "output_type": "stream",
     "text": [
      "word_count is 8549\n"
     ]
    }
   ],
   "source": [
    "# initialize the count vectorizer\n",
    "vectorizer = CountVectorizer()\n",
    "\n",
    "# fit it to dataset\n",
    "vectorizer.fit(train_docs)\n",
    "\n",
    "vocabulary = vectorizer.get_feature_names()\n",
    "print(\"word_count is\", len(vocabulary))"
   ]
  },
  {
   "cell_type": "markdown",
   "metadata": {},
   "source": [
    "### Prepare Datatset"
   ]
  },
  {
   "cell_type": "code",
   "execution_count": 95,
   "metadata": {},
   "outputs": [
    {
     "name": "stdout",
     "output_type": "stream",
     "text": [
      "200 train_docs\n"
     ]
    }
   ],
   "source": [
    "# create doc count vectors\n",
    "train_doc_vectors = vectorizer.transform(train_docs).toarray()\n",
    "\n",
    "total_num_of_documents = len(train_doc_vectors)\n",
    "print(f\"{total_num_of_documents} train_docs\")"
   ]
  },
  {
   "cell_type": "markdown",
   "metadata": {},
   "source": [
    "### Word-Word Ratio"
   ]
  },
  {
   "cell_type": "code",
   "execution_count": 96,
   "metadata": {
    "scrolled": true
   },
   "outputs": [
    {
     "data": {
      "application/vnd.jupyter.widget-view+json": {
       "model_id": "ac67e4fcfa8a4554afad0bf4c0ecfcb5",
       "version_major": 2,
       "version_minor": 0
      },
      "text/plain": [
       "HBox(children=(FloatProgress(value=0.0, max=8549.0), HTML(value='')))"
      ]
     },
     "metadata": {},
     "output_type": "display_data"
    },
    {
     "name": "stdout",
     "output_type": "stream",
     "text": [
      "\n",
      "word_word_co has shape (8549, 8549)\n"
     ]
    }
   ],
   "source": [
    "# reduce freq in doc to bin value of 1 or 0\n",
    "word_freq_in_doc = pd.DataFrame(train_doc_vectors, columns=vocabulary)\n",
    "word_word_co = pd.DataFrame(data=0.0, columns=vocabulary, index=vocabulary)\n",
    "\n",
    "word_doc_frequency = (word_freq_in_doc > 0).astype(int)\n",
    "word_doc_frequency_norm = (word_freq_in_doc.T / word_freq_in_doc.sum(1)).T\n",
    "\n",
    "probability = word_doc_frequency.sum(0) / len(train_doc_vectors)\n",
    "\n",
    "for word in tqdm(vocabulary):\n",
    "    pxy = word_doc_frequency[word_doc_frequency[word] == 1].sum(0) / total_num_of_documents\n",
    "#     word_word_co[word] = np.log1p(pxy / (probability[word] * probability))\n",
    "#     word_word_co[word] = pxy / (probability[word] * probability)\n",
    "    word_word_co[word] = pxy / probability[word]\n",
    "\n",
    "word_entropy = calculate_entropy(word_word_co.T, base=2)\n",
    "word_word_co = (word_word_co.T * (word_entropy**-1)).T\n",
    "\n",
    "word_word_co -= word_word_co.min().min()\n",
    "word_word_co /= word_word_co.max().max()\n",
    "\n",
    "word_word_co = word_word_co.fillna(0)\n",
    "print(f\"word_word_co has shape {word_word_co.shape}\")"
   ]
  },
  {
   "cell_type": "code",
   "execution_count": 97,
   "metadata": {},
   "outputs": [
    {
     "data": {
      "text/html": [
       "<div>\n",
       "<style scoped>\n",
       "    .dataframe tbody tr th:only-of-type {\n",
       "        vertical-align: middle;\n",
       "    }\n",
       "\n",
       "    .dataframe tbody tr th {\n",
       "        vertical-align: top;\n",
       "    }\n",
       "\n",
       "    .dataframe thead th {\n",
       "        text-align: right;\n",
       "    }\n",
       "</style>\n",
       "<table border=\"1\" class=\"dataframe\">\n",
       "  <thead>\n",
       "    <tr style=\"text-align: right;\">\n",
       "      <th></th>\n",
       "      <th>000</th>\n",
       "      <th>0029</th>\n",
       "      <th>007</th>\n",
       "      <th>01</th>\n",
       "      <th>011</th>\n",
       "      <th>0119</th>\n",
       "      <th>013</th>\n",
       "      <th>0245</th>\n",
       "      <th>0320</th>\n",
       "      <th>04</th>\n",
       "      <th>...</th>\n",
       "      <th>zhigulis</th>\n",
       "      <th>zimogliad</th>\n",
       "      <th>ziona</th>\n",
       "      <th>zionism</th>\n",
       "      <th>zionist</th>\n",
       "      <th>zman</th>\n",
       "      <th>zone</th>\n",
       "      <th>zoo</th>\n",
       "      <th>zulu</th>\n",
       "      <th>zur</th>\n",
       "    </tr>\n",
       "  </thead>\n",
       "  <tbody>\n",
       "    <tr>\n",
       "      <th>000</th>\n",
       "      <td>0.400499</td>\n",
       "      <td>0.000000</td>\n",
       "      <td>0.400499</td>\n",
       "      <td>0.000000</td>\n",
       "      <td>0.000000</td>\n",
       "      <td>0.000000</td>\n",
       "      <td>0.0</td>\n",
       "      <td>0.000000</td>\n",
       "      <td>0.400499</td>\n",
       "      <td>0.133500</td>\n",
       "      <td>...</td>\n",
       "      <td>0.0</td>\n",
       "      <td>0.400499</td>\n",
       "      <td>0.0</td>\n",
       "      <td>0.0</td>\n",
       "      <td>0.0801</td>\n",
       "      <td>0.400499</td>\n",
       "      <td>0.0</td>\n",
       "      <td>0.0</td>\n",
       "      <td>0.0</td>\n",
       "      <td>0.0</td>\n",
       "    </tr>\n",
       "    <tr>\n",
       "      <th>0029</th>\n",
       "      <td>0.000000</td>\n",
       "      <td>0.566141</td>\n",
       "      <td>0.000000</td>\n",
       "      <td>0.188714</td>\n",
       "      <td>0.000000</td>\n",
       "      <td>0.000000</td>\n",
       "      <td>0.0</td>\n",
       "      <td>0.000000</td>\n",
       "      <td>0.000000</td>\n",
       "      <td>0.188714</td>\n",
       "      <td>...</td>\n",
       "      <td>0.0</td>\n",
       "      <td>0.000000</td>\n",
       "      <td>0.0</td>\n",
       "      <td>0.0</td>\n",
       "      <td>0.0000</td>\n",
       "      <td>0.000000</td>\n",
       "      <td>0.0</td>\n",
       "      <td>0.0</td>\n",
       "      <td>0.0</td>\n",
       "      <td>0.0</td>\n",
       "    </tr>\n",
       "    <tr>\n",
       "      <th>007</th>\n",
       "      <td>0.033530</td>\n",
       "      <td>0.000000</td>\n",
       "      <td>0.469423</td>\n",
       "      <td>0.000000</td>\n",
       "      <td>0.000000</td>\n",
       "      <td>0.000000</td>\n",
       "      <td>0.0</td>\n",
       "      <td>0.000000</td>\n",
       "      <td>0.000000</td>\n",
       "      <td>0.000000</td>\n",
       "      <td>...</td>\n",
       "      <td>0.0</td>\n",
       "      <td>0.469423</td>\n",
       "      <td>0.0</td>\n",
       "      <td>0.0</td>\n",
       "      <td>0.0000</td>\n",
       "      <td>0.000000</td>\n",
       "      <td>0.0</td>\n",
       "      <td>0.0</td>\n",
       "      <td>0.0</td>\n",
       "      <td>0.0</td>\n",
       "    </tr>\n",
       "    <tr>\n",
       "      <th>01</th>\n",
       "      <td>0.000000</td>\n",
       "      <td>0.471671</td>\n",
       "      <td>0.000000</td>\n",
       "      <td>0.471671</td>\n",
       "      <td>0.000000</td>\n",
       "      <td>0.000000</td>\n",
       "      <td>0.0</td>\n",
       "      <td>0.471671</td>\n",
       "      <td>0.000000</td>\n",
       "      <td>0.314447</td>\n",
       "      <td>...</td>\n",
       "      <td>0.0</td>\n",
       "      <td>0.000000</td>\n",
       "      <td>0.0</td>\n",
       "      <td>0.0</td>\n",
       "      <td>0.0000</td>\n",
       "      <td>0.000000</td>\n",
       "      <td>0.0</td>\n",
       "      <td>0.0</td>\n",
       "      <td>0.0</td>\n",
       "      <td>0.0</td>\n",
       "    </tr>\n",
       "    <tr>\n",
       "      <th>011</th>\n",
       "      <td>0.000000</td>\n",
       "      <td>0.000000</td>\n",
       "      <td>0.000000</td>\n",
       "      <td>0.000000</td>\n",
       "      <td>0.790409</td>\n",
       "      <td>0.790409</td>\n",
       "      <td>0.0</td>\n",
       "      <td>0.000000</td>\n",
       "      <td>0.000000</td>\n",
       "      <td>0.000000</td>\n",
       "      <td>...</td>\n",
       "      <td>0.0</td>\n",
       "      <td>0.000000</td>\n",
       "      <td>0.0</td>\n",
       "      <td>0.0</td>\n",
       "      <td>0.0000</td>\n",
       "      <td>0.000000</td>\n",
       "      <td>0.0</td>\n",
       "      <td>0.0</td>\n",
       "      <td>0.0</td>\n",
       "      <td>0.0</td>\n",
       "    </tr>\n",
       "  </tbody>\n",
       "</table>\n",
       "<p>5 rows × 8549 columns</p>\n",
       "</div>"
      ],
      "text/plain": [
       "           000      0029       007        01       011      0119  013  \\\n",
       "000   0.400499  0.000000  0.400499  0.000000  0.000000  0.000000  0.0   \n",
       "0029  0.000000  0.566141  0.000000  0.188714  0.000000  0.000000  0.0   \n",
       "007   0.033530  0.000000  0.469423  0.000000  0.000000  0.000000  0.0   \n",
       "01    0.000000  0.471671  0.000000  0.471671  0.000000  0.000000  0.0   \n",
       "011   0.000000  0.000000  0.000000  0.000000  0.790409  0.790409  0.0   \n",
       "\n",
       "          0245      0320        04  ...  zhigulis  zimogliad  ziona  zionism  \\\n",
       "000   0.000000  0.400499  0.133500  ...       0.0   0.400499    0.0      0.0   \n",
       "0029  0.000000  0.000000  0.188714  ...       0.0   0.000000    0.0      0.0   \n",
       "007   0.000000  0.000000  0.000000  ...       0.0   0.469423    0.0      0.0   \n",
       "01    0.471671  0.000000  0.314447  ...       0.0   0.000000    0.0      0.0   \n",
       "011   0.000000  0.000000  0.000000  ...       0.0   0.000000    0.0      0.0   \n",
       "\n",
       "      zionist      zman  zone  zoo  zulu  zur  \n",
       "000    0.0801  0.400499   0.0  0.0   0.0  0.0  \n",
       "0029   0.0000  0.000000   0.0  0.0   0.0  0.0  \n",
       "007    0.0000  0.000000   0.0  0.0   0.0  0.0  \n",
       "01     0.0000  0.000000   0.0  0.0   0.0  0.0  \n",
       "011    0.0000  0.000000   0.0  0.0   0.0  0.0  \n",
       "\n",
       "[5 rows x 8549 columns]"
      ]
     },
     "execution_count": 97,
     "metadata": {},
     "output_type": "execute_result"
    }
   ],
   "source": [
    "word_word_co.head()"
   ]
  },
  {
   "cell_type": "code",
   "execution_count": 98,
   "metadata": {
    "scrolled": true
   },
   "outputs": [
    {
     "data": {
      "image/png": "[encoded data removed]",
      "text/plain": [
       "<Figure size 1080x360 with 3 Axes>"
      ]
     },
     "metadata": {
      "needs_background": "light"
     },
     "output_type": "display_data"
    }
   ],
   "source": [
    "# word = \"shuttle\"\n",
    "# words = [\"the\", \"religion\", \"car\", \"and\", \"driver\", \"shuttle\"]\n",
    "\n",
    "words = np.array(vocabulary)[np.random.randint(len(vocabulary), size=5)]\n",
    "word = words[0]\n",
    "\n",
    "fig = plt.figure(figsize=(15,5), tight_layout=True)\n",
    "ax11 = fig.add_subplot(131)\n",
    "ax12 = fig.add_subplot(132)\n",
    "ax13 = fig.add_subplot(133)\n",
    "\n",
    "ax11.set_title(f\"{word} against Words relation\")\n",
    "ax11.bar(words, word_word_co.loc[word][words])\n",
    "\n",
    "pxy = word_doc_frequency[word_doc_frequency[word] == 1].sum(0)\n",
    "\n",
    "ax12.set_title(f\"{word} against Words Frequency\")\n",
    "ax12.bar(words, pxy[words])\n",
    "\n",
    "pxy /= total_num_of_documents\n",
    "\n",
    "ax13.set_title(f\"{word} against Words Frequency Normalized\")\n",
    "ax13.bar(words, pxy[words])\n",
    "\n",
    "plt.show()"
   ]
  },
  {
   "cell_type": "markdown",
   "metadata": {},
   "source": [
    "### Setup Doc Word Distr"
   ]
  },
  {
   "cell_type": "code",
   "execution_count": 109,
   "metadata": {},
   "outputs": [
    {
     "data": {
      "application/vnd.jupyter.widget-view+json": {
       "model_id": "30f337e8f3674ebc81e901c3b987af1c",
       "version_major": 2,
       "version_minor": 0
      },
      "text/plain": [
       "HBox(children=(FloatProgress(value=0.0, max=200.0), HTML(value='')))"
      ]
     },
     "metadata": {},
     "output_type": "display_data"
    },
    {
     "name": "stdout",
     "output_type": "stream",
     "text": [
      "overall probability sum in docs 2323.962127618931\n",
      "\n"
     ]
    }
   ],
   "source": [
    "number_of_iterations = 1\n",
    "doc_word_distr = word_doc_frequency_norm.copy()\n",
    "\n",
    "total_iterations = number_of_iterations * total_num_of_documents\n",
    "\n",
    "with tqdm(total=total_iterations) as pbar:\n",
    "    for n_iter in range(number_of_iterations):\n",
    "        for doc_index in (range(total_num_of_documents)):\n",
    "            \n",
    "            words = word_doc_frequency_norm.columns[doc_word_distr.loc[doc_index] > 0]\n",
    "            xv = (doc_word_distr.loc[doc_index][words] * word_word_co.loc[words].T).T\n",
    "            doc_word_distr.loc[doc_index] = xv.mean(0)\n",
    "            pbar.update(1)\n",
    "            \n",
    "        print(f\"overall probability sum in docs {doc_word_distr.sum().sum()}\")"
   ]
  },
  {
   "cell_type": "code",
   "execution_count": 110,
   "metadata": {
    "scrolled": true
   },
   "outputs": [
    {
     "data": {
      "text/html": [
       "<div>\n",
       "<style scoped>\n",
       "    .dataframe tbody tr th:only-of-type {\n",
       "        vertical-align: middle;\n",
       "    }\n",
       "\n",
       "    .dataframe tbody tr th {\n",
       "        vertical-align: top;\n",
       "    }\n",
       "\n",
       "    .dataframe thead th {\n",
       "        text-align: right;\n",
       "    }\n",
       "</style>\n",
       "<table border=\"1\" class=\"dataframe\">\n",
       "  <thead>\n",
       "    <tr style=\"text-align: right;\">\n",
       "      <th></th>\n",
       "      <th>000</th>\n",
       "      <th>0029</th>\n",
       "      <th>007</th>\n",
       "      <th>01</th>\n",
       "      <th>011</th>\n",
       "      <th>0119</th>\n",
       "      <th>013</th>\n",
       "      <th>0245</th>\n",
       "      <th>0320</th>\n",
       "      <th>04</th>\n",
       "      <th>...</th>\n",
       "      <th>zhigulis</th>\n",
       "      <th>zimogliad</th>\n",
       "      <th>ziona</th>\n",
       "      <th>zionism</th>\n",
       "      <th>zionist</th>\n",
       "      <th>zman</th>\n",
       "      <th>zone</th>\n",
       "      <th>zoo</th>\n",
       "      <th>zulu</th>\n",
       "      <th>zur</th>\n",
       "    </tr>\n",
       "  </thead>\n",
       "  <tbody>\n",
       "    <tr>\n",
       "      <th>0</th>\n",
       "      <td>0.000728</td>\n",
       "      <td>0.000487</td>\n",
       "      <td>0.001216</td>\n",
       "      <td>0.000649</td>\n",
       "      <td>0.000378</td>\n",
       "      <td>0.000378</td>\n",
       "      <td>0.001086</td>\n",
       "      <td>0.000802</td>\n",
       "      <td>0.000997</td>\n",
       "      <td>0.000658</td>\n",
       "      <td>...</td>\n",
       "      <td>0.001086</td>\n",
       "      <td>0.001216</td>\n",
       "      <td>0.000699</td>\n",
       "      <td>0.000948</td>\n",
       "      <td>0.000777</td>\n",
       "      <td>0.000986</td>\n",
       "      <td>0.000539</td>\n",
       "      <td>0.000493</td>\n",
       "      <td>0.000669</td>\n",
       "      <td>0.000493</td>\n",
       "    </tr>\n",
       "    <tr>\n",
       "      <th>1</th>\n",
       "      <td>0.001525</td>\n",
       "      <td>0.001120</td>\n",
       "      <td>0.002314</td>\n",
       "      <td>0.001509</td>\n",
       "      <td>0.000999</td>\n",
       "      <td>0.000999</td>\n",
       "      <td>0.001903</td>\n",
       "      <td>0.001807</td>\n",
       "      <td>0.001799</td>\n",
       "      <td>0.001414</td>\n",
       "      <td>...</td>\n",
       "      <td>0.001903</td>\n",
       "      <td>0.002314</td>\n",
       "      <td>0.001433</td>\n",
       "      <td>0.002045</td>\n",
       "      <td>0.001763</td>\n",
       "      <td>0.001687</td>\n",
       "      <td>0.001198</td>\n",
       "      <td>0.001267</td>\n",
       "      <td>0.001750</td>\n",
       "      <td>0.001024</td>\n",
       "    </tr>\n",
       "    <tr>\n",
       "      <th>2</th>\n",
       "      <td>0.001332</td>\n",
       "      <td>0.001347</td>\n",
       "      <td>0.002059</td>\n",
       "      <td>0.001460</td>\n",
       "      <td>0.000867</td>\n",
       "      <td>0.000867</td>\n",
       "      <td>0.001809</td>\n",
       "      <td>0.001617</td>\n",
       "      <td>0.001656</td>\n",
       "      <td>0.001340</td>\n",
       "      <td>...</td>\n",
       "      <td>0.001809</td>\n",
       "      <td>0.002059</td>\n",
       "      <td>0.001225</td>\n",
       "      <td>0.001724</td>\n",
       "      <td>0.001433</td>\n",
       "      <td>0.001761</td>\n",
       "      <td>0.001065</td>\n",
       "      <td>0.001034</td>\n",
       "      <td>0.001877</td>\n",
       "      <td>0.000852</td>\n",
       "    </tr>\n",
       "    <tr>\n",
       "      <th>3</th>\n",
       "      <td>0.000476</td>\n",
       "      <td>0.000346</td>\n",
       "      <td>0.000778</td>\n",
       "      <td>0.000460</td>\n",
       "      <td>0.000298</td>\n",
       "      <td>0.000298</td>\n",
       "      <td>0.000670</td>\n",
       "      <td>0.000537</td>\n",
       "      <td>0.000606</td>\n",
       "      <td>0.000453</td>\n",
       "      <td>...</td>\n",
       "      <td>0.000670</td>\n",
       "      <td>0.000778</td>\n",
       "      <td>0.000494</td>\n",
       "      <td>0.000663</td>\n",
       "      <td>0.000538</td>\n",
       "      <td>0.000625</td>\n",
       "      <td>0.000372</td>\n",
       "      <td>0.000383</td>\n",
       "      <td>0.000508</td>\n",
       "      <td>0.000310</td>\n",
       "    </tr>\n",
       "    <tr>\n",
       "      <th>4</th>\n",
       "      <td>0.001380</td>\n",
       "      <td>0.001275</td>\n",
       "      <td>0.002278</td>\n",
       "      <td>0.001709</td>\n",
       "      <td>0.001051</td>\n",
       "      <td>0.001051</td>\n",
       "      <td>0.001703</td>\n",
       "      <td>0.002401</td>\n",
       "      <td>0.001912</td>\n",
       "      <td>0.001619</td>\n",
       "      <td>...</td>\n",
       "      <td>0.001703</td>\n",
       "      <td>0.002278</td>\n",
       "      <td>0.001373</td>\n",
       "      <td>0.001732</td>\n",
       "      <td>0.001467</td>\n",
       "      <td>0.001627</td>\n",
       "      <td>0.001164</td>\n",
       "      <td>0.001227</td>\n",
       "      <td>0.002698</td>\n",
       "      <td>0.000976</td>\n",
       "    </tr>\n",
       "  </tbody>\n",
       "</table>\n",
       "<p>5 rows × 8549 columns</p>\n",
       "</div>"
      ],
      "text/plain": [
       "        000      0029       007        01       011      0119       013  \\\n",
       "0  0.000728  0.000487  0.001216  0.000649  0.000378  0.000378  0.001086   \n",
       "1  0.001525  0.001120  0.002314  0.001509  0.000999  0.000999  0.001903   \n",
       "2  0.001332  0.001347  0.002059  0.001460  0.000867  0.000867  0.001809   \n",
       "3  0.000476  0.000346  0.000778  0.000460  0.000298  0.000298  0.000670   \n",
       "4  0.001380  0.001275  0.002278  0.001709  0.001051  0.001051  0.001703   \n",
       "\n",
       "       0245      0320        04  ...  zhigulis  zimogliad     ziona   zionism  \\\n",
       "0  0.000802  0.000997  0.000658  ...  0.001086   0.001216  0.000699  0.000948   \n",
       "1  0.001807  0.001799  0.001414  ...  0.001903   0.002314  0.001433  0.002045   \n",
       "2  0.001617  0.001656  0.001340  ...  0.001809   0.002059  0.001225  0.001724   \n",
       "3  0.000537  0.000606  0.000453  ...  0.000670   0.000778  0.000494  0.000663   \n",
       "4  0.002401  0.001912  0.001619  ...  0.001703   0.002278  0.001373  0.001732   \n",
       "\n",
       "    zionist      zman      zone       zoo      zulu       zur  \n",
       "0  0.000777  0.000986  0.000539  0.000493  0.000669  0.000493  \n",
       "1  0.001763  0.001687  0.001198  0.001267  0.001750  0.001024  \n",
       "2  0.001433  0.001761  0.001065  0.001034  0.001877  0.000852  \n",
       "3  0.000538  0.000625  0.000372  0.000383  0.000508  0.000310  \n",
       "4  0.001467  0.001627  0.001164  0.001227  0.002698  0.000976  \n",
       "\n",
       "[5 rows x 8549 columns]"
      ]
     },
     "execution_count": 110,
     "metadata": {},
     "output_type": "execute_result"
    }
   ],
   "source": [
    "doc_word_distr.head()"
   ]
  },
  {
   "cell_type": "code",
   "execution_count": 111,
   "metadata": {},
   "outputs": [
    {
     "data": {
      "text/plain": [
       "be      0.078475\n",
       "the     0.034753\n",
       "that    0.032511\n",
       "he      0.026906\n",
       "to      0.025785\n",
       "it      0.022422\n",
       "of      0.021300\n",
       "have    0.016816\n",
       "and     0.015695\n",
       "in      0.014574\n",
       "Name: 3, dtype: float64"
      ]
     },
     "execution_count": 111,
     "metadata": {},
     "output_type": "execute_result"
    }
   ],
   "source": [
    "doc_index = 3\n",
    "word_doc_frequency_norm.iloc[doc_index].sort_values(ascending=False).head(10)"
   ]
  },
  {
   "cell_type": "code",
   "execution_count": 112,
   "metadata": {},
   "outputs": [
    {
     "data": {
      "text/plain": [
       "felder           0.001125\n",
       "betrayal         0.001125\n",
       "prophecy         0.001125\n",
       "explainations    0.001125\n",
       "conclusively     0.001125\n",
       "xian             0.001125\n",
       "4019             0.001125\n",
       "invalid          0.001125\n",
       "crucifixion      0.001125\n",
       "inspires         0.001125\n",
       "Name: 3, dtype: float64"
      ]
     },
     "execution_count": 112,
     "metadata": {},
     "output_type": "execute_result"
    }
   ],
   "source": [
    "doc_word_distr.loc[doc_index].sort_values(ascending=False).head(10)"
   ]
  },
  {
   "cell_type": "code",
   "execution_count": 113,
   "metadata": {},
   "outputs": [],
   "source": [
    "# word_word_co.loc[\"nucleus\"].sort_values(ascending=False)"
   ]
  },
  {
   "cell_type": "code",
   "execution_count": 104,
   "metadata": {
    "scrolled": true
   },
   "outputs": [
    {
     "name": "stdout",
     "output_type": "stream",
     "text": [
      "Topic: alt.atheism\n",
      "==================================================\n",
      "first i want to start right out and say that i m a christian it make sense to be one have any of you read tony campollo s book liar lunatic or the real thing i might be a little off on the title but he writes the book anyway he be part of an effort to destroy christianity in the process he become a christian himself sound like you be say he be a part of some conspiracy just what organization do he belong to do it have a name the book say that jesus be either a liar or he be crazy a modern day koresh or he be actually who he say he be logic alert artificial trifercation the be many other possible explainations could have be that he never exist there have be some good point make in this group that be not impossible that jc be an amalgam of a number of different myth mithra come to mind some reason why he wouldn t be a liar be a follow who would die for a lie wouldn t people be able to tell if he be a liar people gather around him and kept do it many gather from hearing or see someone who be or have be heal call me a fool but i believe he do heal people logic alert argument from incredulity just because it be hard for you to believe this doesn t mean that it isn t true liar can be very pursuasive just look at koresh that you yourself site he have follower that don t think he be a fake and they have show that they be willing to die by not give up after get shot himself koresh have show that he too be will to die for what he believe a far a heal go if i rememer right the heal that be attribute be not consistent between the different gospel in one of them the heal that be do be not any more that faith healer can pull off today seem to me that the early gospel weren t that compel so the story get big to appeal better niether be he a lunatic would more than an entire nation be drawn to someone who be crazy very doubtful in fact rediculous for example anyone who be drawn to david koresh be obviously a fool logical people see this right away therefore since he wasn t a liar or a lunatic he must have be the real thing or might not have exist or any number of thing that be the logical pitfall that those who use flaw logic like this fall into there be bifurcation or tri quad etc that be valid because in the proceed step the person show conclusively that the alternative be all that be possible once everyone agrees that the give set be indeed all there be then argument among the alternative can be presentent and one mostly likely to be true can be deduce by exclude all other possible alternative however if it can be show that the set be not all inclusive then any conclusion base on the incomplete set be invalid even if the true choice be one of the original choice i have give at least one valid alternative so the conclusion that jc be the real mccoy just because he isn t one of the other two alternative be no longer valid some other thing to note he fulfil load of prophecy in the psalm isaiah and elsewhere in 24 hr alone this in his betrayal and crucifixion i don t have my bible with me at this moment next time i write i will use it jc be a rabbi he knew what those prophecy be it wouldn t be any great shake to make sure one do a list of action that would fullfill prophecy what would be compel be if there be a set of clear and explicit prophecy and jc have absolutely no knowledge of then yet fullfilled them anyway i don t think most people understand what a christian be it be certainly not what i see a lot in church rather i think it should be a way of life and a total sacrafice of everything for god s sake he love u enough to die and save u so we should do the same hey we can t do it god himself inspires u to turn our life over to him that s tuff and most people don t want to do it to be a real christian would be something for the strong to persevere at but just like weight lift or guitar play drum whatever it take time we don t rush it in one day christianity be your whole life it be not go to church once a week or help poor people once in a while we box everything into time unit such a work at this time sport tv social life god be above these box and should be carry with u into all these box that we have create for ourselves here i agree with you anyone who buy into this load of mythology should take what it say seriously and what it say be that it must be a total way of life i have very little respect for xian that don t if the myth be true then it be true in it entirity the pick and choose that i see a lot of leaf a bad taste in my mouth jim james l felder sverdrup technology inc phone 216 891 4019 nasa lewis research center cleveland ohio 44135 email jfelder lerc nasa gov some people drink from the fountain of knowledge other people gargle\n"
     ]
    }
   ],
   "source": [
    "print(f\"Topic: {labels[doc_index]}\\n{'='*50}\\n{train_docs[doc_index]}\")"
   ]
  },
  {
   "cell_type": "markdown",
   "metadata": {},
   "source": [
    "### Define Latent partitions"
   ]
  },
  {
   "cell_type": "code",
   "execution_count": 140,
   "metadata": {},
   "outputs": [
    {
     "name": "stdout",
     "output_type": "stream",
     "text": [
      "distr_params has shape (200, 8549)\n"
     ]
    }
   ],
   "source": [
    "reduction = None\n",
    "# reduction = \"pca\"\n",
    "# reduction = \"normal\"\n",
    "\n",
    "if reduction is None:\n",
    "    columns = doc_word_distr.columns\n",
    "    param_values = doc_word_distr.values\n",
    "\n",
    "if reduction == \"pca\":\n",
    "    num_of_components = 2\n",
    "    columns = list(range(num_of_components))\n",
    "    \n",
    "    pca = PCA(n_components=num_of_components, whiten=True)\n",
    "    param_values = pca.fit_transform(doc_word_distr)\n",
    "\n",
    "if reduction == \"normal\":\n",
    "    columns = [\"mean\", \"std\"]\n",
    "    column_values = [doc_word_distr.sum(1), doc_word_distr.mean(1)]\n",
    "    param_values = np.array(column_values).T\n",
    "    \n",
    "distr_params = pd.DataFrame(data=param_values, columns=columns, index=list(range(len(doc_word_distr))))\n",
    "print(f\"distr_params has shape {distr_params.shape}\")"
   ]
  },
  {
   "cell_type": "code",
   "execution_count": 141,
   "metadata": {
    "scrolled": false
   },
   "outputs": [
    {
     "data": {
      "text/html": [
       "<div>\n",
       "<style scoped>\n",
       "    .dataframe tbody tr th:only-of-type {\n",
       "        vertical-align: middle;\n",
       "    }\n",
       "\n",
       "    .dataframe tbody tr th {\n",
       "        vertical-align: top;\n",
       "    }\n",
       "\n",
       "    .dataframe thead th {\n",
       "        text-align: right;\n",
       "    }\n",
       "</style>\n",
       "<table border=\"1\" class=\"dataframe\">\n",
       "  <thead>\n",
       "    <tr style=\"text-align: right;\">\n",
       "      <th></th>\n",
       "      <th>000</th>\n",
       "      <th>0029</th>\n",
       "      <th>007</th>\n",
       "      <th>01</th>\n",
       "      <th>011</th>\n",
       "      <th>0119</th>\n",
       "      <th>013</th>\n",
       "      <th>0245</th>\n",
       "      <th>0320</th>\n",
       "      <th>04</th>\n",
       "      <th>...</th>\n",
       "      <th>zhigulis</th>\n",
       "      <th>zimogliad</th>\n",
       "      <th>ziona</th>\n",
       "      <th>zionism</th>\n",
       "      <th>zionist</th>\n",
       "      <th>zman</th>\n",
       "      <th>zone</th>\n",
       "      <th>zoo</th>\n",
       "      <th>zulu</th>\n",
       "      <th>zur</th>\n",
       "    </tr>\n",
       "  </thead>\n",
       "  <tbody>\n",
       "    <tr>\n",
       "      <th>0</th>\n",
       "      <td>0.000728</td>\n",
       "      <td>0.000487</td>\n",
       "      <td>0.001216</td>\n",
       "      <td>0.000649</td>\n",
       "      <td>0.000378</td>\n",
       "      <td>0.000378</td>\n",
       "      <td>0.001086</td>\n",
       "      <td>0.000802</td>\n",
       "      <td>0.000997</td>\n",
       "      <td>0.000658</td>\n",
       "      <td>...</td>\n",
       "      <td>0.001086</td>\n",
       "      <td>0.001216</td>\n",
       "      <td>0.000699</td>\n",
       "      <td>0.000948</td>\n",
       "      <td>0.000777</td>\n",
       "      <td>0.000986</td>\n",
       "      <td>0.000539</td>\n",
       "      <td>0.000493</td>\n",
       "      <td>0.000669</td>\n",
       "      <td>0.000493</td>\n",
       "    </tr>\n",
       "    <tr>\n",
       "      <th>1</th>\n",
       "      <td>0.001525</td>\n",
       "      <td>0.001120</td>\n",
       "      <td>0.002314</td>\n",
       "      <td>0.001509</td>\n",
       "      <td>0.000999</td>\n",
       "      <td>0.000999</td>\n",
       "      <td>0.001903</td>\n",
       "      <td>0.001807</td>\n",
       "      <td>0.001799</td>\n",
       "      <td>0.001414</td>\n",
       "      <td>...</td>\n",
       "      <td>0.001903</td>\n",
       "      <td>0.002314</td>\n",
       "      <td>0.001433</td>\n",
       "      <td>0.002045</td>\n",
       "      <td>0.001763</td>\n",
       "      <td>0.001687</td>\n",
       "      <td>0.001198</td>\n",
       "      <td>0.001267</td>\n",
       "      <td>0.001750</td>\n",
       "      <td>0.001024</td>\n",
       "    </tr>\n",
       "    <tr>\n",
       "      <th>2</th>\n",
       "      <td>0.001332</td>\n",
       "      <td>0.001347</td>\n",
       "      <td>0.002059</td>\n",
       "      <td>0.001460</td>\n",
       "      <td>0.000867</td>\n",
       "      <td>0.000867</td>\n",
       "      <td>0.001809</td>\n",
       "      <td>0.001617</td>\n",
       "      <td>0.001656</td>\n",
       "      <td>0.001340</td>\n",
       "      <td>...</td>\n",
       "      <td>0.001809</td>\n",
       "      <td>0.002059</td>\n",
       "      <td>0.001225</td>\n",
       "      <td>0.001724</td>\n",
       "      <td>0.001433</td>\n",
       "      <td>0.001761</td>\n",
       "      <td>0.001065</td>\n",
       "      <td>0.001034</td>\n",
       "      <td>0.001877</td>\n",
       "      <td>0.000852</td>\n",
       "    </tr>\n",
       "    <tr>\n",
       "      <th>3</th>\n",
       "      <td>0.000476</td>\n",
       "      <td>0.000346</td>\n",
       "      <td>0.000778</td>\n",
       "      <td>0.000460</td>\n",
       "      <td>0.000298</td>\n",
       "      <td>0.000298</td>\n",
       "      <td>0.000670</td>\n",
       "      <td>0.000537</td>\n",
       "      <td>0.000606</td>\n",
       "      <td>0.000453</td>\n",
       "      <td>...</td>\n",
       "      <td>0.000670</td>\n",
       "      <td>0.000778</td>\n",
       "      <td>0.000494</td>\n",
       "      <td>0.000663</td>\n",
       "      <td>0.000538</td>\n",
       "      <td>0.000625</td>\n",
       "      <td>0.000372</td>\n",
       "      <td>0.000383</td>\n",
       "      <td>0.000508</td>\n",
       "      <td>0.000310</td>\n",
       "    </tr>\n",
       "    <tr>\n",
       "      <th>4</th>\n",
       "      <td>0.001380</td>\n",
       "      <td>0.001275</td>\n",
       "      <td>0.002278</td>\n",
       "      <td>0.001709</td>\n",
       "      <td>0.001051</td>\n",
       "      <td>0.001051</td>\n",
       "      <td>0.001703</td>\n",
       "      <td>0.002401</td>\n",
       "      <td>0.001912</td>\n",
       "      <td>0.001619</td>\n",
       "      <td>...</td>\n",
       "      <td>0.001703</td>\n",
       "      <td>0.002278</td>\n",
       "      <td>0.001373</td>\n",
       "      <td>0.001732</td>\n",
       "      <td>0.001467</td>\n",
       "      <td>0.001627</td>\n",
       "      <td>0.001164</td>\n",
       "      <td>0.001227</td>\n",
       "      <td>0.002698</td>\n",
       "      <td>0.000976</td>\n",
       "    </tr>\n",
       "  </tbody>\n",
       "</table>\n",
       "<p>5 rows × 8549 columns</p>\n",
       "</div>"
      ],
      "text/plain": [
       "        000      0029       007        01       011      0119       013  \\\n",
       "0  0.000728  0.000487  0.001216  0.000649  0.000378  0.000378  0.001086   \n",
       "1  0.001525  0.001120  0.002314  0.001509  0.000999  0.000999  0.001903   \n",
       "2  0.001332  0.001347  0.002059  0.001460  0.000867  0.000867  0.001809   \n",
       "3  0.000476  0.000346  0.000778  0.000460  0.000298  0.000298  0.000670   \n",
       "4  0.001380  0.001275  0.002278  0.001709  0.001051  0.001051  0.001703   \n",
       "\n",
       "       0245      0320        04  ...  zhigulis  zimogliad     ziona   zionism  \\\n",
       "0  0.000802  0.000997  0.000658  ...  0.001086   0.001216  0.000699  0.000948   \n",
       "1  0.001807  0.001799  0.001414  ...  0.001903   0.002314  0.001433  0.002045   \n",
       "2  0.001617  0.001656  0.001340  ...  0.001809   0.002059  0.001225  0.001724   \n",
       "3  0.000537  0.000606  0.000453  ...  0.000670   0.000778  0.000494  0.000663   \n",
       "4  0.002401  0.001912  0.001619  ...  0.001703   0.002278  0.001373  0.001732   \n",
       "\n",
       "    zionist      zman      zone       zoo      zulu       zur  \n",
       "0  0.000777  0.000986  0.000539  0.000493  0.000669  0.000493  \n",
       "1  0.001763  0.001687  0.001198  0.001267  0.001750  0.001024  \n",
       "2  0.001433  0.001761  0.001065  0.001034  0.001877  0.000852  \n",
       "3  0.000538  0.000625  0.000372  0.000383  0.000508  0.000310  \n",
       "4  0.001467  0.001627  0.001164  0.001227  0.002698  0.000976  \n",
       "\n",
       "[5 rows x 8549 columns]"
      ]
     },
     "execution_count": 141,
     "metadata": {},
     "output_type": "execute_result"
    }
   ],
   "source": [
    "distr_params.head()"
   ]
  },
  {
   "cell_type": "markdown",
   "metadata": {},
   "source": [
    "### Using Kmeans MiniBatch"
   ]
  },
  {
   "cell_type": "code",
   "execution_count": 142,
   "metadata": {},
   "outputs": [],
   "source": [
    "num_of_topics = 4"
   ]
  },
  {
   "cell_type": "code",
   "execution_count": 143,
   "metadata": {},
   "outputs": [],
   "source": [
    "kmeans_model = KMeans(n_clusters=num_of_topics, random_state=0).fit(distr_params)"
   ]
  },
  {
   "cell_type": "code",
   "execution_count": 144,
   "metadata": {},
   "outputs": [
    {
     "name": "stdout",
     "output_type": "stream",
     "text": [
      "dist has shape (200, 4), predicted_labels has shape (200,)\n"
     ]
    }
   ],
   "source": [
    "dist = kmeans_model.transform(distr_params)\n",
    "predicted_labels = kmeans_model.predict(distr_params)\n",
    "wtf = gaussian(normalize(dist, norm=\"l1\", axis=1))\n",
    "\n",
    "print(f\"dist has shape {dist.shape}, predicted_labels has shape {predicted_labels.shape}\")"
   ]
  },
  {
   "cell_type": "code",
   "execution_count": 145,
   "metadata": {},
   "outputs": [
    {
     "data": {
      "text/plain": [
       "Counter({1: 47, 0: 60, 2: 38, 3: 55})"
      ]
     },
     "execution_count": 145,
     "metadata": {},
     "output_type": "execute_result"
    }
   ],
   "source": [
    "Counter(predicted_labels)"
   ]
  },
  {
   "cell_type": "code",
   "execution_count": 146,
   "metadata": {},
   "outputs": [
    {
     "data": {
      "image/png": "[encoded data removed]",
      "text/plain": [
       "<Figure size 1080x360 with 2 Axes>"
      ]
     },
     "metadata": {
      "needs_background": "light"
     },
     "output_type": "display_data"
    }
   ],
   "source": [
    "fig = plt.figure(figsize=(15,5), tight_layout=True)\n",
    "ax1 = fig.add_subplot(121)\n",
    "ax2 = fig.add_subplot(122)\n",
    "\n",
    "ax1.set_title(\"Documents Space\")\n",
    "ax1.scatter(param_values[:, 0], param_values[:,1], c = label_indices)\n",
    "ax1.set_xlabel(columns[0])\n",
    "ax1.set_xlabel(columns[1])\n",
    "\n",
    "ax2.set_title(\"Kmeans Documents Space\")\n",
    "ax2.scatter(param_values[:, 0], param_values[:,1], c = predicted_labels)\n",
    "ax2.set_xlabel(columns[0])\n",
    "ax2.set_xlabel(columns[1])\n",
    "\n",
    "plt.show()"
   ]
  },
  {
   "cell_type": "code",
   "execution_count": 147,
   "metadata": {
    "scrolled": true
   },
   "outputs": [],
   "source": [
    "def get_topwords2(topic):\n",
    "    indices = np.where(predicted_labels == topic)[0]\n",
    "    print(doc_word_distr.iloc[indices].mean(0).sort_values(ascending=False).head(10))\n",
    "\n",
    "def get_topwords(topic):\n",
    "    indices = np.where(predicted_labels == topic)[0]\n",
    "    print((doc_word_distr.T * wtf[:, topic]).T.iloc[indices].mean(0).sort_values(ascending=False).head(10))\n",
    "\n",
    "def get_topwords2(topic):\n",
    "    indices = np.where(predicted_labels == topic)[0]\n",
    "    xv = (doc_word_distr.T * wtf[:, topic]).T.iloc[indices]\n",
    "    xvc = (xv > 0).sum(0)\n",
    "    print((xv.sum(0) * calculate_trust_ratio(xvc) / xvc).sort_values(ascending=False).head(10))\n",
    "\n",
    "def get_top2(topic):\n",
    "    indices = dist[:, topic].argsort()\n",
    "    print(labels[indices[:10]])\n",
    "    get_topwords(topic)\n",
    "    \n",
    "def get_top(topic):\n",
    "    indices = np.where(predicted_labels == topic)[0]\n",
    "    count = Counter()\n",
    "    for index in indices:\n",
    "        count[labels[index]] += wtf[index, topic]\n",
    "        \n",
    "    print(Counter(labels[indices]))\n",
    "    get_topwords(topic)"
   ]
  },
  {
   "cell_type": "code",
   "execution_count": 148,
   "metadata": {
    "scrolled": true
   },
   "outputs": [
    {
     "name": "stdout",
     "output_type": "stream",
     "text": [
      "Counter({'rec.autos': 21, 'sci.space': 16, 'alt.atheism': 14, 'talk.politics.mideast': 9})\n",
      "88                0.002576\n",
      "eventual          0.002576\n",
      "cleaner           0.002576\n",
      "pool              0.002576\n",
      "void              0.002576\n",
      "recommendation    0.002576\n",
      "60hr14            0.002576\n",
      "nokia             0.002576\n",
      "alternatively     0.002576\n",
      "crossposted       0.002576\n",
      "dtype: float64\n"
     ]
    }
   ],
   "source": [
    "get_top(0)"
   ]
  },
  {
   "cell_type": "code",
   "execution_count": 149,
   "metadata": {},
   "outputs": [
    {
     "name": "stdout",
     "output_type": "stream",
     "text": [
      "Counter({'talk.politics.mideast': 24, 'rec.autos': 9, 'sci.space': 8, 'alt.atheism': 6})\n",
      "chew             0.00075\n",
      "obligate         0.00075\n",
      "farther          0.00075\n",
      "forbade          0.00075\n",
      "tified           0.00075\n",
      "shurik           0.00075\n",
      "categorically    0.00075\n",
      "anasha           0.00075\n",
      "biting           0.00075\n",
      "heaven           0.00075\n",
      "dtype: float64\n"
     ]
    }
   ],
   "source": [
    "get_top(1)"
   ]
  },
  {
   "cell_type": "code",
   "execution_count": 150,
   "metadata": {},
   "outputs": [
    {
     "name": "stdout",
     "output_type": "stream",
     "text": [
      "Counter({'alt.atheism': 16, 'sci.space': 10, 'rec.autos': 8, 'talk.politics.mideast': 4})\n",
      "directorate    0.003468\n",
      "eskimo         0.003468\n",
      "engels         0.003468\n",
      "pacify         0.003468\n",
      "entrance       0.003468\n",
      "entreaty       0.003468\n",
      "entryway       0.003468\n",
      "overnight      0.003468\n",
      "overheard      0.003468\n",
      "overcharge     0.003468\n",
      "dtype: float64\n"
     ]
    }
   ],
   "source": [
    "get_top(2)"
   ]
  },
  {
   "cell_type": "code",
   "execution_count": 125,
   "metadata": {},
   "outputs": [
    {
     "name": "stdout",
     "output_type": "stream",
     "text": [
      "Counter({'rec.autos': 1})\n",
      "expires        0.013341\n",
      "ct22           0.013341\n",
      "keywords       0.013341\n",
      "constantino    0.013341\n",
      "cunixa         0.013341\n",
      "cdac           0.013341\n",
      "sender         0.013341\n",
      "12789          0.013341\n",
      "211457         0.013341\n",
      "tobio          0.013341\n",
      "dtype: float64\n"
     ]
    }
   ],
   "source": [
    "get_top(3)"
   ]
  },
  {
   "cell_type": "markdown",
   "metadata": {},
   "source": [
    "### LDA"
   ]
  },
  {
   "cell_type": "code",
   "execution_count": null,
   "metadata": {},
   "outputs": [],
   "source": []
  }
 ],
 "metadata": {
  "kernelspec": {
   "display_name": "Python 3",
   "language": "python",
   "name": "python3"
  },
  "language_info": {
   "codemirror_mode": {
    "name": "ipython",
    "version": 3
   },
   "file_extension": ".py",
   "mimetype": "text/x-python",
   "name": "python",
   "nbconvert_exporter": "python",
   "pygments_lexer": "ipython3",
   "version": "3.7.2"
  }
 },
 "nbformat": 4,
 "nbformat_minor": 2
}

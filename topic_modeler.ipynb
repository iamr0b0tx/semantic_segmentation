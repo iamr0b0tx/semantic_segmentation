{
 "cells": [
  {
   "cell_type": "code",
   "execution_count": 1,
   "metadata": {
    "colab": {},
    "colab_type": "code",
    "id": "QfWTxubYcMxR"
   },
   "outputs": [],
   "source": [
    "%load_ext autoreload\n",
    "%autoreload 2"
   ]
  },
  {
   "cell_type": "markdown",
   "metadata": {
    "colab_type": "text",
    "id": "zS4cUkmGcMxd"
   },
   "source": [
    "### imports and utilities"
   ]
  },
  {
   "cell_type": "code",
   "execution_count": 3,
   "metadata": {
    "colab": {
     "base_uri": "https://localhost:8080/",
     "height": 153
    },
    "colab_type": "code",
    "id": "qOriDeG8cMxl",
    "outputId": "a4b003fc-c8fb-4937-e900-b5807b0d6d53"
   },
   "outputs": [
    {
     "name": "stderr",
     "output_type": "stream",
     "text": [
      "[nltk_data] Downloading package punkt to\n",
      "[nltk_data]     C:\\Users\\christian\\AppData\\Roaming\\nltk_data...\n",
      "[nltk_data]   Package punkt is already up-to-date!\n",
      "[nltk_data] Downloading package wordnet to\n",
      "[nltk_data]     C:\\Users\\christian\\AppData\\Roaming\\nltk_data...\n",
      "[nltk_data]   Package wordnet is already up-to-date!\n",
      "[nltk_data] Downloading package averaged_perceptron_tagger to\n",
      "[nltk_data]     C:\\Users\\christian\\AppData\\Roaming\\nltk_data...\n",
      "[nltk_data]   Package averaged_perceptron_tagger is already up-to-\n",
      "[nltk_data]       date!\n"
     ]
    },
    {
     "data": {
      "text/plain": [
       "True"
      ]
     },
     "execution_count": 3,
     "metadata": {},
     "output_type": "execute_result"
    }
   ],
   "source": [
    "import nltk\n",
    "nltk.download('punkt')\n",
    "nltk.download('wordnet')\n",
    "nltk.download('averaged_perceptron_tagger')"
   ]
  },
  {
   "cell_type": "code",
   "execution_count": 151,
   "metadata": {
    "colab": {},
    "colab_type": "code",
    "id": "3liQaMKccMxs"
   },
   "outputs": [],
   "source": [
    "# from std lib\n",
    "import re, string\n",
    "from collections import Counter\n",
    "\n",
    "# from thrid party\n",
    "import numpy as np\n",
    "import pandas as pd\n",
    "import matplotlib.pyplot as plt\n",
    "\n",
    "from tqdm.notebook import tqdm\n",
    "from scipy.special import softmax\n",
    "from scipy.stats import norm\n",
    "from scipy.stats import entropy as calculate_entropy\n",
    "\n",
    "\n",
    "from sklearn.model_selection import train_test_split\n",
    "from sklearn.decomposition import PCA\n",
    "from sklearn.preprocessing import normalize\n",
    "from sklearn.datasets import fetch_20newsgroups\n",
    "from sklearn.cluster import KMeans, MiniBatchKMeans\n",
    "from sklearn.metrics.pairwise import cosine_similarity\n",
    "from sklearn.naive_bayes import GaussianNB, MultinomialNB\n",
    "from sklearn.feature_extraction.text import CountVectorizer, TfidfVectorizer\n",
    "\n",
    "from nltk.corpus import wordnet\n",
    "from nltk import pos_tag, word_tokenize\n",
    "from nltk.stem import WordNetLemmatizer\n",
    "\n",
    "wordnet_lemmatizer = WordNetLemmatizer()"
   ]
  },
  {
   "cell_type": "markdown",
   "metadata": {},
   "source": [
    "#### Utilities"
   ]
  },
  {
   "cell_type": "code",
   "execution_count": 152,
   "metadata": {},
   "outputs": [],
   "source": [
    "def get_wordnet_pos(word, use_pos):\n",
    "    if not use_pos:\n",
    "        return 'n'\n",
    "\n",
    "    tag = pos_tag([word])[0][1][0].upper()\n",
    "    tag_dict = {\"J\": wordnet.ADJ, \"N\":wordnet.NOUN, \"V\":wordnet.VERB, \"r\":wordnet.ADV}\n",
    "    return tag_dict.get(tag, wordnet.NOUN)\n",
    "\n",
    "# clean out the new line characters from text in docs\n",
    "def clean_doc(doc, use_pos=False):\n",
    "    ''' remove unwanter characters line new line '''\n",
    "\n",
    "    unwanted_chrs = list(string.punctuation)\n",
    "    # unwanted_chrs = [')', '(', '{', '}', '\\t', '\\n', '\\r', \"'\", '\"', \"!\", \",\", \".\", \"?\", \">\", \"<\", \"[\", \"]\"]\n",
    "\n",
    "    doc = doc.lower()\n",
    "    for unwanted_chr in unwanted_chrs:\n",
    "        doc = doc.replace(unwanted_chr, ' ')\n",
    "\n",
    "    doc = word_tokenize(doc)\n",
    "\n",
    "    word_count = len(doc)\n",
    "    doc = \" \".join([wordnet_lemmatizer.lemmatize(word, get_wordnet_pos(word, use_pos)) for word in doc])\n",
    "\n",
    "    status = (len(doc) != 0 and not doc.isspace())\n",
    "\n",
    "    return status, doc, word_count\n",
    "\n",
    "def calculate_sparsity(matrix):\n",
    "    non_zero = np.count_nonzero(matrix)\n",
    "    total_val = np.product(matrix.shape)\n",
    "    sparsity = (total_val - non_zero) / total_val\n",
    "    return sparsity\n",
    "\n"
   ]
  },
  {
   "cell_type": "markdown",
   "metadata": {
    "colab_type": "text",
    "id": "gQtq2JhkcMxz"
   },
   "source": [
    "### load dataset"
   ]
  },
  {
   "cell_type": "code",
   "execution_count": 5,
   "metadata": {
    "colab": {
     "base_uri": "https://localhost:8080/",
     "height": 51
    },
    "colab_type": "code",
    "id": "vR1db5rUcMx0",
    "outputId": "8498f3d2-9ac1-4952-8ad6-85b2c076f94a"
   },
   "outputs": [],
   "source": [
    "dataset = \"newsgroup\"\n",
    "\n",
    "# total number of samples needed\n",
    "randomize = False\n",
    "\n",
    "# retrieve dataset\n",
    "categories = ['rec.autos', 'talk.politics.mideast', 'alt.atheism', 'sci.space']\n",
    "\n",
    "all_docs = fetch_20newsgroups(subset='train', shuffle=randomize, remove=('headers', 'footers', 'quotes'), categories=categories)\n",
    "all_docs, old_labels, categories = all_docs.data, all_docs.target, all_docs.target_names"
   ]
  },
  {
   "cell_type": "code",
   "execution_count": 6,
   "metadata": {
    "colab": {},
    "colab_type": "code",
    "id": "xd-imY-icMx8"
   },
   "outputs": [],
   "source": [
    "# dataset = \"bbc\"\n",
    "\n",
    "# data = pd.read_csv('bbcsport.csv')\n",
    "\n",
    "# all_docs = data[\"text\"].to_list()\n",
    "# old_labels = data[\"topic\"].to_list()\n",
    "# categories = classes = np.unique(data[\"topic\"]).tolist()"
   ]
  },
  {
   "cell_type": "markdown",
   "metadata": {
    "colab_type": "text",
    "id": "WYe4XYDfcMyI"
   },
   "source": [
    "### clean dataset"
   ]
  },
  {
   "cell_type": "code",
   "execution_count": 7,
   "metadata": {
    "colab": {
     "base_uri": "https://localhost:8080/",
     "height": 66,
     "referenced_widgets": [
      "b8ee6c0914474dab8186285123c3c25a",
      "1029c3cb5c264802a7bd45639c1a7c20",
      "94d411d6977f493894ec3c8b5975f693",
      "846b5c7701bc49e4be2a7681d5361dd8",
      "2e8643a34a7143e284ed8e94aaca32d7",
      "b8ce72deb0c34c35a99b91bbc9b5504c",
      "cee50571766e465b81cd2d06ac0a4d31",
      "5c20409065a347d18e1ab6bde4c5a0ba"
     ]
    },
    "colab_type": "code",
    "id": "RgG4w-qpcMyJ",
    "outputId": "142478ec-50d6-4c3a-f6fb-db0ee38fcb1a"
   },
   "outputs": [
    {
     "data": {
      "application/vnd.jupyter.widget-view+json": {
       "model_id": "c76123eb2e3d494e848f5c7e5eae369d",
       "version_major": 2,
       "version_minor": 0
      },
      "text/plain": [
       "HBox(children=(HTML(value=''), FloatProgress(value=0.0, max=160.0), HTML(value='')))"
      ]
     },
     "metadata": {},
     "output_type": "display_data"
    },
    {
     "name": "stdout",
     "output_type": "stream",
     "text": [
      "\n"
     ]
    }
   ],
   "source": [
    "datasize = 40\n",
    "min_document_length = 160\n",
    "max_document_length = 256\n",
    "\n",
    "\n",
    "index = -1\n",
    "docs, labels, label_indices = [], [], []\n",
    "\n",
    "sizes = [0]*len(categories)\n",
    "\n",
    "with tqdm(total=len(categories)*datasize) as pbar:\n",
    "    while sum(sizes) < len(categories)*datasize:\n",
    "        index += 1\n",
    "        label_index = old_labels[index]\n",
    "            \n",
    "        if sizes[label_index] == datasize:\n",
    "            continue\n",
    "        \n",
    "        doc = all_docs[index]\n",
    "        status, doc, word_count = clean_doc(doc, True)\n",
    "        \n",
    "        if not status:\n",
    "            continue\n",
    "            \n",
    "        if min_document_length is not None and len(doc) < min_document_length:\n",
    "            continue\n",
    "            \n",
    "        if max_document_length is not None and len(doc) > max_document_length:\n",
    "            continue\n",
    "        \n",
    "        label_indices.append(label_index)\n",
    "        labels.append(categories[label_index])\n",
    "        \n",
    "        docs.append(doc)\n",
    "        sizes[label_index] += 1\n",
    "        pbar.update(1)\n",
    "\n",
    "labels = np.array(labels)\n",
    "label_indices = np.array(label_indices)"
   ]
  },
  {
   "cell_type": "code",
   "execution_count": 8,
   "metadata": {
    "colab": {
     "base_uri": "https://localhost:8080/",
     "height": 88
    },
    "colab_type": "code",
    "id": "_eBXjBUecMyU",
    "outputId": "12f081a4-fab6-4de7-f36f-62399abaa5b8"
   },
   "outputs": [
    {
     "name": "stdout",
     "output_type": "stream",
     "text": [
      "Topic: rec.autos\n",
      "==================================================\n",
      "not to mention my friend s 54 citroen traction avant with the light switch and dimmer integrate in a single stalk off the steer column those dumb french be apparently copying the japanese before the german\n"
     ]
    }
   ],
   "source": [
    "doc_index = 3\n",
    "print(f\"Topic: {labels[doc_index]}\\n{'='*50}\\n{docs[doc_index][:512]}\")"
   ]
  },
  {
   "cell_type": "code",
   "execution_count": 9,
   "metadata": {
    "colab": {
     "base_uri": "https://localhost:8080/",
     "height": 34
    },
    "colab_type": "code",
    "id": "KS5PW7qHcMyb",
    "outputId": "d83a2010-8955-4c8f-f2d6-be15ecad2198",
    "scrolled": true
   },
   "outputs": [
    {
     "name": "stdout",
     "output_type": "stream",
     "text": [
      "[40, 40, 40, 40]\n"
     ]
    }
   ],
   "source": [
    "print(sizes)\n",
    "assert min(sizes) == max(sizes) == datasize"
   ]
  },
  {
   "cell_type": "markdown",
   "metadata": {},
   "source": [
    "### Split data"
   ]
  },
  {
   "cell_type": "code",
   "execution_count": 10,
   "metadata": {},
   "outputs": [],
   "source": [
    "x_train, x_test, y_train, y_test = train_test_split(docs, labels, test_size =.3)"
   ]
  },
  {
   "cell_type": "code",
   "execution_count": 11,
   "metadata": {
    "colab": {
     "base_uri": "https://localhost:8080/",
     "height": 34
    },
    "colab_type": "code",
    "id": "s8R3CeUBcMyg",
    "outputId": "adcba1c9-85ae-428d-ff5f-ba33bd7beef8"
   },
   "outputs": [
    {
     "name": "stdout",
     "output_type": "stream",
     "text": [
      "there are 160 total docs, 112 train and 48 test\n"
     ]
    }
   ],
   "source": [
    "print(f\"there are {len(docs)} total docs, {len(y_train)} train and {len(y_test)} test\")"
   ]
  },
  {
   "cell_type": "markdown",
   "metadata": {
    "colab_type": "text",
    "id": "-OUac83RcMyl"
   },
   "source": [
    "### Initialize Vectorizer"
   ]
  },
  {
   "cell_type": "code",
   "execution_count": 12,
   "metadata": {
    "colab": {
     "base_uri": "https://localhost:8080/",
     "height": 34
    },
    "colab_type": "code",
    "id": "ZCBHEIyEcMyn",
    "outputId": "18cbf825-2576-4937-908b-ce0cc5a29150"
   },
   "outputs": [
    {
     "name": "stdout",
     "output_type": "stream",
     "text": [
      "word_count is 1483\n"
     ]
    }
   ],
   "source": [
    "vectorizer_type = \"not-tfidf\"\n",
    "\n",
    "# initialize the count vectorizer\n",
    "if vectorizer_type == \"tfidf\":\n",
    "    vectorizer = TfidfVectorizer\n",
    "else:\n",
    "    vectorizer = CountVectorizer()\n",
    "\n",
    "# fit it to dataset\n",
    "vectorizer.fit(x_train)\n",
    "\n",
    "vocabulary = np.array(vectorizer.get_feature_names())\n",
    "print(\"word_count is\", len(vocabulary))"
   ]
  },
  {
   "cell_type": "markdown",
   "metadata": {
    "colab_type": "text",
    "id": "UKomwY7acMyz"
   },
   "source": [
    "### Prepare Datatset"
   ]
  },
  {
   "cell_type": "code",
   "execution_count": 13,
   "metadata": {
    "colab": {
     "base_uri": "https://localhost:8080/",
     "height": 34
    },
    "colab_type": "code",
    "id": "IIYeZA4EcMy0",
    "outputId": "da04274f-82f4-49a5-8be6-d1c9230aa835"
   },
   "outputs": [],
   "source": [
    "# create doc count vectors\n",
    "train_doc_vectors = vectorizer.transform(x_train).toarray()\n",
    "test_doc_vectors = vectorizer.transform(x_test).toarray()\n",
    "\n",
    "wdf_train = pd.DataFrame(train_doc_vectors, columns=vocabulary)\n",
    "wdf_test = pd.DataFrame(test_doc_vectors, columns=vocabulary)"
   ]
  },
  {
   "cell_type": "code",
   "execution_count": 14,
   "metadata": {},
   "outputs": [
    {
     "data": {
      "text/html": [
       "<div>\n",
       "<style scoped>\n",
       "    .dataframe tbody tr th:only-of-type {\n",
       "        vertical-align: middle;\n",
       "    }\n",
       "\n",
       "    .dataframe tbody tr th {\n",
       "        vertical-align: top;\n",
       "    }\n",
       "\n",
       "    .dataframe thead th {\n",
       "        text-align: right;\n",
       "    }\n",
       "</style>\n",
       "<table border=\"1\" class=\"dataframe\">\n",
       "  <thead>\n",
       "    <tr style=\"text-align: right;\">\n",
       "      <th></th>\n",
       "      <th>000</th>\n",
       "      <th>031349</th>\n",
       "      <th>10</th>\n",
       "      <th>11</th>\n",
       "      <th>16th</th>\n",
       "      <th>1900</th>\n",
       "      <th>1940</th>\n",
       "      <th>1968</th>\n",
       "      <th>1982</th>\n",
       "      <th>1984</th>\n",
       "      <th>...</th>\n",
       "      <th>ya</th>\n",
       "      <th>yeah</th>\n",
       "      <th>year</th>\n",
       "      <th>yes</th>\n",
       "      <th>yo</th>\n",
       "      <th>yorker</th>\n",
       "      <th>you</th>\n",
       "      <th>your</th>\n",
       "      <th>zeuge</th>\n",
       "      <th>zuma</th>\n",
       "    </tr>\n",
       "  </thead>\n",
       "  <tbody>\n",
       "    <tr>\n",
       "      <th>0</th>\n",
       "      <td>0</td>\n",
       "      <td>0</td>\n",
       "      <td>0</td>\n",
       "      <td>0</td>\n",
       "      <td>0</td>\n",
       "      <td>0</td>\n",
       "      <td>0</td>\n",
       "      <td>0</td>\n",
       "      <td>0</td>\n",
       "      <td>0</td>\n",
       "      <td>...</td>\n",
       "      <td>0</td>\n",
       "      <td>0</td>\n",
       "      <td>0</td>\n",
       "      <td>0</td>\n",
       "      <td>0</td>\n",
       "      <td>0</td>\n",
       "      <td>6</td>\n",
       "      <td>0</td>\n",
       "      <td>0</td>\n",
       "      <td>0</td>\n",
       "    </tr>\n",
       "    <tr>\n",
       "      <th>1</th>\n",
       "      <td>0</td>\n",
       "      <td>0</td>\n",
       "      <td>0</td>\n",
       "      <td>0</td>\n",
       "      <td>0</td>\n",
       "      <td>0</td>\n",
       "      <td>0</td>\n",
       "      <td>0</td>\n",
       "      <td>0</td>\n",
       "      <td>0</td>\n",
       "      <td>...</td>\n",
       "      <td>0</td>\n",
       "      <td>0</td>\n",
       "      <td>0</td>\n",
       "      <td>0</td>\n",
       "      <td>0</td>\n",
       "      <td>0</td>\n",
       "      <td>1</td>\n",
       "      <td>3</td>\n",
       "      <td>0</td>\n",
       "      <td>0</td>\n",
       "    </tr>\n",
       "    <tr>\n",
       "      <th>2</th>\n",
       "      <td>0</td>\n",
       "      <td>0</td>\n",
       "      <td>0</td>\n",
       "      <td>0</td>\n",
       "      <td>0</td>\n",
       "      <td>0</td>\n",
       "      <td>0</td>\n",
       "      <td>0</td>\n",
       "      <td>0</td>\n",
       "      <td>0</td>\n",
       "      <td>...</td>\n",
       "      <td>0</td>\n",
       "      <td>0</td>\n",
       "      <td>0</td>\n",
       "      <td>0</td>\n",
       "      <td>0</td>\n",
       "      <td>0</td>\n",
       "      <td>1</td>\n",
       "      <td>1</td>\n",
       "      <td>0</td>\n",
       "      <td>0</td>\n",
       "    </tr>\n",
       "    <tr>\n",
       "      <th>3</th>\n",
       "      <td>0</td>\n",
       "      <td>0</td>\n",
       "      <td>0</td>\n",
       "      <td>0</td>\n",
       "      <td>0</td>\n",
       "      <td>0</td>\n",
       "      <td>0</td>\n",
       "      <td>0</td>\n",
       "      <td>0</td>\n",
       "      <td>0</td>\n",
       "      <td>...</td>\n",
       "      <td>0</td>\n",
       "      <td>0</td>\n",
       "      <td>0</td>\n",
       "      <td>0</td>\n",
       "      <td>0</td>\n",
       "      <td>0</td>\n",
       "      <td>0</td>\n",
       "      <td>0</td>\n",
       "      <td>0</td>\n",
       "      <td>0</td>\n",
       "    </tr>\n",
       "    <tr>\n",
       "      <th>4</th>\n",
       "      <td>0</td>\n",
       "      <td>0</td>\n",
       "      <td>0</td>\n",
       "      <td>0</td>\n",
       "      <td>0</td>\n",
       "      <td>0</td>\n",
       "      <td>0</td>\n",
       "      <td>0</td>\n",
       "      <td>0</td>\n",
       "      <td>0</td>\n",
       "      <td>...</td>\n",
       "      <td>0</td>\n",
       "      <td>0</td>\n",
       "      <td>0</td>\n",
       "      <td>0</td>\n",
       "      <td>0</td>\n",
       "      <td>0</td>\n",
       "      <td>2</td>\n",
       "      <td>0</td>\n",
       "      <td>0</td>\n",
       "      <td>0</td>\n",
       "    </tr>\n",
       "  </tbody>\n",
       "</table>\n",
       "<p>5 rows × 1483 columns</p>\n",
       "</div>"
      ],
      "text/plain": [
       "   000  031349  10  11  16th  1900  1940  1968  1982  1984  ...  ya  yeah  \\\n",
       "0    0       0   0   0     0     0     0     0     0     0  ...   0     0   \n",
       "1    0       0   0   0     0     0     0     0     0     0  ...   0     0   \n",
       "2    0       0   0   0     0     0     0     0     0     0  ...   0     0   \n",
       "3    0       0   0   0     0     0     0     0     0     0  ...   0     0   \n",
       "4    0       0   0   0     0     0     0     0     0     0  ...   0     0   \n",
       "\n",
       "   year  yes  yo  yorker  you  your  zeuge  zuma  \n",
       "0     0    0   0       0    6     0      0     0  \n",
       "1     0    0   0       0    1     3      0     0  \n",
       "2     0    0   0       0    1     1      0     0  \n",
       "3     0    0   0       0    0     0      0     0  \n",
       "4     0    0   0       0    2     0      0     0  \n",
       "\n",
       "[5 rows x 1483 columns]"
      ]
     },
     "execution_count": 14,
     "metadata": {},
     "output_type": "execute_result"
    }
   ],
   "source": [
    "wdf_train.head()"
   ]
  },
  {
   "cell_type": "code",
   "execution_count": 156,
   "metadata": {},
   "outputs": [
    {
     "name": "stdout",
     "output_type": "stream",
     "text": [
      "train_word_doc_freq matrix sparsity = 0.9790\n"
     ]
    }
   ],
   "source": [
    "print(f\"train_word_doc_freq matrix sparsity = {calculate_sparsity(wdf_train):.4f}\")"
   ]
  },
  {
   "cell_type": "markdown",
   "metadata": {},
   "source": [
    "### Word Word Co-Occurence Probability"
   ]
  },
  {
   "cell_type": "code",
   "execution_count": 121,
   "metadata": {
    "scrolled": true
   },
   "outputs": [
    {
     "data": {
      "application/vnd.jupyter.widget-view+json": {
       "model_id": "4d6685fcc0b24bc8a08279b58aea1562",
       "version_major": 2,
       "version_minor": 0
      },
      "text/plain": [
       "HBox(children=(HTML(value=''), FloatProgress(value=0.0, max=1483.0), HTML(value='')))"
      ]
     },
     "metadata": {},
     "output_type": "display_data"
    },
    {
     "name": "stdout",
     "output_type": "stream",
     "text": [
      "\n",
      "word_word_pr_distr shape = (1483, 1483)\n"
     ]
    }
   ],
   "source": [
    "alpha = 0\n",
    "wdf_train_prime = wdf_train.copy()\n",
    "\n",
    "wdt_train = wdf_train_prime.copy()\n",
    "wdt_train[\"__labels__\"] = y_train\n",
    "\n",
    "word_doc_count = wdf_train_prime.sum(0)\n",
    "word_word_pr_distr = pd.DataFrame(data=0.0, columns=vocabulary, index=vocabulary)\n",
    "\n",
    "for word in tqdm(vocabulary):\n",
    "    pxy = (wdf_train_prime[wdf_train_prime[word] > 0].sum(0) + alpha) / (word_doc_count[word] + alpha)\n",
    "    word_word_pr_distr[word] = pxy * (word_doc_count[word] / word_doc_count)\n",
    "\n",
    "print(f\"word_word_pr_distr shape = {word_word_pr_distr.shape}\")"
   ]
  },
  {
   "cell_type": "code",
   "execution_count": 122,
   "metadata": {},
   "outputs": [
    {
     "data": {
      "text/html": [
       "<div>\n",
       "<style scoped>\n",
       "    .dataframe tbody tr th:only-of-type {\n",
       "        vertical-align: middle;\n",
       "    }\n",
       "\n",
       "    .dataframe tbody tr th {\n",
       "        vertical-align: top;\n",
       "    }\n",
       "\n",
       "    .dataframe thead th {\n",
       "        text-align: right;\n",
       "    }\n",
       "</style>\n",
       "<table border=\"1\" class=\"dataframe\">\n",
       "  <thead>\n",
       "    <tr style=\"text-align: right;\">\n",
       "      <th></th>\n",
       "      <th>000</th>\n",
       "      <th>031349</th>\n",
       "      <th>10</th>\n",
       "      <th>11</th>\n",
       "      <th>16th</th>\n",
       "      <th>1900</th>\n",
       "      <th>1940</th>\n",
       "      <th>1968</th>\n",
       "      <th>1982</th>\n",
       "      <th>1984</th>\n",
       "      <th>...</th>\n",
       "      <th>ya</th>\n",
       "      <th>yeah</th>\n",
       "      <th>year</th>\n",
       "      <th>yes</th>\n",
       "      <th>yo</th>\n",
       "      <th>yorker</th>\n",
       "      <th>you</th>\n",
       "      <th>your</th>\n",
       "      <th>zeuge</th>\n",
       "      <th>zuma</th>\n",
       "    </tr>\n",
       "  </thead>\n",
       "  <tbody>\n",
       "    <tr>\n",
       "      <th>000</th>\n",
       "      <td>1.0</td>\n",
       "      <td>0.0</td>\n",
       "      <td>0.5</td>\n",
       "      <td>0.0</td>\n",
       "      <td>0.0</td>\n",
       "      <td>0.0</td>\n",
       "      <td>0.0</td>\n",
       "      <td>0.0</td>\n",
       "      <td>0.0</td>\n",
       "      <td>0.5</td>\n",
       "      <td>...</td>\n",
       "      <td>0.0</td>\n",
       "      <td>0.0</td>\n",
       "      <td>0.0</td>\n",
       "      <td>0.0</td>\n",
       "      <td>0.0</td>\n",
       "      <td>0.0</td>\n",
       "      <td>0.5</td>\n",
       "      <td>0.5</td>\n",
       "      <td>0.0</td>\n",
       "      <td>0.0</td>\n",
       "    </tr>\n",
       "    <tr>\n",
       "      <th>031349</th>\n",
       "      <td>0.0</td>\n",
       "      <td>1.0</td>\n",
       "      <td>0.0</td>\n",
       "      <td>0.0</td>\n",
       "      <td>0.0</td>\n",
       "      <td>0.0</td>\n",
       "      <td>0.0</td>\n",
       "      <td>0.0</td>\n",
       "      <td>0.0</td>\n",
       "      <td>0.0</td>\n",
       "      <td>...</td>\n",
       "      <td>0.0</td>\n",
       "      <td>0.0</td>\n",
       "      <td>0.0</td>\n",
       "      <td>0.0</td>\n",
       "      <td>0.0</td>\n",
       "      <td>0.0</td>\n",
       "      <td>1.0</td>\n",
       "      <td>1.0</td>\n",
       "      <td>0.0</td>\n",
       "      <td>0.0</td>\n",
       "    </tr>\n",
       "    <tr>\n",
       "      <th>10</th>\n",
       "      <td>1.0</td>\n",
       "      <td>0.0</td>\n",
       "      <td>1.0</td>\n",
       "      <td>0.0</td>\n",
       "      <td>0.0</td>\n",
       "      <td>0.0</td>\n",
       "      <td>0.0</td>\n",
       "      <td>0.0</td>\n",
       "      <td>0.0</td>\n",
       "      <td>1.0</td>\n",
       "      <td>...</td>\n",
       "      <td>0.0</td>\n",
       "      <td>0.0</td>\n",
       "      <td>0.0</td>\n",
       "      <td>0.0</td>\n",
       "      <td>0.0</td>\n",
       "      <td>0.0</td>\n",
       "      <td>1.0</td>\n",
       "      <td>1.0</td>\n",
       "      <td>0.0</td>\n",
       "      <td>0.0</td>\n",
       "    </tr>\n",
       "    <tr>\n",
       "      <th>11</th>\n",
       "      <td>0.0</td>\n",
       "      <td>0.0</td>\n",
       "      <td>0.0</td>\n",
       "      <td>1.0</td>\n",
       "      <td>0.0</td>\n",
       "      <td>0.0</td>\n",
       "      <td>0.0</td>\n",
       "      <td>0.0</td>\n",
       "      <td>0.0</td>\n",
       "      <td>0.0</td>\n",
       "      <td>...</td>\n",
       "      <td>0.0</td>\n",
       "      <td>0.0</td>\n",
       "      <td>0.0</td>\n",
       "      <td>0.0</td>\n",
       "      <td>0.0</td>\n",
       "      <td>0.0</td>\n",
       "      <td>0.0</td>\n",
       "      <td>0.0</td>\n",
       "      <td>0.0</td>\n",
       "      <td>0.0</td>\n",
       "    </tr>\n",
       "    <tr>\n",
       "      <th>16th</th>\n",
       "      <td>0.0</td>\n",
       "      <td>0.0</td>\n",
       "      <td>0.0</td>\n",
       "      <td>0.0</td>\n",
       "      <td>1.0</td>\n",
       "      <td>0.0</td>\n",
       "      <td>0.0</td>\n",
       "      <td>0.0</td>\n",
       "      <td>0.0</td>\n",
       "      <td>0.0</td>\n",
       "      <td>...</td>\n",
       "      <td>0.0</td>\n",
       "      <td>0.0</td>\n",
       "      <td>0.0</td>\n",
       "      <td>0.0</td>\n",
       "      <td>0.0</td>\n",
       "      <td>0.0</td>\n",
       "      <td>0.0</td>\n",
       "      <td>0.0</td>\n",
       "      <td>0.0</td>\n",
       "      <td>0.0</td>\n",
       "    </tr>\n",
       "  </tbody>\n",
       "</table>\n",
       "<p>5 rows × 1483 columns</p>\n",
       "</div>"
      ],
      "text/plain": [
       "        000  031349   10   11  16th  1900  1940  1968  1982  1984  ...   ya  \\\n",
       "000     1.0     0.0  0.5  0.0   0.0   0.0   0.0   0.0   0.0   0.5  ...  0.0   \n",
       "031349  0.0     1.0  0.0  0.0   0.0   0.0   0.0   0.0   0.0   0.0  ...  0.0   \n",
       "10      1.0     0.0  1.0  0.0   0.0   0.0   0.0   0.0   0.0   1.0  ...  0.0   \n",
       "11      0.0     0.0  0.0  1.0   0.0   0.0   0.0   0.0   0.0   0.0  ...  0.0   \n",
       "16th    0.0     0.0  0.0  0.0   1.0   0.0   0.0   0.0   0.0   0.0  ...  0.0   \n",
       "\n",
       "        yeah  year  yes   yo  yorker  you  your  zeuge  zuma  \n",
       "000      0.0   0.0  0.0  0.0     0.0  0.5   0.5    0.0   0.0  \n",
       "031349   0.0   0.0  0.0  0.0     0.0  1.0   1.0    0.0   0.0  \n",
       "10       0.0   0.0  0.0  0.0     0.0  1.0   1.0    0.0   0.0  \n",
       "11       0.0   0.0  0.0  0.0     0.0  0.0   0.0    0.0   0.0  \n",
       "16th     0.0   0.0  0.0  0.0     0.0  0.0   0.0    0.0   0.0  \n",
       "\n",
       "[5 rows x 1483 columns]"
      ]
     },
     "execution_count": 122,
     "metadata": {},
     "output_type": "execute_result"
    }
   ],
   "source": [
    "word_word_pr_distr.head()"
   ]
  },
  {
   "cell_type": "code",
   "execution_count": 157,
   "metadata": {},
   "outputs": [
    {
     "name": "stdout",
     "output_type": "stream",
     "text": [
      "word_word_pr_distr matrix sparsity = 0.9603\n"
     ]
    }
   ],
   "source": [
    "print(f\"word_word_pr_distr matrix sparsity = {calculate_sparsity(word_word_pr_distr):.4f}\")"
   ]
  },
  {
   "cell_type": "code",
   "execution_count": 135,
   "metadata": {},
   "outputs": [
    {
     "data": {
      "text/plain": [
       "0.0"
      ]
     },
     "execution_count": 135,
     "metadata": {},
     "output_type": "execute_result"
    }
   ],
   "source": [
    "word = \"space\"\n",
    "given_word = \"science\"\n",
    "word_word_pr_distr[word][given_word]"
   ]
  },
  {
   "cell_type": "markdown",
   "metadata": {},
   "source": [
    "### Word Word Co-Occurence Prime Probability"
   ]
  },
  {
   "cell_type": "code",
   "execution_count": 168,
   "metadata": {},
   "outputs": [],
   "source": [
    "num_of_iterations = 1"
   ]
  },
  {
   "cell_type": "code",
   "execution_count": 169,
   "metadata": {},
   "outputs": [],
   "source": [
    "def func(x, pbar, word_word_pr_distr_prime):\n",
    "    pbar.update(1)\n",
    "    return word_word_pr_distr_prime.apply(lambda y: x*y, axis=0).max(0)"
   ]
  },
  {
   "cell_type": "code",
   "execution_count": 170,
   "metadata": {},
   "outputs": [],
   "source": [
    "# word_word_pr_distr_prime = word_word_pr_distr.copy()\n",
    "# with tqdm(total=len(vocabulary)*num_of_iterations) as pbar:\n",
    "#     for _ in range(num_of_iterations):\n",
    "#         word_word_pr_distr_prime = word_word_pr_distr_prime.apply(func, axis=1, args=(pbar, word_word_pr_distr_prime))\n",
    "\n",
    "# print(f\"word_word_pr_distr_prime shape = {word_word_pr_distr_prime.shape}\")"
   ]
  },
  {
   "cell_type": "code",
   "execution_count": 171,
   "metadata": {},
   "outputs": [
    {
     "data": {
      "text/html": [
       "<div>\n",
       "<style scoped>\n",
       "    .dataframe tbody tr th:only-of-type {\n",
       "        vertical-align: middle;\n",
       "    }\n",
       "\n",
       "    .dataframe tbody tr th {\n",
       "        vertical-align: top;\n",
       "    }\n",
       "\n",
       "    .dataframe thead th {\n",
       "        text-align: right;\n",
       "    }\n",
       "</style>\n",
       "<table border=\"1\" class=\"dataframe\">\n",
       "  <thead>\n",
       "    <tr style=\"text-align: right;\">\n",
       "      <th></th>\n",
       "      <th>000</th>\n",
       "      <th>031349</th>\n",
       "      <th>10</th>\n",
       "      <th>11</th>\n",
       "      <th>16th</th>\n",
       "      <th>1900</th>\n",
       "      <th>1940</th>\n",
       "      <th>1968</th>\n",
       "      <th>1982</th>\n",
       "      <th>1984</th>\n",
       "      <th>...</th>\n",
       "      <th>ya</th>\n",
       "      <th>yeah</th>\n",
       "      <th>year</th>\n",
       "      <th>yes</th>\n",
       "      <th>yo</th>\n",
       "      <th>yorker</th>\n",
       "      <th>you</th>\n",
       "      <th>your</th>\n",
       "      <th>zeuge</th>\n",
       "      <th>zuma</th>\n",
       "    </tr>\n",
       "  </thead>\n",
       "  <tbody>\n",
       "    <tr>\n",
       "      <th>000</th>\n",
       "      <td>1.000000</td>\n",
       "      <td>0.065217</td>\n",
       "      <td>0.500000</td>\n",
       "      <td>0.035714</td>\n",
       "      <td>0.071429</td>\n",
       "      <td>0.107143</td>\n",
       "      <td>0.071429</td>\n",
       "      <td>0.100000</td>\n",
       "      <td>0.071429</td>\n",
       "      <td>0.500000</td>\n",
       "      <td>...</td>\n",
       "      <td>0.125000</td>\n",
       "      <td>0.038462</td>\n",
       "      <td>0.107143</td>\n",
       "      <td>0.038462</td>\n",
       "      <td>0.250000</td>\n",
       "      <td>0.033333</td>\n",
       "      <td>0.500000</td>\n",
       "      <td>0.500000</td>\n",
       "      <td>0.045455</td>\n",
       "      <td>0.034091</td>\n",
       "    </tr>\n",
       "    <tr>\n",
       "      <th>031349</th>\n",
       "      <td>0.068182</td>\n",
       "      <td>1.000000</td>\n",
       "      <td>0.068182</td>\n",
       "      <td>0.100000</td>\n",
       "      <td>0.142857</td>\n",
       "      <td>0.093750</td>\n",
       "      <td>0.200000</td>\n",
       "      <td>0.031250</td>\n",
       "      <td>0.032258</td>\n",
       "      <td>0.090909</td>\n",
       "      <td>...</td>\n",
       "      <td>0.043478</td>\n",
       "      <td>0.031250</td>\n",
       "      <td>0.142857</td>\n",
       "      <td>0.024390</td>\n",
       "      <td>0.111111</td>\n",
       "      <td>0.040000</td>\n",
       "      <td>1.000000</td>\n",
       "      <td>1.000000</td>\n",
       "      <td>0.016129</td>\n",
       "      <td>0.100000</td>\n",
       "    </tr>\n",
       "    <tr>\n",
       "      <th>10</th>\n",
       "      <td>1.000000</td>\n",
       "      <td>0.040000</td>\n",
       "      <td>1.000000</td>\n",
       "      <td>0.035714</td>\n",
       "      <td>0.066667</td>\n",
       "      <td>0.107143</td>\n",
       "      <td>0.068966</td>\n",
       "      <td>0.200000</td>\n",
       "      <td>0.071429</td>\n",
       "      <td>1.000000</td>\n",
       "      <td>...</td>\n",
       "      <td>0.166667</td>\n",
       "      <td>0.076923</td>\n",
       "      <td>0.125000</td>\n",
       "      <td>0.076923</td>\n",
       "      <td>0.500000</td>\n",
       "      <td>0.066667</td>\n",
       "      <td>1.000000</td>\n",
       "      <td>1.000000</td>\n",
       "      <td>0.090909</td>\n",
       "      <td>0.068182</td>\n",
       "    </tr>\n",
       "    <tr>\n",
       "      <th>11</th>\n",
       "      <td>0.035714</td>\n",
       "      <td>0.065217</td>\n",
       "      <td>0.017857</td>\n",
       "      <td>1.000000</td>\n",
       "      <td>0.250000</td>\n",
       "      <td>0.250000</td>\n",
       "      <td>0.100000</td>\n",
       "      <td>0.035714</td>\n",
       "      <td>0.035714</td>\n",
       "      <td>0.035714</td>\n",
       "      <td>...</td>\n",
       "      <td>0.021739</td>\n",
       "      <td>0.125000</td>\n",
       "      <td>0.250000</td>\n",
       "      <td>0.050000</td>\n",
       "      <td>0.043478</td>\n",
       "      <td>0.018349</td>\n",
       "      <td>0.431472</td>\n",
       "      <td>0.250000</td>\n",
       "      <td>0.071429</td>\n",
       "      <td>0.100000</td>\n",
       "    </tr>\n",
       "    <tr>\n",
       "      <th>16th</th>\n",
       "      <td>0.142857</td>\n",
       "      <td>0.142857</td>\n",
       "      <td>0.066667</td>\n",
       "      <td>0.500000</td>\n",
       "      <td>1.000000</td>\n",
       "      <td>0.066667</td>\n",
       "      <td>0.142857</td>\n",
       "      <td>0.058824</td>\n",
       "      <td>0.014286</td>\n",
       "      <td>0.066667</td>\n",
       "      <td>...</td>\n",
       "      <td>0.285714</td>\n",
       "      <td>0.018868</td>\n",
       "      <td>0.142857</td>\n",
       "      <td>0.333333</td>\n",
       "      <td>0.428571</td>\n",
       "      <td>0.066667</td>\n",
       "      <td>0.666667</td>\n",
       "      <td>0.466667</td>\n",
       "      <td>0.125000</td>\n",
       "      <td>0.028571</td>\n",
       "    </tr>\n",
       "  </tbody>\n",
       "</table>\n",
       "<p>5 rows × 1483 columns</p>\n",
       "</div>"
      ],
      "text/plain": [
       "             000    031349        10        11      16th      1900      1940  \\\n",
       "000     1.000000  0.065217  0.500000  0.035714  0.071429  0.107143  0.071429   \n",
       "031349  0.068182  1.000000  0.068182  0.100000  0.142857  0.093750  0.200000   \n",
       "10      1.000000  0.040000  1.000000  0.035714  0.066667  0.107143  0.068966   \n",
       "11      0.035714  0.065217  0.017857  1.000000  0.250000  0.250000  0.100000   \n",
       "16th    0.142857  0.142857  0.066667  0.500000  1.000000  0.066667  0.142857   \n",
       "\n",
       "            1968      1982      1984  ...        ya      yeah      year  \\\n",
       "000     0.100000  0.071429  0.500000  ...  0.125000  0.038462  0.107143   \n",
       "031349  0.031250  0.032258  0.090909  ...  0.043478  0.031250  0.142857   \n",
       "10      0.200000  0.071429  1.000000  ...  0.166667  0.076923  0.125000   \n",
       "11      0.035714  0.035714  0.035714  ...  0.021739  0.125000  0.250000   \n",
       "16th    0.058824  0.014286  0.066667  ...  0.285714  0.018868  0.142857   \n",
       "\n",
       "             yes        yo    yorker       you      your     zeuge      zuma  \n",
       "000     0.038462  0.250000  0.033333  0.500000  0.500000  0.045455  0.034091  \n",
       "031349  0.024390  0.111111  0.040000  1.000000  1.000000  0.016129  0.100000  \n",
       "10      0.076923  0.500000  0.066667  1.000000  1.000000  0.090909  0.068182  \n",
       "11      0.050000  0.043478  0.018349  0.431472  0.250000  0.071429  0.100000  \n",
       "16th    0.333333  0.428571  0.066667  0.666667  0.466667  0.125000  0.028571  \n",
       "\n",
       "[5 rows x 1483 columns]"
      ]
     },
     "execution_count": 171,
     "metadata": {},
     "output_type": "execute_result"
    }
   ],
   "source": [
    "word_word_pr_distr_prime.head()"
   ]
  },
  {
   "cell_type": "markdown",
   "metadata": {},
   "source": [
    "#### Modified word word pr distr properties"
   ]
  },
  {
   "cell_type": "code",
   "execution_count": 172,
   "metadata": {},
   "outputs": [
    {
     "name": "stdout",
     "output_type": "stream",
     "text": [
      "                                           | sparsity | mean   | std\n",
      "-----------------------------------------------------------------------\n",
      "word_word_pr_distr matrix sparsity         | 0.9603   | 0.0215 | 0.0215\n",
      "word_word_pr_distr_prime matrix sparsity   | 0.0058   | 0.1225 | 0.1225\n"
     ]
    }
   ],
   "source": [
    "wwds = calculate_sparsity(word_word_pr_distr)\n",
    "wwdm = word_word_pr_distr.mean().mean()\n",
    "wwdstd = word_word_pr_distr.mean().mean()\n",
    "\n",
    "wwdps = calculate_sparsity(word_word_pr_distr_prime)\n",
    "wwdpm = word_word_pr_distr_prime.mean().mean()\n",
    "wwdpstd = word_word_pr_distr_prime.mean().mean()\n",
    "\n",
    "print(\"                                           | sparsity | mean   | std\")\n",
    "print(\"-----------------------------------------------------------------------\")\n",
    "print(f\"word_word_pr_distr matrix sparsity         | {wwds:.4f}   | {wwdm:.4f} | {wwdstd:.4f}\")\n",
    "print(f\"word_word_pr_distr_prime matrix sparsity   | {wwdps:.4f}   | {wwdpm:.4f} | {wwdpstd:.4f}\")"
   ]
  },
  {
   "cell_type": "markdown",
   "metadata": {},
   "source": [
    "#### word word relation comparison with modified word_word_co matrix"
   ]
  },
  {
   "cell_type": "code",
   "execution_count": 173,
   "metadata": {},
   "outputs": [
    {
     "data": {
      "text/plain": [
       "(0.0, 0.1)"
      ]
     },
     "execution_count": 173,
     "metadata": {},
     "output_type": "execute_result"
    }
   ],
   "source": [
    "word = \"space\"\n",
    "given_word = \"science\"\n",
    "word_word_pr_distr[word][given_word], word_word_pr_distr_prime[word][given_word]"
   ]
  },
  {
   "cell_type": "code",
   "execution_count": 278,
   "metadata": {},
   "outputs": [
    {
     "name": "stdout",
     "output_type": "stream",
     "text": [
      "Topic: talk.politics.mideast\n",
      "==================================================\n",
      "your ignorance be obvious from your post 1 cyprus be an independent country with turkish greek inhabitant not a greek island like your ignorant post claim 2 the name should be cyprus in english next time read and learn before you post\n",
      "\n",
      "Topic: alt.atheism\n",
      "==================================================\n",
      "no wonder in the light of that you be a probably a theist who try to pas a an agnostic i still remember your post about your daughter sing chrismas carol and your feeling of it well\n",
      "\n"
     ]
    }
   ],
   "source": [
    "doc_index1 = 1\n",
    "doc_index2 = 90\n",
    "\n",
    "doc_indices = [doc_index1, doc_index2]\n",
    "\n",
    "for doc_index in doc_indices[:3]:\n",
    "    print(f\"Topic: {y_train[doc_index]}\\n{'='*50}\\n{x_train[doc_index][:512]}\")\n",
    "    print()"
   ]
  },
  {
   "cell_type": "code",
   "execution_count": 319,
   "metadata": {},
   "outputs": [
    {
     "data": {
      "text/plain": [
       "000       0.485069\n",
       "031349    0.581125\n",
       "10        0.595881\n",
       "11        0.499414\n",
       "16th      0.552060\n",
       "Name: 0, dtype: float64"
      ]
     },
     "execution_count": 319,
     "metadata": {},
     "output_type": "execute_result"
    }
   ],
   "source": [
    "def calculate_word_inference_weight(word_word_pr_distr):\n",
    "    entropy_values = calculate_entropy(word_word_pr_distr, axis=0)\n",
    "    entropy_values_norm = (entropy_values.max() - entropy_values) / entropy_values.max()\n",
    "    entropy_values_norm = pd.DataFrame(data=entropy_values_norm, index=word_word_pr_distr.columns)[0]\n",
    "    return entropy_values_norm\n",
    "\n",
    "word_inference_weight = calculate_word_inference_weight(word_word_pr_distr)\n",
    "word_inference_weight_prime = calculate_word_inference_weight(word_word_pr_distr_prime)\n",
    "\n",
    "word_inference_weight.head()"
   ]
  },
  {
   "cell_type": "code",
   "execution_count": 318,
   "metadata": {},
   "outputs": [
    {
     "name": "stdout",
     "output_type": "stream",
     "text": [
      "word             | weight | prime_weight\n",
      "-----------------------------------------------------\n",
      "the              | 0.9800 | 0.9989\n",
      "be               | 0.9805 | 0.9989\n",
      "science          | 0.9993 | 0.9994\n",
      "space            | 0.9998 | 0.9994\n",
      "god              | 0.9995 | 0.9992\n",
      "religion         | 0.9989 | 0.9992\n"
     ]
    }
   ],
   "source": [
    "words = [\"the\", \"be\", \"science\", \"space\", \"god\", \"religion\"]\n",
    "\n",
    "print(f'{\"word\":16s} | {\"weight\":6s} | {\"prime_weight\":6s}')\n",
    "print(\"-----------------------------------------------------\")\n",
    "for w1 in words:\n",
    "    print(f\"{w1:16s} | {word_inference_weight[w1]:.4f} | {word_inference_weight_prime[w1]:.4f}\")"
   ]
  },
  {
   "cell_type": "code",
   "execution_count": 310,
   "metadata": {},
   "outputs": [
    {
     "name": "stdout",
     "output_type": "stream",
     "text": [
      "word             | weight | prime_weight\n",
      "-----------------------------------------------------\n",
      "the              | 0.0000 | 0.0059\n",
      "be               | 0.0151 | 0.0052\n",
      "science          | 0.6605 | 0.1025\n",
      "space            | 0.8279 | 0.1046\n",
      "god              | 0.7022 | 0.0505\n",
      "religion         | 0.5921 | 0.0605\n"
     ]
    }
   ],
   "source": [
    "words = [\"the\", \"be\", \"science\", \"space\", \"god\", \"religion\"]\n",
    "\n",
    "print(f'{\"word\":16s} | {\"weight\":6s} | {\"prime_weight\":6s}')\n",
    "print(\"-----------------------------------------------------\")\n",
    "for w1 in words:\n",
    "    print(f\"{w1:16s} | {word_inference_weight[w1]:.4f} | {word_inference_weight_prime[w1]:.4f}\")"
   ]
  },
  {
   "cell_type": "code",
   "execution_count": 290,
   "metadata": {},
   "outputs": [],
   "source": [
    "ct = Counter()\n",
    "ctp = Counter()\n",
    "\n",
    "for given_word, wfx in wdf_train.iloc[doc_index1][wdf_train.iloc[doc_index1] > 0].items():\n",
    "    if not wfx > 0:\n",
    "        continue\n",
    "        \n",
    "    for word, wfy in wdf_train.iloc[doc_index2][wdf_train.iloc[doc_index2] > 0].items():\n",
    "        xv = word_word_pr_distr[word][given_word] * word_inference_weight[given_word]\n",
    "        if xv > ct[given_word]:\n",
    "#             print(given_word, word, xv)\n",
    "            ct[given_word] = xv\n",
    "            \n",
    "        xv = word_word_pr_distr_prime[word][given_word] * word_inference_weight_prime[given_word]\n",
    "        if xv > ctp[given_word]:\n",
    "#             print(given_word, word, xv)\n",
    "            ctp[given_word] = xv"
   ]
  },
  {
   "cell_type": "code",
   "execution_count": 291,
   "metadata": {},
   "outputs": [
    {
     "name": "stdout",
     "output_type": "stream",
     "text": [
      "====================================================\n",
      "printing 30 top co occuring words\n",
      "====================================================\n",
      "\n",
      "word             | pr     | pr_prime\n",
      "--------------------------------------------------\n",
      "cyprus           | 0.7747 | 0.0922\n",
      "independent      | 0.7747 | 0.0922\n",
      "inhabitant       | 0.7747 | 0.0922\n",
      "island           | 0.7747 | 0.0922\n",
      "learn            | 0.7747 | 0.0922\n",
      "name             | 0.7747 | 0.0922\n",
      "turkish          | 0.7747 | 0.0922\n",
      "ignorant         | 0.6987 | 0.0593\n",
      "greek            | 0.6887 | 0.0588\n",
      "ignorance        | 0.6833 | 0.0577\n",
      "country          | 0.6778 | 0.0530\n",
      "next             | 0.6713 | 0.0499\n",
      "english          | 0.6619 | 0.0418\n",
      "obvious          | 0.6079 | 0.0400\n",
      "claim            | 0.6039 | 0.0364\n",
      "before           | 0.6037 | 0.0224\n",
      "read             | 0.5542 | 0.0199\n",
      "should           | 0.4495 | 0.0153\n",
      "from             | 0.3511 | 0.0087\n",
      "post             | 0.3411 | 0.0077\n",
      "your             | 0.2966 | 0.0073\n",
      "an               | 0.2757 | 0.0059\n",
      "time             | 0.2677 | 0.0052\n",
      "like             | 0.2445 | 0.0045\n",
      "not              | 0.2042 | 0.0038\n",
      "with             | 0.1897 | 0.0038\n",
      "you              | 0.1397 | 0.0034\n",
      "in               | 0.1101 | 0.0025\n",
      "and              | 0.0680 | 0.0020\n",
      "be               | 0.0151 | 0.0006\n"
     ]
    }
   ],
   "source": [
    "num_of_topwords = 30\n",
    "\n",
    "tw = ct.most_common(num_of_topwords)\n",
    "twp = ctp.most_common(num_of_topwords)\n",
    "\n",
    "num_of_topwords = len(tw)\n",
    "\n",
    "print(\"====================================================\")\n",
    "print(f\"printing {num_of_topwords} top co occuring words\")\n",
    "print(\"====================================================\\n\")\n",
    "\n",
    "print(f'{\"word\":16s} | {\"pr\":6s} | {\"pr_prime\":6s}')\n",
    "print(\"--------------------------------------------------\")\n",
    "\n",
    "for i in range(num_of_topwords):\n",
    "    print(f\"{tw[i][0][:16]:16s} | {tw[i][1]:.4f} | {twp[i][1]:.4f}\")"
   ]
  },
  {
   "cell_type": "markdown",
   "metadata": {},
   "source": [
    "#### Doc doc relation"
   ]
  },
  {
   "cell_type": "code",
   "execution_count": 292,
   "metadata": {},
   "outputs": [
    {
     "name": "stdout",
     "output_type": "stream",
     "text": [
      "Topic: talk.politics.mideast\n",
      "==================================================\n",
      "your ignorance be obvious from your post 1 cyprus be an independent country with turkish greek inhabitant not a greek island like your ignorant post claim 2 the name should be cyprus in english next time read and learn before you post\n",
      "\n"
     ]
    }
   ],
   "source": [
    "given_doc_index = 1\n",
    "print(f\"Topic: {y_train[given_doc_index]}\\n{'='*50}\\n{x_train[given_doc_index][:512]}\")\n",
    "print()"
   ]
  },
  {
   "cell_type": "code",
   "execution_count": 295,
   "metadata": {},
   "outputs": [
    {
     "data": {
      "application/vnd.jupyter.widget-view+json": {
       "model_id": "317f5c5519cb44fe930a5df017c14233",
       "version_major": 2,
       "version_minor": 0
      },
      "text/plain": [
       "HBox(children=(HTML(value=''), FloatProgress(value=0.0, max=112.0), HTML(value='')))"
      ]
     },
     "metadata": {},
     "output_type": "display_data"
    },
    {
     "name": "stdout",
     "output_type": "stream",
     "text": [
      "\n",
      "doc_doc_pr_distr shape = (112, 31)\n"
     ]
    }
   ],
   "source": [
    "given_doc = wdf_train.iloc[given_doc_index][wdf_train.iloc[given_doc_index] > 0]\n",
    "doc_doc_pr_distr = pd.DataFrame(data=0.0, columns=given_doc.index.tolist(), index=wdf_train.index.tolist())\n",
    "\n",
    "for doc_index in tqdm(range(len(y_train))):\n",
    "    doc = wdf_train.iloc[doc_index][wdf_train.iloc[doc_index] > 0]\n",
    "    \n",
    "    for given_word, wfx in given_doc.items():\n",
    "        doc_doc_pr_distr.iloc[doc_index][given_word] = max(\n",
    "            word_word_pr_distr[word][given_word] * word_inference_weight_prime[given_word] for word, wfy in doc.items()\n",
    "        )\n",
    "        \n",
    "print(f\"doc_doc_pr_distr shape = {doc_doc_pr_distr.shape}\")"
   ]
  },
  {
   "cell_type": "code",
   "execution_count": 296,
   "metadata": {},
   "outputs": [
    {
     "data": {
      "text/html": [
       "<div>\n",
       "<style scoped>\n",
       "    .dataframe tbody tr th:only-of-type {\n",
       "        vertical-align: middle;\n",
       "    }\n",
       "\n",
       "    .dataframe tbody tr th {\n",
       "        vertical-align: top;\n",
       "    }\n",
       "\n",
       "    .dataframe thead th {\n",
       "        text-align: right;\n",
       "    }\n",
       "</style>\n",
       "<table border=\"1\" class=\"dataframe\">\n",
       "  <thead>\n",
       "    <tr style=\"text-align: right;\">\n",
       "      <th></th>\n",
       "      <th>an</th>\n",
       "      <th>and</th>\n",
       "      <th>be</th>\n",
       "      <th>before</th>\n",
       "      <th>claim</th>\n",
       "      <th>country</th>\n",
       "      <th>cyprus</th>\n",
       "      <th>english</th>\n",
       "      <th>from</th>\n",
       "      <th>greek</th>\n",
       "      <th>...</th>\n",
       "      <th>obvious</th>\n",
       "      <th>post</th>\n",
       "      <th>read</th>\n",
       "      <th>should</th>\n",
       "      <th>the</th>\n",
       "      <th>time</th>\n",
       "      <th>turkish</th>\n",
       "      <th>with</th>\n",
       "      <th>you</th>\n",
       "      <th>your</th>\n",
       "    </tr>\n",
       "  </thead>\n",
       "  <tbody>\n",
       "    <tr>\n",
       "      <th>0</th>\n",
       "      <td>0.003777</td>\n",
       "      <td>0.003152</td>\n",
       "      <td>0.005179</td>\n",
       "      <td>0.036386</td>\n",
       "      <td>0.01993</td>\n",
       "      <td>0.052979</td>\n",
       "      <td>0.092243</td>\n",
       "      <td>0.057707</td>\n",
       "      <td>0.002190</td>\n",
       "      <td>0.059331</td>\n",
       "      <td>...</td>\n",
       "      <td>0.022434</td>\n",
       "      <td>0.008743</td>\n",
       "      <td>0.039952</td>\n",
       "      <td>0.015304</td>\n",
       "      <td>0.005917</td>\n",
       "      <td>0.004476</td>\n",
       "      <td>0.092243</td>\n",
       "      <td>0.003400</td>\n",
       "      <td>0.000639</td>\n",
       "      <td>0.006183</td>\n",
       "    </tr>\n",
       "    <tr>\n",
       "      <th>1</th>\n",
       "      <td>0.003777</td>\n",
       "      <td>0.003792</td>\n",
       "      <td>0.005179</td>\n",
       "      <td>0.036386</td>\n",
       "      <td>0.01993</td>\n",
       "      <td>0.052979</td>\n",
       "      <td>0.092243</td>\n",
       "      <td>0.057707</td>\n",
       "      <td>0.002190</td>\n",
       "      <td>0.059331</td>\n",
       "      <td>...</td>\n",
       "      <td>0.022434</td>\n",
       "      <td>0.008743</td>\n",
       "      <td>0.039952</td>\n",
       "      <td>0.015304</td>\n",
       "      <td>0.005917</td>\n",
       "      <td>0.006155</td>\n",
       "      <td>0.092243</td>\n",
       "      <td>0.004139</td>\n",
       "      <td>0.000639</td>\n",
       "      <td>0.007728</td>\n",
       "    </tr>\n",
       "    <tr>\n",
       "      <th>2</th>\n",
       "      <td>0.003091</td>\n",
       "      <td>0.002969</td>\n",
       "      <td>0.005179</td>\n",
       "      <td>0.036386</td>\n",
       "      <td>0.01993</td>\n",
       "      <td>0.052979</td>\n",
       "      <td>0.092243</td>\n",
       "      <td>0.057707</td>\n",
       "      <td>0.002022</td>\n",
       "      <td>0.059331</td>\n",
       "      <td>...</td>\n",
       "      <td>0.022434</td>\n",
       "      <td>0.006558</td>\n",
       "      <td>0.039952</td>\n",
       "      <td>0.013117</td>\n",
       "      <td>0.005347</td>\n",
       "      <td>0.004476</td>\n",
       "      <td>0.092243</td>\n",
       "      <td>0.003105</td>\n",
       "      <td>0.000639</td>\n",
       "      <td>0.007728</td>\n",
       "    </tr>\n",
       "    <tr>\n",
       "      <th>3</th>\n",
       "      <td>0.003091</td>\n",
       "      <td>0.003152</td>\n",
       "      <td>0.005179</td>\n",
       "      <td>0.036386</td>\n",
       "      <td>0.01993</td>\n",
       "      <td>0.052979</td>\n",
       "      <td>0.092243</td>\n",
       "      <td>0.057707</td>\n",
       "      <td>0.002022</td>\n",
       "      <td>0.059331</td>\n",
       "      <td>...</td>\n",
       "      <td>0.022434</td>\n",
       "      <td>0.008197</td>\n",
       "      <td>0.039952</td>\n",
       "      <td>0.015304</td>\n",
       "      <td>0.005917</td>\n",
       "      <td>0.006155</td>\n",
       "      <td>0.092243</td>\n",
       "      <td>0.004139</td>\n",
       "      <td>0.000521</td>\n",
       "      <td>0.006183</td>\n",
       "    </tr>\n",
       "    <tr>\n",
       "      <th>4</th>\n",
       "      <td>0.003091</td>\n",
       "      <td>0.003152</td>\n",
       "      <td>0.005179</td>\n",
       "      <td>0.036386</td>\n",
       "      <td>0.01993</td>\n",
       "      <td>0.052979</td>\n",
       "      <td>0.092243</td>\n",
       "      <td>0.057707</td>\n",
       "      <td>0.002190</td>\n",
       "      <td>0.059331</td>\n",
       "      <td>...</td>\n",
       "      <td>0.022434</td>\n",
       "      <td>0.008743</td>\n",
       "      <td>0.039952</td>\n",
       "      <td>0.015304</td>\n",
       "      <td>0.005917</td>\n",
       "      <td>0.004476</td>\n",
       "      <td>0.092243</td>\n",
       "      <td>0.003400</td>\n",
       "      <td>0.000639</td>\n",
       "      <td>0.006183</td>\n",
       "    </tr>\n",
       "  </tbody>\n",
       "</table>\n",
       "<p>5 rows × 31 columns</p>\n",
       "</div>"
      ],
      "text/plain": [
       "         an       and        be    before    claim   country    cyprus  \\\n",
       "0  0.003777  0.003152  0.005179  0.036386  0.01993  0.052979  0.092243   \n",
       "1  0.003777  0.003792  0.005179  0.036386  0.01993  0.052979  0.092243   \n",
       "2  0.003091  0.002969  0.005179  0.036386  0.01993  0.052979  0.092243   \n",
       "3  0.003091  0.003152  0.005179  0.036386  0.01993  0.052979  0.092243   \n",
       "4  0.003091  0.003152  0.005179  0.036386  0.01993  0.052979  0.092243   \n",
       "\n",
       "    english      from     greek  ...   obvious      post      read    should  \\\n",
       "0  0.057707  0.002190  0.059331  ...  0.022434  0.008743  0.039952  0.015304   \n",
       "1  0.057707  0.002190  0.059331  ...  0.022434  0.008743  0.039952  0.015304   \n",
       "2  0.057707  0.002022  0.059331  ...  0.022434  0.006558  0.039952  0.013117   \n",
       "3  0.057707  0.002022  0.059331  ...  0.022434  0.008197  0.039952  0.015304   \n",
       "4  0.057707  0.002190  0.059331  ...  0.022434  0.008743  0.039952  0.015304   \n",
       "\n",
       "        the      time   turkish      with       you      your  \n",
       "0  0.005917  0.004476  0.092243  0.003400  0.000639  0.006183  \n",
       "1  0.005917  0.006155  0.092243  0.004139  0.000639  0.007728  \n",
       "2  0.005347  0.004476  0.092243  0.003105  0.000639  0.007728  \n",
       "3  0.005917  0.006155  0.092243  0.004139  0.000521  0.006183  \n",
       "4  0.005917  0.004476  0.092243  0.003400  0.000639  0.006183  \n",
       "\n",
       "[5 rows x 31 columns]"
      ]
     },
     "execution_count": 296,
     "metadata": {},
     "output_type": "execute_result"
    }
   ],
   "source": [
    "doc_doc_pr_distr.head()"
   ]
  },
  {
   "cell_type": "code",
   "execution_count": 300,
   "metadata": {},
   "outputs": [
    {
     "data": {
      "text/plain": [
       "1      0.037381\n",
       "90     0.037281\n",
       "48     0.037265\n",
       "75     0.037264\n",
       "100    0.037257\n",
       "69     0.037255\n",
       "26     0.037254\n",
       "102    0.037246\n",
       "29     0.037244\n",
       "85     0.037241\n",
       "77     0.037241\n",
       "37     0.037239\n",
       "99     0.037233\n",
       "81     0.037233\n",
       "3      0.037233\n",
       "60     0.037232\n",
       "78     0.037228\n",
       "61     0.037225\n",
       "32     0.037225\n",
       "13     0.037224\n",
       "dtype: float64"
      ]
     },
     "execution_count": 300,
     "metadata": {},
     "output_type": "execute_result"
    }
   ],
   "source": [
    "topsize =  20\n",
    "doc_doc_pr_distr.mean(1).sort_values(ascending=False).head(topsize)"
   ]
  },
  {
   "cell_type": "code",
   "execution_count": 301,
   "metadata": {},
   "outputs": [
    {
     "data": {
      "text/plain": [
       "array(['talk.politics.mideast', 'alt.atheism', 'talk.politics.mideast',\n",
       "       'talk.politics.mideast', 'alt.atheism', 'rec.autos',\n",
       "       'talk.politics.mideast', 'alt.atheism', 'talk.politics.mideast',\n",
       "       'rec.autos', 'talk.politics.mideast', 'alt.atheism',\n",
       "       'talk.politics.mideast', 'talk.politics.mideast', 'sci.space',\n",
       "       'rec.autos', 'rec.autos', 'talk.politics.mideast',\n",
       "       'talk.politics.mideast', 'rec.autos'], dtype='<U21')"
      ]
     },
     "execution_count": 301,
     "metadata": {},
     "output_type": "execute_result"
    }
   ],
   "source": [
    "y_train[doc_doc_pr_distr.mean(1).sort_values(ascending=False).head(topsize).index]"
   ]
  },
  {
   "cell_type": "code",
   "execution_count": 302,
   "metadata": {},
   "outputs": [
    {
     "name": "stdout",
     "output_type": "stream",
     "text": [
      "latent_vector, kmeans_inertia =  0.004794562966925015\n",
      "Counter({'rec.autos': 30, 'talk.politics.mideast': 27, 'sci.space': 27, 'alt.atheism': 26})\n",
      "Counter({'rec.autos': 2})\n",
      "\n"
     ]
    }
   ],
   "source": [
    "n_clusters = 2\n",
    "\n",
    "# cluster the topics\n",
    "kmeans = KMeans(n_clusters=n_clusters, random_state=0).fit(doc_doc_pr_distr)\n",
    "print(\"latent_vector, kmeans_inertia = \", kmeans.inertia_)\n",
    "\n",
    "for ii in range(n_clusters):\n",
    "    print(Counter(y_train[kmeans.labels_ == ii]))\n",
    "\n",
    "print()"
   ]
  },
  {
   "cell_type": "code",
   "execution_count": 259,
   "metadata": {},
   "outputs": [
    {
     "data": {
      "text/plain": [
       "(2, 31)"
      ]
     },
     "execution_count": 259,
     "metadata": {},
     "output_type": "execute_result"
    }
   ],
   "source": [
    "kmeans.cluster_centers_.shape"
   ]
  },
  {
   "cell_type": "code",
   "execution_count": 692,
   "metadata": {},
   "outputs": [
    {
     "name": "stdout",
     "output_type": "stream",
     "text": [
      "wdf_train, kmeans_inertia =  4230.109369977496\n",
      "Counter({'sci.space': 17, 'talk.politics.mideast': 16, 'rec.autos': 16, 'alt.atheism': 12})\n",
      "Counter({'talk.politics.mideast': 3, 'alt.atheism': 2, 'rec.autos': 1})\n",
      "Counter({'sci.space': 10, 'rec.autos': 8, 'talk.politics.mideast': 6, 'alt.atheism': 4})\n",
      "Counter({'alt.atheism': 7, 'talk.politics.mideast': 4, 'sci.space': 4, 'rec.autos': 2})\n",
      "\n"
     ]
    }
   ],
   "source": [
    "n_clusters = 4\n",
    "\n",
    "wdf_train_prime = wdf_train.copy()\n",
    "wdf_test_prime = wdf_test.copy()\n",
    "    \n",
    "# cluster the topics\n",
    "kmeans = KMeans(n_clusters=n_clusters, random_state=0).fit(wdf_train_prime)\n",
    "print(\"wdf_train, kmeans_inertia = \", kmeans.inertia_)\n",
    "\n",
    "clusters = []\n",
    "categories_prime = list(range(n_clusters))\n",
    "\n",
    "y_train_prime = kmeans.predict(wdf_train_prime)\n",
    "y_test_prime = kmeans.predict(wdf_test_prime)\n",
    "\n",
    "for ii in range(n_clusters):\n",
    "    clusters.append(Counter(y_train[y_train_prime == ii]))\n",
    "    print(clusters[-1])\n",
    "\n",
    "print()"
   ]
  },
  {
   "cell_type": "code",
   "execution_count": 693,
   "metadata": {
    "scrolled": true
   },
   "outputs": [],
   "source": [
    "# y_train[doc_indices]"
   ]
  },
  {
   "cell_type": "code",
   "execution_count": 694,
   "metadata": {
    "scrolled": true
   },
   "outputs": [
    {
     "name": "stdout",
     "output_type": "stream",
     "text": [
      "Topic: rec.autos\n",
      "==================================================\n",
      "not to mention my friend s 54 citroen traction avant with the light switch and dimmer integrate in a single stalk off the steer column those dumb french be apparently copying the japanese before the german\n",
      "\n",
      "Topic: rec.autos\n",
      "==================================================\n",
      "right in the thirty both buick and packard have two spare mount in well in the front fender of course that be back when the front fender be long enough to provide room there be a couple of other marque that do this a well but memory fade\n"
     ]
    }
   ],
   "source": [
    "doc_index1 = 0\n",
    "print(f\"Topic: {y_train[doc_index1]}\\n{'='*50}\\n{x_train[doc_index1][:512]}\")\n",
    "print()\n",
    "\n",
    "doc_index2 = 3\n",
    "print(f\"Topic: {y_train[doc_index2]}\\n{'='*50}\\n{x_train[doc_index2][:512]}\")"
   ]
  },
  {
   "cell_type": "code",
   "execution_count": 695,
   "metadata": {
    "scrolled": true
   },
   "outputs": [
    {
     "data": {
      "text/plain": [
       "integrate     1.0\n",
       "in            1.0\n",
       "and           1.0\n",
       "apparently    1.0\n",
       "avant         1.0\n",
       "be            1.0\n",
       "before        1.0\n",
       "citroen       1.0\n",
       "column        1.0\n",
       "copying       1.0\n",
       "dtype: float64"
      ]
     },
     "execution_count": 695,
     "metadata": {},
     "output_type": "execute_result"
    }
   ],
   "source": [
    "dfx_li[doc_index1][doc_index2].max(1).sort_values(ascending=False).head(10)"
   ]
  },
  {
   "cell_type": "code",
   "execution_count": 696,
   "metadata": {
    "scrolled": true
   },
   "outputs": [
    {
     "data": {
      "text/plain": [
       "in         0.216949\n",
       "the        0.187317\n",
       "be         0.187181\n",
       "light      0.185714\n",
       "to         0.184783\n",
       "and        0.181193\n",
       "mention    0.171429\n",
       "steer      0.171429\n",
       "single     0.171429\n",
       "off        0.171429\n",
       "dtype: float64"
      ]
     },
     "execution_count": 696,
     "metadata": {},
     "output_type": "execute_result"
    }
   ],
   "source": [
    "dfx_li[doc_index1][doc_index2].mean(1).sort_values(ascending=False).head(10)"
   ]
  },
  {
   "cell_type": "code",
   "execution_count": 697,
   "metadata": {},
   "outputs": [
    {
     "name": "stdout",
     "output_type": "stream",
     "text": [
      "-0.5468186228727564\n"
     ]
    },
    {
     "data": {
      "text/plain": [
       "reuseable     -0.328365\n",
       "reminder      -0.328365\n",
       "version       -0.328365\n",
       "nls           -0.328365\n",
       "bastard       -0.328365\n",
       "definitely    -0.328365\n",
       "thank         -0.328365\n",
       "suitable      -0.328365\n",
       "sub           -0.328365\n",
       "spacelifter   -0.328365\n",
       "dtype: float64"
      ]
     },
     "execution_count": 697,
     "metadata": {},
     "output_type": "execute_result"
    }
   ],
   "source": [
    "print(xv[xv < 0].mean(0).mean())\n",
    "xv[xv < 0].mean(0).sort_values(ascending=False).head(10)"
   ]
  },
  {
   "cell_type": "code",
   "execution_count": 549,
   "metadata": {},
   "outputs": [
    {
     "data": {
      "text/plain": [
       "that         1.0\n",
       "be           1.0\n",
       "have         1.0\n",
       "the          1.0\n",
       "police       1.0\n",
       "will         1.0\n",
       "with         1.0\n",
       "you          0.6\n",
       "believe      0.5\n",
       "close        0.5\n",
       "detection    0.5\n",
       "detector     0.5\n",
       "off          0.5\n",
       "enough       0.5\n",
       "forget       0.5\n",
       "frequency    0.5\n",
       "dtype: float64"
      ]
     },
     "execution_count": 549,
     "metadata": {},
     "output_type": "execute_result"
    }
   ],
   "source": [
    "dfx_li[doc_index1][doc_index2].max(0).sort_values(ascending=False).head(16)"
   ]
  },
  {
   "cell_type": "code",
   "execution_count": 550,
   "metadata": {},
   "outputs": [
    {
     "data": {
      "text/plain": [
       "read          1.0\n",
       "with          1.0\n",
       "will          1.0\n",
       "be            1.0\n",
       "conception    1.0\n",
       "concern       1.0\n",
       "concrete      1.0\n",
       "creation      1.0\n",
       "detail        1.0\n",
       "differ        1.0\n",
       "during        1.0\n",
       "fit           1.0\n",
       "force         1.0\n",
       "have          1.0\n",
       "idea          1.0\n",
       "above         1.0\n",
       "dtype: float64"
      ]
     },
     "execution_count": 550,
     "metadata": {},
     "output_type": "execute_result"
    }
   ],
   "source": [
    "dfx_li[doc_index1][doc_index2].max(1).sort_values(ascending=False).head(16)"
   ]
  },
  {
   "cell_type": "code",
   "execution_count": 210,
   "metadata": {
    "scrolled": true
   },
   "outputs": [
    {
     "data": {
      "text/plain": [
       "000         0\n",
       "pity        0\n",
       "pimentel    0\n",
       "pilot       0\n",
       "piece       0\n",
       "           ..\n",
       "to          2\n",
       "fuel        2\n",
       "how         2\n",
       "the         2\n",
       "be          3\n",
       "Name: 7, Length: 1467, dtype: int64"
      ]
     },
     "execution_count": 210,
     "metadata": {},
     "output_type": "execute_result"
    }
   ],
   "source": [
    "wdf_train.iloc[idx2].sort_values(ascending=True)"
   ]
  },
  {
   "cell_type": "code",
   "execution_count": 186,
   "metadata": {
    "scrolled": true
   },
   "outputs": [
    {
     "data": {
      "text/plain": [
       "memory     0.050847\n",
       "thirty     0.050847\n",
       "buick      0.050847\n",
       "room       0.050847\n",
       "packard    0.050847\n",
       "fade       0.050847\n",
       "fender     0.050847\n",
       "marque     0.050847\n",
       "spare      0.067797\n",
       "course     0.067797\n",
       "mount      0.067797\n",
       "front      0.067797\n",
       "two        0.080000\n",
       "both       0.107317\n",
       "when       0.120000\n",
       "dtype: float64"
      ]
     },
     "execution_count": 186,
     "metadata": {},
     "output_type": "execute_result"
    }
   ],
   "source": [
    "dfx.max(0).sort_values(ascending=True).head(15)"
   ]
  },
  {
   "cell_type": "code",
   "execution_count": 183,
   "metadata": {},
   "outputs": [
    {
     "data": {
      "text/plain": [
       "the       4.303757\n",
       "be        3.994595\n",
       "to        3.977974\n",
       "and       3.803540\n",
       "in        3.734835\n",
       "of        3.445151\n",
       "that      2.753275\n",
       "have      2.407538\n",
       "do        2.102149\n",
       "this      2.010799\n",
       "but       1.688663\n",
       "there     1.236046\n",
       "well      0.891024\n",
       "couple    0.836783\n",
       "long      0.835313\n",
       "dtype: float64"
      ]
     },
     "execution_count": 183,
     "metadata": {},
     "output_type": "execute_result"
    }
   ],
   "source": [
    "dfx.sum(0).sort_values(ascending=False).head(15)"
   ]
  },
  {
   "cell_type": "code",
   "execution_count": 129,
   "metadata": {},
   "outputs": [
    {
     "name": "stdout",
     "output_type": "stream",
     "text": [
      "Topic: rec.autos\n",
      "==================================================\n",
      "not to mention my friend s 54 citroen traction avant with the light switch and dimmer integrate in a single stalk off the steer column those dumb french be apparently copying the japanese before the german\n"
     ]
    }
   ],
   "source": [
    "result = []\n",
    "doc_index = 3\n",
    "print(f\"Topic: {labels[doc_index]}\\n{'='*50}\\n{docs[doc_index][:512]}\")\n",
    "\n",
    "width = 0\n",
    "for i, word in enumerate(wdf_train.columns):\n",
    "    result.append(gnbs[word].predict_log_proba(wdf_test.loc[[doc_index]])[0])\n",
    "    if len(result) > width:\n",
    "        width = len(result)\n",
    "\n",
    "res = pd.DataFrame(data=result, index=wdf_train.columns).fillna(0)"
   ]
  },
  {
   "cell_type": "code",
   "execution_count": 134,
   "metadata": {},
   "outputs": [
    {
     "data": {
      "text/plain": [
       "and     -5.121664e+10\n",
       "the     -5.065995e+10\n",
       "mount   -3.989702e+10\n",
       "spare   -3.989702e+10\n",
       "issue   -3.711350e+10\n",
       "             ...     \n",
       "make    -1.855667e+09\n",
       "we      -1.855666e+09\n",
       "at      -1.670100e+09\n",
       "me      -1.670099e+09\n",
       "get     -1.113398e+09\n",
       "Length: 1467, dtype: float64"
      ]
     },
     "execution_count": 134,
     "metadata": {},
     "output_type": "execute_result"
    }
   ],
   "source": [
    "res.sum(1).sort_values()"
   ]
  },
  {
   "cell_type": "code",
   "execution_count": 113,
   "metadata": {
    "scrolled": true
   },
   "outputs": [
    {
     "data": {
      "text/plain": [
       "be          -4.082481e+09\n",
       "the         -7.422644e+08\n",
       "that        -5.567038e+08\n",
       "you         -3.711371e+08\n",
       "of          -1.855654e+08\n",
       "not         -4.879017e+03\n",
       "play         0.000000e+00\n",
       "planetary    0.000000e+00\n",
       "plane        0.000000e+00\n",
       "placement    0.000000e+00\n",
       "place        0.000000e+00\n",
       "pity         0.000000e+00\n",
       "pimentel     0.000000e+00\n",
       "pilot        0.000000e+00\n",
       "piece        0.000000e+00\n",
       "pickup       0.000000e+00\n",
       "phone        0.000000e+00\n",
       "phobos       0.000000e+00\n",
       "peter        0.000000e+00\n",
       "pertains     0.000000e+00\n",
       "Name: 0, dtype: float64"
      ]
     },
     "execution_count": 113,
     "metadata": {},
     "output_type": "execute_result"
    }
   ],
   "source": [
    "res[1].sort_values(ascending=True).head(20)"
   ]
  },
  {
   "cell_type": "code",
   "execution_count": 99,
   "metadata": {
    "scrolled": true
   },
   "outputs": [
    {
     "name": "stderr",
     "output_type": "stream",
     "text": [
      "C:\\Program Files\\Python37\\lib\\site-packages\\ipykernel_launcher.py:1: RuntimeWarning: divide by zero encountered in log\n",
      "  \"\"\"Entry point for launching an IPython kernel.\n"
     ]
    },
    {
     "data": {
      "text/plain": [
       "-inf"
      ]
     },
     "execution_count": 99,
     "metadata": {},
     "output_type": "execute_result"
    }
   ],
   "source": [
    "np.log(0)"
   ]
  },
  {
   "cell_type": "code",
   "execution_count": 27,
   "metadata": {},
   "outputs": [
    {
     "data": {
      "text/html": [
       "<div>\n",
       "<style scoped>\n",
       "    .dataframe tbody tr th:only-of-type {\n",
       "        vertical-align: middle;\n",
       "    }\n",
       "\n",
       "    .dataframe tbody tr th {\n",
       "        vertical-align: top;\n",
       "    }\n",
       "\n",
       "    .dataframe thead th {\n",
       "        text-align: right;\n",
       "    }\n",
       "</style>\n",
       "<table border=\"1\" class=\"dataframe\">\n",
       "  <thead>\n",
       "    <tr style=\"text-align: right;\">\n",
       "      <th></th>\n",
       "      <th>000</th>\n",
       "      <th>031349</th>\n",
       "      <th>10</th>\n",
       "      <th>1000</th>\n",
       "      <th>11</th>\n",
       "      <th>14</th>\n",
       "      <th>16th</th>\n",
       "      <th>1900</th>\n",
       "      <th>1940</th>\n",
       "      <th>1982</th>\n",
       "      <th>...</th>\n",
       "      <th>yeah</th>\n",
       "      <th>year</th>\n",
       "      <th>yes</th>\n",
       "      <th>yo</th>\n",
       "      <th>yorker</th>\n",
       "      <th>you</th>\n",
       "      <th>your</th>\n",
       "      <th>yourself</th>\n",
       "      <th>zeuge</th>\n",
       "      <th>__labels__</th>\n",
       "    </tr>\n",
       "  </thead>\n",
       "  <tbody>\n",
       "    <tr>\n",
       "      <th>0</th>\n",
       "      <td>0</td>\n",
       "      <td>0</td>\n",
       "      <td>0</td>\n",
       "      <td>0</td>\n",
       "      <td>0</td>\n",
       "      <td>0</td>\n",
       "      <td>0</td>\n",
       "      <td>0</td>\n",
       "      <td>0</td>\n",
       "      <td>0</td>\n",
       "      <td>...</td>\n",
       "      <td>0</td>\n",
       "      <td>0</td>\n",
       "      <td>0</td>\n",
       "      <td>0</td>\n",
       "      <td>0</td>\n",
       "      <td>0</td>\n",
       "      <td>0</td>\n",
       "      <td>0</td>\n",
       "      <td>0</td>\n",
       "      <td>2</td>\n",
       "    </tr>\n",
       "    <tr>\n",
       "      <th>1</th>\n",
       "      <td>0</td>\n",
       "      <td>0</td>\n",
       "      <td>0</td>\n",
       "      <td>0</td>\n",
       "      <td>0</td>\n",
       "      <td>0</td>\n",
       "      <td>0</td>\n",
       "      <td>0</td>\n",
       "      <td>0</td>\n",
       "      <td>0</td>\n",
       "      <td>...</td>\n",
       "      <td>0</td>\n",
       "      <td>0</td>\n",
       "      <td>0</td>\n",
       "      <td>0</td>\n",
       "      <td>0</td>\n",
       "      <td>1</td>\n",
       "      <td>0</td>\n",
       "      <td>0</td>\n",
       "      <td>0</td>\n",
       "      <td>0</td>\n",
       "    </tr>\n",
       "    <tr>\n",
       "      <th>2</th>\n",
       "      <td>0</td>\n",
       "      <td>0</td>\n",
       "      <td>0</td>\n",
       "      <td>0</td>\n",
       "      <td>0</td>\n",
       "      <td>0</td>\n",
       "      <td>0</td>\n",
       "      <td>0</td>\n",
       "      <td>0</td>\n",
       "      <td>0</td>\n",
       "      <td>...</td>\n",
       "      <td>0</td>\n",
       "      <td>0</td>\n",
       "      <td>0</td>\n",
       "      <td>0</td>\n",
       "      <td>0</td>\n",
       "      <td>0</td>\n",
       "      <td>0</td>\n",
       "      <td>0</td>\n",
       "      <td>0</td>\n",
       "      <td>2</td>\n",
       "    </tr>\n",
       "    <tr>\n",
       "      <th>3</th>\n",
       "      <td>0</td>\n",
       "      <td>0</td>\n",
       "      <td>0</td>\n",
       "      <td>0</td>\n",
       "      <td>0</td>\n",
       "      <td>0</td>\n",
       "      <td>0</td>\n",
       "      <td>0</td>\n",
       "      <td>0</td>\n",
       "      <td>0</td>\n",
       "      <td>...</td>\n",
       "      <td>0</td>\n",
       "      <td>0</td>\n",
       "      <td>0</td>\n",
       "      <td>0</td>\n",
       "      <td>0</td>\n",
       "      <td>0</td>\n",
       "      <td>0</td>\n",
       "      <td>0</td>\n",
       "      <td>0</td>\n",
       "      <td>2</td>\n",
       "    </tr>\n",
       "    <tr>\n",
       "      <th>4</th>\n",
       "      <td>0</td>\n",
       "      <td>0</td>\n",
       "      <td>0</td>\n",
       "      <td>0</td>\n",
       "      <td>0</td>\n",
       "      <td>0</td>\n",
       "      <td>0</td>\n",
       "      <td>0</td>\n",
       "      <td>0</td>\n",
       "      <td>0</td>\n",
       "      <td>...</td>\n",
       "      <td>0</td>\n",
       "      <td>0</td>\n",
       "      <td>0</td>\n",
       "      <td>0</td>\n",
       "      <td>0</td>\n",
       "      <td>0</td>\n",
       "      <td>0</td>\n",
       "      <td>0</td>\n",
       "      <td>0</td>\n",
       "      <td>2</td>\n",
       "    </tr>\n",
       "  </tbody>\n",
       "</table>\n",
       "<p>5 rows × 1468 columns</p>\n",
       "</div>"
      ],
      "text/plain": [
       "   000  031349  10  1000  11  14  16th  1900  1940  1982  ...  yeah  year  \\\n",
       "0    0       0   0     0   0   0     0     0     0     0  ...     0     0   \n",
       "1    0       0   0     0   0   0     0     0     0     0  ...     0     0   \n",
       "2    0       0   0     0   0   0     0     0     0     0  ...     0     0   \n",
       "3    0       0   0     0   0   0     0     0     0     0  ...     0     0   \n",
       "4    0       0   0     0   0   0     0     0     0     0  ...     0     0   \n",
       "\n",
       "   yes  yo  yorker  you  your  yourself  zeuge  __labels__  \n",
       "0    0   0       0    0     0         0      0           2  \n",
       "1    0   0       0    1     0         0      0           0  \n",
       "2    0   0       0    0     0         0      0           2  \n",
       "3    0   0       0    0     0         0      0           2  \n",
       "4    0   0       0    0     0         0      0           2  \n",
       "\n",
       "[5 rows x 1468 columns]"
      ]
     },
     "execution_count": 27,
     "metadata": {},
     "output_type": "execute_result"
    }
   ],
   "source": [
    "wdf_train_prime.head()"
   ]
  },
  {
   "cell_type": "code",
   "execution_count": 64,
   "metadata": {},
   "outputs": [
    {
     "data": {
      "text/plain": [
       "array([2, 0, 2, 2, 2, 0, 0, 3, 1, 2, 0, 0, 0, 0, 2, 2, 0, 2, 2, 0, 3, 0,\n",
       "       0, 0, 3, 3, 2, 0, 2, 2, 2, 3, 0, 0, 2, 0, 2, 2, 2, 0, 0, 0, 0, 0,\n",
       "       0, 1, 0, 3, 0, 3, 3, 2, 2, 3, 0, 0, 0, 0, 0, 0, 0, 0, 0, 0, 0, 0,\n",
       "       3, 0, 0, 3, 2, 0, 2, 2, 0, 0, 0, 0, 2, 0, 1, 2, 0, 0, 3, 3, 0, 0,\n",
       "       0, 0, 3, 2, 3, 0, 0, 1, 0, 2, 0, 2, 1, 0, 1, 0, 0, 0, 0, 3, 0, 2,\n",
       "       0, 3])"
      ]
     },
     "execution_count": 64,
     "metadata": {},
     "output_type": "execute_result"
    }
   ],
   "source": [
    "kmeans.predict(wdf_train_prime)"
   ]
  },
  {
   "cell_type": "code",
   "execution_count": 18,
   "metadata": {},
   "outputs": [
    {
     "data": {
      "application/vnd.jupyter.widget-view+json": {
       "model_id": "6d214b79e166471980f6cedb44e886b2",
       "version_major": 2,
       "version_minor": 0
      },
      "text/plain": [
       "HBox(children=(FloatProgress(value=0.0, max=4.0), HTML(value='')))"
      ]
     },
     "metadata": {},
     "output_type": "display_data"
    },
    {
     "name": "stdout",
     "output_type": "stream",
     "text": [
      "\n",
      "word_topic_pr_distr shape = (1467, 4)\n"
     ]
    }
   ],
   "source": [
    "# the word topic distr\n",
    "wdt_train = wdf_train_prime.copy()\n",
    "wdt_test = wdf_test_prime.copy()\n",
    "\n",
    "wdt_test[\"__labels__\"] = y_test_prime\n",
    "wdt_train[\"__labels__\"] = y_train_prime\n",
    "\n",
    "word_doc_count = wdf_train_prime.sum(0)\n",
    "topic_doc_count = pd.DataFrame(Counter(y_train_prime), index=[0]).T[0]\n",
    "word_topic_pr_distr = pd.DataFrame(data=0.0, columns=categories_prime, index=vocabulary)\n",
    "\n",
    "for category in tqdm(categories_prime):\n",
    "    pxy = wdf_train_prime[wdt_train[\"__labels__\"] == category].sum(0) / topic_doc_count[category]\n",
    "    word_topic_pr_distr[category] = pxy * (topic_doc_count[category] / word_doc_count)\n",
    "\n",
    "print(f\"word_topic_pr_distr shape = {word_topic_pr_distr.shape}\")"
   ]
  },
  {
   "cell_type": "code",
   "execution_count": 19,
   "metadata": {},
   "outputs": [
    {
     "data": {
      "text/html": [
       "<div>\n",
       "<style scoped>\n",
       "    .dataframe tbody tr th:only-of-type {\n",
       "        vertical-align: middle;\n",
       "    }\n",
       "\n",
       "    .dataframe tbody tr th {\n",
       "        vertical-align: top;\n",
       "    }\n",
       "\n",
       "    .dataframe thead th {\n",
       "        text-align: right;\n",
       "    }\n",
       "</style>\n",
       "<table border=\"1\" class=\"dataframe\">\n",
       "  <thead>\n",
       "    <tr style=\"text-align: right;\">\n",
       "      <th></th>\n",
       "      <th>0</th>\n",
       "      <th>1</th>\n",
       "      <th>2</th>\n",
       "      <th>3</th>\n",
       "    </tr>\n",
       "  </thead>\n",
       "  <tbody>\n",
       "    <tr>\n",
       "      <th>000</th>\n",
       "      <td>1.0</td>\n",
       "      <td>0.0</td>\n",
       "      <td>0.0</td>\n",
       "      <td>0.0</td>\n",
       "    </tr>\n",
       "    <tr>\n",
       "      <th>031349</th>\n",
       "      <td>1.0</td>\n",
       "      <td>0.0</td>\n",
       "      <td>0.0</td>\n",
       "      <td>0.0</td>\n",
       "    </tr>\n",
       "    <tr>\n",
       "      <th>10</th>\n",
       "      <td>1.0</td>\n",
       "      <td>0.0</td>\n",
       "      <td>0.0</td>\n",
       "      <td>0.0</td>\n",
       "    </tr>\n",
       "    <tr>\n",
       "      <th>1000</th>\n",
       "      <td>1.0</td>\n",
       "      <td>0.0</td>\n",
       "      <td>0.0</td>\n",
       "      <td>0.0</td>\n",
       "    </tr>\n",
       "    <tr>\n",
       "      <th>11</th>\n",
       "      <td>0.0</td>\n",
       "      <td>0.0</td>\n",
       "      <td>1.0</td>\n",
       "      <td>0.0</td>\n",
       "    </tr>\n",
       "  </tbody>\n",
       "</table>\n",
       "</div>"
      ],
      "text/plain": [
       "          0    1    2    3\n",
       "000     1.0  0.0  0.0  0.0\n",
       "031349  1.0  0.0  0.0  0.0\n",
       "10      1.0  0.0  0.0  0.0\n",
       "1000    1.0  0.0  0.0  0.0\n",
       "11      0.0  0.0  1.0  0.0"
      ]
     },
     "execution_count": 19,
     "metadata": {},
     "output_type": "execute_result"
    }
   ],
   "source": [
    "word_topic_pr_distr.head()"
   ]
  },
  {
   "cell_type": "code",
   "execution_count": 62,
   "metadata": {
    "scrolled": true
   },
   "outputs": [
    {
     "data": {
      "text/html": [
       "<div>\n",
       "<style scoped>\n",
       "    .dataframe tbody tr th:only-of-type {\n",
       "        vertical-align: middle;\n",
       "    }\n",
       "\n",
       "    .dataframe tbody tr th {\n",
       "        vertical-align: top;\n",
       "    }\n",
       "\n",
       "    .dataframe thead th {\n",
       "        text-align: right;\n",
       "    }\n",
       "</style>\n",
       "<table border=\"1\" class=\"dataframe\">\n",
       "  <thead>\n",
       "    <tr style=\"text-align: right;\">\n",
       "      <th></th>\n",
       "      <th>0</th>\n",
       "      <th>1</th>\n",
       "      <th>2</th>\n",
       "      <th>3</th>\n",
       "    </tr>\n",
       "  </thead>\n",
       "  <tbody>\n",
       "    <tr>\n",
       "      <th>zeuge</th>\n",
       "      <td>1.0</td>\n",
       "      <td>0.0</td>\n",
       "      <td>0.0</td>\n",
       "      <td>0.0</td>\n",
       "    </tr>\n",
       "    <tr>\n",
       "      <th>ftp</th>\n",
       "      <td>0.0</td>\n",
       "      <td>0.0</td>\n",
       "      <td>1.0</td>\n",
       "      <td>0.0</td>\n",
       "    </tr>\n",
       "    <tr>\n",
       "      <th>full</th>\n",
       "      <td>0.0</td>\n",
       "      <td>1.0</td>\n",
       "      <td>0.0</td>\n",
       "      <td>0.0</td>\n",
       "    </tr>\n",
       "    <tr>\n",
       "      <th>fundraise</th>\n",
       "      <td>0.0</td>\n",
       "      <td>0.0</td>\n",
       "      <td>1.0</td>\n",
       "      <td>0.0</td>\n",
       "    </tr>\n",
       "    <tr>\n",
       "      <th>funny</th>\n",
       "      <td>1.0</td>\n",
       "      <td>0.0</td>\n",
       "      <td>0.0</td>\n",
       "      <td>0.0</td>\n",
       "    </tr>\n",
       "    <tr>\n",
       "      <th>further</th>\n",
       "      <td>1.0</td>\n",
       "      <td>0.0</td>\n",
       "      <td>0.0</td>\n",
       "      <td>0.0</td>\n",
       "    </tr>\n",
       "    <tr>\n",
       "      <th>fusi</th>\n",
       "      <td>1.0</td>\n",
       "      <td>0.0</td>\n",
       "      <td>0.0</td>\n",
       "      <td>0.0</td>\n",
       "    </tr>\n",
       "    <tr>\n",
       "      <th>gain</th>\n",
       "      <td>1.0</td>\n",
       "      <td>0.0</td>\n",
       "      <td>0.0</td>\n",
       "      <td>0.0</td>\n",
       "    </tr>\n",
       "    <tr>\n",
       "      <th>gallon</th>\n",
       "      <td>0.0</td>\n",
       "      <td>0.0</td>\n",
       "      <td>0.0</td>\n",
       "      <td>1.0</td>\n",
       "    </tr>\n",
       "    <tr>\n",
       "      <th>game</th>\n",
       "      <td>0.0</td>\n",
       "      <td>1.0</td>\n",
       "      <td>0.0</td>\n",
       "      <td>0.0</td>\n",
       "    </tr>\n",
       "  </tbody>\n",
       "</table>\n",
       "</div>"
      ],
      "text/plain": [
       "             0    1    2    3\n",
       "zeuge      1.0  0.0  0.0  0.0\n",
       "ftp        0.0  0.0  1.0  0.0\n",
       "full       0.0  1.0  0.0  0.0\n",
       "fundraise  0.0  0.0  1.0  0.0\n",
       "funny      1.0  0.0  0.0  0.0\n",
       "further    1.0  0.0  0.0  0.0\n",
       "fusi       1.0  0.0  0.0  0.0\n",
       "gain       1.0  0.0  0.0  0.0\n",
       "gallon     0.0  0.0  0.0  1.0\n",
       "game       0.0  1.0  0.0  0.0"
      ]
     },
     "execution_count": 62,
     "metadata": {},
     "output_type": "execute_result"
    }
   ],
   "source": [
    "word_topic_entropy = calculate_entropy(word_topic_pr_distr, axis=1)\n",
    "word_topic_entropy_norm = (word_topic_entropy.max() - word_topic_entropy) / word_topic_entropy.max()\n",
    "\n",
    "order_factor = word_topic_entropy_norm #* (word_doc_count / word_doc_count.max())\n",
    "\n",
    "order_indices = order_factor.argsort()[::-1]\n",
    "word_topic_pr_distr.iloc[order_indices].head(10)"
   ]
  },
  {
   "cell_type": "code",
   "execution_count": null,
   "metadata": {},
   "outputs": [],
   "source": []
  },
  {
   "cell_type": "code",
   "execution_count": 61,
   "metadata": {},
   "outputs": [
    {
     "data": {
      "text/plain": [
       "(0.6730116670092565, 5)"
      ]
     },
     "execution_count": 61,
     "metadata": {},
     "output_type": "execute_result"
    }
   ],
   "source": [
    "word = \"space\"\n",
    "calculate_entropy(word_topic_pr_distr.loc[word]), npword_doc_count[word]"
   ]
  },
  {
   "cell_type": "code",
   "execution_count": 60,
   "metadata": {
    "scrolled": true
   },
   "outputs": [
    {
     "data": {
      "text/plain": [
       "<bound method Series.mean of 000          2\n",
       "031349       1\n",
       "10           1\n",
       "1000         1\n",
       "11           2\n",
       "            ..\n",
       "yorker       1\n",
       "you         87\n",
       "your        23\n",
       "yourself     1\n",
       "zeuge        1\n",
       "Length: 1467, dtype: int64>"
      ]
     },
     "execution_count": 60,
     "metadata": {},
     "output_type": "execute_result"
    }
   ],
   "source": [
    "word_doc_count.mean"
   ]
  },
  {
   "cell_type": "code",
   "execution_count": 20,
   "metadata": {},
   "outputs": [],
   "source": [
    "# the entropy and softma for reducing relation\n",
    "word_topic_pr_entropy = calculate_entropy(word_topic_pr_distr, axis=1)\n",
    "\n",
    "# the norm freq of the word in topic\n",
    "word_topic_pr_freq_weight = word_topic_pr_distr.sum(1)\n",
    "\n",
    "\n",
    "# word_topic_pr_infl = 1 - softmax(word_topic_pr_entropy)\n",
    "\n",
    "# influence\n",
    "# wdf_train_prime *= word_topic_pr_infl"
   ]
  },
  {
   "cell_type": "code",
   "execution_count": 21,
   "metadata": {},
   "outputs": [
    {
     "data": {
      "text/plain": [
       "7"
      ]
     },
     "execution_count": 21,
     "metadata": {},
     "output_type": "execute_result"
    }
   ],
   "source": [
    "wdf_train_prime.max().max()"
   ]
  },
  {
   "cell_type": "code",
   "execution_count": 22,
   "metadata": {},
   "outputs": [
    {
     "data": {
      "text/plain": [
       "1.0"
      ]
     },
     "execution_count": 22,
     "metadata": {},
     "output_type": "execute_result"
    }
   ],
   "source": [
    "word_topic_pr_freq_weight.max()"
   ]
  },
  {
   "cell_type": "code",
   "execution_count": 23,
   "metadata": {
    "scrolled": true
   },
   "outputs": [
    {
     "data": {
      "text/plain": [
       "array([0.       , 0.       , 0.       , ..., 1.0554635, 0.       ,\n",
       "       0.       ])"
      ]
     },
     "execution_count": 23,
     "metadata": {},
     "output_type": "execute_result"
    }
   ],
   "source": [
    "word_topic_pr_entropy"
   ]
  },
  {
   "cell_type": "code",
   "execution_count": null,
   "metadata": {},
   "outputs": [],
   "source": []
  }
 ],
 "metadata": {
  "colab": {
   "name": "topic_modeler.ipynb",
   "provenance": [],
   "toc_visible": true
  },
  "kernelspec": {
   "display_name": "Python 3",
   "language": "python",
   "name": "python3"
  },
  "language_info": {
   "codemirror_mode": {
    "name": "ipython",
    "version": 3
   },
   "file_extension": ".py",
   "mimetype": "text/x-python",
   "name": "python",
   "nbconvert_exporter": "python",
   "pygments_lexer": "ipython3",
   "version": "3.8.5"
  },
  "widgets": {
   "application/vnd.jupyter.widget-state+json": {
    "1029c3cb5c264802a7bd45639c1a7c20": {
     "model_module": "@jupyter-widgets/base",
     "model_name": "LayoutModel",
     "state": {
      "_model_module": "@jupyter-widgets/base",
      "_model_module_version": "1.2.0",
      "_model_name": "LayoutModel",
      "_view_count": null,
      "_view_module": "@jupyter-widgets/base",
      "_view_module_version": "1.2.0",
      "_view_name": "LayoutView",
      "align_content": null,
      "align_items": null,
      "align_self": null,
      "border": null,
      "bottom": null,
      "display": null,
      "flex": null,
      "flex_flow": null,
      "grid_area": null,
      "grid_auto_columns": null,
      "grid_auto_flow": null,
      "grid_auto_rows": null,
      "grid_column": null,
      "grid_gap": null,
      "grid_row": null,
      "grid_template_areas": null,
      "grid_template_columns": null,
      "grid_template_rows": null,
      "height": null,
      "justify_content": null,
      "justify_items": null,
      "left": null,
      "margin": null,
      "max_height": null,
      "max_width": null,
      "min_height": null,
      "min_width": null,
      "object_fit": null,
      "object_position": null,
      "order": null,
      "overflow": null,
      "overflow_x": null,
      "overflow_y": null,
      "padding": null,
      "right": null,
      "top": null,
      "visibility": null,
      "width": null
     }
    },
    "2e8643a34a7143e284ed8e94aaca32d7": {
     "model_module": "@jupyter-widgets/controls",
     "model_name": "ProgressStyleModel",
     "state": {
      "_model_module": "@jupyter-widgets/controls",
      "_model_module_version": "1.5.0",
      "_model_name": "ProgressStyleModel",
      "_view_count": null,
      "_view_module": "@jupyter-widgets/base",
      "_view_module_version": "1.2.0",
      "_view_name": "StyleView",
      "bar_color": null,
      "description_width": "initial"
     }
    },
    "44bf4a5432b34d269a82bce24d4e46b3": {
     "model_module": "@jupyter-widgets/controls",
     "model_name": "ProgressStyleModel",
     "state": {
      "_model_module": "@jupyter-widgets/controls",
      "_model_module_version": "1.5.0",
      "_model_name": "ProgressStyleModel",
      "_view_count": null,
      "_view_module": "@jupyter-widgets/base",
      "_view_module_version": "1.2.0",
      "_view_name": "StyleView",
      "bar_color": null,
      "description_width": "initial"
     }
    },
    "4dcd4b491d694b0aa25514b8486cf3f8": {
     "model_module": "@jupyter-widgets/base",
     "model_name": "LayoutModel",
     "state": {
      "_model_module": "@jupyter-widgets/base",
      "_model_module_version": "1.2.0",
      "_model_name": "LayoutModel",
      "_view_count": null,
      "_view_module": "@jupyter-widgets/base",
      "_view_module_version": "1.2.0",
      "_view_name": "LayoutView",
      "align_content": null,
      "align_items": null,
      "align_self": null,
      "border": null,
      "bottom": null,
      "display": null,
      "flex": null,
      "flex_flow": null,
      "grid_area": null,
      "grid_auto_columns": null,
      "grid_auto_flow": null,
      "grid_auto_rows": null,
      "grid_column": null,
      "grid_gap": null,
      "grid_row": null,
      "grid_template_areas": null,
      "grid_template_columns": null,
      "grid_template_rows": null,
      "height": null,
      "justify_content": null,
      "justify_items": null,
      "left": null,
      "margin": null,
      "max_height": null,
      "max_width": null,
      "min_height": null,
      "min_width": null,
      "object_fit": null,
      "object_position": null,
      "order": null,
      "overflow": null,
      "overflow_x": null,
      "overflow_y": null,
      "padding": null,
      "right": null,
      "top": null,
      "visibility": null,
      "width": null
     }
    },
    "51dd1aa22f7d45ccbd3ba766bb232b57": {
     "model_module": "@jupyter-widgets/base",
     "model_name": "LayoutModel",
     "state": {
      "_model_module": "@jupyter-widgets/base",
      "_model_module_version": "1.2.0",
      "_model_name": "LayoutModel",
      "_view_count": null,
      "_view_module": "@jupyter-widgets/base",
      "_view_module_version": "1.2.0",
      "_view_name": "LayoutView",
      "align_content": null,
      "align_items": null,
      "align_self": null,
      "border": null,
      "bottom": null,
      "display": null,
      "flex": null,
      "flex_flow": null,
      "grid_area": null,
      "grid_auto_columns": null,
      "grid_auto_flow": null,
      "grid_auto_rows": null,
      "grid_column": null,
      "grid_gap": null,
      "grid_row": null,
      "grid_template_areas": null,
      "grid_template_columns": null,
      "grid_template_rows": null,
      "height": null,
      "justify_content": null,
      "justify_items": null,
      "left": null,
      "margin": null,
      "max_height": null,
      "max_width": null,
      "min_height": null,
      "min_width": null,
      "object_fit": null,
      "object_position": null,
      "order": null,
      "overflow": null,
      "overflow_x": null,
      "overflow_y": null,
      "padding": null,
      "right": null,
      "top": null,
      "visibility": null,
      "width": null
     }
    },
    "5369f73e7d934a68a3478189b5a136b6": {
     "model_module": "@jupyter-widgets/controls",
     "model_name": "FloatProgressModel",
     "state": {
      "_dom_classes": [],
      "_model_module": "@jupyter-widgets/controls",
      "_model_module_version": "1.5.0",
      "_model_name": "FloatProgressModel",
      "_view_count": null,
      "_view_module": "@jupyter-widgets/controls",
      "_view_module_version": "1.5.0",
      "_view_name": "ProgressView",
      "bar_style": "",
      "description": " 14%",
      "description_tooltip": null,
      "layout": "IPY_MODEL_4dcd4b491d694b0aa25514b8486cf3f8",
      "max": 37408,
      "min": 0,
      "orientation": "horizontal",
      "style": "IPY_MODEL_44bf4a5432b34d269a82bce24d4e46b3",
      "value": 5274
     }
    },
    "5c20409065a347d18e1ab6bde4c5a0ba": {
     "model_module": "@jupyter-widgets/base",
     "model_name": "LayoutModel",
     "state": {
      "_model_module": "@jupyter-widgets/base",
      "_model_module_version": "1.2.0",
      "_model_name": "LayoutModel",
      "_view_count": null,
      "_view_module": "@jupyter-widgets/base",
      "_view_module_version": "1.2.0",
      "_view_name": "LayoutView",
      "align_content": null,
      "align_items": null,
      "align_self": null,
      "border": null,
      "bottom": null,
      "display": null,
      "flex": null,
      "flex_flow": null,
      "grid_area": null,
      "grid_auto_columns": null,
      "grid_auto_flow": null,
      "grid_auto_rows": null,
      "grid_column": null,
      "grid_gap": null,
      "grid_row": null,
      "grid_template_areas": null,
      "grid_template_columns": null,
      "grid_template_rows": null,
      "height": null,
      "justify_content": null,
      "justify_items": null,
      "left": null,
      "margin": null,
      "max_height": null,
      "max_width": null,
      "min_height": null,
      "min_width": null,
      "object_fit": null,
      "object_position": null,
      "order": null,
      "overflow": null,
      "overflow_x": null,
      "overflow_y": null,
      "padding": null,
      "right": null,
      "top": null,
      "visibility": null,
      "width": null
     }
    },
    "846b5c7701bc49e4be2a7681d5361dd8": {
     "model_module": "@jupyter-widgets/controls",
     "model_name": "HTMLModel",
     "state": {
      "_dom_classes": [],
      "_model_module": "@jupyter-widgets/controls",
      "_model_module_version": "1.5.0",
      "_model_name": "HTMLModel",
      "_view_count": null,
      "_view_module": "@jupyter-widgets/controls",
      "_view_module_version": "1.5.0",
      "_view_name": "HTMLView",
      "description": "",
      "description_tooltip": null,
      "layout": "IPY_MODEL_5c20409065a347d18e1ab6bde4c5a0ba",
      "placeholder": "​",
      "style": "IPY_MODEL_cee50571766e465b81cd2d06ac0a4d31",
      "value": " 200/200 [00:52&lt;00:00,  3.85it/s]"
     }
    },
    "94d411d6977f493894ec3c8b5975f693": {
     "model_module": "@jupyter-widgets/controls",
     "model_name": "FloatProgressModel",
     "state": {
      "_dom_classes": [],
      "_model_module": "@jupyter-widgets/controls",
      "_model_module_version": "1.5.0",
      "_model_name": "FloatProgressModel",
      "_view_count": null,
      "_view_module": "@jupyter-widgets/controls",
      "_view_module_version": "1.5.0",
      "_view_name": "ProgressView",
      "bar_style": "success",
      "description": "100%",
      "description_tooltip": null,
      "layout": "IPY_MODEL_b8ce72deb0c34c35a99b91bbc9b5504c",
      "max": 200,
      "min": 0,
      "orientation": "horizontal",
      "style": "IPY_MODEL_2e8643a34a7143e284ed8e94aaca32d7",
      "value": 200
     }
    },
    "b8ce72deb0c34c35a99b91bbc9b5504c": {
     "model_module": "@jupyter-widgets/base",
     "model_name": "LayoutModel",
     "state": {
      "_model_module": "@jupyter-widgets/base",
      "_model_module_version": "1.2.0",
      "_model_name": "LayoutModel",
      "_view_count": null,
      "_view_module": "@jupyter-widgets/base",
      "_view_module_version": "1.2.0",
      "_view_name": "LayoutView",
      "align_content": null,
      "align_items": null,
      "align_self": null,
      "border": null,
      "bottom": null,
      "display": null,
      "flex": null,
      "flex_flow": null,
      "grid_area": null,
      "grid_auto_columns": null,
      "grid_auto_flow": null,
      "grid_auto_rows": null,
      "grid_column": null,
      "grid_gap": null,
      "grid_row": null,
      "grid_template_areas": null,
      "grid_template_columns": null,
      "grid_template_rows": null,
      "height": null,
      "justify_content": null,
      "justify_items": null,
      "left": null,
      "margin": null,
      "max_height": null,
      "max_width": null,
      "min_height": null,
      "min_width": null,
      "object_fit": null,
      "object_position": null,
      "order": null,
      "overflow": null,
      "overflow_x": null,
      "overflow_y": null,
      "padding": null,
      "right": null,
      "top": null,
      "visibility": null,
      "width": null
     }
    },
    "b8ee6c0914474dab8186285123c3c25a": {
     "model_module": "@jupyter-widgets/controls",
     "model_name": "HBoxModel",
     "state": {
      "_dom_classes": [],
      "_model_module": "@jupyter-widgets/controls",
      "_model_module_version": "1.5.0",
      "_model_name": "HBoxModel",
      "_view_count": null,
      "_view_module": "@jupyter-widgets/controls",
      "_view_module_version": "1.5.0",
      "_view_name": "HBoxView",
      "box_style": "",
      "children": [
       "IPY_MODEL_94d411d6977f493894ec3c8b5975f693",
       "IPY_MODEL_846b5c7701bc49e4be2a7681d5361dd8"
      ],
      "layout": "IPY_MODEL_1029c3cb5c264802a7bd45639c1a7c20"
     }
    },
    "c3f9b287331c4447a3858c3fed906a66": {
     "model_module": "@jupyter-widgets/controls",
     "model_name": "HBoxModel",
     "state": {
      "_dom_classes": [],
      "_model_module": "@jupyter-widgets/controls",
      "_model_module_version": "1.5.0",
      "_model_name": "HBoxModel",
      "_view_count": null,
      "_view_module": "@jupyter-widgets/controls",
      "_view_module_version": "1.5.0",
      "_view_name": "HBoxView",
      "box_style": "",
      "children": [
       "IPY_MODEL_5369f73e7d934a68a3478189b5a136b6",
       "IPY_MODEL_f02ad7bad6f74da69de3557e8b7e3b92"
      ],
      "layout": "IPY_MODEL_dc810a1b5ae545a09ef4b77e92695a36"
     }
    },
    "cee50571766e465b81cd2d06ac0a4d31": {
     "model_module": "@jupyter-widgets/controls",
     "model_name": "DescriptionStyleModel",
     "state": {
      "_model_module": "@jupyter-widgets/controls",
      "_model_module_version": "1.5.0",
      "_model_name": "DescriptionStyleModel",
      "_view_count": null,
      "_view_module": "@jupyter-widgets/base",
      "_view_module_version": "1.2.0",
      "_view_name": "StyleView",
      "description_width": ""
     }
    },
    "dc810a1b5ae545a09ef4b77e92695a36": {
     "model_module": "@jupyter-widgets/base",
     "model_name": "LayoutModel",
     "state": {
      "_model_module": "@jupyter-widgets/base",
      "_model_module_version": "1.2.0",
      "_model_name": "LayoutModel",
      "_view_count": null,
      "_view_module": "@jupyter-widgets/base",
      "_view_module_version": "1.2.0",
      "_view_name": "LayoutView",
      "align_content": null,
      "align_items": null,
      "align_self": null,
      "border": null,
      "bottom": null,
      "display": null,
      "flex": null,
      "flex_flow": null,
      "grid_area": null,
      "grid_auto_columns": null,
      "grid_auto_flow": null,
      "grid_auto_rows": null,
      "grid_column": null,
      "grid_gap": null,
      "grid_row": null,
      "grid_template_areas": null,
      "grid_template_columns": null,
      "grid_template_rows": null,
      "height": null,
      "justify_content": null,
      "justify_items": null,
      "left": null,
      "margin": null,
      "max_height": null,
      "max_width": null,
      "min_height": null,
      "min_width": null,
      "object_fit": null,
      "object_position": null,
      "order": null,
      "overflow": null,
      "overflow_x": null,
      "overflow_y": null,
      "padding": null,
      "right": null,
      "top": null,
      "visibility": null,
      "width": null
     }
    },
    "eb223b5836d04aaea284e26e6a3a6a1a": {
     "model_module": "@jupyter-widgets/controls",
     "model_name": "DescriptionStyleModel",
     "state": {
      "_model_module": "@jupyter-widgets/controls",
      "_model_module_version": "1.5.0",
      "_model_name": "DescriptionStyleModel",
      "_view_count": null,
      "_view_module": "@jupyter-widgets/base",
      "_view_module_version": "1.2.0",
      "_view_name": "StyleView",
      "description_width": ""
     }
    },
    "f02ad7bad6f74da69de3557e8b7e3b92": {
     "model_module": "@jupyter-widgets/controls",
     "model_name": "HTMLModel",
     "state": {
      "_dom_classes": [],
      "_model_module": "@jupyter-widgets/controls",
      "_model_module_version": "1.5.0",
      "_model_name": "HTMLModel",
      "_view_count": null,
      "_view_module": "@jupyter-widgets/controls",
      "_view_module_version": "1.5.0",
      "_view_name": "HTMLView",
      "description": "",
      "description_tooltip": null,
      "layout": "IPY_MODEL_51dd1aa22f7d45ccbd3ba766bb232b57",
      "placeholder": "​",
      "style": "IPY_MODEL_eb223b5836d04aaea284e26e6a3a6a1a",
      "value": " 5274/37408 [06:38&lt;40:12, 13.32it/s]"
     }
    }
   }
  }
 },
 "nbformat": 4,
 "nbformat_minor": 4
}

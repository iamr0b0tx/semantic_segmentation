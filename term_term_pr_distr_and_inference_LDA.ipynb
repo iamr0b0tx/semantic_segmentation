{
 "cells": [
  {
   "cell_type": "markdown",
   "metadata": {
    "id": "1mW_XQex0lqn"
   },
   "source": [
    "#### autoreload modules and utilities"
   ]
  },
  {
   "cell_type": "code",
   "execution_count": 1,
   "metadata": {
    "id": "pvzSMjy60lqr"
   },
   "outputs": [],
   "source": [
    "%load_ext autoreload\n",
    "%autoreload 2"
   ]
  },
  {
   "cell_type": "markdown",
   "metadata": {
    "id": "57UHx9Rl0lq5"
   },
   "source": [
    "#### import all neceesary libraries/packages"
   ]
  },
  {
   "cell_type": "code",
   "execution_count": 2,
   "metadata": {
    "id": "vxe4EvZB0lq7"
   },
   "outputs": [],
   "source": [
    "from itertools import combinations\n",
    "\n",
    "import joblib\n",
    "\n",
    "import numpy as np \n",
    "import pandas as pd\n",
    "\n",
    "from tqdm.notebook import tqdm\n",
    "import matplotlib.pyplot as plt \n",
    "\n",
    "from scipy.stats import entropy as calculate_entropy\n",
    "\n",
    "from sklearn.datasets import fetch_20newsgroups\n",
    "from sklearn.model_selection import StratifiedShuffleSplit\n",
    "\n",
    "from sklearn.pipeline import Pipeline \n",
    "from sklearn.naive_bayes import MultinomialNB, GaussianNB, ComplementNB\n",
    "from sklearn.feature_extraction.text import CountVectorizer, TfidfTransformer\n",
    "\n",
    "from sklearn.decomposition import LatentDirichletAllocation\n",
    "from sklearn.metrics import classification_report, accuracy_score\n",
    "from sklearn.metrics import f1_score as calculate_f1_score\n",
    "from sklearn.model_selection import train_test_split, StratifiedKFold "
   ]
  },
  {
   "cell_type": "code",
   "execution_count": 3,
   "metadata": {},
   "outputs": [
    {
     "data": {
      "text/html": [
       "<div>\n",
       "<style scoped>\n",
       "    .dataframe tbody tr th:only-of-type {\n",
       "        vertical-align: middle;\n",
       "    }\n",
       "\n",
       "    .dataframe tbody tr th {\n",
       "        vertical-align: top;\n",
       "    }\n",
       "\n",
       "    .dataframe thead th {\n",
       "        text-align: right;\n",
       "    }\n",
       "</style>\n",
       "<table border=\"1\" class=\"dataframe\">\n",
       "  <thead>\n",
       "    <tr style=\"text-align: right;\">\n",
       "      <th></th>\n",
       "      <th>0</th>\n",
       "      <th>1</th>\n",
       "      <th>2</th>\n",
       "    </tr>\n",
       "  </thead>\n",
       "  <tbody>\n",
       "    <tr>\n",
       "      <th>0</th>\n",
       "      <td>1</td>\n",
       "      <td>2</td>\n",
       "      <td>6</td>\n",
       "    </tr>\n",
       "    <tr>\n",
       "      <th>1</th>\n",
       "      <td>3</td>\n",
       "      <td>4</td>\n",
       "      <td>7</td>\n",
       "    </tr>\n",
       "    <tr>\n",
       "      <th>2</th>\n",
       "      <td>9</td>\n",
       "      <td>3</td>\n",
       "      <td>2</td>\n",
       "    </tr>\n",
       "  </tbody>\n",
       "</table>\n",
       "</div>"
      ],
      "text/plain": [
       "   0  1  2\n",
       "0  1  2  6\n",
       "1  3  4  7\n",
       "2  9  3  2"
      ]
     },
     "execution_count": 3,
     "metadata": {},
     "output_type": "execute_result"
    }
   ],
   "source": [
    "df = pd.DataFrame([[1, 2, 6],[3, 4, 7], [9, 3, 2]])\n",
    "df"
   ]
  },
  {
   "cell_type": "code",
   "execution_count": 4,
   "metadata": {},
   "outputs": [],
   "source": [
    "def sum_weight(x, word_word_pr_distr_prime):\n",
    "    return word_word_pr_distr_prime.apply(lambda y: x*y, axis=0).sum(0)"
   ]
  },
  {
   "cell_type": "code",
   "execution_count": 5,
   "metadata": {},
   "outputs": [
    {
     "data": {
      "text/html": [
       "<div>\n",
       "<style scoped>\n",
       "    .dataframe tbody tr th:only-of-type {\n",
       "        vertical-align: middle;\n",
       "    }\n",
       "\n",
       "    .dataframe tbody tr th {\n",
       "        vertical-align: top;\n",
       "    }\n",
       "\n",
       "    .dataframe thead th {\n",
       "        text-align: right;\n",
       "    }\n",
       "</style>\n",
       "<table border=\"1\" class=\"dataframe\">\n",
       "  <thead>\n",
       "    <tr style=\"text-align: right;\">\n",
       "      <th></th>\n",
       "      <th>0</th>\n",
       "      <th>1</th>\n",
       "      <th>2</th>\n",
       "    </tr>\n",
       "  </thead>\n",
       "  <tbody>\n",
       "    <tr>\n",
       "      <th>0</th>\n",
       "      <td>1</td>\n",
       "      <td>2</td>\n",
       "      <td>6</td>\n",
       "    </tr>\n",
       "    <tr>\n",
       "      <th>1</th>\n",
       "      <td>3</td>\n",
       "      <td>4</td>\n",
       "      <td>7</td>\n",
       "    </tr>\n",
       "    <tr>\n",
       "      <th>2</th>\n",
       "      <td>9</td>\n",
       "      <td>3</td>\n",
       "      <td>2</td>\n",
       "    </tr>\n",
       "  </tbody>\n",
       "</table>\n",
       "</div>"
      ],
      "text/plain": [
       "   0  1  2\n",
       "0  1  2  6\n",
       "1  3  4  7\n",
       "2  9  3  2"
      ]
     },
     "execution_count": 5,
     "metadata": {},
     "output_type": "execute_result"
    }
   ],
   "source": [
    "df.fillna(0)"
   ]
  },
  {
   "cell_type": "code",
   "execution_count": 6,
   "metadata": {
    "scrolled": true
   },
   "outputs": [
    {
     "data": {
      "text/html": [
       "<div>\n",
       "<style scoped>\n",
       "    .dataframe tbody tr th:only-of-type {\n",
       "        vertical-align: middle;\n",
       "    }\n",
       "\n",
       "    .dataframe tbody tr th {\n",
       "        vertical-align: top;\n",
       "    }\n",
       "\n",
       "    .dataframe thead th {\n",
       "        text-align: right;\n",
       "    }\n",
       "</style>\n",
       "<table border=\"1\" class=\"dataframe\">\n",
       "  <thead>\n",
       "    <tr style=\"text-align: right;\">\n",
       "      <th></th>\n",
       "      <th>0</th>\n",
       "      <th>1</th>\n",
       "      <th>2</th>\n",
       "    </tr>\n",
       "  </thead>\n",
       "  <tbody>\n",
       "    <tr>\n",
       "      <th>0</th>\n",
       "      <td>61</td>\n",
       "      <td>28</td>\n",
       "      <td>32</td>\n",
       "    </tr>\n",
       "    <tr>\n",
       "      <th>1</th>\n",
       "      <td>78</td>\n",
       "      <td>43</td>\n",
       "      <td>60</td>\n",
       "    </tr>\n",
       "    <tr>\n",
       "      <th>2</th>\n",
       "      <td>36</td>\n",
       "      <td>36</td>\n",
       "      <td>79</td>\n",
       "    </tr>\n",
       "  </tbody>\n",
       "</table>\n",
       "</div>"
      ],
      "text/plain": [
       "    0   1   2\n",
       "0  61  28  32\n",
       "1  78  43  60\n",
       "2  36  36  79"
      ]
     },
     "execution_count": 6,
     "metadata": {},
     "output_type": "execute_result"
    }
   ],
   "source": [
    "df.apply(sum_weight, axis=1, args=(df,))"
   ]
  },
  {
   "cell_type": "markdown",
   "metadata": {
    "id": "OFluJVQs0lrF"
   },
   "source": [
    "#### Utility functions"
   ]
  },
  {
   "cell_type": "code",
   "execution_count": 32,
   "metadata": {
    "colab": {
     "base_uri": "https://localhost:8080/"
    },
    "id": "dB1v8YR30lrH",
    "outputId": "a464c3d0-f916-4752-9179-1a2bac9e2c4b"
   },
   "outputs": [
    {
     "name": "stderr",
     "output_type": "stream",
     "text": [
      "[nltk_data] Downloading package stopwords to\n",
      "[nltk_data]     C:\\Users\\christian\\AppData\\Roaming\\nltk_data...\n",
      "[nltk_data]   Package stopwords is already up-to-date!\n",
      "[nltk_data] Downloading package wordnet to\n",
      "[nltk_data]     C:\\Users\\christian\\AppData\\Roaming\\nltk_data...\n",
      "[nltk_data]   Package wordnet is already up-to-date!\n"
     ]
    }
   ],
   "source": [
    "## utilities\n",
    "# from utils import clean_text\n",
    "import re\n",
    "import string\n",
    "\n",
    "from sklearn.base import TransformerMixin\n",
    "\n",
    "import nltk\n",
    "from nltk import word_tokenize\n",
    "from nltk.stem import WordNetLemmatizer\n",
    "\n",
    "\n",
    "nltk.download('stopwords')\n",
    "nltk.download('wordnet')\n",
    "\n",
    "def get_lemmatizer():\n",
    "    return WordNetLemmatizer()\n",
    "\n",
    "def clean_text(text: str, lemmatizer = None) -> str:\n",
    "    # removes upper cases\n",
    "    text = text.lower().strip()\n",
    "    \n",
    "    # removes punctuation\n",
    "    for char in string.punctuation:\n",
    "        text = text.replace(char, \" \")\n",
    "    \n",
    "    if lemmatizer is None:\n",
    "        lemmatizer = lambda x: x\n",
    "        \n",
    "    #lematize the words and join back into string text\n",
    "    text = \" \".join([lemmatizer(word) for word in word_tokenize(text) if len(word) >= 2])\n",
    "        \n",
    "    return text\n",
    "\n",
    "def calculate_sparsity(matrix):\n",
    "    non_zero = np.count_nonzero(matrix)\n",
    "    total_val = np.product(matrix.shape)\n",
    "    sparsity = (total_val - non_zero) / total_val\n",
    "    return sparsity\n",
    "\n",
    "def data_isvalid(text, analyser, min_character_size, max_character_size):\n",
    "    return min_character_size <= len(analyser(text)) <= max_character_size \n",
    "\n",
    "def get_pipeline(count_vectorizer, classifier, lemmatizer, t2pi_transformer, tfidf_transformer):\n",
    "    models = [\n",
    "        ('clean_text', CleanTextTransformer(lemmatizer)),\n",
    "        ('vectorizer', count_vectorizer)\n",
    "    ]\n",
    "    \n",
    "    if tfidf_transformer is not None:\n",
    "        models.append(('tfidf_transformer', tfidf_transformer))\n",
    "        \n",
    "    models.append(\n",
    "        ('dense', DenseTransformer(count_vectorizer=count_vectorizer))\n",
    "    )\n",
    "    \n",
    "    if t2pi_transformer is not None:\n",
    "        models.append(('t2pi_transformer', t2pi_transformer))\n",
    "    \n",
    "    models.append(('classifier', classifier))\n",
    "    return Pipeline(models)\n",
    "\n",
    "def get_top_words(model, vectorizer, n_top_words):\n",
    "    top_words = []\n",
    "    feature_names = vectorizer.get_feature_names()\n",
    "    for topic_idx, topic in enumerate(model.components_):\n",
    "        top_words.append([feature_names[i] for i in topic.argsort()[:-n_top_words - 1:-1]])\n",
    "    return top_words\n",
    "    \n",
    "def print_top_words(model, vectorizer, n_top_words):\n",
    "    feature_names = vectorizer.get_feature_names()\n",
    "    for topic_idx, topic in enumerate(model.components_):\n",
    "        message = \"Topic #%d: \" % topic_idx\n",
    "        message += \" \".join([feature_names[i] for i in topic.argsort()[:-n_top_words - 1:-1]])\n",
    "        print(message)\n",
    "    print()\n",
    "    \n",
    "def get_model(classifier, tfidf=False, use_t2pi=False, lemmatizer=None, stop_words=\"english\", vocabulary=None):\n",
    "    count_vectorizer = CountVectorizer(stop_words=stop_words, binary=False, vocabulary=vocabulary)\n",
    "    tfidf_transformer = TfidfTransformer() if tfidf else None\n",
    "    t2pi_transformer = T2PITransformer() if use_t2pi else None\n",
    "\n",
    "    # normal model\n",
    "    return get_pipeline(count_vectorizer, classifier, lemmatizer, t2pi_transformer, tfidf_transformer)\n",
    "\n",
    "def calculate_coherence( w2v_model, term_rankings ):\n",
    "    overall_coherence = 0.0\n",
    "    for topic_index in range(len(term_rankings)):\n",
    "        # check each pair of terms\n",
    "        pair_scores = []\n",
    "        for pair in combinations( term_rankings[topic_index], 2 ):\n",
    "            pair_scores.append( w2v_model.wv.similarity(pair[0], pair[1]) )\n",
    "        # get the mean for all pairs in this topic\n",
    "        topic_score = sum(pair_scores) / len(pair_scores)\n",
    "        overall_coherence += topic_score\n",
    "    # get the mean score across all topics\n",
    "    return overall_coherence / len(term_rankings)\n",
    "\n",
    "class TokenGenerator:\n",
    "    def __init__( self, documents, stopwords ):\n",
    "        self.documents = documents\n",
    "        self.stopwords = stopwords\n",
    "        self.tokenizer = re.compile( r\"(?u)\\b\\w\\w+\\b\" )\n",
    "\n",
    "    def __iter__( self ):\n",
    "        print(\"Building Word2Vec model ...\")\n",
    "        for doc in self.documents:\n",
    "            tokens = []\n",
    "            for tok in self.tokenizer.findall( clean_text(doc) ):\n",
    "#             for tok in word_tokenize( doc ):\n",
    "                if tok in self.stopwords:\n",
    "                    tokens.append( \"<stopword>\" )\n",
    "                    \n",
    "                elif len(tok) >= 2:\n",
    "                    tokens.append( tok )\n",
    "            yield tokens\n",
    "            \n",
    "class CleanTextTransformer(TransformerMixin):\n",
    "    def __init__(self, lemmatizer):\n",
    "        self._lemmatizer = lemmatizer\n",
    "        \n",
    "    def fit(self, X, y=None, **fit_params):\n",
    "        return self\n",
    "\n",
    "    def transform(self, X, y=None, **fit_params):\n",
    "        return np.vectorize(lambda x: clean_text(x, self._lemmatizer))(X)\n",
    "    \n",
    "    def __str__(self):\n",
    "        return \"CleanTextTransformer()\"\n",
    "    \n",
    "    def __repr__(self):\n",
    "        return self.__str__()\n",
    "    \n",
    "class DenseTransformer(TransformerMixin):\n",
    "    def __init__(self, count_vectorizer):\n",
    "        self.count_vectorizer = count_vectorizer\n",
    "        \n",
    "    def fit(self, X, y=None, **fit_params):\n",
    "        return self\n",
    "\n",
    "    def transform(self, X, y=None, **fit_params):\n",
    "        return pd.DataFrame(data=X.todense(), columns=self.count_vectorizer.get_feature_names())\n",
    "    \n",
    "    def __str__(self):\n",
    "        return \"DenseTransformer()\"\n",
    "    \n",
    "    def __repr__(self):\n",
    "        return self.__str__()\n",
    "    \n",
    "class T2PITransformer(TransformerMixin):\n",
    "    @staticmethod\n",
    "    def _max_weight(x, pbar, word_word_pr_distr_prime):\n",
    "        pbar.update(1)\n",
    "        return word_word_pr_distr_prime.apply(lambda y: x*y, axis=0).max(0)\n",
    "    \n",
    "    @staticmethod\n",
    "    def _sum_weight(x, pbar, word_word_pr_distr_prime):\n",
    "        pbar.update(1)\n",
    "        return word_word_pr_distr_prime.apply(lambda y: x*y, axis=0).sum(0)\n",
    "    \n",
    "    @staticmethod\n",
    "    def _weighted_mean_weight(x, pbar, word_word_pr_distr_prime):\n",
    "        pbar.update(1)\n",
    "        xt = word_word_pr_distr_prime.apply(lambda y: x*y, axis=0)\n",
    "        return (xt * (xt / xt.sum(0))).sum(0)\n",
    "        \n",
    "    def fit(self, X, y=None, **fit_params):\n",
    "        print(\"creating term-term co-occurence pr matrix\")\n",
    "        self.word_word_pr_distr = pd.DataFrame(data=0.0, columns=X.columns, index=X.columns)\n",
    "        \n",
    "        for term in tqdm(X.columns):\n",
    "            self.word_word_pr_distr[term] = X[X[term] > 0].sum(0) / X[term].sum()\n",
    "#             self.word_word_pr_distr[term] = X[X[term] > 0].sum(0) / X.sum(0)\n",
    "        \n",
    "        self.word_word_pr_distr.fillna(0, inplace=True)\n",
    "        return self\n",
    "\n",
    "    def transform(self, X, y=None, **fit_params):\n",
    "        print(\"transforming ...\")\n",
    "        \n",
    "        # new_sparsity after transform\n",
    "        sparsity_before = calculate_sparsity(X)\n",
    "        \n",
    "        # populate\n",
    "        with tqdm(total=X.shape[0]) as pbar:\n",
    "            X = X.apply(self._sum_weight, axis=1, args=(pbar, self.word_word_pr_distr))\n",
    "        \n",
    "        # new_sparsity after transform\n",
    "        sparsity_after = calculate_sparsity(X)\n",
    "        \n",
    "        print(\"sparsity(X):\")\n",
    "        print(f\"=> before {sparsity_before:.4f}\")\n",
    "        print(f\"=>  after {sparsity_after:.4f}\")\n",
    "        print()\n",
    "        \n",
    "        return X\n",
    "    \n",
    "    def __str__(self):\n",
    "        return \"T2PITransformer()\"\n",
    "    \n",
    "    def __repr__(self):\n",
    "        return self.__str__()"
   ]
  },
  {
   "cell_type": "markdown",
   "metadata": {},
   "source": [
    "## CONSTANTS"
   ]
  },
  {
   "cell_type": "code",
   "execution_count": 33,
   "metadata": {},
   "outputs": [],
   "source": [
    "N_TOP_WORDS = 10"
   ]
  },
  {
   "cell_type": "markdown",
   "metadata": {
    "id": "o7XG67xP0lrR"
   },
   "source": [
    "# Load Data"
   ]
  },
  {
   "cell_type": "code",
   "execution_count": 34,
   "metadata": {},
   "outputs": [
    {
     "name": "stdout",
     "output_type": "stream",
     "text": [
      "Stopword list has 350 entries\n"
     ]
    }
   ],
   "source": [
    "custom_stop_words = []\n",
    "with open( \"stopwords.txt\", \"r\" ) as fin:\n",
    "    for line in fin.readlines():\n",
    "        custom_stop_words.append( line.strip().lower() )\n",
    "# note that we need to make it hashable\n",
    "print(\"Stopword list has %d entries\" % len(custom_stop_words) )"
   ]
  },
  {
   "cell_type": "code",
   "execution_count": 35,
   "metadata": {
    "colab": {
     "base_uri": "https://localhost:8080/"
    },
    "id": "QchLUSP50lrU",
    "outputId": "df541392-05bf-4e19-c453-ee8785b4ff07"
   },
   "outputs": [],
   "source": [
    "# total number of samples needed\n",
    "randomize = False\n",
    "\n",
    "# retrieve dataset\n",
    "categories = ['rec.autos', 'talk.politics.mideast', 'alt.atheism', 'sci.space']\n",
    "\n",
    "all_docs = fetch_20newsgroups(subset='train', shuffle=randomize, remove=('headers', 'footers', 'quotes'), categories=categories)\n",
    "categories = all_docs.target_names"
   ]
  },
  {
   "cell_type": "code",
   "execution_count": 36,
   "metadata": {
    "colab": {
     "base_uri": "https://localhost:8080/"
    },
    "id": "3zYt2cf_0lre",
    "outputId": "34b88acf-7882-45f0-edab-80dd9dfefe0e",
    "scrolled": true
   },
   "outputs": [
    {
     "name": "stdout",
     "output_type": "stream",
     "text": [
      "\n",
      "\n",
      "I think that domestication will change behavior to a large degree.\n",
      "Domesticated animals exhibit behaviors not found in the wild.  I\n",
      "don't think that they can be viewed as good representatives of the\n",
      "wild animal kingdom, since they have been bred for thousands of years\n",
      "to produce certain behaviors, etc.\n"
     ]
    }
   ],
   "source": [
    "print(all_docs.data[0])"
   ]
  },
  {
   "cell_type": "markdown",
   "metadata": {
    "id": "j8mr5IG60lrq"
   },
   "source": [
    "### Create Dataframe"
   ]
  },
  {
   "cell_type": "code",
   "execution_count": 37,
   "metadata": {
    "colab": {
     "base_uri": "https://localhost:8080/"
    },
    "id": "hf7uQyxi0lrr",
    "outputId": "d02f03ea-6d94-4e92-feba-1795bb8073f9"
   },
   "outputs": [
    {
     "data": {
      "text/html": [
       "<div>\n",
       "<style scoped>\n",
       "    .dataframe tbody tr th:only-of-type {\n",
       "        vertical-align: middle;\n",
       "    }\n",
       "\n",
       "    .dataframe tbody tr th {\n",
       "        vertical-align: top;\n",
       "    }\n",
       "\n",
       "    .dataframe thead th {\n",
       "        text-align: right;\n",
       "    }\n",
       "</style>\n",
       "<table border=\"1\" class=\"dataframe\">\n",
       "  <thead>\n",
       "    <tr style=\"text-align: right;\">\n",
       "      <th></th>\n",
       "      <th>text</th>\n",
       "      <th>label</th>\n",
       "    </tr>\n",
       "  </thead>\n",
       "  <tbody>\n",
       "    <tr>\n",
       "      <th>0</th>\n",
       "      <td>\\n\\nI think that domestication will change beh...</td>\n",
       "      <td>0</td>\n",
       "    </tr>\n",
       "    <tr>\n",
       "      <th>1</th>\n",
       "      <td>\\nI don't like this comment about \"Typical\" th...</td>\n",
       "      <td>3</td>\n",
       "    </tr>\n",
       "    <tr>\n",
       "      <th>2</th>\n",
       "      <td>\\n&lt;apparently you're not a woman - my husband ...</td>\n",
       "      <td>1</td>\n",
       "    </tr>\n",
       "    <tr>\n",
       "      <th>3</th>\n",
       "      <td>While not exactly a service incident, I had a ...</td>\n",
       "      <td>1</td>\n",
       "    </tr>\n",
       "    <tr>\n",
       "      <th>4</th>\n",
       "      <td>\\n\\nI think I can. Largely as a result of effo...</td>\n",
       "      <td>2</td>\n",
       "    </tr>\n",
       "  </tbody>\n",
       "</table>\n",
       "</div>"
      ],
      "text/plain": [
       "                                                text  label\n",
       "0  \\n\\nI think that domestication will change beh...      0\n",
       "1  \\nI don't like this comment about \"Typical\" th...      3\n",
       "2  \\n<apparently you're not a woman - my husband ...      1\n",
       "3  While not exactly a service incident, I had a ...      1\n",
       "4  \\n\\nI think I can. Largely as a result of effo...      2"
      ]
     },
     "execution_count": 37,
     "metadata": {},
     "output_type": "execute_result"
    }
   ],
   "source": [
    "data = pd.DataFrame(\n",
    "    data={\n",
    "        \"text\":all_docs.data, \n",
    "        \"label\":all_docs.target\n",
    "    }\n",
    ")\n",
    "\n",
    "data.head()"
   ]
  },
  {
   "cell_type": "markdown",
   "metadata": {
    "id": "1y9aLPrC0lr4"
   },
   "source": [
    "### Label Frequency"
   ]
  },
  {
   "cell_type": "code",
   "execution_count": 38,
   "metadata": {
    "colab": {
     "base_uri": "https://localhost:8080/"
    },
    "id": "lsJjsIi20lr6",
    "outputId": "aa9e2961-78a4-4c23-b1af-6314bddbb1dc"
   },
   "outputs": [
    {
     "name": "stdout",
     "output_type": "stream",
     "text": [
      "1    594\n",
      "2    593\n",
      "3    564\n",
      "0    480\n",
      "Name: label, dtype: int64\n",
      "\n"
     ]
    },
    {
     "data": {
      "image/png": "[encoded data removed]",
      "text/plain": [
       "<Figure size 432x288 with 1 Axes>"
      ]
     },
     "metadata": {
      "needs_background": "light"
     },
     "output_type": "display_data"
    }
   ],
   "source": [
    "print(data[\"label\"].value_counts())\n",
    "print()\n",
    "\n",
    "barlist = plt.bar(categories, data[\"label\"].value_counts())\n",
    "\n",
    "plt.title(\"Frequency of documents\")\n",
    "plt.xticks(categories, list(map(lambda x: x.split(\".\")[1], categories)))\n",
    "plt.ylabel('Number of documents')\n",
    "plt.xlabel('Sentiment expressed in Reviews')\n",
    "\n",
    "barlist[0].set_color('red')\n",
    "barlist[1].set_color('green')\n",
    "barlist[2].set_color('blue')\n",
    "barlist[3].set_color('grey')\n",
    "plt.show()"
   ]
  },
  {
   "cell_type": "markdown",
   "metadata": {
    "id": "Z3rWhz2Q0lsD"
   },
   "source": [
    "The Dataset labels needs to be balanced"
   ]
  },
  {
   "cell_type": "markdown",
   "metadata": {
    "id": "zgT_qPvT0lsF"
   },
   "source": [
    "# Select Valid Data"
   ]
  },
  {
   "cell_type": "code",
   "execution_count": 39,
   "metadata": {
    "colab": {
     "base_uri": "https://localhost:8080/"
    },
    "id": "GxoJgJTq0lsH",
    "outputId": "90b722d1-18e1-443a-dd02-ea8dde6f8743",
    "scrolled": false
   },
   "outputs": [
    {
     "data": {
      "text/html": [
       "<div>\n",
       "<style scoped>\n",
       "    .dataframe tbody tr th:only-of-type {\n",
       "        vertical-align: middle;\n",
       "    }\n",
       "\n",
       "    .dataframe tbody tr th {\n",
       "        vertical-align: top;\n",
       "    }\n",
       "\n",
       "    .dataframe thead th {\n",
       "        text-align: right;\n",
       "    }\n",
       "</style>\n",
       "<table border=\"1\" class=\"dataframe\">\n",
       "  <thead>\n",
       "    <tr style=\"text-align: right;\">\n",
       "      <th></th>\n",
       "      <th>text</th>\n",
       "      <th>label</th>\n",
       "    </tr>\n",
       "  </thead>\n",
       "  <tbody>\n",
       "    <tr>\n",
       "      <th>0</th>\n",
       "      <td>\\n\\nI think that domestication will change beh...</td>\n",
       "      <td>0</td>\n",
       "    </tr>\n",
       "    <tr>\n",
       "      <th>30</th>\n",
       "      <td>\\n[rest deleted...]\\n\\nYou were a liberal arts...</td>\n",
       "      <td>0</td>\n",
       "    </tr>\n",
       "    <tr>\n",
       "      <th>36</th>\n",
       "      <td>\\nWorse?  Maybe not, but it is definately a vi...</td>\n",
       "      <td>0</td>\n",
       "    </tr>\n",
       "    <tr>\n",
       "      <th>63</th>\n",
       "      <td>\\nCould you expand on your definition of knowi...</td>\n",
       "      <td>0</td>\n",
       "    </tr>\n",
       "    <tr>\n",
       "      <th>65</th>\n",
       "      <td>\\nLooking at historical evidence such 'perfect...</td>\n",
       "      <td>0</td>\n",
       "    </tr>\n",
       "  </tbody>\n",
       "</table>\n",
       "</div>"
      ],
      "text/plain": [
       "                                                 text  label\n",
       "0   \\n\\nI think that domestication will change beh...      0\n",
       "30  \\n[rest deleted...]\\n\\nYou were a liberal arts...      0\n",
       "36  \\nWorse?  Maybe not, but it is definately a vi...      0\n",
       "63  \\nCould you expand on your definition of knowi...      0\n",
       "65  \\nLooking at historical evidence such 'perfect...      0"
      ]
     },
     "execution_count": 39,
     "metadata": {},
     "output_type": "execute_result"
    }
   ],
   "source": [
    "max_size_per_class = 100\n",
    "\n",
    "# remove long text\n",
    "indices = data[\"text\"].apply(data_isvalid, args=(lambda x: clean_text(x, get_lemmatizer().lemmatize), 256, 512))\n",
    "data = data[indices]\n",
    "\n",
    "# make classes balanced\n",
    "class_indices = []\n",
    "\n",
    "for index in range(4):\n",
    "    class_indices.append(np.where((data[\"label\"] == index))[0])\n",
    "    \n",
    "size_per_class = min(max_size_per_class, min(map(len, class_indices)))\n",
    "indices = np.concatenate([class_ids[:size_per_class] for class_ids in class_indices])\n",
    "\n",
    "data = data.iloc[indices]\n",
    "\n",
    "data.head()"
   ]
  },
  {
   "cell_type": "code",
   "execution_count": 40,
   "metadata": {
    "colab": {
     "base_uri": "https://localhost:8080/"
    },
    "id": "EmPNliV60lsQ",
    "outputId": "66df7f82-bc81-474a-ce90-14be5257dcfe"
   },
   "outputs": [
    {
     "name": "stdout",
     "output_type": "stream",
     "text": [
      "\n",
      "\n",
      "I think that domestication will change behavior to a large degree.\n",
      "Domesticated animals exhibit behaviors not found in the wild.  I\n",
      "don't think that they can be viewed as good representatives of the\n",
      "wild animal kingdom, since they have been bred for thousands of years\n",
      "to produce certain behaviors, etc.\n"
     ]
    }
   ],
   "source": [
    "print(data.iloc[0][\"text\"])"
   ]
  },
  {
   "cell_type": "code",
   "execution_count": 41,
   "metadata": {
    "colab": {
     "base_uri": "https://localhost:8080/"
    },
    "id": "a05palir0lsZ",
    "outputId": "ab28dce8-66ee-4307-fc1b-7032668016ca"
   },
   "outputs": [
    {
     "name": "stdout",
     "output_type": "stream",
     "text": [
      "3    97\n",
      "2    97\n",
      "1    97\n",
      "0    97\n",
      "Name: label, dtype: int64\n",
      "\n"
     ]
    },
    {
     "data": {
      "image/png": "[encoded data removed]",
      "text/plain": [
       "<Figure size 432x288 with 1 Axes>"
      ]
     },
     "metadata": {
      "needs_background": "light"
     },
     "output_type": "display_data"
    }
   ],
   "source": [
    "print(data[\"label\"].value_counts())\n",
    "print()\n",
    "\n",
    "barlist = plt.bar(categories, data[\"label\"].value_counts())\n",
    "\n",
    "plt.title(\"Frequency of documents\")\n",
    "plt.xticks(categories, list(map(lambda x: x.split(\".\")[1], categories)))\n",
    "plt.ylabel('Number of documents')\n",
    "plt.xlabel('Sentiment expressed in Reviews')\n",
    "\n",
    "barlist[0].set_color('red')\n",
    "barlist[1].set_color('green')\n",
    "barlist[2].set_color('blue')\n",
    "barlist[3].set_color('grey')\n",
    "plt.show()"
   ]
  },
  {
   "cell_type": "markdown",
   "metadata": {
    "id": "4XkH4IGt0lsk"
   },
   "source": [
    "### initialize input and output"
   ]
  },
  {
   "cell_type": "code",
   "execution_count": 42,
   "metadata": {
    "id": "dEMn9hD40lsl"
   },
   "outputs": [],
   "source": [
    "X = data[\"text\"]\n",
    "y = data['label']\n",
    "\n",
    "X_train, X_test, y_train, y_test = train_test_split(X, y, test_size=0.25, random_state=42)"
   ]
  },
  {
   "cell_type": "markdown",
   "metadata": {},
   "source": [
    "### Create Word2Vec Model"
   ]
  },
  {
   "cell_type": "code",
   "execution_count": 43,
   "metadata": {
    "scrolled": true
   },
   "outputs": [
    {
     "name": "stdout",
     "output_type": "stream",
     "text": [
      "Building Word2Vec model ...\n",
      "Building Word2Vec model ...\n",
      "Building Word2Vec model ...\n",
      "Building Word2Vec model ...\n",
      "Building Word2Vec model ...\n",
      "Building Word2Vec model ...\n"
     ]
    }
   ],
   "source": [
    "import gensim\n",
    "\n",
    "docgen = TokenGenerator( X, custom_stop_words )\n",
    "\n",
    "# the model has 500 dimensions, the minimum document-term frequency is 20\n",
    "w2v_model = gensim.models.Word2Vec(docgen, size=500, min_count=2, sg=1)"
   ]
  },
  {
   "cell_type": "code",
   "execution_count": 44,
   "metadata": {},
   "outputs": [
    {
     "name": "stdout",
     "output_type": "stream",
     "text": [
      "Model has 2088 terms\n"
     ]
    }
   ],
   "source": [
    "vocabulary = dict(zip(w2v_model.wv.vocab.keys(), np.arange(len(w2v_model.wv.vocab))))\n",
    "print( \"Model has %d terms\" % len(w2v_model.wv.vocab) )"
   ]
  },
  {
   "cell_type": "code",
   "execution_count": 45,
   "metadata": {},
   "outputs": [],
   "source": [
    "w2v_model.save(\"w2v-model.bin\")"
   ]
  },
  {
   "cell_type": "code",
   "execution_count": 46,
   "metadata": {},
   "outputs": [],
   "source": [
    "# To re-load this model, run\n",
    "#w2v_model = gensim.models.Word2Vec.load(\"w2v-model.bin\")"
   ]
  },
  {
   "cell_type": "markdown",
   "metadata": {
    "id": "NM1HNxZN0lsu"
   },
   "source": [
    "### initialize recursive word infer model"
   ]
  },
  {
   "cell_type": "code",
   "execution_count": 47,
   "metadata": {},
   "outputs": [],
   "source": [
    "def get_classifier():\n",
    "    return LatentDirichletAllocation(n_components=4, random_state=0)"
   ]
  },
  {
   "cell_type": "code",
   "execution_count": 48,
   "metadata": {
    "id": "aahIO3Vu0lsv"
   },
   "outputs": [
    {
     "name": "stdout",
     "output_type": "stream",
     "text": [
      "creating term-term co-occurence pr matrix\n"
     ]
    },
    {
     "data": {
      "application/vnd.jupyter.widget-view+json": {
       "model_id": "deddda7c18394072822dfbd88eaa8ebd",
       "version_major": 2,
       "version_minor": 0
      },
      "text/plain": [
       "HBox(children=(HTML(value=''), FloatProgress(value=0.0, max=2088.0), HTML(value='')))"
      ]
     },
     "metadata": {},
     "output_type": "display_data"
    },
    {
     "name": "stdout",
     "output_type": "stream",
     "text": [
      "\n",
      "transforming ...\n"
     ]
    },
    {
     "data": {
      "application/vnd.jupyter.widget-view+json": {
       "model_id": "823052bd0be04efab6e5e9261ca9b46f",
       "version_major": 2,
       "version_minor": 0
      },
      "text/plain": [
       "HBox(children=(HTML(value=''), FloatProgress(value=0.0, max=291.0), HTML(value='')))"
      ]
     },
     "metadata": {},
     "output_type": "display_data"
    },
    {
     "name": "stdout",
     "output_type": "stream",
     "text": [
      "\n",
      "sparsity(X):\n",
      "=> before 0.9900\n",
      "=>  after 0.4450\n",
      "\n"
     ]
    },
    {
     "data": {
      "text/plain": [
       "Pipeline(steps=[('clean_text', CleanTextTransformer()),\n",
       "                ('vectorizer',\n",
       "                 CountVectorizer(stop_words=['a', 'about', 'above', 'according',\n",
       "                                             'across', 'actually', 'adj',\n",
       "                                             'after', 'afterwards', 'again',\n",
       "                                             'all', 'almost', 'along',\n",
       "                                             'already', 'also', 'although',\n",
       "                                             'always', 'am', 'among', 'amongst',\n",
       "                                             'an', 'and', 'another', 'any',\n",
       "                                             'anyhow', 'anyone', 'anything',\n",
       "                                             'anywhere', 'are', 'aren', ...]...\n",
       "                                             '18': 1967, '1915': 2060,\n",
       "                                             '1920': 1398, '1941': 1338,\n",
       "                                             '1948': 1976, '1967': 1937,\n",
       "                                             '1968': 1869, '1973': 1508,\n",
       "                                             '1982': 1192, '1983': 1176,\n",
       "                                             '1984': 1182, '1988': 291,\n",
       "                                             '1989': 269, '1990': 830,\n",
       "                                             '1991': 1546, '1993': 803,\n",
       "                                             '1997': 410, '1g': 1637, ...})),\n",
       "                ('dense', DenseTransformer()),\n",
       "                ('t2pi_transformer', T2PITransformer()),\n",
       "                ('classifier',\n",
       "                 LatentDirichletAllocation(n_components=4, random_state=0))])"
      ]
     },
     "execution_count": 48,
     "metadata": {},
     "output_type": "execute_result"
    }
   ],
   "source": [
    "# initialize model\n",
    "t2pi_model = get_model(use_t2pi=True, stop_words=custom_stop_words, vocabulary=vocabulary, classifier=get_classifier())\n",
    "\n",
    "# fit model\n",
    "t2pi_model.fit(X_train, y_train)"
   ]
  },
  {
   "cell_type": "code",
   "execution_count": null,
   "metadata": {
    "scrolled": true
   },
   "outputs": [
    {
     "name": "stdout",
     "output_type": "stream",
     "text": [
      "transforming ...\n"
     ]
    },
    {
     "data": {
      "application/vnd.jupyter.widget-view+json": {
       "model_id": "e9174537a531445fa5006dac044c864b",
       "version_major": 2,
       "version_minor": 0
      },
      "text/plain": [
       "HBox(children=(HTML(value=''), FloatProgress(value=0.0, max=291.0), HTML(value='')))"
      ]
     },
     "metadata": {},
     "output_type": "display_data"
    }
   ],
   "source": [
    "t2pi_model.score(X_train, y_train)"
   ]
  },
  {
   "cell_type": "code",
   "execution_count": null,
   "metadata": {},
   "outputs": [],
   "source": [
    "k = t2pi_model[\"classifier\"].components_.shape[0]\n",
    "perplexity = t2pi_model[\"classifier\"].bound_\n",
    "coherence = calculate_coherence(w2v_model, get_top_words(t2pi_model[\"classifier\"], t2pi_model[\"vectorizer\"], N_TOP_WORDS))\n",
    "\n",
    "print(\"P=%02d: Perplexity=%.4f\" % (k, perplexity))\n",
    "print(\"K=%02d: Coherence=%.4f\" % (k, coherence))"
   ]
  },
  {
   "cell_type": "code",
   "execution_count": null,
   "metadata": {
    "id": "gRkaXwu10ltd",
    "scrolled": true
   },
   "outputs": [],
   "source": [
    "print(\"\\nTopics in LDA model:\")\n",
    "print_top_words(t2pi_model[\"classifier\"], t2pi_model[\"vectorizer\"], N_TOP_WORDS)"
   ]
  },
  {
   "cell_type": "markdown",
   "metadata": {
    "id": "9_7bBVlY0ltn"
   },
   "source": [
    "### Initialize models"
   ]
  },
  {
   "cell_type": "code",
   "execution_count": null,
   "metadata": {
    "id": "2lYsESOf0lto"
   },
   "outputs": [],
   "source": [
    "# normal model\n",
    "count_model = get_model(stop_words=None, vocabulary=vocabulary, classifier=get_classifier())\n",
    "count_sw_model = get_model(stop_words=custom_stop_words, vocabulary=vocabulary, classifier=get_classifier())\n",
    "\n",
    "tfidf_model = get_model(tfidf=True, stop_words=None, vocabulary=vocabulary, classifier=get_classifier())\n",
    "tfidf_sw_model = get_model(tfidf=True, stop_words=custom_stop_words, vocabulary=vocabulary, classifier=get_classifier())\n",
    "\n",
    "# model\n",
    "t2pi_count_model = get_model(use_t2pi=True, stop_words=None, vocabulary=vocabulary, classifier=get_classifier())\n",
    "t2pi_count_sw_model = get_model(use_t2pi=True, stop_words=custom_stop_words, vocabulary=vocabulary, classifier=get_classifier())\n",
    "\n",
    "t2pi_tfidf_model = get_model(tfidf=True, use_t2pi=True, stop_words=None, vocabulary=vocabulary, classifier=get_classifier())\n",
    "t2pi_tfidf_sw_model = get_model(tfidf=True, use_t2pi=True, stop_words=custom_stop_words, vocabulary=vocabulary, classifier=get_classifier())\n",
    "\n",
    "models = {\n",
    "    \"count_model\": count_model, \n",
    "    \"count_sw_model\": count_model, \n",
    "    \"tfidf_model\": tfidf_model,\n",
    "    \"tfidf_sw_model\": tfidf_sw_model, \n",
    "    \"t2pi_count_model\": t2pi_count_model,\n",
    "    \"t2pi_count_sw_model\": t2pi_count_sw_model, \n",
    "    \"t2pi_tfidf_model\": t2pi_tfidf_model, \n",
    "    \"t2pi_tfidf_sw_model\": t2pi_tfidf_sw_model\n",
    "}"
   ]
  },
  {
   "cell_type": "markdown",
   "metadata": {
    "id": "Ky4t7czB0lts"
   },
   "source": [
    "### Running Cross validation on all Models"
   ]
  },
  {
   "cell_type": "code",
   "execution_count": null,
   "metadata": {
    "colab": {
     "base_uri": "https://localhost:8080/"
    },
    "id": "MaHl8bxm0ltt",
    "outputId": "5873b870-0f7a-455a-a0b0-be95c7a45f52"
   },
   "outputs": [],
   "source": [
    "split_size = 3\n",
    "skf = StratifiedKFold(n_splits=split_size, shuffle=True, random_state=100) \n",
    "\n",
    "index = 0\n",
    "perplexities, coherences = [], []\n",
    "\n",
    "for train_index, test_index in skf.split(X, y):\n",
    "    index += 1\n",
    "    \n",
    "    x_train_fold, x_test_fold = X.iloc[train_index], X.iloc[test_index] \n",
    "    y_train_fold, y_test_fold = y.iloc[train_index], y.iloc[test_index]\n",
    "    \n",
    "    perplexities.append([])\n",
    "    coherences.append([])\n",
    "    \n",
    "    for model_name, model in models.items():\n",
    "        print(f'-> {index}. {model_name} \\n{\"=\"*100}\\n')\n",
    "        model.fit(x_train_fold, y_train_fold)\n",
    "        \n",
    "        k = model[\"classifier\"].components_.shape[0]\n",
    "        perplexity = model[\"classifier\"].bound_\n",
    "        coherence = calculate_coherence(\n",
    "            w2v_model, \n",
    "            get_top_words(\n",
    "                model[\"classifier\"], \n",
    "                model[\"vectorizer\"], \n",
    "                N_TOP_WORDS\n",
    "            )\n",
    "        )\n",
    "        \n",
    "        perplexities[-1].append(perplexity)\n",
    "        coherences[-1].append(coherence)"
   ]
  },
  {
   "cell_type": "code",
   "execution_count": null,
   "metadata": {
    "id": "x1Jz_zRb0ltz"
   },
   "outputs": [],
   "source": [
    "model_names = list(models.keys())\n",
    "\n",
    "perplexity = pd.DataFrame(data=np.array(perplexities), columns=model_names)\n",
    "coherence = pd.DataFrame(data=np.array(coherences), columns=model_names)\n",
    "\n",
    "perplexity.loc[\"mean\"] = perplexity.mean(0)\n",
    "coherence.loc[\"mean\"] = coherence.mean(0)"
   ]
  },
  {
   "cell_type": "code",
   "execution_count": null,
   "metadata": {},
   "outputs": [],
   "source": [
    "perplexity.head(split_size+1)"
   ]
  },
  {
   "cell_type": "code",
   "execution_count": null,
   "metadata": {},
   "outputs": [],
   "source": [
    "coherence.head(split_size+1)"
   ]
  },
  {
   "cell_type": "code",
   "execution_count": null,
   "metadata": {},
   "outputs": [],
   "source": []
  },
  {
   "cell_type": "code",
   "execution_count": null,
   "metadata": {},
   "outputs": [],
   "source": []
  }
 ],
 "metadata": {
  "colab": {
   "collapsed_sections": [],
   "name": "Recursive word-word inference-colab.ipynb",
   "provenance": []
  },
  "kernelspec": {
   "display_name": "Python 3",
   "language": "python",
   "name": "python3"
  },
  "language_info": {
   "codemirror_mode": {
    "name": "ipython",
    "version": 3
   },
   "file_extension": ".py",
   "mimetype": "text/x-python",
   "name": "python",
   "nbconvert_exporter": "python",
   "pygments_lexer": "ipython3",
   "version": "3.8.5"
  }
 },
 "nbformat": 4,
 "nbformat_minor": 1
}

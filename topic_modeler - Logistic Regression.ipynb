{
 "cells": [
  {
   "cell_type": "code",
   "execution_count": 1,
   "metadata": {},
   "outputs": [],
   "source": [
    "%load_ext autoreload\n",
    "%autoreload 2\n",
    "%matplotlib inline"
   ]
  },
  {
   "cell_type": "markdown",
   "metadata": {},
   "source": [
    "### imports"
   ]
  },
  {
   "cell_type": "code",
   "execution_count": 2,
   "metadata": {},
   "outputs": [
    {
     "name": "stdout",
     "output_type": "stream",
     "text": [
      "Automatically created module for IPython interactive environment\n"
     ]
    }
   ],
   "source": [
    "print(__doc__)\n",
    "\n",
    "import numpy as np\n",
    "import pandas as pd\n",
    "import matplotlib.pyplot as plt\n",
    "\n",
    "from tqdm.notebook import tqdm\n",
    "from sklearn.preprocessing import normalize\n",
    "from sklearn.datasets import fetch_20newsgroups\n",
    "from sklearn.linear_model import LogisticRegression\n",
    "from sklearn.model_selection import train_test_split\n",
    "from sklearn.feature_extraction.text import CountVectorizer"
   ]
  },
  {
   "cell_type": "markdown",
   "metadata": {},
   "source": [
    "### utilities"
   ]
  },
  {
   "cell_type": "code",
   "execution_count": 3,
   "metadata": {},
   "outputs": [],
   "source": [
    "def sigmoid(x):\n",
    "    return 1 / (1 + (np.e**-x))\n",
    "\n",
    "def infer_topic(doc_vector, topic_word_distr):\n",
    "    doc_topic_word_distr = topic_word_distr.copy()\n",
    "    doc_word_freq_norm = (doc_vector > 0).astype(int)\n",
    "#     doc_word_freq_norm = doc_vector / doc_vector.sum() if doc_vector.sum() else 0\n",
    "\n",
    "    for label_class in label_classes:\n",
    "        doc_topic_word_distr[label_class] *= doc_word_freq_norm\n",
    "    \n",
    "    \n",
    "    doc_topic = np.max(doc_topic_word_distr).idxmax()\n",
    "    return doc_topic_word_distr, doc_topic"
   ]
  },
  {
   "cell_type": "markdown",
   "metadata": {},
   "source": [
    "### load dataset"
   ]
  },
  {
   "cell_type": "code",
   "execution_count": 49,
   "metadata": {},
   "outputs": [],
   "source": [
    "# total number of samples needed\n",
    "datasize = 3000\n",
    "\n",
    "# retrieve dataset\n",
    "docs = fetch_20newsgroups(subset='train', shuffle=False, remove=('headers', 'footers', 'quotes'))\n",
    "docs, old_labels, classes = docs.data[:datasize], docs.target[:datasize], docs.target_names"
   ]
  },
  {
   "cell_type": "code",
   "execution_count": 50,
   "metadata": {},
   "outputs": [],
   "source": [
    "# the actual labels as np array\n",
    "old_labels = np.array(old_labels)\n",
    "labels = np.zeros(old_labels.shape, dtype=int)\n",
    "\n",
    "# the new classes\n",
    "label_classes = list(set([x.split('.')[0] for x in classes]))\n",
    "\n",
    "# restructuring classes  from 19 to less\n",
    "for label, cl in enumerate(classes):\n",
    "    labels[old_labels == label] = label_classes.index(cl.split('.')[0])"
   ]
  },
  {
   "cell_type": "code",
   "execution_count": 51,
   "metadata": {},
   "outputs": [
    {
     "name": "stdout",
     "output_type": "stream",
     "text": [
      "there are 3000 docs and 7 classes: ['comp', 'talk', 'alt', 'rec', 'sci', 'soc', 'misc']\n"
     ]
    }
   ],
   "source": [
    "print(f\"there are {len(docs)} docs and {len(label_classes)} classes: {label_classes}\")"
   ]
  },
  {
   "cell_type": "markdown",
   "metadata": {},
   "source": [
    "### clean dataset"
   ]
  },
  {
   "cell_type": "code",
   "execution_count": 52,
   "metadata": {},
   "outputs": [
    {
     "data": {
      "text/plain": [
       "'morgan and guzman will have era s 1 run higher than last year, and  the cubs will be idiots and not pitch harkey as much as hibbard.  castillo won t be good  i think he s a stud pitcher'"
      ]
     },
     "execution_count": 52,
     "metadata": {},
     "output_type": "execute_result"
    }
   ],
   "source": [
    "# clean out the new line characters from text in docs\n",
    "def clean_doc(doc):\n",
    "    ''' remove unwanter characters line new line '''\n",
    "\n",
    "    unwanted_chrs = [')', '(', '{', '}', '\\t', '\\n', '\\r', \"'\", '\"', \"!\"]\n",
    "    doc = doc.lower()\n",
    "    for unwanted_chr in unwanted_chrs:\n",
    "        doc = doc.replace(unwanted_chr, ' ')\n",
    "\n",
    "    return doc.strip()\n",
    "\n",
    "clean_docs = [clean_doc(doc) for doc in docs]\n",
    "clean_docs[0]"
   ]
  },
  {
   "cell_type": "markdown",
   "metadata": {},
   "source": [
    "### count words"
   ]
  },
  {
   "cell_type": "code",
   "execution_count": 53,
   "metadata": {},
   "outputs": [
    {
     "name": "stdout",
     "output_type": "stream",
     "text": [
      "word_count is 37782\n"
     ]
    }
   ],
   "source": [
    "# initialize the count vectorizer\n",
    "count_vectorizer = CountVectorizer()\n",
    "# count_vectorizer = TfidfVectorizer()\n",
    "\n",
    "# fit it to dataset\n",
    "count_vectorizer.fit(clean_docs)\n",
    "vocabulary = count_vectorizer.get_feature_names()\n",
    "\n",
    "print(\"word_count is\", len(vocabulary))"
   ]
  },
  {
   "cell_type": "markdown",
   "metadata": {},
   "source": [
    "### Prepare Datatset"
   ]
  },
  {
   "cell_type": "code",
   "execution_count": 158,
   "metadata": {},
   "outputs": [
    {
     "name": "stdout",
     "output_type": "stream",
     "text": [
      "2010 train_docs, 990 test docs\n"
     ]
    }
   ],
   "source": [
    "# create doc count vectors\n",
    "doc_vectors = count_vectorizer.transform(clean_docs).toarray()\n",
    "doc_vectors = normalize(doc_vectors, norm=\"l1\", axis=1)\n",
    "doc_vectors = normalize(doc_vectors, norm=\"l1\", axis=0)\n",
    "\n",
    "\n",
    "train_doc_vectors, test_doc_vectors, train_labels, test_labels = train_test_split(doc_vectors, labels, test_size=.33, random_state=42)\n",
    "print(f\"{len(train_labels)} train_docs, {len(test_labels)} test docs\")"
   ]
  },
  {
   "cell_type": "code",
   "execution_count": 159,
   "metadata": {},
   "outputs": [
    {
     "name": "stdout",
     "output_type": "stream",
     "text": [
      "document_word_frequency shape is (2010, 37783)\n"
     ]
    }
   ],
   "source": [
    "document_word_frequency = pd.DataFrame(train_doc_vectors, columns=count_vectorizer.get_feature_names())\n",
    "document_word_binary_frequency = (document_word_frequency > 0).astype('int')\n",
    "\n",
    "document_word_frequency[\"__labels__\"] = train_labels\n",
    "document_word_binary_frequency[\"__labels__\"] = train_labels\n",
    "\n",
    "print(\"document_word_frequency shape is\", document_word_frequency.shape)"
   ]
  },
  {
   "cell_type": "code",
   "execution_count": 160,
   "metadata": {},
   "outputs": [
    {
     "name": "stdout",
     "output_type": "stream",
     "text": [
      "there are 3000 docs and 7 classes\n"
     ]
    }
   ],
   "source": [
    "print(f\"there are {len(clean_docs)} docs and {len(label_classes)} classes\")"
   ]
  },
  {
   "cell_type": "code",
   "execution_count": 161,
   "metadata": {
    "scrolled": false
   },
   "outputs": [
    {
     "data": {
      "text/html": [
       "<div>\n",
       "<style scoped>\n",
       "    .dataframe tbody tr th:only-of-type {\n",
       "        vertical-align: middle;\n",
       "    }\n",
       "\n",
       "    .dataframe tbody tr th {\n",
       "        vertical-align: top;\n",
       "    }\n",
       "\n",
       "    .dataframe thead th {\n",
       "        text-align: right;\n",
       "    }\n",
       "</style>\n",
       "<table border=\"1\" class=\"dataframe\">\n",
       "  <thead>\n",
       "    <tr style=\"text-align: right;\">\n",
       "      <th></th>\n",
       "      <th>00</th>\n",
       "      <th>000</th>\n",
       "      <th>0000</th>\n",
       "      <th>00000</th>\n",
       "      <th>00000000</th>\n",
       "      <th>00000000b</th>\n",
       "      <th>00000001</th>\n",
       "      <th>00000001b</th>\n",
       "      <th>00000010</th>\n",
       "      <th>00000010b</th>\n",
       "      <th>...</th>\n",
       "      <th>zurich</th>\n",
       "      <th>zvb</th>\n",
       "      <th>zx</th>\n",
       "      <th>zx900a</th>\n",
       "      <th>zygot</th>\n",
       "      <th>zymmr</th>\n",
       "      <th>zyxel1496b</th>\n",
       "      <th>zzz</th>\n",
       "      <th>zzzzzz</th>\n",
       "      <th>__labels__</th>\n",
       "    </tr>\n",
       "  </thead>\n",
       "  <tbody>\n",
       "    <tr>\n",
       "      <th>0</th>\n",
       "      <td>0.0</td>\n",
       "      <td>0.0</td>\n",
       "      <td>0.0</td>\n",
       "      <td>0.0</td>\n",
       "      <td>0.0</td>\n",
       "      <td>0.0</td>\n",
       "      <td>0.0</td>\n",
       "      <td>0.0</td>\n",
       "      <td>0.0</td>\n",
       "      <td>0.0</td>\n",
       "      <td>...</td>\n",
       "      <td>0.0</td>\n",
       "      <td>0.0</td>\n",
       "      <td>0.0</td>\n",
       "      <td>0.0</td>\n",
       "      <td>0.0</td>\n",
       "      <td>0.0</td>\n",
       "      <td>0.0</td>\n",
       "      <td>0.0</td>\n",
       "      <td>0.0</td>\n",
       "      <td>4</td>\n",
       "    </tr>\n",
       "    <tr>\n",
       "      <th>1</th>\n",
       "      <td>0.0</td>\n",
       "      <td>0.0</td>\n",
       "      <td>0.0</td>\n",
       "      <td>0.0</td>\n",
       "      <td>0.0</td>\n",
       "      <td>0.0</td>\n",
       "      <td>0.0</td>\n",
       "      <td>0.0</td>\n",
       "      <td>0.0</td>\n",
       "      <td>0.0</td>\n",
       "      <td>...</td>\n",
       "      <td>0.0</td>\n",
       "      <td>0.0</td>\n",
       "      <td>0.0</td>\n",
       "      <td>0.0</td>\n",
       "      <td>0.0</td>\n",
       "      <td>0.0</td>\n",
       "      <td>0.0</td>\n",
       "      <td>0.0</td>\n",
       "      <td>0.0</td>\n",
       "      <td>3</td>\n",
       "    </tr>\n",
       "    <tr>\n",
       "      <th>2</th>\n",
       "      <td>0.0</td>\n",
       "      <td>0.0</td>\n",
       "      <td>0.0</td>\n",
       "      <td>0.0</td>\n",
       "      <td>0.0</td>\n",
       "      <td>0.0</td>\n",
       "      <td>0.0</td>\n",
       "      <td>0.0</td>\n",
       "      <td>0.0</td>\n",
       "      <td>0.0</td>\n",
       "      <td>...</td>\n",
       "      <td>0.0</td>\n",
       "      <td>0.0</td>\n",
       "      <td>0.0</td>\n",
       "      <td>0.0</td>\n",
       "      <td>0.0</td>\n",
       "      <td>0.0</td>\n",
       "      <td>0.0</td>\n",
       "      <td>0.0</td>\n",
       "      <td>0.0</td>\n",
       "      <td>4</td>\n",
       "    </tr>\n",
       "    <tr>\n",
       "      <th>3</th>\n",
       "      <td>0.0</td>\n",
       "      <td>0.0</td>\n",
       "      <td>0.0</td>\n",
       "      <td>0.0</td>\n",
       "      <td>0.0</td>\n",
       "      <td>0.0</td>\n",
       "      <td>0.0</td>\n",
       "      <td>0.0</td>\n",
       "      <td>0.0</td>\n",
       "      <td>0.0</td>\n",
       "      <td>...</td>\n",
       "      <td>0.0</td>\n",
       "      <td>0.0</td>\n",
       "      <td>0.0</td>\n",
       "      <td>0.0</td>\n",
       "      <td>0.0</td>\n",
       "      <td>0.0</td>\n",
       "      <td>0.0</td>\n",
       "      <td>0.0</td>\n",
       "      <td>0.0</td>\n",
       "      <td>2</td>\n",
       "    </tr>\n",
       "    <tr>\n",
       "      <th>4</th>\n",
       "      <td>0.0</td>\n",
       "      <td>0.0</td>\n",
       "      <td>0.0</td>\n",
       "      <td>0.0</td>\n",
       "      <td>0.0</td>\n",
       "      <td>0.0</td>\n",
       "      <td>0.0</td>\n",
       "      <td>0.0</td>\n",
       "      <td>0.0</td>\n",
       "      <td>0.0</td>\n",
       "      <td>...</td>\n",
       "      <td>0.0</td>\n",
       "      <td>0.0</td>\n",
       "      <td>0.0</td>\n",
       "      <td>0.0</td>\n",
       "      <td>0.0</td>\n",
       "      <td>0.0</td>\n",
       "      <td>0.0</td>\n",
       "      <td>0.0</td>\n",
       "      <td>0.0</td>\n",
       "      <td>3</td>\n",
       "    </tr>\n",
       "  </tbody>\n",
       "</table>\n",
       "<p>5 rows × 37783 columns</p>\n",
       "</div>"
      ],
      "text/plain": [
       "    00  000  0000  00000  00000000  00000000b  00000001  00000001b  00000010  \\\n",
       "0  0.0  0.0   0.0    0.0       0.0        0.0       0.0        0.0       0.0   \n",
       "1  0.0  0.0   0.0    0.0       0.0        0.0       0.0        0.0       0.0   \n",
       "2  0.0  0.0   0.0    0.0       0.0        0.0       0.0        0.0       0.0   \n",
       "3  0.0  0.0   0.0    0.0       0.0        0.0       0.0        0.0       0.0   \n",
       "4  0.0  0.0   0.0    0.0       0.0        0.0       0.0        0.0       0.0   \n",
       "\n",
       "   00000010b  ...  zurich  zvb   zx  zx900a  zygot  zymmr  zyxel1496b  zzz  \\\n",
       "0        0.0  ...     0.0  0.0  0.0     0.0    0.0    0.0         0.0  0.0   \n",
       "1        0.0  ...     0.0  0.0  0.0     0.0    0.0    0.0         0.0  0.0   \n",
       "2        0.0  ...     0.0  0.0  0.0     0.0    0.0    0.0         0.0  0.0   \n",
       "3        0.0  ...     0.0  0.0  0.0     0.0    0.0    0.0         0.0  0.0   \n",
       "4        0.0  ...     0.0  0.0  0.0     0.0    0.0    0.0         0.0  0.0   \n",
       "\n",
       "   zzzzzz  __labels__  \n",
       "0     0.0           4  \n",
       "1     0.0           3  \n",
       "2     0.0           4  \n",
       "3     0.0           2  \n",
       "4     0.0           3  \n",
       "\n",
       "[5 rows x 37783 columns]"
      ]
     },
     "execution_count": 161,
     "metadata": {},
     "output_type": "execute_result"
    }
   ],
   "source": [
    "document_word_frequency.head()"
   ]
  },
  {
   "cell_type": "code",
   "execution_count": 162,
   "metadata": {},
   "outputs": [
    {
     "data": {
      "text/html": [
       "<div>\n",
       "<style scoped>\n",
       "    .dataframe tbody tr th:only-of-type {\n",
       "        vertical-align: middle;\n",
       "    }\n",
       "\n",
       "    .dataframe tbody tr th {\n",
       "        vertical-align: top;\n",
       "    }\n",
       "\n",
       "    .dataframe thead th {\n",
       "        text-align: right;\n",
       "    }\n",
       "</style>\n",
       "<table border=\"1\" class=\"dataframe\">\n",
       "  <thead>\n",
       "    <tr style=\"text-align: right;\">\n",
       "      <th></th>\n",
       "      <th>00</th>\n",
       "      <th>000</th>\n",
       "      <th>0000</th>\n",
       "      <th>00000</th>\n",
       "      <th>00000000</th>\n",
       "      <th>00000000b</th>\n",
       "      <th>00000001</th>\n",
       "      <th>00000001b</th>\n",
       "      <th>00000010</th>\n",
       "      <th>00000010b</th>\n",
       "      <th>...</th>\n",
       "      <th>zurich</th>\n",
       "      <th>zvb</th>\n",
       "      <th>zx</th>\n",
       "      <th>zx900a</th>\n",
       "      <th>zygot</th>\n",
       "      <th>zymmr</th>\n",
       "      <th>zyxel1496b</th>\n",
       "      <th>zzz</th>\n",
       "      <th>zzzzzz</th>\n",
       "      <th>__labels__</th>\n",
       "    </tr>\n",
       "  </thead>\n",
       "  <tbody>\n",
       "    <tr>\n",
       "      <th>0</th>\n",
       "      <td>0</td>\n",
       "      <td>0</td>\n",
       "      <td>0</td>\n",
       "      <td>0</td>\n",
       "      <td>0</td>\n",
       "      <td>0</td>\n",
       "      <td>0</td>\n",
       "      <td>0</td>\n",
       "      <td>0</td>\n",
       "      <td>0</td>\n",
       "      <td>...</td>\n",
       "      <td>0</td>\n",
       "      <td>0</td>\n",
       "      <td>0</td>\n",
       "      <td>0</td>\n",
       "      <td>0</td>\n",
       "      <td>0</td>\n",
       "      <td>0</td>\n",
       "      <td>0</td>\n",
       "      <td>0</td>\n",
       "      <td>4</td>\n",
       "    </tr>\n",
       "    <tr>\n",
       "      <th>1</th>\n",
       "      <td>0</td>\n",
       "      <td>0</td>\n",
       "      <td>0</td>\n",
       "      <td>0</td>\n",
       "      <td>0</td>\n",
       "      <td>0</td>\n",
       "      <td>0</td>\n",
       "      <td>0</td>\n",
       "      <td>0</td>\n",
       "      <td>0</td>\n",
       "      <td>...</td>\n",
       "      <td>0</td>\n",
       "      <td>0</td>\n",
       "      <td>0</td>\n",
       "      <td>0</td>\n",
       "      <td>0</td>\n",
       "      <td>0</td>\n",
       "      <td>0</td>\n",
       "      <td>0</td>\n",
       "      <td>0</td>\n",
       "      <td>3</td>\n",
       "    </tr>\n",
       "    <tr>\n",
       "      <th>2</th>\n",
       "      <td>0</td>\n",
       "      <td>0</td>\n",
       "      <td>0</td>\n",
       "      <td>0</td>\n",
       "      <td>0</td>\n",
       "      <td>0</td>\n",
       "      <td>0</td>\n",
       "      <td>0</td>\n",
       "      <td>0</td>\n",
       "      <td>0</td>\n",
       "      <td>...</td>\n",
       "      <td>0</td>\n",
       "      <td>0</td>\n",
       "      <td>0</td>\n",
       "      <td>0</td>\n",
       "      <td>0</td>\n",
       "      <td>0</td>\n",
       "      <td>0</td>\n",
       "      <td>0</td>\n",
       "      <td>0</td>\n",
       "      <td>4</td>\n",
       "    </tr>\n",
       "    <tr>\n",
       "      <th>3</th>\n",
       "      <td>0</td>\n",
       "      <td>0</td>\n",
       "      <td>0</td>\n",
       "      <td>0</td>\n",
       "      <td>0</td>\n",
       "      <td>0</td>\n",
       "      <td>0</td>\n",
       "      <td>0</td>\n",
       "      <td>0</td>\n",
       "      <td>0</td>\n",
       "      <td>...</td>\n",
       "      <td>0</td>\n",
       "      <td>0</td>\n",
       "      <td>0</td>\n",
       "      <td>0</td>\n",
       "      <td>0</td>\n",
       "      <td>0</td>\n",
       "      <td>0</td>\n",
       "      <td>0</td>\n",
       "      <td>0</td>\n",
       "      <td>2</td>\n",
       "    </tr>\n",
       "    <tr>\n",
       "      <th>4</th>\n",
       "      <td>0</td>\n",
       "      <td>0</td>\n",
       "      <td>0</td>\n",
       "      <td>0</td>\n",
       "      <td>0</td>\n",
       "      <td>0</td>\n",
       "      <td>0</td>\n",
       "      <td>0</td>\n",
       "      <td>0</td>\n",
       "      <td>0</td>\n",
       "      <td>...</td>\n",
       "      <td>0</td>\n",
       "      <td>0</td>\n",
       "      <td>0</td>\n",
       "      <td>0</td>\n",
       "      <td>0</td>\n",
       "      <td>0</td>\n",
       "      <td>0</td>\n",
       "      <td>0</td>\n",
       "      <td>0</td>\n",
       "      <td>3</td>\n",
       "    </tr>\n",
       "  </tbody>\n",
       "</table>\n",
       "<p>5 rows × 37783 columns</p>\n",
       "</div>"
      ],
      "text/plain": [
       "   00  000  0000  00000  00000000  00000000b  00000001  00000001b  00000010  \\\n",
       "0   0    0     0      0         0          0         0          0         0   \n",
       "1   0    0     0      0         0          0         0          0         0   \n",
       "2   0    0     0      0         0          0         0          0         0   \n",
       "3   0    0     0      0         0          0         0          0         0   \n",
       "4   0    0     0      0         0          0         0          0         0   \n",
       "\n",
       "   00000010b  ...  zurich  zvb  zx  zx900a  zygot  zymmr  zyxel1496b  zzz  \\\n",
       "0          0  ...       0    0   0       0      0      0           0    0   \n",
       "1          0  ...       0    0   0       0      0      0           0    0   \n",
       "2          0  ...       0    0   0       0      0      0           0    0   \n",
       "3          0  ...       0    0   0       0      0      0           0    0   \n",
       "4          0  ...       0    0   0       0      0      0           0    0   \n",
       "\n",
       "   zzzzzz  __labels__  \n",
       "0       0           4  \n",
       "1       0           3  \n",
       "2       0           4  \n",
       "3       0           2  \n",
       "4       0           3  \n",
       "\n",
       "[5 rows x 37783 columns]"
      ]
     },
     "execution_count": 162,
     "metadata": {},
     "output_type": "execute_result"
    }
   ],
   "source": [
    "document_word_binary_frequency.head()"
   ]
  },
  {
   "cell_type": "markdown",
   "metadata": {},
   "source": [
    "### Prepare Binary Dataset"
   ]
  },
  {
   "cell_type": "code",
   "execution_count": 163,
   "metadata": {
    "scrolled": true
   },
   "outputs": [],
   "source": [
    "#reduce freq in doc to bin value of 1 or 0\n",
    "# word_doc_binary_freqency = document_word_binary_frequency.drop([\"__labels__\"], axis='columns')\n",
    "word_doc_binary_freqency = document_word_frequency.drop([\"__labels__\"], axis='columns')\n",
    "\n",
    "#the sum vertically of bin freq\n",
    "word_doc_frequency = word_doc_binary_freqency.sum(0) "
   ]
  },
  {
   "cell_type": "markdown",
   "metadata": {},
   "source": [
    "### Topic and word corelation"
   ]
  },
  {
   "cell_type": "code",
   "execution_count": 164,
   "metadata": {},
   "outputs": [
    {
     "name": "stdout",
     "output_type": "stream",
     "text": [
      "topic_word_distr has shape (37782, 7)\n"
     ]
    }
   ],
   "source": [
    "topic_word_distr = pd.DataFrame(data=0.0, columns=label_classes, index=vocabulary)\n",
    "\n",
    "for topic, label in enumerate(label_classes):\n",
    "    word_topic_frequency = word_doc_binary_freqency[document_word_frequency['__labels__'] == topic].sum(0)\n",
    "    trust_factor = sigmoid(word_doc_frequency)\n",
    "    \n",
    "    topic_word_distr[label] = ((word_topic_frequency * trust_factor) / word_doc_frequency).fillna(0)\n",
    "    \n",
    "print(f\"topic_word_distr has shape {topic_word_distr.shape}\")"
   ]
  },
  {
   "cell_type": "code",
   "execution_count": 165,
   "metadata": {},
   "outputs": [
    {
     "data": {
      "text/html": [
       "<div>\n",
       "<style scoped>\n",
       "    .dataframe tbody tr th:only-of-type {\n",
       "        vertical-align: middle;\n",
       "    }\n",
       "\n",
       "    .dataframe tbody tr th {\n",
       "        vertical-align: top;\n",
       "    }\n",
       "\n",
       "    .dataframe thead th {\n",
       "        text-align: right;\n",
       "    }\n",
       "</style>\n",
       "<table border=\"1\" class=\"dataframe\">\n",
       "  <thead>\n",
       "    <tr style=\"text-align: right;\">\n",
       "      <th></th>\n",
       "      <th>comp</th>\n",
       "      <th>talk</th>\n",
       "      <th>alt</th>\n",
       "      <th>rec</th>\n",
       "      <th>sci</th>\n",
       "      <th>soc</th>\n",
       "      <th>misc</th>\n",
       "    </tr>\n",
       "  </thead>\n",
       "  <tbody>\n",
       "    <tr>\n",
       "      <th>00</th>\n",
       "      <td>0.058109</td>\n",
       "      <td>0.053486</td>\n",
       "      <td>0.000000</td>\n",
       "      <td>0.106384</td>\n",
       "      <td>0.045255</td>\n",
       "      <td>0.0</td>\n",
       "      <td>0.417655</td>\n",
       "    </tr>\n",
       "    <tr>\n",
       "      <th>000</th>\n",
       "      <td>0.007595</td>\n",
       "      <td>0.157271</td>\n",
       "      <td>0.030498</td>\n",
       "      <td>0.337858</td>\n",
       "      <td>0.055730</td>\n",
       "      <td>0.0</td>\n",
       "      <td>0.107640</td>\n",
       "    </tr>\n",
       "    <tr>\n",
       "      <th>0000</th>\n",
       "      <td>0.000000</td>\n",
       "      <td>0.000000</td>\n",
       "      <td>0.000000</td>\n",
       "      <td>0.000000</td>\n",
       "      <td>0.000000</td>\n",
       "      <td>0.0</td>\n",
       "      <td>0.000000</td>\n",
       "    </tr>\n",
       "    <tr>\n",
       "      <th>00000</th>\n",
       "      <td>0.000000</td>\n",
       "      <td>0.000000</td>\n",
       "      <td>0.000000</td>\n",
       "      <td>0.000000</td>\n",
       "      <td>0.000000</td>\n",
       "      <td>0.0</td>\n",
       "      <td>0.000000</td>\n",
       "    </tr>\n",
       "    <tr>\n",
       "      <th>00000000</th>\n",
       "      <td>0.000000</td>\n",
       "      <td>0.000000</td>\n",
       "      <td>0.000000</td>\n",
       "      <td>0.000000</td>\n",
       "      <td>0.731059</td>\n",
       "      <td>0.0</td>\n",
       "      <td>0.000000</td>\n",
       "    </tr>\n",
       "  </tbody>\n",
       "</table>\n",
       "</div>"
      ],
      "text/plain": [
       "              comp      talk       alt       rec       sci  soc      misc\n",
       "00        0.058109  0.053486  0.000000  0.106384  0.045255  0.0  0.417655\n",
       "000       0.007595  0.157271  0.030498  0.337858  0.055730  0.0  0.107640\n",
       "0000      0.000000  0.000000  0.000000  0.000000  0.000000  0.0  0.000000\n",
       "00000     0.000000  0.000000  0.000000  0.000000  0.000000  0.0  0.000000\n",
       "00000000  0.000000  0.000000  0.000000  0.000000  0.731059  0.0  0.000000"
      ]
     },
     "execution_count": 165,
     "metadata": {},
     "output_type": "execute_result"
    }
   ],
   "source": [
    "topic_word_distr.head()"
   ]
  },
  {
   "cell_type": "code",
   "execution_count": 166,
   "metadata": {},
   "outputs": [
    {
     "data": {
      "text/plain": [
       "['comp', 'talk', 'alt', 'rec', 'sci', 'soc', 'misc']"
      ]
     },
     "execution_count": 166,
     "metadata": {},
     "output_type": "execute_result"
    }
   ],
   "source": [
    "label_classes"
   ]
  },
  {
   "cell_type": "code",
   "execution_count": 167,
   "metadata": {
    "scrolled": true
   },
   "outputs": [
    {
     "data": {
      "text/plain": [
       "zyxel1496b    0.731059\n",
       "hiccup        0.731059\n",
       "hds           0.731059\n",
       "hdt           0.731059\n",
       "hdu           0.731059\n",
       "                ...   \n",
       "safety        0.000344\n",
       "dr            0.000322\n",
       "house         0.000313\n",
       "evidence      0.000262\n",
       "beat          0.000233\n",
       "Name: comp, Length: 11015, dtype: float64"
      ]
     },
     "execution_count": 167,
     "metadata": {},
     "output_type": "execute_result"
    }
   ],
   "source": [
    "label_class = 'comp'\n",
    "topic_word_distr[label_class][topic_word_distr[label_class] > 0].sort_values(ascending=False)"
   ]
  },
  {
   "cell_type": "code",
   "execution_count": 168,
   "metadata": {
    "scrolled": true
   },
   "outputs": [
    {
     "data": {
      "text/plain": [
       "sci     0.160480\n",
       "comp    0.151761\n",
       "rec     0.142749\n",
       "talk    0.124923\n",
       "soc     0.034441\n",
       "alt     0.028705\n",
       "misc    0.018538\n",
       "Name: the, dtype: float64"
      ]
     },
     "execution_count": 168,
     "metadata": {},
     "output_type": "execute_result"
    }
   ],
   "source": [
    "word=\"the\"\n",
    "topic_word_distr.loc[word].sort_values(ascending=False)"
   ]
  },
  {
   "cell_type": "code",
   "execution_count": 169,
   "metadata": {},
   "outputs": [
    {
     "data": {
      "image/png": "[encoded data removed]",
      "text/plain": [
       "<Figure size 432x288 with 1 Axes>"
      ]
     },
     "metadata": {
      "needs_background": "light"
     },
     "output_type": "display_data"
    }
   ],
   "source": [
    "plt.title(f\"{word} against TOPICS\")\n",
    "plt.bar(topic_word_distr.loc[word].index, topic_word_distr.loc[word])\n",
    "plt.show()"
   ]
  },
  {
   "cell_type": "markdown",
   "metadata": {},
   "source": [
    "### Evaluate Topic model with Train set"
   ]
  },
  {
   "cell_type": "code",
   "execution_count": 170,
   "metadata": {},
   "outputs": [
    {
     "name": "stdout",
     "output_type": "stream",
     "text": [
      "Evaluating Topic Model...\n"
     ]
    },
    {
     "data": {
      "application/vnd.jupyter.widget-view+json": {
       "model_id": "58241055d5ce4bf0a04a0ebcda8c6075",
       "version_major": 2,
       "version_minor": 0
      },
      "text/plain": [
       "HBox(children=(FloatProgress(value=0.0, max=2010.0), HTML(value='')))"
      ]
     },
     "metadata": {},
     "output_type": "display_data"
    },
    {
     "name": "stdout",
     "output_type": "stream",
     "text": [
      "\n",
      "==> train-accuracy is 97.36%\n",
      "\n"
     ]
    }
   ],
   "source": [
    "score = 0\n",
    "print(\"Evaluating Topic Model...\")\n",
    "for doc_index in tqdm(range(len(train_labels))):\n",
    "    doc_vector = train_doc_vectors[doc_index]\n",
    "    \n",
    "    doc_topic_word_distr, doc_topic = infer_topic(doc_vector, topic_word_distr)\n",
    "    score += int(doc_topic == label_classes[train_labels[doc_index]])\n",
    "    \n",
    "    if score:\n",
    "        continue\n",
    "    \n",
    "#     print(clean_docs[len(train_labels)+doc_index])\n",
    "#     print(\"{:8s} {:16s} {:6s}\".format(\"topic\", \"word\", \"relation\"))\n",
    "#     print(\"=\"*40)\n",
    "#     for label, word in doc_topic_word_distr.idxmax().items():\n",
    "#         print(\"{:8s} {:16s} {:.4f}\".format(label, word, doc_topic_word_distr[label][word]))\n",
    "\n",
    "#     print(f\"\\nthe topic predicted is ==> '{np.max(doc_topic_word_distr).idxmax()}'\")\n",
    "#     print(f\"the actual topic is ==> '{label_classes[labels[doc_index]]}'\")\n",
    "\n",
    "accuracy = score / (doc_index + 1)\n",
    "print(f\"==> train-accuracy is {accuracy*100:.2f}%\\n\")"
   ]
  },
  {
   "cell_type": "markdown",
   "metadata": {},
   "source": [
    "### Evaluating Topic Model with test set"
   ]
  },
  {
   "cell_type": "code",
   "execution_count": 171,
   "metadata": {
    "scrolled": true
   },
   "outputs": [
    {
     "name": "stdout",
     "output_type": "stream",
     "text": [
      "Evaluating Topic Model...\n"
     ]
    },
    {
     "data": {
      "application/vnd.jupyter.widget-view+json": {
       "model_id": "8300eec198a841ca809a6f5a512d15ec",
       "version_major": 2,
       "version_minor": 0
      },
      "text/plain": [
       "HBox(children=(FloatProgress(value=0.0, max=990.0), HTML(value='')))"
      ]
     },
     "metadata": {},
     "output_type": "display_data"
    },
    {
     "name": "stdout",
     "output_type": "stream",
     "text": [
      "\n",
      "==> test-accuracy is 62.83%\n",
      "\n"
     ]
    }
   ],
   "source": [
    "score = 0\n",
    "print(\"Evaluating Topic Model...\")\n",
    "for doc_index in tqdm(range(len(test_labels))):\n",
    "    doc_vector = test_doc_vectors[doc_index]\n",
    "    \n",
    "    doc_topic_word_distr, doc_topic = infer_topic(doc_vector, topic_word_distr)\n",
    "    score += int(doc_topic == label_classes[test_labels[doc_index]])\n",
    "    \n",
    "    if score:\n",
    "        continue\n",
    "    \n",
    "#     print(clean_docs[len(train_labels)+doc_index])\n",
    "#     print(\"{:8s} {:16s} {:6s}\".format(\"topic\", \"word\", \"relation\"))\n",
    "#     print(\"=\"*40)\n",
    "#     for label, word in doc_topic_word_distr.idxmax().items():\n",
    "#         print(\"{:8s} {:16s} {:.4f}\".format(label, word, doc_topic_word_distr[label][word]))\n",
    "\n",
    "#     print(f\"\\nthe topic predicted is ==> '{np.max(doc_topic_word_distr).idxmax()}'\")\n",
    "#     print(f\"the actual topic is ==> '{label_classes[labels[doc_index]]}'\")\n",
    "\n",
    "accuracy = score / (doc_index + 1)\n",
    "print(f\"==> test-accuracy is {accuracy*100:.2f}%\\n\")"
   ]
  },
  {
   "cell_type": "markdown",
   "metadata": {},
   "source": [
    "### Using Logistic Regression to Learn Topic Model"
   ]
  },
  {
   "cell_type": "code",
   "execution_count": 172,
   "metadata": {},
   "outputs": [
    {
     "name": "stdout",
     "output_type": "stream",
     "text": [
      "2010 training sample(s), 990 test sample(s)\n"
     ]
    }
   ],
   "source": [
    "logistic_regression_model = LogisticRegression(\n",
    "    random_state=0, \n",
    "    fit_intercept=False,\n",
    "#     multi_class=\"multinomial\", \n",
    "#     solver=\"lbfgs\"\n",
    ").fit(train_doc_vectors, train_labels)\n",
    "\n",
    "print(f\"{len(train_labels)} training sample(s), {len(test_labels)} test sample(s)\")"
   ]
  },
  {
   "cell_type": "code",
   "execution_count": 173,
   "metadata": {},
   "outputs": [
    {
     "name": "stdout",
     "output_type": "stream",
     "text": [
      "training_accuarcy = 97.86%, test_accuarcy = 67.88%\n"
     ]
    }
   ],
   "source": [
    "train_accuracy = logistic_regression_model.score(train_doc_vectors, train_labels)\n",
    "test_accuracy = logistic_regression_model.score(test_doc_vectors, test_labels)\n",
    "\n",
    "print(f\"training_accuarcy = {train_accuracy*100:.2f}%, test_accuarcy = {test_accuracy*100:.2f}%\")"
   ]
  },
  {
   "cell_type": "code",
   "execution_count": 174,
   "metadata": {
    "scrolled": true
   },
   "outputs": [
    {
     "data": {
      "text/plain": [
       "array(['f550iw', 'xtvaappinitialize', 'xrpc', ..., 'continuin', 'eeg',\n",
       "       'intrepid'], dtype='<U79')"
      ]
     },
     "execution_count": 174,
     "metadata": {},
     "output_type": "execute_result"
    }
   ],
   "source": [
    "label_class = 'comp'\n",
    "np.array(vocabulary)[logistic_regression_model.coef_[label_classes.index(label_class)].argsort()][::-1]"
   ]
  },
  {
   "cell_type": "code",
   "execution_count": 175,
   "metadata": {
    "scrolled": true
   },
   "outputs": [
    {
     "data": {
      "text/plain": [
       "comp    0.399219\n",
       "misc   -0.049290\n",
       "soc    -0.068211\n",
       "alt    -0.068306\n",
       "talk   -0.070830\n",
       "rec    -0.071247\n",
       "sci    -0.071335\n",
       "Name: 0, dtype: float64"
      ]
     },
     "execution_count": 175,
     "metadata": {},
     "output_type": "execute_result"
    }
   ],
   "source": [
    "word=\"keyboard\"\n",
    "relation = pd.DataFrame(data=logistic_regression_model.coef_[:, vocabulary.index(word)].reshape((1,7)), columns=label_classes).T[0]\n",
    "relation.sort_values(ascending=False)"
   ]
  },
  {
   "cell_type": "code",
   "execution_count": 176,
   "metadata": {},
   "outputs": [
    {
     "data": {
      "image/png": "[encoded data removed]",
      "text/plain": [
       "<Figure size 432x288 with 1 Axes>"
      ]
     },
     "metadata": {
      "needs_background": "light"
     },
     "output_type": "display_data"
    }
   ],
   "source": [
    "plt.title(f\"{word} against TOPICS\")\n",
    "plt.bar(relation.index, relation)\n",
    "plt.show()"
   ]
  },
  {
   "cell_type": "code",
   "execution_count": null,
   "metadata": {},
   "outputs": [],
   "source": [
    "#find if U"
   ]
  },
  {
   "cell_type": "code",
   "execution_count": 178,
   "metadata": {},
   "outputs": [
    {
     "name": "stdout",
     "output_type": "stream",
     "text": [
      "78.57\n",
      "71.24000000000001\n",
      "67.675\n",
      "80.095\n",
      "81.67\n",
      "39.2\n",
      "80.39500000000001\n",
      "82.87\n",
      "79.52\n",
      "79.52\n",
      "79.52\n",
      "79.52\n"
     ]
    }
   ],
   "source": []
  },
  {
   "cell_type": "code",
   "execution_count": null,
   "metadata": {},
   "outputs": [],
   "source": []
  }
 ],
 "metadata": {
  "kernelspec": {
   "display_name": "Python 3",
   "language": "python",
   "name": "python3"
  },
  "language_info": {
   "codemirror_mode": {
    "name": "ipython",
    "version": 3
   },
   "file_extension": ".py",
   "mimetype": "text/x-python",
   "name": "python",
   "nbconvert_exporter": "python",
   "pygments_lexer": "ipython3",
   "version": "3.7.2"
  }
 },
 "nbformat": 4,
 "nbformat_minor": 2
}
